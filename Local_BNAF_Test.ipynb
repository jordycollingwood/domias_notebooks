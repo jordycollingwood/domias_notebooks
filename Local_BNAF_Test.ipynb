{
 "cells": [
  {
   "cell_type": "code",
   "execution_count": 1,
   "metadata": {},
   "outputs": [],
   "source": [
    "# import geomloss"
   ]
  },
  {
   "cell_type": "code",
   "execution_count": 4,
   "metadata": {},
   "outputs": [],
   "source": [
    "import pandas as pd\n",
    "from sdv.single_table import TVAESynthesizer\n",
    "\n",
    "from domias.evaluator import evaluate_performance\n",
    "from domias.models.generator import GeneratorInterface\n",
    "from domias.models.ctgan import CTGAN\n",
    "\n",
    "\n",
    "\n",
    "from scipy import stats\n",
    "from scipy.stats import multivariate_normal\n",
    "\n",
    "\n",
    "import numpy as np\n",
    "\n",
    "from sklearn.preprocessing import StandardScaler\n",
    "from sklearn.datasets import fetch_california_housing, fetch_covtype, load_digits\n",
    "\n",
    "import warnings\n",
    "warnings.filterwarnings(\"ignore\")"
   ]
  },
  {
   "cell_type": "code",
   "execution_count": 5,
   "metadata": {},
   "outputs": [
    {
     "data": {
      "text/html": [
       "<div>\n",
       "<style scoped>\n",
       "    .dataframe tbody tr th:only-of-type {\n",
       "        vertical-align: middle;\n",
       "    }\n",
       "\n",
       "    .dataframe tbody tr th {\n",
       "        vertical-align: top;\n",
       "    }\n",
       "\n",
       "    .dataframe thead th {\n",
       "        text-align: right;\n",
       "    }\n",
       "</style>\n",
       "<table border=\"1\" class=\"dataframe\">\n",
       "  <thead>\n",
       "    <tr style=\"text-align: right;\">\n",
       "      <th></th>\n",
       "      <th>ID</th>\n",
       "      <th>LIMIT_BAL</th>\n",
       "      <th>SEX</th>\n",
       "      <th>EDUCATION</th>\n",
       "      <th>MARRIAGE</th>\n",
       "      <th>AGE</th>\n",
       "      <th>PAY_0</th>\n",
       "      <th>PAY_2</th>\n",
       "      <th>PAY_3</th>\n",
       "      <th>PAY_4</th>\n",
       "      <th>...</th>\n",
       "      <th>BILL_AMT4</th>\n",
       "      <th>BILL_AMT5</th>\n",
       "      <th>BILL_AMT6</th>\n",
       "      <th>PAY_AMT1</th>\n",
       "      <th>PAY_AMT2</th>\n",
       "      <th>PAY_AMT3</th>\n",
       "      <th>PAY_AMT4</th>\n",
       "      <th>PAY_AMT5</th>\n",
       "      <th>PAY_AMT6</th>\n",
       "      <th>default.payment.next.month</th>\n",
       "    </tr>\n",
       "  </thead>\n",
       "  <tbody>\n",
       "    <tr>\n",
       "      <th>0</th>\n",
       "      <td>1</td>\n",
       "      <td>20000.0</td>\n",
       "      <td>2</td>\n",
       "      <td>2</td>\n",
       "      <td>1</td>\n",
       "      <td>24</td>\n",
       "      <td>2</td>\n",
       "      <td>2</td>\n",
       "      <td>-1</td>\n",
       "      <td>-1</td>\n",
       "      <td>...</td>\n",
       "      <td>0.0</td>\n",
       "      <td>0.0</td>\n",
       "      <td>0.0</td>\n",
       "      <td>0.0</td>\n",
       "      <td>689.0</td>\n",
       "      <td>0.0</td>\n",
       "      <td>0.0</td>\n",
       "      <td>0.0</td>\n",
       "      <td>0.0</td>\n",
       "      <td>1</td>\n",
       "    </tr>\n",
       "    <tr>\n",
       "      <th>1</th>\n",
       "      <td>2</td>\n",
       "      <td>120000.0</td>\n",
       "      <td>2</td>\n",
       "      <td>2</td>\n",
       "      <td>2</td>\n",
       "      <td>26</td>\n",
       "      <td>-1</td>\n",
       "      <td>2</td>\n",
       "      <td>0</td>\n",
       "      <td>0</td>\n",
       "      <td>...</td>\n",
       "      <td>3272.0</td>\n",
       "      <td>3455.0</td>\n",
       "      <td>3261.0</td>\n",
       "      <td>0.0</td>\n",
       "      <td>1000.0</td>\n",
       "      <td>1000.0</td>\n",
       "      <td>1000.0</td>\n",
       "      <td>0.0</td>\n",
       "      <td>2000.0</td>\n",
       "      <td>1</td>\n",
       "    </tr>\n",
       "    <tr>\n",
       "      <th>2</th>\n",
       "      <td>3</td>\n",
       "      <td>90000.0</td>\n",
       "      <td>2</td>\n",
       "      <td>2</td>\n",
       "      <td>2</td>\n",
       "      <td>34</td>\n",
       "      <td>0</td>\n",
       "      <td>0</td>\n",
       "      <td>0</td>\n",
       "      <td>0</td>\n",
       "      <td>...</td>\n",
       "      <td>14331.0</td>\n",
       "      <td>14948.0</td>\n",
       "      <td>15549.0</td>\n",
       "      <td>1518.0</td>\n",
       "      <td>1500.0</td>\n",
       "      <td>1000.0</td>\n",
       "      <td>1000.0</td>\n",
       "      <td>1000.0</td>\n",
       "      <td>5000.0</td>\n",
       "      <td>0</td>\n",
       "    </tr>\n",
       "    <tr>\n",
       "      <th>3</th>\n",
       "      <td>4</td>\n",
       "      <td>50000.0</td>\n",
       "      <td>2</td>\n",
       "      <td>2</td>\n",
       "      <td>1</td>\n",
       "      <td>37</td>\n",
       "      <td>0</td>\n",
       "      <td>0</td>\n",
       "      <td>0</td>\n",
       "      <td>0</td>\n",
       "      <td>...</td>\n",
       "      <td>28314.0</td>\n",
       "      <td>28959.0</td>\n",
       "      <td>29547.0</td>\n",
       "      <td>2000.0</td>\n",
       "      <td>2019.0</td>\n",
       "      <td>1200.0</td>\n",
       "      <td>1100.0</td>\n",
       "      <td>1069.0</td>\n",
       "      <td>1000.0</td>\n",
       "      <td>0</td>\n",
       "    </tr>\n",
       "    <tr>\n",
       "      <th>4</th>\n",
       "      <td>5</td>\n",
       "      <td>50000.0</td>\n",
       "      <td>1</td>\n",
       "      <td>2</td>\n",
       "      <td>1</td>\n",
       "      <td>57</td>\n",
       "      <td>-1</td>\n",
       "      <td>0</td>\n",
       "      <td>-1</td>\n",
       "      <td>0</td>\n",
       "      <td>...</td>\n",
       "      <td>20940.0</td>\n",
       "      <td>19146.0</td>\n",
       "      <td>19131.0</td>\n",
       "      <td>2000.0</td>\n",
       "      <td>36681.0</td>\n",
       "      <td>10000.0</td>\n",
       "      <td>9000.0</td>\n",
       "      <td>689.0</td>\n",
       "      <td>679.0</td>\n",
       "      <td>0</td>\n",
       "    </tr>\n",
       "  </tbody>\n",
       "</table>\n",
       "<p>5 rows × 25 columns</p>\n",
       "</div>"
      ],
      "text/plain": [
       "   ID  LIMIT_BAL  SEX  EDUCATION  MARRIAGE  AGE  PAY_0  PAY_2  PAY_3  PAY_4  \\\n",
       "0   1    20000.0    2          2         1   24      2      2     -1     -1   \n",
       "1   2   120000.0    2          2         2   26     -1      2      0      0   \n",
       "2   3    90000.0    2          2         2   34      0      0      0      0   \n",
       "3   4    50000.0    2          2         1   37      0      0      0      0   \n",
       "4   5    50000.0    1          2         1   57     -1      0     -1      0   \n",
       "\n",
       "   ...  BILL_AMT4  BILL_AMT5  BILL_AMT6  PAY_AMT1  PAY_AMT2  PAY_AMT3  \\\n",
       "0  ...        0.0        0.0        0.0       0.0     689.0       0.0   \n",
       "1  ...     3272.0     3455.0     3261.0       0.0    1000.0    1000.0   \n",
       "2  ...    14331.0    14948.0    15549.0    1518.0    1500.0    1000.0   \n",
       "3  ...    28314.0    28959.0    29547.0    2000.0    2019.0    1200.0   \n",
       "4  ...    20940.0    19146.0    19131.0    2000.0   36681.0   10000.0   \n",
       "\n",
       "   PAY_AMT4  PAY_AMT5  PAY_AMT6  default.payment.next.month  \n",
       "0       0.0       0.0       0.0                           1  \n",
       "1    1000.0       0.0    2000.0                           1  \n",
       "2    1000.0    1000.0    5000.0                           0  \n",
       "3    1100.0    1069.0    1000.0                           0  \n",
       "4    9000.0     689.0     679.0                           0  \n",
       "\n",
       "[5 rows x 25 columns]"
      ]
     },
     "execution_count": 5,
     "metadata": {},
     "output_type": "execute_result"
    }
   ],
   "source": [
    "df_uci = pd.read_csv(r'C:\\Users\\jordy\\OneDrive\\MSc_Python\\Individual_Project\\Data\\UCI_Credit_Card.csv')\n",
    "df_uci.head()"
   ]
  },
  {
   "cell_type": "code",
   "execution_count": 6,
   "metadata": {},
   "outputs": [
    {
     "data": {
      "text/plain": [
       "(30000, 23)"
      ]
     },
     "execution_count": 6,
     "metadata": {},
     "output_type": "execute_result"
    }
   ],
   "source": [
    "#convert dataframe to array\n",
    "arr_uci = np.array(df_uci.iloc[:, 1:-1])\n",
    "arr_uci.shape"
   ]
  },
  {
   "cell_type": "code",
   "execution_count": 7,
   "metadata": {},
   "outputs": [],
   "source": [
    "def get_dataset() -> np.ndarray:\n",
    "    def data_loader() -> np.ndarray:\n",
    "        scaler = StandardScaler()\n",
    "        X =arr_uci\n",
    "        np.random.shuffle(X)\n",
    "        return scaler.fit_transform(X)\n",
    "\n",
    "    return data_loader()"
   ]
  },
  {
   "cell_type": "code",
   "execution_count": 8,
   "metadata": {
    "scrolled": true
   },
   "outputs": [
    {
     "name": "stderr",
     "output_type": "stream",
     "text": [
      "\r",
      "  0%|                                                     | 0/4 [00:00<?, ?it/s]"
     ]
    },
    {
     "name": "stdout",
     "output_type": "stream",
     "text": [
      "Loading dataset..\n",
      "Creating directory experiment..\n",
      "Creating BNAF model..\n",
      "Creating optimizer..\n",
      "Creating scheduler..\n",
      "Training..\n"
     ]
    },
    {
     "name": "stderr",
     "output_type": "stream",
     "text": [
      "100%|████████████████████████████████| 4/4 [00:01<00:00,  2.31it/s, loss=160.52]\n",
      "  0%|                                                     | 0/4 [00:00<?, ?it/s]"
     ]
    },
    {
     "name": "stdout",
     "output_type": "stream",
     "text": [
      "Epoch   1/ 50 -- train_loss: 175.346 -- validation_loss: 982.854\n",
      "Saving model..\n"
     ]
    },
    {
     "name": "stderr",
     "output_type": "stream",
     "text": [
      "100%|████████████████████████████████| 4/4 [00:01<00:00,  2.32it/s, loss=119.16]\n",
      "  0%|                                                     | 0/4 [00:00<?, ?it/s]"
     ]
    },
    {
     "name": "stdout",
     "output_type": "stream",
     "text": [
      "Epoch   2/ 50 -- train_loss: 134.900 -- validation_loss: 969.393\n",
      "Saving model..\n"
     ]
    },
    {
     "name": "stderr",
     "output_type": "stream",
     "text": [
      "100%|█████████████████████████████████| 4/4 [00:01<00:00,  2.38it/s, loss=88.61]\n",
      "  0%|                                                     | 0/4 [00:00<?, ?it/s]"
     ]
    },
    {
     "name": "stdout",
     "output_type": "stream",
     "text": [
      "Epoch   3/ 50 -- train_loss: 97.296 -- validation_loss: 955.271\n",
      "Saving model..\n"
     ]
    },
    {
     "name": "stderr",
     "output_type": "stream",
     "text": [
      "100%|█████████████████████████████████| 4/4 [00:01<00:00,  2.42it/s, loss=64.62]\n",
      "  0%|                                                     | 0/4 [00:00<?, ?it/s]"
     ]
    },
    {
     "name": "stdout",
     "output_type": "stream",
     "text": [
      "Epoch   4/ 50 -- train_loss: 71.435 -- validation_loss: 940.703\n",
      "Saving model..\n"
     ]
    },
    {
     "name": "stderr",
     "output_type": "stream",
     "text": [
      "100%|█████████████████████████████████| 4/4 [00:01<00:00,  2.48it/s, loss=48.98]\n",
      "  0%|                                                     | 0/4 [00:00<?, ?it/s]"
     ]
    },
    {
     "name": "stdout",
     "output_type": "stream",
     "text": [
      "Epoch   5/ 50 -- train_loss: 52.171 -- validation_loss: 925.699\n",
      "Saving model..\n"
     ]
    },
    {
     "name": "stderr",
     "output_type": "stream",
     "text": [
      "100%|█████████████████████████████████| 4/4 [00:01<00:00,  2.51it/s, loss=34.72]\n",
      "  0%|                                                     | 0/4 [00:00<?, ?it/s]"
     ]
    },
    {
     "name": "stdout",
     "output_type": "stream",
     "text": [
      "Epoch   6/ 50 -- train_loss: 39.708 -- validation_loss: 910.424\n",
      "Saving model..\n"
     ]
    },
    {
     "name": "stderr",
     "output_type": "stream",
     "text": [
      "100%|█████████████████████████████████| 4/4 [00:01<00:00,  2.32it/s, loss=31.45]\n",
      "  0%|                                                     | 0/4 [00:00<?, ?it/s]"
     ]
    },
    {
     "name": "stdout",
     "output_type": "stream",
     "text": [
      "Epoch   7/ 50 -- train_loss: 31.210 -- validation_loss: 895.193\n",
      "Saving model..\n"
     ]
    },
    {
     "name": "stderr",
     "output_type": "stream",
     "text": [
      "100%|█████████████████████████████████| 4/4 [00:01<00:00,  2.45it/s, loss=25.60]\n",
      "  0%|                                                     | 0/4 [00:00<?, ?it/s]"
     ]
    },
    {
     "name": "stdout",
     "output_type": "stream",
     "text": [
      "Epoch   8/ 50 -- train_loss: 25.887 -- validation_loss: 880.270\n",
      "Saving model..\n"
     ]
    },
    {
     "name": "stderr",
     "output_type": "stream",
     "text": [
      "100%|█████████████████████████████████| 4/4 [00:01<00:00,  2.35it/s, loss=22.01]\n",
      "  0%|                                                     | 0/4 [00:00<?, ?it/s]"
     ]
    },
    {
     "name": "stdout",
     "output_type": "stream",
     "text": [
      "Epoch   9/ 50 -- train_loss: 21.447 -- validation_loss: 865.600\n",
      "Saving model..\n"
     ]
    },
    {
     "name": "stderr",
     "output_type": "stream",
     "text": [
      "100%|█████████████████████████████████| 4/4 [00:01<00:00,  2.12it/s, loss=16.70]\n",
      "  0%|                                                     | 0/4 [00:00<?, ?it/s]"
     ]
    },
    {
     "name": "stdout",
     "output_type": "stream",
     "text": [
      "Epoch  10/ 50 -- train_loss: 18.399 -- validation_loss: 851.242\n",
      "Saving model..\n"
     ]
    },
    {
     "name": "stderr",
     "output_type": "stream",
     "text": [
      "100%|█████████████████████████████████| 4/4 [00:01<00:00,  2.48it/s, loss=15.11]\n",
      "  0%|                                                     | 0/4 [00:00<?, ?it/s]"
     ]
    },
    {
     "name": "stdout",
     "output_type": "stream",
     "text": [
      "Epoch  11/ 50 -- train_loss: 15.528 -- validation_loss: 837.277\n",
      "Saving model..\n"
     ]
    },
    {
     "name": "stderr",
     "output_type": "stream",
     "text": [
      "100%|█████████████████████████████████| 4/4 [00:01<00:00,  2.41it/s, loss=11.53]\n",
      "  0%|                                                     | 0/4 [00:00<?, ?it/s]"
     ]
    },
    {
     "name": "stdout",
     "output_type": "stream",
     "text": [
      "Epoch  12/ 50 -- train_loss: 13.222 -- validation_loss: 823.694\n",
      "Saving model..\n"
     ]
    },
    {
     "name": "stderr",
     "output_type": "stream",
     "text": [
      "100%|█████████████████████████████████| 4/4 [00:01<00:00,  2.52it/s, loss=10.18]\n",
      "  0%|                                                     | 0/4 [00:00<?, ?it/s]"
     ]
    },
    {
     "name": "stdout",
     "output_type": "stream",
     "text": [
      "Epoch  13/ 50 -- train_loss: 11.305 -- validation_loss: 810.445\n",
      "Saving model..\n"
     ]
    },
    {
     "name": "stderr",
     "output_type": "stream",
     "text": [
      "100%|██████████████████████████████████| 4/4 [00:01<00:00,  2.50it/s, loss=9.87]\n",
      "  0%|                                                     | 0/4 [00:00<?, ?it/s]"
     ]
    },
    {
     "name": "stdout",
     "output_type": "stream",
     "text": [
      "Epoch  14/ 50 -- train_loss: 9.610 -- validation_loss: 797.525\n",
      "Saving model..\n"
     ]
    },
    {
     "name": "stderr",
     "output_type": "stream",
     "text": [
      "100%|██████████████████████████████████| 4/4 [00:01<00:00,  2.50it/s, loss=6.86]\n",
      "  0%|                                                     | 0/4 [00:00<?, ?it/s]"
     ]
    },
    {
     "name": "stdout",
     "output_type": "stream",
     "text": [
      "Epoch  15/ 50 -- train_loss: 8.278 -- validation_loss: 785.073\n",
      "Saving model..\n"
     ]
    },
    {
     "name": "stderr",
     "output_type": "stream",
     "text": [
      "100%|██████████████████████████████████| 4/4 [00:01<00:00,  2.47it/s, loss=6.09]\n",
      "  0%|                                                     | 0/4 [00:00<?, ?it/s]"
     ]
    },
    {
     "name": "stdout",
     "output_type": "stream",
     "text": [
      "Epoch  16/ 50 -- train_loss: 6.920 -- validation_loss: 772.921\n",
      "Saving model..\n"
     ]
    },
    {
     "name": "stderr",
     "output_type": "stream",
     "text": [
      "100%|██████████████████████████████████| 4/4 [00:01<00:00,  2.35it/s, loss=4.86]\n",
      "  0%|                                                     | 0/4 [00:00<?, ?it/s]"
     ]
    },
    {
     "name": "stdout",
     "output_type": "stream",
     "text": [
      "Epoch  17/ 50 -- train_loss: 5.549 -- validation_loss: 761.186\n",
      "Saving model..\n"
     ]
    },
    {
     "name": "stderr",
     "output_type": "stream",
     "text": [
      "100%|██████████████████████████████████| 4/4 [00:01<00:00,  2.25it/s, loss=5.02]\n",
      "  0%|                                                     | 0/4 [00:00<?, ?it/s]"
     ]
    },
    {
     "name": "stdout",
     "output_type": "stream",
     "text": [
      "Epoch  18/ 50 -- train_loss: 4.708 -- validation_loss: 749.769\n",
      "Saving model..\n"
     ]
    },
    {
     "name": "stderr",
     "output_type": "stream",
     "text": [
      "100%|██████████████████████████████████| 4/4 [00:01<00:00,  2.24it/s, loss=3.39]\n",
      "  0%|                                                     | 0/4 [00:00<?, ?it/s]"
     ]
    },
    {
     "name": "stdout",
     "output_type": "stream",
     "text": [
      "Epoch  19/ 50 -- train_loss: 3.580 -- validation_loss: 738.573\n",
      "Saving model..\n"
     ]
    },
    {
     "name": "stderr",
     "output_type": "stream",
     "text": [
      "100%|██████████████████████████████████| 4/4 [00:01<00:00,  2.58it/s, loss=5.23]\n",
      "  0%|                                                     | 0/4 [00:00<?, ?it/s]"
     ]
    },
    {
     "name": "stdout",
     "output_type": "stream",
     "text": [
      "Epoch  20/ 50 -- train_loss: 2.332 -- validation_loss: 727.760\n",
      "Saving model..\n"
     ]
    },
    {
     "name": "stderr",
     "output_type": "stream",
     "text": [
      "100%|██████████████████████████████████| 4/4 [00:01<00:00,  2.57it/s, loss=2.85]\n"
     ]
    },
    {
     "name": "stdout",
     "output_type": "stream",
     "text": [
      "Epoch  21/ 50 -- train_loss: 1.580 -- validation_loss: 717.057\n",
      "Saving model..\n"
     ]
    },
    {
     "name": "stderr",
     "output_type": "stream",
     "text": [
      "100%|██████████████████████████████████| 4/4 [00:01<00:00,  2.57it/s, loss=1.42]\n",
      "  0%|                                                     | 0/4 [00:00<?, ?it/s]"
     ]
    },
    {
     "name": "stdout",
     "output_type": "stream",
     "text": [
      "Epoch  22/ 50 -- train_loss: 1.147 -- validation_loss: 706.597\n",
      "Saving model..\n"
     ]
    },
    {
     "name": "stderr",
     "output_type": "stream",
     "text": [
      "100%|██████████████████████████████████| 4/4 [00:01<00:00,  2.49it/s, loss=0.88]\n",
      "  0%|                                                     | 0/4 [00:00<?, ?it/s]"
     ]
    },
    {
     "name": "stdout",
     "output_type": "stream",
     "text": [
      "Epoch  23/ 50 -- train_loss: 0.867 -- validation_loss: 696.606\n",
      "Saving model..\n"
     ]
    },
    {
     "name": "stderr",
     "output_type": "stream",
     "text": [
      "100%|██████████████████████████████████| 4/4 [00:01<00:00,  2.52it/s, loss=1.60]\n"
     ]
    },
    {
     "name": "stdout",
     "output_type": "stream",
     "text": [
      "Epoch  24/ 50 -- train_loss: -0.234 -- validation_loss: 686.866\n",
      "Saving model..\n"
     ]
    },
    {
     "name": "stderr",
     "output_type": "stream",
     "text": [
      "100%|██████████████████████████████████| 4/4 [00:01<00:00,  2.46it/s, loss=0.18]\n",
      "  0%|                                                     | 0/4 [00:00<?, ?it/s]"
     ]
    },
    {
     "name": "stdout",
     "output_type": "stream",
     "text": [
      "Epoch  25/ 50 -- train_loss: -0.429 -- validation_loss: 677.522\n",
      "Saving model..\n"
     ]
    },
    {
     "name": "stderr",
     "output_type": "stream",
     "text": [
      "100%|█████████████████████████████████| 4/4 [00:01<00:00,  2.45it/s, loss=-3.81]\n"
     ]
    },
    {
     "name": "stdout",
     "output_type": "stream",
     "text": [
      "Epoch  26/ 50 -- train_loss: -0.790 -- validation_loss: 668.433\n",
      "Saving model..\n"
     ]
    },
    {
     "name": "stderr",
     "output_type": "stream",
     "text": [
      "100%|█████████████████████████████████| 4/4 [00:01<00:00,  2.41it/s, loss=-1.96]\n",
      "  0%|                                                     | 0/4 [00:00<?, ?it/s]"
     ]
    },
    {
     "name": "stdout",
     "output_type": "stream",
     "text": [
      "Epoch  27/ 50 -- train_loss: -0.819 -- validation_loss: 659.531\n",
      "Saving model..\n"
     ]
    },
    {
     "name": "stderr",
     "output_type": "stream",
     "text": [
      "100%|█████████████████████████████████| 4/4 [00:01<00:00,  2.55it/s, loss=-0.01]\n",
      "  0%|                                                     | 0/4 [00:00<?, ?it/s]"
     ]
    },
    {
     "name": "stdout",
     "output_type": "stream",
     "text": [
      "Epoch  28/ 50 -- train_loss: -2.337 -- validation_loss: 650.928\n",
      "Saving model..\n"
     ]
    },
    {
     "name": "stderr",
     "output_type": "stream",
     "text": [
      "100%|█████████████████████████████████| 4/4 [00:01<00:00,  2.47it/s, loss=-4.35]\n",
      "  0%|                                                     | 0/4 [00:00<?, ?it/s]"
     ]
    },
    {
     "name": "stdout",
     "output_type": "stream",
     "text": [
      "Epoch  29/ 50 -- train_loss: -2.500 -- validation_loss: 642.401\n",
      "Saving model..\n"
     ]
    },
    {
     "name": "stderr",
     "output_type": "stream",
     "text": [
      "100%|█████████████████████████████████| 4/4 [00:01<00:00,  2.41it/s, loss=-4.85]\n",
      "  0%|                                                     | 0/4 [00:00<?, ?it/s]"
     ]
    },
    {
     "name": "stdout",
     "output_type": "stream",
     "text": [
      "Epoch  30/ 50 -- train_loss: -3.439 -- validation_loss: 634.228\n",
      "Saving model..\n"
     ]
    },
    {
     "name": "stderr",
     "output_type": "stream",
     "text": [
      "100%|█████████████████████████████████| 4/4 [00:01<00:00,  2.60it/s, loss=-3.07]\n",
      "  0%|                                                     | 0/4 [00:00<?, ?it/s]"
     ]
    },
    {
     "name": "stdout",
     "output_type": "stream",
     "text": [
      "Epoch  31/ 50 -- train_loss: -3.323 -- validation_loss: 626.266\n",
      "Saving model..\n"
     ]
    },
    {
     "name": "stderr",
     "output_type": "stream",
     "text": [
      "100%|█████████████████████████████████| 4/4 [00:01<00:00,  2.53it/s, loss=-3.08]\n",
      "  0%|                                                     | 0/4 [00:00<?, ?it/s]"
     ]
    },
    {
     "name": "stdout",
     "output_type": "stream",
     "text": [
      "Epoch  32/ 50 -- train_loss: -3.384 -- validation_loss: 618.591\n",
      "Saving model..\n"
     ]
    },
    {
     "name": "stderr",
     "output_type": "stream",
     "text": [
      "100%|█████████████████████████████████| 4/4 [00:01<00:00,  2.23it/s, loss=-4.62]\n",
      "  0%|                                                     | 0/4 [00:00<?, ?it/s]"
     ]
    },
    {
     "name": "stdout",
     "output_type": "stream",
     "text": [
      "Epoch  33/ 50 -- train_loss: -4.313 -- validation_loss: 611.026\n",
      "Saving model..\n"
     ]
    },
    {
     "name": "stderr",
     "output_type": "stream",
     "text": [
      "100%|█████████████████████████████████| 4/4 [00:01<00:00,  2.41it/s, loss=-4.04]\n",
      "  0%|                                                     | 0/4 [00:00<?, ?it/s]"
     ]
    },
    {
     "name": "stdout",
     "output_type": "stream",
     "text": [
      "Epoch  34/ 50 -- train_loss: -4.405 -- validation_loss: 603.542\n",
      "Saving model..\n"
     ]
    },
    {
     "name": "stderr",
     "output_type": "stream",
     "text": [
      "100%|█████████████████████████████████| 4/4 [00:01<00:00,  2.28it/s, loss=-2.76]\n"
     ]
    },
    {
     "name": "stdout",
     "output_type": "stream",
     "text": [
      "Epoch  35/ 50 -- train_loss: -5.302 -- validation_loss: 596.336\n",
      "Saving model..\n"
     ]
    },
    {
     "name": "stderr",
     "output_type": "stream",
     "text": [
      "100%|█████████████████████████████████| 4/4 [00:01<00:00,  2.42it/s, loss=-3.73]\n",
      "  0%|                                                     | 0/4 [00:00<?, ?it/s]"
     ]
    },
    {
     "name": "stdout",
     "output_type": "stream",
     "text": [
      "Epoch  36/ 50 -- train_loss: -5.455 -- validation_loss: 589.446\n",
      "Saving model..\n"
     ]
    },
    {
     "name": "stderr",
     "output_type": "stream",
     "text": [
      "100%|█████████████████████████████████| 4/4 [00:01<00:00,  2.16it/s, loss=-3.93]\n"
     ]
    },
    {
     "name": "stdout",
     "output_type": "stream",
     "text": [
      "Epoch  37/ 50 -- train_loss: -4.683 -- validation_loss: 582.706\n",
      "Saving model..\n"
     ]
    },
    {
     "name": "stderr",
     "output_type": "stream",
     "text": [
      "100%|█████████████████████████████████| 4/4 [00:01<00:00,  2.45it/s, loss=-4.42]\n",
      "  0%|                                                     | 0/4 [00:00<?, ?it/s]"
     ]
    },
    {
     "name": "stdout",
     "output_type": "stream",
     "text": [
      "Epoch  38/ 50 -- train_loss: -5.288 -- validation_loss: 576.145\n",
      "Saving model..\n"
     ]
    },
    {
     "name": "stderr",
     "output_type": "stream",
     "text": [
      "100%|█████████████████████████████████| 4/4 [00:01<00:00,  2.59it/s, loss=-1.52]\n",
      "  0%|                                                     | 0/4 [00:00<?, ?it/s]"
     ]
    },
    {
     "name": "stdout",
     "output_type": "stream",
     "text": [
      "Epoch  39/ 50 -- train_loss: -5.930 -- validation_loss: 569.555\n",
      "Saving model..\n"
     ]
    },
    {
     "name": "stderr",
     "output_type": "stream",
     "text": [
      "100%|█████████████████████████████████| 4/4 [00:01<00:00,  2.46it/s, loss=-3.18]\n",
      "  0%|                                                     | 0/4 [00:00<?, ?it/s]"
     ]
    },
    {
     "name": "stdout",
     "output_type": "stream",
     "text": [
      "Epoch  40/ 50 -- train_loss: -5.523 -- validation_loss: 563.337\n",
      "Saving model..\n"
     ]
    },
    {
     "name": "stderr",
     "output_type": "stream",
     "text": [
      "100%|█████████████████████████████████| 4/4 [00:01<00:00,  2.37it/s, loss=-5.95]\n"
     ]
    },
    {
     "name": "stdout",
     "output_type": "stream",
     "text": [
      "Epoch  41/ 50 -- train_loss: -5.755 -- validation_loss: 557.386\n",
      "Saving model..\n"
     ]
    },
    {
     "name": "stderr",
     "output_type": "stream",
     "text": [
      "100%|█████████████████████████████████| 4/4 [00:01<00:00,  2.20it/s, loss=-5.83]\n",
      "  0%|                                                     | 0/4 [00:00<?, ?it/s]"
     ]
    },
    {
     "name": "stdout",
     "output_type": "stream",
     "text": [
      "Epoch  42/ 50 -- train_loss: -5.863 -- validation_loss: 551.661\n",
      "Saving model..\n"
     ]
    },
    {
     "name": "stderr",
     "output_type": "stream",
     "text": [
      "100%|█████████████████████████████████| 4/4 [00:01<00:00,  2.47it/s, loss=-3.59]\n",
      "  0%|                                                     | 0/4 [00:00<?, ?it/s]"
     ]
    },
    {
     "name": "stdout",
     "output_type": "stream",
     "text": [
      "Epoch  43/ 50 -- train_loss: -5.570 -- validation_loss: 545.717\n",
      "Saving model..\n"
     ]
    },
    {
     "name": "stderr",
     "output_type": "stream",
     "text": [
      "100%|█████████████████████████████████| 4/4 [00:01<00:00,  2.55it/s, loss=-8.38]\n",
      "  0%|                                                     | 0/4 [00:00<?, ?it/s]"
     ]
    },
    {
     "name": "stdout",
     "output_type": "stream",
     "text": [
      "Epoch  44/ 50 -- train_loss: -6.523 -- validation_loss: 540.052\n",
      "Saving model..\n"
     ]
    },
    {
     "name": "stderr",
     "output_type": "stream",
     "text": [
      "100%|█████████████████████████████████| 4/4 [00:01<00:00,  2.32it/s, loss=-5.92]\n",
      "  0%|                                                     | 0/4 [00:00<?, ?it/s]"
     ]
    },
    {
     "name": "stdout",
     "output_type": "stream",
     "text": [
      "Epoch  45/ 50 -- train_loss: -7.155 -- validation_loss: 534.599\n",
      "Saving model..\n"
     ]
    },
    {
     "name": "stderr",
     "output_type": "stream",
     "text": [
      "100%|█████████████████████████████████| 4/4 [00:01<00:00,  2.43it/s, loss=-7.86]\n"
     ]
    },
    {
     "name": "stdout",
     "output_type": "stream",
     "text": [
      "Epoch  46/ 50 -- train_loss: -7.975 -- validation_loss: 529.119\n",
      "Saving model..\n"
     ]
    },
    {
     "name": "stderr",
     "output_type": "stream",
     "text": [
      "100%|█████████████████████████████████| 4/4 [00:01<00:00,  2.44it/s, loss=-6.43]\n",
      "  0%|                                                     | 0/4 [00:00<?, ?it/s]"
     ]
    },
    {
     "name": "stdout",
     "output_type": "stream",
     "text": [
      "Epoch  47/ 50 -- train_loss: -7.143 -- validation_loss: 523.597\n",
      "Saving model..\n"
     ]
    },
    {
     "name": "stderr",
     "output_type": "stream",
     "text": [
      "100%|█████████████████████████████████| 4/4 [00:01<00:00,  2.39it/s, loss=-7.50]\n",
      "  0%|                                                     | 0/4 [00:00<?, ?it/s]"
     ]
    },
    {
     "name": "stdout",
     "output_type": "stream",
     "text": [
      "Epoch  48/ 50 -- train_loss: -8.444 -- validation_loss: 518.407\n",
      "Saving model..\n"
     ]
    },
    {
     "name": "stderr",
     "output_type": "stream",
     "text": [
      "100%|█████████████████████████████████| 4/4 [00:01<00:00,  2.44it/s, loss=-9.37]\n"
     ]
    },
    {
     "name": "stdout",
     "output_type": "stream",
     "text": [
      "Epoch  49/ 50 -- train_loss: -8.659 -- validation_loss: 513.482\n",
      "Saving model..\n"
     ]
    },
    {
     "name": "stderr",
     "output_type": "stream",
     "text": [
      "100%|█████████████████████████████████| 4/4 [00:01<00:00,  2.49it/s, loss=-8.70]\n"
     ]
    },
    {
     "name": "stdout",
     "output_type": "stream",
     "text": [
      "Epoch  50/ 50 -- train_loss: -8.570 -- validation_loss: 508.607\n",
      "Saving model..\n"
     ]
    },
    {
     "name": "stderr",
     "output_type": "stream",
     "text": [
      "\r",
      "  0%|                                                   | 0/200 [00:00<?, ?it/s]"
     ]
    },
    {
     "name": "stdout",
     "output_type": "stream",
     "text": [
      "###### Stop training after 50 epochs!\n",
      "Validation loss: 508.607\n",
      "Test loss:       506.056\n",
      "Loading dataset..\n",
      "No validation set passed\n",
      "No test set passed\n",
      "Creating directory experiment..\n",
      "Creating BNAF model..\n",
      "Creating optimizer..\n",
      "Creating scheduler..\n",
      "Training..\n"
     ]
    },
    {
     "name": "stderr",
     "output_type": "stream",
     "text": [
      "100%|████████████████████████████| 200/200 [01:23<00:00,  2.40it/s, loss=-12.90]\n",
      "  0%|                                                   | 0/200 [00:00<?, ?it/s]"
     ]
    },
    {
     "name": "stdout",
     "output_type": "stream",
     "text": [
      "Epoch   1/ 50 -- train_loss: 6.654 -- validation_loss: 503.723\n",
      "Saving model..\n"
     ]
    },
    {
     "name": "stderr",
     "output_type": "stream",
     "text": [
      "100%|████████████████████████████| 200/200 [01:21<00:00,  2.46it/s, loss=-21.36]\n",
      "  0%|                                                   | 0/200 [00:00<?, ?it/s]"
     ]
    },
    {
     "name": "stdout",
     "output_type": "stream",
     "text": [
      "Epoch   2/ 50 -- train_loss: -16.497 -- validation_loss: 337.545\n",
      "Saving model..\n"
     ]
    },
    {
     "name": "stderr",
     "output_type": "stream",
     "text": [
      "100%|████████████████████████████| 200/200 [01:16<00:00,  2.60it/s, loss=-18.15]\n",
      "  0%|                                                   | 0/200 [00:00<?, ?it/s]"
     ]
    },
    {
     "name": "stdout",
     "output_type": "stream",
     "text": [
      "Epoch   3/ 50 -- train_loss: -20.994 -- validation_loss: 232.897\n",
      "Saving model..\n"
     ]
    },
    {
     "name": "stderr",
     "output_type": "stream",
     "text": [
      "100%|████████████████████████████| 200/200 [01:25<00:00,  2.35it/s, loss=-25.02]\n",
      "  0%|                                                   | 0/200 [00:00<?, ?it/s]"
     ]
    },
    {
     "name": "stdout",
     "output_type": "stream",
     "text": [
      "Epoch   4/ 50 -- train_loss: -24.122 -- validation_loss: 165.461\n",
      "Saving model..\n"
     ]
    },
    {
     "name": "stderr",
     "output_type": "stream",
     "text": [
      "100%|████████████████████████████| 200/200 [01:22<00:00,  2.42it/s, loss=-24.06]\n"
     ]
    },
    {
     "name": "stdout",
     "output_type": "stream",
     "text": [
      "Epoch   5/ 50 -- train_loss: -25.229 -- validation_loss: 127.540\n",
      "Saving model..\n"
     ]
    },
    {
     "name": "stderr",
     "output_type": "stream",
     "text": [
      "100%|████████████████████████████| 200/200 [01:23<00:00,  2.40it/s, loss=-26.75]\n",
      "  0%|                                                   | 0/200 [00:00<?, ?it/s]"
     ]
    },
    {
     "name": "stdout",
     "output_type": "stream",
     "text": [
      "Epoch   6/ 50 -- train_loss: -25.979 -- validation_loss: 107.000\n",
      "Saving model..\n"
     ]
    },
    {
     "name": "stderr",
     "output_type": "stream",
     "text": [
      "100%|████████████████████████████| 200/200 [01:18<00:00,  2.54it/s, loss=-27.45]\n",
      "  0%|                                                   | 0/200 [00:00<?, ?it/s]"
     ]
    },
    {
     "name": "stdout",
     "output_type": "stream",
     "text": [
      "Epoch   7/ 50 -- train_loss: -28.119 -- validation_loss: 95.656\n",
      "Saving model..\n"
     ]
    },
    {
     "name": "stderr",
     "output_type": "stream",
     "text": [
      "100%|████████████████████████████| 200/200 [01:20<00:00,  2.49it/s, loss=-28.68]\n",
      "  0%|                                                   | 0/200 [00:00<?, ?it/s]"
     ]
    },
    {
     "name": "stdout",
     "output_type": "stream",
     "text": [
      "Epoch   8/ 50 -- train_loss: -28.133 -- validation_loss: 88.926\n",
      "Saving model..\n"
     ]
    },
    {
     "name": "stderr",
     "output_type": "stream",
     "text": [
      "100%|████████████████████████████| 200/200 [01:21<00:00,  2.44it/s, loss=-27.63]\n"
     ]
    },
    {
     "name": "stdout",
     "output_type": "stream",
     "text": [
      "Epoch   9/ 50 -- train_loss: -29.546 -- validation_loss: 84.910\n",
      "Saving model..\n"
     ]
    },
    {
     "name": "stderr",
     "output_type": "stream",
     "text": [
      "100%|████████████████████████████| 200/200 [01:18<00:00,  2.55it/s, loss=-30.55]\n",
      "  0%|                                                   | 0/200 [00:00<?, ?it/s]"
     ]
    },
    {
     "name": "stdout",
     "output_type": "stream",
     "text": [
      "Epoch  10/ 50 -- train_loss: -30.795 -- validation_loss: 82.506\n",
      "Saving model..\n"
     ]
    },
    {
     "name": "stderr",
     "output_type": "stream",
     "text": [
      "100%|████████████████████████████| 200/200 [01:18<00:00,  2.55it/s, loss=-30.24]\n"
     ]
    },
    {
     "name": "stdout",
     "output_type": "stream",
     "text": [
      "Epoch  11/ 50 -- train_loss: -31.640 -- validation_loss: 81.251\n",
      "Saving model..\n"
     ]
    },
    {
     "name": "stderr",
     "output_type": "stream",
     "text": [
      "100%|████████████████████████████| 200/200 [01:18<00:00,  2.55it/s, loss=-33.13]\n",
      "  0%|                                                   | 0/200 [00:00<?, ?it/s]"
     ]
    },
    {
     "name": "stdout",
     "output_type": "stream",
     "text": [
      "Epoch  12/ 50 -- train_loss: -32.879 -- validation_loss: 80.738\n",
      "Saving model..\n"
     ]
    },
    {
     "name": "stderr",
     "output_type": "stream",
     "text": [
      "100%|████████████████████████████| 200/200 [01:17<00:00,  2.58it/s, loss=-34.70]\n",
      "  0%|                                                   | 0/200 [00:00<?, ?it/s]"
     ]
    },
    {
     "name": "stdout",
     "output_type": "stream",
     "text": [
      "Epoch  13/ 50 -- train_loss: -34.083 -- validation_loss: 80.294\n",
      "Saving model..\n"
     ]
    },
    {
     "name": "stderr",
     "output_type": "stream",
     "text": [
      "100%|████████████████████████████| 200/200 [01:17<00:00,  2.59it/s, loss=-40.19]\n",
      "  0%|                                                   | 0/200 [00:00<?, ?it/s]"
     ]
    },
    {
     "name": "stdout",
     "output_type": "stream",
     "text": [
      "Epoch  14/ 50 -- train_loss: -36.569 -- validation_loss: 80.579\n"
     ]
    },
    {
     "name": "stderr",
     "output_type": "stream",
     "text": [
      "100%|████████████████████████████| 200/200 [01:17<00:00,  2.58it/s, loss=-35.74]\n",
      "  0%|                                                   | 0/200 [00:00<?, ?it/s]"
     ]
    },
    {
     "name": "stdout",
     "output_type": "stream",
     "text": [
      "Epoch  15/ 50 -- train_loss: -37.242 -- validation_loss: 80.991\n"
     ]
    },
    {
     "name": "stderr",
     "output_type": "stream",
     "text": [
      "100%|████████████████████████████| 200/200 [01:17<00:00,  2.58it/s, loss=-43.49]\n",
      "  0%|                                                   | 0/200 [00:00<?, ?it/s]"
     ]
    },
    {
     "name": "stdout",
     "output_type": "stream",
     "text": [
      "Epoch  16/ 50 -- train_loss: -39.535 -- validation_loss: 82.149\n"
     ]
    },
    {
     "name": "stderr",
     "output_type": "stream",
     "text": [
      "100%|████████████████████████████| 200/200 [01:24<00:00,  2.37it/s, loss=-37.29]\n",
      "  0%|                                                   | 0/200 [00:00<?, ?it/s]"
     ]
    },
    {
     "name": "stdout",
     "output_type": "stream",
     "text": [
      "Epoch  17/ 50 -- train_loss: -40.141 -- validation_loss: 83.344\n"
     ]
    },
    {
     "name": "stderr",
     "output_type": "stream",
     "text": [
      "100%|████████████████████████████| 200/200 [01:19<00:00,  2.52it/s, loss=-37.33]\n",
      "  0%|                                                   | 0/200 [00:00<?, ?it/s]"
     ]
    },
    {
     "name": "stdout",
     "output_type": "stream",
     "text": [
      "Epoch  18/ 50 -- train_loss: -40.742 -- validation_loss: 84.198\n"
     ]
    },
    {
     "name": "stderr",
     "output_type": "stream",
     "text": [
      "100%|████████████████████████████| 200/200 [01:21<00:00,  2.46it/s, loss=-38.47]\n",
      "  0%|                                                   | 0/200 [00:00<?, ?it/s]"
     ]
    },
    {
     "name": "stdout",
     "output_type": "stream",
     "text": [
      "Epoch  19/ 50 -- train_loss: -41.778 -- validation_loss: 84.964\n"
     ]
    },
    {
     "name": "stderr",
     "output_type": "stream",
     "text": [
      "100%|████████████████████████████| 200/200 [01:20<00:00,  2.48it/s, loss=-45.78]\n",
      "  0%|                                                   | 0/200 [00:00<?, ?it/s]"
     ]
    },
    {
     "name": "stdout",
     "output_type": "stream",
     "text": [
      "Epoch  20/ 50 -- train_loss: -42.924 -- validation_loss: 85.802\n"
     ]
    },
    {
     "name": "stderr",
     "output_type": "stream",
     "text": [
      "100%|████████████████████████████| 200/200 [01:19<00:00,  2.52it/s, loss=-41.82]\n",
      "  0%|                                                   | 0/200 [00:00<?, ?it/s]"
     ]
    },
    {
     "name": "stdout",
     "output_type": "stream",
     "text": [
      "Epoch  21/ 50 -- train_loss: -42.951 -- validation_loss: 86.559\n"
     ]
    },
    {
     "name": "stderr",
     "output_type": "stream",
     "text": [
      "100%|████████████████████████████| 200/200 [01:19<00:00,  2.51it/s, loss=-43.36]\n",
      "  0%|                                                   | 0/200 [00:00<?, ?it/s]"
     ]
    },
    {
     "name": "stdout",
     "output_type": "stream",
     "text": [
      "Epoch  22/ 50 -- train_loss: -43.140 -- validation_loss: 87.104\n"
     ]
    },
    {
     "name": "stderr",
     "output_type": "stream",
     "text": [
      "100%|████████████████████████████| 200/200 [01:19<00:00,  2.51it/s, loss=-40.95]\n",
      "  0%|                                                   | 0/200 [00:00<?, ?it/s]"
     ]
    },
    {
     "name": "stdout",
     "output_type": "stream",
     "text": [
      "Epoch  23/ 50 -- train_loss: -43.674 -- validation_loss: 87.596\n"
     ]
    },
    {
     "name": "stderr",
     "output_type": "stream",
     "text": [
      "100%|████████████████████████████| 200/200 [01:20<00:00,  2.48it/s, loss=-53.19]\n",
      "  0%|                                                   | 0/200 [00:00<?, ?it/s]"
     ]
    },
    {
     "name": "stdout",
     "output_type": "stream",
     "text": [
      "Epoch  24/ 50 -- train_loss: -44.799 -- validation_loss: 87.991\n"
     ]
    },
    {
     "name": "stderr",
     "output_type": "stream",
     "text": [
      "100%|████████████████████████████| 200/200 [01:18<00:00,  2.56it/s, loss=-43.78]\n",
      "  0%|                                                   | 0/200 [00:00<?, ?it/s]"
     ]
    },
    {
     "name": "stdout",
     "output_type": "stream",
     "text": [
      "Epoch  25/ 50 -- train_loss: -45.426 -- validation_loss: 88.498\n"
     ]
    },
    {
     "name": "stderr",
     "output_type": "stream",
     "text": [
      "100%|████████████████████████████| 200/200 [01:19<00:00,  2.51it/s, loss=-44.86]\n",
      "  0%|                                                   | 0/200 [00:00<?, ?it/s]"
     ]
    },
    {
     "name": "stdout",
     "output_type": "stream",
     "text": [
      "Epoch  26/ 50 -- train_loss: -46.208 -- validation_loss: 88.879\n"
     ]
    },
    {
     "name": "stderr",
     "output_type": "stream",
     "text": [
      "100%|████████████████████████████| 200/200 [01:19<00:00,  2.51it/s, loss=-44.72]\n",
      "  0%|                                                   | 0/200 [00:00<?, ?it/s]"
     ]
    },
    {
     "name": "stdout",
     "output_type": "stream",
     "text": [
      "Epoch  27/ 50 -- train_loss: -46.047 -- validation_loss: 89.314\n"
     ]
    },
    {
     "name": "stderr",
     "output_type": "stream",
     "text": [
      "100%|████████████████████████████| 200/200 [01:18<00:00,  2.56it/s, loss=-43.69]\n",
      "  0%|                                                   | 0/200 [00:00<?, ?it/s]"
     ]
    },
    {
     "name": "stdout",
     "output_type": "stream",
     "text": [
      "Epoch  28/ 50 -- train_loss: -47.221 -- validation_loss: 89.864\n"
     ]
    },
    {
     "name": "stderr",
     "output_type": "stream",
     "text": [
      "100%|████████████████████████████| 200/200 [01:18<00:00,  2.54it/s, loss=-50.11]\n",
      "  0%|                                                   | 0/200 [00:00<?, ?it/s]"
     ]
    },
    {
     "name": "stdout",
     "output_type": "stream",
     "text": [
      "Epoch  29/ 50 -- train_loss: -46.856 -- validation_loss: 90.152\n"
     ]
    },
    {
     "name": "stderr",
     "output_type": "stream",
     "text": [
      "100%|████████████████████████████| 200/200 [01:26<00:00,  2.32it/s, loss=-44.69]\n",
      "  0%|                                                   | 0/200 [00:00<?, ?it/s]"
     ]
    },
    {
     "name": "stdout",
     "output_type": "stream",
     "text": [
      "Epoch  30/ 50 -- train_loss: -47.608 -- validation_loss: 90.639\n"
     ]
    },
    {
     "name": "stderr",
     "output_type": "stream",
     "text": [
      "100%|████████████████████████████| 200/200 [01:18<00:00,  2.56it/s, loss=-54.12]\n",
      "  0%|                                                   | 0/200 [00:00<?, ?it/s]"
     ]
    },
    {
     "name": "stdout",
     "output_type": "stream",
     "text": [
      "Epoch  31/ 50 -- train_loss: -47.645 -- validation_loss: 91.082\n"
     ]
    },
    {
     "name": "stderr",
     "output_type": "stream",
     "text": [
      "100%|████████████████████████████| 200/200 [01:18<00:00,  2.56it/s, loss=-45.20]\n",
      "  0%|                                                   | 0/200 [00:00<?, ?it/s]"
     ]
    },
    {
     "name": "stdout",
     "output_type": "stream",
     "text": [
      "Epoch  32/ 50 -- train_loss: -47.623 -- validation_loss: 91.128\n"
     ]
    },
    {
     "name": "stderr",
     "output_type": "stream",
     "text": [
      "100%|████████████████████████████| 200/200 [01:18<00:00,  2.56it/s, loss=-50.15]\n",
      "  0%|                                                   | 0/200 [00:00<?, ?it/s]"
     ]
    },
    {
     "name": "stdout",
     "output_type": "stream",
     "text": [
      "Epoch  33/ 50 -- train_loss: -48.674 -- validation_loss: 91.467\n"
     ]
    },
    {
     "name": "stderr",
     "output_type": "stream",
     "text": [
      "100%|████████████████████████████| 200/200 [01:22<00:00,  2.44it/s, loss=-43.07]\n",
      "  0%|                                                   | 0/200 [00:00<?, ?it/s]"
     ]
    },
    {
     "name": "stdout",
     "output_type": "stream",
     "text": [
      "Epoch  34/ 50 -- train_loss: -48.787 -- validation_loss: 91.708\n",
      "Epoch 00034: reducing learning rate of group 0 to 5.0000e-03.\n"
     ]
    },
    {
     "name": "stderr",
     "output_type": "stream",
     "text": [
      "100%|████████████████████████████| 200/200 [01:32<00:00,  2.17it/s, loss=-56.14]\n",
      "  0%|                                                   | 0/200 [00:00<?, ?it/s]"
     ]
    },
    {
     "name": "stdout",
     "output_type": "stream",
     "text": [
      "Epoch  35/ 50 -- train_loss: -55.405 -- validation_loss: 92.767\n"
     ]
    },
    {
     "name": "stderr",
     "output_type": "stream",
     "text": [
      "100%|████████████████████████████| 200/200 [01:32<00:00,  2.16it/s, loss=-54.41]\n",
      "  0%|                                                   | 0/200 [00:00<?, ?it/s]"
     ]
    },
    {
     "name": "stdout",
     "output_type": "stream",
     "text": [
      "Epoch  36/ 50 -- train_loss: -57.380 -- validation_loss: 94.086\n"
     ]
    },
    {
     "name": "stderr",
     "output_type": "stream",
     "text": [
      "100%|████████████████████████████| 200/200 [01:32<00:00,  2.16it/s, loss=-59.13]\n",
      "  0%|                                                   | 0/200 [00:00<?, ?it/s]"
     ]
    },
    {
     "name": "stdout",
     "output_type": "stream",
     "text": [
      "Epoch  37/ 50 -- train_loss: -56.851 -- validation_loss: 95.137\n"
     ]
    },
    {
     "name": "stderr",
     "output_type": "stream",
     "text": [
      "100%|████████████████████████████| 200/200 [01:33<00:00,  2.14it/s, loss=-57.00]\n",
      "  0%|                                                   | 0/200 [00:00<?, ?it/s]"
     ]
    },
    {
     "name": "stdout",
     "output_type": "stream",
     "text": [
      "Epoch  38/ 50 -- train_loss: -57.750 -- validation_loss: 95.849\n"
     ]
    },
    {
     "name": "stderr",
     "output_type": "stream",
     "text": [
      "100%|████████████████████████████| 200/200 [01:33<00:00,  2.15it/s, loss=-58.54]\n",
      "  0%|                                                   | 0/200 [00:00<?, ?it/s]"
     ]
    },
    {
     "name": "stdout",
     "output_type": "stream",
     "text": [
      "Epoch  39/ 50 -- train_loss: -58.040 -- validation_loss: 96.469\n"
     ]
    },
    {
     "name": "stderr",
     "output_type": "stream",
     "text": [
      "100%|████████████████████████████| 200/200 [01:33<00:00,  2.14it/s, loss=-60.82]\n",
      "  0%|                                                   | 0/200 [00:00<?, ?it/s]"
     ]
    },
    {
     "name": "stdout",
     "output_type": "stream",
     "text": [
      "Epoch  40/ 50 -- train_loss: -57.003 -- validation_loss: 96.831\n"
     ]
    },
    {
     "name": "stderr",
     "output_type": "stream",
     "text": [
      "100%|████████████████████████████| 200/200 [01:33<00:00,  2.14it/s, loss=-58.28]\n",
      "  0%|                                                   | 0/200 [00:00<?, ?it/s]"
     ]
    },
    {
     "name": "stdout",
     "output_type": "stream",
     "text": [
      "Epoch  41/ 50 -- train_loss: -57.301 -- validation_loss: 97.077\n"
     ]
    },
    {
     "name": "stderr",
     "output_type": "stream",
     "text": [
      "100%|████████████████████████████| 200/200 [01:33<00:00,  2.14it/s, loss=-61.12]\n",
      "  0%|                                                   | 0/200 [00:00<?, ?it/s]"
     ]
    },
    {
     "name": "stdout",
     "output_type": "stream",
     "text": [
      "Epoch  42/ 50 -- train_loss: -58.578 -- validation_loss: 97.392\n"
     ]
    },
    {
     "name": "stderr",
     "output_type": "stream",
     "text": [
      "100%|████████████████████████████| 200/200 [01:33<00:00,  2.14it/s, loss=-61.27]\n",
      "  0%|                                                   | 0/200 [00:00<?, ?it/s]"
     ]
    },
    {
     "name": "stdout",
     "output_type": "stream",
     "text": [
      "Epoch  43/ 50 -- train_loss: -57.839 -- validation_loss: 97.532\n"
     ]
    },
    {
     "name": "stderr",
     "output_type": "stream",
     "text": [
      "100%|████████████████████████████| 200/200 [01:32<00:00,  2.15it/s, loss=-56.69]\n",
      "  0%|                                                   | 0/200 [00:00<?, ?it/s]"
     ]
    },
    {
     "name": "stdout",
     "output_type": "stream",
     "text": [
      "Epoch  44/ 50 -- train_loss: -57.451 -- validation_loss: 97.704\n"
     ]
    },
    {
     "name": "stderr",
     "output_type": "stream",
     "text": [
      "100%|████████████████████████████| 200/200 [01:33<00:00,  2.15it/s, loss=-61.88]\n",
      "  0%|                                                   | 0/200 [00:00<?, ?it/s]"
     ]
    },
    {
     "name": "stdout",
     "output_type": "stream",
     "text": [
      "Epoch  45/ 50 -- train_loss: -58.370 -- validation_loss: 97.816\n"
     ]
    },
    {
     "name": "stderr",
     "output_type": "stream",
     "text": [
      "100%|████████████████████████████| 200/200 [01:33<00:00,  2.14it/s, loss=-51.31]\n",
      "  0%|                                                   | 0/200 [00:00<?, ?it/s]"
     ]
    },
    {
     "name": "stdout",
     "output_type": "stream",
     "text": [
      "Epoch  46/ 50 -- train_loss: -58.045 -- validation_loss: 98.021\n"
     ]
    },
    {
     "name": "stderr",
     "output_type": "stream",
     "text": [
      "100%|████████████████████████████| 200/200 [01:33<00:00,  2.14it/s, loss=-56.86]\n",
      "  0%|                                                   | 0/200 [00:00<?, ?it/s]"
     ]
    },
    {
     "name": "stdout",
     "output_type": "stream",
     "text": [
      "Epoch  47/ 50 -- train_loss: -57.724 -- validation_loss: 98.079\n"
     ]
    },
    {
     "name": "stderr",
     "output_type": "stream",
     "text": [
      "100%|████████████████████████████| 200/200 [01:34<00:00,  2.11it/s, loss=-62.96]\n",
      "  0%|                                                   | 0/200 [00:00<?, ?it/s]"
     ]
    },
    {
     "name": "stdout",
     "output_type": "stream",
     "text": [
      "Epoch  48/ 50 -- train_loss: -58.779 -- validation_loss: 98.152\n"
     ]
    },
    {
     "name": "stderr",
     "output_type": "stream",
     "text": [
      "100%|████████████████████████████| 200/200 [01:32<00:00,  2.16it/s, loss=-56.20]\n",
      "  0%|                                                   | 0/200 [00:00<?, ?it/s]"
     ]
    },
    {
     "name": "stdout",
     "output_type": "stream",
     "text": [
      "Epoch  49/ 50 -- train_loss: -57.185 -- validation_loss: 98.291\n"
     ]
    },
    {
     "name": "stderr",
     "output_type": "stream",
     "text": [
      "100%|████████████████████████████| 200/200 [01:19<00:00,  2.51it/s, loss=-59.14]\n"
     ]
    },
    {
     "name": "stdout",
     "output_type": "stream",
     "text": [
      "Epoch  50/ 50 -- train_loss: -58.949 -- validation_loss: 98.383\n",
      "###### Stop training after 50 epochs!\n",
      "Validation loss: 98.383\n",
      "Test loss:       98.508\n"
     ]
    },
    {
     "name": "stderr",
     "output_type": "stream",
     "text": [
      "\r",
      "  0%|                                                     | 0/4 [00:00<?, ?it/s]"
     ]
    },
    {
     "name": "stdout",
     "output_type": "stream",
     "text": [
      "Loading dataset..\n",
      "Creating directory experiment..\n",
      "Creating BNAF model..\n",
      "Creating optimizer..\n",
      "Creating scheduler..\n",
      "Training..\n"
     ]
    },
    {
     "name": "stderr",
     "output_type": "stream",
     "text": [
      "100%|████████████████████████████████| 4/4 [00:01<00:00,  2.70it/s, loss=157.23]\n",
      "  0%|                                                     | 0/4 [00:00<?, ?it/s]"
     ]
    },
    {
     "name": "stdout",
     "output_type": "stream",
     "text": [
      "Epoch   1/ 50 -- train_loss: 175.700 -- validation_loss: 981.205\n",
      "Saving model..\n"
     ]
    },
    {
     "name": "stderr",
     "output_type": "stream",
     "text": [
      "100%|████████████████████████████████| 4/4 [00:01<00:00,  2.71it/s, loss=123.27]\n",
      "  0%|                                                     | 0/4 [00:00<?, ?it/s]"
     ]
    },
    {
     "name": "stdout",
     "output_type": "stream",
     "text": [
      "Epoch   2/ 50 -- train_loss: 135.873 -- validation_loss: 966.766\n",
      "Saving model..\n"
     ]
    },
    {
     "name": "stderr",
     "output_type": "stream",
     "text": [
      "100%|█████████████████████████████████| 4/4 [00:01<00:00,  2.69it/s, loss=92.77]\n",
      "  0%|                                                     | 0/4 [00:00<?, ?it/s]"
     ]
    },
    {
     "name": "stdout",
     "output_type": "stream",
     "text": [
      "Epoch   3/ 50 -- train_loss: 100.433 -- validation_loss: 951.843\n",
      "Saving model..\n"
     ]
    },
    {
     "name": "stderr",
     "output_type": "stream",
     "text": [
      "100%|█████████████████████████████████| 4/4 [00:01<00:00,  2.74it/s, loss=75.89]\n",
      "  0%|                                                     | 0/4 [00:00<?, ?it/s]"
     ]
    },
    {
     "name": "stdout",
     "output_type": "stream",
     "text": [
      "Epoch   4/ 50 -- train_loss: 79.068 -- validation_loss: 936.508\n",
      "Saving model..\n"
     ]
    },
    {
     "name": "stderr",
     "output_type": "stream",
     "text": [
      "100%|█████████████████████████████████| 4/4 [00:01<00:00,  2.69it/s, loss=51.06]\n",
      "  0%|                                                     | 0/4 [00:00<?, ?it/s]"
     ]
    },
    {
     "name": "stdout",
     "output_type": "stream",
     "text": [
      "Epoch   5/ 50 -- train_loss: 59.896 -- validation_loss: 920.944\n",
      "Saving model..\n"
     ]
    },
    {
     "name": "stderr",
     "output_type": "stream",
     "text": [
      "100%|█████████████████████████████████| 4/4 [00:01<00:00,  2.72it/s, loss=44.09]\n",
      "  0%|                                                     | 0/4 [00:00<?, ?it/s]"
     ]
    },
    {
     "name": "stdout",
     "output_type": "stream",
     "text": [
      "Epoch   6/ 50 -- train_loss: 45.619 -- validation_loss: 905.077\n",
      "Saving model..\n"
     ]
    },
    {
     "name": "stderr",
     "output_type": "stream",
     "text": [
      "100%|█████████████████████████████████| 4/4 [00:01<00:00,  2.74it/s, loss=33.67]\n",
      "  0%|                                                     | 0/4 [00:00<?, ?it/s]"
     ]
    },
    {
     "name": "stdout",
     "output_type": "stream",
     "text": [
      "Epoch   7/ 50 -- train_loss: 36.535 -- validation_loss: 889.504\n",
      "Saving model..\n"
     ]
    },
    {
     "name": "stderr",
     "output_type": "stream",
     "text": [
      "100%|█████████████████████████████████| 4/4 [00:01<00:00,  2.71it/s, loss=28.17]\n",
      "  0%|                                                     | 0/4 [00:00<?, ?it/s]"
     ]
    },
    {
     "name": "stdout",
     "output_type": "stream",
     "text": [
      "Epoch   8/ 50 -- train_loss: 29.565 -- validation_loss: 873.975\n",
      "Saving model..\n"
     ]
    },
    {
     "name": "stderr",
     "output_type": "stream",
     "text": [
      "100%|█████████████████████████████████| 4/4 [00:01<00:00,  2.69it/s, loss=23.59]\n",
      "  0%|                                                     | 0/4 [00:00<?, ?it/s]"
     ]
    },
    {
     "name": "stdout",
     "output_type": "stream",
     "text": [
      "Epoch   9/ 50 -- train_loss: 24.831 -- validation_loss: 858.950\n",
      "Saving model..\n"
     ]
    },
    {
     "name": "stderr",
     "output_type": "stream",
     "text": [
      "100%|█████████████████████████████████| 4/4 [00:01<00:00,  2.62it/s, loss=21.54]\n",
      "  0%|                                                     | 0/4 [00:00<?, ?it/s]"
     ]
    },
    {
     "name": "stdout",
     "output_type": "stream",
     "text": [
      "Epoch  10/ 50 -- train_loss: 21.541 -- validation_loss: 844.018\n",
      "Saving model..\n"
     ]
    },
    {
     "name": "stderr",
     "output_type": "stream",
     "text": [
      "100%|█████████████████████████████████| 4/4 [00:01<00:00,  2.64it/s, loss=17.59]\n",
      "  0%|                                                     | 0/4 [00:00<?, ?it/s]"
     ]
    },
    {
     "name": "stdout",
     "output_type": "stream",
     "text": [
      "Epoch  11/ 50 -- train_loss: 18.833 -- validation_loss: 829.517\n",
      "Saving model..\n"
     ]
    },
    {
     "name": "stderr",
     "output_type": "stream",
     "text": [
      "100%|█████████████████████████████████| 4/4 [00:01<00:00,  2.70it/s, loss=15.09]\n",
      "  0%|                                                     | 0/4 [00:00<?, ?it/s]"
     ]
    },
    {
     "name": "stdout",
     "output_type": "stream",
     "text": [
      "Epoch  12/ 50 -- train_loss: 15.825 -- validation_loss: 815.390\n",
      "Saving model..\n"
     ]
    },
    {
     "name": "stderr",
     "output_type": "stream",
     "text": [
      "100%|█████████████████████████████████| 4/4 [00:01<00:00,  2.71it/s, loss=13.30]\n",
      "  0%|                                                     | 0/4 [00:00<?, ?it/s]"
     ]
    },
    {
     "name": "stdout",
     "output_type": "stream",
     "text": [
      "Epoch  13/ 50 -- train_loss: 14.251 -- validation_loss: 801.629\n",
      "Saving model..\n"
     ]
    },
    {
     "name": "stderr",
     "output_type": "stream",
     "text": [
      "100%|█████████████████████████████████| 4/4 [00:01<00:00,  2.69it/s, loss=13.89]\n",
      "  0%|                                                     | 0/4 [00:00<?, ?it/s]"
     ]
    },
    {
     "name": "stdout",
     "output_type": "stream",
     "text": [
      "Epoch  14/ 50 -- train_loss: 12.241 -- validation_loss: 788.430\n",
      "Saving model..\n"
     ]
    },
    {
     "name": "stderr",
     "output_type": "stream",
     "text": [
      "100%|█████████████████████████████████| 4/4 [00:01<00:00,  2.60it/s, loss=10.09]\n",
      "  0%|                                                     | 0/4 [00:00<?, ?it/s]"
     ]
    },
    {
     "name": "stdout",
     "output_type": "stream",
     "text": [
      "Epoch  15/ 50 -- train_loss: 11.481 -- validation_loss: 775.651\n",
      "Saving model..\n"
     ]
    },
    {
     "name": "stderr",
     "output_type": "stream",
     "text": [
      "100%|█████████████████████████████████| 4/4 [00:01<00:00,  2.68it/s, loss=10.02]\n",
      "  0%|                                                     | 0/4 [00:00<?, ?it/s]"
     ]
    },
    {
     "name": "stdout",
     "output_type": "stream",
     "text": [
      "Epoch  16/ 50 -- train_loss: 9.662 -- validation_loss: 763.295\n",
      "Saving model..\n"
     ]
    },
    {
     "name": "stderr",
     "output_type": "stream",
     "text": [
      "100%|██████████████████████████████████| 4/4 [00:01<00:00,  2.76it/s, loss=8.25]\n",
      "  0%|                                                     | 0/4 [00:00<?, ?it/s]"
     ]
    },
    {
     "name": "stdout",
     "output_type": "stream",
     "text": [
      "Epoch  17/ 50 -- train_loss: 8.349 -- validation_loss: 751.273\n",
      "Saving model..\n"
     ]
    },
    {
     "name": "stderr",
     "output_type": "stream",
     "text": [
      "100%|██████████████████████████████████| 4/4 [00:01<00:00,  2.74it/s, loss=6.83]\n",
      "  0%|                                                     | 0/4 [00:00<?, ?it/s]"
     ]
    },
    {
     "name": "stdout",
     "output_type": "stream",
     "text": [
      "Epoch  18/ 50 -- train_loss: 7.152 -- validation_loss: 739.570\n",
      "Saving model..\n"
     ]
    },
    {
     "name": "stderr",
     "output_type": "stream",
     "text": [
      "100%|██████████████████████████████████| 4/4 [00:01<00:00,  2.71it/s, loss=7.77]\n",
      "  0%|                                                     | 0/4 [00:00<?, ?it/s]"
     ]
    },
    {
     "name": "stdout",
     "output_type": "stream",
     "text": [
      "Epoch  19/ 50 -- train_loss: 6.674 -- validation_loss: 728.175\n",
      "Saving model..\n"
     ]
    },
    {
     "name": "stderr",
     "output_type": "stream",
     "text": [
      "100%|██████████████████████████████████| 4/4 [00:01<00:00,  2.58it/s, loss=6.60]\n",
      "  0%|                                                     | 0/4 [00:00<?, ?it/s]"
     ]
    },
    {
     "name": "stdout",
     "output_type": "stream",
     "text": [
      "Epoch  20/ 50 -- train_loss: 5.627 -- validation_loss: 717.130\n",
      "Saving model..\n"
     ]
    },
    {
     "name": "stderr",
     "output_type": "stream",
     "text": [
      "100%|██████████████████████████████████| 4/4 [00:01<00:00,  2.63it/s, loss=3.01]\n",
      "  0%|                                                     | 0/4 [00:00<?, ?it/s]"
     ]
    },
    {
     "name": "stdout",
     "output_type": "stream",
     "text": [
      "Epoch  21/ 50 -- train_loss: 4.281 -- validation_loss: 706.434\n",
      "Saving model..\n"
     ]
    },
    {
     "name": "stderr",
     "output_type": "stream",
     "text": [
      "100%|██████████████████████████████████| 4/4 [00:01<00:00,  2.60it/s, loss=4.40]\n",
      "  0%|                                                     | 0/4 [00:00<?, ?it/s]"
     ]
    },
    {
     "name": "stdout",
     "output_type": "stream",
     "text": [
      "Epoch  22/ 50 -- train_loss: 3.286 -- validation_loss: 696.028\n",
      "Saving model..\n"
     ]
    },
    {
     "name": "stderr",
     "output_type": "stream",
     "text": [
      "100%|██████████████████████████████████| 4/4 [00:01<00:00,  2.58it/s, loss=1.19]\n",
      "  0%|                                                     | 0/4 [00:00<?, ?it/s]"
     ]
    },
    {
     "name": "stdout",
     "output_type": "stream",
     "text": [
      "Epoch  23/ 50 -- train_loss: 2.685 -- validation_loss: 686.077\n",
      "Saving model..\n"
     ]
    },
    {
     "name": "stderr",
     "output_type": "stream",
     "text": [
      "100%|██████████████████████████████████| 4/4 [00:01<00:00,  2.55it/s, loss=1.53]\n",
      "  0%|                                                     | 0/4 [00:00<?, ?it/s]"
     ]
    },
    {
     "name": "stdout",
     "output_type": "stream",
     "text": [
      "Epoch  24/ 50 -- train_loss: 2.227 -- validation_loss: 676.345\n",
      "Saving model..\n"
     ]
    },
    {
     "name": "stderr",
     "output_type": "stream",
     "text": [
      "100%|██████████████████████████████████| 4/4 [00:01<00:00,  2.53it/s, loss=2.54]\n",
      "  0%|                                                     | 0/4 [00:00<?, ?it/s]"
     ]
    },
    {
     "name": "stdout",
     "output_type": "stream",
     "text": [
      "Epoch  25/ 50 -- train_loss: 1.465 -- validation_loss: 666.856\n",
      "Saving model..\n"
     ]
    },
    {
     "name": "stderr",
     "output_type": "stream",
     "text": [
      "100%|██████████████████████████████████| 4/4 [00:01<00:00,  2.65it/s, loss=2.67]\n",
      "  0%|                                                     | 0/4 [00:00<?, ?it/s]"
     ]
    },
    {
     "name": "stdout",
     "output_type": "stream",
     "text": [
      "Epoch  26/ 50 -- train_loss: 1.024 -- validation_loss: 657.586\n",
      "Saving model..\n"
     ]
    },
    {
     "name": "stderr",
     "output_type": "stream",
     "text": [
      "100%|█████████████████████████████████| 4/4 [00:01<00:00,  2.65it/s, loss=-1.73]\n",
      "  0%|                                                     | 0/4 [00:00<?, ?it/s]"
     ]
    },
    {
     "name": "stdout",
     "output_type": "stream",
     "text": [
      "Epoch  27/ 50 -- train_loss: 0.272 -- validation_loss: 648.663\n",
      "Saving model..\n"
     ]
    },
    {
     "name": "stderr",
     "output_type": "stream",
     "text": [
      "100%|██████████████████████████████████| 4/4 [00:01<00:00,  2.62it/s, loss=0.59]\n",
      "  0%|                                                     | 0/4 [00:00<?, ?it/s]"
     ]
    },
    {
     "name": "stdout",
     "output_type": "stream",
     "text": [
      "Epoch  28/ 50 -- train_loss: 0.008 -- validation_loss: 640.005\n",
      "Saving model..\n"
     ]
    },
    {
     "name": "stderr",
     "output_type": "stream",
     "text": [
      "100%|█████████████████████████████████| 4/4 [00:01<00:00,  2.68it/s, loss=-2.88]\n",
      "  0%|                                                     | 0/4 [00:00<?, ?it/s]"
     ]
    },
    {
     "name": "stdout",
     "output_type": "stream",
     "text": [
      "Epoch  29/ 50 -- train_loss: -0.706 -- validation_loss: 631.574\n",
      "Saving model..\n"
     ]
    },
    {
     "name": "stderr",
     "output_type": "stream",
     "text": [
      "100%|█████████████████████████████████| 4/4 [00:01<00:00,  2.55it/s, loss=-1.18]\n"
     ]
    },
    {
     "name": "stdout",
     "output_type": "stream",
     "text": [
      "Epoch  30/ 50 -- train_loss: -2.024 -- validation_loss: 623.304\n",
      "Saving model..\n"
     ]
    },
    {
     "name": "stderr",
     "output_type": "stream",
     "text": [
      "100%|█████████████████████████████████| 4/4 [00:01<00:00,  2.71it/s, loss=-2.78]\n",
      "  0%|                                                     | 0/4 [00:00<?, ?it/s]"
     ]
    },
    {
     "name": "stdout",
     "output_type": "stream",
     "text": [
      "Epoch  31/ 50 -- train_loss: -2.286 -- validation_loss: 615.413\n",
      "Saving model..\n"
     ]
    },
    {
     "name": "stderr",
     "output_type": "stream",
     "text": [
      "100%|█████████████████████████████████| 4/4 [00:01<00:00,  2.69it/s, loss=-2.74]\n",
      "  0%|                                                     | 0/4 [00:00<?, ?it/s]"
     ]
    },
    {
     "name": "stdout",
     "output_type": "stream",
     "text": [
      "Epoch  32/ 50 -- train_loss: -2.986 -- validation_loss: 607.663\n",
      "Saving model..\n"
     ]
    },
    {
     "name": "stderr",
     "output_type": "stream",
     "text": [
      "100%|█████████████████████████████████| 4/4 [00:01<00:00,  2.74it/s, loss=-3.90]\n",
      "  0%|                                                     | 0/4 [00:00<?, ?it/s]"
     ]
    },
    {
     "name": "stdout",
     "output_type": "stream",
     "text": [
      "Epoch  33/ 50 -- train_loss: -3.401 -- validation_loss: 600.167\n",
      "Saving model..\n"
     ]
    },
    {
     "name": "stderr",
     "output_type": "stream",
     "text": [
      "100%|█████████████████████████████████| 4/4 [00:01<00:00,  2.73it/s, loss=-2.96]\n",
      "  0%|                                                     | 0/4 [00:00<?, ?it/s]"
     ]
    },
    {
     "name": "stdout",
     "output_type": "stream",
     "text": [
      "Epoch  34/ 50 -- train_loss: -3.625 -- validation_loss: 592.865\n",
      "Saving model..\n"
     ]
    },
    {
     "name": "stderr",
     "output_type": "stream",
     "text": [
      "100%|█████████████████████████████████| 4/4 [00:01<00:00,  2.73it/s, loss=-4.43]\n",
      "  0%|                                                     | 0/4 [00:00<?, ?it/s]"
     ]
    },
    {
     "name": "stdout",
     "output_type": "stream",
     "text": [
      "Epoch  35/ 50 -- train_loss: -3.739 -- validation_loss: 585.778\n",
      "Saving model..\n"
     ]
    },
    {
     "name": "stderr",
     "output_type": "stream",
     "text": [
      "100%|█████████████████████████████████| 4/4 [00:01<00:00,  2.64it/s, loss=-2.59]\n",
      "  0%|                                                     | 0/4 [00:00<?, ?it/s]"
     ]
    },
    {
     "name": "stdout",
     "output_type": "stream",
     "text": [
      "Epoch  36/ 50 -- train_loss: -2.997 -- validation_loss: 578.909\n",
      "Saving model..\n"
     ]
    },
    {
     "name": "stderr",
     "output_type": "stream",
     "text": [
      "100%|█████████████████████████████████| 4/4 [00:01<00:00,  2.66it/s, loss=-0.87]\n",
      "  0%|                                                     | 0/4 [00:00<?, ?it/s]"
     ]
    },
    {
     "name": "stdout",
     "output_type": "stream",
     "text": [
      "Epoch  37/ 50 -- train_loss: -3.629 -- validation_loss: 572.090\n",
      "Saving model..\n"
     ]
    },
    {
     "name": "stderr",
     "output_type": "stream",
     "text": [
      "100%|█████████████████████████████████| 4/4 [00:01<00:00,  2.74it/s, loss=-5.24]\n",
      "  0%|                                                     | 0/4 [00:00<?, ?it/s]"
     ]
    },
    {
     "name": "stdout",
     "output_type": "stream",
     "text": [
      "Epoch  38/ 50 -- train_loss: -3.763 -- validation_loss: 565.537\n",
      "Saving model..\n"
     ]
    },
    {
     "name": "stderr",
     "output_type": "stream",
     "text": [
      "100%|█████████████████████████████████| 4/4 [00:01<00:00,  2.71it/s, loss=-5.57]\n",
      "  0%|                                                     | 0/4 [00:00<?, ?it/s]"
     ]
    },
    {
     "name": "stdout",
     "output_type": "stream",
     "text": [
      "Epoch  39/ 50 -- train_loss: -3.844 -- validation_loss: 559.086\n",
      "Saving model..\n"
     ]
    },
    {
     "name": "stderr",
     "output_type": "stream",
     "text": [
      "100%|█████████████████████████████████| 4/4 [00:01<00:00,  2.71it/s, loss=-5.35]\n",
      "  0%|                                                     | 0/4 [00:00<?, ?it/s]"
     ]
    },
    {
     "name": "stdout",
     "output_type": "stream",
     "text": [
      "Epoch  40/ 50 -- train_loss: -4.454 -- validation_loss: 552.797\n",
      "Saving model..\n"
     ]
    },
    {
     "name": "stderr",
     "output_type": "stream",
     "text": [
      "100%|█████████████████████████████████| 4/4 [00:01<00:00,  2.61it/s, loss=-8.01]\n",
      "  0%|                                                     | 0/4 [00:00<?, ?it/s]"
     ]
    },
    {
     "name": "stdout",
     "output_type": "stream",
     "text": [
      "Epoch  41/ 50 -- train_loss: -5.272 -- validation_loss: 546.575\n",
      "Saving model..\n"
     ]
    },
    {
     "name": "stderr",
     "output_type": "stream",
     "text": [
      "100%|█████████████████████████████████| 4/4 [00:01<00:00,  2.71it/s, loss=-5.86]\n",
      "  0%|                                                     | 0/4 [00:00<?, ?it/s]"
     ]
    },
    {
     "name": "stdout",
     "output_type": "stream",
     "text": [
      "Epoch  42/ 50 -- train_loss: -5.443 -- validation_loss: 540.675\n",
      "Saving model..\n"
     ]
    },
    {
     "name": "stderr",
     "output_type": "stream",
     "text": [
      "100%|█████████████████████████████████| 4/4 [00:01<00:00,  2.69it/s, loss=-7.94]\n",
      "  0%|                                                     | 0/4 [00:00<?, ?it/s]"
     ]
    },
    {
     "name": "stdout",
     "output_type": "stream",
     "text": [
      "Epoch  43/ 50 -- train_loss: -5.924 -- validation_loss: 534.836\n",
      "Saving model..\n"
     ]
    },
    {
     "name": "stderr",
     "output_type": "stream",
     "text": [
      "100%|█████████████████████████████████| 4/4 [00:01<00:00,  2.73it/s, loss=-6.21]\n",
      "  0%|                                                     | 0/4 [00:00<?, ?it/s]"
     ]
    },
    {
     "name": "stdout",
     "output_type": "stream",
     "text": [
      "Epoch  44/ 50 -- train_loss: -5.703 -- validation_loss: 529.153\n",
      "Saving model..\n"
     ]
    },
    {
     "name": "stderr",
     "output_type": "stream",
     "text": [
      "100%|█████████████████████████████████| 4/4 [00:01<00:00,  2.70it/s, loss=-5.90]\n",
      "  0%|                                                     | 0/4 [00:00<?, ?it/s]"
     ]
    },
    {
     "name": "stdout",
     "output_type": "stream",
     "text": [
      "Epoch  45/ 50 -- train_loss: -6.634 -- validation_loss: 523.661\n",
      "Saving model..\n"
     ]
    },
    {
     "name": "stderr",
     "output_type": "stream",
     "text": [
      "100%|█████████████████████████████████| 4/4 [00:01<00:00,  2.61it/s, loss=-8.94]\n",
      "  0%|                                                     | 0/4 [00:00<?, ?it/s]"
     ]
    },
    {
     "name": "stdout",
     "output_type": "stream",
     "text": [
      "Epoch  46/ 50 -- train_loss: -6.771 -- validation_loss: 518.157\n",
      "Saving model..\n"
     ]
    },
    {
     "name": "stderr",
     "output_type": "stream",
     "text": [
      "100%|█████████████████████████████████| 4/4 [00:01<00:00,  2.73it/s, loss=-8.45]\n",
      "  0%|                                                     | 0/4 [00:00<?, ?it/s]"
     ]
    },
    {
     "name": "stdout",
     "output_type": "stream",
     "text": [
      "Epoch  47/ 50 -- train_loss: -5.881 -- validation_loss: 512.898\n",
      "Saving model..\n"
     ]
    },
    {
     "name": "stderr",
     "output_type": "stream",
     "text": [
      "100%|█████████████████████████████████| 4/4 [00:01<00:00,  2.79it/s, loss=-6.30]\n",
      "  0%|                                                     | 0/4 [00:00<?, ?it/s]"
     ]
    },
    {
     "name": "stdout",
     "output_type": "stream",
     "text": [
      "Epoch  48/ 50 -- train_loss: -6.051 -- validation_loss: 507.661\n",
      "Saving model..\n"
     ]
    },
    {
     "name": "stderr",
     "output_type": "stream",
     "text": [
      "100%|█████████████████████████████████| 4/4 [00:01<00:00,  2.72it/s, loss=-6.16]\n",
      "  0%|                                                     | 0/4 [00:00<?, ?it/s]"
     ]
    },
    {
     "name": "stdout",
     "output_type": "stream",
     "text": [
      "Epoch  49/ 50 -- train_loss: -5.680 -- validation_loss: 502.485\n",
      "Saving model..\n"
     ]
    },
    {
     "name": "stderr",
     "output_type": "stream",
     "text": [
      "100%|█████████████████████████████████| 4/4 [00:01<00:00,  2.69it/s, loss=-3.75]\n"
     ]
    },
    {
     "name": "stdout",
     "output_type": "stream",
     "text": [
      "Epoch  50/ 50 -- train_loss: -5.497 -- validation_loss: 497.444\n",
      "Saving model..\n"
     ]
    },
    {
     "name": "stderr",
     "output_type": "stream",
     "text": [
      "\r",
      "  0%|                                                   | 0/200 [00:00<?, ?it/s]"
     ]
    },
    {
     "name": "stdout",
     "output_type": "stream",
     "text": [
      "###### Stop training after 50 epochs!\n",
      "Validation loss: 497.444\n",
      "Test loss:       492.647\n",
      "Loading dataset..\n",
      "No validation set passed\n",
      "No test set passed\n",
      "Creating directory experiment..\n",
      "Creating BNAF model..\n",
      "Creating optimizer..\n",
      "Creating scheduler..\n",
      "Training..\n"
     ]
    },
    {
     "name": "stderr",
     "output_type": "stream",
     "text": [
      "100%|█████████████████████████████| 200/200 [01:15<00:00,  2.67it/s, loss=-9.33]\n",
      "  0%|                                                   | 0/200 [00:00<?, ?it/s]"
     ]
    },
    {
     "name": "stdout",
     "output_type": "stream",
     "text": [
      "Epoch   1/ 50 -- train_loss: 6.712 -- validation_loss: 501.849\n",
      "Saving model..\n"
     ]
    },
    {
     "name": "stderr",
     "output_type": "stream",
     "text": [
      "100%|████████████████████████████| 200/200 [01:14<00:00,  2.69it/s, loss=-21.94]\n",
      "  0%|                                                   | 0/200 [00:00<?, ?it/s]"
     ]
    },
    {
     "name": "stdout",
     "output_type": "stream",
     "text": [
      "Epoch   2/ 50 -- train_loss: -13.960 -- validation_loss: 330.730\n",
      "Saving model..\n"
     ]
    },
    {
     "name": "stderr",
     "output_type": "stream",
     "text": [
      "100%|████████████████████████████| 200/200 [01:14<00:00,  2.68it/s, loss=-20.25]\n",
      "  0%|                                                   | 0/200 [00:00<?, ?it/s]"
     ]
    },
    {
     "name": "stdout",
     "output_type": "stream",
     "text": [
      "Epoch   3/ 50 -- train_loss: -17.175 -- validation_loss: 231.699\n",
      "Saving model..\n"
     ]
    },
    {
     "name": "stderr",
     "output_type": "stream",
     "text": [
      "100%|████████████████████████████| 200/200 [01:15<00:00,  2.65it/s, loss=-23.80]\n",
      "  0%|                                                   | 0/200 [00:00<?, ?it/s]"
     ]
    },
    {
     "name": "stdout",
     "output_type": "stream",
     "text": [
      "Epoch   4/ 50 -- train_loss: -20.650 -- validation_loss: 170.299\n",
      "Saving model..\n"
     ]
    },
    {
     "name": "stderr",
     "output_type": "stream",
     "text": [
      "100%|████████████████████████████| 200/200 [01:15<00:00,  2.65it/s, loss=-28.80]\n",
      "  0%|                                                   | 0/200 [00:00<?, ?it/s]"
     ]
    },
    {
     "name": "stdout",
     "output_type": "stream",
     "text": [
      "Epoch   5/ 50 -- train_loss: -24.329 -- validation_loss: 134.538\n",
      "Saving model..\n"
     ]
    },
    {
     "name": "stderr",
     "output_type": "stream",
     "text": [
      "100%|████████████████████████████| 200/200 [01:15<00:00,  2.65it/s, loss=-28.93]\n",
      "  0%|                                                   | 0/200 [00:00<?, ?it/s]"
     ]
    },
    {
     "name": "stdout",
     "output_type": "stream",
     "text": [
      "Epoch   6/ 50 -- train_loss: -26.292 -- validation_loss: 114.410\n",
      "Saving model..\n"
     ]
    },
    {
     "name": "stderr",
     "output_type": "stream",
     "text": [
      "100%|████████████████████████████| 200/200 [01:14<00:00,  2.69it/s, loss=-30.46]\n",
      "  0%|                                                   | 0/200 [00:00<?, ?it/s]"
     ]
    },
    {
     "name": "stdout",
     "output_type": "stream",
     "text": [
      "Epoch   7/ 50 -- train_loss: -28.615 -- validation_loss: 103.645\n",
      "Saving model..\n"
     ]
    },
    {
     "name": "stderr",
     "output_type": "stream",
     "text": [
      "100%|████████████████████████████| 200/200 [01:12<00:00,  2.76it/s, loss=-27.54]\n",
      "  0%|                                                   | 0/200 [00:00<?, ?it/s]"
     ]
    },
    {
     "name": "stdout",
     "output_type": "stream",
     "text": [
      "Epoch   8/ 50 -- train_loss: -29.830 -- validation_loss: 97.891\n",
      "Saving model..\n"
     ]
    },
    {
     "name": "stderr",
     "output_type": "stream",
     "text": [
      "100%|████████████████████████████| 200/200 [01:12<00:00,  2.75it/s, loss=-29.26]\n",
      "  0%|                                                   | 0/200 [00:00<?, ?it/s]"
     ]
    },
    {
     "name": "stdout",
     "output_type": "stream",
     "text": [
      "Epoch   9/ 50 -- train_loss: -31.388 -- validation_loss: 94.950\n",
      "Saving model..\n"
     ]
    },
    {
     "name": "stderr",
     "output_type": "stream",
     "text": [
      "100%|████████████████████████████| 200/200 [01:14<00:00,  2.68it/s, loss=-33.50]\n",
      "  0%|                                                   | 0/200 [00:00<?, ?it/s]"
     ]
    },
    {
     "name": "stdout",
     "output_type": "stream",
     "text": [
      "Epoch  10/ 50 -- train_loss: -31.705 -- validation_loss: 93.374\n",
      "Saving model..\n"
     ]
    },
    {
     "name": "stderr",
     "output_type": "stream",
     "text": [
      "100%|████████████████████████████| 200/200 [01:12<00:00,  2.76it/s, loss=-36.22]\n",
      "  0%|                                                   | 0/200 [00:00<?, ?it/s]"
     ]
    },
    {
     "name": "stdout",
     "output_type": "stream",
     "text": [
      "Epoch  11/ 50 -- train_loss: -33.740 -- validation_loss: 92.867\n",
      "Saving model..\n"
     ]
    },
    {
     "name": "stderr",
     "output_type": "stream",
     "text": [
      "100%|████████████████████████████| 200/200 [01:12<00:00,  2.76it/s, loss=-35.27]\n",
      "  0%|                                                   | 0/200 [00:00<?, ?it/s]"
     ]
    },
    {
     "name": "stdout",
     "output_type": "stream",
     "text": [
      "Epoch  12/ 50 -- train_loss: -35.524 -- validation_loss: 92.982\n"
     ]
    },
    {
     "name": "stderr",
     "output_type": "stream",
     "text": [
      "100%|████████████████████████████| 200/200 [01:12<00:00,  2.77it/s, loss=-36.48]\n",
      "  0%|                                                   | 0/200 [00:00<?, ?it/s]"
     ]
    },
    {
     "name": "stdout",
     "output_type": "stream",
     "text": [
      "Epoch  13/ 50 -- train_loss: -34.951 -- validation_loss: 93.087\n"
     ]
    },
    {
     "name": "stderr",
     "output_type": "stream",
     "text": [
      "100%|████████████████████████████| 200/200 [01:12<00:00,  2.76it/s, loss=-36.02]\n",
      "  0%|                                                   | 0/200 [00:00<?, ?it/s]"
     ]
    },
    {
     "name": "stdout",
     "output_type": "stream",
     "text": [
      "Epoch  14/ 50 -- train_loss: -36.534 -- validation_loss: 93.606\n"
     ]
    },
    {
     "name": "stderr",
     "output_type": "stream",
     "text": [
      "100%|████████████████████████████| 200/200 [01:12<00:00,  2.76it/s, loss=-36.83]\n",
      "  0%|                                                   | 0/200 [00:00<?, ?it/s]"
     ]
    },
    {
     "name": "stdout",
     "output_type": "stream",
     "text": [
      "Epoch  15/ 50 -- train_loss: -37.374 -- validation_loss: 94.165\n"
     ]
    },
    {
     "name": "stderr",
     "output_type": "stream",
     "text": [
      "100%|████████████████████████████| 200/200 [01:12<00:00,  2.77it/s, loss=-36.83]\n",
      "  0%|                                                   | 0/200 [00:00<?, ?it/s]"
     ]
    },
    {
     "name": "stdout",
     "output_type": "stream",
     "text": [
      "Epoch  16/ 50 -- train_loss: -38.880 -- validation_loss: 94.849\n"
     ]
    },
    {
     "name": "stderr",
     "output_type": "stream",
     "text": [
      "100%|████████████████████████████| 200/200 [01:12<00:00,  2.75it/s, loss=-42.67]\n",
      "  0%|                                                   | 0/200 [00:00<?, ?it/s]"
     ]
    },
    {
     "name": "stdout",
     "output_type": "stream",
     "text": [
      "Epoch  17/ 50 -- train_loss: -39.955 -- validation_loss: 95.860\n"
     ]
    },
    {
     "name": "stderr",
     "output_type": "stream",
     "text": [
      "100%|████████████████████████████| 200/200 [01:12<00:00,  2.76it/s, loss=-41.87]\n",
      "  0%|                                                   | 0/200 [00:00<?, ?it/s]"
     ]
    },
    {
     "name": "stdout",
     "output_type": "stream",
     "text": [
      "Epoch  18/ 50 -- train_loss: -41.358 -- validation_loss: 96.924\n"
     ]
    },
    {
     "name": "stderr",
     "output_type": "stream",
     "text": [
      "100%|████████████████████████████| 200/200 [01:12<00:00,  2.76it/s, loss=-43.13]\n",
      "  0%|                                                   | 0/200 [00:00<?, ?it/s]"
     ]
    },
    {
     "name": "stdout",
     "output_type": "stream",
     "text": [
      "Epoch  19/ 50 -- train_loss: -41.475 -- validation_loss: 97.896\n"
     ]
    },
    {
     "name": "stderr",
     "output_type": "stream",
     "text": [
      "100%|████████████████████████████| 200/200 [01:12<00:00,  2.76it/s, loss=-46.13]\n",
      "  0%|                                                   | 0/200 [00:00<?, ?it/s]"
     ]
    },
    {
     "name": "stdout",
     "output_type": "stream",
     "text": [
      "Epoch  20/ 50 -- train_loss: -42.789 -- validation_loss: 99.011\n"
     ]
    },
    {
     "name": "stderr",
     "output_type": "stream",
     "text": [
      "100%|████████████████████████████| 200/200 [01:12<00:00,  2.74it/s, loss=-47.13]\n",
      "  0%|                                                   | 0/200 [00:00<?, ?it/s]"
     ]
    },
    {
     "name": "stdout",
     "output_type": "stream",
     "text": [
      "Epoch  21/ 50 -- train_loss: -43.277 -- validation_loss: 100.145\n"
     ]
    },
    {
     "name": "stderr",
     "output_type": "stream",
     "text": [
      "100%|████████████████████████████| 200/200 [01:12<00:00,  2.75it/s, loss=-42.38]\n",
      "  0%|                                                   | 0/200 [00:00<?, ?it/s]"
     ]
    },
    {
     "name": "stdout",
     "output_type": "stream",
     "text": [
      "Epoch  22/ 50 -- train_loss: -44.937 -- validation_loss: 101.406\n"
     ]
    },
    {
     "name": "stderr",
     "output_type": "stream",
     "text": [
      "100%|████████████████████████████| 200/200 [01:12<00:00,  2.76it/s, loss=-51.48]\n",
      "  0%|                                                   | 0/200 [00:00<?, ?it/s]"
     ]
    },
    {
     "name": "stdout",
     "output_type": "stream",
     "text": [
      "Epoch  23/ 50 -- train_loss: -43.820 -- validation_loss: 102.128\n"
     ]
    },
    {
     "name": "stderr",
     "output_type": "stream",
     "text": [
      "100%|████████████████████████████| 200/200 [01:12<00:00,  2.76it/s, loss=-44.16]\n",
      "  0%|                                                   | 0/200 [00:00<?, ?it/s]"
     ]
    },
    {
     "name": "stdout",
     "output_type": "stream",
     "text": [
      "Epoch  24/ 50 -- train_loss: -45.279 -- validation_loss: 102.746\n"
     ]
    },
    {
     "name": "stderr",
     "output_type": "stream",
     "text": [
      "100%|████████████████████████████| 200/200 [01:12<00:00,  2.75it/s, loss=-46.90]\n",
      "  0%|                                                   | 0/200 [00:00<?, ?it/s]"
     ]
    },
    {
     "name": "stdout",
     "output_type": "stream",
     "text": [
      "Epoch  25/ 50 -- train_loss: -45.879 -- validation_loss: 103.634\n"
     ]
    },
    {
     "name": "stderr",
     "output_type": "stream",
     "text": [
      "100%|████████████████████████████| 200/200 [01:12<00:00,  2.76it/s, loss=-49.67]\n",
      "  0%|                                                   | 0/200 [00:00<?, ?it/s]"
     ]
    },
    {
     "name": "stdout",
     "output_type": "stream",
     "text": [
      "Epoch  26/ 50 -- train_loss: -46.120 -- validation_loss: 104.493\n"
     ]
    },
    {
     "name": "stderr",
     "output_type": "stream",
     "text": [
      "100%|████████████████████████████| 200/200 [01:12<00:00,  2.76it/s, loss=-42.04]\n",
      "  0%|                                                   | 0/200 [00:00<?, ?it/s]"
     ]
    },
    {
     "name": "stdout",
     "output_type": "stream",
     "text": [
      "Epoch  27/ 50 -- train_loss: -47.910 -- validation_loss: 105.551\n"
     ]
    },
    {
     "name": "stderr",
     "output_type": "stream",
     "text": [
      "100%|████████████████████████████| 200/200 [01:12<00:00,  2.76it/s, loss=-45.59]\n",
      "  0%|                                                   | 0/200 [00:00<?, ?it/s]"
     ]
    },
    {
     "name": "stdout",
     "output_type": "stream",
     "text": [
      "Epoch  28/ 50 -- train_loss: -46.620 -- validation_loss: 106.157\n"
     ]
    },
    {
     "name": "stderr",
     "output_type": "stream",
     "text": [
      "100%|████████████████████████████| 200/200 [01:12<00:00,  2.76it/s, loss=-48.14]\n",
      "  0%|                                                   | 0/200 [00:00<?, ?it/s]"
     ]
    },
    {
     "name": "stdout",
     "output_type": "stream",
     "text": [
      "Epoch  29/ 50 -- train_loss: -47.811 -- validation_loss: 106.670\n"
     ]
    },
    {
     "name": "stderr",
     "output_type": "stream",
     "text": [
      "100%|████████████████████████████| 200/200 [01:12<00:00,  2.76it/s, loss=-46.05]\n",
      "  0%|                                                   | 0/200 [00:00<?, ?it/s]"
     ]
    },
    {
     "name": "stdout",
     "output_type": "stream",
     "text": [
      "Epoch  30/ 50 -- train_loss: -48.078 -- validation_loss: 107.263\n"
     ]
    },
    {
     "name": "stderr",
     "output_type": "stream",
     "text": [
      "100%|████████████████████████████| 200/200 [01:12<00:00,  2.76it/s, loss=-48.81]\n",
      "  0%|                                                   | 0/200 [00:00<?, ?it/s]"
     ]
    },
    {
     "name": "stdout",
     "output_type": "stream",
     "text": [
      "Epoch  31/ 50 -- train_loss: -48.311 -- validation_loss: 107.779\n"
     ]
    },
    {
     "name": "stderr",
     "output_type": "stream",
     "text": [
      "100%|████████████████████████████| 200/200 [01:12<00:00,  2.75it/s, loss=-52.12]\n",
      "  0%|                                                   | 0/200 [00:00<?, ?it/s]"
     ]
    },
    {
     "name": "stdout",
     "output_type": "stream",
     "text": [
      "Epoch  32/ 50 -- train_loss: -49.449 -- validation_loss: 108.586\n",
      "Epoch 00032: reducing learning rate of group 0 to 5.0000e-03.\n"
     ]
    },
    {
     "name": "stderr",
     "output_type": "stream",
     "text": [
      "100%|████████████████████████████| 200/200 [01:12<00:00,  2.76it/s, loss=-59.01]\n",
      "  0%|                                                   | 0/200 [00:00<?, ?it/s]"
     ]
    },
    {
     "name": "stdout",
     "output_type": "stream",
     "text": [
      "Epoch  33/ 50 -- train_loss: -56.766 -- validation_loss: 110.072\n"
     ]
    },
    {
     "name": "stderr",
     "output_type": "stream",
     "text": [
      "100%|████████████████████████████| 200/200 [01:12<00:00,  2.75it/s, loss=-59.27]\n",
      "  0%|                                                   | 0/200 [00:00<?, ?it/s]"
     ]
    },
    {
     "name": "stdout",
     "output_type": "stream",
     "text": [
      "Epoch  34/ 50 -- train_loss: -58.447 -- validation_loss: 111.714\n"
     ]
    },
    {
     "name": "stderr",
     "output_type": "stream",
     "text": [
      "100%|████████████████████████████| 200/200 [01:12<00:00,  2.75it/s, loss=-60.97]\n",
      "  0%|                                                   | 0/200 [00:00<?, ?it/s]"
     ]
    },
    {
     "name": "stdout",
     "output_type": "stream",
     "text": [
      "Epoch  35/ 50 -- train_loss: -57.849 -- validation_loss: 112.916\n"
     ]
    },
    {
     "name": "stderr",
     "output_type": "stream",
     "text": [
      "100%|████████████████████████████| 200/200 [01:12<00:00,  2.75it/s, loss=-51.64]\n",
      "  0%|                                                   | 0/200 [00:00<?, ?it/s]"
     ]
    },
    {
     "name": "stdout",
     "output_type": "stream",
     "text": [
      "Epoch  36/ 50 -- train_loss: -59.520 -- validation_loss: 113.926\n"
     ]
    },
    {
     "name": "stderr",
     "output_type": "stream",
     "text": [
      "100%|████████████████████████████| 200/200 [01:12<00:00,  2.76it/s, loss=-53.56]\n",
      "  0%|                                                   | 0/200 [00:00<?, ?it/s]"
     ]
    },
    {
     "name": "stdout",
     "output_type": "stream",
     "text": [
      "Epoch  37/ 50 -- train_loss: -58.423 -- validation_loss: 114.686\n"
     ]
    },
    {
     "name": "stderr",
     "output_type": "stream",
     "text": [
      "100%|████████████████████████████| 200/200 [01:12<00:00,  2.76it/s, loss=-60.21]\n",
      "  0%|                                                   | 0/200 [00:00<?, ?it/s]"
     ]
    },
    {
     "name": "stdout",
     "output_type": "stream",
     "text": [
      "Epoch  38/ 50 -- train_loss: -58.799 -- validation_loss: 115.270\n"
     ]
    },
    {
     "name": "stderr",
     "output_type": "stream",
     "text": [
      "100%|████████████████████████████| 200/200 [01:12<00:00,  2.76it/s, loss=-55.82]\n",
      "  0%|                                                   | 0/200 [00:00<?, ?it/s]"
     ]
    },
    {
     "name": "stdout",
     "output_type": "stream",
     "text": [
      "Epoch  39/ 50 -- train_loss: -58.575 -- validation_loss: 115.709\n"
     ]
    },
    {
     "name": "stderr",
     "output_type": "stream",
     "text": [
      "100%|████████████████████████████| 200/200 [01:12<00:00,  2.75it/s, loss=-57.39]\n",
      "  0%|                                                   | 0/200 [00:00<?, ?it/s]"
     ]
    },
    {
     "name": "stdout",
     "output_type": "stream",
     "text": [
      "Epoch  40/ 50 -- train_loss: -59.304 -- validation_loss: 116.007\n"
     ]
    },
    {
     "name": "stderr",
     "output_type": "stream",
     "text": [
      "100%|████████████████████████████| 200/200 [01:12<00:00,  2.76it/s, loss=-59.88]\n",
      "  0%|                                                   | 0/200 [00:00<?, ?it/s]"
     ]
    },
    {
     "name": "stdout",
     "output_type": "stream",
     "text": [
      "Epoch  41/ 50 -- train_loss: -58.613 -- validation_loss: 116.280\n"
     ]
    },
    {
     "name": "stderr",
     "output_type": "stream",
     "text": [
      "100%|████████████████████████████| 200/200 [01:12<00:00,  2.75it/s, loss=-59.75]\n",
      "  0%|                                                   | 0/200 [00:00<?, ?it/s]"
     ]
    },
    {
     "name": "stdout",
     "output_type": "stream",
     "text": [
      "Epoch  42/ 50 -- train_loss: -58.517 -- validation_loss: 116.453\n"
     ]
    },
    {
     "name": "stderr",
     "output_type": "stream",
     "text": [
      "100%|████████████████████████████| 200/200 [01:12<00:00,  2.76it/s, loss=-60.13]\n",
      "  0%|                                                   | 0/200 [00:00<?, ?it/s]"
     ]
    },
    {
     "name": "stdout",
     "output_type": "stream",
     "text": [
      "Epoch  43/ 50 -- train_loss: -60.183 -- validation_loss: 116.559\n"
     ]
    },
    {
     "name": "stderr",
     "output_type": "stream",
     "text": [
      "100%|████████████████████████████| 200/200 [01:12<00:00,  2.76it/s, loss=-65.67]\n",
      "  0%|                                                   | 0/200 [00:00<?, ?it/s]"
     ]
    },
    {
     "name": "stdout",
     "output_type": "stream",
     "text": [
      "Epoch  44/ 50 -- train_loss: -60.059 -- validation_loss: 116.821\n"
     ]
    },
    {
     "name": "stderr",
     "output_type": "stream",
     "text": [
      "100%|████████████████████████████| 200/200 [01:12<00:00,  2.75it/s, loss=-57.23]\n",
      "  0%|                                                   | 0/200 [00:00<?, ?it/s]"
     ]
    },
    {
     "name": "stdout",
     "output_type": "stream",
     "text": [
      "Epoch  45/ 50 -- train_loss: -59.246 -- validation_loss: 117.072\n"
     ]
    },
    {
     "name": "stderr",
     "output_type": "stream",
     "text": [
      "100%|████████████████████████████| 200/200 [01:12<00:00,  2.75it/s, loss=-63.68]\n",
      "  0%|                                                   | 0/200 [00:00<?, ?it/s]"
     ]
    },
    {
     "name": "stdout",
     "output_type": "stream",
     "text": [
      "Epoch  46/ 50 -- train_loss: -60.672 -- validation_loss: 117.288\n"
     ]
    },
    {
     "name": "stderr",
     "output_type": "stream",
     "text": [
      "100%|████████████████████████████| 200/200 [01:12<00:00,  2.75it/s, loss=-60.75]\n",
      "  0%|                                                   | 0/200 [00:00<?, ?it/s]"
     ]
    },
    {
     "name": "stdout",
     "output_type": "stream",
     "text": [
      "Epoch  47/ 50 -- train_loss: -59.102 -- validation_loss: 117.506\n"
     ]
    },
    {
     "name": "stderr",
     "output_type": "stream",
     "text": [
      "100%|████████████████████████████| 200/200 [01:12<00:00,  2.76it/s, loss=-58.21]\n",
      "  0%|                                                   | 0/200 [00:00<?, ?it/s]"
     ]
    },
    {
     "name": "stdout",
     "output_type": "stream",
     "text": [
      "Epoch  48/ 50 -- train_loss: -60.436 -- validation_loss: 117.671\n"
     ]
    },
    {
     "name": "stderr",
     "output_type": "stream",
     "text": [
      "100%|████████████████████████████| 200/200 [01:12<00:00,  2.76it/s, loss=-55.36]\n",
      "  0%|                                                   | 0/200 [00:00<?, ?it/s]"
     ]
    },
    {
     "name": "stdout",
     "output_type": "stream",
     "text": [
      "Epoch  49/ 50 -- train_loss: -60.599 -- validation_loss: 117.834\n"
     ]
    },
    {
     "name": "stderr",
     "output_type": "stream",
     "text": [
      "100%|████████████████████████████| 200/200 [01:12<00:00,  2.76it/s, loss=-59.73]\n"
     ]
    },
    {
     "name": "stdout",
     "output_type": "stream",
     "text": [
      "Epoch  50/ 50 -- train_loss: -59.693 -- validation_loss: 117.969\n",
      "###### Stop training after 50 epochs!\n",
      "Validation loss: 117.969\n",
      "Test loss:       117.858\n"
     ]
    },
    {
     "name": "stderr",
     "output_type": "stream",
     "text": [
      "\r",
      "  0%|                                                     | 0/4 [00:00<?, ?it/s]"
     ]
    },
    {
     "name": "stdout",
     "output_type": "stream",
     "text": [
      "Loading dataset..\n",
      "Creating directory experiment..\n",
      "Creating BNAF model..\n",
      "Creating optimizer..\n",
      "Creating scheduler..\n",
      "Training..\n"
     ]
    },
    {
     "name": "stderr",
     "output_type": "stream",
     "text": [
      "100%|████████████████████████████████| 4/4 [00:01<00:00,  2.78it/s, loss=169.22]\n",
      "  0%|                                                     | 0/4 [00:00<?, ?it/s]"
     ]
    },
    {
     "name": "stdout",
     "output_type": "stream",
     "text": [
      "Epoch   1/ 50 -- train_loss: 191.216 -- validation_loss: 981.104\n",
      "Saving model..\n"
     ]
    },
    {
     "name": "stderr",
     "output_type": "stream",
     "text": [
      "100%|████████████████████████████████| 4/4 [00:01<00:00,  2.79it/s, loss=130.65]\n",
      "  0%|                                                     | 0/4 [00:00<?, ?it/s]"
     ]
    },
    {
     "name": "stdout",
     "output_type": "stream",
     "text": [
      "Epoch   2/ 50 -- train_loss: 143.488 -- validation_loss: 966.190\n",
      "Saving model..\n"
     ]
    },
    {
     "name": "stderr",
     "output_type": "stream",
     "text": [
      "100%|█████████████████████████████████| 4/4 [00:01<00:00,  2.80it/s, loss=96.02]\n",
      "  0%|                                                     | 0/4 [00:00<?, ?it/s]"
     ]
    },
    {
     "name": "stdout",
     "output_type": "stream",
     "text": [
      "Epoch   3/ 50 -- train_loss: 108.465 -- validation_loss: 950.436\n",
      "Saving model..\n"
     ]
    },
    {
     "name": "stderr",
     "output_type": "stream",
     "text": [
      "100%|█████████████████████████████████| 4/4 [00:01<00:00,  2.77it/s, loss=73.00]\n",
      "  0%|                                                     | 0/4 [00:00<?, ?it/s]"
     ]
    },
    {
     "name": "stdout",
     "output_type": "stream",
     "text": [
      "Epoch   4/ 50 -- train_loss: 80.484 -- validation_loss: 934.236\n",
      "Saving model..\n"
     ]
    },
    {
     "name": "stderr",
     "output_type": "stream",
     "text": [
      "100%|█████████████████████████████████| 4/4 [00:01<00:00,  2.75it/s, loss=55.63]\n",
      "  0%|                                                     | 0/4 [00:00<?, ?it/s]"
     ]
    },
    {
     "name": "stdout",
     "output_type": "stream",
     "text": [
      "Epoch   5/ 50 -- train_loss: 61.637 -- validation_loss: 917.703\n",
      "Saving model..\n"
     ]
    },
    {
     "name": "stderr",
     "output_type": "stream",
     "text": [
      "100%|█████████████████████████████████| 4/4 [00:01<00:00,  2.76it/s, loss=44.73]\n",
      "  0%|                                                     | 0/4 [00:00<?, ?it/s]"
     ]
    },
    {
     "name": "stdout",
     "output_type": "stream",
     "text": [
      "Epoch   6/ 50 -- train_loss: 48.270 -- validation_loss: 901.215\n",
      "Saving model..\n"
     ]
    },
    {
     "name": "stderr",
     "output_type": "stream",
     "text": [
      "100%|█████████████████████████████████| 4/4 [00:01<00:00,  2.76it/s, loss=35.50]\n",
      "  0%|                                                     | 0/4 [00:00<?, ?it/s]"
     ]
    },
    {
     "name": "stdout",
     "output_type": "stream",
     "text": [
      "Epoch   7/ 50 -- train_loss: 40.462 -- validation_loss: 885.001\n",
      "Saving model..\n"
     ]
    },
    {
     "name": "stderr",
     "output_type": "stream",
     "text": [
      "100%|█████████████████████████████████| 4/4 [00:01<00:00,  2.74it/s, loss=30.31]\n",
      "  0%|                                                     | 0/4 [00:00<?, ?it/s]"
     ]
    },
    {
     "name": "stdout",
     "output_type": "stream",
     "text": [
      "Epoch   8/ 50 -- train_loss: 34.196 -- validation_loss: 869.146\n",
      "Saving model..\n"
     ]
    },
    {
     "name": "stderr",
     "output_type": "stream",
     "text": [
      "100%|█████████████████████████████████| 4/4 [00:01<00:00,  2.78it/s, loss=29.42]\n",
      "  0%|                                                     | 0/4 [00:00<?, ?it/s]"
     ]
    },
    {
     "name": "stdout",
     "output_type": "stream",
     "text": [
      "Epoch   9/ 50 -- train_loss: 29.788 -- validation_loss: 853.667\n",
      "Saving model..\n"
     ]
    },
    {
     "name": "stderr",
     "output_type": "stream",
     "text": [
      "100%|█████████████████████████████████| 4/4 [00:01<00:00,  2.75it/s, loss=24.97]\n",
      "  0%|                                                     | 0/4 [00:00<?, ?it/s]"
     ]
    },
    {
     "name": "stdout",
     "output_type": "stream",
     "text": [
      "Epoch  10/ 50 -- train_loss: 25.873 -- validation_loss: 838.610\n",
      "Saving model..\n"
     ]
    },
    {
     "name": "stderr",
     "output_type": "stream",
     "text": [
      "100%|█████████████████████████████████| 4/4 [00:01<00:00,  2.79it/s, loss=22.24]\n",
      "  0%|                                                     | 0/4 [00:00<?, ?it/s]"
     ]
    },
    {
     "name": "stdout",
     "output_type": "stream",
     "text": [
      "Epoch  11/ 50 -- train_loss: 22.628 -- validation_loss: 823.704\n",
      "Saving model..\n"
     ]
    },
    {
     "name": "stderr",
     "output_type": "stream",
     "text": [
      "100%|█████████████████████████████████| 4/4 [00:01<00:00,  2.77it/s, loss=17.19]\n",
      "  0%|                                                     | 0/4 [00:00<?, ?it/s]"
     ]
    },
    {
     "name": "stdout",
     "output_type": "stream",
     "text": [
      "Epoch  12/ 50 -- train_loss: 19.107 -- validation_loss: 809.753\n",
      "Saving model..\n"
     ]
    },
    {
     "name": "stderr",
     "output_type": "stream",
     "text": [
      "100%|█████████████████████████████████| 4/4 [00:01<00:00,  2.82it/s, loss=18.45]\n",
      "  0%|                                                     | 0/4 [00:00<?, ?it/s]"
     ]
    },
    {
     "name": "stdout",
     "output_type": "stream",
     "text": [
      "Epoch  13/ 50 -- train_loss: 17.056 -- validation_loss: 796.182\n",
      "Saving model..\n"
     ]
    },
    {
     "name": "stderr",
     "output_type": "stream",
     "text": [
      "100%|█████████████████████████████████| 4/4 [00:01<00:00,  2.74it/s, loss=14.16]\n",
      "  0%|                                                     | 0/4 [00:00<?, ?it/s]"
     ]
    },
    {
     "name": "stdout",
     "output_type": "stream",
     "text": [
      "Epoch  14/ 50 -- train_loss: 15.195 -- validation_loss: 783.004\n",
      "Saving model..\n"
     ]
    },
    {
     "name": "stderr",
     "output_type": "stream",
     "text": [
      "100%|█████████████████████████████████| 4/4 [00:01<00:00,  2.71it/s, loss=12.06]\n",
      "  0%|                                                     | 0/4 [00:00<?, ?it/s]"
     ]
    },
    {
     "name": "stdout",
     "output_type": "stream",
     "text": [
      "Epoch  15/ 50 -- train_loss: 13.438 -- validation_loss: 770.337\n",
      "Saving model..\n"
     ]
    },
    {
     "name": "stderr",
     "output_type": "stream",
     "text": [
      "100%|█████████████████████████████████| 4/4 [00:01<00:00,  2.74it/s, loss=12.29]\n",
      "  0%|                                                     | 0/4 [00:00<?, ?it/s]"
     ]
    },
    {
     "name": "stdout",
     "output_type": "stream",
     "text": [
      "Epoch  16/ 50 -- train_loss: 11.837 -- validation_loss: 758.064\n",
      "Saving model..\n"
     ]
    },
    {
     "name": "stderr",
     "output_type": "stream",
     "text": [
      "100%|██████████████████████████████████| 4/4 [00:01<00:00,  2.77it/s, loss=8.92]\n",
      "  0%|                                                     | 0/4 [00:00<?, ?it/s]"
     ]
    },
    {
     "name": "stdout",
     "output_type": "stream",
     "text": [
      "Epoch  17/ 50 -- train_loss: 10.036 -- validation_loss: 746.326\n",
      "Saving model..\n"
     ]
    },
    {
     "name": "stderr",
     "output_type": "stream",
     "text": [
      "100%|█████████████████████████████████| 4/4 [00:01<00:00,  2.77it/s, loss=10.33]\n",
      "  0%|                                                     | 0/4 [00:00<?, ?it/s]"
     ]
    },
    {
     "name": "stdout",
     "output_type": "stream",
     "text": [
      "Epoch  18/ 50 -- train_loss: 8.676 -- validation_loss: 734.857\n",
      "Saving model..\n"
     ]
    },
    {
     "name": "stderr",
     "output_type": "stream",
     "text": [
      "100%|██████████████████████████████████| 4/4 [00:01<00:00,  2.77it/s, loss=8.90]\n",
      "  0%|                                                     | 0/4 [00:00<?, ?it/s]"
     ]
    },
    {
     "name": "stdout",
     "output_type": "stream",
     "text": [
      "Epoch  19/ 50 -- train_loss: 9.479 -- validation_loss: 723.664\n",
      "Saving model..\n"
     ]
    },
    {
     "name": "stderr",
     "output_type": "stream",
     "text": [
      "100%|█████████████████████████████████| 4/4 [00:01<00:00,  2.79it/s, loss=10.07]\n",
      "  0%|                                                     | 0/4 [00:00<?, ?it/s]"
     ]
    },
    {
     "name": "stdout",
     "output_type": "stream",
     "text": [
      "Epoch  20/ 50 -- train_loss: 8.141 -- validation_loss: 712.788\n",
      "Saving model..\n"
     ]
    },
    {
     "name": "stderr",
     "output_type": "stream",
     "text": [
      "100%|██████████████████████████████████| 4/4 [00:01<00:00,  2.76it/s, loss=7.56]\n",
      "  0%|                                                     | 0/4 [00:00<?, ?it/s]"
     ]
    },
    {
     "name": "stdout",
     "output_type": "stream",
     "text": [
      "Epoch  21/ 50 -- train_loss: 6.839 -- validation_loss: 702.448\n",
      "Saving model..\n"
     ]
    },
    {
     "name": "stderr",
     "output_type": "stream",
     "text": [
      "100%|██████████████████████████████████| 4/4 [00:01<00:00,  2.72it/s, loss=3.47]\n",
      "  0%|                                                     | 0/4 [00:00<?, ?it/s]"
     ]
    },
    {
     "name": "stdout",
     "output_type": "stream",
     "text": [
      "Epoch  22/ 50 -- train_loss: 6.037 -- validation_loss: 692.292\n",
      "Saving model..\n"
     ]
    },
    {
     "name": "stderr",
     "output_type": "stream",
     "text": [
      "100%|██████████████████████████████████| 4/4 [00:01<00:00,  2.75it/s, loss=3.11]\n",
      "  0%|                                                     | 0/4 [00:00<?, ?it/s]"
     ]
    },
    {
     "name": "stdout",
     "output_type": "stream",
     "text": [
      "Epoch  23/ 50 -- train_loss: 5.597 -- validation_loss: 682.520\n",
      "Saving model..\n"
     ]
    },
    {
     "name": "stderr",
     "output_type": "stream",
     "text": [
      "100%|██████████████████████████████████| 4/4 [00:01<00:00,  2.75it/s, loss=3.21]\n",
      "  0%|                                                     | 0/4 [00:00<?, ?it/s]"
     ]
    },
    {
     "name": "stdout",
     "output_type": "stream",
     "text": [
      "Epoch  24/ 50 -- train_loss: 5.201 -- validation_loss: 672.934\n",
      "Saving model..\n"
     ]
    },
    {
     "name": "stderr",
     "output_type": "stream",
     "text": [
      "100%|██████████████████████████████████| 4/4 [00:01<00:00,  2.71it/s, loss=3.68]\n",
      "  0%|                                                     | 0/4 [00:00<?, ?it/s]"
     ]
    },
    {
     "name": "stdout",
     "output_type": "stream",
     "text": [
      "Epoch  25/ 50 -- train_loss: 4.838 -- validation_loss: 663.684\n",
      "Saving model..\n"
     ]
    },
    {
     "name": "stderr",
     "output_type": "stream",
     "text": [
      "100%|██████████████████████████████████| 4/4 [00:01<00:00,  2.75it/s, loss=5.04]\n",
      "  0%|                                                     | 0/4 [00:00<?, ?it/s]"
     ]
    },
    {
     "name": "stdout",
     "output_type": "stream",
     "text": [
      "Epoch  26/ 50 -- train_loss: 4.091 -- validation_loss: 654.826\n",
      "Saving model..\n"
     ]
    },
    {
     "name": "stderr",
     "output_type": "stream",
     "text": [
      "100%|██████████████████████████████████| 4/4 [00:01<00:00,  2.79it/s, loss=2.85]\n",
      "  0%|                                                     | 0/4 [00:00<?, ?it/s]"
     ]
    },
    {
     "name": "stdout",
     "output_type": "stream",
     "text": [
      "Epoch  27/ 50 -- train_loss: 3.767 -- validation_loss: 646.139\n",
      "Saving model..\n"
     ]
    },
    {
     "name": "stderr",
     "output_type": "stream",
     "text": [
      "100%|██████████████████████████████████| 4/4 [00:01<00:00,  2.80it/s, loss=1.65]\n",
      "  0%|                                                     | 0/4 [00:00<?, ?it/s]"
     ]
    },
    {
     "name": "stdout",
     "output_type": "stream",
     "text": [
      "Epoch  28/ 50 -- train_loss: 3.231 -- validation_loss: 637.691\n",
      "Saving model..\n"
     ]
    },
    {
     "name": "stderr",
     "output_type": "stream",
     "text": [
      "100%|██████████████████████████████████| 4/4 [00:01<00:00,  2.77it/s, loss=0.15]\n",
      "  0%|                                                     | 0/4 [00:00<?, ?it/s]"
     ]
    },
    {
     "name": "stdout",
     "output_type": "stream",
     "text": [
      "Epoch  29/ 50 -- train_loss: 3.410 -- validation_loss: 629.634\n",
      "Saving model..\n"
     ]
    },
    {
     "name": "stderr",
     "output_type": "stream",
     "text": [
      "100%|██████████████████████████████████| 4/4 [00:01<00:00,  2.76it/s, loss=0.72]\n",
      "  0%|                                                     | 0/4 [00:00<?, ?it/s]"
     ]
    },
    {
     "name": "stdout",
     "output_type": "stream",
     "text": [
      "Epoch  30/ 50 -- train_loss: 2.050 -- validation_loss: 621.648\n",
      "Saving model..\n"
     ]
    },
    {
     "name": "stderr",
     "output_type": "stream",
     "text": [
      "100%|██████████████████████████████████| 4/4 [00:01<00:00,  2.75it/s, loss=2.22]\n",
      "  0%|                                                     | 0/4 [00:00<?, ?it/s]"
     ]
    },
    {
     "name": "stdout",
     "output_type": "stream",
     "text": [
      "Epoch  31/ 50 -- train_loss: 1.787 -- validation_loss: 613.809\n",
      "Saving model..\n"
     ]
    },
    {
     "name": "stderr",
     "output_type": "stream",
     "text": [
      "100%|█████████████████████████████████| 4/4 [00:01<00:00,  2.76it/s, loss=-0.13]\n",
      "  0%|                                                     | 0/4 [00:00<?, ?it/s]"
     ]
    },
    {
     "name": "stdout",
     "output_type": "stream",
     "text": [
      "Epoch  32/ 50 -- train_loss: 0.979 -- validation_loss: 606.486\n",
      "Saving model..\n"
     ]
    },
    {
     "name": "stderr",
     "output_type": "stream",
     "text": [
      "100%|█████████████████████████████████| 4/4 [00:01<00:00,  2.81it/s, loss=-0.44]\n",
      "  0%|                                                     | 0/4 [00:00<?, ?it/s]"
     ]
    },
    {
     "name": "stdout",
     "output_type": "stream",
     "text": [
      "Epoch  33/ 50 -- train_loss: -0.229 -- validation_loss: 599.272\n",
      "Saving model..\n"
     ]
    },
    {
     "name": "stderr",
     "output_type": "stream",
     "text": [
      "100%|██████████████████████████████████| 4/4 [00:01<00:00,  2.80it/s, loss=1.59]\n",
      "  0%|                                                     | 0/4 [00:00<?, ?it/s]"
     ]
    },
    {
     "name": "stdout",
     "output_type": "stream",
     "text": [
      "Epoch  34/ 50 -- train_loss: 0.493 -- validation_loss: 592.367\n",
      "Saving model..\n"
     ]
    },
    {
     "name": "stderr",
     "output_type": "stream",
     "text": [
      "100%|██████████████████████████████████| 4/4 [00:01<00:00,  2.79it/s, loss=4.54]\n",
      "  0%|                                                     | 0/4 [00:00<?, ?it/s]"
     ]
    },
    {
     "name": "stdout",
     "output_type": "stream",
     "text": [
      "Epoch  35/ 50 -- train_loss: 0.834 -- validation_loss: 585.510\n",
      "Saving model..\n"
     ]
    },
    {
     "name": "stderr",
     "output_type": "stream",
     "text": [
      "100%|██████████████████████████████████| 4/4 [00:01<00:00,  2.78it/s, loss=2.62]\n",
      "  0%|                                                     | 0/4 [00:00<?, ?it/s]"
     ]
    },
    {
     "name": "stdout",
     "output_type": "stream",
     "text": [
      "Epoch  36/ 50 -- train_loss: 1.566 -- validation_loss: 578.654\n",
      "Saving model..\n"
     ]
    },
    {
     "name": "stderr",
     "output_type": "stream",
     "text": [
      "100%|█████████████████████████████████| 4/4 [00:01<00:00,  2.76it/s, loss=-1.30]\n",
      "  0%|                                                     | 0/4 [00:00<?, ?it/s]"
     ]
    },
    {
     "name": "stdout",
     "output_type": "stream",
     "text": [
      "Epoch  37/ 50 -- train_loss: 0.811 -- validation_loss: 572.078\n",
      "Saving model..\n"
     ]
    },
    {
     "name": "stderr",
     "output_type": "stream",
     "text": [
      "100%|██████████████████████████████████| 4/4 [00:01<00:00,  2.76it/s, loss=0.06]\n",
      "  0%|                                                     | 0/4 [00:00<?, ?it/s]"
     ]
    },
    {
     "name": "stdout",
     "output_type": "stream",
     "text": [
      "Epoch  38/ 50 -- train_loss: 0.030 -- validation_loss: 565.836\n",
      "Saving model..\n"
     ]
    },
    {
     "name": "stderr",
     "output_type": "stream",
     "text": [
      "100%|█████████████████████████████████| 4/4 [00:01<00:00,  2.75it/s, loss=-1.60]\n",
      "  0%|                                                     | 0/4 [00:00<?, ?it/s]"
     ]
    },
    {
     "name": "stdout",
     "output_type": "stream",
     "text": [
      "Epoch  39/ 50 -- train_loss: 0.061 -- validation_loss: 559.490\n",
      "Saving model..\n"
     ]
    },
    {
     "name": "stderr",
     "output_type": "stream",
     "text": [
      "100%|██████████████████████████████████| 4/4 [00:01<00:00,  2.76it/s, loss=0.17]\n",
      "  0%|                                                     | 0/4 [00:00<?, ?it/s]"
     ]
    },
    {
     "name": "stdout",
     "output_type": "stream",
     "text": [
      "Epoch  40/ 50 -- train_loss: -0.556 -- validation_loss: 553.568\n",
      "Saving model..\n"
     ]
    },
    {
     "name": "stderr",
     "output_type": "stream",
     "text": [
      "100%|█████████████████████████████████| 4/4 [00:01<00:00,  2.78it/s, loss=-0.49]\n",
      "  0%|                                                     | 0/4 [00:00<?, ?it/s]"
     ]
    },
    {
     "name": "stdout",
     "output_type": "stream",
     "text": [
      "Epoch  41/ 50 -- train_loss: 0.110 -- validation_loss: 547.814\n",
      "Saving model..\n"
     ]
    },
    {
     "name": "stderr",
     "output_type": "stream",
     "text": [
      "100%|█████████████████████████████████| 4/4 [00:01<00:00,  2.78it/s, loss=-2.96]\n",
      "  0%|                                                     | 0/4 [00:00<?, ?it/s]"
     ]
    },
    {
     "name": "stdout",
     "output_type": "stream",
     "text": [
      "Epoch  42/ 50 -- train_loss: -1.246 -- validation_loss: 542.122\n",
      "Saving model..\n"
     ]
    },
    {
     "name": "stderr",
     "output_type": "stream",
     "text": [
      "100%|█████████████████████████████████| 4/4 [00:01<00:00,  2.74it/s, loss=-4.17]\n",
      "  0%|                                                     | 0/4 [00:00<?, ?it/s]"
     ]
    },
    {
     "name": "stdout",
     "output_type": "stream",
     "text": [
      "Epoch  43/ 50 -- train_loss: -2.715 -- validation_loss: 536.652\n",
      "Saving model..\n"
     ]
    },
    {
     "name": "stderr",
     "output_type": "stream",
     "text": [
      "100%|█████████████████████████████████| 4/4 [00:01<00:00,  2.78it/s, loss=-2.80]\n",
      "  0%|                                                     | 0/4 [00:00<?, ?it/s]"
     ]
    },
    {
     "name": "stdout",
     "output_type": "stream",
     "text": [
      "Epoch  44/ 50 -- train_loss: -3.257 -- validation_loss: 531.454\n",
      "Saving model..\n"
     ]
    },
    {
     "name": "stderr",
     "output_type": "stream",
     "text": [
      "100%|█████████████████████████████████| 4/4 [00:01<00:00,  2.77it/s, loss=-2.98]\n",
      "  0%|                                                     | 0/4 [00:00<?, ?it/s]"
     ]
    },
    {
     "name": "stdout",
     "output_type": "stream",
     "text": [
      "Epoch  45/ 50 -- train_loss: -2.934 -- validation_loss: 526.189\n",
      "Saving model..\n"
     ]
    },
    {
     "name": "stderr",
     "output_type": "stream",
     "text": [
      "100%|█████████████████████████████████| 4/4 [00:01<00:00,  2.81it/s, loss=-4.45]\n",
      "  0%|                                                     | 0/4 [00:00<?, ?it/s]"
     ]
    },
    {
     "name": "stdout",
     "output_type": "stream",
     "text": [
      "Epoch  46/ 50 -- train_loss: -4.024 -- validation_loss: 521.070\n",
      "Saving model..\n"
     ]
    },
    {
     "name": "stderr",
     "output_type": "stream",
     "text": [
      "100%|█████████████████████████████████| 4/4 [00:01<00:00,  2.76it/s, loss=-5.59]\n",
      "  0%|                                                     | 0/4 [00:00<?, ?it/s]"
     ]
    },
    {
     "name": "stdout",
     "output_type": "stream",
     "text": [
      "Epoch  47/ 50 -- train_loss: -4.041 -- validation_loss: 516.018\n",
      "Saving model..\n"
     ]
    },
    {
     "name": "stderr",
     "output_type": "stream",
     "text": [
      "100%|█████████████████████████████████| 4/4 [00:01<00:00,  2.80it/s, loss=-3.40]\n",
      "  0%|                                                     | 0/4 [00:00<?, ?it/s]"
     ]
    },
    {
     "name": "stdout",
     "output_type": "stream",
     "text": [
      "Epoch  48/ 50 -- train_loss: -4.344 -- validation_loss: 511.064\n",
      "Saving model..\n"
     ]
    },
    {
     "name": "stderr",
     "output_type": "stream",
     "text": [
      "100%|█████████████████████████████████| 4/4 [00:01<00:00,  2.83it/s, loss=-1.91]\n",
      "  0%|                                                     | 0/4 [00:00<?, ?it/s]"
     ]
    },
    {
     "name": "stdout",
     "output_type": "stream",
     "text": [
      "Epoch  49/ 50 -- train_loss: -2.843 -- validation_loss: 505.975\n",
      "Saving model..\n"
     ]
    },
    {
     "name": "stderr",
     "output_type": "stream",
     "text": [
      "100%|█████████████████████████████████| 4/4 [00:01<00:00,  2.79it/s, loss=-2.95]\n"
     ]
    },
    {
     "name": "stdout",
     "output_type": "stream",
     "text": [
      "Epoch  50/ 50 -- train_loss: -2.013 -- validation_loss: 501.102\n",
      "Saving model..\n"
     ]
    },
    {
     "name": "stderr",
     "output_type": "stream",
     "text": [
      "\r",
      "  0%|                                                   | 0/200 [00:00<?, ?it/s]"
     ]
    },
    {
     "name": "stdout",
     "output_type": "stream",
     "text": [
      "###### Stop training after 50 epochs!\n",
      "Validation loss: 501.102\n",
      "Test loss:       502.686\n",
      "Loading dataset..\n",
      "No validation set passed\n",
      "No test set passed\n",
      "Creating directory experiment..\n",
      "Creating BNAF model..\n",
      "Creating optimizer..\n",
      "Creating scheduler..\n",
      "Training..\n"
     ]
    },
    {
     "name": "stderr",
     "output_type": "stream",
     "text": [
      "100%|█████████████████████████████| 200/200 [01:12<00:00,  2.77it/s, loss=-5.15]\n",
      "  0%|                                                   | 0/200 [00:00<?, ?it/s]"
     ]
    },
    {
     "name": "stdout",
     "output_type": "stream",
     "text": [
      "Epoch   1/ 50 -- train_loss: 12.841 -- validation_loss: 508.982\n",
      "Saving model..\n"
     ]
    },
    {
     "name": "stderr",
     "output_type": "stream",
     "text": [
      "100%|████████████████████████████| 200/200 [01:12<00:00,  2.76it/s, loss=-18.87]\n",
      "  0%|                                                   | 0/200 [00:00<?, ?it/s]"
     ]
    },
    {
     "name": "stdout",
     "output_type": "stream",
     "text": [
      "Epoch   2/ 50 -- train_loss: -13.150 -- validation_loss: 344.512\n",
      "Saving model..\n"
     ]
    },
    {
     "name": "stderr",
     "output_type": "stream",
     "text": [
      "100%|████████████████████████████| 200/200 [01:12<00:00,  2.75it/s, loss=-23.23]\n",
      "  0%|                                                   | 0/200 [00:00<?, ?it/s]"
     ]
    },
    {
     "name": "stdout",
     "output_type": "stream",
     "text": [
      "Epoch   3/ 50 -- train_loss: -17.110 -- validation_loss: 237.988\n",
      "Saving model..\n"
     ]
    },
    {
     "name": "stderr",
     "output_type": "stream",
     "text": [
      "100%|████████████████████████████| 200/200 [01:12<00:00,  2.75it/s, loss=-20.90]\n",
      "  0%|                                                   | 0/200 [00:00<?, ?it/s]"
     ]
    },
    {
     "name": "stdout",
     "output_type": "stream",
     "text": [
      "Epoch   4/ 50 -- train_loss: -19.754 -- validation_loss: 171.362\n",
      "Saving model..\n"
     ]
    },
    {
     "name": "stderr",
     "output_type": "stream",
     "text": [
      "100%|████████████████████████████| 200/200 [01:12<00:00,  2.75it/s, loss=-25.67]\n",
      "  0%|                                                   | 0/200 [00:00<?, ?it/s]"
     ]
    },
    {
     "name": "stdout",
     "output_type": "stream",
     "text": [
      "Epoch   5/ 50 -- train_loss: -21.099 -- validation_loss: 131.741\n",
      "Saving model..\n"
     ]
    },
    {
     "name": "stderr",
     "output_type": "stream",
     "text": [
      "100%|████████████████████████████| 200/200 [01:12<00:00,  2.74it/s, loss=-26.16]\n",
      "  0%|                                                   | 0/200 [00:00<?, ?it/s]"
     ]
    },
    {
     "name": "stdout",
     "output_type": "stream",
     "text": [
      "Epoch   6/ 50 -- train_loss: -22.525 -- validation_loss: 108.599\n",
      "Saving model..\n"
     ]
    },
    {
     "name": "stderr",
     "output_type": "stream",
     "text": [
      "100%|████████████████████████████| 200/200 [01:12<00:00,  2.75it/s, loss=-23.34]\n",
      "  0%|                                                   | 0/200 [00:00<?, ?it/s]"
     ]
    },
    {
     "name": "stdout",
     "output_type": "stream",
     "text": [
      "Epoch   7/ 50 -- train_loss: -23.223 -- validation_loss: 95.357\n",
      "Saving model..\n"
     ]
    },
    {
     "name": "stderr",
     "output_type": "stream",
     "text": [
      "100%|████████████████████████████| 200/200 [01:12<00:00,  2.75it/s, loss=-21.02]\n",
      "  0%|                                                   | 0/200 [00:00<?, ?it/s]"
     ]
    },
    {
     "name": "stdout",
     "output_type": "stream",
     "text": [
      "Epoch   8/ 50 -- train_loss: -23.618 -- validation_loss: 87.392\n",
      "Saving model..\n"
     ]
    },
    {
     "name": "stderr",
     "output_type": "stream",
     "text": [
      "100%|████████████████████████████| 200/200 [01:12<00:00,  2.76it/s, loss=-27.61]\n",
      "  0%|                                                   | 0/200 [00:00<?, ?it/s]"
     ]
    },
    {
     "name": "stdout",
     "output_type": "stream",
     "text": [
      "Epoch   9/ 50 -- train_loss: -26.649 -- validation_loss: 82.692\n",
      "Saving model..\n"
     ]
    },
    {
     "name": "stderr",
     "output_type": "stream",
     "text": [
      "100%|████████████████████████████| 200/200 [01:12<00:00,  2.75it/s, loss=-30.54]\n",
      "  0%|                                                   | 0/200 [00:00<?, ?it/s]"
     ]
    },
    {
     "name": "stdout",
     "output_type": "stream",
     "text": [
      "Epoch  10/ 50 -- train_loss: -27.734 -- validation_loss: 80.094\n",
      "Saving model..\n"
     ]
    },
    {
     "name": "stderr",
     "output_type": "stream",
     "text": [
      "100%|████████████████████████████| 200/200 [01:12<00:00,  2.75it/s, loss=-26.92]\n",
      "  0%|                                                   | 0/200 [00:00<?, ?it/s]"
     ]
    },
    {
     "name": "stdout",
     "output_type": "stream",
     "text": [
      "Epoch  11/ 50 -- train_loss: -28.208 -- validation_loss: 78.309\n",
      "Saving model..\n"
     ]
    },
    {
     "name": "stderr",
     "output_type": "stream",
     "text": [
      "100%|████████████████████████████| 200/200 [01:12<00:00,  2.75it/s, loss=-28.33]\n",
      "  0%|                                                   | 0/200 [00:00<?, ?it/s]"
     ]
    },
    {
     "name": "stdout",
     "output_type": "stream",
     "text": [
      "Epoch  12/ 50 -- train_loss: -30.340 -- validation_loss: 77.435\n",
      "Saving model..\n"
     ]
    },
    {
     "name": "stderr",
     "output_type": "stream",
     "text": [
      "100%|████████████████████████████| 200/200 [01:12<00:00,  2.75it/s, loss=-28.65]\n",
      "  0%|                                                   | 0/200 [00:00<?, ?it/s]"
     ]
    },
    {
     "name": "stdout",
     "output_type": "stream",
     "text": [
      "Epoch  13/ 50 -- train_loss: -31.387 -- validation_loss: 76.885\n",
      "Saving model..\n"
     ]
    },
    {
     "name": "stderr",
     "output_type": "stream",
     "text": [
      "100%|████████████████████████████| 200/200 [01:12<00:00,  2.75it/s, loss=-31.72]\n",
      "  0%|                                                   | 0/200 [00:00<?, ?it/s]"
     ]
    },
    {
     "name": "stdout",
     "output_type": "stream",
     "text": [
      "Epoch  14/ 50 -- train_loss: -32.095 -- validation_loss: 76.595\n",
      "Saving model..\n"
     ]
    },
    {
     "name": "stderr",
     "output_type": "stream",
     "text": [
      "100%|████████████████████████████| 200/200 [01:12<00:00,  2.75it/s, loss=-30.84]\n",
      "  0%|                                                   | 0/200 [00:00<?, ?it/s]"
     ]
    },
    {
     "name": "stdout",
     "output_type": "stream",
     "text": [
      "Epoch  15/ 50 -- train_loss: -33.143 -- validation_loss: 76.771\n"
     ]
    },
    {
     "name": "stderr",
     "output_type": "stream",
     "text": [
      "100%|████████████████████████████| 200/200 [01:12<00:00,  2.75it/s, loss=-33.08]\n",
      "  0%|                                                   | 0/200 [00:00<?, ?it/s]"
     ]
    },
    {
     "name": "stdout",
     "output_type": "stream",
     "text": [
      "Epoch  16/ 50 -- train_loss: -33.686 -- validation_loss: 76.831\n"
     ]
    },
    {
     "name": "stderr",
     "output_type": "stream",
     "text": [
      "100%|████████████████████████████| 200/200 [01:12<00:00,  2.75it/s, loss=-35.74]\n",
      "  0%|                                                   | 0/200 [00:00<?, ?it/s]"
     ]
    },
    {
     "name": "stdout",
     "output_type": "stream",
     "text": [
      "Epoch  17/ 50 -- train_loss: -35.118 -- validation_loss: 76.864\n"
     ]
    },
    {
     "name": "stderr",
     "output_type": "stream",
     "text": [
      "100%|████████████████████████████| 200/200 [01:12<00:00,  2.75it/s, loss=-34.36]\n",
      "  0%|                                                   | 0/200 [00:00<?, ?it/s]"
     ]
    },
    {
     "name": "stdout",
     "output_type": "stream",
     "text": [
      "Epoch  18/ 50 -- train_loss: -37.201 -- validation_loss: 77.295\n"
     ]
    },
    {
     "name": "stderr",
     "output_type": "stream",
     "text": [
      "100%|████████████████████████████| 200/200 [01:12<00:00,  2.76it/s, loss=-39.58]\n",
      "  0%|                                                   | 0/200 [00:00<?, ?it/s]"
     ]
    },
    {
     "name": "stdout",
     "output_type": "stream",
     "text": [
      "Epoch  19/ 50 -- train_loss: -36.499 -- validation_loss: 77.555\n"
     ]
    },
    {
     "name": "stderr",
     "output_type": "stream",
     "text": [
      "100%|████████████████████████████| 200/200 [01:12<00:00,  2.76it/s, loss=-31.00]\n",
      "  0%|                                                   | 0/200 [00:00<?, ?it/s]"
     ]
    },
    {
     "name": "stdout",
     "output_type": "stream",
     "text": [
      "Epoch  20/ 50 -- train_loss: -37.574 -- validation_loss: 77.900\n"
     ]
    },
    {
     "name": "stderr",
     "output_type": "stream",
     "text": [
      "100%|████████████████████████████| 200/200 [01:12<00:00,  2.76it/s, loss=-41.79]\n",
      "  0%|                                                   | 0/200 [00:00<?, ?it/s]"
     ]
    },
    {
     "name": "stdout",
     "output_type": "stream",
     "text": [
      "Epoch  21/ 50 -- train_loss: -37.353 -- validation_loss: 78.248\n"
     ]
    },
    {
     "name": "stderr",
     "output_type": "stream",
     "text": [
      "100%|████████████████████████████| 200/200 [01:12<00:00,  2.75it/s, loss=-41.75]\n",
      "  0%|                                                   | 0/200 [00:00<?, ?it/s]"
     ]
    },
    {
     "name": "stdout",
     "output_type": "stream",
     "text": [
      "Epoch  22/ 50 -- train_loss: -37.878 -- validation_loss: 78.492\n"
     ]
    },
    {
     "name": "stderr",
     "output_type": "stream",
     "text": [
      "100%|████████████████████████████| 200/200 [01:12<00:00,  2.75it/s, loss=-44.48]\n",
      "  0%|                                                   | 0/200 [00:00<?, ?it/s]"
     ]
    },
    {
     "name": "stdout",
     "output_type": "stream",
     "text": [
      "Epoch  23/ 50 -- train_loss: -39.305 -- validation_loss: 78.858\n"
     ]
    },
    {
     "name": "stderr",
     "output_type": "stream",
     "text": [
      "100%|████████████████████████████| 200/200 [01:12<00:00,  2.76it/s, loss=-39.41]\n",
      "  0%|                                                   | 0/200 [00:00<?, ?it/s]"
     ]
    },
    {
     "name": "stdout",
     "output_type": "stream",
     "text": [
      "Epoch  24/ 50 -- train_loss: -39.298 -- validation_loss: 79.137\n"
     ]
    },
    {
     "name": "stderr",
     "output_type": "stream",
     "text": [
      "100%|████████████████████████████| 200/200 [01:12<00:00,  2.75it/s, loss=-37.95]\n",
      "  0%|                                                   | 0/200 [00:00<?, ?it/s]"
     ]
    },
    {
     "name": "stdout",
     "output_type": "stream",
     "text": [
      "Epoch  25/ 50 -- train_loss: -40.436 -- validation_loss: 79.435\n"
     ]
    },
    {
     "name": "stderr",
     "output_type": "stream",
     "text": [
      "100%|████████████████████████████| 200/200 [01:12<00:00,  2.76it/s, loss=-43.30]\n",
      "  0%|                                                   | 0/200 [00:00<?, ?it/s]"
     ]
    },
    {
     "name": "stdout",
     "output_type": "stream",
     "text": [
      "Epoch  26/ 50 -- train_loss: -39.680 -- validation_loss: 79.722\n"
     ]
    },
    {
     "name": "stderr",
     "output_type": "stream",
     "text": [
      "100%|████████████████████████████| 200/200 [01:12<00:00,  2.75it/s, loss=-44.04]\n",
      "  0%|                                                   | 0/200 [00:00<?, ?it/s]"
     ]
    },
    {
     "name": "stdout",
     "output_type": "stream",
     "text": [
      "Epoch  27/ 50 -- train_loss: -40.910 -- validation_loss: 80.006\n"
     ]
    },
    {
     "name": "stderr",
     "output_type": "stream",
     "text": [
      "100%|████████████████████████████| 200/200 [01:12<00:00,  2.75it/s, loss=-48.54]\n",
      "  0%|                                                   | 0/200 [00:00<?, ?it/s]"
     ]
    },
    {
     "name": "stdout",
     "output_type": "stream",
     "text": [
      "Epoch  28/ 50 -- train_loss: -42.014 -- validation_loss: 80.304\n"
     ]
    },
    {
     "name": "stderr",
     "output_type": "stream",
     "text": [
      "100%|████████████████████████████| 200/200 [01:12<00:00,  2.75it/s, loss=-43.20]\n",
      "  0%|                                                   | 0/200 [00:00<?, ?it/s]"
     ]
    },
    {
     "name": "stdout",
     "output_type": "stream",
     "text": [
      "Epoch  29/ 50 -- train_loss: -42.491 -- validation_loss: 80.554\n"
     ]
    },
    {
     "name": "stderr",
     "output_type": "stream",
     "text": [
      "100%|████████████████████████████| 200/200 [01:12<00:00,  2.76it/s, loss=-42.32]\n",
      "  0%|                                                   | 0/200 [00:00<?, ?it/s]"
     ]
    },
    {
     "name": "stdout",
     "output_type": "stream",
     "text": [
      "Epoch  30/ 50 -- train_loss: -43.540 -- validation_loss: 80.857\n"
     ]
    },
    {
     "name": "stderr",
     "output_type": "stream",
     "text": [
      "100%|████████████████████████████| 200/200 [01:12<00:00,  2.75it/s, loss=-37.48]\n",
      "  0%|                                                   | 0/200 [00:00<?, ?it/s]"
     ]
    },
    {
     "name": "stdout",
     "output_type": "stream",
     "text": [
      "Epoch  31/ 50 -- train_loss: -43.452 -- validation_loss: 81.109\n"
     ]
    },
    {
     "name": "stderr",
     "output_type": "stream",
     "text": [
      "100%|████████████████████████████| 200/200 [01:12<00:00,  2.76it/s, loss=-48.23]\n",
      "  0%|                                                   | 0/200 [00:00<?, ?it/s]"
     ]
    },
    {
     "name": "stdout",
     "output_type": "stream",
     "text": [
      "Epoch  32/ 50 -- train_loss: -42.722 -- validation_loss: 81.443\n"
     ]
    },
    {
     "name": "stderr",
     "output_type": "stream",
     "text": [
      "100%|████████████████████████████| 200/200 [01:12<00:00,  2.75it/s, loss=-44.32]\n",
      "  0%|                                                   | 0/200 [00:00<?, ?it/s]"
     ]
    },
    {
     "name": "stdout",
     "output_type": "stream",
     "text": [
      "Epoch  33/ 50 -- train_loss: -44.953 -- validation_loss: 81.891\n"
     ]
    },
    {
     "name": "stderr",
     "output_type": "stream",
     "text": [
      "100%|████████████████████████████| 200/200 [01:12<00:00,  2.75it/s, loss=-44.43]\n",
      "  0%|                                                   | 0/200 [00:00<?, ?it/s]"
     ]
    },
    {
     "name": "stdout",
     "output_type": "stream",
     "text": [
      "Epoch  34/ 50 -- train_loss: -43.851 -- validation_loss: 81.988\n"
     ]
    },
    {
     "name": "stderr",
     "output_type": "stream",
     "text": [
      "100%|████████████████████████████| 200/200 [01:12<00:00,  2.75it/s, loss=-40.09]\n",
      "  0%|                                                   | 0/200 [00:00<?, ?it/s]"
     ]
    },
    {
     "name": "stdout",
     "output_type": "stream",
     "text": [
      "Epoch  35/ 50 -- train_loss: -42.047 -- validation_loss: 82.085\n",
      "Epoch 00035: reducing learning rate of group 0 to 5.0000e-03.\n"
     ]
    },
    {
     "name": "stderr",
     "output_type": "stream",
     "text": [
      "100%|████████████████████████████| 200/200 [01:12<00:00,  2.76it/s, loss=-45.93]\n",
      "  0%|                                                   | 0/200 [00:00<?, ?it/s]"
     ]
    },
    {
     "name": "stdout",
     "output_type": "stream",
     "text": [
      "Epoch  36/ 50 -- train_loss: -51.188 -- validation_loss: 82.928\n"
     ]
    },
    {
     "name": "stderr",
     "output_type": "stream",
     "text": [
      "100%|████████████████████████████| 200/200 [01:12<00:00,  2.76it/s, loss=-54.53]\n",
      "  0%|                                                   | 0/200 [00:00<?, ?it/s]"
     ]
    },
    {
     "name": "stdout",
     "output_type": "stream",
     "text": [
      "Epoch  37/ 50 -- train_loss: -50.274 -- validation_loss: 83.835\n"
     ]
    },
    {
     "name": "stderr",
     "output_type": "stream",
     "text": [
      "100%|████████████████████████████| 200/200 [01:12<00:00,  2.76it/s, loss=-50.65]\n",
      "  0%|                                                   | 0/200 [00:00<?, ?it/s]"
     ]
    },
    {
     "name": "stdout",
     "output_type": "stream",
     "text": [
      "Epoch  38/ 50 -- train_loss: -52.504 -- validation_loss: 84.704\n"
     ]
    },
    {
     "name": "stderr",
     "output_type": "stream",
     "text": [
      "100%|████████████████████████████| 200/200 [01:12<00:00,  2.76it/s, loss=-54.21]\n",
      "  0%|                                                   | 0/200 [00:00<?, ?it/s]"
     ]
    },
    {
     "name": "stdout",
     "output_type": "stream",
     "text": [
      "Epoch  39/ 50 -- train_loss: -51.756 -- validation_loss: 85.344\n"
     ]
    },
    {
     "name": "stderr",
     "output_type": "stream",
     "text": [
      "100%|████████████████████████████| 200/200 [01:12<00:00,  2.76it/s, loss=-53.41]\n",
      "  0%|                                                   | 0/200 [00:00<?, ?it/s]"
     ]
    },
    {
     "name": "stdout",
     "output_type": "stream",
     "text": [
      "Epoch  40/ 50 -- train_loss: -52.319 -- validation_loss: 85.887\n"
     ]
    },
    {
     "name": "stderr",
     "output_type": "stream",
     "text": [
      "100%|████████████████████████████| 200/200 [01:12<00:00,  2.76it/s, loss=-50.98]\n",
      "  0%|                                                   | 0/200 [00:00<?, ?it/s]"
     ]
    },
    {
     "name": "stdout",
     "output_type": "stream",
     "text": [
      "Epoch  41/ 50 -- train_loss: -52.854 -- validation_loss: 86.182\n"
     ]
    },
    {
     "name": "stderr",
     "output_type": "stream",
     "text": [
      "100%|████████████████████████████| 200/200 [01:12<00:00,  2.76it/s, loss=-49.15]\n",
      "  0%|                                                   | 0/200 [00:00<?, ?it/s]"
     ]
    },
    {
     "name": "stdout",
     "output_type": "stream",
     "text": [
      "Epoch  42/ 50 -- train_loss: -52.689 -- validation_loss: 86.506\n"
     ]
    },
    {
     "name": "stderr",
     "output_type": "stream",
     "text": [
      "100%|████████████████████████████| 200/200 [01:12<00:00,  2.76it/s, loss=-50.01]\n",
      "  0%|                                                   | 0/200 [00:00<?, ?it/s]"
     ]
    },
    {
     "name": "stdout",
     "output_type": "stream",
     "text": [
      "Epoch  43/ 50 -- train_loss: -50.007 -- validation_loss: 86.605\n"
     ]
    },
    {
     "name": "stderr",
     "output_type": "stream",
     "text": [
      "100%|████████████████████████████| 200/200 [01:12<00:00,  2.75it/s, loss=-56.06]\n",
      "  0%|                                                   | 0/200 [00:00<?, ?it/s]"
     ]
    },
    {
     "name": "stdout",
     "output_type": "stream",
     "text": [
      "Epoch  44/ 50 -- train_loss: -50.933 -- validation_loss: 86.709\n"
     ]
    },
    {
     "name": "stderr",
     "output_type": "stream",
     "text": [
      "100%|████████████████████████████| 200/200 [01:12<00:00,  2.75it/s, loss=-50.98]\n",
      "  0%|                                                   | 0/200 [00:00<?, ?it/s]"
     ]
    },
    {
     "name": "stdout",
     "output_type": "stream",
     "text": [
      "Epoch  45/ 50 -- train_loss: -52.064 -- validation_loss: 86.825\n"
     ]
    },
    {
     "name": "stderr",
     "output_type": "stream",
     "text": [
      "100%|████████████████████████████| 200/200 [01:12<00:00,  2.75it/s, loss=-51.52]\n",
      "  0%|                                                   | 0/200 [00:00<?, ?it/s]"
     ]
    },
    {
     "name": "stdout",
     "output_type": "stream",
     "text": [
      "Epoch  46/ 50 -- train_loss: -52.338 -- validation_loss: 86.862\n"
     ]
    },
    {
     "name": "stderr",
     "output_type": "stream",
     "text": [
      "100%|████████████████████████████| 200/200 [01:12<00:00,  2.76it/s, loss=-49.04]\n",
      "  0%|                                                   | 0/200 [00:00<?, ?it/s]"
     ]
    },
    {
     "name": "stdout",
     "output_type": "stream",
     "text": [
      "Epoch  47/ 50 -- train_loss: -52.853 -- validation_loss: 86.920\n"
     ]
    },
    {
     "name": "stderr",
     "output_type": "stream",
     "text": [
      "100%|████████████████████████████| 200/200 [01:12<00:00,  2.75it/s, loss=-47.64]\n",
      "  0%|                                                   | 0/200 [00:00<?, ?it/s]"
     ]
    },
    {
     "name": "stdout",
     "output_type": "stream",
     "text": [
      "Epoch  48/ 50 -- train_loss: -53.712 -- validation_loss: 87.028\n"
     ]
    },
    {
     "name": "stderr",
     "output_type": "stream",
     "text": [
      "100%|████████████████████████████| 200/200 [01:12<00:00,  2.75it/s, loss=-58.39]\n",
      "  0%|                                                   | 0/200 [00:00<?, ?it/s]"
     ]
    },
    {
     "name": "stdout",
     "output_type": "stream",
     "text": [
      "Epoch  49/ 50 -- train_loss: -52.965 -- validation_loss: 87.062\n"
     ]
    },
    {
     "name": "stderr",
     "output_type": "stream",
     "text": [
      "100%|████████████████████████████| 200/200 [01:12<00:00,  2.75it/s, loss=-51.07]\n"
     ]
    },
    {
     "name": "stdout",
     "output_type": "stream",
     "text": [
      "Epoch  50/ 50 -- train_loss: -54.534 -- validation_loss: 87.260\n",
      "###### Stop training after 50 epochs!\n",
      "Validation loss: 87.260\n",
      "Test loss:       87.124\n"
     ]
    },
    {
     "name": "stderr",
     "output_type": "stream",
     "text": [
      "\r",
      "  0%|                                                     | 0/4 [00:00<?, ?it/s]"
     ]
    },
    {
     "name": "stdout",
     "output_type": "stream",
     "text": [
      "Loading dataset..\n",
      "Creating directory experiment..\n",
      "Creating BNAF model..\n",
      "Creating optimizer..\n",
      "Creating scheduler..\n",
      "Training..\n"
     ]
    },
    {
     "name": "stderr",
     "output_type": "stream",
     "text": [
      "100%|████████████████████████████████| 4/4 [00:01<00:00,  2.67it/s, loss=153.05]\n",
      "  0%|                                                     | 0/4 [00:00<?, ?it/s]"
     ]
    },
    {
     "name": "stdout",
     "output_type": "stream",
     "text": [
      "Epoch   1/ 50 -- train_loss: 169.767 -- validation_loss: 981.767\n",
      "Saving model..\n"
     ]
    },
    {
     "name": "stderr",
     "output_type": "stream",
     "text": [
      "100%|████████████████████████████████| 4/4 [00:01<00:00,  2.71it/s, loss=118.08]\n",
      "  0%|                                                     | 0/4 [00:00<?, ?it/s]"
     ]
    },
    {
     "name": "stdout",
     "output_type": "stream",
     "text": [
      "Epoch   2/ 50 -- train_loss: 130.313 -- validation_loss: 967.657\n",
      "Saving model..\n"
     ]
    },
    {
     "name": "stderr",
     "output_type": "stream",
     "text": [
      "100%|█████████████████████████████████| 4/4 [00:01<00:00,  2.76it/s, loss=89.97]\n",
      "  0%|                                                     | 0/4 [00:00<?, ?it/s]"
     ]
    },
    {
     "name": "stdout",
     "output_type": "stream",
     "text": [
      "Epoch   3/ 50 -- train_loss: 100.561 -- validation_loss: 953.064\n",
      "Saving model..\n"
     ]
    },
    {
     "name": "stderr",
     "output_type": "stream",
     "text": [
      "100%|█████████████████████████████████| 4/4 [00:01<00:00,  2.77it/s, loss=69.36]\n",
      "  0%|                                                     | 0/4 [00:00<?, ?it/s]"
     ]
    },
    {
     "name": "stdout",
     "output_type": "stream",
     "text": [
      "Epoch   4/ 50 -- train_loss: 76.210 -- validation_loss: 938.209\n",
      "Saving model..\n"
     ]
    },
    {
     "name": "stderr",
     "output_type": "stream",
     "text": [
      "100%|█████████████████████████████████| 4/4 [00:01<00:00,  2.79it/s, loss=52.53]\n",
      "  0%|                                                     | 0/4 [00:00<?, ?it/s]"
     ]
    },
    {
     "name": "stdout",
     "output_type": "stream",
     "text": [
      "Epoch   5/ 50 -- train_loss: 57.798 -- validation_loss: 923.172\n",
      "Saving model..\n"
     ]
    },
    {
     "name": "stderr",
     "output_type": "stream",
     "text": [
      "100%|█████████████████████████████████| 4/4 [00:01<00:00,  2.78it/s, loss=38.62]\n",
      "  0%|                                                     | 0/4 [00:00<?, ?it/s]"
     ]
    },
    {
     "name": "stdout",
     "output_type": "stream",
     "text": [
      "Epoch   6/ 50 -- train_loss: 42.467 -- validation_loss: 908.177\n",
      "Saving model..\n"
     ]
    },
    {
     "name": "stderr",
     "output_type": "stream",
     "text": [
      "100%|█████████████████████████████████| 4/4 [00:01<00:00,  2.79it/s, loss=31.02]\n",
      "  0%|                                                     | 0/4 [00:00<?, ?it/s]"
     ]
    },
    {
     "name": "stdout",
     "output_type": "stream",
     "text": [
      "Epoch   7/ 50 -- train_loss: 34.196 -- validation_loss: 893.222\n",
      "Saving model..\n"
     ]
    },
    {
     "name": "stderr",
     "output_type": "stream",
     "text": [
      "100%|█████████████████████████████████| 4/4 [00:01<00:00,  2.76it/s, loss=25.05]\n",
      "  0%|                                                     | 0/4 [00:00<?, ?it/s]"
     ]
    },
    {
     "name": "stdout",
     "output_type": "stream",
     "text": [
      "Epoch   8/ 50 -- train_loss: 27.795 -- validation_loss: 878.426\n",
      "Saving model..\n"
     ]
    },
    {
     "name": "stderr",
     "output_type": "stream",
     "text": [
      "100%|█████████████████████████████████| 4/4 [00:01<00:00,  2.76it/s, loss=19.62]\n",
      "  0%|                                                     | 0/4 [00:00<?, ?it/s]"
     ]
    },
    {
     "name": "stdout",
     "output_type": "stream",
     "text": [
      "Epoch   9/ 50 -- train_loss: 23.980 -- validation_loss: 863.923\n",
      "Saving model..\n"
     ]
    },
    {
     "name": "stderr",
     "output_type": "stream",
     "text": [
      "100%|█████████████████████████████████| 4/4 [00:01<00:00,  2.77it/s, loss=19.91]\n",
      "  0%|                                                     | 0/4 [00:00<?, ?it/s]"
     ]
    },
    {
     "name": "stdout",
     "output_type": "stream",
     "text": [
      "Epoch  10/ 50 -- train_loss: 20.395 -- validation_loss: 849.793\n",
      "Saving model..\n"
     ]
    },
    {
     "name": "stderr",
     "output_type": "stream",
     "text": [
      "100%|█████████████████████████████████| 4/4 [00:01<00:00,  2.69it/s, loss=14.65]\n",
      "  0%|                                                     | 0/4 [00:00<?, ?it/s]"
     ]
    },
    {
     "name": "stdout",
     "output_type": "stream",
     "text": [
      "Epoch  11/ 50 -- train_loss: 17.256 -- validation_loss: 836.027\n",
      "Saving model..\n"
     ]
    },
    {
     "name": "stderr",
     "output_type": "stream",
     "text": [
      "100%|█████████████████████████████████| 4/4 [00:01<00:00,  2.69it/s, loss=11.90]\n",
      "  0%|                                                     | 0/4 [00:00<?, ?it/s]"
     ]
    },
    {
     "name": "stdout",
     "output_type": "stream",
     "text": [
      "Epoch  12/ 50 -- train_loss: 13.631 -- validation_loss: 822.594\n",
      "Saving model..\n"
     ]
    },
    {
     "name": "stderr",
     "output_type": "stream",
     "text": [
      "100%|█████████████████████████████████| 4/4 [00:01<00:00,  2.83it/s, loss=11.05]\n",
      "  0%|                                                     | 0/4 [00:00<?, ?it/s]"
     ]
    },
    {
     "name": "stdout",
     "output_type": "stream",
     "text": [
      "Epoch  13/ 50 -- train_loss: 11.365 -- validation_loss: 809.518\n",
      "Saving model..\n"
     ]
    },
    {
     "name": "stderr",
     "output_type": "stream",
     "text": [
      "100%|█████████████████████████████████| 4/4 [00:01<00:00,  2.79it/s, loss=10.03]\n",
      "  0%|                                                     | 0/4 [00:00<?, ?it/s]"
     ]
    },
    {
     "name": "stdout",
     "output_type": "stream",
     "text": [
      "Epoch  14/ 50 -- train_loss: 8.860 -- validation_loss: 796.834\n",
      "Saving model..\n"
     ]
    },
    {
     "name": "stderr",
     "output_type": "stream",
     "text": [
      "100%|██████████████████████████████████| 4/4 [00:01<00:00,  2.73it/s, loss=6.66]\n",
      "  0%|                                                     | 0/4 [00:00<?, ?it/s]"
     ]
    },
    {
     "name": "stdout",
     "output_type": "stream",
     "text": [
      "Epoch  15/ 50 -- train_loss: 7.394 -- validation_loss: 784.536\n",
      "Saving model..\n"
     ]
    },
    {
     "name": "stderr",
     "output_type": "stream",
     "text": [
      "100%|██████████████████████████████████| 4/4 [00:01<00:00,  2.77it/s, loss=6.60]\n",
      "  0%|                                                     | 0/4 [00:00<?, ?it/s]"
     ]
    },
    {
     "name": "stdout",
     "output_type": "stream",
     "text": [
      "Epoch  16/ 50 -- train_loss: 5.636 -- validation_loss: 772.563\n",
      "Saving model..\n"
     ]
    },
    {
     "name": "stderr",
     "output_type": "stream",
     "text": [
      "100%|██████████████████████████████████| 4/4 [00:01<00:00,  2.79it/s, loss=3.84]\n",
      "  0%|                                                     | 0/4 [00:00<?, ?it/s]"
     ]
    },
    {
     "name": "stdout",
     "output_type": "stream",
     "text": [
      "Epoch  17/ 50 -- train_loss: 4.353 -- validation_loss: 760.915\n",
      "Saving model..\n"
     ]
    },
    {
     "name": "stderr",
     "output_type": "stream",
     "text": [
      "100%|██████████████████████████████████| 4/4 [00:01<00:00,  2.74it/s, loss=5.68]\n",
      "  0%|                                                     | 0/4 [00:00<?, ?it/s]"
     ]
    },
    {
     "name": "stdout",
     "output_type": "stream",
     "text": [
      "Epoch  18/ 50 -- train_loss: 3.409 -- validation_loss: 749.733\n",
      "Saving model..\n"
     ]
    },
    {
     "name": "stderr",
     "output_type": "stream",
     "text": [
      "100%|██████████████████████████████████| 4/4 [00:01<00:00,  2.62it/s, loss=2.73]\n",
      "  0%|                                                     | 0/4 [00:00<?, ?it/s]"
     ]
    },
    {
     "name": "stdout",
     "output_type": "stream",
     "text": [
      "Epoch  19/ 50 -- train_loss: 2.263 -- validation_loss: 738.775\n",
      "Saving model..\n"
     ]
    },
    {
     "name": "stderr",
     "output_type": "stream",
     "text": [
      "100%|█████████████████████████████████| 4/4 [00:01<00:00,  2.76it/s, loss=-1.42]\n",
      "  0%|                                                     | 0/4 [00:00<?, ?it/s]"
     ]
    },
    {
     "name": "stdout",
     "output_type": "stream",
     "text": [
      "Epoch  20/ 50 -- train_loss: 1.594 -- validation_loss: 728.224\n",
      "Saving model..\n"
     ]
    },
    {
     "name": "stderr",
     "output_type": "stream",
     "text": [
      "100%|█████████████████████████████████| 4/4 [00:01<00:00,  2.75it/s, loss=-0.90]\n",
      "  0%|                                                     | 0/4 [00:00<?, ?it/s]"
     ]
    },
    {
     "name": "stdout",
     "output_type": "stream",
     "text": [
      "Epoch  21/ 50 -- train_loss: 0.422 -- validation_loss: 717.900\n",
      "Saving model..\n"
     ]
    },
    {
     "name": "stderr",
     "output_type": "stream",
     "text": [
      "100%|█████████████████████████████████| 4/4 [00:01<00:00,  2.77it/s, loss=-2.39]\n",
      "  0%|                                                     | 0/4 [00:00<?, ?it/s]"
     ]
    },
    {
     "name": "stdout",
     "output_type": "stream",
     "text": [
      "Epoch  22/ 50 -- train_loss: -0.009 -- validation_loss: 707.846\n",
      "Saving model..\n"
     ]
    },
    {
     "name": "stderr",
     "output_type": "stream",
     "text": [
      "100%|█████████████████████████████████| 4/4 [00:01<00:00,  2.80it/s, loss=-1.23]\n",
      "  0%|                                                     | 0/4 [00:00<?, ?it/s]"
     ]
    },
    {
     "name": "stdout",
     "output_type": "stream",
     "text": [
      "Epoch  23/ 50 -- train_loss: -1.268 -- validation_loss: 698.189\n",
      "Saving model..\n"
     ]
    },
    {
     "name": "stderr",
     "output_type": "stream",
     "text": [
      "100%|█████████████████████████████████| 4/4 [00:01<00:00,  2.78it/s, loss=-3.44]\n",
      "  0%|                                                     | 0/4 [00:00<?, ?it/s]"
     ]
    },
    {
     "name": "stdout",
     "output_type": "stream",
     "text": [
      "Epoch  24/ 50 -- train_loss: -1.622 -- validation_loss: 688.709\n",
      "Saving model..\n"
     ]
    },
    {
     "name": "stderr",
     "output_type": "stream",
     "text": [
      "100%|█████████████████████████████████| 4/4 [00:01<00:00,  2.81it/s, loss=-1.69]\n",
      "  0%|                                                     | 0/4 [00:00<?, ?it/s]"
     ]
    },
    {
     "name": "stdout",
     "output_type": "stream",
     "text": [
      "Epoch  25/ 50 -- train_loss: -1.871 -- validation_loss: 679.511\n",
      "Saving model..\n"
     ]
    },
    {
     "name": "stderr",
     "output_type": "stream",
     "text": [
      "100%|█████████████████████████████████| 4/4 [00:01<00:00,  2.77it/s, loss=-0.46]\n",
      "  0%|                                                     | 0/4 [00:00<?, ?it/s]"
     ]
    },
    {
     "name": "stdout",
     "output_type": "stream",
     "text": [
      "Epoch  26/ 50 -- train_loss: -2.223 -- validation_loss: 670.724\n",
      "Saving model..\n"
     ]
    },
    {
     "name": "stderr",
     "output_type": "stream",
     "text": [
      "100%|█████████████████████████████████| 4/4 [00:01<00:00,  2.74it/s, loss=-4.65]\n",
      "  0%|                                                     | 0/4 [00:00<?, ?it/s]"
     ]
    },
    {
     "name": "stdout",
     "output_type": "stream",
     "text": [
      "Epoch  27/ 50 -- train_loss: -2.492 -- validation_loss: 662.029\n",
      "Saving model..\n"
     ]
    },
    {
     "name": "stderr",
     "output_type": "stream",
     "text": [
      "100%|█████████████████████████████████| 4/4 [00:01<00:00,  2.74it/s, loss=-4.03]\n",
      "  0%|                                                     | 0/4 [00:00<?, ?it/s]"
     ]
    },
    {
     "name": "stdout",
     "output_type": "stream",
     "text": [
      "Epoch  28/ 50 -- train_loss: -2.627 -- validation_loss: 653.759\n",
      "Saving model..\n"
     ]
    },
    {
     "name": "stderr",
     "output_type": "stream",
     "text": [
      "100%|█████████████████████████████████| 4/4 [00:01<00:00,  2.78it/s, loss=-0.68]\n",
      "  0%|                                                     | 0/4 [00:00<?, ?it/s]"
     ]
    },
    {
     "name": "stdout",
     "output_type": "stream",
     "text": [
      "Epoch  29/ 50 -- train_loss: -3.522 -- validation_loss: 645.543\n",
      "Saving model..\n"
     ]
    },
    {
     "name": "stderr",
     "output_type": "stream",
     "text": [
      "100%|█████████████████████████████████| 4/4 [00:01<00:00,  2.73it/s, loss=-3.61]\n",
      "  0%|                                                     | 0/4 [00:00<?, ?it/s]"
     ]
    },
    {
     "name": "stdout",
     "output_type": "stream",
     "text": [
      "Epoch  30/ 50 -- train_loss: -3.023 -- validation_loss: 637.703\n",
      "Saving model..\n"
     ]
    },
    {
     "name": "stderr",
     "output_type": "stream",
     "text": [
      "100%|█████████████████████████████████| 4/4 [00:01<00:00,  2.75it/s, loss=-4.33]\n",
      "  0%|                                                     | 0/4 [00:00<?, ?it/s]"
     ]
    },
    {
     "name": "stdout",
     "output_type": "stream",
     "text": [
      "Epoch  31/ 50 -- train_loss: -2.994 -- validation_loss: 630.067\n",
      "Saving model..\n"
     ]
    },
    {
     "name": "stderr",
     "output_type": "stream",
     "text": [
      "100%|█████████████████████████████████| 4/4 [00:01<00:00,  2.80it/s, loss=-4.26]\n",
      "  0%|                                                     | 0/4 [00:00<?, ?it/s]"
     ]
    },
    {
     "name": "stdout",
     "output_type": "stream",
     "text": [
      "Epoch  32/ 50 -- train_loss: -2.236 -- validation_loss: 622.541\n",
      "Saving model..\n"
     ]
    },
    {
     "name": "stderr",
     "output_type": "stream",
     "text": [
      "100%|█████████████████████████████████| 4/4 [00:01<00:00,  2.79it/s, loss=-2.26]\n",
      "  0%|                                                     | 0/4 [00:00<?, ?it/s]"
     ]
    },
    {
     "name": "stdout",
     "output_type": "stream",
     "text": [
      "Epoch  33/ 50 -- train_loss: -4.130 -- validation_loss: 615.151\n",
      "Saving model..\n"
     ]
    },
    {
     "name": "stderr",
     "output_type": "stream",
     "text": [
      "100%|█████████████████████████████████| 4/4 [00:01<00:00,  2.76it/s, loss=-3.88]\n",
      "  0%|                                                     | 0/4 [00:00<?, ?it/s]"
     ]
    },
    {
     "name": "stdout",
     "output_type": "stream",
     "text": [
      "Epoch  34/ 50 -- train_loss: -4.421 -- validation_loss: 608.116\n",
      "Saving model..\n"
     ]
    },
    {
     "name": "stderr",
     "output_type": "stream",
     "text": [
      "100%|█████████████████████████████████| 4/4 [00:01<00:00,  2.70it/s, loss=-3.08]\n",
      "  0%|                                                     | 0/4 [00:00<?, ?it/s]"
     ]
    },
    {
     "name": "stdout",
     "output_type": "stream",
     "text": [
      "Epoch  35/ 50 -- train_loss: -4.663 -- validation_loss: 601.111\n",
      "Saving model..\n"
     ]
    },
    {
     "name": "stderr",
     "output_type": "stream",
     "text": [
      "100%|█████████████████████████████████| 4/4 [00:01<00:00,  2.77it/s, loss=-4.16]\n",
      "  0%|                                                     | 0/4 [00:00<?, ?it/s]"
     ]
    },
    {
     "name": "stdout",
     "output_type": "stream",
     "text": [
      "Epoch  36/ 50 -- train_loss: -5.638 -- validation_loss: 594.249\n",
      "Saving model..\n"
     ]
    },
    {
     "name": "stderr",
     "output_type": "stream",
     "text": [
      "100%|█████████████████████████████████| 4/4 [00:01<00:00,  2.79it/s, loss=-7.13]\n",
      "  0%|                                                     | 0/4 [00:00<?, ?it/s]"
     ]
    },
    {
     "name": "stdout",
     "output_type": "stream",
     "text": [
      "Epoch  37/ 50 -- train_loss: -5.394 -- validation_loss: 587.727\n",
      "Saving model..\n"
     ]
    },
    {
     "name": "stderr",
     "output_type": "stream",
     "text": [
      "100%|█████████████████████████████████| 4/4 [00:01<00:00,  2.79it/s, loss=-4.81]\n",
      "  0%|                                                     | 0/4 [00:00<?, ?it/s]"
     ]
    },
    {
     "name": "stdout",
     "output_type": "stream",
     "text": [
      "Epoch  38/ 50 -- train_loss: -6.040 -- validation_loss: 581.294\n",
      "Saving model..\n"
     ]
    },
    {
     "name": "stderr",
     "output_type": "stream",
     "text": [
      "100%|█████████████████████████████████| 4/4 [00:01<00:00,  2.77it/s, loss=-5.20]\n",
      "  0%|                                                     | 0/4 [00:00<?, ?it/s]"
     ]
    },
    {
     "name": "stdout",
     "output_type": "stream",
     "text": [
      "Epoch  39/ 50 -- train_loss: -6.601 -- validation_loss: 575.034\n",
      "Saving model..\n"
     ]
    },
    {
     "name": "stderr",
     "output_type": "stream",
     "text": [
      "100%|█████████████████████████████████| 4/4 [00:01<00:00,  2.75it/s, loss=-6.70]\n",
      "  0%|                                                     | 0/4 [00:00<?, ?it/s]"
     ]
    },
    {
     "name": "stdout",
     "output_type": "stream",
     "text": [
      "Epoch  40/ 50 -- train_loss: -7.181 -- validation_loss: 568.914\n",
      "Saving model..\n"
     ]
    },
    {
     "name": "stderr",
     "output_type": "stream",
     "text": [
      "100%|█████████████████████████████████| 4/4 [00:01<00:00,  2.74it/s, loss=-5.75]\n",
      "  0%|                                                     | 0/4 [00:00<?, ?it/s]"
     ]
    },
    {
     "name": "stdout",
     "output_type": "stream",
     "text": [
      "Epoch  41/ 50 -- train_loss: -7.225 -- validation_loss: 563.013\n",
      "Saving model..\n"
     ]
    },
    {
     "name": "stderr",
     "output_type": "stream",
     "text": [
      "100%|█████████████████████████████████| 4/4 [00:01<00:00,  2.74it/s, loss=-8.05]\n",
      "  0%|                                                     | 0/4 [00:00<?, ?it/s]"
     ]
    },
    {
     "name": "stdout",
     "output_type": "stream",
     "text": [
      "Epoch  42/ 50 -- train_loss: -6.888 -- validation_loss: 557.332\n",
      "Saving model..\n"
     ]
    },
    {
     "name": "stderr",
     "output_type": "stream",
     "text": [
      "100%|█████████████████████████████████| 4/4 [00:01<00:00,  2.80it/s, loss=-8.26]\n",
      "  0%|                                                     | 0/4 [00:00<?, ?it/s]"
     ]
    },
    {
     "name": "stdout",
     "output_type": "stream",
     "text": [
      "Epoch  43/ 50 -- train_loss: -7.546 -- validation_loss: 551.700\n",
      "Saving model..\n"
     ]
    },
    {
     "name": "stderr",
     "output_type": "stream",
     "text": [
      "100%|████████████████████████████████| 4/4 [00:01<00:00,  2.78it/s, loss=-10.19]\n",
      "  0%|                                                     | 0/4 [00:00<?, ?it/s]"
     ]
    },
    {
     "name": "stdout",
     "output_type": "stream",
     "text": [
      "Epoch  44/ 50 -- train_loss: -8.166 -- validation_loss: 546.169\n",
      "Saving model..\n"
     ]
    },
    {
     "name": "stderr",
     "output_type": "stream",
     "text": [
      "100%|█████████████████████████████████| 4/4 [00:01<00:00,  2.79it/s, loss=-5.95]\n",
      "  0%|                                                     | 0/4 [00:00<?, ?it/s]"
     ]
    },
    {
     "name": "stdout",
     "output_type": "stream",
     "text": [
      "Epoch  45/ 50 -- train_loss: -8.331 -- validation_loss: 540.744\n",
      "Saving model..\n"
     ]
    },
    {
     "name": "stderr",
     "output_type": "stream",
     "text": [
      "100%|█████████████████████████████████| 4/4 [00:01<00:00,  2.71it/s, loss=-9.69]\n",
      "  0%|                                                     | 0/4 [00:00<?, ?it/s]"
     ]
    },
    {
     "name": "stdout",
     "output_type": "stream",
     "text": [
      "Epoch  46/ 50 -- train_loss: -8.731 -- validation_loss: 535.369\n",
      "Saving model..\n"
     ]
    },
    {
     "name": "stderr",
     "output_type": "stream",
     "text": [
      "100%|█████████████████████████████████| 4/4 [00:01<00:00,  2.74it/s, loss=-9.59]\n",
      "  0%|                                                     | 0/4 [00:00<?, ?it/s]"
     ]
    },
    {
     "name": "stdout",
     "output_type": "stream",
     "text": [
      "Epoch  47/ 50 -- train_loss: -9.857 -- validation_loss: 530.229\n",
      "Saving model..\n"
     ]
    },
    {
     "name": "stderr",
     "output_type": "stream",
     "text": [
      "100%|████████████████████████████████| 4/4 [00:01<00:00,  2.75it/s, loss=-11.02]\n",
      "  0%|                                                     | 0/4 [00:00<?, ?it/s]"
     ]
    },
    {
     "name": "stdout",
     "output_type": "stream",
     "text": [
      "Epoch  48/ 50 -- train_loss: -9.263 -- validation_loss: 525.186\n",
      "Saving model..\n"
     ]
    },
    {
     "name": "stderr",
     "output_type": "stream",
     "text": [
      "100%|████████████████████████████████| 4/4 [00:01<00:00,  2.80it/s, loss=-10.06]\n",
      "  0%|                                                     | 0/4 [00:00<?, ?it/s]"
     ]
    },
    {
     "name": "stdout",
     "output_type": "stream",
     "text": [
      "Epoch  49/ 50 -- train_loss: -9.674 -- validation_loss: 520.258\n",
      "Saving model..\n"
     ]
    },
    {
     "name": "stderr",
     "output_type": "stream",
     "text": [
      "100%|█████████████████████████████████| 4/4 [00:01<00:00,  2.78it/s, loss=-8.76]\n"
     ]
    },
    {
     "name": "stdout",
     "output_type": "stream",
     "text": [
      "Epoch  50/ 50 -- train_loss: -9.351 -- validation_loss: 515.351\n",
      "Saving model..\n"
     ]
    },
    {
     "name": "stderr",
     "output_type": "stream",
     "text": [
      "\r",
      "  0%|                                                   | 0/200 [00:00<?, ?it/s]"
     ]
    },
    {
     "name": "stdout",
     "output_type": "stream",
     "text": [
      "###### Stop training after 50 epochs!\n",
      "Validation loss: 515.351\n",
      "Test loss:       519.274\n",
      "Loading dataset..\n",
      "No validation set passed\n",
      "No test set passed\n",
      "Creating directory experiment..\n",
      "Creating BNAF model..\n",
      "Creating optimizer..\n",
      "Creating scheduler..\n",
      "Training..\n"
     ]
    },
    {
     "name": "stderr",
     "output_type": "stream",
     "text": [
      "100%|████████████████████████████| 200/200 [01:12<00:00,  2.76it/s, loss=-15.08]\n",
      "  0%|                                                   | 0/200 [00:00<?, ?it/s]"
     ]
    },
    {
     "name": "stdout",
     "output_type": "stream",
     "text": [
      "Epoch   1/ 50 -- train_loss: 8.858 -- validation_loss: 534.766\n",
      "Saving model..\n"
     ]
    },
    {
     "name": "stderr",
     "output_type": "stream",
     "text": [
      "100%|████████████████████████████| 200/200 [01:12<00:00,  2.75it/s, loss=-19.99]\n",
      "  0%|                                                   | 0/200 [00:00<?, ?it/s]"
     ]
    },
    {
     "name": "stdout",
     "output_type": "stream",
     "text": [
      "Epoch   2/ 50 -- train_loss: -15.309 -- validation_loss: 362.490\n",
      "Saving model..\n"
     ]
    },
    {
     "name": "stderr",
     "output_type": "stream",
     "text": [
      "100%|████████████████████████████| 200/200 [01:12<00:00,  2.76it/s, loss=-17.45]\n",
      "  0%|                                                   | 0/200 [00:00<?, ?it/s]"
     ]
    },
    {
     "name": "stdout",
     "output_type": "stream",
     "text": [
      "Epoch   3/ 50 -- train_loss: -18.352 -- validation_loss: 252.878\n",
      "Saving model..\n"
     ]
    },
    {
     "name": "stderr",
     "output_type": "stream",
     "text": [
      "100%|████████████████████████████| 200/200 [01:12<00:00,  2.76it/s, loss=-23.49]\n",
      "  0%|                                                   | 0/200 [00:00<?, ?it/s]"
     ]
    },
    {
     "name": "stdout",
     "output_type": "stream",
     "text": [
      "Epoch   4/ 50 -- train_loss: -21.581 -- validation_loss: 182.722\n",
      "Saving model..\n"
     ]
    },
    {
     "name": "stderr",
     "output_type": "stream",
     "text": [
      "100%|████████████████████████████| 200/200 [01:12<00:00,  2.76it/s, loss=-21.79]\n",
      "  0%|                                                   | 0/200 [00:00<?, ?it/s]"
     ]
    },
    {
     "name": "stdout",
     "output_type": "stream",
     "text": [
      "Epoch   5/ 50 -- train_loss: -23.403 -- validation_loss: 141.334\n",
      "Saving model..\n"
     ]
    },
    {
     "name": "stderr",
     "output_type": "stream",
     "text": [
      "100%|████████████████████████████| 200/200 [01:12<00:00,  2.76it/s, loss=-24.67]\n",
      "  0%|                                                   | 0/200 [00:00<?, ?it/s]"
     ]
    },
    {
     "name": "stdout",
     "output_type": "stream",
     "text": [
      "Epoch   6/ 50 -- train_loss: -25.655 -- validation_loss: 118.108\n",
      "Saving model..\n"
     ]
    },
    {
     "name": "stderr",
     "output_type": "stream",
     "text": [
      "100%|████████████████████████████| 200/200 [01:12<00:00,  2.76it/s, loss=-24.54]\n",
      "  0%|                                                   | 0/200 [00:00<?, ?it/s]"
     ]
    },
    {
     "name": "stdout",
     "output_type": "stream",
     "text": [
      "Epoch   7/ 50 -- train_loss: -25.940 -- validation_loss: 104.493\n",
      "Saving model..\n"
     ]
    },
    {
     "name": "stderr",
     "output_type": "stream",
     "text": [
      "100%|████████████████████████████| 200/200 [01:12<00:00,  2.76it/s, loss=-24.57]\n",
      "  0%|                                                   | 0/200 [00:00<?, ?it/s]"
     ]
    },
    {
     "name": "stdout",
     "output_type": "stream",
     "text": [
      "Epoch   8/ 50 -- train_loss: -26.544 -- validation_loss: 96.069\n",
      "Saving model..\n"
     ]
    },
    {
     "name": "stderr",
     "output_type": "stream",
     "text": [
      "100%|████████████████████████████| 200/200 [01:12<00:00,  2.75it/s, loss=-26.45]\n",
      "  0%|                                                   | 0/200 [00:00<?, ?it/s]"
     ]
    },
    {
     "name": "stdout",
     "output_type": "stream",
     "text": [
      "Epoch   9/ 50 -- train_loss: -28.737 -- validation_loss: 91.143\n",
      "Saving model..\n"
     ]
    },
    {
     "name": "stderr",
     "output_type": "stream",
     "text": [
      "100%|████████████████████████████| 200/200 [01:12<00:00,  2.75it/s, loss=-31.61]\n",
      "  0%|                                                   | 0/200 [00:00<?, ?it/s]"
     ]
    },
    {
     "name": "stdout",
     "output_type": "stream",
     "text": [
      "Epoch  10/ 50 -- train_loss: -30.539 -- validation_loss: 88.006\n",
      "Saving model..\n"
     ]
    },
    {
     "name": "stderr",
     "output_type": "stream",
     "text": [
      "100%|████████████████████████████| 200/200 [01:12<00:00,  2.74it/s, loss=-28.43]\n",
      "  0%|                                                   | 0/200 [00:00<?, ?it/s]"
     ]
    },
    {
     "name": "stdout",
     "output_type": "stream",
     "text": [
      "Epoch  11/ 50 -- train_loss: -32.678 -- validation_loss: 86.132\n",
      "Saving model..\n"
     ]
    },
    {
     "name": "stderr",
     "output_type": "stream",
     "text": [
      "100%|████████████████████████████| 200/200 [01:12<00:00,  2.75it/s, loss=-33.16]\n",
      "  0%|                                                   | 0/200 [00:00<?, ?it/s]"
     ]
    },
    {
     "name": "stdout",
     "output_type": "stream",
     "text": [
      "Epoch  12/ 50 -- train_loss: -34.303 -- validation_loss: 85.102\n",
      "Saving model..\n"
     ]
    },
    {
     "name": "stderr",
     "output_type": "stream",
     "text": [
      "100%|████████████████████████████| 200/200 [01:12<00:00,  2.75it/s, loss=-36.14]\n",
      "  0%|                                                   | 0/200 [00:00<?, ?it/s]"
     ]
    },
    {
     "name": "stdout",
     "output_type": "stream",
     "text": [
      "Epoch  13/ 50 -- train_loss: -35.174 -- validation_loss: 84.570\n",
      "Saving model..\n"
     ]
    },
    {
     "name": "stderr",
     "output_type": "stream",
     "text": [
      "100%|████████████████████████████| 200/200 [01:12<00:00,  2.76it/s, loss=-32.53]\n",
      "  0%|                                                   | 0/200 [00:00<?, ?it/s]"
     ]
    },
    {
     "name": "stdout",
     "output_type": "stream",
     "text": [
      "Epoch  14/ 50 -- train_loss: -36.070 -- validation_loss: 84.420\n",
      "Saving model..\n"
     ]
    },
    {
     "name": "stderr",
     "output_type": "stream",
     "text": [
      "100%|████████████████████████████| 200/200 [01:12<00:00,  2.76it/s, loss=-34.32]\n",
      "  0%|                                                   | 0/200 [00:00<?, ?it/s]"
     ]
    },
    {
     "name": "stdout",
     "output_type": "stream",
     "text": [
      "Epoch  15/ 50 -- train_loss: -37.846 -- validation_loss: 84.732\n"
     ]
    },
    {
     "name": "stderr",
     "output_type": "stream",
     "text": [
      "100%|████████████████████████████| 200/200 [01:12<00:00,  2.75it/s, loss=-39.87]\n",
      "  0%|                                                   | 0/200 [00:00<?, ?it/s]"
     ]
    },
    {
     "name": "stdout",
     "output_type": "stream",
     "text": [
      "Epoch  16/ 50 -- train_loss: -38.529 -- validation_loss: 85.076\n"
     ]
    },
    {
     "name": "stderr",
     "output_type": "stream",
     "text": [
      "100%|████████████████████████████| 200/200 [01:12<00:00,  2.75it/s, loss=-41.11]\n",
      "  0%|                                                   | 0/200 [00:00<?, ?it/s]"
     ]
    },
    {
     "name": "stdout",
     "output_type": "stream",
     "text": [
      "Epoch  17/ 50 -- train_loss: -39.593 -- validation_loss: 85.750\n"
     ]
    },
    {
     "name": "stderr",
     "output_type": "stream",
     "text": [
      "100%|████████████████████████████| 200/200 [01:12<00:00,  2.75it/s, loss=-41.93]\n",
      "  0%|                                                   | 0/200 [00:00<?, ?it/s]"
     ]
    },
    {
     "name": "stdout",
     "output_type": "stream",
     "text": [
      "Epoch  18/ 50 -- train_loss: -40.314 -- validation_loss: 86.518\n"
     ]
    },
    {
     "name": "stderr",
     "output_type": "stream",
     "text": [
      "100%|████████████████████████████| 200/200 [01:12<00:00,  2.75it/s, loss=-43.13]\n",
      "  0%|                                                   | 0/200 [00:00<?, ?it/s]"
     ]
    },
    {
     "name": "stdout",
     "output_type": "stream",
     "text": [
      "Epoch  19/ 50 -- train_loss: -40.854 -- validation_loss: 87.265\n"
     ]
    },
    {
     "name": "stderr",
     "output_type": "stream",
     "text": [
      "100%|████████████████████████████| 200/200 [01:12<00:00,  2.75it/s, loss=-43.48]\n",
      "  0%|                                                   | 0/200 [00:00<?, ?it/s]"
     ]
    },
    {
     "name": "stdout",
     "output_type": "stream",
     "text": [
      "Epoch  20/ 50 -- train_loss: -41.466 -- validation_loss: 87.930\n"
     ]
    },
    {
     "name": "stderr",
     "output_type": "stream",
     "text": [
      "100%|████████████████████████████| 200/200 [01:12<00:00,  2.76it/s, loss=-43.45]\n",
      "  0%|                                                   | 0/200 [00:00<?, ?it/s]"
     ]
    },
    {
     "name": "stdout",
     "output_type": "stream",
     "text": [
      "Epoch  21/ 50 -- train_loss: -41.150 -- validation_loss: 88.490\n"
     ]
    },
    {
     "name": "stderr",
     "output_type": "stream",
     "text": [
      "100%|████████████████████████████| 200/200 [01:12<00:00,  2.76it/s, loss=-45.34]\n",
      "  0%|                                                   | 0/200 [00:00<?, ?it/s]"
     ]
    },
    {
     "name": "stdout",
     "output_type": "stream",
     "text": [
      "Epoch  22/ 50 -- train_loss: -42.967 -- validation_loss: 89.251\n"
     ]
    },
    {
     "name": "stderr",
     "output_type": "stream",
     "text": [
      "100%|████████████████████████████| 200/200 [01:12<00:00,  2.75it/s, loss=-43.82]\n",
      "  0%|                                                   | 0/200 [00:00<?, ?it/s]"
     ]
    },
    {
     "name": "stdout",
     "output_type": "stream",
     "text": [
      "Epoch  23/ 50 -- train_loss: -42.783 -- validation_loss: 89.837\n"
     ]
    },
    {
     "name": "stderr",
     "output_type": "stream",
     "text": [
      "100%|████████████████████████████| 200/200 [01:12<00:00,  2.76it/s, loss=-36.63]\n",
      "  0%|                                                   | 0/200 [00:00<?, ?it/s]"
     ]
    },
    {
     "name": "stdout",
     "output_type": "stream",
     "text": [
      "Epoch  24/ 50 -- train_loss: -43.964 -- validation_loss: 90.529\n"
     ]
    },
    {
     "name": "stderr",
     "output_type": "stream",
     "text": [
      "100%|████████████████████████████| 200/200 [01:12<00:00,  2.75it/s, loss=-46.91]\n",
      "  0%|                                                   | 0/200 [00:00<?, ?it/s]"
     ]
    },
    {
     "name": "stdout",
     "output_type": "stream",
     "text": [
      "Epoch  25/ 50 -- train_loss: -43.520 -- validation_loss: 91.104\n"
     ]
    },
    {
     "name": "stderr",
     "output_type": "stream",
     "text": [
      "100%|████████████████████████████| 200/200 [01:12<00:00,  2.75it/s, loss=-45.89]\n",
      "  0%|                                                   | 0/200 [00:00<?, ?it/s]"
     ]
    },
    {
     "name": "stdout",
     "output_type": "stream",
     "text": [
      "Epoch  26/ 50 -- train_loss: -44.323 -- validation_loss: 91.732\n"
     ]
    },
    {
     "name": "stderr",
     "output_type": "stream",
     "text": [
      "100%|████████████████████████████| 200/200 [01:12<00:00,  2.76it/s, loss=-45.13]\n",
      "  0%|                                                   | 0/200 [00:00<?, ?it/s]"
     ]
    },
    {
     "name": "stdout",
     "output_type": "stream",
     "text": [
      "Epoch  27/ 50 -- train_loss: -44.336 -- validation_loss: 92.246\n"
     ]
    },
    {
     "name": "stderr",
     "output_type": "stream",
     "text": [
      "100%|████████████████████████████| 200/200 [01:12<00:00,  2.76it/s, loss=-40.60]\n",
      "  0%|                                                   | 0/200 [00:00<?, ?it/s]"
     ]
    },
    {
     "name": "stdout",
     "output_type": "stream",
     "text": [
      "Epoch  28/ 50 -- train_loss: -43.275 -- validation_loss: 92.445\n"
     ]
    },
    {
     "name": "stderr",
     "output_type": "stream",
     "text": [
      "100%|████████████████████████████| 200/200 [01:12<00:00,  2.76it/s, loss=-47.35]\n",
      "  0%|                                                   | 0/200 [00:00<?, ?it/s]"
     ]
    },
    {
     "name": "stdout",
     "output_type": "stream",
     "text": [
      "Epoch  29/ 50 -- train_loss: -46.250 -- validation_loss: 93.142\n"
     ]
    },
    {
     "name": "stderr",
     "output_type": "stream",
     "text": [
      "100%|████████████████████████████| 200/200 [01:12<00:00,  2.75it/s, loss=-43.10]\n",
      "  0%|                                                   | 0/200 [00:00<?, ?it/s]"
     ]
    },
    {
     "name": "stdout",
     "output_type": "stream",
     "text": [
      "Epoch  30/ 50 -- train_loss: -45.089 -- validation_loss: 93.748\n"
     ]
    },
    {
     "name": "stderr",
     "output_type": "stream",
     "text": [
      "100%|████████████████████████████| 200/200 [01:12<00:00,  2.75it/s, loss=-47.03]\n",
      "  0%|                                                   | 0/200 [00:00<?, ?it/s]"
     ]
    },
    {
     "name": "stdout",
     "output_type": "stream",
     "text": [
      "Epoch  31/ 50 -- train_loss: -46.295 -- validation_loss: 94.072\n"
     ]
    },
    {
     "name": "stderr",
     "output_type": "stream",
     "text": [
      "100%|████████████████████████████| 200/200 [01:12<00:00,  2.75it/s, loss=-42.67]\n",
      "  0%|                                                   | 0/200 [00:00<?, ?it/s]"
     ]
    },
    {
     "name": "stdout",
     "output_type": "stream",
     "text": [
      "Epoch  32/ 50 -- train_loss: -46.843 -- validation_loss: 94.669\n"
     ]
    },
    {
     "name": "stderr",
     "output_type": "stream",
     "text": [
      "100%|████████████████████████████| 200/200 [01:12<00:00,  2.76it/s, loss=-52.71]\n",
      "  0%|                                                   | 0/200 [00:00<?, ?it/s]"
     ]
    },
    {
     "name": "stdout",
     "output_type": "stream",
     "text": [
      "Epoch  33/ 50 -- train_loss: -46.708 -- validation_loss: 95.210\n"
     ]
    },
    {
     "name": "stderr",
     "output_type": "stream",
     "text": [
      "100%|████████████████████████████| 200/200 [01:12<00:00,  2.75it/s, loss=-38.34]\n",
      "  0%|                                                   | 0/200 [00:00<?, ?it/s]"
     ]
    },
    {
     "name": "stdout",
     "output_type": "stream",
     "text": [
      "Epoch  34/ 50 -- train_loss: -46.845 -- validation_loss: 95.546\n"
     ]
    },
    {
     "name": "stderr",
     "output_type": "stream",
     "text": [
      "100%|████████████████████████████| 200/200 [01:12<00:00,  2.76it/s, loss=-44.60]\n",
      "  0%|                                                   | 0/200 [00:00<?, ?it/s]"
     ]
    },
    {
     "name": "stdout",
     "output_type": "stream",
     "text": [
      "Epoch  35/ 50 -- train_loss: -47.648 -- validation_loss: 96.127\n",
      "Epoch 00035: reducing learning rate of group 0 to 5.0000e-03.\n"
     ]
    },
    {
     "name": "stderr",
     "output_type": "stream",
     "text": [
      "100%|████████████████████████████| 200/200 [01:12<00:00,  2.76it/s, loss=-55.02]\n",
      "  0%|                                                   | 0/200 [00:00<?, ?it/s]"
     ]
    },
    {
     "name": "stdout",
     "output_type": "stream",
     "text": [
      "Epoch  36/ 50 -- train_loss: -54.792 -- validation_loss: 97.404\n"
     ]
    },
    {
     "name": "stderr",
     "output_type": "stream",
     "text": [
      "100%|████████████████████████████| 200/200 [01:12<00:00,  2.75it/s, loss=-56.30]\n",
      "  0%|                                                   | 0/200 [00:00<?, ?it/s]"
     ]
    },
    {
     "name": "stdout",
     "output_type": "stream",
     "text": [
      "Epoch  37/ 50 -- train_loss: -56.649 -- validation_loss: 98.947\n"
     ]
    },
    {
     "name": "stderr",
     "output_type": "stream",
     "text": [
      "100%|████████████████████████████| 200/200 [01:12<00:00,  2.75it/s, loss=-47.91]\n",
      "  0%|                                                   | 0/200 [00:00<?, ?it/s]"
     ]
    },
    {
     "name": "stdout",
     "output_type": "stream",
     "text": [
      "Epoch  38/ 50 -- train_loss: -56.036 -- validation_loss: 100.091\n"
     ]
    },
    {
     "name": "stderr",
     "output_type": "stream",
     "text": [
      "100%|████████████████████████████| 200/200 [01:12<00:00,  2.76it/s, loss=-55.39]\n",
      "  0%|                                                   | 0/200 [00:00<?, ?it/s]"
     ]
    },
    {
     "name": "stdout",
     "output_type": "stream",
     "text": [
      "Epoch  39/ 50 -- train_loss: -56.203 -- validation_loss: 100.944\n"
     ]
    },
    {
     "name": "stderr",
     "output_type": "stream",
     "text": [
      "100%|████████████████████████████| 200/200 [01:12<00:00,  2.76it/s, loss=-56.38]\n",
      "  0%|                                                   | 0/200 [00:00<?, ?it/s]"
     ]
    },
    {
     "name": "stdout",
     "output_type": "stream",
     "text": [
      "Epoch  40/ 50 -- train_loss: -56.738 -- validation_loss: 101.595\n"
     ]
    },
    {
     "name": "stderr",
     "output_type": "stream",
     "text": [
      "100%|████████████████████████████| 200/200 [01:14<00:00,  2.67it/s, loss=-57.29]\n",
      "  0%|                                                   | 0/200 [00:00<?, ?it/s]"
     ]
    },
    {
     "name": "stdout",
     "output_type": "stream",
     "text": [
      "Epoch  41/ 50 -- train_loss: -57.119 -- validation_loss: 102.119\n"
     ]
    },
    {
     "name": "stderr",
     "output_type": "stream",
     "text": [
      "100%|████████████████████████████| 200/200 [01:14<00:00,  2.67it/s, loss=-56.63]\n",
      "  0%|                                                   | 0/200 [00:00<?, ?it/s]"
     ]
    },
    {
     "name": "stdout",
     "output_type": "stream",
     "text": [
      "Epoch  42/ 50 -- train_loss: -57.145 -- validation_loss: 102.597\n"
     ]
    },
    {
     "name": "stderr",
     "output_type": "stream",
     "text": [
      "100%|████████████████████████████| 200/200 [01:13<00:00,  2.73it/s, loss=-56.06]\n",
      "  0%|                                                   | 0/200 [00:00<?, ?it/s]"
     ]
    },
    {
     "name": "stdout",
     "output_type": "stream",
     "text": [
      "Epoch  43/ 50 -- train_loss: -56.826 -- validation_loss: 102.913\n"
     ]
    },
    {
     "name": "stderr",
     "output_type": "stream",
     "text": [
      "100%|████████████████████████████| 200/200 [01:12<00:00,  2.76it/s, loss=-60.29]\n",
      "  0%|                                                   | 0/200 [00:00<?, ?it/s]"
     ]
    },
    {
     "name": "stdout",
     "output_type": "stream",
     "text": [
      "Epoch  44/ 50 -- train_loss: -57.875 -- validation_loss: 103.153\n"
     ]
    },
    {
     "name": "stderr",
     "output_type": "stream",
     "text": [
      "100%|████████████████████████████| 200/200 [01:12<00:00,  2.77it/s, loss=-64.28]\n",
      "  0%|                                                   | 0/200 [00:00<?, ?it/s]"
     ]
    },
    {
     "name": "stdout",
     "output_type": "stream",
     "text": [
      "Epoch  45/ 50 -- train_loss: -58.143 -- validation_loss: 103.445\n"
     ]
    },
    {
     "name": "stderr",
     "output_type": "stream",
     "text": [
      "100%|████████████████████████████| 200/200 [01:12<00:00,  2.76it/s, loss=-57.85]\n",
      "  0%|                                                   | 0/200 [00:00<?, ?it/s]"
     ]
    },
    {
     "name": "stdout",
     "output_type": "stream",
     "text": [
      "Epoch  46/ 50 -- train_loss: -57.450 -- validation_loss: 103.718\n"
     ]
    },
    {
     "name": "stderr",
     "output_type": "stream",
     "text": [
      "100%|████████████████████████████| 200/200 [01:12<00:00,  2.75it/s, loss=-52.56]\n",
      "  0%|                                                   | 0/200 [00:00<?, ?it/s]"
     ]
    },
    {
     "name": "stdout",
     "output_type": "stream",
     "text": [
      "Epoch  47/ 50 -- train_loss: -57.490 -- validation_loss: 103.925\n"
     ]
    },
    {
     "name": "stderr",
     "output_type": "stream",
     "text": [
      "100%|████████████████████████████| 200/200 [01:12<00:00,  2.76it/s, loss=-58.74]\n",
      "  0%|                                                   | 0/200 [00:00<?, ?it/s]"
     ]
    },
    {
     "name": "stdout",
     "output_type": "stream",
     "text": [
      "Epoch  48/ 50 -- train_loss: -58.648 -- validation_loss: 104.122\n"
     ]
    },
    {
     "name": "stderr",
     "output_type": "stream",
     "text": [
      "100%|████████████████████████████| 200/200 [01:12<00:00,  2.77it/s, loss=-53.47]\n",
      "  0%|                                                   | 0/200 [00:00<?, ?it/s]"
     ]
    },
    {
     "name": "stdout",
     "output_type": "stream",
     "text": [
      "Epoch  49/ 50 -- train_loss: -57.608 -- validation_loss: 104.322\n"
     ]
    },
    {
     "name": "stderr",
     "output_type": "stream",
     "text": [
      "100%|████████████████████████████| 200/200 [01:12<00:00,  2.76it/s, loss=-63.87]\n"
     ]
    },
    {
     "name": "stdout",
     "output_type": "stream",
     "text": [
      "Epoch  50/ 50 -- train_loss: -57.936 -- validation_loss: 104.468\n",
      "###### Stop training after 50 epochs!\n",
      "Validation loss: 104.468\n",
      "Test loss:       104.199\n"
     ]
    },
    {
     "name": "stderr",
     "output_type": "stream",
     "text": [
      "\r",
      "  0%|                                                     | 0/4 [00:00<?, ?it/s]"
     ]
    },
    {
     "name": "stdout",
     "output_type": "stream",
     "text": [
      "Loading dataset..\n",
      "Creating directory experiment..\n",
      "Creating BNAF model..\n",
      "Creating optimizer..\n",
      "Creating scheduler..\n",
      "Training..\n"
     ]
    },
    {
     "name": "stderr",
     "output_type": "stream",
     "text": [
      "100%|████████████████████████████████| 4/4 [00:02<00:00,  1.94it/s, loss=150.70]\n"
     ]
    },
    {
     "name": "stdout",
     "output_type": "stream",
     "text": [
      "Epoch   1/ 50 -- train_loss: 171.562 -- validation_loss: 983.623\n",
      "Saving model..\n"
     ]
    },
    {
     "name": "stderr",
     "output_type": "stream",
     "text": [
      "100%|████████████████████████████████| 4/4 [00:01<00:00,  2.06it/s, loss=108.72]\n"
     ]
    },
    {
     "name": "stdout",
     "output_type": "stream",
     "text": [
      "Epoch   2/ 50 -- train_loss: 124.684 -- validation_loss: 970.367\n",
      "Saving model..\n"
     ]
    },
    {
     "name": "stderr",
     "output_type": "stream",
     "text": [
      "100%|█████████████████████████████████| 4/4 [00:01<00:00,  2.07it/s, loss=77.61]\n"
     ]
    },
    {
     "name": "stdout",
     "output_type": "stream",
     "text": [
      "Epoch   3/ 50 -- train_loss: 88.957 -- validation_loss: 956.462\n",
      "Saving model..\n"
     ]
    },
    {
     "name": "stderr",
     "output_type": "stream",
     "text": [
      "100%|█████████████████████████████████| 4/4 [00:02<00:00,  2.00it/s, loss=51.29]\n"
     ]
    },
    {
     "name": "stdout",
     "output_type": "stream",
     "text": [
      "Epoch   4/ 50 -- train_loss: 60.056 -- validation_loss: 942.199\n",
      "Saving model..\n"
     ]
    },
    {
     "name": "stderr",
     "output_type": "stream",
     "text": [
      "100%|█████████████████████████████████| 4/4 [00:01<00:00,  2.03it/s, loss=45.06]\n"
     ]
    },
    {
     "name": "stdout",
     "output_type": "stream",
     "text": [
      "Epoch   5/ 50 -- train_loss: 45.563 -- validation_loss: 927.523\n",
      "Saving model..\n"
     ]
    },
    {
     "name": "stderr",
     "output_type": "stream",
     "text": [
      "100%|█████████████████████████████████| 4/4 [00:01<00:00,  2.08it/s, loss=33.78]\n"
     ]
    },
    {
     "name": "stdout",
     "output_type": "stream",
     "text": [
      "Epoch   6/ 50 -- train_loss: 36.043 -- validation_loss: 912.753\n",
      "Saving model..\n"
     ]
    },
    {
     "name": "stderr",
     "output_type": "stream",
     "text": [
      "100%|█████████████████████████████████| 4/4 [00:01<00:00,  2.08it/s, loss=28.29]\n"
     ]
    },
    {
     "name": "stdout",
     "output_type": "stream",
     "text": [
      "Epoch   7/ 50 -- train_loss: 29.807 -- validation_loss: 897.889\n",
      "Saving model..\n"
     ]
    },
    {
     "name": "stderr",
     "output_type": "stream",
     "text": [
      "100%|█████████████████████████████████| 4/4 [00:02<00:00,  2.00it/s, loss=23.41]\n"
     ]
    },
    {
     "name": "stdout",
     "output_type": "stream",
     "text": [
      "Epoch   8/ 50 -- train_loss: 24.867 -- validation_loss: 883.222\n",
      "Saving model..\n"
     ]
    },
    {
     "name": "stderr",
     "output_type": "stream",
     "text": [
      "100%|█████████████████████████████████| 4/4 [00:01<00:00,  2.01it/s, loss=19.87]\n"
     ]
    },
    {
     "name": "stdout",
     "output_type": "stream",
     "text": [
      "Epoch   9/ 50 -- train_loss: 20.162 -- validation_loss: 868.573\n",
      "Saving model..\n"
     ]
    },
    {
     "name": "stderr",
     "output_type": "stream",
     "text": [
      "100%|█████████████████████████████████| 4/4 [00:01<00:00,  2.03it/s, loss=17.54]\n",
      "  0%|                                                     | 0/4 [00:00<?, ?it/s]"
     ]
    },
    {
     "name": "stdout",
     "output_type": "stream",
     "text": [
      "Epoch  10/ 50 -- train_loss: 17.346 -- validation_loss: 854.326\n",
      "Saving model..\n"
     ]
    },
    {
     "name": "stderr",
     "output_type": "stream",
     "text": [
      "100%|█████████████████████████████████| 4/4 [00:01<00:00,  2.03it/s, loss=12.82]\n"
     ]
    },
    {
     "name": "stdout",
     "output_type": "stream",
     "text": [
      "Epoch  11/ 50 -- train_loss: 14.679 -- validation_loss: 840.222\n",
      "Saving model..\n"
     ]
    },
    {
     "name": "stderr",
     "output_type": "stream",
     "text": [
      "100%|█████████████████████████████████| 4/4 [00:01<00:00,  2.02it/s, loss=13.17]\n",
      "  0%|                                                     | 0/4 [00:00<?, ?it/s]"
     ]
    },
    {
     "name": "stdout",
     "output_type": "stream",
     "text": [
      "Epoch  12/ 50 -- train_loss: 12.875 -- validation_loss: 826.582\n",
      "Saving model..\n"
     ]
    },
    {
     "name": "stderr",
     "output_type": "stream",
     "text": [
      "100%|█████████████████████████████████| 4/4 [00:01<00:00,  2.03it/s, loss=11.35]\n"
     ]
    },
    {
     "name": "stdout",
     "output_type": "stream",
     "text": [
      "Epoch  13/ 50 -- train_loss: 11.029 -- validation_loss: 813.374\n",
      "Saving model..\n"
     ]
    },
    {
     "name": "stderr",
     "output_type": "stream",
     "text": [
      "100%|█████████████████████████████████| 4/4 [00:01<00:00,  2.03it/s, loss=11.94]\n"
     ]
    },
    {
     "name": "stdout",
     "output_type": "stream",
     "text": [
      "Epoch  14/ 50 -- train_loss: 9.552 -- validation_loss: 800.615\n",
      "Saving model..\n"
     ]
    },
    {
     "name": "stderr",
     "output_type": "stream",
     "text": [
      "100%|█████████████████████████████████| 4/4 [00:01<00:00,  2.06it/s, loss=10.14]\n"
     ]
    },
    {
     "name": "stdout",
     "output_type": "stream",
     "text": [
      "Epoch  15/ 50 -- train_loss: 8.105 -- validation_loss: 788.143\n",
      "Saving model..\n"
     ]
    },
    {
     "name": "stderr",
     "output_type": "stream",
     "text": [
      "100%|██████████████████████████████████| 4/4 [00:02<00:00,  1.93it/s, loss=8.09]\n"
     ]
    },
    {
     "name": "stdout",
     "output_type": "stream",
     "text": [
      "Epoch  16/ 50 -- train_loss: 6.431 -- validation_loss: 775.938\n",
      "Saving model..\n"
     ]
    },
    {
     "name": "stderr",
     "output_type": "stream",
     "text": [
      "100%|██████████████████████████████████| 4/4 [00:02<00:00,  1.82it/s, loss=0.65]\n"
     ]
    },
    {
     "name": "stdout",
     "output_type": "stream",
     "text": [
      "Epoch  17/ 50 -- train_loss: 5.134 -- validation_loss: 764.074\n",
      "Saving model..\n"
     ]
    },
    {
     "name": "stderr",
     "output_type": "stream",
     "text": [
      "100%|██████████████████████████████████| 4/4 [00:01<00:00,  2.00it/s, loss=3.40]\n"
     ]
    },
    {
     "name": "stdout",
     "output_type": "stream",
     "text": [
      "Epoch  18/ 50 -- train_loss: 3.870 -- validation_loss: 752.566\n",
      "Saving model..\n"
     ]
    },
    {
     "name": "stderr",
     "output_type": "stream",
     "text": [
      "100%|██████████████████████████████████| 4/4 [00:01<00:00,  2.01it/s, loss=2.15]\n",
      "  0%|                                                     | 0/4 [00:00<?, ?it/s]"
     ]
    },
    {
     "name": "stdout",
     "output_type": "stream",
     "text": [
      "Epoch  19/ 50 -- train_loss: 2.970 -- validation_loss: 741.299\n",
      "Saving model..\n"
     ]
    },
    {
     "name": "stderr",
     "output_type": "stream",
     "text": [
      "100%|██████████████████████████████████| 4/4 [00:02<00:00,  1.93it/s, loss=1.72]\n"
     ]
    },
    {
     "name": "stdout",
     "output_type": "stream",
     "text": [
      "Epoch  20/ 50 -- train_loss: 2.381 -- validation_loss: 730.396\n",
      "Saving model..\n"
     ]
    },
    {
     "name": "stderr",
     "output_type": "stream",
     "text": [
      "100%|██████████████████████████████████| 4/4 [00:01<00:00,  2.01it/s, loss=4.70]\n"
     ]
    },
    {
     "name": "stdout",
     "output_type": "stream",
     "text": [
      "Epoch  21/ 50 -- train_loss: 1.382 -- validation_loss: 719.888\n",
      "Saving model..\n"
     ]
    },
    {
     "name": "stderr",
     "output_type": "stream",
     "text": [
      "100%|██████████████████████████████████| 4/4 [00:02<00:00,  1.88it/s, loss=1.45]\n",
      "  0%|                                                     | 0/4 [00:00<?, ?it/s]"
     ]
    },
    {
     "name": "stdout",
     "output_type": "stream",
     "text": [
      "Epoch  22/ 50 -- train_loss: 0.280 -- validation_loss: 709.725\n",
      "Saving model..\n"
     ]
    },
    {
     "name": "stderr",
     "output_type": "stream",
     "text": [
      "100%|█████████████████████████████████| 4/4 [00:02<00:00,  1.99it/s, loss=-1.17]\n"
     ]
    },
    {
     "name": "stdout",
     "output_type": "stream",
     "text": [
      "Epoch  23/ 50 -- train_loss: -0.883 -- validation_loss: 699.720\n",
      "Saving model..\n"
     ]
    },
    {
     "name": "stderr",
     "output_type": "stream",
     "text": [
      "100%|█████████████████████████████████| 4/4 [00:02<00:00,  1.92it/s, loss=-1.00]\n"
     ]
    },
    {
     "name": "stdout",
     "output_type": "stream",
     "text": [
      "Epoch  24/ 50 -- train_loss: -1.816 -- validation_loss: 690.042\n",
      "Saving model..\n"
     ]
    },
    {
     "name": "stderr",
     "output_type": "stream",
     "text": [
      "100%|█████████████████████████████████| 4/4 [00:01<00:00,  2.00it/s, loss=-2.94]\n"
     ]
    },
    {
     "name": "stdout",
     "output_type": "stream",
     "text": [
      "Epoch  25/ 50 -- train_loss: -2.106 -- validation_loss: 680.765\n",
      "Saving model..\n"
     ]
    },
    {
     "name": "stderr",
     "output_type": "stream",
     "text": [
      "100%|█████████████████████████████████| 4/4 [00:02<00:00,  1.78it/s, loss=-4.41]\n"
     ]
    },
    {
     "name": "stdout",
     "output_type": "stream",
     "text": [
      "Epoch  26/ 50 -- train_loss: -3.243 -- validation_loss: 671.755\n",
      "Saving model..\n"
     ]
    },
    {
     "name": "stderr",
     "output_type": "stream",
     "text": [
      "100%|█████████████████████████████████| 4/4 [00:02<00:00,  1.58it/s, loss=-4.41]\n"
     ]
    },
    {
     "name": "stdout",
     "output_type": "stream",
     "text": [
      "Epoch  27/ 50 -- train_loss: -3.682 -- validation_loss: 663.103\n",
      "Saving model..\n"
     ]
    },
    {
     "name": "stderr",
     "output_type": "stream",
     "text": [
      "100%|█████████████████████████████████| 4/4 [00:02<00:00,  1.95it/s, loss=-2.86]\n",
      "  0%|                                                     | 0/4 [00:00<?, ?it/s]"
     ]
    },
    {
     "name": "stdout",
     "output_type": "stream",
     "text": [
      "Epoch  28/ 50 -- train_loss: -3.393 -- validation_loss: 654.645\n",
      "Saving model..\n"
     ]
    },
    {
     "name": "stderr",
     "output_type": "stream",
     "text": [
      "100%|█████████████████████████████████| 4/4 [00:01<00:00,  2.04it/s, loss=-4.80]\n"
     ]
    },
    {
     "name": "stdout",
     "output_type": "stream",
     "text": [
      "Epoch  29/ 50 -- train_loss: -4.794 -- validation_loss: 646.372\n",
      "Saving model..\n"
     ]
    },
    {
     "name": "stderr",
     "output_type": "stream",
     "text": [
      "100%|█████████████████████████████████| 4/4 [00:02<00:00,  1.99it/s, loss=-6.44]\n",
      "  0%|                                                     | 0/4 [00:00<?, ?it/s]"
     ]
    },
    {
     "name": "stdout",
     "output_type": "stream",
     "text": [
      "Epoch  30/ 50 -- train_loss: -4.893 -- validation_loss: 638.395\n",
      "Saving model..\n"
     ]
    },
    {
     "name": "stderr",
     "output_type": "stream",
     "text": [
      "100%|█████████████████████████████████| 4/4 [00:02<00:00,  1.70it/s, loss=-1.82]\n",
      "  0%|                                                     | 0/4 [00:00<?, ?it/s]"
     ]
    },
    {
     "name": "stdout",
     "output_type": "stream",
     "text": [
      "Epoch  31/ 50 -- train_loss: -4.604 -- validation_loss: 630.588\n",
      "Saving model..\n"
     ]
    },
    {
     "name": "stderr",
     "output_type": "stream",
     "text": [
      "100%|█████████████████████████████████| 4/4 [00:01<00:00,  2.01it/s, loss=-6.78]\n"
     ]
    },
    {
     "name": "stdout",
     "output_type": "stream",
     "text": [
      "Epoch  32/ 50 -- train_loss: -5.370 -- validation_loss: 623.113\n",
      "Saving model..\n"
     ]
    },
    {
     "name": "stderr",
     "output_type": "stream",
     "text": [
      "100%|█████████████████████████████████| 4/4 [00:01<00:00,  2.02it/s, loss=-6.98]\n"
     ]
    },
    {
     "name": "stdout",
     "output_type": "stream",
     "text": [
      "Epoch  33/ 50 -- train_loss: -5.626 -- validation_loss: 615.902\n",
      "Saving model..\n"
     ]
    },
    {
     "name": "stderr",
     "output_type": "stream",
     "text": [
      "100%|█████████████████████████████████| 4/4 [00:01<00:00,  2.07it/s, loss=-7.42]\n",
      "  0%|                                                     | 0/4 [00:00<?, ?it/s]"
     ]
    },
    {
     "name": "stdout",
     "output_type": "stream",
     "text": [
      "Epoch  34/ 50 -- train_loss: -5.643 -- validation_loss: 608.770\n",
      "Saving model..\n"
     ]
    },
    {
     "name": "stderr",
     "output_type": "stream",
     "text": [
      "100%|█████████████████████████████████| 4/4 [00:01<00:00,  2.02it/s, loss=-7.41]\n",
      "  0%|                                                     | 0/4 [00:00<?, ?it/s]"
     ]
    },
    {
     "name": "stdout",
     "output_type": "stream",
     "text": [
      "Epoch  35/ 50 -- train_loss: -6.103 -- validation_loss: 601.827\n",
      "Saving model..\n"
     ]
    },
    {
     "name": "stderr",
     "output_type": "stream",
     "text": [
      "100%|█████████████████████████████████| 4/4 [00:01<00:00,  2.05it/s, loss=-7.21]\n"
     ]
    },
    {
     "name": "stdout",
     "output_type": "stream",
     "text": [
      "Epoch  36/ 50 -- train_loss: -6.380 -- validation_loss: 595.091\n",
      "Saving model..\n"
     ]
    },
    {
     "name": "stderr",
     "output_type": "stream",
     "text": [
      "100%|█████████████████████████████████| 4/4 [00:01<00:00,  2.12it/s, loss=-6.73]\n"
     ]
    },
    {
     "name": "stdout",
     "output_type": "stream",
     "text": [
      "Epoch  37/ 50 -- train_loss: -7.271 -- validation_loss: 588.456\n",
      "Saving model..\n"
     ]
    },
    {
     "name": "stderr",
     "output_type": "stream",
     "text": [
      "100%|█████████████████████████████████| 4/4 [00:01<00:00,  2.06it/s, loss=-5.77]\n"
     ]
    },
    {
     "name": "stdout",
     "output_type": "stream",
     "text": [
      "Epoch  38/ 50 -- train_loss: -7.135 -- validation_loss: 582.057\n",
      "Saving model..\n"
     ]
    },
    {
     "name": "stderr",
     "output_type": "stream",
     "text": [
      "100%|█████████████████████████████████| 4/4 [00:02<00:00,  1.99it/s, loss=-8.78]\n",
      "  0%|                                                     | 0/4 [00:00<?, ?it/s]"
     ]
    },
    {
     "name": "stdout",
     "output_type": "stream",
     "text": [
      "Epoch  39/ 50 -- train_loss: -7.897 -- validation_loss: 575.740\n",
      "Saving model..\n"
     ]
    },
    {
     "name": "stderr",
     "output_type": "stream",
     "text": [
      "100%|█████████████████████████████████| 4/4 [00:02<00:00,  1.97it/s, loss=-4.87]\n",
      "  0%|                                                     | 0/4 [00:00<?, ?it/s]"
     ]
    },
    {
     "name": "stdout",
     "output_type": "stream",
     "text": [
      "Epoch  40/ 50 -- train_loss: -8.145 -- validation_loss: 569.622\n",
      "Saving model..\n"
     ]
    },
    {
     "name": "stderr",
     "output_type": "stream",
     "text": [
      "100%|█████████████████████████████████| 4/4 [00:01<00:00,  2.00it/s, loss=-8.55]\n"
     ]
    },
    {
     "name": "stdout",
     "output_type": "stream",
     "text": [
      "Epoch  41/ 50 -- train_loss: -8.331 -- validation_loss: 563.723\n",
      "Saving model..\n"
     ]
    },
    {
     "name": "stderr",
     "output_type": "stream",
     "text": [
      "100%|█████████████████████████████████| 4/4 [00:01<00:00,  2.05it/s, loss=-9.05]\n"
     ]
    },
    {
     "name": "stdout",
     "output_type": "stream",
     "text": [
      "Epoch  42/ 50 -- train_loss: -8.200 -- validation_loss: 557.798\n",
      "Saving model..\n"
     ]
    },
    {
     "name": "stderr",
     "output_type": "stream",
     "text": [
      "100%|█████████████████████████████████| 4/4 [00:02<00:00,  1.95it/s, loss=-8.47]\n",
      "  0%|                                                     | 0/4 [00:00<?, ?it/s]"
     ]
    },
    {
     "name": "stdout",
     "output_type": "stream",
     "text": [
      "Epoch  43/ 50 -- train_loss: -8.293 -- validation_loss: 552.110\n",
      "Saving model..\n"
     ]
    },
    {
     "name": "stderr",
     "output_type": "stream",
     "text": [
      "100%|█████████████████████████████████| 4/4 [00:01<00:00,  2.04it/s, loss=-7.01]\n"
     ]
    },
    {
     "name": "stdout",
     "output_type": "stream",
     "text": [
      "Epoch  44/ 50 -- train_loss: -8.548 -- validation_loss: 546.453\n",
      "Saving model..\n"
     ]
    },
    {
     "name": "stderr",
     "output_type": "stream",
     "text": [
      "100%|█████████████████████████████████| 4/4 [00:01<00:00,  2.07it/s, loss=-9.89]\n"
     ]
    },
    {
     "name": "stdout",
     "output_type": "stream",
     "text": [
      "Epoch  45/ 50 -- train_loss: -9.325 -- validation_loss: 541.056\n",
      "Saving model..\n"
     ]
    },
    {
     "name": "stderr",
     "output_type": "stream",
     "text": [
      "100%|█████████████████████████████████| 4/4 [00:01<00:00,  2.04it/s, loss=-9.48]\n"
     ]
    },
    {
     "name": "stdout",
     "output_type": "stream",
     "text": [
      "Epoch  46/ 50 -- train_loss: -9.843 -- validation_loss: 535.720\n",
      "Saving model..\n"
     ]
    },
    {
     "name": "stderr",
     "output_type": "stream",
     "text": [
      "100%|█████████████████████████████████| 4/4 [00:02<00:00,  1.98it/s, loss=-6.77]\n"
     ]
    },
    {
     "name": "stdout",
     "output_type": "stream",
     "text": [
      "Epoch  47/ 50 -- train_loss: -9.313 -- validation_loss: 530.588\n",
      "Saving model..\n"
     ]
    },
    {
     "name": "stderr",
     "output_type": "stream",
     "text": [
      "100%|████████████████████████████████| 4/4 [00:01<00:00,  2.08it/s, loss=-10.84]\n"
     ]
    },
    {
     "name": "stdout",
     "output_type": "stream",
     "text": [
      "Epoch  48/ 50 -- train_loss: -9.683 -- validation_loss: 525.507\n",
      "Saving model..\n"
     ]
    },
    {
     "name": "stderr",
     "output_type": "stream",
     "text": [
      "100%|████████████████████████████████| 4/4 [00:01<00:00,  2.03it/s, loss=-12.35]\n",
      "  0%|                                                     | 0/4 [00:00<?, ?it/s]"
     ]
    },
    {
     "name": "stdout",
     "output_type": "stream",
     "text": [
      "Epoch  49/ 50 -- train_loss: -9.327 -- validation_loss: 520.595\n",
      "Saving model..\n"
     ]
    },
    {
     "name": "stderr",
     "output_type": "stream",
     "text": [
      "100%|█████████████████████████████████| 4/4 [00:01<00:00,  2.34it/s, loss=-8.26]\n"
     ]
    },
    {
     "name": "stdout",
     "output_type": "stream",
     "text": [
      "Epoch  50/ 50 -- train_loss: -8.867 -- validation_loss: 515.734\n",
      "Saving model..\n"
     ]
    },
    {
     "name": "stderr",
     "output_type": "stream",
     "text": [
      "\r",
      "  0%|                                                   | 0/200 [00:00<?, ?it/s]"
     ]
    },
    {
     "name": "stdout",
     "output_type": "stream",
     "text": [
      "###### Stop training after 50 epochs!\n",
      "Validation loss: 515.734\n",
      "Test loss:       512.844\n",
      "Loading dataset..\n",
      "No validation set passed\n",
      "No test set passed\n",
      "Creating directory experiment..\n",
      "Creating BNAF model..\n",
      "Creating optimizer..\n",
      "Creating scheduler..\n",
      "Training..\n"
     ]
    },
    {
     "name": "stderr",
     "output_type": "stream",
     "text": [
      "100%|█████████████████████████████| 200/200 [01:38<00:00,  2.04it/s, loss=-6.49]\n"
     ]
    },
    {
     "name": "stdout",
     "output_type": "stream",
     "text": [
      "Epoch   1/ 50 -- train_loss: 15.846 -- validation_loss: 523.782\n",
      "Saving model..\n"
     ]
    },
    {
     "name": "stderr",
     "output_type": "stream",
     "text": [
      "100%|████████████████████████████| 200/200 [01:37<00:00,  2.05it/s, loss=-13.40]\n"
     ]
    },
    {
     "name": "stdout",
     "output_type": "stream",
     "text": [
      "Epoch   2/ 50 -- train_loss: -10.955 -- validation_loss: 364.304\n",
      "Saving model..\n"
     ]
    },
    {
     "name": "stderr",
     "output_type": "stream",
     "text": [
      "100%|████████████████████████████| 200/200 [01:39<00:00,  2.01it/s, loss=-16.52]\n"
     ]
    },
    {
     "name": "stdout",
     "output_type": "stream",
     "text": [
      "Epoch   3/ 50 -- train_loss: -15.181 -- validation_loss: 259.284\n",
      "Saving model..\n"
     ]
    },
    {
     "name": "stderr",
     "output_type": "stream",
     "text": [
      "100%|████████████████████████████| 200/200 [01:41<00:00,  1.97it/s, loss=-15.55]\n"
     ]
    },
    {
     "name": "stdout",
     "output_type": "stream",
     "text": [
      "Epoch   4/ 50 -- train_loss: -17.515 -- validation_loss: 187.394\n",
      "Saving model..\n"
     ]
    },
    {
     "name": "stderr",
     "output_type": "stream",
     "text": [
      "100%|████████████████████████████| 200/200 [01:39<00:00,  2.01it/s, loss=-21.00]\n"
     ]
    },
    {
     "name": "stdout",
     "output_type": "stream",
     "text": [
      "Epoch   5/ 50 -- train_loss: -19.398 -- validation_loss: 142.115\n",
      "Saving model..\n"
     ]
    },
    {
     "name": "stderr",
     "output_type": "stream",
     "text": [
      "100%|████████████████████████████| 200/200 [01:37<00:00,  2.06it/s, loss=-29.37]\n",
      "  0%|                                                   | 0/200 [00:00<?, ?it/s]"
     ]
    },
    {
     "name": "stdout",
     "output_type": "stream",
     "text": [
      "Epoch   6/ 50 -- train_loss: -21.344 -- validation_loss: 115.206\n",
      "Saving model..\n"
     ]
    },
    {
     "name": "stderr",
     "output_type": "stream",
     "text": [
      "100%|████████████████████████████| 200/200 [01:40<00:00,  2.00it/s, loss=-22.84]\n"
     ]
    },
    {
     "name": "stdout",
     "output_type": "stream",
     "text": [
      "Epoch   7/ 50 -- train_loss: -24.222 -- validation_loss: 99.580\n",
      "Saving model..\n"
     ]
    },
    {
     "name": "stderr",
     "output_type": "stream",
     "text": [
      "100%|████████████████████████████| 200/200 [01:42<00:00,  1.95it/s, loss=-27.88]\n"
     ]
    },
    {
     "name": "stdout",
     "output_type": "stream",
     "text": [
      "Epoch   8/ 50 -- train_loss: -23.271 -- validation_loss: 89.949\n",
      "Saving model..\n"
     ]
    },
    {
     "name": "stderr",
     "output_type": "stream",
     "text": [
      "100%|████████████████████████████| 200/200 [01:39<00:00,  2.02it/s, loss=-32.23]\n"
     ]
    },
    {
     "name": "stdout",
     "output_type": "stream",
     "text": [
      "Epoch   9/ 50 -- train_loss: -26.247 -- validation_loss: 84.243\n",
      "Saving model..\n"
     ]
    },
    {
     "name": "stderr",
     "output_type": "stream",
     "text": [
      "100%|████████████████████████████| 200/200 [01:55<00:00,  1.74it/s, loss=-30.76]\n"
     ]
    },
    {
     "name": "stdout",
     "output_type": "stream",
     "text": [
      "Epoch  10/ 50 -- train_loss: -27.992 -- validation_loss: 81.028\n",
      "Saving model..\n"
     ]
    },
    {
     "name": "stderr",
     "output_type": "stream",
     "text": [
      "100%|████████████████████████████| 200/200 [01:42<00:00,  1.95it/s, loss=-27.85]\n"
     ]
    },
    {
     "name": "stdout",
     "output_type": "stream",
     "text": [
      "Epoch  11/ 50 -- train_loss: -29.999 -- validation_loss: 79.024\n",
      "Saving model..\n"
     ]
    },
    {
     "name": "stderr",
     "output_type": "stream",
     "text": [
      "100%|████████████████████████████| 200/200 [01:48<00:00,  1.84it/s, loss=-30.32]\n"
     ]
    },
    {
     "name": "stdout",
     "output_type": "stream",
     "text": [
      "Epoch  12/ 50 -- train_loss: -31.326 -- validation_loss: 77.956\n",
      "Saving model..\n"
     ]
    },
    {
     "name": "stderr",
     "output_type": "stream",
     "text": [
      "100%|████████████████████████████| 200/200 [01:38<00:00,  2.03it/s, loss=-36.47]\n"
     ]
    },
    {
     "name": "stdout",
     "output_type": "stream",
     "text": [
      "Epoch  13/ 50 -- train_loss: -33.263 -- validation_loss: 77.375\n",
      "Saving model..\n"
     ]
    },
    {
     "name": "stderr",
     "output_type": "stream",
     "text": [
      "100%|████████████████████████████| 200/200 [01:43<00:00,  1.94it/s, loss=-35.87]\n"
     ]
    },
    {
     "name": "stdout",
     "output_type": "stream",
     "text": [
      "Epoch  14/ 50 -- train_loss: -33.582 -- validation_loss: 77.247\n",
      "Saving model..\n"
     ]
    },
    {
     "name": "stderr",
     "output_type": "stream",
     "text": [
      "100%|████████████████████████████| 200/200 [01:51<00:00,  1.79it/s, loss=-35.71]\n",
      "  0%|                                                   | 0/200 [00:00<?, ?it/s]"
     ]
    },
    {
     "name": "stdout",
     "output_type": "stream",
     "text": [
      "Epoch  15/ 50 -- train_loss: -34.275 -- validation_loss: 77.391\n"
     ]
    },
    {
     "name": "stderr",
     "output_type": "stream",
     "text": [
      "100%|████████████████████████████| 200/200 [01:41<00:00,  1.98it/s, loss=-35.81]\n",
      "  0%|                                                   | 0/200 [00:00<?, ?it/s]"
     ]
    },
    {
     "name": "stdout",
     "output_type": "stream",
     "text": [
      "Epoch  16/ 50 -- train_loss: -34.314 -- validation_loss: 77.684\n"
     ]
    },
    {
     "name": "stderr",
     "output_type": "stream",
     "text": [
      "100%|████████████████████████████| 200/200 [01:36<00:00,  2.07it/s, loss=-28.31]\n",
      "  0%|                                                   | 0/200 [00:00<?, ?it/s]"
     ]
    },
    {
     "name": "stdout",
     "output_type": "stream",
     "text": [
      "Epoch  17/ 50 -- train_loss: -34.294 -- validation_loss: 77.852\n"
     ]
    },
    {
     "name": "stderr",
     "output_type": "stream",
     "text": [
      "100%|████████████████████████████| 200/200 [01:36<00:00,  2.07it/s, loss=-31.50]\n",
      "  0%|                                                   | 0/200 [00:00<?, ?it/s]"
     ]
    },
    {
     "name": "stdout",
     "output_type": "stream",
     "text": [
      "Epoch  18/ 50 -- train_loss: -34.466 -- validation_loss: 77.848\n"
     ]
    },
    {
     "name": "stderr",
     "output_type": "stream",
     "text": [
      "100%|████████████████████████████| 200/200 [01:39<00:00,  2.01it/s, loss=-39.13]\n",
      "  0%|                                                   | 0/200 [00:00<?, ?it/s]"
     ]
    },
    {
     "name": "stdout",
     "output_type": "stream",
     "text": [
      "Epoch  19/ 50 -- train_loss: -35.700 -- validation_loss: 78.039\n"
     ]
    },
    {
     "name": "stderr",
     "output_type": "stream",
     "text": [
      "100%|████████████████████████████| 200/200 [01:41<00:00,  1.98it/s, loss=-38.64]\n",
      "  0%|                                                   | 0/200 [00:00<?, ?it/s]"
     ]
    },
    {
     "name": "stdout",
     "output_type": "stream",
     "text": [
      "Epoch  20/ 50 -- train_loss: -36.390 -- validation_loss: 78.354\n"
     ]
    },
    {
     "name": "stderr",
     "output_type": "stream",
     "text": [
      "100%|████████████████████████████| 200/200 [01:39<00:00,  2.02it/s, loss=-37.76]\n",
      "  0%|                                                   | 0/200 [00:00<?, ?it/s]"
     ]
    },
    {
     "name": "stdout",
     "output_type": "stream",
     "text": [
      "Epoch  21/ 50 -- train_loss: -36.455 -- validation_loss: 78.667\n"
     ]
    },
    {
     "name": "stderr",
     "output_type": "stream",
     "text": [
      "100%|████████████████████████████| 200/200 [01:37<00:00,  2.04it/s, loss=-34.82]\n",
      "  0%|                                                   | 0/200 [00:00<?, ?it/s]"
     ]
    },
    {
     "name": "stdout",
     "output_type": "stream",
     "text": [
      "Epoch  22/ 50 -- train_loss: -37.332 -- validation_loss: 78.814\n"
     ]
    },
    {
     "name": "stderr",
     "output_type": "stream",
     "text": [
      "100%|████████████████████████████| 200/200 [01:43<00:00,  1.94it/s, loss=-41.43]\n",
      "  0%|                                                   | 0/200 [00:00<?, ?it/s]"
     ]
    },
    {
     "name": "stdout",
     "output_type": "stream",
     "text": [
      "Epoch  23/ 50 -- train_loss: -38.949 -- validation_loss: 78.969\n"
     ]
    },
    {
     "name": "stderr",
     "output_type": "stream",
     "text": [
      "100%|████████████████████████████| 200/200 [01:40<00:00,  2.00it/s, loss=-32.50]\n",
      "  0%|                                                   | 0/200 [00:00<?, ?it/s]"
     ]
    },
    {
     "name": "stdout",
     "output_type": "stream",
     "text": [
      "Epoch  24/ 50 -- train_loss: -38.142 -- validation_loss: 79.154\n"
     ]
    },
    {
     "name": "stderr",
     "output_type": "stream",
     "text": [
      "100%|████████████████████████████| 200/200 [01:37<00:00,  2.06it/s, loss=-39.04]\n",
      "  0%|                                                   | 0/200 [00:00<?, ?it/s]"
     ]
    },
    {
     "name": "stdout",
     "output_type": "stream",
     "text": [
      "Epoch  25/ 50 -- train_loss: -38.703 -- validation_loss: 79.325\n"
     ]
    },
    {
     "name": "stderr",
     "output_type": "stream",
     "text": [
      "100%|████████████████████████████| 200/200 [01:35<00:00,  2.10it/s, loss=-40.13]\n",
      "  0%|                                                   | 0/200 [00:00<?, ?it/s]"
     ]
    },
    {
     "name": "stdout",
     "output_type": "stream",
     "text": [
      "Epoch  26/ 50 -- train_loss: -39.522 -- validation_loss: 79.580\n"
     ]
    },
    {
     "name": "stderr",
     "output_type": "stream",
     "text": [
      "100%|████████████████████████████| 200/200 [01:37<00:00,  2.04it/s, loss=-39.49]\n",
      "  0%|                                                   | 0/200 [00:00<?, ?it/s]"
     ]
    },
    {
     "name": "stdout",
     "output_type": "stream",
     "text": [
      "Epoch  27/ 50 -- train_loss: -40.267 -- validation_loss: 79.965\n"
     ]
    },
    {
     "name": "stderr",
     "output_type": "stream",
     "text": [
      "100%|████████████████████████████| 200/200 [01:12<00:00,  2.74it/s, loss=-44.63]\n",
      "  0%|                                                   | 0/200 [00:00<?, ?it/s]"
     ]
    },
    {
     "name": "stdout",
     "output_type": "stream",
     "text": [
      "Epoch  28/ 50 -- train_loss: -39.441 -- validation_loss: 79.948\n"
     ]
    },
    {
     "name": "stderr",
     "output_type": "stream",
     "text": [
      "100%|████████████████████████████| 200/200 [01:12<00:00,  2.74it/s, loss=-38.43]\n",
      "  0%|                                                   | 0/200 [00:00<?, ?it/s]"
     ]
    },
    {
     "name": "stdout",
     "output_type": "stream",
     "text": [
      "Epoch  29/ 50 -- train_loss: -41.159 -- validation_loss: 80.095\n"
     ]
    },
    {
     "name": "stderr",
     "output_type": "stream",
     "text": [
      "100%|████████████████████████████| 200/200 [01:12<00:00,  2.75it/s, loss=-39.79]\n",
      "  0%|                                                   | 0/200 [00:00<?, ?it/s]"
     ]
    },
    {
     "name": "stdout",
     "output_type": "stream",
     "text": [
      "Epoch  30/ 50 -- train_loss: -40.673 -- validation_loss: 80.323\n"
     ]
    },
    {
     "name": "stderr",
     "output_type": "stream",
     "text": [
      "100%|████████████████████████████| 200/200 [01:13<00:00,  2.74it/s, loss=-37.99]\n",
      "  0%|                                                   | 0/200 [00:00<?, ?it/s]"
     ]
    },
    {
     "name": "stdout",
     "output_type": "stream",
     "text": [
      "Epoch  31/ 50 -- train_loss: -40.364 -- validation_loss: 80.467\n"
     ]
    },
    {
     "name": "stderr",
     "output_type": "stream",
     "text": [
      "100%|████████████████████████████| 200/200 [01:13<00:00,  2.74it/s, loss=-37.48]\n",
      "  0%|                                                   | 0/200 [00:00<?, ?it/s]"
     ]
    },
    {
     "name": "stdout",
     "output_type": "stream",
     "text": [
      "Epoch  32/ 50 -- train_loss: -40.168 -- validation_loss: 80.660\n"
     ]
    },
    {
     "name": "stderr",
     "output_type": "stream",
     "text": [
      "100%|████████████████████████████| 200/200 [01:12<00:00,  2.74it/s, loss=-44.73]\n",
      "  0%|                                                   | 0/200 [00:00<?, ?it/s]"
     ]
    },
    {
     "name": "stdout",
     "output_type": "stream",
     "text": [
      "Epoch  33/ 50 -- train_loss: -40.839 -- validation_loss: 80.797\n"
     ]
    },
    {
     "name": "stderr",
     "output_type": "stream",
     "text": [
      "100%|████████████████████████████| 200/200 [01:12<00:00,  2.74it/s, loss=-41.79]\n",
      "  0%|                                                   | 0/200 [00:00<?, ?it/s]"
     ]
    },
    {
     "name": "stdout",
     "output_type": "stream",
     "text": [
      "Epoch  34/ 50 -- train_loss: -40.397 -- validation_loss: 80.863\n"
     ]
    },
    {
     "name": "stderr",
     "output_type": "stream",
     "text": [
      "100%|████████████████████████████| 200/200 [01:12<00:00,  2.74it/s, loss=-38.99]\n",
      "  0%|                                                   | 0/200 [00:00<?, ?it/s]"
     ]
    },
    {
     "name": "stdout",
     "output_type": "stream",
     "text": [
      "Epoch  35/ 50 -- train_loss: -42.374 -- validation_loss: 81.368\n",
      "Epoch 00035: reducing learning rate of group 0 to 5.0000e-03.\n"
     ]
    },
    {
     "name": "stderr",
     "output_type": "stream",
     "text": [
      "100%|████████████████████████████| 200/200 [01:12<00:00,  2.74it/s, loss=-45.74]\n",
      "  0%|                                                   | 0/200 [00:00<?, ?it/s]"
     ]
    },
    {
     "name": "stdout",
     "output_type": "stream",
     "text": [
      "Epoch  36/ 50 -- train_loss: -47.547 -- validation_loss: 82.290\n"
     ]
    },
    {
     "name": "stderr",
     "output_type": "stream",
     "text": [
      "100%|████████████████████████████| 200/200 [01:12<00:00,  2.75it/s, loss=-36.14]\n",
      "  0%|                                                   | 0/200 [00:00<?, ?it/s]"
     ]
    },
    {
     "name": "stdout",
     "output_type": "stream",
     "text": [
      "Epoch  37/ 50 -- train_loss: -47.937 -- validation_loss: 83.256\n"
     ]
    },
    {
     "name": "stderr",
     "output_type": "stream",
     "text": [
      "100%|████████████████████████████| 200/200 [01:12<00:00,  2.74it/s, loss=-55.47]\n",
      "  0%|                                                   | 0/200 [00:00<?, ?it/s]"
     ]
    },
    {
     "name": "stdout",
     "output_type": "stream",
     "text": [
      "Epoch  38/ 50 -- train_loss: -49.041 -- validation_loss: 83.975\n"
     ]
    },
    {
     "name": "stderr",
     "output_type": "stream",
     "text": [
      "100%|████████████████████████████| 200/200 [01:12<00:00,  2.75it/s, loss=-49.56]\n",
      "  0%|                                                   | 0/200 [00:00<?, ?it/s]"
     ]
    },
    {
     "name": "stdout",
     "output_type": "stream",
     "text": [
      "Epoch  39/ 50 -- train_loss: -46.515 -- validation_loss: 84.228\n"
     ]
    },
    {
     "name": "stderr",
     "output_type": "stream",
     "text": [
      "100%|████████████████████████████| 200/200 [01:13<00:00,  2.74it/s, loss=-51.32]\n",
      "  0%|                                                   | 0/200 [00:00<?, ?it/s]"
     ]
    },
    {
     "name": "stdout",
     "output_type": "stream",
     "text": [
      "Epoch  40/ 50 -- train_loss: -48.762 -- validation_loss: 84.474\n"
     ]
    },
    {
     "name": "stderr",
     "output_type": "stream",
     "text": [
      "100%|████████████████████████████| 200/200 [01:12<00:00,  2.74it/s, loss=-49.43]\n",
      "  0%|                                                   | 0/200 [00:00<?, ?it/s]"
     ]
    },
    {
     "name": "stdout",
     "output_type": "stream",
     "text": [
      "Epoch  41/ 50 -- train_loss: -48.512 -- validation_loss: 84.662\n"
     ]
    },
    {
     "name": "stderr",
     "output_type": "stream",
     "text": [
      "100%|████████████████████████████| 200/200 [01:13<00:00,  2.72it/s, loss=-46.02]\n",
      "  0%|                                                   | 0/200 [00:00<?, ?it/s]"
     ]
    },
    {
     "name": "stdout",
     "output_type": "stream",
     "text": [
      "Epoch  42/ 50 -- train_loss: -48.254 -- validation_loss: 84.782\n"
     ]
    },
    {
     "name": "stderr",
     "output_type": "stream",
     "text": [
      "100%|████████████████████████████| 200/200 [01:12<00:00,  2.74it/s, loss=-44.75]\n",
      "  0%|                                                   | 0/200 [00:00<?, ?it/s]"
     ]
    },
    {
     "name": "stdout",
     "output_type": "stream",
     "text": [
      "Epoch  43/ 50 -- train_loss: -48.248 -- validation_loss: 84.815\n"
     ]
    },
    {
     "name": "stderr",
     "output_type": "stream",
     "text": [
      "100%|████████████████████████████| 200/200 [01:13<00:00,  2.74it/s, loss=-44.97]\n",
      "  0%|                                                   | 0/200 [00:00<?, ?it/s]"
     ]
    },
    {
     "name": "stdout",
     "output_type": "stream",
     "text": [
      "Epoch  44/ 50 -- train_loss: -48.432 -- validation_loss: 84.932\n"
     ]
    },
    {
     "name": "stderr",
     "output_type": "stream",
     "text": [
      "100%|████████████████████████████| 200/200 [01:12<00:00,  2.75it/s, loss=-52.58]\n",
      "  0%|                                                   | 0/200 [00:00<?, ?it/s]"
     ]
    },
    {
     "name": "stdout",
     "output_type": "stream",
     "text": [
      "Epoch  45/ 50 -- train_loss: -49.435 -- validation_loss: 85.042\n"
     ]
    },
    {
     "name": "stderr",
     "output_type": "stream",
     "text": [
      "100%|████████████████████████████| 200/200 [01:12<00:00,  2.75it/s, loss=-50.54]\n",
      "  0%|                                                   | 0/200 [00:00<?, ?it/s]"
     ]
    },
    {
     "name": "stdout",
     "output_type": "stream",
     "text": [
      "Epoch  46/ 50 -- train_loss: -47.525 -- validation_loss: 85.021\n"
     ]
    },
    {
     "name": "stderr",
     "output_type": "stream",
     "text": [
      "100%|████████████████████████████| 200/200 [01:12<00:00,  2.74it/s, loss=-44.59]\n",
      "  0%|                                                   | 0/200 [00:00<?, ?it/s]"
     ]
    },
    {
     "name": "stdout",
     "output_type": "stream",
     "text": [
      "Epoch  47/ 50 -- train_loss: -49.432 -- validation_loss: 85.100\n"
     ]
    },
    {
     "name": "stderr",
     "output_type": "stream",
     "text": [
      "100%|████████████████████████████| 200/200 [01:12<00:00,  2.74it/s, loss=-49.57]\n",
      "  0%|                                                   | 0/200 [00:00<?, ?it/s]"
     ]
    },
    {
     "name": "stdout",
     "output_type": "stream",
     "text": [
      "Epoch  48/ 50 -- train_loss: -47.893 -- validation_loss: 85.101\n"
     ]
    },
    {
     "name": "stderr",
     "output_type": "stream",
     "text": [
      "100%|████████████████████████████| 200/200 [01:15<00:00,  2.65it/s, loss=-44.52]\n",
      "  0%|                                                   | 0/200 [00:00<?, ?it/s]"
     ]
    },
    {
     "name": "stdout",
     "output_type": "stream",
     "text": [
      "Epoch  49/ 50 -- train_loss: -48.140 -- validation_loss: 85.091\n"
     ]
    },
    {
     "name": "stderr",
     "output_type": "stream",
     "text": [
      "100%|████████████████████████████| 200/200 [01:15<00:00,  2.64it/s, loss=-45.20]\n"
     ]
    },
    {
     "name": "stdout",
     "output_type": "stream",
     "text": [
      "Epoch  50/ 50 -- train_loss: -47.425 -- validation_loss: 85.044\n",
      "###### Stop training after 50 epochs!\n",
      "Validation loss: 85.044\n",
      "Test loss:       85.366\n"
     ]
    },
    {
     "name": "stderr",
     "output_type": "stream",
     "text": [
      "\r",
      "  0%|                                                     | 0/4 [00:00<?, ?it/s]"
     ]
    },
    {
     "name": "stdout",
     "output_type": "stream",
     "text": [
      "Loading dataset..\n",
      "Creating directory experiment..\n",
      "Creating BNAF model..\n",
      "Creating optimizer..\n",
      "Creating scheduler..\n",
      "Training..\n"
     ]
    },
    {
     "name": "stderr",
     "output_type": "stream",
     "text": [
      "100%|████████████████████████████████| 4/4 [00:01<00:00,  2.70it/s, loss=176.97]\n",
      "  0%|                                                     | 0/4 [00:00<?, ?it/s]"
     ]
    },
    {
     "name": "stdout",
     "output_type": "stream",
     "text": [
      "Epoch   1/ 50 -- train_loss: 192.775 -- validation_loss: 982.600\n",
      "Saving model..\n"
     ]
    },
    {
     "name": "stderr",
     "output_type": "stream",
     "text": [
      "100%|████████████████████████████████| 4/4 [00:01<00:00,  2.73it/s, loss=125.50]\n",
      "  0%|                                                     | 0/4 [00:00<?, ?it/s]"
     ]
    },
    {
     "name": "stdout",
     "output_type": "stream",
     "text": [
      "Epoch   2/ 50 -- train_loss: 143.399 -- validation_loss: 968.652\n",
      "Saving model..\n"
     ]
    },
    {
     "name": "stderr",
     "output_type": "stream",
     "text": [
      "100%|█████████████████████████████████| 4/4 [00:01<00:00,  2.76it/s, loss=98.29]\n",
      "  0%|                                                     | 0/4 [00:00<?, ?it/s]"
     ]
    },
    {
     "name": "stdout",
     "output_type": "stream",
     "text": [
      "Epoch   3/ 50 -- train_loss: 105.617 -- validation_loss: 954.260\n",
      "Saving model..\n"
     ]
    },
    {
     "name": "stderr",
     "output_type": "stream",
     "text": [
      "100%|█████████████████████████████████| 4/4 [00:01<00:00,  2.75it/s, loss=67.60]\n",
      "  0%|                                                     | 0/4 [00:00<?, ?it/s]"
     ]
    },
    {
     "name": "stdout",
     "output_type": "stream",
     "text": [
      "Epoch   4/ 50 -- train_loss: 80.051 -- validation_loss: 939.534\n",
      "Saving model..\n"
     ]
    },
    {
     "name": "stderr",
     "output_type": "stream",
     "text": [
      "100%|█████████████████████████████████| 4/4 [00:01<00:00,  2.75it/s, loss=53.37]\n",
      "  0%|                                                     | 0/4 [00:00<?, ?it/s]"
     ]
    },
    {
     "name": "stdout",
     "output_type": "stream",
     "text": [
      "Epoch   5/ 50 -- train_loss: 60.644 -- validation_loss: 924.608\n",
      "Saving model..\n"
     ]
    },
    {
     "name": "stderr",
     "output_type": "stream",
     "text": [
      "100%|█████████████████████████████████| 4/4 [00:01<00:00,  2.75it/s, loss=42.28]\n",
      "  0%|                                                     | 0/4 [00:00<?, ?it/s]"
     ]
    },
    {
     "name": "stdout",
     "output_type": "stream",
     "text": [
      "Epoch   6/ 50 -- train_loss: 47.853 -- validation_loss: 909.414\n",
      "Saving model..\n"
     ]
    },
    {
     "name": "stderr",
     "output_type": "stream",
     "text": [
      "100%|█████████████████████████████████| 4/4 [00:01<00:00,  2.74it/s, loss=33.86]\n",
      "  0%|                                                     | 0/4 [00:00<?, ?it/s]"
     ]
    },
    {
     "name": "stdout",
     "output_type": "stream",
     "text": [
      "Epoch   7/ 50 -- train_loss: 38.039 -- validation_loss: 894.617\n",
      "Saving model..\n"
     ]
    },
    {
     "name": "stderr",
     "output_type": "stream",
     "text": [
      "100%|█████████████████████████████████| 4/4 [00:01<00:00,  2.74it/s, loss=27.10]\n",
      "  0%|                                                     | 0/4 [00:00<?, ?it/s]"
     ]
    },
    {
     "name": "stdout",
     "output_type": "stream",
     "text": [
      "Epoch   8/ 50 -- train_loss: 30.834 -- validation_loss: 879.742\n",
      "Saving model..\n"
     ]
    },
    {
     "name": "stderr",
     "output_type": "stream",
     "text": [
      "100%|█████████████████████████████████| 4/4 [00:01<00:00,  2.77it/s, loss=22.26]\n",
      "  0%|                                                     | 0/4 [00:00<?, ?it/s]"
     ]
    },
    {
     "name": "stdout",
     "output_type": "stream",
     "text": [
      "Epoch   9/ 50 -- train_loss: 26.135 -- validation_loss: 865.198\n",
      "Saving model..\n"
     ]
    },
    {
     "name": "stderr",
     "output_type": "stream",
     "text": [
      "100%|█████████████████████████████████| 4/4 [00:01<00:00,  2.78it/s, loss=20.84]\n",
      "  0%|                                                     | 0/4 [00:00<?, ?it/s]"
     ]
    },
    {
     "name": "stdout",
     "output_type": "stream",
     "text": [
      "Epoch  10/ 50 -- train_loss: 22.083 -- validation_loss: 850.993\n",
      "Saving model..\n"
     ]
    },
    {
     "name": "stderr",
     "output_type": "stream",
     "text": [
      "100%|█████████████████████████████████| 4/4 [00:01<00:00,  2.76it/s, loss=19.83]\n",
      "  0%|                                                     | 0/4 [00:00<?, ?it/s]"
     ]
    },
    {
     "name": "stdout",
     "output_type": "stream",
     "text": [
      "Epoch  11/ 50 -- train_loss: 18.656 -- validation_loss: 837.159\n",
      "Saving model..\n"
     ]
    },
    {
     "name": "stderr",
     "output_type": "stream",
     "text": [
      "100%|█████████████████████████████████| 4/4 [00:01<00:00,  2.79it/s, loss=16.44]\n",
      "  0%|                                                     | 0/4 [00:00<?, ?it/s]"
     ]
    },
    {
     "name": "stdout",
     "output_type": "stream",
     "text": [
      "Epoch  12/ 50 -- train_loss: 15.040 -- validation_loss: 823.638\n",
      "Saving model..\n"
     ]
    },
    {
     "name": "stderr",
     "output_type": "stream",
     "text": [
      "100%|█████████████████████████████████| 4/4 [00:01<00:00,  2.73it/s, loss=12.99]\n",
      "  0%|                                                     | 0/4 [00:00<?, ?it/s]"
     ]
    },
    {
     "name": "stdout",
     "output_type": "stream",
     "text": [
      "Epoch  13/ 50 -- train_loss: 12.529 -- validation_loss: 810.588\n",
      "Saving model..\n"
     ]
    },
    {
     "name": "stderr",
     "output_type": "stream",
     "text": [
      "100%|█████████████████████████████████| 4/4 [00:01<00:00,  2.72it/s, loss=11.52]\n",
      "  0%|                                                     | 0/4 [00:00<?, ?it/s]"
     ]
    },
    {
     "name": "stdout",
     "output_type": "stream",
     "text": [
      "Epoch  14/ 50 -- train_loss: 10.165 -- validation_loss: 797.900\n",
      "Saving model..\n"
     ]
    },
    {
     "name": "stderr",
     "output_type": "stream",
     "text": [
      "100%|██████████████████████████████████| 4/4 [00:01<00:00,  2.70it/s, loss=8.83]\n",
      "  0%|                                                     | 0/4 [00:00<?, ?it/s]"
     ]
    },
    {
     "name": "stdout",
     "output_type": "stream",
     "text": [
      "Epoch  15/ 50 -- train_loss: 9.350 -- validation_loss: 785.627\n",
      "Saving model..\n"
     ]
    },
    {
     "name": "stderr",
     "output_type": "stream",
     "text": [
      "100%|██████████████████████████████████| 4/4 [00:01<00:00,  2.75it/s, loss=7.67]\n",
      "  0%|                                                     | 0/4 [00:00<?, ?it/s]"
     ]
    },
    {
     "name": "stdout",
     "output_type": "stream",
     "text": [
      "Epoch  16/ 50 -- train_loss: 7.386 -- validation_loss: 773.737\n",
      "Saving model..\n"
     ]
    },
    {
     "name": "stderr",
     "output_type": "stream",
     "text": [
      "100%|██████████████████████████████████| 4/4 [00:01<00:00,  2.76it/s, loss=6.80]\n",
      "  0%|                                                     | 0/4 [00:00<?, ?it/s]"
     ]
    },
    {
     "name": "stdout",
     "output_type": "stream",
     "text": [
      "Epoch  17/ 50 -- train_loss: 5.916 -- validation_loss: 762.162\n",
      "Saving model..\n"
     ]
    },
    {
     "name": "stderr",
     "output_type": "stream",
     "text": [
      "100%|██████████████████████████████████| 4/4 [00:01<00:00,  2.77it/s, loss=2.87]\n",
      "  0%|                                                     | 0/4 [00:00<?, ?it/s]"
     ]
    },
    {
     "name": "stdout",
     "output_type": "stream",
     "text": [
      "Epoch  18/ 50 -- train_loss: 4.306 -- validation_loss: 750.914\n",
      "Saving model..\n"
     ]
    },
    {
     "name": "stderr",
     "output_type": "stream",
     "text": [
      "100%|██████████████████████████████████| 4/4 [00:01<00:00,  2.77it/s, loss=3.33]\n",
      "  0%|                                                     | 0/4 [00:00<?, ?it/s]"
     ]
    },
    {
     "name": "stdout",
     "output_type": "stream",
     "text": [
      "Epoch  19/ 50 -- train_loss: 3.198 -- validation_loss: 739.960\n",
      "Saving model..\n"
     ]
    },
    {
     "name": "stderr",
     "output_type": "stream",
     "text": [
      "100%|██████████████████████████████████| 4/4 [00:01<00:00,  2.75it/s, loss=5.92]\n",
      "  0%|                                                     | 0/4 [00:00<?, ?it/s]"
     ]
    },
    {
     "name": "stdout",
     "output_type": "stream",
     "text": [
      "Epoch  20/ 50 -- train_loss: 2.590 -- validation_loss: 729.311\n",
      "Saving model..\n"
     ]
    },
    {
     "name": "stderr",
     "output_type": "stream",
     "text": [
      "100%|██████████████████████████████████| 4/4 [00:01<00:00,  2.75it/s, loss=4.61]\n",
      "  0%|                                                     | 0/4 [00:00<?, ?it/s]"
     ]
    },
    {
     "name": "stdout",
     "output_type": "stream",
     "text": [
      "Epoch  21/ 50 -- train_loss: 1.328 -- validation_loss: 719.165\n",
      "Saving model..\n"
     ]
    },
    {
     "name": "stderr",
     "output_type": "stream",
     "text": [
      "100%|██████████████████████████████████| 4/4 [00:01<00:00,  2.73it/s, loss=1.70]\n",
      "  0%|                                                     | 0/4 [00:00<?, ?it/s]"
     ]
    },
    {
     "name": "stdout",
     "output_type": "stream",
     "text": [
      "Epoch  22/ 50 -- train_loss: 1.054 -- validation_loss: 709.309\n",
      "Saving model..\n"
     ]
    },
    {
     "name": "stderr",
     "output_type": "stream",
     "text": [
      "100%|██████████████████████████████████| 4/4 [00:01<00:00,  2.74it/s, loss=3.05]\n",
      "  0%|                                                     | 0/4 [00:00<?, ?it/s]"
     ]
    },
    {
     "name": "stdout",
     "output_type": "stream",
     "text": [
      "Epoch  23/ 50 -- train_loss: 0.400 -- validation_loss: 699.671\n",
      "Saving model..\n"
     ]
    },
    {
     "name": "stderr",
     "output_type": "stream",
     "text": [
      "100%|█████████████████████████████████| 4/4 [00:01<00:00,  2.75it/s, loss=-0.51]\n",
      "  0%|                                                     | 0/4 [00:00<?, ?it/s]"
     ]
    },
    {
     "name": "stdout",
     "output_type": "stream",
     "text": [
      "Epoch  24/ 50 -- train_loss: -0.336 -- validation_loss: 690.285\n",
      "Saving model..\n"
     ]
    },
    {
     "name": "stderr",
     "output_type": "stream",
     "text": [
      "100%|█████████████████████████████████| 4/4 [00:01<00:00,  2.79it/s, loss=-1.63]\n",
      "  0%|                                                     | 0/4 [00:00<?, ?it/s]"
     ]
    },
    {
     "name": "stdout",
     "output_type": "stream",
     "text": [
      "Epoch  25/ 50 -- train_loss: -1.425 -- validation_loss: 681.188\n",
      "Saving model..\n"
     ]
    },
    {
     "name": "stderr",
     "output_type": "stream",
     "text": [
      "100%|█████████████████████████████████| 4/4 [00:01<00:00,  2.78it/s, loss=-0.75]\n",
      "  0%|                                                     | 0/4 [00:00<?, ?it/s]"
     ]
    },
    {
     "name": "stdout",
     "output_type": "stream",
     "text": [
      "Epoch  26/ 50 -- train_loss: -1.715 -- validation_loss: 672.551\n",
      "Saving model..\n"
     ]
    },
    {
     "name": "stderr",
     "output_type": "stream",
     "text": [
      "100%|█████████████████████████████████| 4/4 [00:01<00:00,  2.41it/s, loss=-3.10]\n",
      "  0%|                                                     | 0/4 [00:00<?, ?it/s]"
     ]
    },
    {
     "name": "stdout",
     "output_type": "stream",
     "text": [
      "Epoch  27/ 50 -- train_loss: -2.174 -- validation_loss: 664.060\n",
      "Saving model..\n"
     ]
    },
    {
     "name": "stderr",
     "output_type": "stream",
     "text": [
      "100%|█████████████████████████████████| 4/4 [00:01<00:00,  2.47it/s, loss=-0.06]\n",
      "  0%|                                                     | 0/4 [00:00<?, ?it/s]"
     ]
    },
    {
     "name": "stdout",
     "output_type": "stream",
     "text": [
      "Epoch  28/ 50 -- train_loss: -3.142 -- validation_loss: 655.749\n",
      "Saving model..\n"
     ]
    },
    {
     "name": "stderr",
     "output_type": "stream",
     "text": [
      "100%|█████████████████████████████████| 4/4 [00:01<00:00,  2.52it/s, loss=-2.77]\n",
      "  0%|                                                     | 0/4 [00:00<?, ?it/s]"
     ]
    },
    {
     "name": "stdout",
     "output_type": "stream",
     "text": [
      "Epoch  29/ 50 -- train_loss: -2.894 -- validation_loss: 647.660\n",
      "Saving model..\n"
     ]
    },
    {
     "name": "stderr",
     "output_type": "stream",
     "text": [
      "100%|█████████████████████████████████| 4/4 [00:01<00:00,  2.74it/s, loss=-5.46]\n",
      "  0%|                                                     | 0/4 [00:00<?, ?it/s]"
     ]
    },
    {
     "name": "stdout",
     "output_type": "stream",
     "text": [
      "Epoch  30/ 50 -- train_loss: -3.863 -- validation_loss: 640.004\n",
      "Saving model..\n"
     ]
    },
    {
     "name": "stderr",
     "output_type": "stream",
     "text": [
      "100%|█████████████████████████████████| 4/4 [00:01<00:00,  2.75it/s, loss=-3.34]\n",
      "  0%|                                                     | 0/4 [00:00<?, ?it/s]"
     ]
    },
    {
     "name": "stdout",
     "output_type": "stream",
     "text": [
      "Epoch  31/ 50 -- train_loss: -4.053 -- validation_loss: 632.434\n",
      "Saving model..\n"
     ]
    },
    {
     "name": "stderr",
     "output_type": "stream",
     "text": [
      "100%|█████████████████████████████████| 4/4 [00:01<00:00,  2.77it/s, loss=-5.12]\n",
      "  0%|                                                     | 0/4 [00:00<?, ?it/s]"
     ]
    },
    {
     "name": "stdout",
     "output_type": "stream",
     "text": [
      "Epoch  32/ 50 -- train_loss: -4.821 -- validation_loss: 625.058\n",
      "Saving model..\n"
     ]
    },
    {
     "name": "stderr",
     "output_type": "stream",
     "text": [
      "100%|█████████████████████████████████| 4/4 [00:01<00:00,  2.76it/s, loss=-6.12]\n",
      "  0%|                                                     | 0/4 [00:00<?, ?it/s]"
     ]
    },
    {
     "name": "stdout",
     "output_type": "stream",
     "text": [
      "Epoch  33/ 50 -- train_loss: -5.135 -- validation_loss: 617.804\n",
      "Saving model..\n"
     ]
    },
    {
     "name": "stderr",
     "output_type": "stream",
     "text": [
      "100%|█████████████████████████████████| 4/4 [00:01<00:00,  2.78it/s, loss=-3.98]\n",
      "  0%|                                                     | 0/4 [00:00<?, ?it/s]"
     ]
    },
    {
     "name": "stdout",
     "output_type": "stream",
     "text": [
      "Epoch  34/ 50 -- train_loss: -4.920 -- validation_loss: 610.849\n",
      "Saving model..\n"
     ]
    },
    {
     "name": "stderr",
     "output_type": "stream",
     "text": [
      "100%|█████████████████████████████████| 4/4 [00:01<00:00,  2.72it/s, loss=-2.64]\n",
      "  0%|                                                     | 0/4 [00:00<?, ?it/s]"
     ]
    },
    {
     "name": "stdout",
     "output_type": "stream",
     "text": [
      "Epoch  35/ 50 -- train_loss: -5.006 -- validation_loss: 603.920\n",
      "Saving model..\n"
     ]
    },
    {
     "name": "stderr",
     "output_type": "stream",
     "text": [
      "100%|█████████████████████████████████| 4/4 [00:01<00:00,  2.73it/s, loss=-8.95]\n",
      "  0%|                                                     | 0/4 [00:00<?, ?it/s]"
     ]
    },
    {
     "name": "stdout",
     "output_type": "stream",
     "text": [
      "Epoch  36/ 50 -- train_loss: -4.598 -- validation_loss: 597.299\n",
      "Saving model..\n"
     ]
    },
    {
     "name": "stderr",
     "output_type": "stream",
     "text": [
      "100%|█████████████████████████████████| 4/4 [00:01<00:00,  2.72it/s, loss=-6.11]\n",
      "  0%|                                                     | 0/4 [00:00<?, ?it/s]"
     ]
    },
    {
     "name": "stdout",
     "output_type": "stream",
     "text": [
      "Epoch  37/ 50 -- train_loss: -5.158 -- validation_loss: 590.884\n",
      "Saving model..\n"
     ]
    },
    {
     "name": "stderr",
     "output_type": "stream",
     "text": [
      "100%|█████████████████████████████████| 4/4 [00:01<00:00,  2.75it/s, loss=-4.96]\n",
      "  0%|                                                     | 0/4 [00:00<?, ?it/s]"
     ]
    },
    {
     "name": "stdout",
     "output_type": "stream",
     "text": [
      "Epoch  38/ 50 -- train_loss: -5.879 -- validation_loss: 584.643\n",
      "Saving model..\n"
     ]
    },
    {
     "name": "stderr",
     "output_type": "stream",
     "text": [
      "100%|█████████████████████████████████| 4/4 [00:01<00:00,  2.78it/s, loss=-4.16]\n",
      "  0%|                                                     | 0/4 [00:00<?, ?it/s]"
     ]
    },
    {
     "name": "stdout",
     "output_type": "stream",
     "text": [
      "Epoch  39/ 50 -- train_loss: -5.681 -- validation_loss: 578.405\n",
      "Saving model..\n"
     ]
    },
    {
     "name": "stderr",
     "output_type": "stream",
     "text": [
      "100%|█████████████████████████████████| 4/4 [00:01<00:00,  2.79it/s, loss=-9.45]\n",
      "  0%|                                                     | 0/4 [00:00<?, ?it/s]"
     ]
    },
    {
     "name": "stdout",
     "output_type": "stream",
     "text": [
      "Epoch  40/ 50 -- train_loss: -7.209 -- validation_loss: 572.545\n",
      "Saving model..\n"
     ]
    },
    {
     "name": "stderr",
     "output_type": "stream",
     "text": [
      "100%|█████████████████████████████████| 4/4 [00:01<00:00,  2.77it/s, loss=-7.37]\n",
      "  0%|                                                     | 0/4 [00:00<?, ?it/s]"
     ]
    },
    {
     "name": "stdout",
     "output_type": "stream",
     "text": [
      "Epoch  41/ 50 -- train_loss: -6.621 -- validation_loss: 566.491\n",
      "Saving model..\n"
     ]
    },
    {
     "name": "stderr",
     "output_type": "stream",
     "text": [
      "100%|█████████████████████████████████| 4/4 [00:01<00:00,  2.76it/s, loss=-7.77]\n",
      "  0%|                                                     | 0/4 [00:00<?, ?it/s]"
     ]
    },
    {
     "name": "stdout",
     "output_type": "stream",
     "text": [
      "Epoch  42/ 50 -- train_loss: -7.067 -- validation_loss: 560.946\n",
      "Saving model..\n"
     ]
    },
    {
     "name": "stderr",
     "output_type": "stream",
     "text": [
      "100%|█████████████████████████████████| 4/4 [00:01<00:00,  2.69it/s, loss=-6.91]\n",
      "  0%|                                                     | 0/4 [00:00<?, ?it/s]"
     ]
    },
    {
     "name": "stdout",
     "output_type": "stream",
     "text": [
      "Epoch  43/ 50 -- train_loss: -7.687 -- validation_loss: 555.637\n",
      "Saving model..\n"
     ]
    },
    {
     "name": "stderr",
     "output_type": "stream",
     "text": [
      "100%|█████████████████████████████████| 4/4 [00:01<00:00,  2.75it/s, loss=-6.04]\n",
      "  0%|                                                     | 0/4 [00:00<?, ?it/s]"
     ]
    },
    {
     "name": "stdout",
     "output_type": "stream",
     "text": [
      "Epoch  44/ 50 -- train_loss: -7.738 -- validation_loss: 550.146\n",
      "Saving model..\n"
     ]
    },
    {
     "name": "stderr",
     "output_type": "stream",
     "text": [
      "100%|█████████████████████████████████| 4/4 [00:01<00:00,  2.50it/s, loss=-8.18]\n",
      "  0%|                                                     | 0/4 [00:00<?, ?it/s]"
     ]
    },
    {
     "name": "stdout",
     "output_type": "stream",
     "text": [
      "Epoch  45/ 50 -- train_loss: -7.959 -- validation_loss: 545.073\n",
      "Saving model..\n"
     ]
    },
    {
     "name": "stderr",
     "output_type": "stream",
     "text": [
      "100%|█████████████████████████████████| 4/4 [00:01<00:00,  2.75it/s, loss=-7.53]\n",
      "  0%|                                                     | 0/4 [00:00<?, ?it/s]"
     ]
    },
    {
     "name": "stdout",
     "output_type": "stream",
     "text": [
      "Epoch  46/ 50 -- train_loss: -8.489 -- validation_loss: 540.027\n",
      "Saving model..\n"
     ]
    },
    {
     "name": "stderr",
     "output_type": "stream",
     "text": [
      "100%|█████████████████████████████████| 4/4 [00:01<00:00,  2.77it/s, loss=-8.89]\n",
      "  0%|                                                     | 0/4 [00:00<?, ?it/s]"
     ]
    },
    {
     "name": "stdout",
     "output_type": "stream",
     "text": [
      "Epoch  47/ 50 -- train_loss: -9.281 -- validation_loss: 535.002\n",
      "Saving model..\n"
     ]
    },
    {
     "name": "stderr",
     "output_type": "stream",
     "text": [
      "100%|█████████████████████████████████| 4/4 [00:01<00:00,  2.75it/s, loss=-9.16]\n",
      "  0%|                                                     | 0/4 [00:00<?, ?it/s]"
     ]
    },
    {
     "name": "stdout",
     "output_type": "stream",
     "text": [
      "Epoch  48/ 50 -- train_loss: -9.051 -- validation_loss: 530.077\n",
      "Saving model..\n"
     ]
    },
    {
     "name": "stderr",
     "output_type": "stream",
     "text": [
      "100%|████████████████████████████████| 4/4 [00:01<00:00,  2.76it/s, loss=-11.38]\n",
      "  0%|                                                     | 0/4 [00:00<?, ?it/s]"
     ]
    },
    {
     "name": "stdout",
     "output_type": "stream",
     "text": [
      "Epoch  49/ 50 -- train_loss: -9.285 -- validation_loss: 525.193\n",
      "Saving model..\n"
     ]
    },
    {
     "name": "stderr",
     "output_type": "stream",
     "text": [
      "100%|█████████████████████████████████| 4/4 [00:01<00:00,  2.76it/s, loss=-7.91]\n"
     ]
    },
    {
     "name": "stdout",
     "output_type": "stream",
     "text": [
      "Epoch  50/ 50 -- train_loss: -9.411 -- validation_loss: 520.522\n",
      "Saving model..\n"
     ]
    },
    {
     "name": "stderr",
     "output_type": "stream",
     "text": [
      "\r",
      "  0%|                                                   | 0/200 [00:00<?, ?it/s]"
     ]
    },
    {
     "name": "stdout",
     "output_type": "stream",
     "text": [
      "###### Stop training after 50 epochs!\n",
      "Validation loss: 520.522\n",
      "Test loss:       520.943\n",
      "Loading dataset..\n",
      "No validation set passed\n",
      "No test set passed\n",
      "Creating directory experiment..\n",
      "Creating BNAF model..\n",
      "Creating optimizer..\n",
      "Creating scheduler..\n",
      "Training..\n"
     ]
    },
    {
     "name": "stderr",
     "output_type": "stream",
     "text": [
      "100%|█████████████████████████████| 200/200 [01:12<00:00,  2.76it/s, loss=-4.46]\n",
      "  0%|                                                   | 0/200 [00:00<?, ?it/s]"
     ]
    },
    {
     "name": "stdout",
     "output_type": "stream",
     "text": [
      "Epoch   1/ 50 -- train_loss: 21.929 -- validation_loss: 533.681\n",
      "Saving model..\n"
     ]
    },
    {
     "name": "stderr",
     "output_type": "stream",
     "text": [
      "100%|████████████████████████████| 200/200 [01:12<00:00,  2.75it/s, loss=-14.29]\n",
      "  0%|                                                   | 0/200 [00:00<?, ?it/s]"
     ]
    },
    {
     "name": "stdout",
     "output_type": "stream",
     "text": [
      "Epoch   2/ 50 -- train_loss: -9.516 -- validation_loss: 374.743\n",
      "Saving model..\n"
     ]
    },
    {
     "name": "stderr",
     "output_type": "stream",
     "text": [
      "100%|████████████████████████████| 200/200 [01:12<00:00,  2.75it/s, loss=-20.09]\n",
      "  0%|                                                   | 0/200 [00:00<?, ?it/s]"
     ]
    },
    {
     "name": "stdout",
     "output_type": "stream",
     "text": [
      "Epoch   3/ 50 -- train_loss: -15.401 -- validation_loss: 270.545\n",
      "Saving model..\n"
     ]
    },
    {
     "name": "stderr",
     "output_type": "stream",
     "text": [
      "100%|████████████████████████████| 200/200 [01:12<00:00,  2.75it/s, loss=-19.85]\n",
      "  0%|                                                   | 0/200 [00:00<?, ?it/s]"
     ]
    },
    {
     "name": "stdout",
     "output_type": "stream",
     "text": [
      "Epoch   4/ 50 -- train_loss: -19.120 -- validation_loss: 198.302\n",
      "Saving model..\n"
     ]
    },
    {
     "name": "stderr",
     "output_type": "stream",
     "text": [
      "100%|████████████████████████████| 200/200 [01:12<00:00,  2.76it/s, loss=-26.64]\n",
      "  0%|                                                   | 0/200 [00:00<?, ?it/s]"
     ]
    },
    {
     "name": "stdout",
     "output_type": "stream",
     "text": [
      "Epoch   5/ 50 -- train_loss: -22.033 -- validation_loss: 151.999\n",
      "Saving model..\n"
     ]
    },
    {
     "name": "stderr",
     "output_type": "stream",
     "text": [
      "100%|████████████████████████████| 200/200 [01:12<00:00,  2.76it/s, loss=-31.35]\n",
      "  0%|                                                   | 0/200 [00:00<?, ?it/s]"
     ]
    },
    {
     "name": "stdout",
     "output_type": "stream",
     "text": [
      "Epoch   6/ 50 -- train_loss: -24.467 -- validation_loss: 123.285\n",
      "Saving model..\n"
     ]
    },
    {
     "name": "stderr",
     "output_type": "stream",
     "text": [
      "100%|████████████████████████████| 200/200 [01:12<00:00,  2.75it/s, loss=-24.98]\n",
      "  0%|                                                   | 0/200 [00:00<?, ?it/s]"
     ]
    },
    {
     "name": "stdout",
     "output_type": "stream",
     "text": [
      "Epoch   7/ 50 -- train_loss: -26.505 -- validation_loss: 105.385\n",
      "Saving model..\n"
     ]
    },
    {
     "name": "stderr",
     "output_type": "stream",
     "text": [
      "100%|████████████████████████████| 200/200 [01:12<00:00,  2.75it/s, loss=-29.19]\n",
      "  0%|                                                   | 0/200 [00:00<?, ?it/s]"
     ]
    },
    {
     "name": "stdout",
     "output_type": "stream",
     "text": [
      "Epoch   8/ 50 -- train_loss: -29.133 -- validation_loss: 94.786\n",
      "Saving model..\n"
     ]
    },
    {
     "name": "stderr",
     "output_type": "stream",
     "text": [
      "100%|████████████████████████████| 200/200 [01:12<00:00,  2.75it/s, loss=-29.90]\n",
      "  0%|                                                   | 0/200 [00:00<?, ?it/s]"
     ]
    },
    {
     "name": "stdout",
     "output_type": "stream",
     "text": [
      "Epoch   9/ 50 -- train_loss: -29.356 -- validation_loss: 88.271\n",
      "Saving model..\n"
     ]
    },
    {
     "name": "stderr",
     "output_type": "stream",
     "text": [
      "100%|████████████████████████████| 200/200 [01:12<00:00,  2.75it/s, loss=-30.13]\n",
      "  0%|                                                   | 0/200 [00:00<?, ?it/s]"
     ]
    },
    {
     "name": "stdout",
     "output_type": "stream",
     "text": [
      "Epoch  10/ 50 -- train_loss: -29.639 -- validation_loss: 84.529\n",
      "Saving model..\n"
     ]
    },
    {
     "name": "stderr",
     "output_type": "stream",
     "text": [
      "100%|████████████████████████████| 200/200 [01:12<00:00,  2.75it/s, loss=-32.74]\n",
      "  0%|                                                   | 0/200 [00:00<?, ?it/s]"
     ]
    },
    {
     "name": "stdout",
     "output_type": "stream",
     "text": [
      "Epoch  11/ 50 -- train_loss: -29.974 -- validation_loss: 81.978\n",
      "Saving model..\n"
     ]
    },
    {
     "name": "stderr",
     "output_type": "stream",
     "text": [
      "100%|████████████████████████████| 200/200 [01:12<00:00,  2.76it/s, loss=-35.10]\n",
      "  0%|                                                   | 0/200 [00:00<?, ?it/s]"
     ]
    },
    {
     "name": "stdout",
     "output_type": "stream",
     "text": [
      "Epoch  12/ 50 -- train_loss: -30.927 -- validation_loss: 80.609\n",
      "Saving model..\n"
     ]
    },
    {
     "name": "stderr",
     "output_type": "stream",
     "text": [
      "100%|████████████████████████████| 200/200 [01:12<00:00,  2.74it/s, loss=-34.12]\n",
      "  0%|                                                   | 0/200 [00:00<?, ?it/s]"
     ]
    },
    {
     "name": "stdout",
     "output_type": "stream",
     "text": [
      "Epoch  13/ 50 -- train_loss: -32.314 -- validation_loss: 79.990\n",
      "Saving model..\n"
     ]
    },
    {
     "name": "stderr",
     "output_type": "stream",
     "text": [
      "100%|████████████████████████████| 200/200 [01:12<00:00,  2.75it/s, loss=-38.28]\n",
      "  0%|                                                   | 0/200 [00:00<?, ?it/s]"
     ]
    },
    {
     "name": "stdout",
     "output_type": "stream",
     "text": [
      "Epoch  14/ 50 -- train_loss: -32.546 -- validation_loss: 79.467\n",
      "Saving model..\n"
     ]
    },
    {
     "name": "stderr",
     "output_type": "stream",
     "text": [
      "100%|████████████████████████████| 200/200 [01:12<00:00,  2.75it/s, loss=-33.75]\n"
     ]
    },
    {
     "name": "stdout",
     "output_type": "stream",
     "text": [
      "Epoch  15/ 50 -- train_loss: -34.134 -- validation_loss: 79.344\n",
      "Saving model..\n"
     ]
    },
    {
     "name": "stderr",
     "output_type": "stream",
     "text": [
      "100%|████████████████████████████| 200/200 [01:12<00:00,  2.74it/s, loss=-36.98]\n",
      "  0%|                                                   | 0/200 [00:00<?, ?it/s]"
     ]
    },
    {
     "name": "stdout",
     "output_type": "stream",
     "text": [
      "Epoch  16/ 50 -- train_loss: -34.629 -- validation_loss: 79.406\n"
     ]
    },
    {
     "name": "stderr",
     "output_type": "stream",
     "text": [
      "100%|████████████████████████████| 200/200 [01:12<00:00,  2.75it/s, loss=-38.53]\n",
      "  0%|                                                   | 0/200 [00:00<?, ?it/s]"
     ]
    },
    {
     "name": "stdout",
     "output_type": "stream",
     "text": [
      "Epoch  17/ 50 -- train_loss: -34.785 -- validation_loss: 79.419\n"
     ]
    },
    {
     "name": "stderr",
     "output_type": "stream",
     "text": [
      "100%|████████████████████████████| 200/200 [01:12<00:00,  2.75it/s, loss=-34.85]\n",
      "  0%|                                                   | 0/200 [00:00<?, ?it/s]"
     ]
    },
    {
     "name": "stdout",
     "output_type": "stream",
     "text": [
      "Epoch  18/ 50 -- train_loss: -34.714 -- validation_loss: 79.473\n"
     ]
    },
    {
     "name": "stderr",
     "output_type": "stream",
     "text": [
      "100%|████████████████████████████| 200/200 [01:13<00:00,  2.72it/s, loss=-35.03]\n",
      "  0%|                                                   | 0/200 [00:00<?, ?it/s]"
     ]
    },
    {
     "name": "stdout",
     "output_type": "stream",
     "text": [
      "Epoch  19/ 50 -- train_loss: -33.648 -- validation_loss: 79.462\n"
     ]
    },
    {
     "name": "stderr",
     "output_type": "stream",
     "text": [
      "100%|████████████████████████████| 200/200 [01:12<00:00,  2.75it/s, loss=-35.59]\n",
      "  0%|                                                   | 0/200 [00:00<?, ?it/s]"
     ]
    },
    {
     "name": "stdout",
     "output_type": "stream",
     "text": [
      "Epoch  20/ 50 -- train_loss: -35.702 -- validation_loss: 79.464\n"
     ]
    },
    {
     "name": "stderr",
     "output_type": "stream",
     "text": [
      "100%|████████████████████████████| 200/200 [01:12<00:00,  2.74it/s, loss=-41.70]\n",
      "  0%|                                                   | 0/200 [00:00<?, ?it/s]"
     ]
    },
    {
     "name": "stdout",
     "output_type": "stream",
     "text": [
      "Epoch  21/ 50 -- train_loss: -36.526 -- validation_loss: 79.519\n"
     ]
    },
    {
     "name": "stderr",
     "output_type": "stream",
     "text": [
      "100%|████████████████████████████| 200/200 [01:12<00:00,  2.75it/s, loss=-38.93]\n",
      "  0%|                                                   | 0/200 [00:00<?, ?it/s]"
     ]
    },
    {
     "name": "stdout",
     "output_type": "stream",
     "text": [
      "Epoch  22/ 50 -- train_loss: -34.776 -- validation_loss: 79.843\n"
     ]
    },
    {
     "name": "stderr",
     "output_type": "stream",
     "text": [
      "100%|████████████████████████████| 200/200 [01:12<00:00,  2.75it/s, loss=-30.53]\n",
      "  0%|                                                   | 0/200 [00:00<?, ?it/s]"
     ]
    },
    {
     "name": "stdout",
     "output_type": "stream",
     "text": [
      "Epoch  23/ 50 -- train_loss: -34.839 -- validation_loss: 80.064\n"
     ]
    },
    {
     "name": "stderr",
     "output_type": "stream",
     "text": [
      "100%|████████████████████████████| 200/200 [01:12<00:00,  2.76it/s, loss=-34.82]\n",
      "  0%|                                                   | 0/200 [00:00<?, ?it/s]"
     ]
    },
    {
     "name": "stdout",
     "output_type": "stream",
     "text": [
      "Epoch  24/ 50 -- train_loss: -33.510 -- validation_loss: 79.749\n"
     ]
    },
    {
     "name": "stderr",
     "output_type": "stream",
     "text": [
      "100%|████████████████████████████| 200/200 [01:12<00:00,  2.74it/s, loss=-34.70]\n",
      "  0%|                                                   | 0/200 [00:00<?, ?it/s]"
     ]
    },
    {
     "name": "stdout",
     "output_type": "stream",
     "text": [
      "Epoch  25/ 50 -- train_loss: -36.133 -- validation_loss: 79.988\n"
     ]
    },
    {
     "name": "stderr",
     "output_type": "stream",
     "text": [
      "100%|████████████████████████████| 200/200 [01:13<00:00,  2.74it/s, loss=-41.85]\n",
      "  0%|                                                   | 0/200 [00:00<?, ?it/s]"
     ]
    },
    {
     "name": "stdout",
     "output_type": "stream",
     "text": [
      "Epoch  26/ 50 -- train_loss: -33.684 -- validation_loss: 79.586\n"
     ]
    },
    {
     "name": "stderr",
     "output_type": "stream",
     "text": [
      "100%|████████████████████████████| 200/200 [01:12<00:00,  2.75it/s, loss=-32.88]\n",
      "  0%|                                                   | 0/200 [00:00<?, ?it/s]"
     ]
    },
    {
     "name": "stdout",
     "output_type": "stream",
     "text": [
      "Epoch  27/ 50 -- train_loss: -35.697 -- validation_loss: 79.639\n"
     ]
    },
    {
     "name": "stderr",
     "output_type": "stream",
     "text": [
      "100%|████████████████████████████| 200/200 [01:12<00:00,  2.75it/s, loss=-37.38]\n",
      "  0%|                                                   | 0/200 [00:00<?, ?it/s]"
     ]
    },
    {
     "name": "stdout",
     "output_type": "stream",
     "text": [
      "Epoch  28/ 50 -- train_loss: -37.737 -- validation_loss: 80.000\n"
     ]
    },
    {
     "name": "stderr",
     "output_type": "stream",
     "text": [
      "100%|████████████████████████████| 200/200 [01:12<00:00,  2.74it/s, loss=-34.42]\n",
      "  0%|                                                   | 0/200 [00:00<?, ?it/s]"
     ]
    },
    {
     "name": "stdout",
     "output_type": "stream",
     "text": [
      "Epoch  29/ 50 -- train_loss: -37.929 -- validation_loss: 80.064\n"
     ]
    },
    {
     "name": "stderr",
     "output_type": "stream",
     "text": [
      "100%|████████████████████████████| 200/200 [01:13<00:00,  2.74it/s, loss=-37.63]\n",
      "  0%|                                                   | 0/200 [00:00<?, ?it/s]"
     ]
    },
    {
     "name": "stdout",
     "output_type": "stream",
     "text": [
      "Epoch  30/ 50 -- train_loss: -36.797 -- validation_loss: 80.139\n"
     ]
    },
    {
     "name": "stderr",
     "output_type": "stream",
     "text": [
      "100%|████████████████████████████| 200/200 [01:12<00:00,  2.75it/s, loss=-37.12]\n",
      "  0%|                                                   | 0/200 [00:00<?, ?it/s]"
     ]
    },
    {
     "name": "stdout",
     "output_type": "stream",
     "text": [
      "Epoch  31/ 50 -- train_loss: -37.861 -- validation_loss: 80.397\n"
     ]
    },
    {
     "name": "stderr",
     "output_type": "stream",
     "text": [
      "100%|████████████████████████████| 200/200 [01:12<00:00,  2.75it/s, loss=-39.05]\n",
      "  0%|                                                   | 0/200 [00:00<?, ?it/s]"
     ]
    },
    {
     "name": "stdout",
     "output_type": "stream",
     "text": [
      "Epoch  32/ 50 -- train_loss: -38.810 -- validation_loss: 80.567\n"
     ]
    },
    {
     "name": "stderr",
     "output_type": "stream",
     "text": [
      "100%|████████████████████████████| 200/200 [01:12<00:00,  2.75it/s, loss=-42.68]\n",
      "  0%|                                                   | 0/200 [00:00<?, ?it/s]"
     ]
    },
    {
     "name": "stdout",
     "output_type": "stream",
     "text": [
      "Epoch  33/ 50 -- train_loss: -37.851 -- validation_loss: 80.571\n"
     ]
    },
    {
     "name": "stderr",
     "output_type": "stream",
     "text": [
      "100%|████████████████████████████| 200/200 [01:12<00:00,  2.75it/s, loss=-36.36]\n",
      "  0%|                                                   | 0/200 [00:00<?, ?it/s]"
     ]
    },
    {
     "name": "stdout",
     "output_type": "stream",
     "text": [
      "Epoch  34/ 50 -- train_loss: -38.892 -- validation_loss: 80.800\n"
     ]
    },
    {
     "name": "stderr",
     "output_type": "stream",
     "text": [
      "100%|████████████████████████████| 200/200 [01:12<00:00,  2.75it/s, loss=-40.90]\n",
      "  0%|                                                   | 0/200 [00:00<?, ?it/s]"
     ]
    },
    {
     "name": "stdout",
     "output_type": "stream",
     "text": [
      "Epoch  35/ 50 -- train_loss: -38.850 -- validation_loss: 81.097\n"
     ]
    },
    {
     "name": "stderr",
     "output_type": "stream",
     "text": [
      "100%|████████████████████████████| 200/200 [01:12<00:00,  2.74it/s, loss=-37.15]\n",
      "  0%|                                                   | 0/200 [00:00<?, ?it/s]"
     ]
    },
    {
     "name": "stdout",
     "output_type": "stream",
     "text": [
      "Epoch  36/ 50 -- train_loss: -40.956 -- validation_loss: 81.670\n",
      "Epoch 00036: reducing learning rate of group 0 to 5.0000e-03.\n"
     ]
    },
    {
     "name": "stderr",
     "output_type": "stream",
     "text": [
      "100%|████████████████████████████| 200/200 [01:13<00:00,  2.74it/s, loss=-50.12]\n",
      "  0%|                                                   | 0/200 [00:00<?, ?it/s]"
     ]
    },
    {
     "name": "stdout",
     "output_type": "stream",
     "text": [
      "Epoch  37/ 50 -- train_loss: -46.107 -- validation_loss: 82.664\n"
     ]
    },
    {
     "name": "stderr",
     "output_type": "stream",
     "text": [
      "100%|████████████████████████████| 200/200 [01:12<00:00,  2.75it/s, loss=-51.11]\n",
      "  0%|                                                   | 0/200 [00:00<?, ?it/s]"
     ]
    },
    {
     "name": "stdout",
     "output_type": "stream",
     "text": [
      "Epoch  38/ 50 -- train_loss: -48.415 -- validation_loss: 83.874\n"
     ]
    },
    {
     "name": "stderr",
     "output_type": "stream",
     "text": [
      "100%|████████████████████████████| 200/200 [01:12<00:00,  2.75it/s, loss=-49.46]\n",
      "  0%|                                                   | 0/200 [00:00<?, ?it/s]"
     ]
    },
    {
     "name": "stdout",
     "output_type": "stream",
     "text": [
      "Epoch  39/ 50 -- train_loss: -47.638 -- validation_loss: 84.770\n"
     ]
    },
    {
     "name": "stderr",
     "output_type": "stream",
     "text": [
      "100%|████████████████████████████| 200/200 [01:12<00:00,  2.74it/s, loss=-43.98]\n",
      "  0%|                                                   | 0/200 [00:00<?, ?it/s]"
     ]
    },
    {
     "name": "stdout",
     "output_type": "stream",
     "text": [
      "Epoch  40/ 50 -- train_loss: -48.306 -- validation_loss: 85.372\n"
     ]
    },
    {
     "name": "stderr",
     "output_type": "stream",
     "text": [
      "100%|████████████████████████████| 200/200 [01:12<00:00,  2.75it/s, loss=-43.35]\n",
      "  0%|                                                   | 0/200 [00:00<?, ?it/s]"
     ]
    },
    {
     "name": "stdout",
     "output_type": "stream",
     "text": [
      "Epoch  41/ 50 -- train_loss: -47.665 -- validation_loss: 85.786\n"
     ]
    },
    {
     "name": "stderr",
     "output_type": "stream",
     "text": [
      "100%|████████████████████████████| 200/200 [01:12<00:00,  2.75it/s, loss=-48.73]\n",
      "  0%|                                                   | 0/200 [00:00<?, ?it/s]"
     ]
    },
    {
     "name": "stdout",
     "output_type": "stream",
     "text": [
      "Epoch  42/ 50 -- train_loss: -48.831 -- validation_loss: 86.139\n"
     ]
    },
    {
     "name": "stderr",
     "output_type": "stream",
     "text": [
      "100%|████████████████████████████| 200/200 [01:13<00:00,  2.73it/s, loss=-39.18]\n",
      "  0%|                                                   | 0/200 [00:00<?, ?it/s]"
     ]
    },
    {
     "name": "stdout",
     "output_type": "stream",
     "text": [
      "Epoch  43/ 50 -- train_loss: -48.136 -- validation_loss: 86.354\n"
     ]
    },
    {
     "name": "stderr",
     "output_type": "stream",
     "text": [
      "100%|████████████████████████████| 200/200 [01:13<00:00,  2.74it/s, loss=-51.74]\n",
      "  0%|                                                   | 0/200 [00:00<?, ?it/s]"
     ]
    },
    {
     "name": "stdout",
     "output_type": "stream",
     "text": [
      "Epoch  44/ 50 -- train_loss: -47.972 -- validation_loss: 86.385\n"
     ]
    },
    {
     "name": "stderr",
     "output_type": "stream",
     "text": [
      "100%|████████████████████████████| 200/200 [01:12<00:00,  2.74it/s, loss=-50.81]\n",
      "  0%|                                                   | 0/200 [00:00<?, ?it/s]"
     ]
    },
    {
     "name": "stdout",
     "output_type": "stream",
     "text": [
      "Epoch  45/ 50 -- train_loss: -48.476 -- validation_loss: 86.452\n"
     ]
    },
    {
     "name": "stderr",
     "output_type": "stream",
     "text": [
      "100%|████████████████████████████| 200/200 [01:12<00:00,  2.75it/s, loss=-54.30]\n",
      "  0%|                                                   | 0/200 [00:00<?, ?it/s]"
     ]
    },
    {
     "name": "stdout",
     "output_type": "stream",
     "text": [
      "Epoch  46/ 50 -- train_loss: -48.991 -- validation_loss: 86.703\n"
     ]
    },
    {
     "name": "stderr",
     "output_type": "stream",
     "text": [
      "100%|████████████████████████████| 200/200 [01:12<00:00,  2.74it/s, loss=-53.32]\n",
      "  0%|                                                   | 0/200 [00:00<?, ?it/s]"
     ]
    },
    {
     "name": "stdout",
     "output_type": "stream",
     "text": [
      "Epoch  47/ 50 -- train_loss: -49.473 -- validation_loss: 86.972\n"
     ]
    },
    {
     "name": "stderr",
     "output_type": "stream",
     "text": [
      "100%|████████████████████████████| 200/200 [01:12<00:00,  2.74it/s, loss=-51.09]\n",
      "  0%|                                                   | 0/200 [00:00<?, ?it/s]"
     ]
    },
    {
     "name": "stdout",
     "output_type": "stream",
     "text": [
      "Epoch  48/ 50 -- train_loss: -48.058 -- validation_loss: 87.152\n"
     ]
    },
    {
     "name": "stderr",
     "output_type": "stream",
     "text": [
      "100%|████████████████████████████| 200/200 [01:12<00:00,  2.74it/s, loss=-49.09]\n",
      "  0%|                                                   | 0/200 [00:00<?, ?it/s]"
     ]
    },
    {
     "name": "stdout",
     "output_type": "stream",
     "text": [
      "Epoch  49/ 50 -- train_loss: -49.230 -- validation_loss: 87.361\n"
     ]
    },
    {
     "name": "stderr",
     "output_type": "stream",
     "text": [
      "100%|████████████████████████████| 200/200 [01:12<00:00,  2.75it/s, loss=-45.86]\n"
     ]
    },
    {
     "name": "stdout",
     "output_type": "stream",
     "text": [
      "Epoch  50/ 50 -- train_loss: -50.970 -- validation_loss: 87.633\n",
      "###### Stop training after 50 epochs!\n",
      "Validation loss: 87.633\n",
      "Test loss:       87.318\n"
     ]
    },
    {
     "name": "stderr",
     "output_type": "stream",
     "text": [
      "\r",
      "  0%|                                                     | 0/4 [00:00<?, ?it/s]"
     ]
    },
    {
     "name": "stdout",
     "output_type": "stream",
     "text": [
      "Loading dataset..\n",
      "Creating directory experiment..\n",
      "Creating BNAF model..\n",
      "Creating optimizer..\n",
      "Creating scheduler..\n",
      "Training..\n"
     ]
    },
    {
     "name": "stderr",
     "output_type": "stream",
     "text": [
      "100%|████████████████████████████████| 4/4 [00:01<00:00,  2.72it/s, loss=142.71]\n",
      "  0%|                                                     | 0/4 [00:00<?, ?it/s]"
     ]
    },
    {
     "name": "stdout",
     "output_type": "stream",
     "text": [
      "Epoch   1/ 50 -- train_loss: 163.882 -- validation_loss: 977.195\n",
      "Saving model..\n"
     ]
    },
    {
     "name": "stderr",
     "output_type": "stream",
     "text": [
      "100%|████████████████████████████████| 4/4 [00:01<00:00,  2.79it/s, loss=115.68]\n",
      "  0%|                                                     | 0/4 [00:00<?, ?it/s]"
     ]
    },
    {
     "name": "stdout",
     "output_type": "stream",
     "text": [
      "Epoch   2/ 50 -- train_loss: 123.302 -- validation_loss: 959.024\n",
      "Saving model..\n"
     ]
    },
    {
     "name": "stderr",
     "output_type": "stream",
     "text": [
      "100%|█████████████████████████████████| 4/4 [00:01<00:00,  2.75it/s, loss=87.51]\n",
      "  0%|                                                     | 0/4 [00:00<?, ?it/s]"
     ]
    },
    {
     "name": "stdout",
     "output_type": "stream",
     "text": [
      "Epoch   3/ 50 -- train_loss: 96.944 -- validation_loss: 940.761\n",
      "Saving model..\n"
     ]
    },
    {
     "name": "stderr",
     "output_type": "stream",
     "text": [
      "100%|█████████████████████████████████| 4/4 [00:01<00:00,  2.75it/s, loss=75.64]\n",
      "  0%|                                                     | 0/4 [00:00<?, ?it/s]"
     ]
    },
    {
     "name": "stdout",
     "output_type": "stream",
     "text": [
      "Epoch   4/ 50 -- train_loss: 78.949 -- validation_loss: 922.591\n",
      "Saving model..\n"
     ]
    },
    {
     "name": "stderr",
     "output_type": "stream",
     "text": [
      "100%|█████████████████████████████████| 4/4 [00:01<00:00,  2.73it/s, loss=56.00]\n",
      "  0%|                                                     | 0/4 [00:00<?, ?it/s]"
     ]
    },
    {
     "name": "stdout",
     "output_type": "stream",
     "text": [
      "Epoch   5/ 50 -- train_loss: 61.957 -- validation_loss: 904.594\n",
      "Saving model..\n"
     ]
    },
    {
     "name": "stderr",
     "output_type": "stream",
     "text": [
      "100%|█████████████████████████████████| 4/4 [00:01<00:00,  2.74it/s, loss=49.65]\n",
      "  0%|                                                     | 0/4 [00:00<?, ?it/s]"
     ]
    },
    {
     "name": "stdout",
     "output_type": "stream",
     "text": [
      "Epoch   6/ 50 -- train_loss: 50.326 -- validation_loss: 887.021\n",
      "Saving model..\n"
     ]
    },
    {
     "name": "stderr",
     "output_type": "stream",
     "text": [
      "100%|█████████████████████████████████| 4/4 [00:01<00:00,  2.79it/s, loss=39.15]\n",
      "  0%|                                                     | 0/4 [00:00<?, ?it/s]"
     ]
    },
    {
     "name": "stdout",
     "output_type": "stream",
     "text": [
      "Epoch   7/ 50 -- train_loss: 42.550 -- validation_loss: 869.955\n",
      "Saving model..\n"
     ]
    },
    {
     "name": "stderr",
     "output_type": "stream",
     "text": [
      "100%|█████████████████████████████████| 4/4 [00:01<00:00,  2.74it/s, loss=35.90]\n",
      "  0%|                                                     | 0/4 [00:00<?, ?it/s]"
     ]
    },
    {
     "name": "stdout",
     "output_type": "stream",
     "text": [
      "Epoch   8/ 50 -- train_loss: 37.308 -- validation_loss: 853.372\n",
      "Saving model..\n"
     ]
    },
    {
     "name": "stderr",
     "output_type": "stream",
     "text": [
      "100%|█████████████████████████████████| 4/4 [00:01<00:00,  2.78it/s, loss=32.60]\n",
      "  0%|                                                     | 0/4 [00:00<?, ?it/s]"
     ]
    },
    {
     "name": "stdout",
     "output_type": "stream",
     "text": [
      "Epoch   9/ 50 -- train_loss: 33.160 -- validation_loss: 837.371\n",
      "Saving model..\n"
     ]
    },
    {
     "name": "stderr",
     "output_type": "stream",
     "text": [
      "100%|█████████████████████████████████| 4/4 [00:01<00:00,  2.79it/s, loss=28.96]\n",
      "  0%|                                                     | 0/4 [00:00<?, ?it/s]"
     ]
    },
    {
     "name": "stdout",
     "output_type": "stream",
     "text": [
      "Epoch  10/ 50 -- train_loss: 30.228 -- validation_loss: 821.980\n",
      "Saving model..\n"
     ]
    },
    {
     "name": "stderr",
     "output_type": "stream",
     "text": [
      "100%|█████████████████████████████████| 4/4 [00:01<00:00,  2.74it/s, loss=26.13]\n",
      "  0%|                                                     | 0/4 [00:00<?, ?it/s]"
     ]
    },
    {
     "name": "stdout",
     "output_type": "stream",
     "text": [
      "Epoch  11/ 50 -- train_loss: 27.320 -- validation_loss: 807.283\n",
      "Saving model..\n"
     ]
    },
    {
     "name": "stderr",
     "output_type": "stream",
     "text": [
      "100%|█████████████████████████████████| 4/4 [00:01<00:00,  2.74it/s, loss=22.57]\n",
      "  0%|                                                     | 0/4 [00:00<?, ?it/s]"
     ]
    },
    {
     "name": "stdout",
     "output_type": "stream",
     "text": [
      "Epoch  12/ 50 -- train_loss: 25.087 -- validation_loss: 793.154\n",
      "Saving model..\n"
     ]
    },
    {
     "name": "stderr",
     "output_type": "stream",
     "text": [
      "100%|█████████████████████████████████| 4/4 [00:01<00:00,  2.78it/s, loss=25.45]\n",
      "  0%|                                                     | 0/4 [00:00<?, ?it/s]"
     ]
    },
    {
     "name": "stdout",
     "output_type": "stream",
     "text": [
      "Epoch  13/ 50 -- train_loss: 23.118 -- validation_loss: 779.486\n",
      "Saving model..\n"
     ]
    },
    {
     "name": "stderr",
     "output_type": "stream",
     "text": [
      "100%|█████████████████████████████████| 4/4 [00:01<00:00,  2.79it/s, loss=18.97]\n",
      "  0%|                                                     | 0/4 [00:00<?, ?it/s]"
     ]
    },
    {
     "name": "stdout",
     "output_type": "stream",
     "text": [
      "Epoch  14/ 50 -- train_loss: 22.025 -- validation_loss: 766.313\n",
      "Saving model..\n"
     ]
    },
    {
     "name": "stderr",
     "output_type": "stream",
     "text": [
      "100%|█████████████████████████████████| 4/4 [00:01<00:00,  2.78it/s, loss=23.39]\n",
      "  0%|                                                     | 0/4 [00:00<?, ?it/s]"
     ]
    },
    {
     "name": "stdout",
     "output_type": "stream",
     "text": [
      "Epoch  15/ 50 -- train_loss: 20.166 -- validation_loss: 753.628\n",
      "Saving model..\n"
     ]
    },
    {
     "name": "stderr",
     "output_type": "stream",
     "text": [
      "100%|█████████████████████████████████| 4/4 [00:01<00:00,  2.48it/s, loss=20.03]\n",
      "  0%|                                                     | 0/4 [00:00<?, ?it/s]"
     ]
    },
    {
     "name": "stdout",
     "output_type": "stream",
     "text": [
      "Epoch  16/ 50 -- train_loss: 19.861 -- validation_loss: 741.418\n",
      "Saving model..\n"
     ]
    },
    {
     "name": "stderr",
     "output_type": "stream",
     "text": [
      "100%|█████████████████████████████████| 4/4 [00:01<00:00,  2.78it/s, loss=18.71]\n",
      "  0%|                                                     | 0/4 [00:00<?, ?it/s]"
     ]
    },
    {
     "name": "stdout",
     "output_type": "stream",
     "text": [
      "Epoch  17/ 50 -- train_loss: 19.356 -- validation_loss: 729.557\n",
      "Saving model..\n"
     ]
    },
    {
     "name": "stderr",
     "output_type": "stream",
     "text": [
      "100%|█████████████████████████████████| 4/4 [00:01<00:00,  2.78it/s, loss=18.16]\n",
      "  0%|                                                     | 0/4 [00:00<?, ?it/s]"
     ]
    },
    {
     "name": "stdout",
     "output_type": "stream",
     "text": [
      "Epoch  18/ 50 -- train_loss: 18.136 -- validation_loss: 718.029\n",
      "Saving model..\n"
     ]
    },
    {
     "name": "stderr",
     "output_type": "stream",
     "text": [
      "100%|█████████████████████████████████| 4/4 [00:01<00:00,  2.77it/s, loss=15.23]\n",
      "  0%|                                                     | 0/4 [00:00<?, ?it/s]"
     ]
    },
    {
     "name": "stdout",
     "output_type": "stream",
     "text": [
      "Epoch  19/ 50 -- train_loss: 16.925 -- validation_loss: 706.810\n",
      "Saving model..\n"
     ]
    },
    {
     "name": "stderr",
     "output_type": "stream",
     "text": [
      "100%|█████████████████████████████████| 4/4 [00:01<00:00,  2.74it/s, loss=14.03]\n",
      "  0%|                                                     | 0/4 [00:00<?, ?it/s]"
     ]
    },
    {
     "name": "stdout",
     "output_type": "stream",
     "text": [
      "Epoch  20/ 50 -- train_loss: 15.943 -- validation_loss: 695.890\n",
      "Saving model..\n"
     ]
    },
    {
     "name": "stderr",
     "output_type": "stream",
     "text": [
      "100%|█████████████████████████████████| 4/4 [00:01<00:00,  2.71it/s, loss=15.76]\n",
      "  0%|                                                     | 0/4 [00:00<?, ?it/s]"
     ]
    },
    {
     "name": "stdout",
     "output_type": "stream",
     "text": [
      "Epoch  21/ 50 -- train_loss: 15.249 -- validation_loss: 685.411\n",
      "Saving model..\n"
     ]
    },
    {
     "name": "stderr",
     "output_type": "stream",
     "text": [
      "100%|█████████████████████████████████| 4/4 [00:01<00:00,  2.75it/s, loss=13.44]\n",
      "  0%|                                                     | 0/4 [00:00<?, ?it/s]"
     ]
    },
    {
     "name": "stdout",
     "output_type": "stream",
     "text": [
      "Epoch  22/ 50 -- train_loss: 14.594 -- validation_loss: 675.169\n",
      "Saving model..\n"
     ]
    },
    {
     "name": "stderr",
     "output_type": "stream",
     "text": [
      "100%|█████████████████████████████████| 4/4 [00:01<00:00,  2.78it/s, loss=15.07]\n",
      "  0%|                                                     | 0/4 [00:00<?, ?it/s]"
     ]
    },
    {
     "name": "stdout",
     "output_type": "stream",
     "text": [
      "Epoch  23/ 50 -- train_loss: 13.617 -- validation_loss: 665.273\n",
      "Saving model..\n"
     ]
    },
    {
     "name": "stderr",
     "output_type": "stream",
     "text": [
      "100%|█████████████████████████████████| 4/4 [00:01<00:00,  2.73it/s, loss=17.35]\n",
      "  0%|                                                     | 0/4 [00:00<?, ?it/s]"
     ]
    },
    {
     "name": "stdout",
     "output_type": "stream",
     "text": [
      "Epoch  24/ 50 -- train_loss: 13.496 -- validation_loss: 655.667\n",
      "Saving model..\n"
     ]
    },
    {
     "name": "stderr",
     "output_type": "stream",
     "text": [
      "100%|█████████████████████████████████| 4/4 [00:01<00:00,  2.77it/s, loss=10.86]\n",
      "  0%|                                                     | 0/4 [00:00<?, ?it/s]"
     ]
    },
    {
     "name": "stdout",
     "output_type": "stream",
     "text": [
      "Epoch  25/ 50 -- train_loss: 12.227 -- validation_loss: 646.468\n",
      "Saving model..\n"
     ]
    },
    {
     "name": "stderr",
     "output_type": "stream",
     "text": [
      "100%|█████████████████████████████████| 4/4 [00:01<00:00,  2.77it/s, loss=16.56]\n",
      "  0%|                                                     | 0/4 [00:00<?, ?it/s]"
     ]
    },
    {
     "name": "stdout",
     "output_type": "stream",
     "text": [
      "Epoch  26/ 50 -- train_loss: 12.350 -- validation_loss: 637.497\n",
      "Saving model..\n"
     ]
    },
    {
     "name": "stderr",
     "output_type": "stream",
     "text": [
      "100%|█████████████████████████████████| 4/4 [00:01<00:00,  2.73it/s, loss=15.00]\n",
      "  0%|                                                     | 0/4 [00:00<?, ?it/s]"
     ]
    },
    {
     "name": "stdout",
     "output_type": "stream",
     "text": [
      "Epoch  27/ 50 -- train_loss: 11.356 -- validation_loss: 628.793\n",
      "Saving model..\n"
     ]
    },
    {
     "name": "stderr",
     "output_type": "stream",
     "text": [
      "100%|█████████████████████████████████| 4/4 [00:01<00:00,  2.72it/s, loss=11.78]\n",
      "  0%|                                                     | 0/4 [00:00<?, ?it/s]"
     ]
    },
    {
     "name": "stdout",
     "output_type": "stream",
     "text": [
      "Epoch  28/ 50 -- train_loss: 11.031 -- validation_loss: 620.301\n",
      "Saving model..\n"
     ]
    },
    {
     "name": "stderr",
     "output_type": "stream",
     "text": [
      "100%|██████████████████████████████████| 4/4 [00:01<00:00,  2.77it/s, loss=9.61]\n",
      "  0%|                                                     | 0/4 [00:00<?, ?it/s]"
     ]
    },
    {
     "name": "stdout",
     "output_type": "stream",
     "text": [
      "Epoch  29/ 50 -- train_loss: 10.061 -- validation_loss: 611.971\n",
      "Saving model..\n"
     ]
    },
    {
     "name": "stderr",
     "output_type": "stream",
     "text": [
      "100%|█████████████████████████████████| 4/4 [00:01<00:00,  2.73it/s, loss=11.41]\n",
      "  0%|                                                     | 0/4 [00:00<?, ?it/s]"
     ]
    },
    {
     "name": "stdout",
     "output_type": "stream",
     "text": [
      "Epoch  30/ 50 -- train_loss: 9.041 -- validation_loss: 603.951\n",
      "Saving model..\n"
     ]
    },
    {
     "name": "stderr",
     "output_type": "stream",
     "text": [
      "100%|██████████████████████████████████| 4/4 [00:01<00:00,  2.76it/s, loss=7.49]\n",
      "  0%|                                                     | 0/4 [00:00<?, ?it/s]"
     ]
    },
    {
     "name": "stdout",
     "output_type": "stream",
     "text": [
      "Epoch  31/ 50 -- train_loss: 9.280 -- validation_loss: 596.245\n",
      "Saving model..\n"
     ]
    },
    {
     "name": "stderr",
     "output_type": "stream",
     "text": [
      "100%|█████████████████████████████████| 4/4 [00:01<00:00,  2.79it/s, loss=10.16]\n",
      "  0%|                                                     | 0/4 [00:00<?, ?it/s]"
     ]
    },
    {
     "name": "stdout",
     "output_type": "stream",
     "text": [
      "Epoch  32/ 50 -- train_loss: 9.502 -- validation_loss: 588.793\n",
      "Saving model..\n"
     ]
    },
    {
     "name": "stderr",
     "output_type": "stream",
     "text": [
      "100%|██████████████████████████████████| 4/4 [00:01<00:00,  2.78it/s, loss=5.77]\n",
      "  0%|                                                     | 0/4 [00:00<?, ?it/s]"
     ]
    },
    {
     "name": "stdout",
     "output_type": "stream",
     "text": [
      "Epoch  33/ 50 -- train_loss: 7.497 -- validation_loss: 581.444\n",
      "Saving model..\n"
     ]
    },
    {
     "name": "stderr",
     "output_type": "stream",
     "text": [
      "100%|██████████████████████████████████| 4/4 [00:01<00:00,  2.73it/s, loss=6.75]\n",
      "  0%|                                                     | 0/4 [00:00<?, ?it/s]"
     ]
    },
    {
     "name": "stdout",
     "output_type": "stream",
     "text": [
      "Epoch  34/ 50 -- train_loss: 6.498 -- validation_loss: 574.332\n",
      "Saving model..\n"
     ]
    },
    {
     "name": "stderr",
     "output_type": "stream",
     "text": [
      "100%|██████████████████████████████████| 4/4 [00:01<00:00,  2.76it/s, loss=7.85]\n",
      "  0%|                                                     | 0/4 [00:00<?, ?it/s]"
     ]
    },
    {
     "name": "stdout",
     "output_type": "stream",
     "text": [
      "Epoch  35/ 50 -- train_loss: 6.472 -- validation_loss: 567.347\n",
      "Saving model..\n"
     ]
    },
    {
     "name": "stderr",
     "output_type": "stream",
     "text": [
      "100%|██████████████████████████████████| 4/4 [00:01<00:00,  2.79it/s, loss=5.13]\n",
      "  0%|                                                     | 0/4 [00:00<?, ?it/s]"
     ]
    },
    {
     "name": "stdout",
     "output_type": "stream",
     "text": [
      "Epoch  36/ 50 -- train_loss: 5.478 -- validation_loss: 560.606\n",
      "Saving model..\n"
     ]
    },
    {
     "name": "stderr",
     "output_type": "stream",
     "text": [
      "100%|██████████████████████████████████| 4/4 [00:01<00:00,  2.77it/s, loss=7.25]\n",
      "  0%|                                                     | 0/4 [00:00<?, ?it/s]"
     ]
    },
    {
     "name": "stdout",
     "output_type": "stream",
     "text": [
      "Epoch  37/ 50 -- train_loss: 5.839 -- validation_loss: 554.068\n",
      "Saving model..\n"
     ]
    },
    {
     "name": "stderr",
     "output_type": "stream",
     "text": [
      "100%|██████████████████████████████████| 4/4 [00:01<00:00,  2.74it/s, loss=6.61]\n",
      "  0%|                                                     | 0/4 [00:00<?, ?it/s]"
     ]
    },
    {
     "name": "stdout",
     "output_type": "stream",
     "text": [
      "Epoch  38/ 50 -- train_loss: 4.776 -- validation_loss: 547.685\n",
      "Saving model..\n"
     ]
    },
    {
     "name": "stderr",
     "output_type": "stream",
     "text": [
      "100%|██████████████████████████████████| 4/4 [00:01<00:00,  2.75it/s, loss=8.89]\n",
      "  0%|                                                     | 0/4 [00:00<?, ?it/s]"
     ]
    },
    {
     "name": "stdout",
     "output_type": "stream",
     "text": [
      "Epoch  39/ 50 -- train_loss: 4.993 -- validation_loss: 541.408\n",
      "Saving model..\n"
     ]
    },
    {
     "name": "stderr",
     "output_type": "stream",
     "text": [
      "100%|██████████████████████████████████| 4/4 [00:01<00:00,  2.77it/s, loss=8.47]\n",
      "  0%|                                                     | 0/4 [00:00<?, ?it/s]"
     ]
    },
    {
     "name": "stdout",
     "output_type": "stream",
     "text": [
      "Epoch  40/ 50 -- train_loss: 5.842 -- validation_loss: 535.291\n",
      "Saving model..\n"
     ]
    },
    {
     "name": "stderr",
     "output_type": "stream",
     "text": [
      "100%|██████████████████████████████████| 4/4 [00:01<00:00,  2.75it/s, loss=7.12]\n",
      "  0%|                                                     | 0/4 [00:00<?, ?it/s]"
     ]
    },
    {
     "name": "stdout",
     "output_type": "stream",
     "text": [
      "Epoch  41/ 50 -- train_loss: 6.453 -- validation_loss: 529.364\n",
      "Saving model..\n"
     ]
    },
    {
     "name": "stderr",
     "output_type": "stream",
     "text": [
      "100%|██████████████████████████████████| 4/4 [00:01<00:00,  2.78it/s, loss=6.39]\n",
      "  0%|                                                     | 0/4 [00:00<?, ?it/s]"
     ]
    },
    {
     "name": "stdout",
     "output_type": "stream",
     "text": [
      "Epoch  42/ 50 -- train_loss: 4.911 -- validation_loss: 523.524\n",
      "Saving model..\n"
     ]
    },
    {
     "name": "stderr",
     "output_type": "stream",
     "text": [
      "100%|██████████████████████████████████| 4/4 [00:01<00:00,  2.79it/s, loss=4.16]\n",
      "  0%|                                                     | 0/4 [00:00<?, ?it/s]"
     ]
    },
    {
     "name": "stdout",
     "output_type": "stream",
     "text": [
      "Epoch  43/ 50 -- train_loss: 3.892 -- validation_loss: 518.004\n",
      "Saving model..\n"
     ]
    },
    {
     "name": "stderr",
     "output_type": "stream",
     "text": [
      "100%|██████████████████████████████████| 4/4 [00:01<00:00,  2.77it/s, loss=3.81]\n",
      "  0%|                                                     | 0/4 [00:00<?, ?it/s]"
     ]
    },
    {
     "name": "stdout",
     "output_type": "stream",
     "text": [
      "Epoch  44/ 50 -- train_loss: 3.540 -- validation_loss: 512.548\n",
      "Saving model..\n"
     ]
    },
    {
     "name": "stderr",
     "output_type": "stream",
     "text": [
      "100%|██████████████████████████████████| 4/4 [00:01<00:00,  2.71it/s, loss=2.24]\n",
      "  0%|                                                     | 0/4 [00:00<?, ?it/s]"
     ]
    },
    {
     "name": "stdout",
     "output_type": "stream",
     "text": [
      "Epoch  45/ 50 -- train_loss: 3.434 -- validation_loss: 507.284\n",
      "Saving model..\n"
     ]
    },
    {
     "name": "stderr",
     "output_type": "stream",
     "text": [
      "100%|██████████████████████████████████| 4/4 [00:01<00:00,  2.73it/s, loss=4.78]\n",
      "  0%|                                                     | 0/4 [00:00<?, ?it/s]"
     ]
    },
    {
     "name": "stdout",
     "output_type": "stream",
     "text": [
      "Epoch  46/ 50 -- train_loss: 1.990 -- validation_loss: 502.144\n",
      "Saving model..\n"
     ]
    },
    {
     "name": "stderr",
     "output_type": "stream",
     "text": [
      "100%|██████████████████████████████████| 4/4 [00:01<00:00,  2.76it/s, loss=0.95]\n",
      "  0%|                                                     | 0/4 [00:00<?, ?it/s]"
     ]
    },
    {
     "name": "stdout",
     "output_type": "stream",
     "text": [
      "Epoch  47/ 50 -- train_loss: 3.126 -- validation_loss: 497.036\n",
      "Saving model..\n"
     ]
    },
    {
     "name": "stderr",
     "output_type": "stream",
     "text": [
      "100%|██████████████████████████████████| 4/4 [00:01<00:00,  2.73it/s, loss=3.58]\n",
      "  0%|                                                     | 0/4 [00:00<?, ?it/s]"
     ]
    },
    {
     "name": "stdout",
     "output_type": "stream",
     "text": [
      "Epoch  48/ 50 -- train_loss: 2.127 -- validation_loss: 492.074\n",
      "Saving model..\n"
     ]
    },
    {
     "name": "stderr",
     "output_type": "stream",
     "text": [
      "100%|██████████████████████████████████| 4/4 [00:01<00:00,  2.78it/s, loss=4.15]\n",
      "  0%|                                                     | 0/4 [00:00<?, ?it/s]"
     ]
    },
    {
     "name": "stdout",
     "output_type": "stream",
     "text": [
      "Epoch  49/ 50 -- train_loss: 1.878 -- validation_loss: 487.154\n",
      "Saving model..\n"
     ]
    },
    {
     "name": "stderr",
     "output_type": "stream",
     "text": [
      "100%|█████████████████████████████████| 4/4 [00:01<00:00,  2.79it/s, loss=-2.20]\n"
     ]
    },
    {
     "name": "stdout",
     "output_type": "stream",
     "text": [
      "Epoch  50/ 50 -- train_loss: 1.533 -- validation_loss: 482.199\n",
      "Saving model..\n"
     ]
    },
    {
     "name": "stderr",
     "output_type": "stream",
     "text": [
      "\r",
      "  0%|                                                   | 0/200 [00:00<?, ?it/s]"
     ]
    },
    {
     "name": "stdout",
     "output_type": "stream",
     "text": [
      "###### Stop training after 50 epochs!\n",
      "Validation loss: 482.199\n",
      "Test loss:       481.804\n",
      "Loading dataset..\n",
      "No validation set passed\n",
      "No test set passed\n",
      "Creating directory experiment..\n",
      "Creating BNAF model..\n",
      "Creating optimizer..\n",
      "Creating scheduler..\n",
      "Training..\n"
     ]
    },
    {
     "name": "stderr",
     "output_type": "stream",
     "text": [
      "100%|█████████████████████████████| 200/200 [01:12<00:00,  2.76it/s, loss=-8.76]\n",
      "  0%|                                                   | 0/200 [00:00<?, ?it/s]"
     ]
    },
    {
     "name": "stdout",
     "output_type": "stream",
     "text": [
      "Epoch   1/ 50 -- train_loss: 12.425 -- validation_loss: 512.330\n",
      "Saving model..\n"
     ]
    },
    {
     "name": "stderr",
     "output_type": "stream",
     "text": [
      "100%|████████████████████████████| 200/200 [01:12<00:00,  2.74it/s, loss=-12.62]\n",
      "  0%|                                                   | 0/200 [00:00<?, ?it/s]"
     ]
    },
    {
     "name": "stdout",
     "output_type": "stream",
     "text": [
      "Epoch   2/ 50 -- train_loss: -10.106 -- validation_loss: 341.314\n",
      "Saving model..\n"
     ]
    },
    {
     "name": "stderr",
     "output_type": "stream",
     "text": [
      "100%|████████████████████████████| 200/200 [01:12<00:00,  2.75it/s, loss=-15.90]\n",
      "  0%|                                                   | 0/200 [00:00<?, ?it/s]"
     ]
    },
    {
     "name": "stdout",
     "output_type": "stream",
     "text": [
      "Epoch   3/ 50 -- train_loss: -13.968 -- validation_loss: 235.480\n",
      "Saving model..\n"
     ]
    },
    {
     "name": "stderr",
     "output_type": "stream",
     "text": [
      "100%|████████████████████████████| 200/200 [01:12<00:00,  2.75it/s, loss=-16.02]\n",
      "  0%|                                                   | 0/200 [00:00<?, ?it/s]"
     ]
    },
    {
     "name": "stdout",
     "output_type": "stream",
     "text": [
      "Epoch   4/ 50 -- train_loss: -17.658 -- validation_loss: 168.243\n",
      "Saving model..\n"
     ]
    },
    {
     "name": "stderr",
     "output_type": "stream",
     "text": [
      "100%|████████████████████████████| 200/200 [01:12<00:00,  2.74it/s, loss=-15.94]\n",
      "  0%|                                                   | 0/200 [00:00<?, ?it/s]"
     ]
    },
    {
     "name": "stdout",
     "output_type": "stream",
     "text": [
      "Epoch   5/ 50 -- train_loss: -19.283 -- validation_loss: 128.993\n",
      "Saving model..\n"
     ]
    },
    {
     "name": "stderr",
     "output_type": "stream",
     "text": [
      "100%|████████████████████████████| 200/200 [01:12<00:00,  2.74it/s, loss=-21.29]\n",
      "  0%|                                                   | 0/200 [00:00<?, ?it/s]"
     ]
    },
    {
     "name": "stdout",
     "output_type": "stream",
     "text": [
      "Epoch   6/ 50 -- train_loss: -19.658 -- validation_loss: 106.395\n",
      "Saving model..\n"
     ]
    },
    {
     "name": "stderr",
     "output_type": "stream",
     "text": [
      "100%|████████████████████████████| 200/200 [01:12<00:00,  2.75it/s, loss=-26.79]\n",
      "  0%|                                                   | 0/200 [00:00<?, ?it/s]"
     ]
    },
    {
     "name": "stdout",
     "output_type": "stream",
     "text": [
      "Epoch   7/ 50 -- train_loss: -21.857 -- validation_loss: 93.772\n",
      "Saving model..\n"
     ]
    },
    {
     "name": "stderr",
     "output_type": "stream",
     "text": [
      "100%|████████████████████████████| 200/200 [01:12<00:00,  2.75it/s, loss=-26.23]\n",
      "  0%|                                                   | 0/200 [00:00<?, ?it/s]"
     ]
    },
    {
     "name": "stdout",
     "output_type": "stream",
     "text": [
      "Epoch   8/ 50 -- train_loss: -24.330 -- validation_loss: 86.589\n",
      "Saving model..\n"
     ]
    },
    {
     "name": "stderr",
     "output_type": "stream",
     "text": [
      "100%|████████████████████████████| 200/200 [01:12<00:00,  2.74it/s, loss=-23.78]\n",
      "  0%|                                                   | 0/200 [00:00<?, ?it/s]"
     ]
    },
    {
     "name": "stdout",
     "output_type": "stream",
     "text": [
      "Epoch   9/ 50 -- train_loss: -26.194 -- validation_loss: 82.434\n",
      "Saving model..\n"
     ]
    },
    {
     "name": "stderr",
     "output_type": "stream",
     "text": [
      "100%|████████████████████████████| 200/200 [01:12<00:00,  2.74it/s, loss=-24.84]\n",
      "  0%|                                                   | 0/200 [00:00<?, ?it/s]"
     ]
    },
    {
     "name": "stdout",
     "output_type": "stream",
     "text": [
      "Epoch  10/ 50 -- train_loss: -26.517 -- validation_loss: 79.772\n",
      "Saving model..\n"
     ]
    },
    {
     "name": "stderr",
     "output_type": "stream",
     "text": [
      "100%|████████████████████████████| 200/200 [01:12<00:00,  2.75it/s, loss=-24.73]\n",
      "  0%|                                                   | 0/200 [00:00<?, ?it/s]"
     ]
    },
    {
     "name": "stdout",
     "output_type": "stream",
     "text": [
      "Epoch  11/ 50 -- train_loss: -27.771 -- validation_loss: 78.067\n",
      "Saving model..\n"
     ]
    },
    {
     "name": "stderr",
     "output_type": "stream",
     "text": [
      "100%|████████████████████████████| 200/200 [01:12<00:00,  2.75it/s, loss=-32.36]\n",
      "  0%|                                                   | 0/200 [00:00<?, ?it/s]"
     ]
    },
    {
     "name": "stdout",
     "output_type": "stream",
     "text": [
      "Epoch  12/ 50 -- train_loss: -28.418 -- validation_loss: 77.097\n",
      "Saving model..\n"
     ]
    },
    {
     "name": "stderr",
     "output_type": "stream",
     "text": [
      "100%|████████████████████████████| 200/200 [01:12<00:00,  2.75it/s, loss=-28.88]\n",
      "  0%|                                                   | 0/200 [00:00<?, ?it/s]"
     ]
    },
    {
     "name": "stdout",
     "output_type": "stream",
     "text": [
      "Epoch  13/ 50 -- train_loss: -30.606 -- validation_loss: 76.893\n",
      "Saving model..\n"
     ]
    },
    {
     "name": "stderr",
     "output_type": "stream",
     "text": [
      "100%|████████████████████████████| 200/200 [01:12<00:00,  2.75it/s, loss=-34.09]\n",
      "  0%|                                                   | 0/200 [00:00<?, ?it/s]"
     ]
    },
    {
     "name": "stdout",
     "output_type": "stream",
     "text": [
      "Epoch  14/ 50 -- train_loss: -32.406 -- validation_loss: 77.099\n"
     ]
    },
    {
     "name": "stderr",
     "output_type": "stream",
     "text": [
      "100%|████████████████████████████| 200/200 [01:12<00:00,  2.75it/s, loss=-37.28]\n",
      "  0%|                                                   | 0/200 [00:00<?, ?it/s]"
     ]
    },
    {
     "name": "stdout",
     "output_type": "stream",
     "text": [
      "Epoch  15/ 50 -- train_loss: -31.623 -- validation_loss: 77.217\n"
     ]
    },
    {
     "name": "stderr",
     "output_type": "stream",
     "text": [
      "100%|████████████████████████████| 200/200 [01:12<00:00,  2.75it/s, loss=-33.66]\n",
      "  0%|                                                   | 0/200 [00:00<?, ?it/s]"
     ]
    },
    {
     "name": "stdout",
     "output_type": "stream",
     "text": [
      "Epoch  16/ 50 -- train_loss: -33.843 -- validation_loss: 77.651\n"
     ]
    },
    {
     "name": "stderr",
     "output_type": "stream",
     "text": [
      "100%|████████████████████████████| 200/200 [01:12<00:00,  2.75it/s, loss=-33.66]\n",
      "  0%|                                                   | 0/200 [00:00<?, ?it/s]"
     ]
    },
    {
     "name": "stdout",
     "output_type": "stream",
     "text": [
      "Epoch  17/ 50 -- train_loss: -33.033 -- validation_loss: 77.902\n"
     ]
    },
    {
     "name": "stderr",
     "output_type": "stream",
     "text": [
      "100%|████████████████████████████| 200/200 [01:12<00:00,  2.74it/s, loss=-34.87]\n",
      "  0%|                                                   | 0/200 [00:00<?, ?it/s]"
     ]
    },
    {
     "name": "stdout",
     "output_type": "stream",
     "text": [
      "Epoch  18/ 50 -- train_loss: -32.577 -- validation_loss: 78.197\n"
     ]
    },
    {
     "name": "stderr",
     "output_type": "stream",
     "text": [
      "100%|████████████████████████████| 200/200 [01:12<00:00,  2.75it/s, loss=-30.14]\n",
      "  0%|                                                   | 0/200 [00:00<?, ?it/s]"
     ]
    },
    {
     "name": "stdout",
     "output_type": "stream",
     "text": [
      "Epoch  19/ 50 -- train_loss: -33.625 -- validation_loss: 78.496\n"
     ]
    },
    {
     "name": "stderr",
     "output_type": "stream",
     "text": [
      "100%|████████████████████████████| 200/200 [01:12<00:00,  2.76it/s, loss=-36.72]\n",
      "  0%|                                                   | 0/200 [00:00<?, ?it/s]"
     ]
    },
    {
     "name": "stdout",
     "output_type": "stream",
     "text": [
      "Epoch  20/ 50 -- train_loss: -33.687 -- validation_loss: 78.654\n"
     ]
    },
    {
     "name": "stderr",
     "output_type": "stream",
     "text": [
      "100%|████████████████████████████| 200/200 [01:12<00:00,  2.75it/s, loss=-18.45]\n",
      "  0%|                                                   | 0/200 [00:00<?, ?it/s]"
     ]
    },
    {
     "name": "stdout",
     "output_type": "stream",
     "text": [
      "Epoch  21/ 50 -- train_loss: -34.479 -- validation_loss: 79.084\n"
     ]
    },
    {
     "name": "stderr",
     "output_type": "stream",
     "text": [
      "100%|████████████████████████████| 200/200 [01:12<00:00,  2.74it/s, loss=-33.93]\n",
      "  0%|                                                   | 0/200 [00:00<?, ?it/s]"
     ]
    },
    {
     "name": "stdout",
     "output_type": "stream",
     "text": [
      "Epoch  22/ 50 -- train_loss: -30.517 -- validation_loss: 78.798\n"
     ]
    },
    {
     "name": "stderr",
     "output_type": "stream",
     "text": [
      "100%|████████████████████████████| 200/200 [01:12<00:00,  2.75it/s, loss=-36.99]\n",
      "  0%|                                                   | 0/200 [00:00<?, ?it/s]"
     ]
    },
    {
     "name": "stdout",
     "output_type": "stream",
     "text": [
      "Epoch  23/ 50 -- train_loss: -35.398 -- validation_loss: 79.217\n"
     ]
    },
    {
     "name": "stderr",
     "output_type": "stream",
     "text": [
      "100%|████████████████████████████| 200/200 [01:12<00:00,  2.74it/s, loss=-31.88]\n",
      "  0%|                                                   | 0/200 [00:00<?, ?it/s]"
     ]
    },
    {
     "name": "stdout",
     "output_type": "stream",
     "text": [
      "Epoch  24/ 50 -- train_loss: -34.202 -- validation_loss: 79.607\n"
     ]
    },
    {
     "name": "stderr",
     "output_type": "stream",
     "text": [
      "100%|████████████████████████████| 200/200 [01:12<00:00,  2.75it/s, loss=-38.77]\n",
      "  0%|                                                   | 0/200 [00:00<?, ?it/s]"
     ]
    },
    {
     "name": "stdout",
     "output_type": "stream",
     "text": [
      "Epoch  25/ 50 -- train_loss: -36.022 -- validation_loss: 79.861\n"
     ]
    },
    {
     "name": "stderr",
     "output_type": "stream",
     "text": [
      "100%|████████████████████████████| 200/200 [01:13<00:00,  2.73it/s, loss=-32.50]\n",
      "  0%|                                                   | 0/200 [00:00<?, ?it/s]"
     ]
    },
    {
     "name": "stdout",
     "output_type": "stream",
     "text": [
      "Epoch  26/ 50 -- train_loss: -36.500 -- validation_loss: 80.402\n"
     ]
    },
    {
     "name": "stderr",
     "output_type": "stream",
     "text": [
      "100%|████████████████████████████| 200/200 [01:12<00:00,  2.75it/s, loss=-34.49]\n",
      "  0%|                                                   | 0/200 [00:00<?, ?it/s]"
     ]
    },
    {
     "name": "stdout",
     "output_type": "stream",
     "text": [
      "Epoch  27/ 50 -- train_loss: -37.244 -- validation_loss: 80.783\n"
     ]
    },
    {
     "name": "stderr",
     "output_type": "stream",
     "text": [
      "100%|████████████████████████████| 200/200 [01:12<00:00,  2.75it/s, loss=-35.78]\n",
      "  0%|                                                   | 0/200 [00:00<?, ?it/s]"
     ]
    },
    {
     "name": "stdout",
     "output_type": "stream",
     "text": [
      "Epoch  28/ 50 -- train_loss: -37.553 -- validation_loss: 81.223\n"
     ]
    },
    {
     "name": "stderr",
     "output_type": "stream",
     "text": [
      "100%|████████████████████████████| 200/200 [01:12<00:00,  2.75it/s, loss=-34.11]\n",
      "  0%|                                                   | 0/200 [00:00<?, ?it/s]"
     ]
    },
    {
     "name": "stdout",
     "output_type": "stream",
     "text": [
      "Epoch  29/ 50 -- train_loss: -35.142 -- validation_loss: 81.176\n"
     ]
    },
    {
     "name": "stderr",
     "output_type": "stream",
     "text": [
      "100%|████████████████████████████| 200/200 [01:12<00:00,  2.75it/s, loss=-38.68]\n",
      "  0%|                                                   | 0/200 [00:00<?, ?it/s]"
     ]
    },
    {
     "name": "stdout",
     "output_type": "stream",
     "text": [
      "Epoch  30/ 50 -- train_loss: -36.552 -- validation_loss: 81.213\n"
     ]
    },
    {
     "name": "stderr",
     "output_type": "stream",
     "text": [
      "100%|████████████████████████████| 200/200 [01:12<00:00,  2.76it/s, loss=-37.87]\n",
      "  0%|                                                   | 0/200 [00:00<?, ?it/s]"
     ]
    },
    {
     "name": "stdout",
     "output_type": "stream",
     "text": [
      "Epoch  31/ 50 -- train_loss: -37.084 -- validation_loss: 81.249\n"
     ]
    },
    {
     "name": "stderr",
     "output_type": "stream",
     "text": [
      "100%|████████████████████████████| 200/200 [01:12<00:00,  2.75it/s, loss=-46.26]\n",
      "  0%|                                                   | 0/200 [00:00<?, ?it/s]"
     ]
    },
    {
     "name": "stdout",
     "output_type": "stream",
     "text": [
      "Epoch  32/ 50 -- train_loss: -36.949 -- validation_loss: 81.318\n"
     ]
    },
    {
     "name": "stderr",
     "output_type": "stream",
     "text": [
      "100%|████████████████████████████| 200/200 [01:13<00:00,  2.73it/s, loss=-39.30]\n",
      "  0%|                                                   | 0/200 [00:00<?, ?it/s]"
     ]
    },
    {
     "name": "stdout",
     "output_type": "stream",
     "text": [
      "Epoch  33/ 50 -- train_loss: -38.767 -- validation_loss: 81.999\n"
     ]
    },
    {
     "name": "stderr",
     "output_type": "stream",
     "text": [
      "100%|████████████████████████████| 200/200 [01:12<00:00,  2.74it/s, loss=-41.56]\n",
      "  0%|                                                   | 0/200 [00:00<?, ?it/s]"
     ]
    },
    {
     "name": "stdout",
     "output_type": "stream",
     "text": [
      "Epoch  34/ 50 -- train_loss: -42.329 -- validation_loss: 83.201\n",
      "Epoch 00034: reducing learning rate of group 0 to 5.0000e-03.\n"
     ]
    },
    {
     "name": "stderr",
     "output_type": "stream",
     "text": [
      "100%|████████████████████████████| 200/200 [01:12<00:00,  2.75it/s, loss=-49.33]\n",
      "  0%|                                                   | 0/200 [00:00<?, ?it/s]"
     ]
    },
    {
     "name": "stdout",
     "output_type": "stream",
     "text": [
      "Epoch  35/ 50 -- train_loss: -47.571 -- validation_loss: 84.654\n"
     ]
    },
    {
     "name": "stderr",
     "output_type": "stream",
     "text": [
      "100%|████████████████████████████| 200/200 [01:12<00:00,  2.75it/s, loss=-43.17]\n",
      "  0%|                                                   | 0/200 [00:00<?, ?it/s]"
     ]
    },
    {
     "name": "stdout",
     "output_type": "stream",
     "text": [
      "Epoch  36/ 50 -- train_loss: -48.155 -- validation_loss: 86.053\n"
     ]
    },
    {
     "name": "stderr",
     "output_type": "stream",
     "text": [
      "100%|████████████████████████████| 200/200 [01:12<00:00,  2.75it/s, loss=-43.55]\n",
      "  0%|                                                   | 0/200 [00:00<?, ?it/s]"
     ]
    },
    {
     "name": "stdout",
     "output_type": "stream",
     "text": [
      "Epoch  37/ 50 -- train_loss: -49.244 -- validation_loss: 87.015\n"
     ]
    },
    {
     "name": "stderr",
     "output_type": "stream",
     "text": [
      "100%|████████████████████████████| 200/200 [01:12<00:00,  2.75it/s, loss=-42.18]\n",
      "  0%|                                                   | 0/200 [00:00<?, ?it/s]"
     ]
    },
    {
     "name": "stdout",
     "output_type": "stream",
     "text": [
      "Epoch  38/ 50 -- train_loss: -48.565 -- validation_loss: 87.694\n"
     ]
    },
    {
     "name": "stderr",
     "output_type": "stream",
     "text": [
      "100%|████████████████████████████| 200/200 [01:12<00:00,  2.75it/s, loss=-43.97]\n",
      "  0%|                                                   | 0/200 [00:00<?, ?it/s]"
     ]
    },
    {
     "name": "stdout",
     "output_type": "stream",
     "text": [
      "Epoch  39/ 50 -- train_loss: -46.859 -- validation_loss: 88.128\n"
     ]
    },
    {
     "name": "stderr",
     "output_type": "stream",
     "text": [
      "100%|████████████████████████████| 200/200 [01:12<00:00,  2.75it/s, loss=-41.65]\n",
      "  0%|                                                   | 0/200 [00:00<?, ?it/s]"
     ]
    },
    {
     "name": "stdout",
     "output_type": "stream",
     "text": [
      "Epoch  40/ 50 -- train_loss: -46.541 -- validation_loss: 88.406\n"
     ]
    },
    {
     "name": "stderr",
     "output_type": "stream",
     "text": [
      "100%|████████████████████████████| 200/200 [01:12<00:00,  2.74it/s, loss=-51.15]\n",
      "  0%|                                                   | 0/200 [00:00<?, ?it/s]"
     ]
    },
    {
     "name": "stdout",
     "output_type": "stream",
     "text": [
      "Epoch  41/ 50 -- train_loss: -47.577 -- validation_loss: 88.591\n"
     ]
    },
    {
     "name": "stderr",
     "output_type": "stream",
     "text": [
      "100%|████████████████████████████| 200/200 [01:12<00:00,  2.75it/s, loss=-49.04]\n",
      "  0%|                                                   | 0/200 [00:00<?, ?it/s]"
     ]
    },
    {
     "name": "stdout",
     "output_type": "stream",
     "text": [
      "Epoch  42/ 50 -- train_loss: -49.659 -- validation_loss: 88.978\n"
     ]
    },
    {
     "name": "stderr",
     "output_type": "stream",
     "text": [
      "100%|████████████████████████████| 200/200 [01:12<00:00,  2.74it/s, loss=-45.06]\n",
      "  0%|                                                   | 0/200 [00:00<?, ?it/s]"
     ]
    },
    {
     "name": "stdout",
     "output_type": "stream",
     "text": [
      "Epoch  43/ 50 -- train_loss: -46.548 -- validation_loss: 89.166\n"
     ]
    },
    {
     "name": "stderr",
     "output_type": "stream",
     "text": [
      "100%|████████████████████████████| 200/200 [01:12<00:00,  2.75it/s, loss=-54.89]\n",
      "  0%|                                                   | 0/200 [00:00<?, ?it/s]"
     ]
    },
    {
     "name": "stdout",
     "output_type": "stream",
     "text": [
      "Epoch  44/ 50 -- train_loss: -49.750 -- validation_loss: 89.309\n"
     ]
    },
    {
     "name": "stderr",
     "output_type": "stream",
     "text": [
      "100%|████████████████████████████| 200/200 [01:12<00:00,  2.74it/s, loss=-45.10]\n",
      "  0%|                                                   | 0/200 [00:00<?, ?it/s]"
     ]
    },
    {
     "name": "stdout",
     "output_type": "stream",
     "text": [
      "Epoch  45/ 50 -- train_loss: -46.642 -- validation_loss: 89.557\n"
     ]
    },
    {
     "name": "stderr",
     "output_type": "stream",
     "text": [
      "100%|████████████████████████████| 200/200 [01:12<00:00,  2.75it/s, loss=-48.99]\n",
      "  0%|                                                   | 0/200 [00:00<?, ?it/s]"
     ]
    },
    {
     "name": "stdout",
     "output_type": "stream",
     "text": [
      "Epoch  46/ 50 -- train_loss: -46.643 -- validation_loss: 89.475\n"
     ]
    },
    {
     "name": "stderr",
     "output_type": "stream",
     "text": [
      "100%|████████████████████████████| 200/200 [01:12<00:00,  2.75it/s, loss=-56.52]\n",
      "  0%|                                                   | 0/200 [00:00<?, ?it/s]"
     ]
    },
    {
     "name": "stdout",
     "output_type": "stream",
     "text": [
      "Epoch  47/ 50 -- train_loss: -50.044 -- validation_loss: 89.715\n"
     ]
    },
    {
     "name": "stderr",
     "output_type": "stream",
     "text": [
      "100%|████████████████████████████| 200/200 [01:12<00:00,  2.75it/s, loss=-45.54]\n",
      "  0%|                                                   | 0/200 [00:00<?, ?it/s]"
     ]
    },
    {
     "name": "stdout",
     "output_type": "stream",
     "text": [
      "Epoch  48/ 50 -- train_loss: -49.340 -- validation_loss: 90.084\n"
     ]
    },
    {
     "name": "stderr",
     "output_type": "stream",
     "text": [
      "100%|████████████████████████████| 200/200 [01:12<00:00,  2.75it/s, loss=-47.17]\n",
      "  0%|                                                   | 0/200 [00:00<?, ?it/s]"
     ]
    },
    {
     "name": "stdout",
     "output_type": "stream",
     "text": [
      "Epoch  49/ 50 -- train_loss: -47.807 -- validation_loss: 90.201\n"
     ]
    },
    {
     "name": "stderr",
     "output_type": "stream",
     "text": [
      "100%|████████████████████████████| 200/200 [01:12<00:00,  2.74it/s, loss=-49.87]\n"
     ]
    },
    {
     "name": "stdout",
     "output_type": "stream",
     "text": [
      "Epoch  50/ 50 -- train_loss: -47.968 -- validation_loss: 90.266\n",
      "###### Stop training after 50 epochs!\n",
      "Validation loss: 90.266\n",
      "Test loss:       90.383\n"
     ]
    },
    {
     "name": "stderr",
     "output_type": "stream",
     "text": [
      "\r",
      "  0%|                                                     | 0/4 [00:00<?, ?it/s]"
     ]
    },
    {
     "name": "stdout",
     "output_type": "stream",
     "text": [
      "Loading dataset..\n",
      "Creating directory experiment..\n",
      "Creating BNAF model..\n",
      "Creating optimizer..\n",
      "Creating scheduler..\n",
      "Training..\n"
     ]
    },
    {
     "name": "stderr",
     "output_type": "stream",
     "text": [
      "100%|████████████████████████████████| 4/4 [00:01<00:00,  2.68it/s, loss=144.53]\n",
      "  0%|                                                     | 0/4 [00:00<?, ?it/s]"
     ]
    },
    {
     "name": "stdout",
     "output_type": "stream",
     "text": [
      "Epoch   1/ 50 -- train_loss: 165.242 -- validation_loss: 980.226\n",
      "Saving model..\n"
     ]
    },
    {
     "name": "stderr",
     "output_type": "stream",
     "text": [
      "100%|████████████████████████████████| 4/4 [00:01<00:00,  2.74it/s, loss=104.88]\n",
      "  0%|                                                     | 0/4 [00:00<?, ?it/s]"
     ]
    },
    {
     "name": "stdout",
     "output_type": "stream",
     "text": [
      "Epoch   2/ 50 -- train_loss: 119.114 -- validation_loss: 964.361\n",
      "Saving model..\n"
     ]
    },
    {
     "name": "stderr",
     "output_type": "stream",
     "text": [
      "100%|█████████████████████████████████| 4/4 [00:01<00:00,  2.74it/s, loss=74.58]\n",
      "  0%|                                                     | 0/4 [00:00<?, ?it/s]"
     ]
    },
    {
     "name": "stdout",
     "output_type": "stream",
     "text": [
      "Epoch   3/ 50 -- train_loss: 86.184 -- validation_loss: 948.018\n",
      "Saving model..\n"
     ]
    },
    {
     "name": "stderr",
     "output_type": "stream",
     "text": [
      "100%|█████████████████████████████████| 4/4 [00:01<00:00,  2.78it/s, loss=59.19]\n",
      "  0%|                                                     | 0/4 [00:00<?, ?it/s]"
     ]
    },
    {
     "name": "stdout",
     "output_type": "stream",
     "text": [
      "Epoch   4/ 50 -- train_loss: 63.264 -- validation_loss: 931.375\n",
      "Saving model..\n"
     ]
    },
    {
     "name": "stderr",
     "output_type": "stream",
     "text": [
      "100%|█████████████████████████████████| 4/4 [00:01<00:00,  2.77it/s, loss=44.38]\n",
      "  0%|                                                     | 0/4 [00:00<?, ?it/s]"
     ]
    },
    {
     "name": "stdout",
     "output_type": "stream",
     "text": [
      "Epoch   5/ 50 -- train_loss: 48.460 -- validation_loss: 914.701\n",
      "Saving model..\n"
     ]
    },
    {
     "name": "stderr",
     "output_type": "stream",
     "text": [
      "100%|█████████████████████████████████| 4/4 [00:01<00:00,  2.77it/s, loss=37.33]\n",
      "  0%|                                                     | 0/4 [00:00<?, ?it/s]"
     ]
    },
    {
     "name": "stdout",
     "output_type": "stream",
     "text": [
      "Epoch   6/ 50 -- train_loss: 39.573 -- validation_loss: 898.104\n",
      "Saving model..\n"
     ]
    },
    {
     "name": "stderr",
     "output_type": "stream",
     "text": [
      "100%|█████████████████████████████████| 4/4 [00:01<00:00,  2.79it/s, loss=28.90]\n",
      "  0%|                                                     | 0/4 [00:00<?, ?it/s]"
     ]
    },
    {
     "name": "stdout",
     "output_type": "stream",
     "text": [
      "Epoch   7/ 50 -- train_loss: 32.847 -- validation_loss: 881.697\n",
      "Saving model..\n"
     ]
    },
    {
     "name": "stderr",
     "output_type": "stream",
     "text": [
      "100%|█████████████████████████████████| 4/4 [00:01<00:00,  2.83it/s, loss=27.78]\n",
      "  0%|                                                     | 0/4 [00:00<?, ?it/s]"
     ]
    },
    {
     "name": "stdout",
     "output_type": "stream",
     "text": [
      "Epoch   8/ 50 -- train_loss: 27.545 -- validation_loss: 865.592\n",
      "Saving model..\n"
     ]
    },
    {
     "name": "stderr",
     "output_type": "stream",
     "text": [
      "100%|█████████████████████████████████| 4/4 [00:01<00:00,  2.73it/s, loss=20.96]\n",
      "  0%|                                                     | 0/4 [00:00<?, ?it/s]"
     ]
    },
    {
     "name": "stdout",
     "output_type": "stream",
     "text": [
      "Epoch   9/ 50 -- train_loss: 22.984 -- validation_loss: 849.752\n",
      "Saving model..\n"
     ]
    },
    {
     "name": "stderr",
     "output_type": "stream",
     "text": [
      "100%|█████████████████████████████████| 4/4 [00:01<00:00,  2.74it/s, loss=18.06]\n",
      "  0%|                                                     | 0/4 [00:00<?, ?it/s]"
     ]
    },
    {
     "name": "stdout",
     "output_type": "stream",
     "text": [
      "Epoch  10/ 50 -- train_loss: 19.721 -- validation_loss: 834.284\n",
      "Saving model..\n"
     ]
    },
    {
     "name": "stderr",
     "output_type": "stream",
     "text": [
      "100%|█████████████████████████████████| 4/4 [00:01<00:00,  2.74it/s, loss=15.75]\n",
      "  0%|                                                     | 0/4 [00:00<?, ?it/s]"
     ]
    },
    {
     "name": "stdout",
     "output_type": "stream",
     "text": [
      "Epoch  11/ 50 -- train_loss: 16.800 -- validation_loss: 819.256\n",
      "Saving model..\n"
     ]
    },
    {
     "name": "stderr",
     "output_type": "stream",
     "text": [
      "100%|█████████████████████████████████| 4/4 [00:01<00:00,  2.74it/s, loss=12.38]\n",
      "  0%|                                                     | 0/4 [00:00<?, ?it/s]"
     ]
    },
    {
     "name": "stdout",
     "output_type": "stream",
     "text": [
      "Epoch  12/ 50 -- train_loss: 14.285 -- validation_loss: 804.752\n",
      "Saving model..\n"
     ]
    },
    {
     "name": "stderr",
     "output_type": "stream",
     "text": [
      "100%|█████████████████████████████████| 4/4 [00:01<00:00,  2.71it/s, loss=10.24]\n",
      "  0%|                                                     | 0/4 [00:00<?, ?it/s]"
     ]
    },
    {
     "name": "stdout",
     "output_type": "stream",
     "text": [
      "Epoch  13/ 50 -- train_loss: 12.097 -- validation_loss: 790.635\n",
      "Saving model..\n"
     ]
    },
    {
     "name": "stderr",
     "output_type": "stream",
     "text": [
      "100%|█████████████████████████████████| 4/4 [00:01<00:00,  2.74it/s, loss=10.84]\n",
      "  0%|                                                     | 0/4 [00:00<?, ?it/s]"
     ]
    },
    {
     "name": "stdout",
     "output_type": "stream",
     "text": [
      "Epoch  14/ 50 -- train_loss: 10.008 -- validation_loss: 776.907\n",
      "Saving model..\n"
     ]
    },
    {
     "name": "stderr",
     "output_type": "stream",
     "text": [
      "100%|██████████████████████████████████| 4/4 [00:01<00:00,  2.79it/s, loss=9.27]\n",
      "  0%|                                                     | 0/4 [00:00<?, ?it/s]"
     ]
    },
    {
     "name": "stdout",
     "output_type": "stream",
     "text": [
      "Epoch  15/ 50 -- train_loss: 9.507 -- validation_loss: 763.563\n",
      "Saving model..\n"
     ]
    },
    {
     "name": "stderr",
     "output_type": "stream",
     "text": [
      "100%|██████████████████████████████████| 4/4 [00:01<00:00,  2.77it/s, loss=4.13]\n",
      "  0%|                                                     | 0/4 [00:00<?, ?it/s]"
     ]
    },
    {
     "name": "stdout",
     "output_type": "stream",
     "text": [
      "Epoch  16/ 50 -- train_loss: 8.117 -- validation_loss: 750.713\n",
      "Saving model..\n"
     ]
    },
    {
     "name": "stderr",
     "output_type": "stream",
     "text": [
      "100%|██████████████████████████████████| 4/4 [00:01<00:00,  2.75it/s, loss=6.02]\n",
      "  0%|                                                     | 0/4 [00:00<?, ?it/s]"
     ]
    },
    {
     "name": "stdout",
     "output_type": "stream",
     "text": [
      "Epoch  17/ 50 -- train_loss: 7.007 -- validation_loss: 738.181\n",
      "Saving model..\n"
     ]
    },
    {
     "name": "stderr",
     "output_type": "stream",
     "text": [
      "100%|██████████████████████████████████| 4/4 [00:01<00:00,  2.70it/s, loss=6.51]\n",
      "  0%|                                                     | 0/4 [00:00<?, ?it/s]"
     ]
    },
    {
     "name": "stdout",
     "output_type": "stream",
     "text": [
      "Epoch  18/ 50 -- train_loss: 5.804 -- validation_loss: 726.102\n",
      "Saving model..\n"
     ]
    },
    {
     "name": "stderr",
     "output_type": "stream",
     "text": [
      "100%|██████████████████████████████████| 4/4 [00:01<00:00,  2.73it/s, loss=5.71]\n",
      "  0%|                                                     | 0/4 [00:00<?, ?it/s]"
     ]
    },
    {
     "name": "stdout",
     "output_type": "stream",
     "text": [
      "Epoch  19/ 50 -- train_loss: 4.857 -- validation_loss: 714.420\n",
      "Saving model..\n"
     ]
    },
    {
     "name": "stderr",
     "output_type": "stream",
     "text": [
      "100%|██████████████████████████████████| 4/4 [00:01<00:00,  2.74it/s, loss=4.61]\n",
      "  0%|                                                     | 0/4 [00:00<?, ?it/s]"
     ]
    },
    {
     "name": "stdout",
     "output_type": "stream",
     "text": [
      "Epoch  20/ 50 -- train_loss: 4.180 -- validation_loss: 703.121\n",
      "Saving model..\n"
     ]
    },
    {
     "name": "stderr",
     "output_type": "stream",
     "text": [
      "100%|██████████████████████████████████| 4/4 [00:01<00:00,  2.76it/s, loss=3.25]\n",
      "  0%|                                                     | 0/4 [00:00<?, ?it/s]"
     ]
    },
    {
     "name": "stdout",
     "output_type": "stream",
     "text": [
      "Epoch  21/ 50 -- train_loss: 3.081 -- validation_loss: 692.120\n",
      "Saving model..\n"
     ]
    },
    {
     "name": "stderr",
     "output_type": "stream",
     "text": [
      "100%|██████████████████████████████████| 4/4 [00:01<00:00,  2.78it/s, loss=2.86]\n",
      "  0%|                                                     | 0/4 [00:00<?, ?it/s]"
     ]
    },
    {
     "name": "stdout",
     "output_type": "stream",
     "text": [
      "Epoch  22/ 50 -- train_loss: 2.315 -- validation_loss: 681.426\n",
      "Saving model..\n"
     ]
    },
    {
     "name": "stderr",
     "output_type": "stream",
     "text": [
      "100%|██████████████████████████████████| 4/4 [00:01<00:00,  2.76it/s, loss=0.46]\n",
      "  0%|                                                     | 0/4 [00:00<?, ?it/s]"
     ]
    },
    {
     "name": "stdout",
     "output_type": "stream",
     "text": [
      "Epoch  23/ 50 -- train_loss: 1.435 -- validation_loss: 670.953\n",
      "Saving model..\n"
     ]
    },
    {
     "name": "stderr",
     "output_type": "stream",
     "text": [
      "100%|██████████████████████████████████| 4/4 [00:01<00:00,  2.74it/s, loss=1.15]\n",
      "  0%|                                                     | 0/4 [00:00<?, ?it/s]"
     ]
    },
    {
     "name": "stdout",
     "output_type": "stream",
     "text": [
      "Epoch  24/ 50 -- train_loss: 0.131 -- validation_loss: 660.813\n",
      "Saving model..\n"
     ]
    },
    {
     "name": "stderr",
     "output_type": "stream",
     "text": [
      "100%|█████████████████████████████████| 4/4 [00:01<00:00,  2.75it/s, loss=-2.41]\n",
      "  0%|                                                     | 0/4 [00:00<?, ?it/s]"
     ]
    },
    {
     "name": "stdout",
     "output_type": "stream",
     "text": [
      "Epoch  25/ 50 -- train_loss: -0.263 -- validation_loss: 651.069\n",
      "Saving model..\n"
     ]
    },
    {
     "name": "stderr",
     "output_type": "stream",
     "text": [
      "100%|█████████████████████████████████| 4/4 [00:01<00:00,  2.74it/s, loss=-0.73]\n",
      "  0%|                                                     | 0/4 [00:00<?, ?it/s]"
     ]
    },
    {
     "name": "stdout",
     "output_type": "stream",
     "text": [
      "Epoch  26/ 50 -- train_loss: -0.622 -- validation_loss: 641.476\n",
      "Saving model..\n"
     ]
    },
    {
     "name": "stderr",
     "output_type": "stream",
     "text": [
      "100%|█████████████████████████████████| 4/4 [00:01<00:00,  2.72it/s, loss=-2.83]\n",
      "  0%|                                                     | 0/4 [00:00<?, ?it/s]"
     ]
    },
    {
     "name": "stdout",
     "output_type": "stream",
     "text": [
      "Epoch  27/ 50 -- train_loss: -1.181 -- validation_loss: 632.360\n",
      "Saving model..\n"
     ]
    },
    {
     "name": "stderr",
     "output_type": "stream",
     "text": [
      "100%|█████████████████████████████████| 4/4 [00:01<00:00,  2.78it/s, loss=-0.60]\n",
      "  0%|                                                     | 0/4 [00:00<?, ?it/s]"
     ]
    },
    {
     "name": "stdout",
     "output_type": "stream",
     "text": [
      "Epoch  28/ 50 -- train_loss: -1.384 -- validation_loss: 623.464\n",
      "Saving model..\n"
     ]
    },
    {
     "name": "stderr",
     "output_type": "stream",
     "text": [
      "100%|█████████████████████████████████| 4/4 [00:01<00:00,  2.80it/s, loss=-1.66]\n",
      "  0%|                                                     | 0/4 [00:00<?, ?it/s]"
     ]
    },
    {
     "name": "stdout",
     "output_type": "stream",
     "text": [
      "Epoch  29/ 50 -- train_loss: -2.248 -- validation_loss: 614.978\n",
      "Saving model..\n"
     ]
    },
    {
     "name": "stderr",
     "output_type": "stream",
     "text": [
      "100%|█████████████████████████████████| 4/4 [00:01<00:00,  2.76it/s, loss=-0.84]\n",
      "  0%|                                                     | 0/4 [00:00<?, ?it/s]"
     ]
    },
    {
     "name": "stdout",
     "output_type": "stream",
     "text": [
      "Epoch  30/ 50 -- train_loss: -1.793 -- validation_loss: 606.674\n",
      "Saving model..\n"
     ]
    },
    {
     "name": "stderr",
     "output_type": "stream",
     "text": [
      "100%|█████████████████████████████████| 4/4 [00:01<00:00,  2.77it/s, loss=-4.72]\n",
      "  0%|                                                     | 0/4 [00:00<?, ?it/s]"
     ]
    },
    {
     "name": "stdout",
     "output_type": "stream",
     "text": [
      "Epoch  31/ 50 -- train_loss: -3.058 -- validation_loss: 598.655\n",
      "Saving model..\n"
     ]
    },
    {
     "name": "stderr",
     "output_type": "stream",
     "text": [
      "100%|█████████████████████████████████| 4/4 [00:01<00:00,  2.76it/s, loss=-6.37]\n",
      "  0%|                                                     | 0/4 [00:00<?, ?it/s]"
     ]
    },
    {
     "name": "stdout",
     "output_type": "stream",
     "text": [
      "Epoch  32/ 50 -- train_loss: -4.026 -- validation_loss: 590.792\n",
      "Saving model..\n"
     ]
    },
    {
     "name": "stderr",
     "output_type": "stream",
     "text": [
      "100%|█████████████████████████████████| 4/4 [00:01<00:00,  2.73it/s, loss=-6.15]\n",
      "  0%|                                                     | 0/4 [00:00<?, ?it/s]"
     ]
    },
    {
     "name": "stdout",
     "output_type": "stream",
     "text": [
      "Epoch  33/ 50 -- train_loss: -3.756 -- validation_loss: 583.143\n",
      "Saving model..\n"
     ]
    },
    {
     "name": "stderr",
     "output_type": "stream",
     "text": [
      "100%|█████████████████████████████████| 4/4 [00:01<00:00,  2.78it/s, loss=-4.63]\n",
      "  0%|                                                     | 0/4 [00:00<?, ?it/s]"
     ]
    },
    {
     "name": "stdout",
     "output_type": "stream",
     "text": [
      "Epoch  34/ 50 -- train_loss: -4.643 -- validation_loss: 575.725\n",
      "Saving model..\n"
     ]
    },
    {
     "name": "stderr",
     "output_type": "stream",
     "text": [
      "100%|█████████████████████████████████| 4/4 [00:01<00:00,  2.76it/s, loss=-3.24]\n",
      "  0%|                                                     | 0/4 [00:00<?, ?it/s]"
     ]
    },
    {
     "name": "stdout",
     "output_type": "stream",
     "text": [
      "Epoch  35/ 50 -- train_loss: -4.276 -- validation_loss: 568.478\n",
      "Saving model..\n"
     ]
    },
    {
     "name": "stderr",
     "output_type": "stream",
     "text": [
      "100%|█████████████████████████████████| 4/4 [00:01<00:00,  2.79it/s, loss=-7.50]\n",
      "  0%|                                                     | 0/4 [00:00<?, ?it/s]"
     ]
    },
    {
     "name": "stdout",
     "output_type": "stream",
     "text": [
      "Epoch  36/ 50 -- train_loss: -5.329 -- validation_loss: 561.412\n",
      "Saving model..\n"
     ]
    },
    {
     "name": "stderr",
     "output_type": "stream",
     "text": [
      "100%|█████████████████████████████████| 4/4 [00:01<00:00,  2.78it/s, loss=-6.20]\n",
      "  0%|                                                     | 0/4 [00:00<?, ?it/s]"
     ]
    },
    {
     "name": "stdout",
     "output_type": "stream",
     "text": [
      "Epoch  37/ 50 -- train_loss: -5.621 -- validation_loss: 554.575\n",
      "Saving model..\n"
     ]
    },
    {
     "name": "stderr",
     "output_type": "stream",
     "text": [
      "100%|█████████████████████████████████| 4/4 [00:01<00:00,  2.79it/s, loss=-7.14]\n",
      "  0%|                                                     | 0/4 [00:00<?, ?it/s]"
     ]
    },
    {
     "name": "stdout",
     "output_type": "stream",
     "text": [
      "Epoch  38/ 50 -- train_loss: -5.782 -- validation_loss: 547.840\n",
      "Saving model..\n"
     ]
    },
    {
     "name": "stderr",
     "output_type": "stream",
     "text": [
      "100%|█████████████████████████████████| 4/4 [00:01<00:00,  2.76it/s, loss=-3.63]\n",
      "  0%|                                                     | 0/4 [00:00<?, ?it/s]"
     ]
    },
    {
     "name": "stdout",
     "output_type": "stream",
     "text": [
      "Epoch  39/ 50 -- train_loss: -6.785 -- validation_loss: 541.370\n",
      "Saving model..\n"
     ]
    },
    {
     "name": "stderr",
     "output_type": "stream",
     "text": [
      "100%|█████████████████████████████████| 4/4 [00:01<00:00,  2.78it/s, loss=-6.36]\n",
      "  0%|                                                     | 0/4 [00:00<?, ?it/s]"
     ]
    },
    {
     "name": "stdout",
     "output_type": "stream",
     "text": [
      "Epoch  40/ 50 -- train_loss: -6.707 -- validation_loss: 535.014\n",
      "Saving model..\n"
     ]
    },
    {
     "name": "stderr",
     "output_type": "stream",
     "text": [
      "100%|█████████████████████████████████| 4/4 [00:01<00:00,  2.76it/s, loss=-5.37]\n",
      "  0%|                                                     | 0/4 [00:00<?, ?it/s]"
     ]
    },
    {
     "name": "stdout",
     "output_type": "stream",
     "text": [
      "Epoch  41/ 50 -- train_loss: -5.643 -- validation_loss: 528.768\n",
      "Saving model..\n"
     ]
    },
    {
     "name": "stderr",
     "output_type": "stream",
     "text": [
      "100%|█████████████████████████████████| 4/4 [00:01<00:00,  2.73it/s, loss=-8.79]\n",
      "  0%|                                                     | 0/4 [00:00<?, ?it/s]"
     ]
    },
    {
     "name": "stdout",
     "output_type": "stream",
     "text": [
      "Epoch  42/ 50 -- train_loss: -5.698 -- validation_loss: 522.755\n",
      "Saving model..\n"
     ]
    },
    {
     "name": "stderr",
     "output_type": "stream",
     "text": [
      "100%|█████████████████████████████████| 4/4 [00:01<00:00,  2.74it/s, loss=-6.18]\n",
      "  0%|                                                     | 0/4 [00:00<?, ?it/s]"
     ]
    },
    {
     "name": "stdout",
     "output_type": "stream",
     "text": [
      "Epoch  43/ 50 -- train_loss: -6.687 -- validation_loss: 516.743\n",
      "Saving model..\n"
     ]
    },
    {
     "name": "stderr",
     "output_type": "stream",
     "text": [
      "100%|█████████████████████████████████| 4/4 [00:01<00:00,  2.75it/s, loss=-7.57]\n",
      "  0%|                                                     | 0/4 [00:00<?, ?it/s]"
     ]
    },
    {
     "name": "stdout",
     "output_type": "stream",
     "text": [
      "Epoch  44/ 50 -- train_loss: -7.963 -- validation_loss: 510.720\n",
      "Saving model..\n"
     ]
    },
    {
     "name": "stderr",
     "output_type": "stream",
     "text": [
      "100%|█████████████████████████████████| 4/4 [00:01<00:00,  2.77it/s, loss=-7.67]\n",
      "  0%|                                                     | 0/4 [00:00<?, ?it/s]"
     ]
    },
    {
     "name": "stdout",
     "output_type": "stream",
     "text": [
      "Epoch  45/ 50 -- train_loss: -8.109 -- validation_loss: 505.211\n",
      "Saving model..\n"
     ]
    },
    {
     "name": "stderr",
     "output_type": "stream",
     "text": [
      "100%|█████████████████████████████████| 4/4 [00:01<00:00,  2.73it/s, loss=-9.72]\n",
      "  0%|                                                     | 0/4 [00:00<?, ?it/s]"
     ]
    },
    {
     "name": "stdout",
     "output_type": "stream",
     "text": [
      "Epoch  46/ 50 -- train_loss: -8.534 -- validation_loss: 499.858\n",
      "Saving model..\n"
     ]
    },
    {
     "name": "stderr",
     "output_type": "stream",
     "text": [
      "100%|█████████████████████████████████| 4/4 [00:01<00:00,  2.76it/s, loss=-7.11]\n",
      "  0%|                                                     | 0/4 [00:00<?, ?it/s]"
     ]
    },
    {
     "name": "stdout",
     "output_type": "stream",
     "text": [
      "Epoch  47/ 50 -- train_loss: -8.298 -- validation_loss: 494.461\n",
      "Saving model..\n"
     ]
    },
    {
     "name": "stderr",
     "output_type": "stream",
     "text": [
      "100%|█████████████████████████████████| 4/4 [00:01<00:00,  2.80it/s, loss=-8.51]\n",
      "  0%|                                                     | 0/4 [00:00<?, ?it/s]"
     ]
    },
    {
     "name": "stdout",
     "output_type": "stream",
     "text": [
      "Epoch  48/ 50 -- train_loss: -8.576 -- validation_loss: 489.105\n",
      "Saving model..\n"
     ]
    },
    {
     "name": "stderr",
     "output_type": "stream",
     "text": [
      "100%|█████████████████████████████████| 4/4 [00:01<00:00,  2.76it/s, loss=-8.32]\n",
      "  0%|                                                     | 0/4 [00:00<?, ?it/s]"
     ]
    },
    {
     "name": "stdout",
     "output_type": "stream",
     "text": [
      "Epoch  49/ 50 -- train_loss: -9.166 -- validation_loss: 483.926\n",
      "Saving model..\n"
     ]
    },
    {
     "name": "stderr",
     "output_type": "stream",
     "text": [
      "100%|█████████████████████████████████| 4/4 [00:01<00:00,  2.71it/s, loss=-9.37]\n"
     ]
    },
    {
     "name": "stdout",
     "output_type": "stream",
     "text": [
      "Epoch  50/ 50 -- train_loss: -10.110 -- validation_loss: 478.758\n",
      "Saving model..\n"
     ]
    },
    {
     "name": "stderr",
     "output_type": "stream",
     "text": [
      "\r",
      "  0%|                                                   | 0/200 [00:00<?, ?it/s]"
     ]
    },
    {
     "name": "stdout",
     "output_type": "stream",
     "text": [
      "###### Stop training after 50 epochs!\n",
      "Validation loss: 478.758\n",
      "Test loss:       476.485\n",
      "Loading dataset..\n",
      "No validation set passed\n",
      "No test set passed\n",
      "Creating directory experiment..\n",
      "Creating BNAF model..\n",
      "Creating optimizer..\n",
      "Creating scheduler..\n",
      "Training..\n"
     ]
    },
    {
     "name": "stderr",
     "output_type": "stream",
     "text": [
      "100%|█████████████████████████████| 200/200 [01:12<00:00,  2.76it/s, loss=-9.99]\n",
      "  0%|                                                   | 0/200 [00:00<?, ?it/s]"
     ]
    },
    {
     "name": "stdout",
     "output_type": "stream",
     "text": [
      "Epoch   1/ 50 -- train_loss: 11.646 -- validation_loss: 514.921\n",
      "Saving model..\n"
     ]
    },
    {
     "name": "stderr",
     "output_type": "stream",
     "text": [
      "100%|████████████████████████████| 200/200 [01:12<00:00,  2.75it/s, loss=-11.51]\n",
      "  0%|                                                   | 0/200 [00:00<?, ?it/s]"
     ]
    },
    {
     "name": "stdout",
     "output_type": "stream",
     "text": [
      "Epoch   2/ 50 -- train_loss: -13.525 -- validation_loss: 350.846\n",
      "Saving model..\n"
     ]
    },
    {
     "name": "stderr",
     "output_type": "stream",
     "text": [
      "100%|████████████████████████████| 200/200 [01:12<00:00,  2.75it/s, loss=-15.80]\n",
      "  0%|                                                   | 0/200 [00:00<?, ?it/s]"
     ]
    },
    {
     "name": "stdout",
     "output_type": "stream",
     "text": [
      "Epoch   3/ 50 -- train_loss: -18.452 -- validation_loss: 247.005\n",
      "Saving model..\n"
     ]
    },
    {
     "name": "stderr",
     "output_type": "stream",
     "text": [
      "100%|████████████████████████████| 200/200 [01:12<00:00,  2.75it/s, loss=-16.55]\n",
      "  0%|                                                   | 0/200 [00:00<?, ?it/s]"
     ]
    },
    {
     "name": "stdout",
     "output_type": "stream",
     "text": [
      "Epoch   4/ 50 -- train_loss: -20.658 -- validation_loss: 177.141\n",
      "Saving model..\n"
     ]
    },
    {
     "name": "stderr",
     "output_type": "stream",
     "text": [
      "100%|████████████████████████████| 200/200 [01:12<00:00,  2.75it/s, loss=-25.10]\n",
      "  0%|                                                   | 0/200 [00:00<?, ?it/s]"
     ]
    },
    {
     "name": "stdout",
     "output_type": "stream",
     "text": [
      "Epoch   5/ 50 -- train_loss: -21.069 -- validation_loss: 135.581\n",
      "Saving model..\n"
     ]
    },
    {
     "name": "stderr",
     "output_type": "stream",
     "text": [
      "100%|████████████████████████████| 200/200 [01:12<00:00,  2.75it/s, loss=-22.56]\n",
      "  0%|                                                   | 0/200 [00:00<?, ?it/s]"
     ]
    },
    {
     "name": "stdout",
     "output_type": "stream",
     "text": [
      "Epoch   6/ 50 -- train_loss: -22.899 -- validation_loss: 112.617\n",
      "Saving model..\n"
     ]
    },
    {
     "name": "stderr",
     "output_type": "stream",
     "text": [
      "100%|████████████████████████████| 200/200 [01:12<00:00,  2.75it/s, loss=-22.97]\n",
      "  0%|                                                   | 0/200 [00:00<?, ?it/s]"
     ]
    },
    {
     "name": "stdout",
     "output_type": "stream",
     "text": [
      "Epoch   7/ 50 -- train_loss: -23.835 -- validation_loss: 99.848\n",
      "Saving model..\n"
     ]
    },
    {
     "name": "stderr",
     "output_type": "stream",
     "text": [
      "100%|████████████████████████████| 200/200 [01:12<00:00,  2.74it/s, loss=-26.65]\n",
      "  0%|                                                   | 0/200 [00:00<?, ?it/s]"
     ]
    },
    {
     "name": "stdout",
     "output_type": "stream",
     "text": [
      "Epoch   8/ 50 -- train_loss: -26.236 -- validation_loss: 92.910\n",
      "Saving model..\n"
     ]
    },
    {
     "name": "stderr",
     "output_type": "stream",
     "text": [
      "100%|████████████████████████████| 200/200 [01:12<00:00,  2.75it/s, loss=-29.25]\n",
      "  0%|                                                   | 0/200 [00:00<?, ?it/s]"
     ]
    },
    {
     "name": "stdout",
     "output_type": "stream",
     "text": [
      "Epoch   9/ 50 -- train_loss: -27.948 -- validation_loss: 89.365\n",
      "Saving model..\n"
     ]
    },
    {
     "name": "stderr",
     "output_type": "stream",
     "text": [
      "100%|████████████████████████████| 200/200 [01:12<00:00,  2.74it/s, loss=-25.96]\n",
      "  0%|                                                   | 0/200 [00:00<?, ?it/s]"
     ]
    },
    {
     "name": "stdout",
     "output_type": "stream",
     "text": [
      "Epoch  10/ 50 -- train_loss: -28.439 -- validation_loss: 87.191\n",
      "Saving model..\n"
     ]
    },
    {
     "name": "stderr",
     "output_type": "stream",
     "text": [
      "100%|████████████████████████████| 200/200 [01:13<00:00,  2.73it/s, loss=-31.61]\n",
      "  0%|                                                   | 0/200 [00:00<?, ?it/s]"
     ]
    },
    {
     "name": "stdout",
     "output_type": "stream",
     "text": [
      "Epoch  11/ 50 -- train_loss: -30.661 -- validation_loss: 86.308\n",
      "Saving model..\n"
     ]
    },
    {
     "name": "stderr",
     "output_type": "stream",
     "text": [
      "100%|████████████████████████████| 200/200 [01:14<00:00,  2.68it/s, loss=-35.48]\n",
      "  0%|                                                   | 0/200 [00:00<?, ?it/s]"
     ]
    },
    {
     "name": "stdout",
     "output_type": "stream",
     "text": [
      "Epoch  12/ 50 -- train_loss: -31.326 -- validation_loss: 86.090\n",
      "Saving model..\n"
     ]
    },
    {
     "name": "stderr",
     "output_type": "stream",
     "text": [
      "100%|████████████████████████████| 200/200 [01:14<00:00,  2.70it/s, loss=-33.16]\n",
      "  0%|                                                   | 0/200 [00:00<?, ?it/s]"
     ]
    },
    {
     "name": "stdout",
     "output_type": "stream",
     "text": [
      "Epoch  13/ 50 -- train_loss: -31.050 -- validation_loss: 85.820\n",
      "Saving model..\n"
     ]
    },
    {
     "name": "stderr",
     "output_type": "stream",
     "text": [
      "100%|████████████████████████████| 200/200 [01:13<00:00,  2.70it/s, loss=-39.14]\n",
      "  0%|                                                   | 0/200 [00:00<?, ?it/s]"
     ]
    },
    {
     "name": "stdout",
     "output_type": "stream",
     "text": [
      "Epoch  14/ 50 -- train_loss: -32.834 -- validation_loss: 85.838\n"
     ]
    },
    {
     "name": "stderr",
     "output_type": "stream",
     "text": [
      "100%|████████████████████████████| 200/200 [01:13<00:00,  2.71it/s, loss=-34.74]\n",
      "  0%|                                                   | 0/200 [00:00<?, ?it/s]"
     ]
    },
    {
     "name": "stdout",
     "output_type": "stream",
     "text": [
      "Epoch  15/ 50 -- train_loss: -34.208 -- validation_loss: 86.271\n"
     ]
    },
    {
     "name": "stderr",
     "output_type": "stream",
     "text": [
      "100%|████████████████████████████| 200/200 [01:13<00:00,  2.71it/s, loss=-40.44]\n",
      "  0%|                                                   | 0/200 [00:00<?, ?it/s]"
     ]
    },
    {
     "name": "stdout",
     "output_type": "stream",
     "text": [
      "Epoch  16/ 50 -- train_loss: -34.727 -- validation_loss: 86.745\n"
     ]
    },
    {
     "name": "stderr",
     "output_type": "stream",
     "text": [
      "100%|████████████████████████████| 200/200 [01:13<00:00,  2.71it/s, loss=-33.01]\n",
      "  0%|                                                   | 0/200 [00:00<?, ?it/s]"
     ]
    },
    {
     "name": "stdout",
     "output_type": "stream",
     "text": [
      "Epoch  17/ 50 -- train_loss: -35.601 -- validation_loss: 87.295\n"
     ]
    },
    {
     "name": "stderr",
     "output_type": "stream",
     "text": [
      "100%|████████████████████████████| 200/200 [01:13<00:00,  2.70it/s, loss=-32.36]\n",
      "  0%|                                                   | 0/200 [00:00<?, ?it/s]"
     ]
    },
    {
     "name": "stdout",
     "output_type": "stream",
     "text": [
      "Epoch  18/ 50 -- train_loss: -36.621 -- validation_loss: 87.889\n"
     ]
    },
    {
     "name": "stderr",
     "output_type": "stream",
     "text": [
      "100%|████████████████████████████| 200/200 [01:14<00:00,  2.70it/s, loss=-35.74]\n",
      "  0%|                                                   | 0/200 [00:00<?, ?it/s]"
     ]
    },
    {
     "name": "stdout",
     "output_type": "stream",
     "text": [
      "Epoch  19/ 50 -- train_loss: -35.825 -- validation_loss: 88.469\n"
     ]
    },
    {
     "name": "stderr",
     "output_type": "stream",
     "text": [
      "100%|████████████████████████████| 200/200 [01:14<00:00,  2.70it/s, loss=-36.18]\n",
      "  0%|                                                   | 0/200 [00:00<?, ?it/s]"
     ]
    },
    {
     "name": "stdout",
     "output_type": "stream",
     "text": [
      "Epoch  20/ 50 -- train_loss: -36.665 -- validation_loss: 89.049\n"
     ]
    },
    {
     "name": "stderr",
     "output_type": "stream",
     "text": [
      "100%|████████████████████████████| 200/200 [01:14<00:00,  2.70it/s, loss=-40.11]\n",
      "  0%|                                                   | 0/200 [00:00<?, ?it/s]"
     ]
    },
    {
     "name": "stdout",
     "output_type": "stream",
     "text": [
      "Epoch  21/ 50 -- train_loss: -36.399 -- validation_loss: 89.535\n"
     ]
    },
    {
     "name": "stderr",
     "output_type": "stream",
     "text": [
      "100%|████████████████████████████| 200/200 [01:14<00:00,  2.69it/s, loss=-39.95]\n",
      "  0%|                                                   | 0/200 [00:00<?, ?it/s]"
     ]
    },
    {
     "name": "stdout",
     "output_type": "stream",
     "text": [
      "Epoch  22/ 50 -- train_loss: -39.214 -- validation_loss: 90.339\n"
     ]
    },
    {
     "name": "stderr",
     "output_type": "stream",
     "text": [
      "100%|████████████████████████████| 200/200 [01:14<00:00,  2.69it/s, loss=-41.07]\n",
      "  0%|                                                   | 0/200 [00:00<?, ?it/s]"
     ]
    },
    {
     "name": "stdout",
     "output_type": "stream",
     "text": [
      "Epoch  23/ 50 -- train_loss: -40.083 -- validation_loss: 90.995\n"
     ]
    },
    {
     "name": "stderr",
     "output_type": "stream",
     "text": [
      "100%|████████████████████████████| 200/200 [01:14<00:00,  2.68it/s, loss=-39.60]\n",
      "  0%|                                                   | 0/200 [00:00<?, ?it/s]"
     ]
    },
    {
     "name": "stdout",
     "output_type": "stream",
     "text": [
      "Epoch  24/ 50 -- train_loss: -40.221 -- validation_loss: 91.869\n"
     ]
    },
    {
     "name": "stderr",
     "output_type": "stream",
     "text": [
      "100%|████████████████████████████| 200/200 [01:14<00:00,  2.68it/s, loss=-37.54]\n",
      "  0%|                                                   | 0/200 [00:00<?, ?it/s]"
     ]
    },
    {
     "name": "stdout",
     "output_type": "stream",
     "text": [
      "Epoch  25/ 50 -- train_loss: -41.284 -- validation_loss: 92.666\n"
     ]
    },
    {
     "name": "stderr",
     "output_type": "stream",
     "text": [
      "100%|████████████████████████████| 200/200 [01:14<00:00,  2.68it/s, loss=-39.81]\n",
      "  0%|                                                   | 0/200 [00:00<?, ?it/s]"
     ]
    },
    {
     "name": "stdout",
     "output_type": "stream",
     "text": [
      "Epoch  26/ 50 -- train_loss: -42.738 -- validation_loss: 93.369\n"
     ]
    },
    {
     "name": "stderr",
     "output_type": "stream",
     "text": [
      "100%|████████████████████████████| 200/200 [01:14<00:00,  2.67it/s, loss=-42.25]\n",
      "  0%|                                                   | 0/200 [00:00<?, ?it/s]"
     ]
    },
    {
     "name": "stdout",
     "output_type": "stream",
     "text": [
      "Epoch  27/ 50 -- train_loss: -40.522 -- validation_loss: 94.095\n"
     ]
    },
    {
     "name": "stderr",
     "output_type": "stream",
     "text": [
      "100%|████████████████████████████| 200/200 [01:14<00:00,  2.67it/s, loss=-42.64]\n",
      "  0%|                                                   | 0/200 [00:00<?, ?it/s]"
     ]
    },
    {
     "name": "stdout",
     "output_type": "stream",
     "text": [
      "Epoch  28/ 50 -- train_loss: -42.814 -- validation_loss: 94.894\n"
     ]
    },
    {
     "name": "stderr",
     "output_type": "stream",
     "text": [
      "100%|████████████████████████████| 200/200 [01:15<00:00,  2.65it/s, loss=-43.15]\n",
      "  0%|                                                   | 0/200 [00:00<?, ?it/s]"
     ]
    },
    {
     "name": "stdout",
     "output_type": "stream",
     "text": [
      "Epoch  29/ 50 -- train_loss: -43.849 -- validation_loss: 95.776\n"
     ]
    },
    {
     "name": "stderr",
     "output_type": "stream",
     "text": [
      "100%|████████████████████████████| 200/200 [01:15<00:00,  2.66it/s, loss=-50.79]\n",
      "  0%|                                                   | 0/200 [00:00<?, ?it/s]"
     ]
    },
    {
     "name": "stdout",
     "output_type": "stream",
     "text": [
      "Epoch  30/ 50 -- train_loss: -44.413 -- validation_loss: 96.471\n"
     ]
    },
    {
     "name": "stderr",
     "output_type": "stream",
     "text": [
      "100%|████████████████████████████| 200/200 [01:15<00:00,  2.67it/s, loss=-47.97]\n",
      "  0%|                                                   | 0/200 [00:00<?, ?it/s]"
     ]
    },
    {
     "name": "stdout",
     "output_type": "stream",
     "text": [
      "Epoch  31/ 50 -- train_loss: -43.535 -- validation_loss: 97.108\n"
     ]
    },
    {
     "name": "stderr",
     "output_type": "stream",
     "text": [
      "100%|████████████████████████████| 200/200 [01:15<00:00,  2.66it/s, loss=-43.23]\n",
      "  0%|                                                   | 0/200 [00:00<?, ?it/s]"
     ]
    },
    {
     "name": "stdout",
     "output_type": "stream",
     "text": [
      "Epoch  32/ 50 -- train_loss: -42.685 -- validation_loss: 97.302\n"
     ]
    },
    {
     "name": "stderr",
     "output_type": "stream",
     "text": [
      "100%|████████████████████████████| 200/200 [01:14<00:00,  2.67it/s, loss=-46.62]\n",
      "  0%|                                                   | 0/200 [00:00<?, ?it/s]"
     ]
    },
    {
     "name": "stdout",
     "output_type": "stream",
     "text": [
      "Epoch  33/ 50 -- train_loss: -44.708 -- validation_loss: 97.496\n"
     ]
    },
    {
     "name": "stderr",
     "output_type": "stream",
     "text": [
      "100%|████████████████████████████| 200/200 [01:15<00:00,  2.66it/s, loss=-44.76]\n",
      "  0%|                                                   | 0/200 [00:00<?, ?it/s]"
     ]
    },
    {
     "name": "stdout",
     "output_type": "stream",
     "text": [
      "Epoch  34/ 50 -- train_loss: -45.225 -- validation_loss: 98.054\n",
      "Epoch 00034: reducing learning rate of group 0 to 5.0000e-03.\n"
     ]
    },
    {
     "name": "stderr",
     "output_type": "stream",
     "text": [
      "100%|████████████████████████████| 200/200 [01:14<00:00,  2.67it/s, loss=-53.48]\n",
      "  0%|                                                   | 0/200 [00:00<?, ?it/s]"
     ]
    },
    {
     "name": "stdout",
     "output_type": "stream",
     "text": [
      "Epoch  35/ 50 -- train_loss: -51.972 -- validation_loss: 99.415\n"
     ]
    },
    {
     "name": "stderr",
     "output_type": "stream",
     "text": [
      "100%|████████████████████████████| 200/200 [01:14<00:00,  2.67it/s, loss=-50.58]\n",
      "  0%|                                                   | 0/200 [00:00<?, ?it/s]"
     ]
    },
    {
     "name": "stdout",
     "output_type": "stream",
     "text": [
      "Epoch  36/ 50 -- train_loss: -53.513 -- validation_loss: 101.188\n"
     ]
    },
    {
     "name": "stderr",
     "output_type": "stream",
     "text": [
      "100%|████████████████████████████| 200/200 [01:14<00:00,  2.67it/s, loss=-51.30]\n",
      "  0%|                                                   | 0/200 [00:00<?, ?it/s]"
     ]
    },
    {
     "name": "stdout",
     "output_type": "stream",
     "text": [
      "Epoch  37/ 50 -- train_loss: -54.345 -- validation_loss: 102.623\n"
     ]
    },
    {
     "name": "stderr",
     "output_type": "stream",
     "text": [
      "100%|████████████████████████████| 200/200 [01:14<00:00,  2.68it/s, loss=-57.85]\n",
      "  0%|                                                   | 0/200 [00:00<?, ?it/s]"
     ]
    },
    {
     "name": "stdout",
     "output_type": "stream",
     "text": [
      "Epoch  38/ 50 -- train_loss: -55.095 -- validation_loss: 103.798\n"
     ]
    },
    {
     "name": "stderr",
     "output_type": "stream",
     "text": [
      "100%|████████████████████████████| 200/200 [01:14<00:00,  2.67it/s, loss=-51.86]\n",
      "  0%|                                                   | 0/200 [00:00<?, ?it/s]"
     ]
    },
    {
     "name": "stdout",
     "output_type": "stream",
     "text": [
      "Epoch  39/ 50 -- train_loss: -55.379 -- validation_loss: 104.743\n"
     ]
    },
    {
     "name": "stderr",
     "output_type": "stream",
     "text": [
      "100%|████████████████████████████| 200/200 [01:14<00:00,  2.68it/s, loss=-58.78]\n",
      "  0%|                                                   | 0/200 [00:00<?, ?it/s]"
     ]
    },
    {
     "name": "stdout",
     "output_type": "stream",
     "text": [
      "Epoch  40/ 50 -- train_loss: -55.375 -- validation_loss: 105.501\n"
     ]
    },
    {
     "name": "stderr",
     "output_type": "stream",
     "text": [
      "100%|████████████████████████████| 200/200 [01:14<00:00,  2.68it/s, loss=-52.11]\n",
      "  0%|                                                   | 0/200 [00:00<?, ?it/s]"
     ]
    },
    {
     "name": "stdout",
     "output_type": "stream",
     "text": [
      "Epoch  41/ 50 -- train_loss: -55.534 -- validation_loss: 106.160\n"
     ]
    },
    {
     "name": "stderr",
     "output_type": "stream",
     "text": [
      "100%|████████████████████████████| 200/200 [01:14<00:00,  2.69it/s, loss=-52.94]\n",
      "  0%|                                                   | 0/200 [00:00<?, ?it/s]"
     ]
    },
    {
     "name": "stdout",
     "output_type": "stream",
     "text": [
      "Epoch  42/ 50 -- train_loss: -53.979 -- validation_loss: 106.644\n"
     ]
    },
    {
     "name": "stderr",
     "output_type": "stream",
     "text": [
      "100%|████████████████████████████| 200/200 [01:14<00:00,  2.68it/s, loss=-49.99]\n",
      "  0%|                                                   | 0/200 [00:00<?, ?it/s]"
     ]
    },
    {
     "name": "stdout",
     "output_type": "stream",
     "text": [
      "Epoch  43/ 50 -- train_loss: -54.517 -- validation_loss: 107.027\n"
     ]
    },
    {
     "name": "stderr",
     "output_type": "stream",
     "text": [
      "100%|████████████████████████████| 200/200 [01:14<00:00,  2.67it/s, loss=-56.48]\n",
      "  0%|                                                   | 0/200 [00:00<?, ?it/s]"
     ]
    },
    {
     "name": "stdout",
     "output_type": "stream",
     "text": [
      "Epoch  44/ 50 -- train_loss: -54.753 -- validation_loss: 107.270\n"
     ]
    },
    {
     "name": "stderr",
     "output_type": "stream",
     "text": [
      "100%|████████████████████████████| 200/200 [01:14<00:00,  2.68it/s, loss=-58.54]\n",
      "  0%|                                                   | 0/200 [00:00<?, ?it/s]"
     ]
    },
    {
     "name": "stdout",
     "output_type": "stream",
     "text": [
      "Epoch  45/ 50 -- train_loss: -55.629 -- validation_loss: 107.665\n"
     ]
    },
    {
     "name": "stderr",
     "output_type": "stream",
     "text": [
      "100%|████████████████████████████| 200/200 [01:14<00:00,  2.68it/s, loss=-55.75]\n",
      "  0%|                                                   | 0/200 [00:00<?, ?it/s]"
     ]
    },
    {
     "name": "stdout",
     "output_type": "stream",
     "text": [
      "Epoch  46/ 50 -- train_loss: -54.769 -- validation_loss: 107.932\n"
     ]
    },
    {
     "name": "stderr",
     "output_type": "stream",
     "text": [
      "100%|████████████████████████████| 200/200 [01:14<00:00,  2.68it/s, loss=-57.91]\n",
      "  0%|                                                   | 0/200 [00:00<?, ?it/s]"
     ]
    },
    {
     "name": "stdout",
     "output_type": "stream",
     "text": [
      "Epoch  47/ 50 -- train_loss: -55.738 -- validation_loss: 108.246\n"
     ]
    },
    {
     "name": "stderr",
     "output_type": "stream",
     "text": [
      "100%|████████████████████████████| 200/200 [01:14<00:00,  2.68it/s, loss=-61.22]\n",
      "  0%|                                                   | 0/200 [00:00<?, ?it/s]"
     ]
    },
    {
     "name": "stdout",
     "output_type": "stream",
     "text": [
      "Epoch  48/ 50 -- train_loss: -56.255 -- validation_loss: 108.563\n"
     ]
    },
    {
     "name": "stderr",
     "output_type": "stream",
     "text": [
      "100%|████████████████████████████| 200/200 [01:14<00:00,  2.69it/s, loss=-55.28]\n",
      "  0%|                                                   | 0/200 [00:00<?, ?it/s]"
     ]
    },
    {
     "name": "stdout",
     "output_type": "stream",
     "text": [
      "Epoch  49/ 50 -- train_loss: -56.339 -- validation_loss: 108.998\n"
     ]
    },
    {
     "name": "stderr",
     "output_type": "stream",
     "text": [
      "100%|████████████████████████████| 200/200 [01:14<00:00,  2.69it/s, loss=-55.05]\n"
     ]
    },
    {
     "name": "stdout",
     "output_type": "stream",
     "text": [
      "Epoch  50/ 50 -- train_loss: -56.045 -- validation_loss: 109.296\n",
      "###### Stop training after 50 epochs!\n",
      "Validation loss: 109.296\n",
      "Test loss:       109.226\n"
     ]
    },
    {
     "name": "stderr",
     "output_type": "stream",
     "text": [
      "\r",
      "  0%|                                                     | 0/4 [00:00<?, ?it/s]"
     ]
    },
    {
     "name": "stdout",
     "output_type": "stream",
     "text": [
      "Loading dataset..\n",
      "Creating directory experiment..\n",
      "Creating BNAF model..\n",
      "Creating optimizer..\n",
      "Creating scheduler..\n",
      "Training..\n"
     ]
    },
    {
     "name": "stderr",
     "output_type": "stream",
     "text": [
      "100%|████████████████████████████████| 4/4 [00:01<00:00,  2.67it/s, loss=147.95]\n",
      "  0%|                                                     | 0/4 [00:00<?, ?it/s]"
     ]
    },
    {
     "name": "stdout",
     "output_type": "stream",
     "text": [
      "Epoch   1/ 50 -- train_loss: 167.916 -- validation_loss: 981.408\n",
      "Saving model..\n"
     ]
    },
    {
     "name": "stderr",
     "output_type": "stream",
     "text": [
      "100%|████████████████████████████████| 4/4 [00:01<00:00,  2.77it/s, loss=112.49]\n",
      "  0%|                                                     | 0/4 [00:00<?, ?it/s]"
     ]
    },
    {
     "name": "stdout",
     "output_type": "stream",
     "text": [
      "Epoch   2/ 50 -- train_loss: 129.816 -- validation_loss: 966.784\n",
      "Saving model..\n"
     ]
    },
    {
     "name": "stderr",
     "output_type": "stream",
     "text": [
      "100%|█████████████████████████████████| 4/4 [00:01<00:00,  2.76it/s, loss=80.70]\n",
      "  0%|                                                     | 0/4 [00:00<?, ?it/s]"
     ]
    },
    {
     "name": "stdout",
     "output_type": "stream",
     "text": [
      "Epoch   3/ 50 -- train_loss: 91.159 -- validation_loss: 951.532\n",
      "Saving model..\n"
     ]
    },
    {
     "name": "stderr",
     "output_type": "stream",
     "text": [
      "100%|█████████████████████████████████| 4/4 [00:01<00:00,  2.79it/s, loss=60.19]\n",
      "  0%|                                                     | 0/4 [00:00<?, ?it/s]"
     ]
    },
    {
     "name": "stdout",
     "output_type": "stream",
     "text": [
      "Epoch   4/ 50 -- train_loss: 64.694 -- validation_loss: 935.765\n",
      "Saving model..\n"
     ]
    },
    {
     "name": "stderr",
     "output_type": "stream",
     "text": [
      "100%|█████████████████████████████████| 4/4 [00:01<00:00,  2.59it/s, loss=41.61]\n",
      "  0%|                                                     | 0/4 [00:00<?, ?it/s]"
     ]
    },
    {
     "name": "stdout",
     "output_type": "stream",
     "text": [
      "Epoch   5/ 50 -- train_loss: 46.931 -- validation_loss: 919.992\n",
      "Saving model..\n"
     ]
    },
    {
     "name": "stderr",
     "output_type": "stream",
     "text": [
      "100%|█████████████████████████████████| 4/4 [00:01<00:00,  2.74it/s, loss=31.18]\n",
      "  0%|                                                     | 0/4 [00:00<?, ?it/s]"
     ]
    },
    {
     "name": "stdout",
     "output_type": "stream",
     "text": [
      "Epoch   6/ 50 -- train_loss: 36.146 -- validation_loss: 903.961\n",
      "Saving model..\n"
     ]
    },
    {
     "name": "stderr",
     "output_type": "stream",
     "text": [
      "100%|█████████████████████████████████| 4/4 [00:01<00:00,  2.77it/s, loss=28.39]\n",
      "  0%|                                                     | 0/4 [00:00<?, ?it/s]"
     ]
    },
    {
     "name": "stdout",
     "output_type": "stream",
     "text": [
      "Epoch   7/ 50 -- train_loss: 29.571 -- validation_loss: 888.237\n",
      "Saving model..\n"
     ]
    },
    {
     "name": "stderr",
     "output_type": "stream",
     "text": [
      "100%|█████████████████████████████████| 4/4 [00:01<00:00,  2.75it/s, loss=22.62]\n",
      "  0%|                                                     | 0/4 [00:00<?, ?it/s]"
     ]
    },
    {
     "name": "stdout",
     "output_type": "stream",
     "text": [
      "Epoch   8/ 50 -- train_loss: 24.913 -- validation_loss: 872.714\n",
      "Saving model..\n"
     ]
    },
    {
     "name": "stderr",
     "output_type": "stream",
     "text": [
      "100%|█████████████████████████████████| 4/4 [00:01<00:00,  2.76it/s, loss=18.94]\n",
      "  0%|                                                     | 0/4 [00:00<?, ?it/s]"
     ]
    },
    {
     "name": "stdout",
     "output_type": "stream",
     "text": [
      "Epoch   9/ 50 -- train_loss: 21.181 -- validation_loss: 857.477\n",
      "Saving model..\n"
     ]
    },
    {
     "name": "stderr",
     "output_type": "stream",
     "text": [
      "100%|█████████████████████████████████| 4/4 [00:01<00:00,  2.71it/s, loss=18.84]\n",
      "  0%|                                                     | 0/4 [00:00<?, ?it/s]"
     ]
    },
    {
     "name": "stdout",
     "output_type": "stream",
     "text": [
      "Epoch  10/ 50 -- train_loss: 18.516 -- validation_loss: 842.614\n",
      "Saving model..\n"
     ]
    },
    {
     "name": "stderr",
     "output_type": "stream",
     "text": [
      "100%|█████████████████████████████████| 4/4 [00:01<00:00,  2.76it/s, loss=13.39]\n",
      "  0%|                                                     | 0/4 [00:00<?, ?it/s]"
     ]
    },
    {
     "name": "stdout",
     "output_type": "stream",
     "text": [
      "Epoch  11/ 50 -- train_loss: 15.859 -- validation_loss: 828.272\n",
      "Saving model..\n"
     ]
    },
    {
     "name": "stderr",
     "output_type": "stream",
     "text": [
      "100%|█████████████████████████████████| 4/4 [00:01<00:00,  2.75it/s, loss=13.94]\n",
      "  0%|                                                     | 0/4 [00:00<?, ?it/s]"
     ]
    },
    {
     "name": "stdout",
     "output_type": "stream",
     "text": [
      "Epoch  12/ 50 -- train_loss: 13.641 -- validation_loss: 814.188\n",
      "Saving model..\n"
     ]
    },
    {
     "name": "stderr",
     "output_type": "stream",
     "text": [
      "100%|█████████████████████████████████| 4/4 [00:01<00:00,  2.75it/s, loss=11.72]\n",
      "  0%|                                                     | 0/4 [00:00<?, ?it/s]"
     ]
    },
    {
     "name": "stdout",
     "output_type": "stream",
     "text": [
      "Epoch  13/ 50 -- train_loss: 12.218 -- validation_loss: 800.482\n",
      "Saving model..\n"
     ]
    },
    {
     "name": "stderr",
     "output_type": "stream",
     "text": [
      "100%|█████████████████████████████████| 4/4 [00:01<00:00,  2.78it/s, loss=12.38]\n",
      "  0%|                                                     | 0/4 [00:00<?, ?it/s]"
     ]
    },
    {
     "name": "stdout",
     "output_type": "stream",
     "text": [
      "Epoch  14/ 50 -- train_loss: 10.325 -- validation_loss: 787.305\n",
      "Saving model..\n"
     ]
    },
    {
     "name": "stderr",
     "output_type": "stream",
     "text": [
      "100%|██████████████████████████████████| 4/4 [00:01<00:00,  2.78it/s, loss=9.95]\n",
      "  0%|                                                     | 0/4 [00:00<?, ?it/s]"
     ]
    },
    {
     "name": "stdout",
     "output_type": "stream",
     "text": [
      "Epoch  15/ 50 -- train_loss: 9.283 -- validation_loss: 774.407\n",
      "Saving model..\n"
     ]
    },
    {
     "name": "stderr",
     "output_type": "stream",
     "text": [
      "100%|█████████████████████████████████| 4/4 [00:01<00:00,  2.78it/s, loss=11.15]\n",
      "  0%|                                                     | 0/4 [00:00<?, ?it/s]"
     ]
    },
    {
     "name": "stdout",
     "output_type": "stream",
     "text": [
      "Epoch  16/ 50 -- train_loss: 7.811 -- validation_loss: 761.684\n",
      "Saving model..\n"
     ]
    },
    {
     "name": "stderr",
     "output_type": "stream",
     "text": [
      "100%|██████████████████████████████████| 4/4 [00:01<00:00,  2.77it/s, loss=7.83]\n",
      "  0%|                                                     | 0/4 [00:00<?, ?it/s]"
     ]
    },
    {
     "name": "stdout",
     "output_type": "stream",
     "text": [
      "Epoch  17/ 50 -- train_loss: 6.393 -- validation_loss: 749.630\n",
      "Saving model..\n"
     ]
    },
    {
     "name": "stderr",
     "output_type": "stream",
     "text": [
      "100%|██████████████████████████████████| 4/4 [00:01<00:00,  2.72it/s, loss=3.92]\n",
      "  0%|                                                     | 0/4 [00:00<?, ?it/s]"
     ]
    },
    {
     "name": "stdout",
     "output_type": "stream",
     "text": [
      "Epoch  18/ 50 -- train_loss: 5.199 -- validation_loss: 737.718\n",
      "Saving model..\n"
     ]
    },
    {
     "name": "stderr",
     "output_type": "stream",
     "text": [
      "100%|██████████████████████████████████| 4/4 [00:01<00:00,  2.72it/s, loss=3.83]\n",
      "  0%|                                                     | 0/4 [00:00<?, ?it/s]"
     ]
    },
    {
     "name": "stdout",
     "output_type": "stream",
     "text": [
      "Epoch  19/ 50 -- train_loss: 4.175 -- validation_loss: 726.324\n",
      "Saving model..\n"
     ]
    },
    {
     "name": "stderr",
     "output_type": "stream",
     "text": [
      "100%|██████████████████████████████████| 4/4 [00:01<00:00,  2.72it/s, loss=4.83]\n",
      "  0%|                                                     | 0/4 [00:00<?, ?it/s]"
     ]
    },
    {
     "name": "stdout",
     "output_type": "stream",
     "text": [
      "Epoch  20/ 50 -- train_loss: 3.550 -- validation_loss: 715.210\n",
      "Saving model..\n"
     ]
    },
    {
     "name": "stderr",
     "output_type": "stream",
     "text": [
      "100%|██████████████████████████████████| 4/4 [00:01<00:00,  2.76it/s, loss=1.09]\n",
      "  0%|                                                     | 0/4 [00:00<?, ?it/s]"
     ]
    },
    {
     "name": "stdout",
     "output_type": "stream",
     "text": [
      "Epoch  21/ 50 -- train_loss: 2.933 -- validation_loss: 704.607\n",
      "Saving model..\n"
     ]
    },
    {
     "name": "stderr",
     "output_type": "stream",
     "text": [
      "100%|██████████████████████████████████| 4/4 [00:01<00:00,  2.74it/s, loss=2.87]\n",
      "  0%|                                                     | 0/4 [00:00<?, ?it/s]"
     ]
    },
    {
     "name": "stdout",
     "output_type": "stream",
     "text": [
      "Epoch  22/ 50 -- train_loss: 2.172 -- validation_loss: 694.174\n",
      "Saving model..\n"
     ]
    },
    {
     "name": "stderr",
     "output_type": "stream",
     "text": [
      "100%|█████████████████████████████████| 4/4 [00:01<00:00,  2.77it/s, loss=-0.18]\n",
      "  0%|                                                     | 0/4 [00:00<?, ?it/s]"
     ]
    },
    {
     "name": "stdout",
     "output_type": "stream",
     "text": [
      "Epoch  23/ 50 -- train_loss: 1.452 -- validation_loss: 684.152\n",
      "Saving model..\n"
     ]
    },
    {
     "name": "stderr",
     "output_type": "stream",
     "text": [
      "100%|█████████████████████████████████| 4/4 [00:01<00:00,  2.76it/s, loss=-2.24]\n"
     ]
    },
    {
     "name": "stdout",
     "output_type": "stream",
     "text": [
      "Epoch  24/ 50 -- train_loss: 0.383 -- validation_loss: 674.332\n",
      "Saving model..\n"
     ]
    },
    {
     "name": "stderr",
     "output_type": "stream",
     "text": [
      "100%|██████████████████████████████████| 4/4 [00:01<00:00,  2.79it/s, loss=0.62]\n",
      "  0%|                                                     | 0/4 [00:00<?, ?it/s]"
     ]
    },
    {
     "name": "stdout",
     "output_type": "stream",
     "text": [
      "Epoch  25/ 50 -- train_loss: -0.441 -- validation_loss: 664.879\n",
      "Saving model..\n"
     ]
    },
    {
     "name": "stderr",
     "output_type": "stream",
     "text": [
      "100%|█████████████████████████████████| 4/4 [00:01<00:00,  2.71it/s, loss=-0.90]\n",
      "  0%|                                                     | 0/4 [00:00<?, ?it/s]"
     ]
    },
    {
     "name": "stdout",
     "output_type": "stream",
     "text": [
      "Epoch  26/ 50 -- train_loss: -1.204 -- validation_loss: 655.446\n",
      "Saving model..\n"
     ]
    },
    {
     "name": "stderr",
     "output_type": "stream",
     "text": [
      "100%|█████████████████████████████████| 4/4 [00:01<00:00,  2.72it/s, loss=-0.66]\n",
      "  0%|                                                     | 0/4 [00:00<?, ?it/s]"
     ]
    },
    {
     "name": "stdout",
     "output_type": "stream",
     "text": [
      "Epoch  27/ 50 -- train_loss: -1.495 -- validation_loss: 646.415\n",
      "Saving model..\n"
     ]
    },
    {
     "name": "stderr",
     "output_type": "stream",
     "text": [
      "100%|█████████████████████████████████| 4/4 [00:01<00:00,  2.76it/s, loss=-3.22]\n",
      "  0%|                                                     | 0/4 [00:00<?, ?it/s]"
     ]
    },
    {
     "name": "stdout",
     "output_type": "stream",
     "text": [
      "Epoch  28/ 50 -- train_loss: -2.332 -- validation_loss: 637.849\n",
      "Saving model..\n"
     ]
    },
    {
     "name": "stderr",
     "output_type": "stream",
     "text": [
      "100%|█████████████████████████████████| 4/4 [00:01<00:00,  2.77it/s, loss=-4.57]\n",
      "  0%|                                                     | 0/4 [00:00<?, ?it/s]"
     ]
    },
    {
     "name": "stdout",
     "output_type": "stream",
     "text": [
      "Epoch  29/ 50 -- train_loss: -2.829 -- validation_loss: 629.374\n",
      "Saving model..\n"
     ]
    },
    {
     "name": "stderr",
     "output_type": "stream",
     "text": [
      "100%|█████████████████████████████████| 4/4 [00:01<00:00,  2.74it/s, loss=-2.18]\n",
      "  0%|                                                     | 0/4 [00:00<?, ?it/s]"
     ]
    },
    {
     "name": "stdout",
     "output_type": "stream",
     "text": [
      "Epoch  30/ 50 -- train_loss: -3.482 -- validation_loss: 621.098\n",
      "Saving model..\n"
     ]
    },
    {
     "name": "stderr",
     "output_type": "stream",
     "text": [
      "100%|█████████████████████████████████| 4/4 [00:01<00:00,  2.76it/s, loss=-3.24]\n",
      "  0%|                                                     | 0/4 [00:00<?, ?it/s]"
     ]
    },
    {
     "name": "stdout",
     "output_type": "stream",
     "text": [
      "Epoch  31/ 50 -- train_loss: -3.451 -- validation_loss: 613.186\n",
      "Saving model..\n"
     ]
    },
    {
     "name": "stderr",
     "output_type": "stream",
     "text": [
      "100%|█████████████████████████████████| 4/4 [00:01<00:00,  2.74it/s, loss=-5.87]\n",
      "  0%|                                                     | 0/4 [00:00<?, ?it/s]"
     ]
    },
    {
     "name": "stdout",
     "output_type": "stream",
     "text": [
      "Epoch  32/ 50 -- train_loss: -4.186 -- validation_loss: 605.443\n",
      "Saving model..\n"
     ]
    },
    {
     "name": "stderr",
     "output_type": "stream",
     "text": [
      "100%|█████████████████████████████████| 4/4 [00:01<00:00,  2.77it/s, loss=-1.96]\n",
      "  0%|                                                     | 0/4 [00:00<?, ?it/s]"
     ]
    },
    {
     "name": "stdout",
     "output_type": "stream",
     "text": [
      "Epoch  33/ 50 -- train_loss: -4.901 -- validation_loss: 597.955\n",
      "Saving model..\n"
     ]
    },
    {
     "name": "stderr",
     "output_type": "stream",
     "text": [
      "100%|█████████████████████████████████| 4/4 [00:01<00:00,  2.72it/s, loss=-6.18]\n",
      "  0%|                                                     | 0/4 [00:00<?, ?it/s]"
     ]
    },
    {
     "name": "stdout",
     "output_type": "stream",
     "text": [
      "Epoch  34/ 50 -- train_loss: -5.344 -- validation_loss: 590.407\n",
      "Saving model..\n"
     ]
    },
    {
     "name": "stderr",
     "output_type": "stream",
     "text": [
      "100%|█████████████████████████████████| 4/4 [00:01<00:00,  2.71it/s, loss=-7.53]\n",
      "  0%|                                                     | 0/4 [00:00<?, ?it/s]"
     ]
    },
    {
     "name": "stdout",
     "output_type": "stream",
     "text": [
      "Epoch  35/ 50 -- train_loss: -5.453 -- validation_loss: 583.103\n",
      "Saving model..\n"
     ]
    },
    {
     "name": "stderr",
     "output_type": "stream",
     "text": [
      "100%|█████████████████████████████████| 4/4 [00:01<00:00,  2.77it/s, loss=-3.71]\n",
      "  0%|                                                     | 0/4 [00:00<?, ?it/s]"
     ]
    },
    {
     "name": "stdout",
     "output_type": "stream",
     "text": [
      "Epoch  36/ 50 -- train_loss: -6.391 -- validation_loss: 576.326\n",
      "Saving model..\n"
     ]
    },
    {
     "name": "stderr",
     "output_type": "stream",
     "text": [
      "100%|█████████████████████████████████| 4/4 [00:01<00:00,  2.77it/s, loss=-9.24]\n",
      "  0%|                                                     | 0/4 [00:00<?, ?it/s]"
     ]
    },
    {
     "name": "stdout",
     "output_type": "stream",
     "text": [
      "Epoch  37/ 50 -- train_loss: -6.446 -- validation_loss: 569.634\n",
      "Saving model..\n"
     ]
    },
    {
     "name": "stderr",
     "output_type": "stream",
     "text": [
      "100%|█████████████████████████████████| 4/4 [00:01<00:00,  2.73it/s, loss=-6.74]\n",
      "  0%|                                                     | 0/4 [00:00<?, ?it/s]"
     ]
    },
    {
     "name": "stdout",
     "output_type": "stream",
     "text": [
      "Epoch  38/ 50 -- train_loss: -6.712 -- validation_loss: 563.092\n",
      "Saving model..\n"
     ]
    },
    {
     "name": "stderr",
     "output_type": "stream",
     "text": [
      "100%|█████████████████████████████████| 4/4 [00:01<00:00,  2.75it/s, loss=-7.55]\n",
      "  0%|                                                     | 0/4 [00:00<?, ?it/s]"
     ]
    },
    {
     "name": "stdout",
     "output_type": "stream",
     "text": [
      "Epoch  39/ 50 -- train_loss: -6.513 -- validation_loss: 556.839\n",
      "Saving model..\n"
     ]
    },
    {
     "name": "stderr",
     "output_type": "stream",
     "text": [
      "100%|█████████████████████████████████| 4/4 [00:01<00:00,  2.76it/s, loss=-3.78]\n",
      "  0%|                                                     | 0/4 [00:00<?, ?it/s]"
     ]
    },
    {
     "name": "stdout",
     "output_type": "stream",
     "text": [
      "Epoch  40/ 50 -- train_loss: -6.529 -- validation_loss: 550.468\n",
      "Saving model..\n"
     ]
    },
    {
     "name": "stderr",
     "output_type": "stream",
     "text": [
      "100%|█████████████████████████████████| 4/4 [00:01<00:00,  2.78it/s, loss=-4.88]\n",
      "  0%|                                                     | 0/4 [00:00<?, ?it/s]"
     ]
    },
    {
     "name": "stdout",
     "output_type": "stream",
     "text": [
      "Epoch  41/ 50 -- train_loss: -7.636 -- validation_loss: 544.147\n",
      "Saving model..\n"
     ]
    },
    {
     "name": "stderr",
     "output_type": "stream",
     "text": [
      "100%|█████████████████████████████████| 4/4 [00:01<00:00,  2.77it/s, loss=-8.26]\n",
      "  0%|                                                     | 0/4 [00:00<?, ?it/s]"
     ]
    },
    {
     "name": "stdout",
     "output_type": "stream",
     "text": [
      "Epoch  42/ 50 -- train_loss: -7.338 -- validation_loss: 537.881\n",
      "Saving model..\n"
     ]
    },
    {
     "name": "stderr",
     "output_type": "stream",
     "text": [
      "100%|█████████████████████████████████| 4/4 [00:01<00:00,  2.73it/s, loss=-7.48]\n",
      "  0%|                                                     | 0/4 [00:00<?, ?it/s]"
     ]
    },
    {
     "name": "stdout",
     "output_type": "stream",
     "text": [
      "Epoch  43/ 50 -- train_loss: -7.989 -- validation_loss: 531.968\n",
      "Saving model..\n"
     ]
    },
    {
     "name": "stderr",
     "output_type": "stream",
     "text": [
      "100%|████████████████████████████████| 4/4 [00:01<00:00,  2.70it/s, loss=-11.24]\n",
      "  0%|                                                     | 0/4 [00:00<?, ?it/s]"
     ]
    },
    {
     "name": "stdout",
     "output_type": "stream",
     "text": [
      "Epoch  44/ 50 -- train_loss: -8.407 -- validation_loss: 526.204\n",
      "Saving model..\n"
     ]
    },
    {
     "name": "stderr",
     "output_type": "stream",
     "text": [
      "100%|█████████████████████████████████| 4/4 [00:01<00:00,  2.72it/s, loss=-9.60]\n",
      "  0%|                                                     | 0/4 [00:00<?, ?it/s]"
     ]
    },
    {
     "name": "stdout",
     "output_type": "stream",
     "text": [
      "Epoch  45/ 50 -- train_loss: -8.639 -- validation_loss: 520.522\n",
      "Saving model..\n"
     ]
    },
    {
     "name": "stderr",
     "output_type": "stream",
     "text": [
      "100%|█████████████████████████████████| 4/4 [00:01<00:00,  2.73it/s, loss=-5.99]\n",
      "  0%|                                                     | 0/4 [00:00<?, ?it/s]"
     ]
    },
    {
     "name": "stdout",
     "output_type": "stream",
     "text": [
      "Epoch  46/ 50 -- train_loss: -9.912 -- validation_loss: 515.206\n",
      "Saving model..\n"
     ]
    },
    {
     "name": "stderr",
     "output_type": "stream",
     "text": [
      "100%|████████████████████████████████| 4/4 [00:01<00:00,  2.72it/s, loss=-11.10]\n",
      "  0%|                                                     | 0/4 [00:00<?, ?it/s]"
     ]
    },
    {
     "name": "stdout",
     "output_type": "stream",
     "text": [
      "Epoch  47/ 50 -- train_loss: -10.350 -- validation_loss: 509.955\n",
      "Saving model..\n"
     ]
    },
    {
     "name": "stderr",
     "output_type": "stream",
     "text": [
      "100%|█████████████████████████████████| 4/4 [00:01<00:00,  2.76it/s, loss=-9.11]\n",
      "  0%|                                                     | 0/4 [00:00<?, ?it/s]"
     ]
    },
    {
     "name": "stdout",
     "output_type": "stream",
     "text": [
      "Epoch  48/ 50 -- train_loss: -9.736 -- validation_loss: 504.440\n",
      "Saving model..\n"
     ]
    },
    {
     "name": "stderr",
     "output_type": "stream",
     "text": [
      "100%|████████████████████████████████| 4/4 [00:01<00:00,  2.79it/s, loss=-10.78]\n",
      "  0%|                                                     | 0/4 [00:00<?, ?it/s]"
     ]
    },
    {
     "name": "stdout",
     "output_type": "stream",
     "text": [
      "Epoch  49/ 50 -- train_loss: -10.564 -- validation_loss: 499.768\n",
      "Saving model..\n"
     ]
    },
    {
     "name": "stderr",
     "output_type": "stream",
     "text": [
      "100%|████████████████████████████████| 4/4 [00:01<00:00,  2.78it/s, loss=-10.17]\n"
     ]
    },
    {
     "name": "stdout",
     "output_type": "stream",
     "text": [
      "Epoch  50/ 50 -- train_loss: -10.491 -- validation_loss: 494.709\n",
      "Saving model..\n"
     ]
    },
    {
     "name": "stderr",
     "output_type": "stream",
     "text": [
      "\r",
      "  0%|                                                   | 0/200 [00:00<?, ?it/s]"
     ]
    },
    {
     "name": "stdout",
     "output_type": "stream",
     "text": [
      "###### Stop training after 50 epochs!\n",
      "Validation loss: 494.709\n",
      "Test loss:       495.535\n",
      "Loading dataset..\n",
      "No validation set passed\n",
      "No test set passed\n",
      "Creating directory experiment..\n",
      "Creating BNAF model..\n",
      "Creating optimizer..\n",
      "Creating scheduler..\n",
      "Training..\n"
     ]
    },
    {
     "name": "stderr",
     "output_type": "stream",
     "text": [
      "100%|█████████████████████████████| 200/200 [01:12<00:00,  2.76it/s, loss=-9.90]\n",
      "  0%|                                                   | 0/200 [00:00<?, ?it/s]"
     ]
    },
    {
     "name": "stdout",
     "output_type": "stream",
     "text": [
      "Epoch   1/ 50 -- train_loss: 7.692 -- validation_loss: 489.179\n",
      "Saving model..\n"
     ]
    },
    {
     "name": "stderr",
     "output_type": "stream",
     "text": [
      "100%|████████████████████████████| 200/200 [01:12<00:00,  2.75it/s, loss=-18.50]\n",
      "  0%|                                                   | 0/200 [00:00<?, ?it/s]"
     ]
    },
    {
     "name": "stdout",
     "output_type": "stream",
     "text": [
      "Epoch   2/ 50 -- train_loss: -13.572 -- validation_loss: 322.165\n",
      "Saving model..\n"
     ]
    },
    {
     "name": "stderr",
     "output_type": "stream",
     "text": [
      "100%|████████████████████████████| 200/200 [01:12<00:00,  2.75it/s, loss=-22.00]\n",
      "  0%|                                                   | 0/200 [00:00<?, ?it/s]"
     ]
    },
    {
     "name": "stdout",
     "output_type": "stream",
     "text": [
      "Epoch   3/ 50 -- train_loss: -18.131 -- validation_loss: 223.980\n",
      "Saving model..\n"
     ]
    },
    {
     "name": "stderr",
     "output_type": "stream",
     "text": [
      "100%|████████████████████████████| 200/200 [01:12<00:00,  2.75it/s, loss=-21.55]\n",
      "  0%|                                                   | 0/200 [00:00<?, ?it/s]"
     ]
    },
    {
     "name": "stdout",
     "output_type": "stream",
     "text": [
      "Epoch   4/ 50 -- train_loss: -21.593 -- validation_loss: 164.140\n",
      "Saving model..\n"
     ]
    },
    {
     "name": "stderr",
     "output_type": "stream",
     "text": [
      "100%|████████████████████████████| 200/200 [01:12<00:00,  2.75it/s, loss=-19.24]\n",
      "  0%|                                                   | 0/200 [00:00<?, ?it/s]"
     ]
    },
    {
     "name": "stdout",
     "output_type": "stream",
     "text": [
      "Epoch   5/ 50 -- train_loss: -23.769 -- validation_loss: 129.723\n",
      "Saving model..\n"
     ]
    },
    {
     "name": "stderr",
     "output_type": "stream",
     "text": [
      "100%|████████████████████████████| 200/200 [01:12<00:00,  2.75it/s, loss=-28.52]\n",
      "  0%|                                                   | 0/200 [00:00<?, ?it/s]"
     ]
    },
    {
     "name": "stdout",
     "output_type": "stream",
     "text": [
      "Epoch   6/ 50 -- train_loss: -25.364 -- validation_loss: 109.916\n",
      "Saving model..\n"
     ]
    },
    {
     "name": "stderr",
     "output_type": "stream",
     "text": [
      "100%|████████████████████████████| 200/200 [01:12<00:00,  2.75it/s, loss=-29.96]\n",
      "  0%|                                                   | 0/200 [00:00<?, ?it/s]"
     ]
    },
    {
     "name": "stdout",
     "output_type": "stream",
     "text": [
      "Epoch   7/ 50 -- train_loss: -26.754 -- validation_loss: 98.504\n",
      "Saving model..\n"
     ]
    },
    {
     "name": "stderr",
     "output_type": "stream",
     "text": [
      "100%|████████████████████████████| 200/200 [01:12<00:00,  2.75it/s, loss=-31.29]\n",
      "  0%|                                                   | 0/200 [00:00<?, ?it/s]"
     ]
    },
    {
     "name": "stdout",
     "output_type": "stream",
     "text": [
      "Epoch   8/ 50 -- train_loss: -30.653 -- validation_loss: 92.512\n",
      "Saving model..\n"
     ]
    },
    {
     "name": "stderr",
     "output_type": "stream",
     "text": [
      "100%|████████████████████████████| 200/200 [01:12<00:00,  2.75it/s, loss=-34.38]\n",
      "  0%|                                                   | 0/200 [00:00<?, ?it/s]"
     ]
    },
    {
     "name": "stdout",
     "output_type": "stream",
     "text": [
      "Epoch   9/ 50 -- train_loss: -31.051 -- validation_loss: 89.312\n",
      "Saving model..\n"
     ]
    },
    {
     "name": "stderr",
     "output_type": "stream",
     "text": [
      "100%|████████████████████████████| 200/200 [01:12<00:00,  2.75it/s, loss=-33.51]\n",
      "  0%|                                                   | 0/200 [00:00<?, ?it/s]"
     ]
    },
    {
     "name": "stdout",
     "output_type": "stream",
     "text": [
      "Epoch  10/ 50 -- train_loss: -33.959 -- validation_loss: 87.968\n",
      "Saving model..\n"
     ]
    },
    {
     "name": "stderr",
     "output_type": "stream",
     "text": [
      "100%|████████████████████████████| 200/200 [01:12<00:00,  2.74it/s, loss=-37.03]\n",
      "  0%|                                                   | 0/200 [00:00<?, ?it/s]"
     ]
    },
    {
     "name": "stdout",
     "output_type": "stream",
     "text": [
      "Epoch  11/ 50 -- train_loss: -34.706 -- validation_loss: 87.576\n",
      "Saving model..\n"
     ]
    },
    {
     "name": "stderr",
     "output_type": "stream",
     "text": [
      "100%|████████████████████████████| 200/200 [01:12<00:00,  2.74it/s, loss=-39.30]\n",
      "  0%|                                                   | 0/200 [00:00<?, ?it/s]"
     ]
    },
    {
     "name": "stdout",
     "output_type": "stream",
     "text": [
      "Epoch  12/ 50 -- train_loss: -36.020 -- validation_loss: 87.649\n"
     ]
    },
    {
     "name": "stderr",
     "output_type": "stream",
     "text": [
      "100%|████████████████████████████| 200/200 [01:12<00:00,  2.75it/s, loss=-40.30]\n",
      "  0%|                                                   | 0/200 [00:00<?, ?it/s]"
     ]
    },
    {
     "name": "stdout",
     "output_type": "stream",
     "text": [
      "Epoch  13/ 50 -- train_loss: -37.665 -- validation_loss: 88.089\n"
     ]
    },
    {
     "name": "stderr",
     "output_type": "stream",
     "text": [
      "100%|████████████████████████████| 200/200 [01:12<00:00,  2.75it/s, loss=-37.46]\n",
      "  0%|                                                   | 0/200 [00:00<?, ?it/s]"
     ]
    },
    {
     "name": "stdout",
     "output_type": "stream",
     "text": [
      "Epoch  14/ 50 -- train_loss: -38.903 -- validation_loss: 88.833\n"
     ]
    },
    {
     "name": "stderr",
     "output_type": "stream",
     "text": [
      "100%|████████████████████████████| 200/200 [01:12<00:00,  2.75it/s, loss=-39.95]\n",
      "  0%|                                                   | 0/200 [00:00<?, ?it/s]"
     ]
    },
    {
     "name": "stdout",
     "output_type": "stream",
     "text": [
      "Epoch  15/ 50 -- train_loss: -38.960 -- validation_loss: 89.661\n"
     ]
    },
    {
     "name": "stderr",
     "output_type": "stream",
     "text": [
      "100%|████████████████████████████| 200/200 [01:12<00:00,  2.76it/s, loss=-44.37]\n",
      "  0%|                                                   | 0/200 [00:00<?, ?it/s]"
     ]
    },
    {
     "name": "stdout",
     "output_type": "stream",
     "text": [
      "Epoch  16/ 50 -- train_loss: -41.152 -- validation_loss: 91.055\n"
     ]
    },
    {
     "name": "stderr",
     "output_type": "stream",
     "text": [
      "100%|████████████████████████████| 200/200 [01:12<00:00,  2.75it/s, loss=-36.62]\n",
      "  0%|                                                   | 0/200 [00:00<?, ?it/s]"
     ]
    },
    {
     "name": "stdout",
     "output_type": "stream",
     "text": [
      "Epoch  17/ 50 -- train_loss: -41.524 -- validation_loss: 92.213\n"
     ]
    },
    {
     "name": "stderr",
     "output_type": "stream",
     "text": [
      "100%|████████████████████████████| 200/200 [01:12<00:00,  2.75it/s, loss=-46.16]\n",
      "  0%|                                                   | 0/200 [00:00<?, ?it/s]"
     ]
    },
    {
     "name": "stdout",
     "output_type": "stream",
     "text": [
      "Epoch  18/ 50 -- train_loss: -43.278 -- validation_loss: 93.485\n"
     ]
    },
    {
     "name": "stderr",
     "output_type": "stream",
     "text": [
      "100%|████████████████████████████| 200/200 [01:12<00:00,  2.75it/s, loss=-41.66]\n",
      "  0%|                                                   | 0/200 [00:00<?, ?it/s]"
     ]
    },
    {
     "name": "stdout",
     "output_type": "stream",
     "text": [
      "Epoch  19/ 50 -- train_loss: -43.831 -- validation_loss: 94.595\n"
     ]
    },
    {
     "name": "stderr",
     "output_type": "stream",
     "text": [
      "100%|████████████████████████████| 200/200 [01:12<00:00,  2.75it/s, loss=-43.83]\n",
      "  0%|                                                   | 0/200 [00:00<?, ?it/s]"
     ]
    },
    {
     "name": "stdout",
     "output_type": "stream",
     "text": [
      "Epoch  20/ 50 -- train_loss: -44.143 -- validation_loss: 95.619\n"
     ]
    },
    {
     "name": "stderr",
     "output_type": "stream",
     "text": [
      "100%|████████████████████████████| 200/200 [01:12<00:00,  2.75it/s, loss=-45.38]\n",
      "  0%|                                                   | 0/200 [00:00<?, ?it/s]"
     ]
    },
    {
     "name": "stdout",
     "output_type": "stream",
     "text": [
      "Epoch  21/ 50 -- train_loss: -44.715 -- validation_loss: 96.599\n"
     ]
    },
    {
     "name": "stderr",
     "output_type": "stream",
     "text": [
      "100%|████████████████████████████| 200/200 [01:12<00:00,  2.75it/s, loss=-48.78]\n",
      "  0%|                                                   | 0/200 [00:00<?, ?it/s]"
     ]
    },
    {
     "name": "stdout",
     "output_type": "stream",
     "text": [
      "Epoch  22/ 50 -- train_loss: -46.110 -- validation_loss: 97.747\n"
     ]
    },
    {
     "name": "stderr",
     "output_type": "stream",
     "text": [
      "100%|████████████████████████████| 200/200 [01:12<00:00,  2.74it/s, loss=-48.81]\n",
      "  0%|                                                   | 0/200 [00:00<?, ?it/s]"
     ]
    },
    {
     "name": "stdout",
     "output_type": "stream",
     "text": [
      "Epoch  23/ 50 -- train_loss: -46.795 -- validation_loss: 98.823\n"
     ]
    },
    {
     "name": "stderr",
     "output_type": "stream",
     "text": [
      "100%|████████████████████████████| 200/200 [01:12<00:00,  2.75it/s, loss=-48.47]\n",
      "  0%|                                                   | 0/200 [00:00<?, ?it/s]"
     ]
    },
    {
     "name": "stdout",
     "output_type": "stream",
     "text": [
      "Epoch  24/ 50 -- train_loss: -47.511 -- validation_loss: 99.865\n"
     ]
    },
    {
     "name": "stderr",
     "output_type": "stream",
     "text": [
      "100%|████████████████████████████| 200/200 [01:12<00:00,  2.74it/s, loss=-46.68]\n",
      "  0%|                                                   | 0/200 [00:00<?, ?it/s]"
     ]
    },
    {
     "name": "stdout",
     "output_type": "stream",
     "text": [
      "Epoch  25/ 50 -- train_loss: -47.351 -- validation_loss: 100.524\n"
     ]
    },
    {
     "name": "stderr",
     "output_type": "stream",
     "text": [
      "100%|████████████████████████████| 200/200 [01:12<00:00,  2.76it/s, loss=-44.25]\n",
      "  0%|                                                   | 0/200 [00:00<?, ?it/s]"
     ]
    },
    {
     "name": "stdout",
     "output_type": "stream",
     "text": [
      "Epoch  26/ 50 -- train_loss: -49.031 -- validation_loss: 101.518\n"
     ]
    },
    {
     "name": "stderr",
     "output_type": "stream",
     "text": [
      "100%|████████████████████████████| 200/200 [01:12<00:00,  2.75it/s, loss=-54.86]\n",
      "  0%|                                                   | 0/200 [00:00<?, ?it/s]"
     ]
    },
    {
     "name": "stdout",
     "output_type": "stream",
     "text": [
      "Epoch  27/ 50 -- train_loss: -49.508 -- validation_loss: 102.280\n"
     ]
    },
    {
     "name": "stderr",
     "output_type": "stream",
     "text": [
      "100%|████████████████████████████| 200/200 [01:12<00:00,  2.74it/s, loss=-48.53]\n",
      "  0%|                                                   | 0/200 [00:00<?, ?it/s]"
     ]
    },
    {
     "name": "stdout",
     "output_type": "stream",
     "text": [
      "Epoch  28/ 50 -- train_loss: -49.870 -- validation_loss: 103.084\n"
     ]
    },
    {
     "name": "stderr",
     "output_type": "stream",
     "text": [
      "100%|████████████████████████████| 200/200 [01:12<00:00,  2.75it/s, loss=-52.32]\n",
      "  0%|                                                   | 0/200 [00:00<?, ?it/s]"
     ]
    },
    {
     "name": "stdout",
     "output_type": "stream",
     "text": [
      "Epoch  29/ 50 -- train_loss: -49.210 -- validation_loss: 103.505\n"
     ]
    },
    {
     "name": "stderr",
     "output_type": "stream",
     "text": [
      "100%|████████████████████████████| 200/200 [01:12<00:00,  2.75it/s, loss=-50.96]\n",
      "  0%|                                                   | 0/200 [00:00<?, ?it/s]"
     ]
    },
    {
     "name": "stdout",
     "output_type": "stream",
     "text": [
      "Epoch  30/ 50 -- train_loss: -50.341 -- validation_loss: 104.094\n"
     ]
    },
    {
     "name": "stderr",
     "output_type": "stream",
     "text": [
      "100%|████████████████████████████| 200/200 [01:12<00:00,  2.75it/s, loss=-51.59]\n",
      "  0%|                                                   | 0/200 [00:00<?, ?it/s]"
     ]
    },
    {
     "name": "stdout",
     "output_type": "stream",
     "text": [
      "Epoch  31/ 50 -- train_loss: -49.461 -- validation_loss: 104.534\n"
     ]
    },
    {
     "name": "stderr",
     "output_type": "stream",
     "text": [
      "100%|████████████████████████████| 200/200 [01:12<00:00,  2.75it/s, loss=-53.88]\n",
      "  0%|                                                   | 0/200 [00:00<?, ?it/s]"
     ]
    },
    {
     "name": "stdout",
     "output_type": "stream",
     "text": [
      "Epoch  32/ 50 -- train_loss: -51.250 -- validation_loss: 105.121\n",
      "Epoch 00032: reducing learning rate of group 0 to 5.0000e-03.\n"
     ]
    },
    {
     "name": "stderr",
     "output_type": "stream",
     "text": [
      "100%|████████████████████████████| 200/200 [01:12<00:00,  2.76it/s, loss=-57.38]\n",
      "  0%|                                                   | 0/200 [00:00<?, ?it/s]"
     ]
    },
    {
     "name": "stdout",
     "output_type": "stream",
     "text": [
      "Epoch  33/ 50 -- train_loss: -59.274 -- validation_loss: 106.558\n"
     ]
    },
    {
     "name": "stderr",
     "output_type": "stream",
     "text": [
      "100%|████████████████████████████| 200/200 [01:12<00:00,  2.75it/s, loss=-61.93]\n",
      "  0%|                                                   | 0/200 [00:00<?, ?it/s]"
     ]
    },
    {
     "name": "stdout",
     "output_type": "stream",
     "text": [
      "Epoch  34/ 50 -- train_loss: -60.860 -- validation_loss: 108.201\n"
     ]
    },
    {
     "name": "stderr",
     "output_type": "stream",
     "text": [
      "100%|████████████████████████████| 200/200 [01:12<00:00,  2.75it/s, loss=-58.69]\n",
      "  0%|                                                   | 0/200 [00:00<?, ?it/s]"
     ]
    },
    {
     "name": "stdout",
     "output_type": "stream",
     "text": [
      "Epoch  35/ 50 -- train_loss: -60.891 -- validation_loss: 109.467\n"
     ]
    },
    {
     "name": "stderr",
     "output_type": "stream",
     "text": [
      "100%|████████████████████████████| 200/200 [01:12<00:00,  2.75it/s, loss=-56.44]\n",
      "  0%|                                                   | 0/200 [00:00<?, ?it/s]"
     ]
    },
    {
     "name": "stdout",
     "output_type": "stream",
     "text": [
      "Epoch  36/ 50 -- train_loss: -61.022 -- validation_loss: 110.411\n"
     ]
    },
    {
     "name": "stderr",
     "output_type": "stream",
     "text": [
      "100%|████████████████████████████| 200/200 [01:12<00:00,  2.75it/s, loss=-59.38]\n",
      "  0%|                                                   | 0/200 [00:00<?, ?it/s]"
     ]
    },
    {
     "name": "stdout",
     "output_type": "stream",
     "text": [
      "Epoch  37/ 50 -- train_loss: -59.370 -- validation_loss: 111.006\n"
     ]
    },
    {
     "name": "stderr",
     "output_type": "stream",
     "text": [
      "100%|████████████████████████████| 200/200 [01:12<00:00,  2.76it/s, loss=-60.08]\n",
      "  0%|                                                   | 0/200 [00:00<?, ?it/s]"
     ]
    },
    {
     "name": "stdout",
     "output_type": "stream",
     "text": [
      "Epoch  38/ 50 -- train_loss: -60.940 -- validation_loss: 111.531\n"
     ]
    },
    {
     "name": "stderr",
     "output_type": "stream",
     "text": [
      "100%|████████████████████████████| 200/200 [01:12<00:00,  2.75it/s, loss=-60.27]\n",
      "  0%|                                                   | 0/200 [00:00<?, ?it/s]"
     ]
    },
    {
     "name": "stdout",
     "output_type": "stream",
     "text": [
      "Epoch  39/ 50 -- train_loss: -60.391 -- validation_loss: 111.883\n"
     ]
    },
    {
     "name": "stderr",
     "output_type": "stream",
     "text": [
      "100%|████████████████████████████| 200/200 [01:12<00:00,  2.75it/s, loss=-62.17]\n",
      "  0%|                                                   | 0/200 [00:00<?, ?it/s]"
     ]
    },
    {
     "name": "stdout",
     "output_type": "stream",
     "text": [
      "Epoch  40/ 50 -- train_loss: -61.660 -- validation_loss: 112.228\n"
     ]
    },
    {
     "name": "stderr",
     "output_type": "stream",
     "text": [
      "100%|████████████████████████████| 200/200 [01:12<00:00,  2.75it/s, loss=-57.61]\n",
      "  0%|                                                   | 0/200 [00:00<?, ?it/s]"
     ]
    },
    {
     "name": "stdout",
     "output_type": "stream",
     "text": [
      "Epoch  41/ 50 -- train_loss: -61.299 -- validation_loss: 112.600\n"
     ]
    },
    {
     "name": "stderr",
     "output_type": "stream",
     "text": [
      "100%|████████████████████████████| 200/200 [01:12<00:00,  2.74it/s, loss=-62.99]\n",
      "  0%|                                                   | 0/200 [00:00<?, ?it/s]"
     ]
    },
    {
     "name": "stdout",
     "output_type": "stream",
     "text": [
      "Epoch  42/ 50 -- train_loss: -59.973 -- validation_loss: 112.853\n"
     ]
    },
    {
     "name": "stderr",
     "output_type": "stream",
     "text": [
      "100%|████████████████████████████| 200/200 [01:12<00:00,  2.76it/s, loss=-63.59]\n",
      "  0%|                                                   | 0/200 [00:00<?, ?it/s]"
     ]
    },
    {
     "name": "stdout",
     "output_type": "stream",
     "text": [
      "Epoch  43/ 50 -- train_loss: -60.584 -- validation_loss: 113.047\n"
     ]
    },
    {
     "name": "stderr",
     "output_type": "stream",
     "text": [
      "100%|████████████████████████████| 200/200 [01:12<00:00,  2.75it/s, loss=-59.82]\n",
      "  0%|                                                   | 0/200 [00:00<?, ?it/s]"
     ]
    },
    {
     "name": "stdout",
     "output_type": "stream",
     "text": [
      "Epoch  44/ 50 -- train_loss: -59.748 -- validation_loss: 113.137\n"
     ]
    },
    {
     "name": "stderr",
     "output_type": "stream",
     "text": [
      "100%|████████████████████████████| 200/200 [01:12<00:00,  2.75it/s, loss=-54.91]\n",
      "  0%|                                                   | 0/200 [00:00<?, ?it/s]"
     ]
    },
    {
     "name": "stdout",
     "output_type": "stream",
     "text": [
      "Epoch  45/ 50 -- train_loss: -60.475 -- validation_loss: 113.187\n"
     ]
    },
    {
     "name": "stderr",
     "output_type": "stream",
     "text": [
      "100%|████████████████████████████| 200/200 [01:13<00:00,  2.73it/s, loss=-52.78]\n",
      "  0%|                                                   | 0/200 [00:00<?, ?it/s]"
     ]
    },
    {
     "name": "stdout",
     "output_type": "stream",
     "text": [
      "Epoch  46/ 50 -- train_loss: -61.054 -- validation_loss: 113.257\n"
     ]
    },
    {
     "name": "stderr",
     "output_type": "stream",
     "text": [
      "100%|████████████████████████████| 200/200 [01:12<00:00,  2.75it/s, loss=-64.02]\n",
      "  0%|                                                   | 0/200 [00:00<?, ?it/s]"
     ]
    },
    {
     "name": "stdout",
     "output_type": "stream",
     "text": [
      "Epoch  47/ 50 -- train_loss: -61.913 -- validation_loss: 113.463\n"
     ]
    },
    {
     "name": "stderr",
     "output_type": "stream",
     "text": [
      "100%|████████████████████████████| 200/200 [01:12<00:00,  2.75it/s, loss=-59.74]\n",
      "  0%|                                                   | 0/200 [00:00<?, ?it/s]"
     ]
    },
    {
     "name": "stdout",
     "output_type": "stream",
     "text": [
      "Epoch  48/ 50 -- train_loss: -61.419 -- validation_loss: 113.685\n"
     ]
    },
    {
     "name": "stderr",
     "output_type": "stream",
     "text": [
      "100%|████████████████████████████| 200/200 [01:13<00:00,  2.73it/s, loss=-51.63]\n",
      "  0%|                                                   | 0/200 [00:00<?, ?it/s]"
     ]
    },
    {
     "name": "stdout",
     "output_type": "stream",
     "text": [
      "Epoch  49/ 50 -- train_loss: -61.044 -- validation_loss: 113.827\n"
     ]
    },
    {
     "name": "stderr",
     "output_type": "stream",
     "text": [
      "100%|████████████████████████████| 200/200 [01:12<00:00,  2.75it/s, loss=-59.75]\n"
     ]
    },
    {
     "name": "stdout",
     "output_type": "stream",
     "text": [
      "Epoch  50/ 50 -- train_loss: -61.316 -- validation_loss: 113.989\n",
      "###### Stop training after 50 epochs!\n",
      "Validation loss: 113.989\n",
      "Test loss:       113.884\n"
     ]
    },
    {
     "name": "stderr",
     "output_type": "stream",
     "text": [
      "\r",
      "  0%|                                                     | 0/4 [00:00<?, ?it/s]"
     ]
    },
    {
     "name": "stdout",
     "output_type": "stream",
     "text": [
      "Loading dataset..\n",
      "Creating directory experiment..\n",
      "Creating BNAF model..\n",
      "Creating optimizer..\n",
      "Creating scheduler..\n",
      "Training..\n"
     ]
    },
    {
     "name": "stderr",
     "output_type": "stream",
     "text": [
      "100%|████████████████████████████████| 4/4 [00:01<00:00,  2.62it/s, loss=134.51]\n",
      "  0%|                                                     | 0/4 [00:00<?, ?it/s]"
     ]
    },
    {
     "name": "stdout",
     "output_type": "stream",
     "text": [
      "Epoch   1/ 50 -- train_loss: 153.162 -- validation_loss: 980.746\n",
      "Saving model..\n"
     ]
    },
    {
     "name": "stderr",
     "output_type": "stream",
     "text": [
      "100%|█████████████████████████████████| 4/4 [00:01<00:00,  2.66it/s, loss=98.01]\n",
      "  0%|                                                     | 0/4 [00:00<?, ?it/s]"
     ]
    },
    {
     "name": "stdout",
     "output_type": "stream",
     "text": [
      "Epoch   2/ 50 -- train_loss: 110.057 -- validation_loss: 964.290\n",
      "Saving model..\n"
     ]
    },
    {
     "name": "stderr",
     "output_type": "stream",
     "text": [
      "100%|█████████████████████████████████| 4/4 [00:01<00:00,  2.61it/s, loss=68.56]\n",
      "  0%|                                                     | 0/4 [00:00<?, ?it/s]"
     ]
    },
    {
     "name": "stdout",
     "output_type": "stream",
     "text": [
      "Epoch   3/ 50 -- train_loss: 78.952 -- validation_loss: 947.370\n",
      "Saving model..\n"
     ]
    },
    {
     "name": "stderr",
     "output_type": "stream",
     "text": [
      "100%|█████████████████████████████████| 4/4 [00:01<00:00,  2.25it/s, loss=49.70]\n",
      "  0%|                                                     | 0/4 [00:00<?, ?it/s]"
     ]
    },
    {
     "name": "stdout",
     "output_type": "stream",
     "text": [
      "Epoch   4/ 50 -- train_loss: 55.699 -- validation_loss: 930.079\n",
      "Saving model..\n"
     ]
    },
    {
     "name": "stderr",
     "output_type": "stream",
     "text": [
      "100%|█████████████████████████████████| 4/4 [00:01<00:00,  2.72it/s, loss=40.22]\n",
      "  0%|                                                     | 0/4 [00:00<?, ?it/s]"
     ]
    },
    {
     "name": "stdout",
     "output_type": "stream",
     "text": [
      "Epoch   5/ 50 -- train_loss: 41.076 -- validation_loss: 912.606\n",
      "Saving model..\n"
     ]
    },
    {
     "name": "stderr",
     "output_type": "stream",
     "text": [
      "100%|█████████████████████████████████| 4/4 [00:01<00:00,  2.63it/s, loss=31.43]\n",
      "  0%|                                                     | 0/4 [00:00<?, ?it/s]"
     ]
    },
    {
     "name": "stdout",
     "output_type": "stream",
     "text": [
      "Epoch   6/ 50 -- train_loss: 33.389 -- validation_loss: 895.241\n",
      "Saving model..\n"
     ]
    },
    {
     "name": "stderr",
     "output_type": "stream",
     "text": [
      "100%|█████████████████████████████████| 4/4 [00:01<00:00,  2.27it/s, loss=25.11]\n",
      "  0%|                                                     | 0/4 [00:00<?, ?it/s]"
     ]
    },
    {
     "name": "stdout",
     "output_type": "stream",
     "text": [
      "Epoch   7/ 50 -- train_loss: 27.656 -- validation_loss: 877.984\n",
      "Saving model..\n"
     ]
    },
    {
     "name": "stderr",
     "output_type": "stream",
     "text": [
      "100%|█████████████████████████████████| 4/4 [00:01<00:00,  2.19it/s, loss=21.07]\n",
      "  0%|                                                     | 0/4 [00:00<?, ?it/s]"
     ]
    },
    {
     "name": "stdout",
     "output_type": "stream",
     "text": [
      "Epoch   8/ 50 -- train_loss: 22.895 -- validation_loss: 860.968\n",
      "Saving model..\n"
     ]
    },
    {
     "name": "stderr",
     "output_type": "stream",
     "text": [
      "100%|█████████████████████████████████| 4/4 [00:01<00:00,  2.48it/s, loss=16.75]\n",
      "  0%|                                                     | 0/4 [00:00<?, ?it/s]"
     ]
    },
    {
     "name": "stdout",
     "output_type": "stream",
     "text": [
      "Epoch   9/ 50 -- train_loss: 19.274 -- validation_loss: 844.235\n",
      "Saving model..\n"
     ]
    },
    {
     "name": "stderr",
     "output_type": "stream",
     "text": [
      "100%|█████████████████████████████████| 4/4 [00:01<00:00,  2.30it/s, loss=13.87]\n"
     ]
    },
    {
     "name": "stdout",
     "output_type": "stream",
     "text": [
      "Epoch  10/ 50 -- train_loss: 16.595 -- validation_loss: 828.093\n",
      "Saving model..\n"
     ]
    },
    {
     "name": "stderr",
     "output_type": "stream",
     "text": [
      "100%|█████████████████████████████████| 4/4 [00:01<00:00,  2.36it/s, loss=13.89]\n",
      "  0%|                                                     | 0/4 [00:00<?, ?it/s]"
     ]
    },
    {
     "name": "stdout",
     "output_type": "stream",
     "text": [
      "Epoch  11/ 50 -- train_loss: 13.612 -- validation_loss: 812.372\n",
      "Saving model..\n"
     ]
    },
    {
     "name": "stderr",
     "output_type": "stream",
     "text": [
      "100%|██████████████████████████████████| 4/4 [00:01<00:00,  2.59it/s, loss=9.28]\n",
      "  0%|                                                     | 0/4 [00:00<?, ?it/s]"
     ]
    },
    {
     "name": "stdout",
     "output_type": "stream",
     "text": [
      "Epoch  12/ 50 -- train_loss: 11.924 -- validation_loss: 797.158\n",
      "Saving model..\n"
     ]
    },
    {
     "name": "stderr",
     "output_type": "stream",
     "text": [
      "100%|██████████████████████████████████| 4/4 [00:01<00:00,  2.56it/s, loss=9.98]\n",
      "  0%|                                                     | 0/4 [00:00<?, ?it/s]"
     ]
    },
    {
     "name": "stdout",
     "output_type": "stream",
     "text": [
      "Epoch  13/ 50 -- train_loss: 10.438 -- validation_loss: 782.527\n",
      "Saving model..\n"
     ]
    },
    {
     "name": "stderr",
     "output_type": "stream",
     "text": [
      "100%|██████████████████████████████████| 4/4 [00:01<00:00,  2.57it/s, loss=6.75]\n",
      "  0%|                                                     | 0/4 [00:00<?, ?it/s]"
     ]
    },
    {
     "name": "stdout",
     "output_type": "stream",
     "text": [
      "Epoch  14/ 50 -- train_loss: 8.701 -- validation_loss: 768.322\n",
      "Saving model..\n"
     ]
    },
    {
     "name": "stderr",
     "output_type": "stream",
     "text": [
      "100%|██████████████████████████████████| 4/4 [00:01<00:00,  2.30it/s, loss=6.75]\n",
      "  0%|                                                     | 0/4 [00:00<?, ?it/s]"
     ]
    },
    {
     "name": "stdout",
     "output_type": "stream",
     "text": [
      "Epoch  15/ 50 -- train_loss: 6.917 -- validation_loss: 754.578\n",
      "Saving model..\n"
     ]
    },
    {
     "name": "stderr",
     "output_type": "stream",
     "text": [
      "100%|██████████████████████████████████| 4/4 [00:01<00:00,  2.39it/s, loss=3.63]\n",
      "  0%|                                                     | 0/4 [00:00<?, ?it/s]"
     ]
    },
    {
     "name": "stdout",
     "output_type": "stream",
     "text": [
      "Epoch  16/ 50 -- train_loss: 5.436 -- validation_loss: 741.297\n",
      "Saving model..\n"
     ]
    },
    {
     "name": "stderr",
     "output_type": "stream",
     "text": [
      "100%|██████████████████████████████████| 4/4 [00:01<00:00,  2.50it/s, loss=4.75]\n",
      "  0%|                                                     | 0/4 [00:00<?, ?it/s]"
     ]
    },
    {
     "name": "stdout",
     "output_type": "stream",
     "text": [
      "Epoch  17/ 50 -- train_loss: 4.610 -- validation_loss: 728.433\n",
      "Saving model..\n"
     ]
    },
    {
     "name": "stderr",
     "output_type": "stream",
     "text": [
      "100%|██████████████████████████████████| 4/4 [00:01<00:00,  2.71it/s, loss=3.47]\n",
      "  0%|                                                     | 0/4 [00:00<?, ?it/s]"
     ]
    },
    {
     "name": "stdout",
     "output_type": "stream",
     "text": [
      "Epoch  18/ 50 -- train_loss: 3.595 -- validation_loss: 716.072\n",
      "Saving model..\n"
     ]
    },
    {
     "name": "stderr",
     "output_type": "stream",
     "text": [
      "100%|██████████████████████████████████| 4/4 [00:01<00:00,  2.69it/s, loss=2.52]\n",
      "  0%|                                                     | 0/4 [00:00<?, ?it/s]"
     ]
    },
    {
     "name": "stdout",
     "output_type": "stream",
     "text": [
      "Epoch  19/ 50 -- train_loss: 2.460 -- validation_loss: 704.065\n",
      "Saving model..\n"
     ]
    },
    {
     "name": "stderr",
     "output_type": "stream",
     "text": [
      "100%|██████████████████████████████████| 4/4 [00:01<00:00,  2.67it/s, loss=2.14]\n",
      "  0%|                                                     | 0/4 [00:00<?, ?it/s]"
     ]
    },
    {
     "name": "stdout",
     "output_type": "stream",
     "text": [
      "Epoch  20/ 50 -- train_loss: 1.792 -- validation_loss: 692.418\n",
      "Saving model..\n"
     ]
    },
    {
     "name": "stderr",
     "output_type": "stream",
     "text": [
      "100%|██████████████████████████████████| 4/4 [00:01<00:00,  2.70it/s, loss=0.52]\n",
      "  0%|                                                     | 0/4 [00:00<?, ?it/s]"
     ]
    },
    {
     "name": "stdout",
     "output_type": "stream",
     "text": [
      "Epoch  21/ 50 -- train_loss: 0.837 -- validation_loss: 681.289\n",
      "Saving model..\n"
     ]
    },
    {
     "name": "stderr",
     "output_type": "stream",
     "text": [
      "100%|██████████████████████████████████| 4/4 [00:01<00:00,  2.65it/s, loss=2.42]\n",
      "  0%|                                                     | 0/4 [00:00<?, ?it/s]"
     ]
    },
    {
     "name": "stdout",
     "output_type": "stream",
     "text": [
      "Epoch  22/ 50 -- train_loss: -0.037 -- validation_loss: 670.449\n",
      "Saving model..\n"
     ]
    },
    {
     "name": "stderr",
     "output_type": "stream",
     "text": [
      "100%|█████████████████████████████████| 4/4 [00:01<00:00,  2.47it/s, loss=-2.69]\n",
      "  0%|                                                     | 0/4 [00:00<?, ?it/s]"
     ]
    },
    {
     "name": "stdout",
     "output_type": "stream",
     "text": [
      "Epoch  23/ 50 -- train_loss: -1.311 -- validation_loss: 659.943\n",
      "Saving model..\n"
     ]
    },
    {
     "name": "stderr",
     "output_type": "stream",
     "text": [
      "100%|█████████████████████████████████| 4/4 [00:01<00:00,  2.62it/s, loss=-0.29]\n",
      "  0%|                                                     | 0/4 [00:00<?, ?it/s]"
     ]
    },
    {
     "name": "stdout",
     "output_type": "stream",
     "text": [
      "Epoch  24/ 50 -- train_loss: -1.866 -- validation_loss: 649.750\n",
      "Saving model..\n"
     ]
    },
    {
     "name": "stderr",
     "output_type": "stream",
     "text": [
      "100%|██████████████████████████████████| 4/4 [00:01<00:00,  2.55it/s, loss=0.53]\n",
      "  0%|                                                     | 0/4 [00:00<?, ?it/s]"
     ]
    },
    {
     "name": "stdout",
     "output_type": "stream",
     "text": [
      "Epoch  25/ 50 -- train_loss: -3.137 -- validation_loss: 639.887\n",
      "Saving model..\n"
     ]
    },
    {
     "name": "stderr",
     "output_type": "stream",
     "text": [
      "100%|█████████████████████████████████| 4/4 [00:01<00:00,  2.68it/s, loss=-4.10]\n",
      "  0%|                                                     | 0/4 [00:00<?, ?it/s]"
     ]
    },
    {
     "name": "stdout",
     "output_type": "stream",
     "text": [
      "Epoch  26/ 50 -- train_loss: -3.052 -- validation_loss: 630.259\n",
      "Saving model..\n"
     ]
    },
    {
     "name": "stderr",
     "output_type": "stream",
     "text": [
      "100%|█████████████████████████████████| 4/4 [00:01<00:00,  2.59it/s, loss=-3.40]\n"
     ]
    },
    {
     "name": "stdout",
     "output_type": "stream",
     "text": [
      "Epoch  27/ 50 -- train_loss: -4.192 -- validation_loss: 621.171\n",
      "Saving model..\n"
     ]
    },
    {
     "name": "stderr",
     "output_type": "stream",
     "text": [
      "100%|█████████████████████████████████| 4/4 [00:01<00:00,  2.29it/s, loss=-7.48]\n",
      "  0%|                                                     | 0/4 [00:00<?, ?it/s]"
     ]
    },
    {
     "name": "stdout",
     "output_type": "stream",
     "text": [
      "Epoch  28/ 50 -- train_loss: -4.946 -- validation_loss: 612.257\n",
      "Saving model..\n"
     ]
    },
    {
     "name": "stderr",
     "output_type": "stream",
     "text": [
      "100%|█████████████████████████████████| 4/4 [00:01<00:00,  2.22it/s, loss=-3.69]\n",
      "  0%|                                                     | 0/4 [00:00<?, ?it/s]"
     ]
    },
    {
     "name": "stdout",
     "output_type": "stream",
     "text": [
      "Epoch  29/ 50 -- train_loss: -5.054 -- validation_loss: 603.569\n",
      "Saving model..\n"
     ]
    },
    {
     "name": "stderr",
     "output_type": "stream",
     "text": [
      "100%|█████████████████████████████████| 4/4 [00:01<00:00,  2.25it/s, loss=-6.34]\n",
      "  0%|                                                     | 0/4 [00:00<?, ?it/s]"
     ]
    },
    {
     "name": "stdout",
     "output_type": "stream",
     "text": [
      "Epoch  30/ 50 -- train_loss: -5.574 -- validation_loss: 595.159\n",
      "Saving model..\n"
     ]
    },
    {
     "name": "stderr",
     "output_type": "stream",
     "text": [
      "100%|█████████████████████████████████| 4/4 [00:01<00:00,  2.43it/s, loss=-0.35]\n"
     ]
    },
    {
     "name": "stdout",
     "output_type": "stream",
     "text": [
      "Epoch  31/ 50 -- train_loss: -5.874 -- validation_loss: 587.005\n",
      "Saving model..\n"
     ]
    },
    {
     "name": "stderr",
     "output_type": "stream",
     "text": [
      "100%|█████████████████████████████████| 4/4 [00:01<00:00,  2.59it/s, loss=-5.90]\n",
      "  0%|                                                     | 0/4 [00:00<?, ?it/s]"
     ]
    },
    {
     "name": "stdout",
     "output_type": "stream",
     "text": [
      "Epoch  32/ 50 -- train_loss: -6.441 -- validation_loss: 579.344\n",
      "Saving model..\n"
     ]
    },
    {
     "name": "stderr",
     "output_type": "stream",
     "text": [
      "100%|█████████████████████████████████| 4/4 [00:01<00:00,  2.66it/s, loss=-5.75]\n",
      "  0%|                                                     | 0/4 [00:00<?, ?it/s]"
     ]
    },
    {
     "name": "stdout",
     "output_type": "stream",
     "text": [
      "Epoch  33/ 50 -- train_loss: -6.005 -- validation_loss: 571.662\n",
      "Saving model..\n"
     ]
    },
    {
     "name": "stderr",
     "output_type": "stream",
     "text": [
      "100%|█████████████████████████████████| 4/4 [00:01<00:00,  2.60it/s, loss=-8.01]\n",
      "  0%|                                                     | 0/4 [00:00<?, ?it/s]"
     ]
    },
    {
     "name": "stdout",
     "output_type": "stream",
     "text": [
      "Epoch  34/ 50 -- train_loss: -6.164 -- validation_loss: 564.061\n",
      "Saving model..\n"
     ]
    },
    {
     "name": "stderr",
     "output_type": "stream",
     "text": [
      "100%|█████████████████████████████████| 4/4 [00:01<00:00,  2.57it/s, loss=-9.30]\n",
      "  0%|                                                     | 0/4 [00:00<?, ?it/s]"
     ]
    },
    {
     "name": "stdout",
     "output_type": "stream",
     "text": [
      "Epoch  35/ 50 -- train_loss: -7.245 -- validation_loss: 556.926\n",
      "Saving model..\n"
     ]
    },
    {
     "name": "stderr",
     "output_type": "stream",
     "text": [
      "100%|█████████████████████████████████| 4/4 [00:01<00:00,  2.48it/s, loss=-6.48]\n",
      "  0%|                                                     | 0/4 [00:00<?, ?it/s]"
     ]
    },
    {
     "name": "stdout",
     "output_type": "stream",
     "text": [
      "Epoch  36/ 50 -- train_loss: -8.042 -- validation_loss: 549.748\n",
      "Saving model..\n"
     ]
    },
    {
     "name": "stderr",
     "output_type": "stream",
     "text": [
      "100%|████████████████████████████████| 4/4 [00:01<00:00,  2.55it/s, loss=-10.51]\n",
      "  0%|                                                     | 0/4 [00:00<?, ?it/s]"
     ]
    },
    {
     "name": "stdout",
     "output_type": "stream",
     "text": [
      "Epoch  37/ 50 -- train_loss: -8.226 -- validation_loss: 543.114\n",
      "Saving model..\n"
     ]
    },
    {
     "name": "stderr",
     "output_type": "stream",
     "text": [
      "100%|█████████████████████████████████| 4/4 [00:01<00:00,  2.68it/s, loss=-9.05]\n",
      "  0%|                                                     | 0/4 [00:00<?, ?it/s]"
     ]
    },
    {
     "name": "stdout",
     "output_type": "stream",
     "text": [
      "Epoch  38/ 50 -- train_loss: -9.000 -- validation_loss: 536.399\n",
      "Saving model..\n"
     ]
    },
    {
     "name": "stderr",
     "output_type": "stream",
     "text": [
      "100%|████████████████████████████████| 4/4 [00:01<00:00,  2.66it/s, loss=-10.68]\n",
      "  0%|                                                     | 0/4 [00:00<?, ?it/s]"
     ]
    },
    {
     "name": "stdout",
     "output_type": "stream",
     "text": [
      "Epoch  39/ 50 -- train_loss: -9.195 -- validation_loss: 529.987\n",
      "Saving model..\n"
     ]
    },
    {
     "name": "stderr",
     "output_type": "stream",
     "text": [
      "100%|█████████████████████████████████| 4/4 [00:01<00:00,  2.65it/s, loss=-8.89]\n",
      "  0%|                                                     | 0/4 [00:00<?, ?it/s]"
     ]
    },
    {
     "name": "stdout",
     "output_type": "stream",
     "text": [
      "Epoch  40/ 50 -- train_loss: -10.249 -- validation_loss: 523.725\n",
      "Saving model..\n"
     ]
    },
    {
     "name": "stderr",
     "output_type": "stream",
     "text": [
      "100%|█████████████████████████████████| 4/4 [00:01<00:00,  2.66it/s, loss=-9.99]\n",
      "  0%|                                                     | 0/4 [00:00<?, ?it/s]"
     ]
    },
    {
     "name": "stdout",
     "output_type": "stream",
     "text": [
      "Epoch  41/ 50 -- train_loss: -9.982 -- validation_loss: 517.437\n",
      "Saving model..\n"
     ]
    },
    {
     "name": "stderr",
     "output_type": "stream",
     "text": [
      "100%|█████████████████████████████████| 4/4 [00:01<00:00,  2.63it/s, loss=-6.67]\n",
      "  0%|                                                     | 0/4 [00:00<?, ?it/s]"
     ]
    },
    {
     "name": "stdout",
     "output_type": "stream",
     "text": [
      "Epoch  42/ 50 -- train_loss: -9.927 -- validation_loss: 511.361\n",
      "Saving model..\n"
     ]
    },
    {
     "name": "stderr",
     "output_type": "stream",
     "text": [
      "100%|████████████████████████████████| 4/4 [00:01<00:00,  2.72it/s, loss=-10.64]\n",
      "  0%|                                                     | 0/4 [00:00<?, ?it/s]"
     ]
    },
    {
     "name": "stdout",
     "output_type": "stream",
     "text": [
      "Epoch  43/ 50 -- train_loss: -9.713 -- validation_loss: 505.404\n",
      "Saving model..\n"
     ]
    },
    {
     "name": "stderr",
     "output_type": "stream",
     "text": [
      "100%|████████████████████████████████| 4/4 [00:01<00:00,  2.78it/s, loss=-10.25]\n",
      "  0%|                                                     | 0/4 [00:00<?, ?it/s]"
     ]
    },
    {
     "name": "stdout",
     "output_type": "stream",
     "text": [
      "Epoch  44/ 50 -- train_loss: -10.773 -- validation_loss: 499.318\n",
      "Saving model..\n"
     ]
    },
    {
     "name": "stderr",
     "output_type": "stream",
     "text": [
      "100%|████████████████████████████████| 4/4 [00:01<00:00,  2.76it/s, loss=-10.18]\n",
      "  0%|                                                     | 0/4 [00:00<?, ?it/s]"
     ]
    },
    {
     "name": "stdout",
     "output_type": "stream",
     "text": [
      "Epoch  45/ 50 -- train_loss: -11.129 -- validation_loss: 493.007\n",
      "Saving model..\n"
     ]
    },
    {
     "name": "stderr",
     "output_type": "stream",
     "text": [
      "100%|████████████████████████████████| 4/4 [00:01<00:00,  2.67it/s, loss=-12.82]\n",
      "  0%|                                                     | 0/4 [00:00<?, ?it/s]"
     ]
    },
    {
     "name": "stdout",
     "output_type": "stream",
     "text": [
      "Epoch  46/ 50 -- train_loss: -11.690 -- validation_loss: 487.449\n",
      "Saving model..\n"
     ]
    },
    {
     "name": "stderr",
     "output_type": "stream",
     "text": [
      "100%|████████████████████████████████| 4/4 [00:01<00:00,  2.72it/s, loss=-10.25]\n",
      "  0%|                                                     | 0/4 [00:00<?, ?it/s]"
     ]
    },
    {
     "name": "stdout",
     "output_type": "stream",
     "text": [
      "Epoch  47/ 50 -- train_loss: -11.165 -- validation_loss: 480.803\n",
      "Saving model..\n"
     ]
    },
    {
     "name": "stderr",
     "output_type": "stream",
     "text": [
      "100%|████████████████████████████████| 4/4 [00:01<00:00,  2.69it/s, loss=-10.90]\n",
      "  0%|                                                     | 0/4 [00:00<?, ?it/s]"
     ]
    },
    {
     "name": "stdout",
     "output_type": "stream",
     "text": [
      "Epoch  48/ 50 -- train_loss: -10.379 -- validation_loss: 474.260\n",
      "Saving model..\n"
     ]
    },
    {
     "name": "stderr",
     "output_type": "stream",
     "text": [
      "100%|████████████████████████████████| 4/4 [00:01<00:00,  2.75it/s, loss=-12.30]\n",
      "  0%|                                                     | 0/4 [00:00<?, ?it/s]"
     ]
    },
    {
     "name": "stdout",
     "output_type": "stream",
     "text": [
      "Epoch  49/ 50 -- train_loss: -11.379 -- validation_loss: 469.390\n",
      "Saving model..\n"
     ]
    },
    {
     "name": "stderr",
     "output_type": "stream",
     "text": [
      "100%|████████████████████████████████| 4/4 [00:01<00:00,  2.71it/s, loss=-10.46]\n"
     ]
    },
    {
     "name": "stdout",
     "output_type": "stream",
     "text": [
      "Epoch  50/ 50 -- train_loss: -12.463 -- validation_loss: 464.797\n",
      "Saving model..\n"
     ]
    },
    {
     "name": "stderr",
     "output_type": "stream",
     "text": [
      "\r",
      "  0%|                                                   | 0/200 [00:00<?, ?it/s]"
     ]
    },
    {
     "name": "stdout",
     "output_type": "stream",
     "text": [
      "###### Stop training after 50 epochs!\n",
      "Validation loss: 464.797\n",
      "Test loss:       460.402\n",
      "Loading dataset..\n",
      "No validation set passed\n",
      "No test set passed\n",
      "Creating directory experiment..\n",
      "Creating BNAF model..\n",
      "Creating optimizer..\n",
      "Creating scheduler..\n",
      "Training..\n"
     ]
    },
    {
     "name": "stderr",
     "output_type": "stream",
     "text": [
      "100%|████████████████████████████| 200/200 [01:15<00:00,  2.65it/s, loss=-13.07]\n",
      "  0%|                                                   | 0/200 [00:00<?, ?it/s]"
     ]
    },
    {
     "name": "stdout",
     "output_type": "stream",
     "text": [
      "Epoch   1/ 50 -- train_loss: 7.578 -- validation_loss: 511.021\n",
      "Saving model..\n"
     ]
    },
    {
     "name": "stderr",
     "output_type": "stream",
     "text": [
      "100%|████████████████████████████| 200/200 [01:14<00:00,  2.70it/s, loss=-20.63]\n",
      "  0%|                                                   | 0/200 [00:00<?, ?it/s]"
     ]
    },
    {
     "name": "stdout",
     "output_type": "stream",
     "text": [
      "Epoch   2/ 50 -- train_loss: -15.314 -- validation_loss: 340.879\n",
      "Saving model..\n"
     ]
    },
    {
     "name": "stderr",
     "output_type": "stream",
     "text": [
      "100%|████████████████████████████| 200/200 [01:14<00:00,  2.68it/s, loss=-13.19]\n",
      "  0%|                                                   | 0/200 [00:00<?, ?it/s]"
     ]
    },
    {
     "name": "stdout",
     "output_type": "stream",
     "text": [
      "Epoch   3/ 50 -- train_loss: -18.584 -- validation_loss: 234.091\n",
      "Saving model..\n"
     ]
    },
    {
     "name": "stderr",
     "output_type": "stream",
     "text": [
      "100%|████████████████████████████| 200/200 [01:15<00:00,  2.67it/s, loss=-19.82]\n",
      "  0%|                                                   | 0/200 [00:00<?, ?it/s]"
     ]
    },
    {
     "name": "stdout",
     "output_type": "stream",
     "text": [
      "Epoch   4/ 50 -- train_loss: -21.171 -- validation_loss: 167.395\n",
      "Saving model..\n"
     ]
    },
    {
     "name": "stderr",
     "output_type": "stream",
     "text": [
      "100%|████████████████████████████| 200/200 [01:16<00:00,  2.63it/s, loss=-23.04]\n",
      "  0%|                                                   | 0/200 [00:00<?, ?it/s]"
     ]
    },
    {
     "name": "stdout",
     "output_type": "stream",
     "text": [
      "Epoch   5/ 50 -- train_loss: -23.938 -- validation_loss: 129.826\n",
      "Saving model..\n"
     ]
    },
    {
     "name": "stderr",
     "output_type": "stream",
     "text": [
      "100%|████████████████████████████| 200/200 [01:14<00:00,  2.68it/s, loss=-23.13]\n",
      "  0%|                                                   | 0/200 [00:00<?, ?it/s]"
     ]
    },
    {
     "name": "stdout",
     "output_type": "stream",
     "text": [
      "Epoch   6/ 50 -- train_loss: -24.993 -- validation_loss: 108.739\n",
      "Saving model..\n"
     ]
    },
    {
     "name": "stderr",
     "output_type": "stream",
     "text": [
      "100%|████████████████████████████| 200/200 [01:14<00:00,  2.68it/s, loss=-19.66]\n",
      "  0%|                                                   | 0/200 [00:00<?, ?it/s]"
     ]
    },
    {
     "name": "stdout",
     "output_type": "stream",
     "text": [
      "Epoch   7/ 50 -- train_loss: -25.062 -- validation_loss: 96.760\n",
      "Saving model..\n"
     ]
    },
    {
     "name": "stderr",
     "output_type": "stream",
     "text": [
      "100%|████████████████████████████| 200/200 [01:13<00:00,  2.74it/s, loss=-26.71]\n",
      "  0%|                                                   | 0/200 [00:00<?, ?it/s]"
     ]
    },
    {
     "name": "stdout",
     "output_type": "stream",
     "text": [
      "Epoch   8/ 50 -- train_loss: -26.829 -- validation_loss: 89.671\n",
      "Saving model..\n"
     ]
    },
    {
     "name": "stderr",
     "output_type": "stream",
     "text": [
      "100%|████████████████████████████| 200/200 [01:13<00:00,  2.74it/s, loss=-25.04]\n",
      "  0%|                                                   | 0/200 [00:00<?, ?it/s]"
     ]
    },
    {
     "name": "stdout",
     "output_type": "stream",
     "text": [
      "Epoch   9/ 50 -- train_loss: -28.390 -- validation_loss: 85.472\n",
      "Saving model..\n"
     ]
    },
    {
     "name": "stderr",
     "output_type": "stream",
     "text": [
      "100%|████████████████████████████| 200/200 [01:13<00:00,  2.73it/s, loss=-29.67]\n",
      "  0%|                                                   | 0/200 [00:00<?, ?it/s]"
     ]
    },
    {
     "name": "stdout",
     "output_type": "stream",
     "text": [
      "Epoch  10/ 50 -- train_loss: -30.131 -- validation_loss: 82.959\n",
      "Saving model..\n"
     ]
    },
    {
     "name": "stderr",
     "output_type": "stream",
     "text": [
      "100%|████████████████████████████| 200/200 [01:13<00:00,  2.73it/s, loss=-31.78]\n",
      "  0%|                                                   | 0/200 [00:00<?, ?it/s]"
     ]
    },
    {
     "name": "stdout",
     "output_type": "stream",
     "text": [
      "Epoch  11/ 50 -- train_loss: -32.347 -- validation_loss: 81.906\n",
      "Saving model..\n"
     ]
    },
    {
     "name": "stderr",
     "output_type": "stream",
     "text": [
      "100%|████████████████████████████| 200/200 [01:13<00:00,  2.73it/s, loss=-29.51]\n",
      "  0%|                                                   | 0/200 [00:00<?, ?it/s]"
     ]
    },
    {
     "name": "stdout",
     "output_type": "stream",
     "text": [
      "Epoch  12/ 50 -- train_loss: -33.846 -- validation_loss: 81.836\n",
      "Saving model..\n"
     ]
    },
    {
     "name": "stderr",
     "output_type": "stream",
     "text": [
      "100%|████████████████████████████| 200/200 [01:13<00:00,  2.73it/s, loss=-31.24]\n",
      "  0%|                                                   | 0/200 [00:00<?, ?it/s]"
     ]
    },
    {
     "name": "stdout",
     "output_type": "stream",
     "text": [
      "Epoch  13/ 50 -- train_loss: -35.142 -- validation_loss: 82.017\n"
     ]
    },
    {
     "name": "stderr",
     "output_type": "stream",
     "text": [
      "100%|████████████████████████████| 200/200 [01:13<00:00,  2.73it/s, loss=-36.25]\n",
      "  0%|                                                   | 0/200 [00:00<?, ?it/s]"
     ]
    },
    {
     "name": "stdout",
     "output_type": "stream",
     "text": [
      "Epoch  14/ 50 -- train_loss: -36.620 -- validation_loss: 82.437\n"
     ]
    },
    {
     "name": "stderr",
     "output_type": "stream",
     "text": [
      "100%|████████████████████████████| 200/200 [01:13<00:00,  2.73it/s, loss=-35.40]\n",
      "  0%|                                                   | 0/200 [00:00<?, ?it/s]"
     ]
    },
    {
     "name": "stdout",
     "output_type": "stream",
     "text": [
      "Epoch  15/ 50 -- train_loss: -35.569 -- validation_loss: 82.769\n"
     ]
    },
    {
     "name": "stderr",
     "output_type": "stream",
     "text": [
      "100%|████████████████████████████| 200/200 [01:13<00:00,  2.74it/s, loss=-36.69]\n",
      "  0%|                                                   | 0/200 [00:00<?, ?it/s]"
     ]
    },
    {
     "name": "stdout",
     "output_type": "stream",
     "text": [
      "Epoch  16/ 50 -- train_loss: -34.449 -- validation_loss: 82.914\n"
     ]
    },
    {
     "name": "stderr",
     "output_type": "stream",
     "text": [
      "100%|████████████████████████████| 200/200 [01:13<00:00,  2.73it/s, loss=-39.18]\n",
      "  0%|                                                   | 0/200 [00:00<?, ?it/s]"
     ]
    },
    {
     "name": "stdout",
     "output_type": "stream",
     "text": [
      "Epoch  17/ 50 -- train_loss: -36.725 -- validation_loss: 83.229\n"
     ]
    },
    {
     "name": "stderr",
     "output_type": "stream",
     "text": [
      "100%|████████████████████████████| 200/200 [01:13<00:00,  2.73it/s, loss=-39.30]\n",
      "  0%|                                                   | 0/200 [00:00<?, ?it/s]"
     ]
    },
    {
     "name": "stdout",
     "output_type": "stream",
     "text": [
      "Epoch  18/ 50 -- train_loss: -38.448 -- validation_loss: 83.584\n"
     ]
    },
    {
     "name": "stderr",
     "output_type": "stream",
     "text": [
      "100%|████████████████████████████| 200/200 [01:13<00:00,  2.73it/s, loss=-36.67]\n",
      "  0%|                                                   | 0/200 [00:00<?, ?it/s]"
     ]
    },
    {
     "name": "stdout",
     "output_type": "stream",
     "text": [
      "Epoch  19/ 50 -- train_loss: -39.375 -- validation_loss: 84.152\n"
     ]
    },
    {
     "name": "stderr",
     "output_type": "stream",
     "text": [
      "100%|████████████████████████████| 200/200 [01:13<00:00,  2.74it/s, loss=-35.69]\n",
      "  0%|                                                   | 0/200 [00:00<?, ?it/s]"
     ]
    },
    {
     "name": "stdout",
     "output_type": "stream",
     "text": [
      "Epoch  20/ 50 -- train_loss: -40.660 -- validation_loss: 84.812\n"
     ]
    },
    {
     "name": "stderr",
     "output_type": "stream",
     "text": [
      "100%|████████████████████████████| 200/200 [01:13<00:00,  2.74it/s, loss=-39.07]\n",
      "  0%|                                                   | 0/200 [00:00<?, ?it/s]"
     ]
    },
    {
     "name": "stdout",
     "output_type": "stream",
     "text": [
      "Epoch  21/ 50 -- train_loss: -40.885 -- validation_loss: 85.475\n"
     ]
    },
    {
     "name": "stderr",
     "output_type": "stream",
     "text": [
      "100%|████████████████████████████| 200/200 [01:13<00:00,  2.73it/s, loss=-43.21]\n",
      "  0%|                                                   | 0/200 [00:00<?, ?it/s]"
     ]
    },
    {
     "name": "stdout",
     "output_type": "stream",
     "text": [
      "Epoch  22/ 50 -- train_loss: -42.087 -- validation_loss: 86.169\n"
     ]
    },
    {
     "name": "stderr",
     "output_type": "stream",
     "text": [
      "100%|████████████████████████████| 200/200 [01:17<00:00,  2.57it/s, loss=-48.09]\n",
      "  0%|                                                   | 0/200 [00:00<?, ?it/s]"
     ]
    },
    {
     "name": "stdout",
     "output_type": "stream",
     "text": [
      "Epoch  23/ 50 -- train_loss: -42.543 -- validation_loss: 86.931\n"
     ]
    },
    {
     "name": "stderr",
     "output_type": "stream",
     "text": [
      "100%|████████████████████████████| 200/200 [01:15<00:00,  2.66it/s, loss=-51.63]\n",
      "  0%|                                                   | 0/200 [00:00<?, ?it/s]"
     ]
    },
    {
     "name": "stdout",
     "output_type": "stream",
     "text": [
      "Epoch  24/ 50 -- train_loss: -42.562 -- validation_loss: 87.493\n"
     ]
    },
    {
     "name": "stderr",
     "output_type": "stream",
     "text": [
      "100%|████████████████████████████| 200/200 [01:15<00:00,  2.66it/s, loss=-49.66]\n",
      "  0%|                                                   | 0/200 [00:00<?, ?it/s]"
     ]
    },
    {
     "name": "stdout",
     "output_type": "stream",
     "text": [
      "Epoch  25/ 50 -- train_loss: -43.740 -- validation_loss: 87.895\n"
     ]
    },
    {
     "name": "stderr",
     "output_type": "stream",
     "text": [
      "100%|████████████████████████████| 200/200 [01:14<00:00,  2.68it/s, loss=-43.17]\n",
      "  0%|                                                   | 0/200 [00:00<?, ?it/s]"
     ]
    },
    {
     "name": "stdout",
     "output_type": "stream",
     "text": [
      "Epoch  26/ 50 -- train_loss: -42.814 -- validation_loss: 88.103\n"
     ]
    },
    {
     "name": "stderr",
     "output_type": "stream",
     "text": [
      "100%|████████████████████████████| 200/200 [01:15<00:00,  2.67it/s, loss=-46.73]\n",
      "  0%|                                                   | 0/200 [00:00<?, ?it/s]"
     ]
    },
    {
     "name": "stdout",
     "output_type": "stream",
     "text": [
      "Epoch  27/ 50 -- train_loss: -43.951 -- validation_loss: 88.372\n"
     ]
    },
    {
     "name": "stderr",
     "output_type": "stream",
     "text": [
      "100%|████████████████████████████| 200/200 [01:15<00:00,  2.66it/s, loss=-46.72]\n",
      "  0%|                                                   | 0/200 [00:00<?, ?it/s]"
     ]
    },
    {
     "name": "stdout",
     "output_type": "stream",
     "text": [
      "Epoch  28/ 50 -- train_loss: -44.270 -- validation_loss: 88.872\n"
     ]
    },
    {
     "name": "stderr",
     "output_type": "stream",
     "text": [
      "100%|████████████████████████████| 200/200 [01:14<00:00,  2.69it/s, loss=-41.57]\n",
      "  0%|                                                   | 0/200 [00:00<?, ?it/s]"
     ]
    },
    {
     "name": "stdout",
     "output_type": "stream",
     "text": [
      "Epoch  29/ 50 -- train_loss: -44.315 -- validation_loss: 89.358\n"
     ]
    },
    {
     "name": "stderr",
     "output_type": "stream",
     "text": [
      "100%|████████████████████████████| 200/200 [01:14<00:00,  2.67it/s, loss=-39.86]\n",
      "  0%|                                                   | 0/200 [00:00<?, ?it/s]"
     ]
    },
    {
     "name": "stdout",
     "output_type": "stream",
     "text": [
      "Epoch  30/ 50 -- train_loss: -45.263 -- validation_loss: 89.935\n"
     ]
    },
    {
     "name": "stderr",
     "output_type": "stream",
     "text": [
      "100%|████████████████████████████| 200/200 [01:16<00:00,  2.63it/s, loss=-47.97]\n",
      "  0%|                                                   | 0/200 [00:00<?, ?it/s]"
     ]
    },
    {
     "name": "stdout",
     "output_type": "stream",
     "text": [
      "Epoch  31/ 50 -- train_loss: -45.887 -- validation_loss: 90.413\n"
     ]
    },
    {
     "name": "stderr",
     "output_type": "stream",
     "text": [
      "100%|████████████████████████████| 200/200 [01:18<00:00,  2.56it/s, loss=-47.71]\n",
      "  0%|                                                   | 0/200 [00:00<?, ?it/s]"
     ]
    },
    {
     "name": "stdout",
     "output_type": "stream",
     "text": [
      "Epoch  32/ 50 -- train_loss: -46.341 -- validation_loss: 90.832\n"
     ]
    },
    {
     "name": "stderr",
     "output_type": "stream",
     "text": [
      "100%|████████████████████████████| 200/200 [01:47<00:00,  1.86it/s, loss=-47.20]\n",
      "  0%|                                                   | 0/200 [00:00<?, ?it/s]"
     ]
    },
    {
     "name": "stdout",
     "output_type": "stream",
     "text": [
      "Epoch  33/ 50 -- train_loss: -46.467 -- validation_loss: 91.218\n",
      "Epoch 00033: reducing learning rate of group 0 to 5.0000e-03.\n"
     ]
    },
    {
     "name": "stderr",
     "output_type": "stream",
     "text": [
      "100%|████████████████████████████| 200/200 [01:38<00:00,  2.03it/s, loss=-54.63]\n",
      "  0%|                                                   | 0/200 [00:00<?, ?it/s]"
     ]
    },
    {
     "name": "stdout",
     "output_type": "stream",
     "text": [
      "Epoch  34/ 50 -- train_loss: -53.310 -- validation_loss: 92.237\n"
     ]
    },
    {
     "name": "stderr",
     "output_type": "stream",
     "text": [
      "100%|████████████████████████████| 200/200 [01:43<00:00,  1.93it/s, loss=-58.14]\n",
      "  0%|                                                   | 0/200 [00:00<?, ?it/s]"
     ]
    },
    {
     "name": "stdout",
     "output_type": "stream",
     "text": [
      "Epoch  35/ 50 -- train_loss: -54.415 -- validation_loss: 93.519\n"
     ]
    },
    {
     "name": "stderr",
     "output_type": "stream",
     "text": [
      "100%|████████████████████████████| 200/200 [01:43<00:00,  1.93it/s, loss=-58.57]\n",
      "  0%|                                                   | 0/200 [00:00<?, ?it/s]"
     ]
    },
    {
     "name": "stdout",
     "output_type": "stream",
     "text": [
      "Epoch  36/ 50 -- train_loss: -54.906 -- validation_loss: 94.637\n"
     ]
    },
    {
     "name": "stderr",
     "output_type": "stream",
     "text": [
      "100%|████████████████████████████| 200/200 [02:07<00:00,  1.56it/s, loss=-57.93]\n",
      "  0%|                                                   | 0/200 [00:00<?, ?it/s]"
     ]
    },
    {
     "name": "stdout",
     "output_type": "stream",
     "text": [
      "Epoch  37/ 50 -- train_loss: -55.545 -- validation_loss: 95.576\n"
     ]
    },
    {
     "name": "stderr",
     "output_type": "stream",
     "text": [
      "100%|████████████████████████████| 200/200 [01:52<00:00,  1.78it/s, loss=-52.28]\n",
      "  0%|                                                   | 0/200 [00:00<?, ?it/s]"
     ]
    },
    {
     "name": "stdout",
     "output_type": "stream",
     "text": [
      "Epoch  38/ 50 -- train_loss: -54.926 -- validation_loss: 96.166\n"
     ]
    },
    {
     "name": "stderr",
     "output_type": "stream",
     "text": [
      "100%|████████████████████████████| 200/200 [01:40<00:00,  2.00it/s, loss=-56.06]\n",
      "  0%|                                                   | 0/200 [00:00<?, ?it/s]"
     ]
    },
    {
     "name": "stdout",
     "output_type": "stream",
     "text": [
      "Epoch  39/ 50 -- train_loss: -55.961 -- validation_loss: 96.682\n"
     ]
    },
    {
     "name": "stderr",
     "output_type": "stream",
     "text": [
      "100%|████████████████████████████| 200/200 [01:39<00:00,  2.02it/s, loss=-57.02]\n",
      "  0%|                                                   | 0/200 [00:00<?, ?it/s]"
     ]
    },
    {
     "name": "stdout",
     "output_type": "stream",
     "text": [
      "Epoch  40/ 50 -- train_loss: -55.999 -- validation_loss: 97.195\n"
     ]
    },
    {
     "name": "stderr",
     "output_type": "stream",
     "text": [
      "100%|████████████████████████████| 200/200 [01:41<00:00,  1.98it/s, loss=-53.09]\n",
      "  0%|                                                   | 0/200 [00:00<?, ?it/s]"
     ]
    },
    {
     "name": "stdout",
     "output_type": "stream",
     "text": [
      "Epoch  41/ 50 -- train_loss: -56.338 -- validation_loss: 97.657\n"
     ]
    },
    {
     "name": "stderr",
     "output_type": "stream",
     "text": [
      "100%|████████████████████████████| 200/200 [01:38<00:00,  2.04it/s, loss=-43.36]\n",
      "  0%|                                                   | 0/200 [00:00<?, ?it/s]"
     ]
    },
    {
     "name": "stdout",
     "output_type": "stream",
     "text": [
      "Epoch  42/ 50 -- train_loss: -53.591 -- validation_loss: 97.866\n"
     ]
    },
    {
     "name": "stderr",
     "output_type": "stream",
     "text": [
      "100%|████████████████████████████| 200/200 [01:37<00:00,  2.06it/s, loss=-60.54]\n",
      "  0%|                                                   | 0/200 [00:00<?, ?it/s]"
     ]
    },
    {
     "name": "stdout",
     "output_type": "stream",
     "text": [
      "Epoch  43/ 50 -- train_loss: -54.677 -- validation_loss: 98.020\n"
     ]
    },
    {
     "name": "stderr",
     "output_type": "stream",
     "text": [
      "100%|████████████████████████████| 200/200 [01:37<00:00,  2.04it/s, loss=-56.25]\n",
      "  0%|                                                   | 0/200 [00:00<?, ?it/s]"
     ]
    },
    {
     "name": "stdout",
     "output_type": "stream",
     "text": [
      "Epoch  44/ 50 -- train_loss: -54.752 -- validation_loss: 98.129\n"
     ]
    },
    {
     "name": "stderr",
     "output_type": "stream",
     "text": [
      "100%|████████████████████████████| 200/200 [01:41<00:00,  1.97it/s, loss=-52.78]\n",
      "  0%|                                                   | 0/200 [00:00<?, ?it/s]"
     ]
    },
    {
     "name": "stdout",
     "output_type": "stream",
     "text": [
      "Epoch  45/ 50 -- train_loss: -55.545 -- validation_loss: 98.300\n"
     ]
    },
    {
     "name": "stderr",
     "output_type": "stream",
     "text": [
      "100%|████████████████████████████| 200/200 [01:40<00:00,  1.98it/s, loss=-60.93]\n",
      "  0%|                                                   | 0/200 [00:00<?, ?it/s]"
     ]
    },
    {
     "name": "stdout",
     "output_type": "stream",
     "text": [
      "Epoch  46/ 50 -- train_loss: -56.346 -- validation_loss: 98.482\n"
     ]
    },
    {
     "name": "stderr",
     "output_type": "stream",
     "text": [
      "100%|████████████████████████████| 200/200 [01:44<00:00,  1.91it/s, loss=-57.88]\n",
      "  0%|                                                   | 0/200 [00:00<?, ?it/s]"
     ]
    },
    {
     "name": "stdout",
     "output_type": "stream",
     "text": [
      "Epoch  47/ 50 -- train_loss: -56.212 -- validation_loss: 98.719\n"
     ]
    },
    {
     "name": "stderr",
     "output_type": "stream",
     "text": [
      "100%|████████████████████████████| 200/200 [01:45<00:00,  1.90it/s, loss=-50.96]\n",
      "  0%|                                                   | 0/200 [00:00<?, ?it/s]"
     ]
    },
    {
     "name": "stdout",
     "output_type": "stream",
     "text": [
      "Epoch  48/ 50 -- train_loss: -57.152 -- validation_loss: 98.972\n"
     ]
    },
    {
     "name": "stderr",
     "output_type": "stream",
     "text": [
      "100%|████████████████████████████| 200/200 [01:50<00:00,  1.81it/s, loss=-60.61]\n",
      "  0%|                                                   | 0/200 [00:00<?, ?it/s]"
     ]
    },
    {
     "name": "stdout",
     "output_type": "stream",
     "text": [
      "Epoch  49/ 50 -- train_loss: -56.210 -- validation_loss: 99.161\n"
     ]
    },
    {
     "name": "stderr",
     "output_type": "stream",
     "text": [
      "100%|████████████████████████████| 200/200 [01:55<00:00,  1.73it/s, loss=-56.79]\n"
     ]
    },
    {
     "name": "stdout",
     "output_type": "stream",
     "text": [
      "Epoch  50/ 50 -- train_loss: -56.538 -- validation_loss: 99.320\n",
      "###### Stop training after 50 epochs!\n",
      "Validation loss: 99.320\n",
      "Test loss:       99.409\n"
     ]
    },
    {
     "name": "stderr",
     "output_type": "stream",
     "text": [
      "\r",
      "  0%|                                                     | 0/4 [00:00<?, ?it/s]"
     ]
    },
    {
     "name": "stdout",
     "output_type": "stream",
     "text": [
      "Loading dataset..\n",
      "Creating directory experiment..\n",
      "Creating BNAF model..\n",
      "Creating optimizer..\n",
      "Creating scheduler..\n",
      "Training..\n"
     ]
    },
    {
     "name": "stderr",
     "output_type": "stream",
     "text": [
      "100%|████████████████████████████████| 4/4 [00:02<00:00,  1.62it/s, loss=203.66]\n"
     ]
    },
    {
     "name": "stdout",
     "output_type": "stream",
     "text": [
      "Epoch   1/ 50 -- train_loss: 219.295 -- validation_loss: 980.516\n",
      "Saving model..\n"
     ]
    },
    {
     "name": "stderr",
     "output_type": "stream",
     "text": [
      "100%|████████████████████████████████| 4/4 [00:02<00:00,  1.57it/s, loss=152.15]\n"
     ]
    },
    {
     "name": "stdout",
     "output_type": "stream",
     "text": [
      "Epoch   2/ 50 -- train_loss: 171.482 -- validation_loss: 964.593\n",
      "Saving model..\n"
     ]
    },
    {
     "name": "stderr",
     "output_type": "stream",
     "text": [
      "100%|████████████████████████████████| 4/4 [00:02<00:00,  1.58it/s, loss=114.22]\n"
     ]
    },
    {
     "name": "stdout",
     "output_type": "stream",
     "text": [
      "Epoch   3/ 50 -- train_loss: 129.530 -- validation_loss: 948.306\n",
      "Saving model..\n"
     ]
    },
    {
     "name": "stderr",
     "output_type": "stream",
     "text": [
      "100%|█████████████████████████████████| 4/4 [00:02<00:00,  1.63it/s, loss=87.20]\n"
     ]
    },
    {
     "name": "stdout",
     "output_type": "stream",
     "text": [
      "Epoch   4/ 50 -- train_loss: 98.130 -- validation_loss: 931.697\n",
      "Saving model..\n"
     ]
    },
    {
     "name": "stderr",
     "output_type": "stream",
     "text": [
      "100%|█████████████████████████████████| 4/4 [00:02<00:00,  1.59it/s, loss=74.10]\n"
     ]
    },
    {
     "name": "stdout",
     "output_type": "stream",
     "text": [
      "Epoch   5/ 50 -- train_loss: 78.213 -- validation_loss: 914.918\n",
      "Saving model..\n"
     ]
    },
    {
     "name": "stderr",
     "output_type": "stream",
     "text": [
      "100%|█████████████████████████████████| 4/4 [00:02<00:00,  1.65it/s, loss=62.27]\n"
     ]
    },
    {
     "name": "stdout",
     "output_type": "stream",
     "text": [
      "Epoch   6/ 50 -- train_loss: 64.542 -- validation_loss: 898.013\n",
      "Saving model..\n"
     ]
    },
    {
     "name": "stderr",
     "output_type": "stream",
     "text": [
      "100%|█████████████████████████████████| 4/4 [00:02<00:00,  1.68it/s, loss=51.95]\n"
     ]
    },
    {
     "name": "stdout",
     "output_type": "stream",
     "text": [
      "Epoch   7/ 50 -- train_loss: 53.324 -- validation_loss: 881.482\n",
      "Saving model..\n"
     ]
    },
    {
     "name": "stderr",
     "output_type": "stream",
     "text": [
      "100%|█████████████████████████████████| 4/4 [00:02<00:00,  1.56it/s, loss=41.67]\n"
     ]
    },
    {
     "name": "stdout",
     "output_type": "stream",
     "text": [
      "Epoch   8/ 50 -- train_loss: 45.112 -- validation_loss: 865.119\n",
      "Saving model..\n"
     ]
    },
    {
     "name": "stderr",
     "output_type": "stream",
     "text": [
      "100%|█████████████████████████████████| 4/4 [00:02<00:00,  1.55it/s, loss=39.10]\n"
     ]
    },
    {
     "name": "stdout",
     "output_type": "stream",
     "text": [
      "Epoch   9/ 50 -- train_loss: 39.871 -- validation_loss: 849.138\n",
      "Saving model..\n"
     ]
    },
    {
     "name": "stderr",
     "output_type": "stream",
     "text": [
      "100%|█████████████████████████████████| 4/4 [00:02<00:00,  1.78it/s, loss=33.95]\n"
     ]
    },
    {
     "name": "stdout",
     "output_type": "stream",
     "text": [
      "Epoch  10/ 50 -- train_loss: 35.633 -- validation_loss: 833.760\n",
      "Saving model..\n"
     ]
    },
    {
     "name": "stderr",
     "output_type": "stream",
     "text": [
      "100%|█████████████████████████████████| 4/4 [00:02<00:00,  1.79it/s, loss=31.72]\n"
     ]
    },
    {
     "name": "stdout",
     "output_type": "stream",
     "text": [
      "Epoch  11/ 50 -- train_loss: 31.794 -- validation_loss: 818.895\n",
      "Saving model..\n"
     ]
    },
    {
     "name": "stderr",
     "output_type": "stream",
     "text": [
      "100%|█████████████████████████████████| 4/4 [00:02<00:00,  1.80it/s, loss=27.38]\n"
     ]
    },
    {
     "name": "stdout",
     "output_type": "stream",
     "text": [
      "Epoch  12/ 50 -- train_loss: 28.732 -- validation_loss: 804.416\n",
      "Saving model..\n"
     ]
    },
    {
     "name": "stderr",
     "output_type": "stream",
     "text": [
      "100%|█████████████████████████████████| 4/4 [00:02<00:00,  1.78it/s, loss=28.05]\n"
     ]
    },
    {
     "name": "stdout",
     "output_type": "stream",
     "text": [
      "Epoch  13/ 50 -- train_loss: 26.365 -- validation_loss: 790.599\n",
      "Saving model..\n"
     ]
    },
    {
     "name": "stderr",
     "output_type": "stream",
     "text": [
      "100%|█████████████████████████████████| 4/4 [00:02<00:00,  1.75it/s, loss=24.13]\n"
     ]
    },
    {
     "name": "stdout",
     "output_type": "stream",
     "text": [
      "Epoch  14/ 50 -- train_loss: 24.210 -- validation_loss: 777.215\n",
      "Saving model..\n"
     ]
    },
    {
     "name": "stderr",
     "output_type": "stream",
     "text": [
      "100%|█████████████████████████████████| 4/4 [00:02<00:00,  1.73it/s, loss=25.22]\n"
     ]
    },
    {
     "name": "stdout",
     "output_type": "stream",
     "text": [
      "Epoch  15/ 50 -- train_loss: 22.125 -- validation_loss: 764.361\n",
      "Saving model..\n"
     ]
    },
    {
     "name": "stderr",
     "output_type": "stream",
     "text": [
      "100%|█████████████████████████████████| 4/4 [00:02<00:00,  1.82it/s, loss=21.14]\n"
     ]
    },
    {
     "name": "stdout",
     "output_type": "stream",
     "text": [
      "Epoch  16/ 50 -- train_loss: 20.208 -- validation_loss: 752.012\n",
      "Saving model..\n"
     ]
    },
    {
     "name": "stderr",
     "output_type": "stream",
     "text": [
      "100%|█████████████████████████████████| 4/4 [00:02<00:00,  1.75it/s, loss=17.81]\n"
     ]
    },
    {
     "name": "stdout",
     "output_type": "stream",
     "text": [
      "Epoch  17/ 50 -- train_loss: 19.119 -- validation_loss: 740.067\n",
      "Saving model..\n"
     ]
    },
    {
     "name": "stderr",
     "output_type": "stream",
     "text": [
      "100%|█████████████████████████████████| 4/4 [00:02<00:00,  1.75it/s, loss=14.31]\n"
     ]
    },
    {
     "name": "stdout",
     "output_type": "stream",
     "text": [
      "Epoch  18/ 50 -- train_loss: 17.656 -- validation_loss: 728.503\n",
      "Saving model..\n"
     ]
    },
    {
     "name": "stderr",
     "output_type": "stream",
     "text": [
      "100%|█████████████████████████████████| 4/4 [00:02<00:00,  1.76it/s, loss=14.86]\n"
     ]
    },
    {
     "name": "stdout",
     "output_type": "stream",
     "text": [
      "Epoch  19/ 50 -- train_loss: 16.167 -- validation_loss: 717.307\n",
      "Saving model..\n"
     ]
    },
    {
     "name": "stderr",
     "output_type": "stream",
     "text": [
      "100%|█████████████████████████████████| 4/4 [00:02<00:00,  1.80it/s, loss=17.39]\n"
     ]
    },
    {
     "name": "stdout",
     "output_type": "stream",
     "text": [
      "Epoch  20/ 50 -- train_loss: 15.198 -- validation_loss: 706.627\n",
      "Saving model..\n"
     ]
    },
    {
     "name": "stderr",
     "output_type": "stream",
     "text": [
      "100%|█████████████████████████████████| 4/4 [00:02<00:00,  1.72it/s, loss=15.70]\n"
     ]
    },
    {
     "name": "stdout",
     "output_type": "stream",
     "text": [
      "Epoch  21/ 50 -- train_loss: 14.669 -- validation_loss: 696.318\n",
      "Saving model..\n"
     ]
    },
    {
     "name": "stderr",
     "output_type": "stream",
     "text": [
      "100%|█████████████████████████████████| 4/4 [00:02<00:00,  1.80it/s, loss=14.30]\n"
     ]
    },
    {
     "name": "stdout",
     "output_type": "stream",
     "text": [
      "Epoch  22/ 50 -- train_loss: 13.722 -- validation_loss: 686.227\n",
      "Saving model..\n"
     ]
    },
    {
     "name": "stderr",
     "output_type": "stream",
     "text": [
      "100%|█████████████████████████████████| 4/4 [00:02<00:00,  1.77it/s, loss=13.97]\n"
     ]
    },
    {
     "name": "stdout",
     "output_type": "stream",
     "text": [
      "Epoch  23/ 50 -- train_loss: 12.659 -- validation_loss: 676.706\n",
      "Saving model..\n"
     ]
    },
    {
     "name": "stderr",
     "output_type": "stream",
     "text": [
      "100%|█████████████████████████████████| 4/4 [00:02<00:00,  1.74it/s, loss=13.05]\n"
     ]
    },
    {
     "name": "stdout",
     "output_type": "stream",
     "text": [
      "Epoch  24/ 50 -- train_loss: 12.589 -- validation_loss: 667.383\n",
      "Saving model..\n"
     ]
    },
    {
     "name": "stderr",
     "output_type": "stream",
     "text": [
      "100%|█████████████████████████████████| 4/4 [00:02<00:00,  1.63it/s, loss=10.79]\n"
     ]
    },
    {
     "name": "stdout",
     "output_type": "stream",
     "text": [
      "Epoch  25/ 50 -- train_loss: 11.528 -- validation_loss: 658.298\n",
      "Saving model..\n"
     ]
    },
    {
     "name": "stderr",
     "output_type": "stream",
     "text": [
      "100%|██████████████████████████████████| 4/4 [00:02<00:00,  1.60it/s, loss=9.85]\n"
     ]
    },
    {
     "name": "stdout",
     "output_type": "stream",
     "text": [
      "Epoch  26/ 50 -- train_loss: 10.466 -- validation_loss: 649.625\n",
      "Saving model..\n"
     ]
    },
    {
     "name": "stderr",
     "output_type": "stream",
     "text": [
      "100%|██████████████████████████████████| 4/4 [00:02<00:00,  1.55it/s, loss=8.70]\n"
     ]
    },
    {
     "name": "stdout",
     "output_type": "stream",
     "text": [
      "Epoch  27/ 50 -- train_loss: 10.009 -- validation_loss: 641.185\n",
      "Saving model..\n"
     ]
    },
    {
     "name": "stderr",
     "output_type": "stream",
     "text": [
      "100%|██████████████████████████████████| 4/4 [00:02<00:00,  1.64it/s, loss=9.31]\n"
     ]
    },
    {
     "name": "stdout",
     "output_type": "stream",
     "text": [
      "Epoch  28/ 50 -- train_loss: 9.097 -- validation_loss: 633.000\n",
      "Saving model..\n"
     ]
    },
    {
     "name": "stderr",
     "output_type": "stream",
     "text": [
      "100%|█████████████████████████████████| 4/4 [00:02<00:00,  1.69it/s, loss=10.53]\n"
     ]
    },
    {
     "name": "stdout",
     "output_type": "stream",
     "text": [
      "Epoch  29/ 50 -- train_loss: 8.177 -- validation_loss: 625.094\n",
      "Saving model..\n"
     ]
    },
    {
     "name": "stderr",
     "output_type": "stream",
     "text": [
      "100%|█████████████████████████████████| 4/4 [00:02<00:00,  1.67it/s, loss=10.33]\n"
     ]
    },
    {
     "name": "stdout",
     "output_type": "stream",
     "text": [
      "Epoch  30/ 50 -- train_loss: 7.537 -- validation_loss: 617.399\n",
      "Saving model..\n"
     ]
    },
    {
     "name": "stderr",
     "output_type": "stream",
     "text": [
      "100%|██████████████████████████████████| 4/4 [00:02<00:00,  1.66it/s, loss=5.21]\n"
     ]
    },
    {
     "name": "stdout",
     "output_type": "stream",
     "text": [
      "Epoch  31/ 50 -- train_loss: 6.889 -- validation_loss: 609.928\n",
      "Saving model..\n"
     ]
    },
    {
     "name": "stderr",
     "output_type": "stream",
     "text": [
      "100%|██████████████████████████████████| 4/4 [00:02<00:00,  1.67it/s, loss=4.79]\n"
     ]
    },
    {
     "name": "stdout",
     "output_type": "stream",
     "text": [
      "Epoch  32/ 50 -- train_loss: 5.680 -- validation_loss: 602.647\n",
      "Saving model..\n"
     ]
    },
    {
     "name": "stderr",
     "output_type": "stream",
     "text": [
      "100%|██████████████████████████████████| 4/4 [00:02<00:00,  1.69it/s, loss=5.29]\n"
     ]
    },
    {
     "name": "stdout",
     "output_type": "stream",
     "text": [
      "Epoch  33/ 50 -- train_loss: 5.705 -- validation_loss: 595.550\n",
      "Saving model..\n"
     ]
    },
    {
     "name": "stderr",
     "output_type": "stream",
     "text": [
      "100%|██████████████████████████████████| 4/4 [00:02<00:00,  1.76it/s, loss=7.07]\n"
     ]
    },
    {
     "name": "stdout",
     "output_type": "stream",
     "text": [
      "Epoch  34/ 50 -- train_loss: 5.332 -- validation_loss: 588.611\n",
      "Saving model..\n"
     ]
    },
    {
     "name": "stderr",
     "output_type": "stream",
     "text": [
      "100%|██████████████████████████████████| 4/4 [00:02<00:00,  1.79it/s, loss=4.33]\n"
     ]
    },
    {
     "name": "stdout",
     "output_type": "stream",
     "text": [
      "Epoch  35/ 50 -- train_loss: 5.287 -- validation_loss: 582.102\n",
      "Saving model..\n"
     ]
    },
    {
     "name": "stderr",
     "output_type": "stream",
     "text": [
      "100%|██████████████████████████████████| 4/4 [00:02<00:00,  1.75it/s, loss=5.45]\n"
     ]
    },
    {
     "name": "stdout",
     "output_type": "stream",
     "text": [
      "Epoch  36/ 50 -- train_loss: 5.779 -- validation_loss: 575.737\n",
      "Saving model..\n"
     ]
    },
    {
     "name": "stderr",
     "output_type": "stream",
     "text": [
      "100%|██████████████████████████████████| 4/4 [00:02<00:00,  1.55it/s, loss=2.74]\n"
     ]
    },
    {
     "name": "stdout",
     "output_type": "stream",
     "text": [
      "Epoch  37/ 50 -- train_loss: 5.034 -- validation_loss: 569.448\n",
      "Saving model..\n"
     ]
    },
    {
     "name": "stderr",
     "output_type": "stream",
     "text": [
      "100%|██████████████████████████████████| 4/4 [00:02<00:00,  1.62it/s, loss=3.51]\n"
     ]
    },
    {
     "name": "stdout",
     "output_type": "stream",
     "text": [
      "Epoch  38/ 50 -- train_loss: 4.364 -- validation_loss: 563.263\n",
      "Saving model..\n"
     ]
    },
    {
     "name": "stderr",
     "output_type": "stream",
     "text": [
      "100%|██████████████████████████████████| 4/4 [00:02<00:00,  1.60it/s, loss=2.07]\n"
     ]
    },
    {
     "name": "stdout",
     "output_type": "stream",
     "text": [
      "Epoch  39/ 50 -- train_loss: 3.949 -- validation_loss: 557.299\n",
      "Saving model..\n"
     ]
    },
    {
     "name": "stderr",
     "output_type": "stream",
     "text": [
      "100%|██████████████████████████████████| 4/4 [00:03<00:00,  1.30it/s, loss=3.88]\n"
     ]
    },
    {
     "name": "stdout",
     "output_type": "stream",
     "text": [
      "Epoch  40/ 50 -- train_loss: 3.513 -- validation_loss: 551.274\n",
      "Saving model..\n"
     ]
    },
    {
     "name": "stderr",
     "output_type": "stream",
     "text": [
      "100%|██████████████████████████████████| 4/4 [00:02<00:00,  1.62it/s, loss=2.35]\n"
     ]
    },
    {
     "name": "stdout",
     "output_type": "stream",
     "text": [
      "Epoch  41/ 50 -- train_loss: 3.022 -- validation_loss: 545.731\n",
      "Saving model..\n"
     ]
    },
    {
     "name": "stderr",
     "output_type": "stream",
     "text": [
      "100%|█████████████████████████████████| 4/4 [00:02<00:00,  1.61it/s, loss=-0.35]\n"
     ]
    },
    {
     "name": "stdout",
     "output_type": "stream",
     "text": [
      "Epoch  42/ 50 -- train_loss: 3.051 -- validation_loss: 540.200\n",
      "Saving model..\n"
     ]
    },
    {
     "name": "stderr",
     "output_type": "stream",
     "text": [
      "100%|██████████████████████████████████| 4/4 [00:02<00:00,  1.50it/s, loss=2.92]\n"
     ]
    },
    {
     "name": "stdout",
     "output_type": "stream",
     "text": [
      "Epoch  43/ 50 -- train_loss: 2.248 -- validation_loss: 534.824\n",
      "Saving model..\n"
     ]
    },
    {
     "name": "stderr",
     "output_type": "stream",
     "text": [
      "100%|██████████████████████████████████| 4/4 [00:02<00:00,  1.75it/s, loss=3.46]\n"
     ]
    },
    {
     "name": "stdout",
     "output_type": "stream",
     "text": [
      "Epoch  44/ 50 -- train_loss: 1.850 -- validation_loss: 529.371\n",
      "Saving model..\n"
     ]
    },
    {
     "name": "stderr",
     "output_type": "stream",
     "text": [
      "100%|██████████████████████████████████| 4/4 [00:01<00:00,  2.03it/s, loss=1.36]\n"
     ]
    },
    {
     "name": "stdout",
     "output_type": "stream",
     "text": [
      "Epoch  45/ 50 -- train_loss: 1.593 -- validation_loss: 524.519\n",
      "Saving model..\n"
     ]
    },
    {
     "name": "stderr",
     "output_type": "stream",
     "text": [
      "100%|██████████████████████████████████| 4/4 [00:02<00:00,  1.77it/s, loss=4.08]\n"
     ]
    },
    {
     "name": "stdout",
     "output_type": "stream",
     "text": [
      "Epoch  46/ 50 -- train_loss: 1.499 -- validation_loss: 519.553\n",
      "Saving model..\n"
     ]
    },
    {
     "name": "stderr",
     "output_type": "stream",
     "text": [
      "100%|██████████████████████████████████| 4/4 [00:02<00:00,  1.80it/s, loss=3.02]\n"
     ]
    },
    {
     "name": "stdout",
     "output_type": "stream",
     "text": [
      "Epoch  47/ 50 -- train_loss: 1.343 -- validation_loss: 514.467\n",
      "Saving model..\n"
     ]
    },
    {
     "name": "stderr",
     "output_type": "stream",
     "text": [
      "100%|██████████████████████████████████| 4/4 [00:02<00:00,  1.82it/s, loss=1.37]\n"
     ]
    },
    {
     "name": "stdout",
     "output_type": "stream",
     "text": [
      "Epoch  48/ 50 -- train_loss: 1.533 -- validation_loss: 509.837\n",
      "Saving model..\n"
     ]
    },
    {
     "name": "stderr",
     "output_type": "stream",
     "text": [
      "100%|██████████████████████████████████| 4/4 [00:02<00:00,  1.87it/s, loss=4.28]\n"
     ]
    },
    {
     "name": "stdout",
     "output_type": "stream",
     "text": [
      "Epoch  49/ 50 -- train_loss: 1.666 -- validation_loss: 505.325\n",
      "Saving model..\n"
     ]
    },
    {
     "name": "stderr",
     "output_type": "stream",
     "text": [
      "100%|██████████████████████████████████| 4/4 [00:02<00:00,  1.92it/s, loss=0.44]\n"
     ]
    },
    {
     "name": "stdout",
     "output_type": "stream",
     "text": [
      "Epoch  50/ 50 -- train_loss: 0.968 -- validation_loss: 500.785\n",
      "Saving model..\n"
     ]
    },
    {
     "name": "stderr",
     "output_type": "stream",
     "text": [
      "\r",
      "  0%|                                                   | 0/200 [00:00<?, ?it/s]"
     ]
    },
    {
     "name": "stdout",
     "output_type": "stream",
     "text": [
      "###### Stop training after 50 epochs!\n",
      "Validation loss: 500.785\n",
      "Test loss:       498.897\n",
      "Loading dataset..\n",
      "No validation set passed\n",
      "No test set passed\n",
      "Creating directory experiment..\n",
      "Creating BNAF model..\n",
      "Creating optimizer..\n",
      "Creating scheduler..\n",
      "Training..\n"
     ]
    },
    {
     "name": "stderr",
     "output_type": "stream",
     "text": [
      "100%|█████████████████████████████| 200/200 [01:58<00:00,  1.68it/s, loss=-9.37]\n"
     ]
    },
    {
     "name": "stdout",
     "output_type": "stream",
     "text": [
      "Epoch   1/ 50 -- train_loss: 12.963 -- validation_loss: 515.261\n",
      "Saving model..\n"
     ]
    },
    {
     "name": "stderr",
     "output_type": "stream",
     "text": [
      "100%|████████████████████████████| 200/200 [01:49<00:00,  1.83it/s, loss=-14.41]\n"
     ]
    },
    {
     "name": "stdout",
     "output_type": "stream",
     "text": [
      "Epoch   2/ 50 -- train_loss: -11.417 -- validation_loss: 352.452\n",
      "Saving model..\n"
     ]
    },
    {
     "name": "stderr",
     "output_type": "stream",
     "text": [
      "100%|████████████████████████████| 200/200 [01:44<00:00,  1.91it/s, loss=-15.48]\n"
     ]
    },
    {
     "name": "stdout",
     "output_type": "stream",
     "text": [
      "Epoch   3/ 50 -- train_loss: -16.602 -- validation_loss: 250.074\n",
      "Saving model..\n"
     ]
    },
    {
     "name": "stderr",
     "output_type": "stream",
     "text": [
      "100%|████████████████████████████| 200/200 [01:22<00:00,  2.42it/s, loss=-20.51]\n"
     ]
    },
    {
     "name": "stdout",
     "output_type": "stream",
     "text": [
      "Epoch   4/ 50 -- train_loss: -19.089 -- validation_loss: 182.328\n",
      "Saving model..\n"
     ]
    },
    {
     "name": "stderr",
     "output_type": "stream",
     "text": [
      "100%|████████████████████████████| 200/200 [01:27<00:00,  2.30it/s, loss=-18.63]\n"
     ]
    },
    {
     "name": "stdout",
     "output_type": "stream",
     "text": [
      "Epoch   5/ 50 -- train_loss: -21.208 -- validation_loss: 141.513\n",
      "Saving model..\n"
     ]
    },
    {
     "name": "stderr",
     "output_type": "stream",
     "text": [
      "100%|████████████████████████████| 200/200 [01:22<00:00,  2.42it/s, loss=-26.42]\n",
      "  0%|                                                   | 0/200 [00:00<?, ?it/s]"
     ]
    },
    {
     "name": "stdout",
     "output_type": "stream",
     "text": [
      "Epoch   6/ 50 -- train_loss: -22.695 -- validation_loss: 117.865\n",
      "Saving model..\n"
     ]
    },
    {
     "name": "stderr",
     "output_type": "stream",
     "text": [
      "100%|████████████████████████████| 200/200 [01:26<00:00,  2.30it/s, loss=-27.57]\n"
     ]
    },
    {
     "name": "stdout",
     "output_type": "stream",
     "text": [
      "Epoch   7/ 50 -- train_loss: -23.948 -- validation_loss: 104.058\n",
      "Saving model..\n"
     ]
    },
    {
     "name": "stderr",
     "output_type": "stream",
     "text": [
      "100%|████████████████████████████| 200/200 [01:27<00:00,  2.29it/s, loss=-22.32]\n"
     ]
    },
    {
     "name": "stdout",
     "output_type": "stream",
     "text": [
      "Epoch   8/ 50 -- train_loss: -26.065 -- validation_loss: 95.709\n",
      "Saving model..\n"
     ]
    },
    {
     "name": "stderr",
     "output_type": "stream",
     "text": [
      "100%|████████████████████████████| 200/200 [01:25<00:00,  2.33it/s, loss=-27.42]\n"
     ]
    },
    {
     "name": "stdout",
     "output_type": "stream",
     "text": [
      "Epoch   9/ 50 -- train_loss: -28.954 -- validation_loss: 90.792\n",
      "Saving model..\n"
     ]
    },
    {
     "name": "stderr",
     "output_type": "stream",
     "text": [
      "100%|████████████████████████████| 200/200 [01:26<00:00,  2.30it/s, loss=-35.13]\n"
     ]
    },
    {
     "name": "stdout",
     "output_type": "stream",
     "text": [
      "Epoch  10/ 50 -- train_loss: -29.941 -- validation_loss: 87.566\n",
      "Saving model..\n"
     ]
    },
    {
     "name": "stderr",
     "output_type": "stream",
     "text": [
      "100%|████████████████████████████| 200/200 [01:26<00:00,  2.30it/s, loss=-31.05]\n"
     ]
    },
    {
     "name": "stdout",
     "output_type": "stream",
     "text": [
      "Epoch  11/ 50 -- train_loss: -31.052 -- validation_loss: 85.732\n",
      "Saving model..\n"
     ]
    },
    {
     "name": "stderr",
     "output_type": "stream",
     "text": [
      "100%|████████████████████████████| 200/200 [01:27<00:00,  2.30it/s, loss=-33.56]\n",
      "  0%|                                                   | 0/200 [00:00<?, ?it/s]"
     ]
    },
    {
     "name": "stdout",
     "output_type": "stream",
     "text": [
      "Epoch  12/ 50 -- train_loss: -32.319 -- validation_loss: 84.594\n",
      "Saving model..\n"
     ]
    },
    {
     "name": "stderr",
     "output_type": "stream",
     "text": [
      "100%|████████████████████████████| 200/200 [01:16<00:00,  2.61it/s, loss=-31.72]\n",
      "  0%|                                                   | 0/200 [00:00<?, ?it/s]"
     ]
    },
    {
     "name": "stdout",
     "output_type": "stream",
     "text": [
      "Epoch  13/ 50 -- train_loss: -32.934 -- validation_loss: 83.982\n",
      "Saving model..\n"
     ]
    },
    {
     "name": "stderr",
     "output_type": "stream",
     "text": [
      "100%|████████████████████████████| 200/200 [01:18<00:00,  2.55it/s, loss=-37.92]\n",
      "  0%|                                                   | 0/200 [00:00<?, ?it/s]"
     ]
    },
    {
     "name": "stdout",
     "output_type": "stream",
     "text": [
      "Epoch  14/ 50 -- train_loss: -34.623 -- validation_loss: 83.875\n",
      "Saving model..\n"
     ]
    },
    {
     "name": "stderr",
     "output_type": "stream",
     "text": [
      "100%|████████████████████████████| 200/200 [01:20<00:00,  2.48it/s, loss=-36.43]\n",
      "  0%|                                                   | 0/200 [00:00<?, ?it/s]"
     ]
    },
    {
     "name": "stdout",
     "output_type": "stream",
     "text": [
      "Epoch  15/ 50 -- train_loss: -35.317 -- validation_loss: 84.098\n"
     ]
    },
    {
     "name": "stderr",
     "output_type": "stream",
     "text": [
      "100%|████████████████████████████| 200/200 [01:20<00:00,  2.48it/s, loss=-40.02]\n",
      "  0%|                                                   | 0/200 [00:00<?, ?it/s]"
     ]
    },
    {
     "name": "stdout",
     "output_type": "stream",
     "text": [
      "Epoch  16/ 50 -- train_loss: -36.982 -- validation_loss: 84.502\n"
     ]
    },
    {
     "name": "stderr",
     "output_type": "stream",
     "text": [
      "100%|████████████████████████████| 200/200 [01:20<00:00,  2.48it/s, loss=-35.28]\n",
      "  0%|                                                   | 0/200 [00:00<?, ?it/s]"
     ]
    },
    {
     "name": "stdout",
     "output_type": "stream",
     "text": [
      "Epoch  17/ 50 -- train_loss: -37.455 -- validation_loss: 84.839\n"
     ]
    },
    {
     "name": "stderr",
     "output_type": "stream",
     "text": [
      "100%|████████████████████████████| 200/200 [01:20<00:00,  2.49it/s, loss=-35.44]\n",
      "  0%|                                                   | 0/200 [00:00<?, ?it/s]"
     ]
    },
    {
     "name": "stdout",
     "output_type": "stream",
     "text": [
      "Epoch  18/ 50 -- train_loss: -36.041 -- validation_loss: 84.888\n"
     ]
    },
    {
     "name": "stderr",
     "output_type": "stream",
     "text": [
      "100%|████████████████████████████| 200/200 [01:19<00:00,  2.51it/s, loss=-40.43]\n",
      "  0%|                                                   | 0/200 [00:00<?, ?it/s]"
     ]
    },
    {
     "name": "stdout",
     "output_type": "stream",
     "text": [
      "Epoch  19/ 50 -- train_loss: -38.218 -- validation_loss: 85.159\n"
     ]
    },
    {
     "name": "stderr",
     "output_type": "stream",
     "text": [
      "100%|████████████████████████████| 200/200 [01:17<00:00,  2.58it/s, loss=-38.03]\n",
      "  0%|                                                   | 0/200 [00:00<?, ?it/s]"
     ]
    },
    {
     "name": "stdout",
     "output_type": "stream",
     "text": [
      "Epoch  20/ 50 -- train_loss: -38.514 -- validation_loss: 85.398\n"
     ]
    },
    {
     "name": "stderr",
     "output_type": "stream",
     "text": [
      "100%|████████████████████████████| 200/200 [01:19<00:00,  2.53it/s, loss=-36.94]\n",
      "  0%|                                                   | 0/200 [00:00<?, ?it/s]"
     ]
    },
    {
     "name": "stdout",
     "output_type": "stream",
     "text": [
      "Epoch  21/ 50 -- train_loss: -39.487 -- validation_loss: 85.606\n"
     ]
    },
    {
     "name": "stderr",
     "output_type": "stream",
     "text": [
      "100%|████████████████████████████| 200/200 [01:19<00:00,  2.53it/s, loss=-38.66]\n",
      "  0%|                                                   | 0/200 [00:00<?, ?it/s]"
     ]
    },
    {
     "name": "stdout",
     "output_type": "stream",
     "text": [
      "Epoch  22/ 50 -- train_loss: -40.033 -- validation_loss: 86.086\n"
     ]
    },
    {
     "name": "stderr",
     "output_type": "stream",
     "text": [
      "100%|████████████████████████████| 200/200 [01:20<00:00,  2.48it/s, loss=-37.20]\n",
      "  0%|                                                   | 0/200 [00:00<?, ?it/s]"
     ]
    },
    {
     "name": "stdout",
     "output_type": "stream",
     "text": [
      "Epoch  23/ 50 -- train_loss: -39.494 -- validation_loss: 86.200\n"
     ]
    },
    {
     "name": "stderr",
     "output_type": "stream",
     "text": [
      "100%|████████████████████████████| 200/200 [01:17<00:00,  2.58it/s, loss=-39.42]\n",
      "  0%|                                                   | 0/200 [00:00<?, ?it/s]"
     ]
    },
    {
     "name": "stdout",
     "output_type": "stream",
     "text": [
      "Epoch  24/ 50 -- train_loss: -39.614 -- validation_loss: 86.496\n"
     ]
    },
    {
     "name": "stderr",
     "output_type": "stream",
     "text": [
      "100%|████████████████████████████| 200/200 [01:17<00:00,  2.57it/s, loss=-44.39]\n",
      "  0%|                                                   | 0/200 [00:00<?, ?it/s]"
     ]
    },
    {
     "name": "stdout",
     "output_type": "stream",
     "text": [
      "Epoch  25/ 50 -- train_loss: -39.960 -- validation_loss: 86.687\n"
     ]
    },
    {
     "name": "stderr",
     "output_type": "stream",
     "text": [
      "100%|████████████████████████████| 200/200 [01:18<00:00,  2.55it/s, loss=-40.50]\n",
      "  0%|                                                   | 0/200 [00:00<?, ?it/s]"
     ]
    },
    {
     "name": "stdout",
     "output_type": "stream",
     "text": [
      "Epoch  26/ 50 -- train_loss: -42.416 -- validation_loss: 87.321\n"
     ]
    },
    {
     "name": "stderr",
     "output_type": "stream",
     "text": [
      "100%|████████████████████████████| 200/200 [01:26<00:00,  2.32it/s, loss=-47.84]\n",
      "  0%|                                                   | 0/200 [00:00<?, ?it/s]"
     ]
    },
    {
     "name": "stdout",
     "output_type": "stream",
     "text": [
      "Epoch  27/ 50 -- train_loss: -42.394 -- validation_loss: 87.758\n"
     ]
    },
    {
     "name": "stderr",
     "output_type": "stream",
     "text": [
      "100%|████████████████████████████| 200/200 [01:47<00:00,  1.87it/s, loss=-45.62]\n",
      "  0%|                                                   | 0/200 [00:00<?, ?it/s]"
     ]
    },
    {
     "name": "stdout",
     "output_type": "stream",
     "text": [
      "Epoch  28/ 50 -- train_loss: -44.591 -- validation_loss: 88.476\n"
     ]
    },
    {
     "name": "stderr",
     "output_type": "stream",
     "text": [
      "100%|████████████████████████████| 200/200 [01:53<00:00,  1.76it/s, loss=-48.67]\n",
      "  0%|                                                   | 0/200 [00:00<?, ?it/s]"
     ]
    },
    {
     "name": "stdout",
     "output_type": "stream",
     "text": [
      "Epoch  29/ 50 -- train_loss: -42.575 -- validation_loss: 89.009\n"
     ]
    },
    {
     "name": "stderr",
     "output_type": "stream",
     "text": [
      "100%|████████████████████████████| 200/200 [01:50<00:00,  1.81it/s, loss=-45.57]\n",
      "  0%|                                                   | 0/200 [00:00<?, ?it/s]"
     ]
    },
    {
     "name": "stdout",
     "output_type": "stream",
     "text": [
      "Epoch  30/ 50 -- train_loss: -43.738 -- validation_loss: 89.370\n"
     ]
    },
    {
     "name": "stderr",
     "output_type": "stream",
     "text": [
      "100%|████████████████████████████| 200/200 [01:51<00:00,  1.79it/s, loss=-45.74]\n",
      "  0%|                                                   | 0/200 [00:00<?, ?it/s]"
     ]
    },
    {
     "name": "stdout",
     "output_type": "stream",
     "text": [
      "Epoch  31/ 50 -- train_loss: -43.545 -- validation_loss: 89.675\n"
     ]
    },
    {
     "name": "stderr",
     "output_type": "stream",
     "text": [
      "100%|████████████████████████████| 200/200 [01:49<00:00,  1.82it/s, loss=-43.32]\n",
      "  0%|                                                   | 0/200 [00:00<?, ?it/s]"
     ]
    },
    {
     "name": "stdout",
     "output_type": "stream",
     "text": [
      "Epoch  32/ 50 -- train_loss: -45.250 -- validation_loss: 90.235\n"
     ]
    },
    {
     "name": "stderr",
     "output_type": "stream",
     "text": [
      "100%|████████████████████████████| 200/200 [01:53<00:00,  1.76it/s, loss=-44.95]\n",
      "  0%|                                                   | 0/200 [00:00<?, ?it/s]"
     ]
    },
    {
     "name": "stdout",
     "output_type": "stream",
     "text": [
      "Epoch  33/ 50 -- train_loss: -46.314 -- validation_loss: 90.870\n"
     ]
    },
    {
     "name": "stderr",
     "output_type": "stream",
     "text": [
      "100%|████████████████████████████| 200/200 [01:50<00:00,  1.81it/s, loss=-40.36]\n",
      "  0%|                                                   | 0/200 [00:00<?, ?it/s]"
     ]
    },
    {
     "name": "stdout",
     "output_type": "stream",
     "text": [
      "Epoch  34/ 50 -- train_loss: -46.121 -- validation_loss: 91.398\n"
     ]
    },
    {
     "name": "stderr",
     "output_type": "stream",
     "text": [
      "100%|████████████████████████████| 200/200 [01:42<00:00,  1.95it/s, loss=-44.48]\n",
      "  0%|                                                   | 0/200 [00:00<?, ?it/s]"
     ]
    },
    {
     "name": "stdout",
     "output_type": "stream",
     "text": [
      "Epoch  35/ 50 -- train_loss: -43.507 -- validation_loss: 91.056\n",
      "Epoch 00035: reducing learning rate of group 0 to 5.0000e-03.\n"
     ]
    },
    {
     "name": "stderr",
     "output_type": "stream",
     "text": [
      "100%|████████████████████████████| 200/200 [01:42<00:00,  1.95it/s, loss=-50.99]\n",
      "  0%|                                                   | 0/200 [00:00<?, ?it/s]"
     ]
    },
    {
     "name": "stdout",
     "output_type": "stream",
     "text": [
      "Epoch  36/ 50 -- train_loss: -50.275 -- validation_loss: 91.561\n"
     ]
    },
    {
     "name": "stderr",
     "output_type": "stream",
     "text": [
      "100%|████████████████████████████| 200/200 [01:42<00:00,  1.96it/s, loss=-54.57]\n",
      "  0%|                                                   | 0/200 [00:00<?, ?it/s]"
     ]
    },
    {
     "name": "stdout",
     "output_type": "stream",
     "text": [
      "Epoch  37/ 50 -- train_loss: -51.523 -- validation_loss: 92.393\n"
     ]
    },
    {
     "name": "stderr",
     "output_type": "stream",
     "text": [
      "100%|████████████████████████████| 200/200 [01:42<00:00,  1.96it/s, loss=-49.32]\n",
      "  0%|                                                   | 0/200 [00:00<?, ?it/s]"
     ]
    },
    {
     "name": "stdout",
     "output_type": "stream",
     "text": [
      "Epoch  38/ 50 -- train_loss: -51.843 -- validation_loss: 93.275\n"
     ]
    },
    {
     "name": "stderr",
     "output_type": "stream",
     "text": [
      "100%|████████████████████████████| 200/200 [01:42<00:00,  1.96it/s, loss=-55.19]\n",
      "  0%|                                                   | 0/200 [00:00<?, ?it/s]"
     ]
    },
    {
     "name": "stdout",
     "output_type": "stream",
     "text": [
      "Epoch  39/ 50 -- train_loss: -51.899 -- validation_loss: 93.912\n"
     ]
    },
    {
     "name": "stderr",
     "output_type": "stream",
     "text": [
      "100%|████████████████████████████| 200/200 [01:42<00:00,  1.95it/s, loss=-57.55]\n",
      "  0%|                                                   | 0/200 [00:00<?, ?it/s]"
     ]
    },
    {
     "name": "stdout",
     "output_type": "stream",
     "text": [
      "Epoch  40/ 50 -- train_loss: -53.761 -- validation_loss: 94.516\n"
     ]
    },
    {
     "name": "stderr",
     "output_type": "stream",
     "text": [
      "100%|████████████████████████████| 200/200 [01:43<00:00,  1.94it/s, loss=-53.28]\n",
      "  0%|                                                   | 0/200 [00:00<?, ?it/s]"
     ]
    },
    {
     "name": "stdout",
     "output_type": "stream",
     "text": [
      "Epoch  41/ 50 -- train_loss: -53.174 -- validation_loss: 94.844\n"
     ]
    },
    {
     "name": "stderr",
     "output_type": "stream",
     "text": [
      "100%|████████████████████████████| 200/200 [01:41<00:00,  1.97it/s, loss=-56.12]\n",
      "  0%|                                                   | 0/200 [00:00<?, ?it/s]"
     ]
    },
    {
     "name": "stdout",
     "output_type": "stream",
     "text": [
      "Epoch  42/ 50 -- train_loss: -54.929 -- validation_loss: 95.190\n"
     ]
    },
    {
     "name": "stderr",
     "output_type": "stream",
     "text": [
      "100%|████████████████████████████| 200/200 [01:43<00:00,  1.94it/s, loss=-54.99]\n",
      "  0%|                                                   | 0/200 [00:00<?, ?it/s]"
     ]
    },
    {
     "name": "stdout",
     "output_type": "stream",
     "text": [
      "Epoch  43/ 50 -- train_loss: -53.324 -- validation_loss: 95.410\n"
     ]
    },
    {
     "name": "stderr",
     "output_type": "stream",
     "text": [
      "100%|████████████████████████████| 200/200 [01:42<00:00,  1.96it/s, loss=-55.49]\n",
      "  0%|                                                   | 0/200 [00:00<?, ?it/s]"
     ]
    },
    {
     "name": "stdout",
     "output_type": "stream",
     "text": [
      "Epoch  44/ 50 -- train_loss: -55.611 -- validation_loss: 95.647\n"
     ]
    },
    {
     "name": "stderr",
     "output_type": "stream",
     "text": [
      "100%|████████████████████████████| 200/200 [01:54<00:00,  1.75it/s, loss=-56.70]\n",
      "  0%|                                                   | 0/200 [00:00<?, ?it/s]"
     ]
    },
    {
     "name": "stdout",
     "output_type": "stream",
     "text": [
      "Epoch  45/ 50 -- train_loss: -54.169 -- validation_loss: 95.848\n"
     ]
    },
    {
     "name": "stderr",
     "output_type": "stream",
     "text": [
      "100%|████████████████████████████| 200/200 [01:53<00:00,  1.77it/s, loss=-55.57]\n",
      "  0%|                                                   | 0/200 [00:00<?, ?it/s]"
     ]
    },
    {
     "name": "stdout",
     "output_type": "stream",
     "text": [
      "Epoch  46/ 50 -- train_loss: -55.551 -- validation_loss: 96.022\n"
     ]
    },
    {
     "name": "stderr",
     "output_type": "stream",
     "text": [
      "100%|████████████████████████████| 200/200 [01:51<00:00,  1.80it/s, loss=-61.44]\n",
      "  0%|                                                   | 0/200 [00:00<?, ?it/s]"
     ]
    },
    {
     "name": "stdout",
     "output_type": "stream",
     "text": [
      "Epoch  47/ 50 -- train_loss: -55.665 -- validation_loss: 96.181\n"
     ]
    },
    {
     "name": "stderr",
     "output_type": "stream",
     "text": [
      "100%|████████████████████████████| 200/200 [01:49<00:00,  1.83it/s, loss=-60.72]\n",
      "  0%|                                                   | 0/200 [00:00<?, ?it/s]"
     ]
    },
    {
     "name": "stdout",
     "output_type": "stream",
     "text": [
      "Epoch  48/ 50 -- train_loss: -56.136 -- validation_loss: 96.412\n"
     ]
    },
    {
     "name": "stderr",
     "output_type": "stream",
     "text": [
      "100%|████████████████████████████| 200/200 [01:51<00:00,  1.80it/s, loss=-55.62]\n",
      "  0%|                                                   | 0/200 [00:00<?, ?it/s]"
     ]
    },
    {
     "name": "stdout",
     "output_type": "stream",
     "text": [
      "Epoch  49/ 50 -- train_loss: -56.538 -- validation_loss: 96.625\n"
     ]
    },
    {
     "name": "stderr",
     "output_type": "stream",
     "text": [
      "100%|████████████████████████████| 200/200 [01:50<00:00,  1.81it/s, loss=-54.93]\n"
     ]
    },
    {
     "name": "stdout",
     "output_type": "stream",
     "text": [
      "Epoch  50/ 50 -- train_loss: -54.278 -- validation_loss: 96.688\n",
      "###### Stop training after 50 epochs!\n",
      "Validation loss: 96.688\n",
      "Test loss:       96.680\n"
     ]
    },
    {
     "name": "stderr",
     "output_type": "stream",
     "text": [
      "\r",
      "  0%|                                                     | 0/4 [00:00<?, ?it/s]"
     ]
    },
    {
     "name": "stdout",
     "output_type": "stream",
     "text": [
      "Loading dataset..\n",
      "Creating directory experiment..\n",
      "Creating BNAF model..\n",
      "Creating optimizer..\n",
      "Creating scheduler..\n",
      "Training..\n"
     ]
    },
    {
     "name": "stderr",
     "output_type": "stream",
     "text": [
      "100%|████████████████████████████████| 4/4 [00:02<00:00,  1.78it/s, loss=168.64]\n"
     ]
    },
    {
     "name": "stdout",
     "output_type": "stream",
     "text": [
      "Epoch   1/ 50 -- train_loss: 188.457 -- validation_loss: 982.147\n",
      "Saving model..\n"
     ]
    },
    {
     "name": "stderr",
     "output_type": "stream",
     "text": [
      "100%|████████████████████████████████| 4/4 [00:02<00:00,  1.85it/s, loss=123.43]\n",
      "  0%|                                                     | 0/4 [00:00<?, ?it/s]"
     ]
    },
    {
     "name": "stdout",
     "output_type": "stream",
     "text": [
      "Epoch   2/ 50 -- train_loss: 137.961 -- validation_loss: 967.737\n",
      "Saving model..\n"
     ]
    },
    {
     "name": "stderr",
     "output_type": "stream",
     "text": [
      "100%|█████████████████████████████████| 4/4 [00:02<00:00,  1.82it/s, loss=85.41]\n"
     ]
    },
    {
     "name": "stdout",
     "output_type": "stream",
     "text": [
      "Epoch   3/ 50 -- train_loss: 97.343 -- validation_loss: 952.718\n",
      "Saving model..\n"
     ]
    },
    {
     "name": "stderr",
     "output_type": "stream",
     "text": [
      "100%|█████████████████████████████████| 4/4 [00:02<00:00,  1.83it/s, loss=62.04]\n"
     ]
    },
    {
     "name": "stdout",
     "output_type": "stream",
     "text": [
      "Epoch   4/ 50 -- train_loss: 67.135 -- validation_loss: 937.279\n",
      "Saving model..\n"
     ]
    },
    {
     "name": "stderr",
     "output_type": "stream",
     "text": [
      "100%|█████████████████████████████████| 4/4 [00:02<00:00,  1.52it/s, loss=49.84]\n"
     ]
    },
    {
     "name": "stdout",
     "output_type": "stream",
     "text": [
      "Epoch   5/ 50 -- train_loss: 53.631 -- validation_loss: 921.616\n",
      "Saving model..\n"
     ]
    },
    {
     "name": "stderr",
     "output_type": "stream",
     "text": [
      "100%|█████████████████████████████████| 4/4 [00:03<00:00,  1.26it/s, loss=41.20]\n"
     ]
    },
    {
     "name": "stdout",
     "output_type": "stream",
     "text": [
      "Epoch   6/ 50 -- train_loss: 42.731 -- validation_loss: 906.023\n",
      "Saving model..\n"
     ]
    },
    {
     "name": "stderr",
     "output_type": "stream",
     "text": [
      "100%|█████████████████████████████████| 4/4 [00:02<00:00,  1.52it/s, loss=33.56]\n"
     ]
    },
    {
     "name": "stdout",
     "output_type": "stream",
     "text": [
      "Epoch   7/ 50 -- train_loss: 35.155 -- validation_loss: 890.440\n",
      "Saving model..\n"
     ]
    },
    {
     "name": "stderr",
     "output_type": "stream",
     "text": [
      "100%|█████████████████████████████████| 4/4 [00:02<00:00,  1.98it/s, loss=27.06]\n"
     ]
    },
    {
     "name": "stdout",
     "output_type": "stream",
     "text": [
      "Epoch   8/ 50 -- train_loss: 29.437 -- validation_loss: 875.040\n",
      "Saving model..\n"
     ]
    },
    {
     "name": "stderr",
     "output_type": "stream",
     "text": [
      "100%|█████████████████████████████████| 4/4 [00:02<00:00,  1.91it/s, loss=21.37]\n"
     ]
    },
    {
     "name": "stdout",
     "output_type": "stream",
     "text": [
      "Epoch   9/ 50 -- train_loss: 25.059 -- validation_loss: 859.947\n",
      "Saving model..\n"
     ]
    },
    {
     "name": "stderr",
     "output_type": "stream",
     "text": [
      "100%|█████████████████████████████████| 4/4 [00:02<00:00,  1.82it/s, loss=23.80]\n"
     ]
    },
    {
     "name": "stdout",
     "output_type": "stream",
     "text": [
      "Epoch  10/ 50 -- train_loss: 21.923 -- validation_loss: 845.216\n",
      "Saving model..\n"
     ]
    },
    {
     "name": "stderr",
     "output_type": "stream",
     "text": [
      "100%|█████████████████████████████████| 4/4 [00:02<00:00,  1.76it/s, loss=19.70]\n"
     ]
    },
    {
     "name": "stdout",
     "output_type": "stream",
     "text": [
      "Epoch  11/ 50 -- train_loss: 19.100 -- validation_loss: 830.726\n",
      "Saving model..\n"
     ]
    },
    {
     "name": "stderr",
     "output_type": "stream",
     "text": [
      "100%|█████████████████████████████████| 4/4 [00:02<00:00,  1.84it/s, loss=17.03]\n"
     ]
    },
    {
     "name": "stdout",
     "output_type": "stream",
     "text": [
      "Epoch  12/ 50 -- train_loss: 16.681 -- validation_loss: 816.589\n",
      "Saving model..\n"
     ]
    },
    {
     "name": "stderr",
     "output_type": "stream",
     "text": [
      "100%|█████████████████████████████████| 4/4 [00:01<00:00,  2.01it/s, loss=13.51]\n"
     ]
    },
    {
     "name": "stdout",
     "output_type": "stream",
     "text": [
      "Epoch  13/ 50 -- train_loss: 14.687 -- validation_loss: 802.980\n",
      "Saving model..\n"
     ]
    },
    {
     "name": "stderr",
     "output_type": "stream",
     "text": [
      "100%|█████████████████████████████████| 4/4 [00:02<00:00,  1.97it/s, loss=11.93]\n"
     ]
    },
    {
     "name": "stdout",
     "output_type": "stream",
     "text": [
      "Epoch  14/ 50 -- train_loss: 12.853 -- validation_loss: 789.762\n",
      "Saving model..\n"
     ]
    },
    {
     "name": "stderr",
     "output_type": "stream",
     "text": [
      "100%|█████████████████████████████████| 4/4 [00:02<00:00,  1.91it/s, loss=14.71]\n"
     ]
    },
    {
     "name": "stdout",
     "output_type": "stream",
     "text": [
      "Epoch  15/ 50 -- train_loss: 10.560 -- validation_loss: 776.948\n",
      "Saving model..\n"
     ]
    },
    {
     "name": "stderr",
     "output_type": "stream",
     "text": [
      "100%|██████████████████████████████████| 4/4 [00:02<00:00,  1.90it/s, loss=9.11]\n"
     ]
    },
    {
     "name": "stdout",
     "output_type": "stream",
     "text": [
      "Epoch  16/ 50 -- train_loss: 9.714 -- validation_loss: 764.448\n",
      "Saving model..\n"
     ]
    },
    {
     "name": "stderr",
     "output_type": "stream",
     "text": [
      "100%|██████████████████████████████████| 4/4 [00:02<00:00,  2.00it/s, loss=8.77]\n"
     ]
    },
    {
     "name": "stdout",
     "output_type": "stream",
     "text": [
      "Epoch  17/ 50 -- train_loss: 8.300 -- validation_loss: 752.411\n",
      "Saving model..\n"
     ]
    },
    {
     "name": "stderr",
     "output_type": "stream",
     "text": [
      "100%|██████████████████████████████████| 4/4 [00:02<00:00,  1.99it/s, loss=5.12]\n"
     ]
    },
    {
     "name": "stdout",
     "output_type": "stream",
     "text": [
      "Epoch  18/ 50 -- train_loss: 7.208 -- validation_loss: 740.707\n",
      "Saving model..\n"
     ]
    },
    {
     "name": "stderr",
     "output_type": "stream",
     "text": [
      "100%|██████████████████████████████████| 4/4 [00:02<00:00,  1.97it/s, loss=7.07]\n"
     ]
    },
    {
     "name": "stdout",
     "output_type": "stream",
     "text": [
      "Epoch  19/ 50 -- train_loss: 6.154 -- validation_loss: 729.271\n",
      "Saving model..\n"
     ]
    },
    {
     "name": "stderr",
     "output_type": "stream",
     "text": [
      "100%|██████████████████████████████████| 4/4 [00:02<00:00,  1.93it/s, loss=7.17]\n"
     ]
    },
    {
     "name": "stdout",
     "output_type": "stream",
     "text": [
      "Epoch  20/ 50 -- train_loss: 4.580 -- validation_loss: 718.302\n",
      "Saving model..\n"
     ]
    },
    {
     "name": "stderr",
     "output_type": "stream",
     "text": [
      "100%|█████████████████████████████████| 4/4 [00:02<00:00,  1.95it/s, loss=-0.60]\n"
     ]
    },
    {
     "name": "stdout",
     "output_type": "stream",
     "text": [
      "Epoch  21/ 50 -- train_loss: 3.454 -- validation_loss: 707.680\n",
      "Saving model..\n"
     ]
    },
    {
     "name": "stderr",
     "output_type": "stream",
     "text": [
      "100%|██████████████████████████████████| 4/4 [00:02<00:00,  1.98it/s, loss=3.90]\n"
     ]
    },
    {
     "name": "stdout",
     "output_type": "stream",
     "text": [
      "Epoch  22/ 50 -- train_loss: 2.662 -- validation_loss: 697.446\n",
      "Saving model..\n"
     ]
    },
    {
     "name": "stderr",
     "output_type": "stream",
     "text": [
      "100%|██████████████████████████████████| 4/4 [00:02<00:00,  1.97it/s, loss=0.38]\n"
     ]
    },
    {
     "name": "stdout",
     "output_type": "stream",
     "text": [
      "Epoch  23/ 50 -- train_loss: 2.119 -- validation_loss: 687.367\n",
      "Saving model..\n"
     ]
    },
    {
     "name": "stderr",
     "output_type": "stream",
     "text": [
      "100%|██████████████████████████████████| 4/4 [00:02<00:00,  1.97it/s, loss=8.32]\n"
     ]
    },
    {
     "name": "stdout",
     "output_type": "stream",
     "text": [
      "Epoch  24/ 50 -- train_loss: 1.973 -- validation_loss: 677.615\n",
      "Saving model..\n"
     ]
    },
    {
     "name": "stderr",
     "output_type": "stream",
     "text": [
      "100%|██████████████████████████████████| 4/4 [00:02<00:00,  1.94it/s, loss=2.11]\n"
     ]
    },
    {
     "name": "stdout",
     "output_type": "stream",
     "text": [
      "Epoch  25/ 50 -- train_loss: 0.967 -- validation_loss: 668.223\n",
      "Saving model..\n"
     ]
    },
    {
     "name": "stderr",
     "output_type": "stream",
     "text": [
      "100%|█████████████████████████████████| 4/4 [00:02<00:00,  1.99it/s, loss=-1.46]\n"
     ]
    },
    {
     "name": "stdout",
     "output_type": "stream",
     "text": [
      "Epoch  26/ 50 -- train_loss: 0.327 -- validation_loss: 659.228\n",
      "Saving model..\n"
     ]
    },
    {
     "name": "stderr",
     "output_type": "stream",
     "text": [
      "100%|██████████████████████████████████| 4/4 [00:02<00:00,  1.94it/s, loss=2.88]\n"
     ]
    },
    {
     "name": "stdout",
     "output_type": "stream",
     "text": [
      "Epoch  27/ 50 -- train_loss: -0.314 -- validation_loss: 650.380\n",
      "Saving model..\n"
     ]
    },
    {
     "name": "stderr",
     "output_type": "stream",
     "text": [
      "100%|█████████████████████████████████| 4/4 [00:02<00:00,  1.98it/s, loss=-0.80]\n"
     ]
    },
    {
     "name": "stdout",
     "output_type": "stream",
     "text": [
      "Epoch  28/ 50 -- train_loss: -0.931 -- validation_loss: 641.773\n",
      "Saving model..\n"
     ]
    },
    {
     "name": "stderr",
     "output_type": "stream",
     "text": [
      "100%|█████████████████████████████████| 4/4 [00:01<00:00,  2.00it/s, loss=-2.18]\n",
      "  0%|                                                     | 0/4 [00:00<?, ?it/s]"
     ]
    },
    {
     "name": "stdout",
     "output_type": "stream",
     "text": [
      "Epoch  29/ 50 -- train_loss: -1.376 -- validation_loss: 633.452\n",
      "Saving model..\n"
     ]
    },
    {
     "name": "stderr",
     "output_type": "stream",
     "text": [
      "100%|█████████████████████████████████| 4/4 [00:02<00:00,  1.71it/s, loss=-2.76]\n"
     ]
    },
    {
     "name": "stdout",
     "output_type": "stream",
     "text": [
      "Epoch  30/ 50 -- train_loss: -1.993 -- validation_loss: 625.318\n",
      "Saving model..\n"
     ]
    },
    {
     "name": "stderr",
     "output_type": "stream",
     "text": [
      "100%|█████████████████████████████████| 4/4 [00:02<00:00,  1.84it/s, loss=-5.51]\n"
     ]
    },
    {
     "name": "stdout",
     "output_type": "stream",
     "text": [
      "Epoch  31/ 50 -- train_loss: -2.194 -- validation_loss: 617.415\n",
      "Saving model..\n"
     ]
    },
    {
     "name": "stderr",
     "output_type": "stream",
     "text": [
      "100%|██████████████████████████████████| 4/4 [00:02<00:00,  1.96it/s, loss=1.66]\n"
     ]
    },
    {
     "name": "stdout",
     "output_type": "stream",
     "text": [
      "Epoch  32/ 50 -- train_loss: -2.731 -- validation_loss: 609.821\n",
      "Saving model..\n"
     ]
    },
    {
     "name": "stderr",
     "output_type": "stream",
     "text": [
      "100%|█████████████████████████████████| 4/4 [00:02<00:00,  1.56it/s, loss=-2.47]\n"
     ]
    },
    {
     "name": "stdout",
     "output_type": "stream",
     "text": [
      "Epoch  33/ 50 -- train_loss: -3.594 -- validation_loss: 602.574\n",
      "Saving model..\n"
     ]
    },
    {
     "name": "stderr",
     "output_type": "stream",
     "text": [
      "100%|█████████████████████████████████| 4/4 [00:02<00:00,  1.53it/s, loss=-2.22]\n"
     ]
    },
    {
     "name": "stdout",
     "output_type": "stream",
     "text": [
      "Epoch  34/ 50 -- train_loss: -3.152 -- validation_loss: 595.408\n",
      "Saving model..\n"
     ]
    },
    {
     "name": "stderr",
     "output_type": "stream",
     "text": [
      "100%|█████████████████████████████████| 4/4 [00:02<00:00,  1.80it/s, loss=-0.91]\n"
     ]
    },
    {
     "name": "stdout",
     "output_type": "stream",
     "text": [
      "Epoch  35/ 50 -- train_loss: -3.834 -- validation_loss: 588.479\n",
      "Saving model..\n"
     ]
    },
    {
     "name": "stderr",
     "output_type": "stream",
     "text": [
      "100%|█████████████████████████████████| 4/4 [00:02<00:00,  1.67it/s, loss=-2.67]\n"
     ]
    },
    {
     "name": "stdout",
     "output_type": "stream",
     "text": [
      "Epoch  36/ 50 -- train_loss: -3.610 -- validation_loss: 581.818\n",
      "Saving model..\n"
     ]
    },
    {
     "name": "stderr",
     "output_type": "stream",
     "text": [
      "100%|█████████████████████████████████| 4/4 [00:02<00:00,  1.82it/s, loss=-2.66]\n"
     ]
    },
    {
     "name": "stdout",
     "output_type": "stream",
     "text": [
      "Epoch  37/ 50 -- train_loss: -3.778 -- validation_loss: 575.315\n",
      "Saving model..\n"
     ]
    },
    {
     "name": "stderr",
     "output_type": "stream",
     "text": [
      "100%|█████████████████████████████████| 4/4 [00:02<00:00,  1.94it/s, loss=-5.08]\n"
     ]
    },
    {
     "name": "stdout",
     "output_type": "stream",
     "text": [
      "Epoch  38/ 50 -- train_loss: -2.906 -- validation_loss: 568.884\n",
      "Saving model..\n"
     ]
    },
    {
     "name": "stderr",
     "output_type": "stream",
     "text": [
      "100%|█████████████████████████████████| 4/4 [00:02<00:00,  1.89it/s, loss=-4.47]\n"
     ]
    },
    {
     "name": "stdout",
     "output_type": "stream",
     "text": [
      "Epoch  39/ 50 -- train_loss: -4.778 -- validation_loss: 562.479\n",
      "Saving model..\n"
     ]
    },
    {
     "name": "stderr",
     "output_type": "stream",
     "text": [
      "100%|█████████████████████████████████| 4/4 [00:02<00:00,  1.87it/s, loss=-5.60]\n"
     ]
    },
    {
     "name": "stdout",
     "output_type": "stream",
     "text": [
      "Epoch  40/ 50 -- train_loss: -3.588 -- validation_loss: 556.323\n",
      "Saving model..\n"
     ]
    },
    {
     "name": "stderr",
     "output_type": "stream",
     "text": [
      "100%|█████████████████████████████████| 4/4 [00:02<00:00,  1.89it/s, loss=-2.35]\n"
     ]
    },
    {
     "name": "stdout",
     "output_type": "stream",
     "text": [
      "Epoch  41/ 50 -- train_loss: -4.493 -- validation_loss: 550.377\n",
      "Saving model..\n"
     ]
    },
    {
     "name": "stderr",
     "output_type": "stream",
     "text": [
      "100%|█████████████████████████████████| 4/4 [00:01<00:00,  2.00it/s, loss=-6.69]\n"
     ]
    },
    {
     "name": "stdout",
     "output_type": "stream",
     "text": [
      "Epoch  42/ 50 -- train_loss: -5.230 -- validation_loss: 544.494\n",
      "Saving model..\n"
     ]
    },
    {
     "name": "stderr",
     "output_type": "stream",
     "text": [
      "100%|█████████████████████████████████| 4/4 [00:02<00:00,  1.95it/s, loss=-4.49]\n"
     ]
    },
    {
     "name": "stdout",
     "output_type": "stream",
     "text": [
      "Epoch  43/ 50 -- train_loss: -5.724 -- validation_loss: 538.751\n",
      "Saving model..\n"
     ]
    },
    {
     "name": "stderr",
     "output_type": "stream",
     "text": [
      "100%|█████████████████████████████████| 4/4 [00:02<00:00,  1.85it/s, loss=-7.49]\n"
     ]
    },
    {
     "name": "stdout",
     "output_type": "stream",
     "text": [
      "Epoch  44/ 50 -- train_loss: -5.251 -- validation_loss: 533.318\n",
      "Saving model..\n"
     ]
    },
    {
     "name": "stderr",
     "output_type": "stream",
     "text": [
      "100%|█████████████████████████████████| 4/4 [00:02<00:00,  1.87it/s, loss=-5.25]\n"
     ]
    },
    {
     "name": "stdout",
     "output_type": "stream",
     "text": [
      "Epoch  45/ 50 -- train_loss: -5.487 -- validation_loss: 527.671\n",
      "Saving model..\n"
     ]
    },
    {
     "name": "stderr",
     "output_type": "stream",
     "text": [
      "100%|█████████████████████████████████| 4/4 [00:02<00:00,  1.94it/s, loss=-8.28]\n"
     ]
    },
    {
     "name": "stdout",
     "output_type": "stream",
     "text": [
      "Epoch  46/ 50 -- train_loss: -5.708 -- validation_loss: 522.307\n",
      "Saving model..\n"
     ]
    },
    {
     "name": "stderr",
     "output_type": "stream",
     "text": [
      "100%|█████████████████████████████████| 4/4 [00:02<00:00,  1.92it/s, loss=-5.39]\n"
     ]
    },
    {
     "name": "stdout",
     "output_type": "stream",
     "text": [
      "Epoch  47/ 50 -- train_loss: -4.798 -- validation_loss: 516.815\n",
      "Saving model..\n"
     ]
    },
    {
     "name": "stderr",
     "output_type": "stream",
     "text": [
      "100%|█████████████████████████████████| 4/4 [00:02<00:00,  1.96it/s, loss=-9.65]\n"
     ]
    },
    {
     "name": "stdout",
     "output_type": "stream",
     "text": [
      "Epoch  48/ 50 -- train_loss: -7.184 -- validation_loss: 511.859\n",
      "Saving model..\n"
     ]
    },
    {
     "name": "stderr",
     "output_type": "stream",
     "text": [
      "100%|█████████████████████████████████| 4/4 [00:02<00:00,  1.87it/s, loss=-9.00]\n"
     ]
    },
    {
     "name": "stdout",
     "output_type": "stream",
     "text": [
      "Epoch  49/ 50 -- train_loss: -7.363 -- validation_loss: 506.728\n",
      "Saving model..\n"
     ]
    },
    {
     "name": "stderr",
     "output_type": "stream",
     "text": [
      "100%|█████████████████████████████████| 4/4 [00:02<00:00,  1.80it/s, loss=-5.00]\n"
     ]
    },
    {
     "name": "stdout",
     "output_type": "stream",
     "text": [
      "Epoch  50/ 50 -- train_loss: -7.792 -- validation_loss: 501.335\n",
      "Saving model..\n"
     ]
    },
    {
     "name": "stderr",
     "output_type": "stream",
     "text": [
      "\r",
      "  0%|                                                   | 0/200 [00:00<?, ?it/s]"
     ]
    },
    {
     "name": "stdout",
     "output_type": "stream",
     "text": [
      "###### Stop training after 50 epochs!\n",
      "Validation loss: 501.335\n",
      "Test loss:       500.379\n",
      "Loading dataset..\n",
      "No validation set passed\n",
      "No test set passed\n",
      "Creating directory experiment..\n",
      "Creating BNAF model..\n",
      "Creating optimizer..\n",
      "Creating scheduler..\n",
      "Training..\n"
     ]
    },
    {
     "name": "stderr",
     "output_type": "stream",
     "text": [
      "100%|█████████████████████████████| 200/200 [01:45<00:00,  1.89it/s, loss=-6.43]\n"
     ]
    },
    {
     "name": "stdout",
     "output_type": "stream",
     "text": [
      "Epoch   1/ 50 -- train_loss: 8.414 -- validation_loss: 500.995\n",
      "Saving model..\n"
     ]
    },
    {
     "name": "stderr",
     "output_type": "stream",
     "text": [
      "100%|████████████████████████████| 200/200 [01:48<00:00,  1.84it/s, loss=-19.08]\n"
     ]
    },
    {
     "name": "stdout",
     "output_type": "stream",
     "text": [
      "Epoch   2/ 50 -- train_loss: -13.052 -- validation_loss: 333.549\n",
      "Saving model..\n"
     ]
    },
    {
     "name": "stderr",
     "output_type": "stream",
     "text": [
      "100%|████████████████████████████| 200/200 [01:53<00:00,  1.77it/s, loss=-21.91]\n"
     ]
    },
    {
     "name": "stdout",
     "output_type": "stream",
     "text": [
      "Epoch   3/ 50 -- train_loss: -18.155 -- validation_loss: 231.451\n",
      "Saving model..\n"
     ]
    },
    {
     "name": "stderr",
     "output_type": "stream",
     "text": [
      "100%|████████████████████████████| 200/200 [01:51<00:00,  1.80it/s, loss=-22.24]\n"
     ]
    },
    {
     "name": "stdout",
     "output_type": "stream",
     "text": [
      "Epoch   4/ 50 -- train_loss: -20.955 -- validation_loss: 166.930\n",
      "Saving model..\n"
     ]
    },
    {
     "name": "stderr",
     "output_type": "stream",
     "text": [
      "100%|████████████████████████████| 200/200 [02:02<00:00,  1.64it/s, loss=-28.71]\n"
     ]
    },
    {
     "name": "stdout",
     "output_type": "stream",
     "text": [
      "Epoch   5/ 50 -- train_loss: -22.972 -- validation_loss: 129.488\n",
      "Saving model..\n"
     ]
    },
    {
     "name": "stderr",
     "output_type": "stream",
     "text": [
      "100%|████████████████████████████| 200/200 [01:47<00:00,  1.86it/s, loss=-23.12]\n"
     ]
    },
    {
     "name": "stdout",
     "output_type": "stream",
     "text": [
      "Epoch   6/ 50 -- train_loss: -23.925 -- validation_loss: 107.745\n",
      "Saving model..\n"
     ]
    },
    {
     "name": "stderr",
     "output_type": "stream",
     "text": [
      "100%|████████████████████████████| 200/200 [02:08<00:00,  1.56it/s, loss=-29.21]\n"
     ]
    },
    {
     "name": "stdout",
     "output_type": "stream",
     "text": [
      "Epoch   7/ 50 -- train_loss: -26.007 -- validation_loss: 95.637\n",
      "Saving model..\n"
     ]
    },
    {
     "name": "stderr",
     "output_type": "stream",
     "text": [
      "100%|████████████████████████████| 200/200 [01:51<00:00,  1.79it/s, loss=-24.36]\n"
     ]
    },
    {
     "name": "stdout",
     "output_type": "stream",
     "text": [
      "Epoch   8/ 50 -- train_loss: -28.793 -- validation_loss: 89.127\n",
      "Saving model..\n"
     ]
    },
    {
     "name": "stderr",
     "output_type": "stream",
     "text": [
      "100%|████████████████████████████| 200/200 [01:48<00:00,  1.84it/s, loss=-31.56]\n"
     ]
    },
    {
     "name": "stdout",
     "output_type": "stream",
     "text": [
      "Epoch   9/ 50 -- train_loss: -30.226 -- validation_loss: 85.543\n",
      "Saving model..\n"
     ]
    },
    {
     "name": "stderr",
     "output_type": "stream",
     "text": [
      "100%|████████████████████████████| 200/200 [01:44<00:00,  1.91it/s, loss=-34.16]\n"
     ]
    },
    {
     "name": "stdout",
     "output_type": "stream",
     "text": [
      "Epoch  10/ 50 -- train_loss: -32.577 -- validation_loss: 83.711\n",
      "Saving model..\n"
     ]
    },
    {
     "name": "stderr",
     "output_type": "stream",
     "text": [
      "100%|████████████████████████████| 200/200 [01:41<00:00,  1.97it/s, loss=-38.83]\n"
     ]
    },
    {
     "name": "stdout",
     "output_type": "stream",
     "text": [
      "Epoch  11/ 50 -- train_loss: -34.635 -- validation_loss: 82.968\n",
      "Saving model..\n"
     ]
    },
    {
     "name": "stderr",
     "output_type": "stream",
     "text": [
      "100%|████████████████████████████| 200/200 [01:42<00:00,  1.96it/s, loss=-41.49]\n",
      "  0%|                                                   | 0/200 [00:00<?, ?it/s]"
     ]
    },
    {
     "name": "stdout",
     "output_type": "stream",
     "text": [
      "Epoch  12/ 50 -- train_loss: -35.709 -- validation_loss: 83.088\n"
     ]
    },
    {
     "name": "stderr",
     "output_type": "stream",
     "text": [
      "100%|████████████████████████████| 200/200 [01:42<00:00,  1.96it/s, loss=-33.85]\n",
      "  0%|                                                   | 0/200 [00:00<?, ?it/s]"
     ]
    },
    {
     "name": "stdout",
     "output_type": "stream",
     "text": [
      "Epoch  13/ 50 -- train_loss: -37.647 -- validation_loss: 83.572\n"
     ]
    },
    {
     "name": "stderr",
     "output_type": "stream",
     "text": [
      "100%|████████████████████████████| 200/200 [01:37<00:00,  2.04it/s, loss=-37.79]\n",
      "  0%|                                                   | 0/200 [00:00<?, ?it/s]"
     ]
    },
    {
     "name": "stdout",
     "output_type": "stream",
     "text": [
      "Epoch  14/ 50 -- train_loss: -38.339 -- validation_loss: 84.302\n"
     ]
    },
    {
     "name": "stderr",
     "output_type": "stream",
     "text": [
      "100%|████████████████████████████| 200/200 [01:48<00:00,  1.84it/s, loss=-40.47]\n",
      "  0%|                                                   | 0/200 [00:00<?, ?it/s]"
     ]
    },
    {
     "name": "stdout",
     "output_type": "stream",
     "text": [
      "Epoch  15/ 50 -- train_loss: -39.753 -- validation_loss: 85.304\n"
     ]
    },
    {
     "name": "stderr",
     "output_type": "stream",
     "text": [
      "100%|████████████████████████████| 200/200 [02:03<00:00,  1.62it/s, loss=-40.96]\n",
      "  0%|                                                   | 0/200 [00:00<?, ?it/s]"
     ]
    },
    {
     "name": "stdout",
     "output_type": "stream",
     "text": [
      "Epoch  16/ 50 -- train_loss: -39.813 -- validation_loss: 86.319\n"
     ]
    },
    {
     "name": "stderr",
     "output_type": "stream",
     "text": [
      "100%|████████████████████████████| 200/200 [02:05<00:00,  1.59it/s, loss=-41.93]\n",
      "  0%|                                                   | 0/200 [00:00<?, ?it/s]"
     ]
    },
    {
     "name": "stdout",
     "output_type": "stream",
     "text": [
      "Epoch  17/ 50 -- train_loss: -41.450 -- validation_loss: 87.305\n"
     ]
    },
    {
     "name": "stderr",
     "output_type": "stream",
     "text": [
      "100%|████████████████████████████| 200/200 [02:06<00:00,  1.58it/s, loss=-42.67]\n",
      "  0%|                                                   | 0/200 [00:00<?, ?it/s]"
     ]
    },
    {
     "name": "stdout",
     "output_type": "stream",
     "text": [
      "Epoch  18/ 50 -- train_loss: -42.624 -- validation_loss: 88.181\n"
     ]
    },
    {
     "name": "stderr",
     "output_type": "stream",
     "text": [
      "100%|████████████████████████████| 200/200 [02:06<00:00,  1.58it/s, loss=-47.43]\n",
      "  0%|                                                   | 0/200 [00:00<?, ?it/s]"
     ]
    },
    {
     "name": "stdout",
     "output_type": "stream",
     "text": [
      "Epoch  19/ 50 -- train_loss: -42.440 -- validation_loss: 88.828\n"
     ]
    },
    {
     "name": "stderr",
     "output_type": "stream",
     "text": [
      "100%|████████████████████████████| 200/200 [02:10<00:00,  1.53it/s, loss=-45.07]\n",
      "  0%|                                                   | 0/200 [00:00<?, ?it/s]"
     ]
    },
    {
     "name": "stdout",
     "output_type": "stream",
     "text": [
      "Epoch  20/ 50 -- train_loss: -43.259 -- validation_loss: 89.585\n"
     ]
    },
    {
     "name": "stderr",
     "output_type": "stream",
     "text": [
      "100%|████████████████████████████| 200/200 [02:21<00:00,  1.42it/s, loss=-46.85]\n",
      "  0%|                                                   | 0/200 [00:00<?, ?it/s]"
     ]
    },
    {
     "name": "stdout",
     "output_type": "stream",
     "text": [
      "Epoch  21/ 50 -- train_loss: -44.055 -- validation_loss: 90.246\n"
     ]
    },
    {
     "name": "stderr",
     "output_type": "stream",
     "text": [
      "100%|████████████████████████████| 200/200 [02:18<00:00,  1.44it/s, loss=-44.28]\n",
      "  0%|                                                   | 0/200 [00:00<?, ?it/s]"
     ]
    },
    {
     "name": "stdout",
     "output_type": "stream",
     "text": [
      "Epoch  22/ 50 -- train_loss: -44.540 -- validation_loss: 90.969\n"
     ]
    },
    {
     "name": "stderr",
     "output_type": "stream",
     "text": [
      "100%|████████████████████████████| 200/200 [02:11<00:00,  1.52it/s, loss=-40.05]\n",
      "  0%|                                                   | 0/200 [00:00<?, ?it/s]"
     ]
    },
    {
     "name": "stdout",
     "output_type": "stream",
     "text": [
      "Epoch  23/ 50 -- train_loss: -42.876 -- validation_loss: 91.436\n"
     ]
    },
    {
     "name": "stderr",
     "output_type": "stream",
     "text": [
      "100%|████████████████████████████| 200/200 [02:14<00:00,  1.48it/s, loss=-43.88]\n",
      "  0%|                                                   | 0/200 [00:00<?, ?it/s]"
     ]
    },
    {
     "name": "stdout",
     "output_type": "stream",
     "text": [
      "Epoch  24/ 50 -- train_loss: -45.596 -- validation_loss: 91.934\n"
     ]
    },
    {
     "name": "stderr",
     "output_type": "stream",
     "text": [
      "100%|████████████████████████████| 200/200 [02:08<00:00,  1.56it/s, loss=-47.26]\n",
      "  0%|                                                   | 0/200 [00:00<?, ?it/s]"
     ]
    },
    {
     "name": "stdout",
     "output_type": "stream",
     "text": [
      "Epoch  25/ 50 -- train_loss: -45.418 -- validation_loss: 92.435\n"
     ]
    },
    {
     "name": "stderr",
     "output_type": "stream",
     "text": [
      "100%|████████████████████████████| 200/200 [02:00<00:00,  1.66it/s, loss=-44.94]\n",
      "  0%|                                                   | 0/200 [00:00<?, ?it/s]"
     ]
    },
    {
     "name": "stdout",
     "output_type": "stream",
     "text": [
      "Epoch  26/ 50 -- train_loss: -45.578 -- validation_loss: 93.023\n"
     ]
    },
    {
     "name": "stderr",
     "output_type": "stream",
     "text": [
      "100%|████████████████████████████| 200/200 [01:53<00:00,  1.76it/s, loss=-47.13]\n",
      "  0%|                                                   | 0/200 [00:00<?, ?it/s]"
     ]
    },
    {
     "name": "stdout",
     "output_type": "stream",
     "text": [
      "Epoch  27/ 50 -- train_loss: -47.134 -- validation_loss: 93.595\n"
     ]
    },
    {
     "name": "stderr",
     "output_type": "stream",
     "text": [
      "100%|████████████████████████████| 200/200 [01:40<00:00,  1.99it/s, loss=-47.64]\n",
      "  0%|                                                   | 0/200 [00:00<?, ?it/s]"
     ]
    },
    {
     "name": "stdout",
     "output_type": "stream",
     "text": [
      "Epoch  28/ 50 -- train_loss: -45.333 -- validation_loss: 93.971\n"
     ]
    },
    {
     "name": "stderr",
     "output_type": "stream",
     "text": [
      "100%|████████████████████████████| 200/200 [01:49<00:00,  1.82it/s, loss=-47.23]\n",
      "  0%|                                                   | 0/200 [00:00<?, ?it/s]"
     ]
    },
    {
     "name": "stdout",
     "output_type": "stream",
     "text": [
      "Epoch  29/ 50 -- train_loss: -47.187 -- validation_loss: 94.403\n"
     ]
    },
    {
     "name": "stderr",
     "output_type": "stream",
     "text": [
      "100%|████████████████████████████| 200/200 [01:54<00:00,  1.75it/s, loss=-50.37]\n",
      "  0%|                                                   | 0/200 [00:00<?, ?it/s]"
     ]
    },
    {
     "name": "stdout",
     "output_type": "stream",
     "text": [
      "Epoch  30/ 50 -- train_loss: -47.313 -- validation_loss: 94.711\n"
     ]
    },
    {
     "name": "stderr",
     "output_type": "stream",
     "text": [
      "100%|████████████████████████████| 200/200 [01:55<00:00,  1.74it/s, loss=-47.77]\n",
      "  0%|                                                   | 0/200 [00:00<?, ?it/s]"
     ]
    },
    {
     "name": "stdout",
     "output_type": "stream",
     "text": [
      "Epoch  31/ 50 -- train_loss: -47.787 -- validation_loss: 95.391\n"
     ]
    },
    {
     "name": "stderr",
     "output_type": "stream",
     "text": [
      "100%|████████████████████████████| 200/200 [01:57<00:00,  1.71it/s, loss=-41.92]\n",
      "  0%|                                                   | 0/200 [00:00<?, ?it/s]"
     ]
    },
    {
     "name": "stdout",
     "output_type": "stream",
     "text": [
      "Epoch  32/ 50 -- train_loss: -48.199 -- validation_loss: 95.805\n",
      "Epoch 00032: reducing learning rate of group 0 to 5.0000e-03.\n"
     ]
    },
    {
     "name": "stderr",
     "output_type": "stream",
     "text": [
      "100%|████████████████████████████| 200/200 [01:50<00:00,  1.80it/s, loss=-60.87]\n",
      "  0%|                                                   | 0/200 [00:00<?, ?it/s]"
     ]
    },
    {
     "name": "stdout",
     "output_type": "stream",
     "text": [
      "Epoch  33/ 50 -- train_loss: -55.579 -- validation_loss: 96.830\n"
     ]
    },
    {
     "name": "stderr",
     "output_type": "stream",
     "text": [
      "100%|████████████████████████████| 200/200 [01:56<00:00,  1.72it/s, loss=-55.73]\n",
      "  0%|                                                   | 0/200 [00:00<?, ?it/s]"
     ]
    },
    {
     "name": "stdout",
     "output_type": "stream",
     "text": [
      "Epoch  34/ 50 -- train_loss: -56.870 -- validation_loss: 98.050\n"
     ]
    },
    {
     "name": "stderr",
     "output_type": "stream",
     "text": [
      "100%|████████████████████████████| 200/200 [01:58<00:00,  1.69it/s, loss=-59.79]\n",
      "  0%|                                                   | 0/200 [00:00<?, ?it/s]"
     ]
    },
    {
     "name": "stdout",
     "output_type": "stream",
     "text": [
      "Epoch  35/ 50 -- train_loss: -56.773 -- validation_loss: 99.086\n"
     ]
    },
    {
     "name": "stderr",
     "output_type": "stream",
     "text": [
      "100%|████████████████████████████| 200/200 [02:00<00:00,  1.66it/s, loss=-56.22]\n",
      "  0%|                                                   | 0/200 [00:00<?, ?it/s]"
     ]
    },
    {
     "name": "stdout",
     "output_type": "stream",
     "text": [
      "Epoch  36/ 50 -- train_loss: -57.027 -- validation_loss: 99.828\n"
     ]
    },
    {
     "name": "stderr",
     "output_type": "stream",
     "text": [
      "100%|████████████████████████████| 200/200 [02:06<00:00,  1.58it/s, loss=-59.57]\n",
      "  0%|                                                   | 0/200 [00:00<?, ?it/s]"
     ]
    },
    {
     "name": "stdout",
     "output_type": "stream",
     "text": [
      "Epoch  37/ 50 -- train_loss: -57.720 -- validation_loss: 100.358\n"
     ]
    },
    {
     "name": "stderr",
     "output_type": "stream",
     "text": [
      "100%|████████████████████████████| 200/200 [02:02<00:00,  1.63it/s, loss=-52.59]\n",
      "  0%|                                                   | 0/200 [00:00<?, ?it/s]"
     ]
    },
    {
     "name": "stdout",
     "output_type": "stream",
     "text": [
      "Epoch  38/ 50 -- train_loss: -56.844 -- validation_loss: 100.702\n"
     ]
    },
    {
     "name": "stderr",
     "output_type": "stream",
     "text": [
      "100%|████████████████████████████| 200/200 [02:03<00:00,  1.62it/s, loss=-55.24]\n",
      "  0%|                                                   | 0/200 [00:00<?, ?it/s]"
     ]
    },
    {
     "name": "stdout",
     "output_type": "stream",
     "text": [
      "Epoch  39/ 50 -- train_loss: -56.986 -- validation_loss: 100.936\n"
     ]
    },
    {
     "name": "stderr",
     "output_type": "stream",
     "text": [
      "100%|████████████████████████████| 200/200 [02:06<00:00,  1.58it/s, loss=-59.14]\n",
      "  0%|                                                   | 0/200 [00:00<?, ?it/s]"
     ]
    },
    {
     "name": "stdout",
     "output_type": "stream",
     "text": [
      "Epoch  40/ 50 -- train_loss: -57.245 -- validation_loss: 101.160\n"
     ]
    },
    {
     "name": "stderr",
     "output_type": "stream",
     "text": [
      "100%|████████████████████████████| 200/200 [02:05<00:00,  1.59it/s, loss=-57.13]\n",
      "  0%|                                                   | 0/200 [00:00<?, ?it/s]"
     ]
    },
    {
     "name": "stdout",
     "output_type": "stream",
     "text": [
      "Epoch  41/ 50 -- train_loss: -57.827 -- validation_loss: 101.418\n"
     ]
    },
    {
     "name": "stderr",
     "output_type": "stream",
     "text": [
      "100%|████████████████████████████| 200/200 [02:01<00:00,  1.65it/s, loss=-59.90]\n",
      "  0%|                                                   | 0/200 [00:00<?, ?it/s]"
     ]
    },
    {
     "name": "stdout",
     "output_type": "stream",
     "text": [
      "Epoch  42/ 50 -- train_loss: -57.810 -- validation_loss: 101.534\n"
     ]
    },
    {
     "name": "stderr",
     "output_type": "stream",
     "text": [
      "100%|████████████████████████████| 200/200 [02:06<00:00,  1.58it/s, loss=-55.14]\n",
      "  0%|                                                   | 0/200 [00:00<?, ?it/s]"
     ]
    },
    {
     "name": "stdout",
     "output_type": "stream",
     "text": [
      "Epoch  43/ 50 -- train_loss: -58.932 -- validation_loss: 101.702\n"
     ]
    },
    {
     "name": "stderr",
     "output_type": "stream",
     "text": [
      "100%|████████████████████████████| 200/200 [02:03<00:00,  1.62it/s, loss=-54.16]\n",
      "  0%|                                                   | 0/200 [00:00<?, ?it/s]"
     ]
    },
    {
     "name": "stdout",
     "output_type": "stream",
     "text": [
      "Epoch  44/ 50 -- train_loss: -56.156 -- validation_loss: 101.746\n"
     ]
    },
    {
     "name": "stderr",
     "output_type": "stream",
     "text": [
      "100%|████████████████████████████| 200/200 [02:07<00:00,  1.56it/s, loss=-56.94]\n",
      "  0%|                                                   | 0/200 [00:00<?, ?it/s]"
     ]
    },
    {
     "name": "stdout",
     "output_type": "stream",
     "text": [
      "Epoch  45/ 50 -- train_loss: -57.991 -- validation_loss: 101.763\n"
     ]
    },
    {
     "name": "stderr",
     "output_type": "stream",
     "text": [
      "100%|████████████████████████████| 200/200 [02:04<00:00,  1.60it/s, loss=-54.68]\n",
      "  0%|                                                   | 0/200 [00:00<?, ?it/s]"
     ]
    },
    {
     "name": "stdout",
     "output_type": "stream",
     "text": [
      "Epoch  46/ 50 -- train_loss: -56.974 -- validation_loss: 101.841\n"
     ]
    },
    {
     "name": "stderr",
     "output_type": "stream",
     "text": [
      "100%|████████████████████████████| 200/200 [02:05<00:00,  1.60it/s, loss=-59.66]\n",
      "  0%|                                                   | 0/200 [00:00<?, ?it/s]"
     ]
    },
    {
     "name": "stdout",
     "output_type": "stream",
     "text": [
      "Epoch  47/ 50 -- train_loss: -58.662 -- validation_loss: 101.987\n"
     ]
    },
    {
     "name": "stderr",
     "output_type": "stream",
     "text": [
      "100%|████████████████████████████| 200/200 [02:00<00:00,  1.66it/s, loss=-56.20]\n",
      "  0%|                                                   | 0/200 [00:00<?, ?it/s]"
     ]
    },
    {
     "name": "stdout",
     "output_type": "stream",
     "text": [
      "Epoch  48/ 50 -- train_loss: -56.703 -- validation_loss: 102.038\n"
     ]
    },
    {
     "name": "stderr",
     "output_type": "stream",
     "text": [
      "100%|████████████████████████████| 200/200 [02:02<00:00,  1.63it/s, loss=-54.33]\n",
      "  0%|                                                   | 0/200 [00:00<?, ?it/s]"
     ]
    },
    {
     "name": "stdout",
     "output_type": "stream",
     "text": [
      "Epoch  49/ 50 -- train_loss: -54.903 -- validation_loss: 101.905\n"
     ]
    },
    {
     "name": "stderr",
     "output_type": "stream",
     "text": [
      "100%|████████████████████████████| 200/200 [02:05<00:00,  1.59it/s, loss=-55.90]\n"
     ]
    },
    {
     "name": "stdout",
     "output_type": "stream",
     "text": [
      "Epoch  50/ 50 -- train_loss: -55.587 -- validation_loss: 101.691\n",
      "###### Stop training after 50 epochs!\n",
      "Validation loss: 101.691\n",
      "Test loss:       101.615\n"
     ]
    },
    {
     "name": "stderr",
     "output_type": "stream",
     "text": [
      "\r",
      "  0%|                                                     | 0/4 [00:00<?, ?it/s]"
     ]
    },
    {
     "name": "stdout",
     "output_type": "stream",
     "text": [
      "Loading dataset..\n",
      "Creating directory experiment..\n",
      "Creating BNAF model..\n",
      "Creating optimizer..\n",
      "Creating scheduler..\n",
      "Training..\n"
     ]
    },
    {
     "name": "stderr",
     "output_type": "stream",
     "text": [
      "100%|████████████████████████████████| 4/4 [00:02<00:00,  1.92it/s, loss=151.29]\n"
     ]
    },
    {
     "name": "stdout",
     "output_type": "stream",
     "text": [
      "Epoch   1/ 50 -- train_loss: 176.480 -- validation_loss: 981.235\n",
      "Saving model..\n"
     ]
    },
    {
     "name": "stderr",
     "output_type": "stream",
     "text": [
      "100%|████████████████████████████████| 4/4 [00:01<00:00,  2.07it/s, loss=111.08]\n"
     ]
    },
    {
     "name": "stdout",
     "output_type": "stream",
     "text": [
      "Epoch   2/ 50 -- train_loss: 127.165 -- validation_loss: 966.932\n",
      "Saving model..\n"
     ]
    },
    {
     "name": "stderr",
     "output_type": "stream",
     "text": [
      "100%|█████████████████████████████████| 4/4 [00:01<00:00,  2.11it/s, loss=81.02]\n"
     ]
    },
    {
     "name": "stdout",
     "output_type": "stream",
     "text": [
      "Epoch   3/ 50 -- train_loss: 90.096 -- validation_loss: 951.991\n",
      "Saving model..\n"
     ]
    },
    {
     "name": "stderr",
     "output_type": "stream",
     "text": [
      "100%|█████████████████████████████████| 4/4 [00:01<00:00,  2.03it/s, loss=56.69]\n"
     ]
    },
    {
     "name": "stdout",
     "output_type": "stream",
     "text": [
      "Epoch   4/ 50 -- train_loss: 65.302 -- validation_loss: 936.607\n",
      "Saving model..\n"
     ]
    },
    {
     "name": "stderr",
     "output_type": "stream",
     "text": [
      "100%|█████████████████████████████████| 4/4 [00:01<00:00,  2.06it/s, loss=43.07]\n"
     ]
    },
    {
     "name": "stdout",
     "output_type": "stream",
     "text": [
      "Epoch   5/ 50 -- train_loss: 48.847 -- validation_loss: 920.931\n",
      "Saving model..\n"
     ]
    },
    {
     "name": "stderr",
     "output_type": "stream",
     "text": [
      "100%|█████████████████████████████████| 4/4 [00:01<00:00,  2.03it/s, loss=34.67]\n",
      "  0%|                                                     | 0/4 [00:00<?, ?it/s]"
     ]
    },
    {
     "name": "stdout",
     "output_type": "stream",
     "text": [
      "Epoch   6/ 50 -- train_loss: 37.439 -- validation_loss: 905.040\n",
      "Saving model..\n"
     ]
    },
    {
     "name": "stderr",
     "output_type": "stream",
     "text": [
      "100%|█████████████████████████████████| 4/4 [00:01<00:00,  2.03it/s, loss=28.95]\n"
     ]
    },
    {
     "name": "stdout",
     "output_type": "stream",
     "text": [
      "Epoch   7/ 50 -- train_loss: 30.228 -- validation_loss: 889.435\n",
      "Saving model..\n"
     ]
    },
    {
     "name": "stderr",
     "output_type": "stream",
     "text": [
      "100%|█████████████████████████████████| 4/4 [00:01<00:00,  2.05it/s, loss=24.71]\n"
     ]
    },
    {
     "name": "stdout",
     "output_type": "stream",
     "text": [
      "Epoch   8/ 50 -- train_loss: 25.074 -- validation_loss: 873.915\n",
      "Saving model..\n"
     ]
    },
    {
     "name": "stderr",
     "output_type": "stream",
     "text": [
      "100%|█████████████████████████████████| 4/4 [00:01<00:00,  2.06it/s, loss=20.58]\n"
     ]
    },
    {
     "name": "stdout",
     "output_type": "stream",
     "text": [
      "Epoch   9/ 50 -- train_loss: 21.462 -- validation_loss: 858.551\n",
      "Saving model..\n"
     ]
    },
    {
     "name": "stderr",
     "output_type": "stream",
     "text": [
      "100%|█████████████████████████████████| 4/4 [00:01<00:00,  2.05it/s, loss=17.69]\n"
     ]
    },
    {
     "name": "stdout",
     "output_type": "stream",
     "text": [
      "Epoch  10/ 50 -- train_loss: 17.842 -- validation_loss: 843.626\n",
      "Saving model..\n"
     ]
    },
    {
     "name": "stderr",
     "output_type": "stream",
     "text": [
      "100%|█████████████████████████████████| 4/4 [00:01<00:00,  2.03it/s, loss=15.91]\n"
     ]
    },
    {
     "name": "stdout",
     "output_type": "stream",
     "text": [
      "Epoch  11/ 50 -- train_loss: 15.201 -- validation_loss: 829.184\n",
      "Saving model..\n"
     ]
    },
    {
     "name": "stderr",
     "output_type": "stream",
     "text": [
      "100%|█████████████████████████████████| 4/4 [00:01<00:00,  2.10it/s, loss=15.41]\n"
     ]
    },
    {
     "name": "stdout",
     "output_type": "stream",
     "text": [
      "Epoch  12/ 50 -- train_loss: 13.004 -- validation_loss: 815.016\n",
      "Saving model..\n"
     ]
    },
    {
     "name": "stderr",
     "output_type": "stream",
     "text": [
      "100%|█████████████████████████████████| 4/4 [00:01<00:00,  2.14it/s, loss=13.70]\n"
     ]
    },
    {
     "name": "stdout",
     "output_type": "stream",
     "text": [
      "Epoch  13/ 50 -- train_loss: 11.658 -- validation_loss: 801.196\n",
      "Saving model..\n"
     ]
    },
    {
     "name": "stderr",
     "output_type": "stream",
     "text": [
      "100%|██████████████████████████████████| 4/4 [00:01<00:00,  2.08it/s, loss=6.75]\n"
     ]
    },
    {
     "name": "stdout",
     "output_type": "stream",
     "text": [
      "Epoch  14/ 50 -- train_loss: 9.681 -- validation_loss: 787.913\n",
      "Saving model..\n"
     ]
    },
    {
     "name": "stderr",
     "output_type": "stream",
     "text": [
      "100%|█████████████████████████████████| 4/4 [00:01<00:00,  2.06it/s, loss=10.17]\n"
     ]
    },
    {
     "name": "stdout",
     "output_type": "stream",
     "text": [
      "Epoch  15/ 50 -- train_loss: 8.060 -- validation_loss: 774.983\n",
      "Saving model..\n"
     ]
    },
    {
     "name": "stderr",
     "output_type": "stream",
     "text": [
      "100%|██████████████████████████████████| 4/4 [00:02<00:00,  2.00it/s, loss=6.49]\n"
     ]
    },
    {
     "name": "stdout",
     "output_type": "stream",
     "text": [
      "Epoch  16/ 50 -- train_loss: 6.817 -- validation_loss: 762.458\n",
      "Saving model..\n"
     ]
    },
    {
     "name": "stderr",
     "output_type": "stream",
     "text": [
      "100%|██████████████████████████████████| 4/4 [00:01<00:00,  2.07it/s, loss=4.10]\n"
     ]
    },
    {
     "name": "stdout",
     "output_type": "stream",
     "text": [
      "Epoch  17/ 50 -- train_loss: 5.409 -- validation_loss: 750.332\n",
      "Saving model..\n"
     ]
    },
    {
     "name": "stderr",
     "output_type": "stream",
     "text": [
      "100%|██████████████████████████████████| 4/4 [00:01<00:00,  2.07it/s, loss=3.90]\n"
     ]
    },
    {
     "name": "stdout",
     "output_type": "stream",
     "text": [
      "Epoch  18/ 50 -- train_loss: 4.655 -- validation_loss: 738.603\n",
      "Saving model..\n"
     ]
    },
    {
     "name": "stderr",
     "output_type": "stream",
     "text": [
      "100%|██████████████████████████████████| 4/4 [00:01<00:00,  2.01it/s, loss=2.39]\n"
     ]
    },
    {
     "name": "stdout",
     "output_type": "stream",
     "text": [
      "Epoch  19/ 50 -- train_loss: 3.345 -- validation_loss: 727.118\n",
      "Saving model..\n"
     ]
    },
    {
     "name": "stderr",
     "output_type": "stream",
     "text": [
      "100%|█████████████████████████████████| 4/4 [00:01<00:00,  2.06it/s, loss=-0.89]\n"
     ]
    },
    {
     "name": "stdout",
     "output_type": "stream",
     "text": [
      "Epoch  20/ 50 -- train_loss: 2.437 -- validation_loss: 716.070\n",
      "Saving model..\n"
     ]
    },
    {
     "name": "stderr",
     "output_type": "stream",
     "text": [
      "100%|██████████████████████████████████| 4/4 [00:02<00:00,  1.78it/s, loss=3.47]\n"
     ]
    },
    {
     "name": "stdout",
     "output_type": "stream",
     "text": [
      "Epoch  21/ 50 -- train_loss: 1.950 -- validation_loss: 705.329\n",
      "Saving model..\n"
     ]
    },
    {
     "name": "stderr",
     "output_type": "stream",
     "text": [
      "100%|█████████████████████████████████| 4/4 [00:02<00:00,  1.77it/s, loss=-2.79]\n"
     ]
    },
    {
     "name": "stdout",
     "output_type": "stream",
     "text": [
      "Epoch  22/ 50 -- train_loss: 0.966 -- validation_loss: 694.843\n",
      "Saving model..\n"
     ]
    },
    {
     "name": "stderr",
     "output_type": "stream",
     "text": [
      "100%|██████████████████████████████████| 4/4 [00:01<00:00,  2.03it/s, loss=0.62]\n"
     ]
    },
    {
     "name": "stdout",
     "output_type": "stream",
     "text": [
      "Epoch  23/ 50 -- train_loss: 1.153 -- validation_loss: 684.637\n",
      "Saving model..\n"
     ]
    },
    {
     "name": "stderr",
     "output_type": "stream",
     "text": [
      "100%|██████████████████████████████████| 4/4 [00:01<00:00,  2.08it/s, loss=0.68]\n"
     ]
    },
    {
     "name": "stdout",
     "output_type": "stream",
     "text": [
      "Epoch  24/ 50 -- train_loss: 0.041 -- validation_loss: 675.032\n",
      "Saving model..\n"
     ]
    },
    {
     "name": "stderr",
     "output_type": "stream",
     "text": [
      "100%|█████████████████████████████████| 4/4 [00:02<00:00,  2.00it/s, loss=-2.01]\n"
     ]
    },
    {
     "name": "stdout",
     "output_type": "stream",
     "text": [
      "Epoch  25/ 50 -- train_loss: -0.887 -- validation_loss: 665.475\n",
      "Saving model..\n"
     ]
    },
    {
     "name": "stderr",
     "output_type": "stream",
     "text": [
      "100%|█████████████████████████████████| 4/4 [00:01<00:00,  2.04it/s, loss=-0.10]\n"
     ]
    },
    {
     "name": "stdout",
     "output_type": "stream",
     "text": [
      "Epoch  26/ 50 -- train_loss: -1.383 -- validation_loss: 656.194\n",
      "Saving model..\n"
     ]
    },
    {
     "name": "stderr",
     "output_type": "stream",
     "text": [
      "100%|██████████████████████████████████| 4/4 [00:01<00:00,  2.12it/s, loss=1.40]\n"
     ]
    },
    {
     "name": "stdout",
     "output_type": "stream",
     "text": [
      "Epoch  27/ 50 -- train_loss: -1.158 -- validation_loss: 647.043\n",
      "Saving model..\n"
     ]
    },
    {
     "name": "stderr",
     "output_type": "stream",
     "text": [
      "100%|█████████████████████████████████| 4/4 [00:01<00:00,  2.02it/s, loss=-0.65]\n"
     ]
    },
    {
     "name": "stdout",
     "output_type": "stream",
     "text": [
      "Epoch  28/ 50 -- train_loss: 0.096 -- validation_loss: 638.282\n",
      "Saving model..\n"
     ]
    },
    {
     "name": "stderr",
     "output_type": "stream",
     "text": [
      "100%|█████████████████████████████████| 4/4 [00:01<00:00,  2.04it/s, loss=-0.16]\n"
     ]
    },
    {
     "name": "stdout",
     "output_type": "stream",
     "text": [
      "Epoch  29/ 50 -- train_loss: -0.937 -- validation_loss: 629.683\n",
      "Saving model..\n"
     ]
    },
    {
     "name": "stderr",
     "output_type": "stream",
     "text": [
      "100%|█████████████████████████████████| 4/4 [00:02<00:00,  2.00it/s, loss=-3.47]\n"
     ]
    },
    {
     "name": "stdout",
     "output_type": "stream",
     "text": [
      "Epoch  30/ 50 -- train_loss: -1.753 -- validation_loss: 621.287\n",
      "Saving model..\n"
     ]
    },
    {
     "name": "stderr",
     "output_type": "stream",
     "text": [
      "100%|█████████████████████████████████| 4/4 [00:01<00:00,  2.09it/s, loss=-3.33]\n"
     ]
    },
    {
     "name": "stdout",
     "output_type": "stream",
     "text": [
      "Epoch  31/ 50 -- train_loss: -2.184 -- validation_loss: 613.213\n",
      "Saving model..\n"
     ]
    },
    {
     "name": "stderr",
     "output_type": "stream",
     "text": [
      "100%|█████████████████████████████████| 4/4 [00:01<00:00,  2.06it/s, loss=-1.65]\n"
     ]
    },
    {
     "name": "stdout",
     "output_type": "stream",
     "text": [
      "Epoch  32/ 50 -- train_loss: -2.732 -- validation_loss: 605.344\n",
      "Saving model..\n"
     ]
    },
    {
     "name": "stderr",
     "output_type": "stream",
     "text": [
      "100%|█████████████████████████████████| 4/4 [00:01<00:00,  2.09it/s, loss=-1.38]\n"
     ]
    },
    {
     "name": "stdout",
     "output_type": "stream",
     "text": [
      "Epoch  33/ 50 -- train_loss: -3.383 -- validation_loss: 597.592\n",
      "Saving model..\n"
     ]
    },
    {
     "name": "stderr",
     "output_type": "stream",
     "text": [
      "100%|█████████████████████████████████| 4/4 [00:01<00:00,  2.02it/s, loss=-3.26]\n"
     ]
    },
    {
     "name": "stdout",
     "output_type": "stream",
     "text": [
      "Epoch  34/ 50 -- train_loss: -3.498 -- validation_loss: 590.165\n",
      "Saving model..\n"
     ]
    },
    {
     "name": "stderr",
     "output_type": "stream",
     "text": [
      "100%|█████████████████████████████████| 4/4 [00:01<00:00,  2.07it/s, loss=-3.81]\n"
     ]
    },
    {
     "name": "stdout",
     "output_type": "stream",
     "text": [
      "Epoch  35/ 50 -- train_loss: -4.362 -- validation_loss: 582.900\n",
      "Saving model..\n"
     ]
    },
    {
     "name": "stderr",
     "output_type": "stream",
     "text": [
      "100%|█████████████████████████████████| 4/4 [00:01<00:00,  2.05it/s, loss=-4.64]\n",
      "  0%|                                                     | 0/4 [00:00<?, ?it/s]"
     ]
    },
    {
     "name": "stdout",
     "output_type": "stream",
     "text": [
      "Epoch  36/ 50 -- train_loss: -4.624 -- validation_loss: 575.888\n",
      "Saving model..\n"
     ]
    },
    {
     "name": "stderr",
     "output_type": "stream",
     "text": [
      "100%|█████████████████████████████████| 4/4 [00:01<00:00,  2.09it/s, loss=-1.79]\n"
     ]
    },
    {
     "name": "stdout",
     "output_type": "stream",
     "text": [
      "Epoch  37/ 50 -- train_loss: -4.526 -- validation_loss: 568.954\n",
      "Saving model..\n"
     ]
    },
    {
     "name": "stderr",
     "output_type": "stream",
     "text": [
      "100%|█████████████████████████████████| 4/4 [00:01<00:00,  2.07it/s, loss=-5.27]\n"
     ]
    },
    {
     "name": "stdout",
     "output_type": "stream",
     "text": [
      "Epoch  38/ 50 -- train_loss: -4.434 -- validation_loss: 562.176\n",
      "Saving model..\n"
     ]
    },
    {
     "name": "stderr",
     "output_type": "stream",
     "text": [
      "100%|█████████████████████████████████| 4/4 [00:01<00:00,  2.04it/s, loss=-6.15]\n"
     ]
    },
    {
     "name": "stdout",
     "output_type": "stream",
     "text": [
      "Epoch  39/ 50 -- train_loss: -4.214 -- validation_loss: 555.569\n",
      "Saving model..\n"
     ]
    },
    {
     "name": "stderr",
     "output_type": "stream",
     "text": [
      "100%|█████████████████████████████████| 4/4 [00:01<00:00,  2.03it/s, loss=-5.82]\n"
     ]
    },
    {
     "name": "stdout",
     "output_type": "stream",
     "text": [
      "Epoch  40/ 50 -- train_loss: -5.959 -- validation_loss: 548.986\n",
      "Saving model..\n"
     ]
    },
    {
     "name": "stderr",
     "output_type": "stream",
     "text": [
      "100%|█████████████████████████████████| 4/4 [00:01<00:00,  2.02it/s, loss=-6.69]\n"
     ]
    },
    {
     "name": "stdout",
     "output_type": "stream",
     "text": [
      "Epoch  41/ 50 -- train_loss: -6.524 -- validation_loss: 542.603\n",
      "Saving model..\n"
     ]
    },
    {
     "name": "stderr",
     "output_type": "stream",
     "text": [
      "100%|█████████████████████████████████| 4/4 [00:01<00:00,  2.08it/s, loss=-9.48]\n",
      "  0%|                                                     | 0/4 [00:00<?, ?it/s]"
     ]
    },
    {
     "name": "stdout",
     "output_type": "stream",
     "text": [
      "Epoch  42/ 50 -- train_loss: -7.250 -- validation_loss: 536.398\n",
      "Saving model..\n"
     ]
    },
    {
     "name": "stderr",
     "output_type": "stream",
     "text": [
      "100%|█████████████████████████████████| 4/4 [00:01<00:00,  2.03it/s, loss=-8.90]\n"
     ]
    },
    {
     "name": "stdout",
     "output_type": "stream",
     "text": [
      "Epoch  43/ 50 -- train_loss: -7.000 -- validation_loss: 530.432\n",
      "Saving model..\n"
     ]
    },
    {
     "name": "stderr",
     "output_type": "stream",
     "text": [
      "100%|█████████████████████████████████| 4/4 [00:01<00:00,  2.06it/s, loss=-5.84]\n"
     ]
    },
    {
     "name": "stdout",
     "output_type": "stream",
     "text": [
      "Epoch  44/ 50 -- train_loss: -5.986 -- validation_loss: 524.672\n",
      "Saving model..\n"
     ]
    },
    {
     "name": "stderr",
     "output_type": "stream",
     "text": [
      "100%|█████████████████████████████████| 4/4 [00:01<00:00,  2.07it/s, loss=-5.85]\n"
     ]
    },
    {
     "name": "stdout",
     "output_type": "stream",
     "text": [
      "Epoch  45/ 50 -- train_loss: -6.696 -- validation_loss: 519.104\n",
      "Saving model..\n"
     ]
    },
    {
     "name": "stderr",
     "output_type": "stream",
     "text": [
      "100%|█████████████████████████████████| 4/4 [00:01<00:00,  2.06it/s, loss=-7.58]\n"
     ]
    },
    {
     "name": "stdout",
     "output_type": "stream",
     "text": [
      "Epoch  46/ 50 -- train_loss: -6.931 -- validation_loss: 513.479\n",
      "Saving model..\n"
     ]
    },
    {
     "name": "stderr",
     "output_type": "stream",
     "text": [
      "100%|█████████████████████████████████| 4/4 [00:01<00:00,  2.05it/s, loss=-5.83]\n",
      "  0%|                                                     | 0/4 [00:00<?, ?it/s]"
     ]
    },
    {
     "name": "stdout",
     "output_type": "stream",
     "text": [
      "Epoch  47/ 50 -- train_loss: -7.637 -- validation_loss: 507.713\n",
      "Saving model..\n"
     ]
    },
    {
     "name": "stderr",
     "output_type": "stream",
     "text": [
      "100%|█████████████████████████████████| 4/4 [00:01<00:00,  2.06it/s, loss=-8.42]\n"
     ]
    },
    {
     "name": "stdout",
     "output_type": "stream",
     "text": [
      "Epoch  48/ 50 -- train_loss: -7.343 -- validation_loss: 502.026\n",
      "Saving model..\n"
     ]
    },
    {
     "name": "stderr",
     "output_type": "stream",
     "text": [
      "100%|█████████████████████████████████| 4/4 [00:01<00:00,  2.05it/s, loss=-7.74]\n",
      "  0%|                                                     | 0/4 [00:00<?, ?it/s]"
     ]
    },
    {
     "name": "stdout",
     "output_type": "stream",
     "text": [
      "Epoch  49/ 50 -- train_loss: -7.528 -- validation_loss: 496.420\n",
      "Saving model..\n"
     ]
    },
    {
     "name": "stderr",
     "output_type": "stream",
     "text": [
      "100%|█████████████████████████████████| 4/4 [00:02<00:00,  1.93it/s, loss=-6.31]\n"
     ]
    },
    {
     "name": "stdout",
     "output_type": "stream",
     "text": [
      "Epoch  50/ 50 -- train_loss: -7.637 -- validation_loss: 490.926\n",
      "Saving model..\n"
     ]
    },
    {
     "name": "stderr",
     "output_type": "stream",
     "text": [
      "\r",
      "  0%|                                                   | 0/200 [00:00<?, ?it/s]"
     ]
    },
    {
     "name": "stdout",
     "output_type": "stream",
     "text": [
      "###### Stop training after 50 epochs!\n",
      "Validation loss: 490.926\n",
      "Test loss:       490.191\n",
      "Loading dataset..\n",
      "No validation set passed\n",
      "No test set passed\n",
      "Creating directory experiment..\n",
      "Creating BNAF model..\n",
      "Creating optimizer..\n",
      "Creating scheduler..\n",
      "Training..\n"
     ]
    },
    {
     "name": "stderr",
     "output_type": "stream",
     "text": [
      "100%|█████████████████████████████| 200/200 [01:37<00:00,  2.05it/s, loss=-7.59]\n",
      "  0%|                                                   | 0/200 [00:00<?, ?it/s]"
     ]
    },
    {
     "name": "stdout",
     "output_type": "stream",
     "text": [
      "Epoch   1/ 50 -- train_loss: 13.527 -- validation_loss: 498.035\n",
      "Saving model..\n"
     ]
    },
    {
     "name": "stderr",
     "output_type": "stream",
     "text": [
      "100%|████████████████████████████| 200/200 [01:38<00:00,  2.04it/s, loss=-14.71]\n"
     ]
    },
    {
     "name": "stdout",
     "output_type": "stream",
     "text": [
      "Epoch   2/ 50 -- train_loss: -13.094 -- validation_loss: 344.537\n",
      "Saving model..\n"
     ]
    },
    {
     "name": "stderr",
     "output_type": "stream",
     "text": [
      "100%|████████████████████████████| 200/200 [01:40<00:00,  2.00it/s, loss=-13.57]\n"
     ]
    },
    {
     "name": "stdout",
     "output_type": "stream",
     "text": [
      "Epoch   3/ 50 -- train_loss: -16.775 -- validation_loss: 247.562\n",
      "Saving model..\n"
     ]
    },
    {
     "name": "stderr",
     "output_type": "stream",
     "text": [
      "100%|████████████████████████████| 200/200 [01:39<00:00,  2.02it/s, loss=-26.41]\n"
     ]
    },
    {
     "name": "stdout",
     "output_type": "stream",
     "text": [
      "Epoch   4/ 50 -- train_loss: -19.708 -- validation_loss: 183.303\n",
      "Saving model..\n"
     ]
    },
    {
     "name": "stderr",
     "output_type": "stream",
     "text": [
      "100%|████████████████████████████| 200/200 [01:38<00:00,  2.03it/s, loss=-25.74]\n"
     ]
    },
    {
     "name": "stdout",
     "output_type": "stream",
     "text": [
      "Epoch   5/ 50 -- train_loss: -22.157 -- validation_loss: 142.194\n",
      "Saving model..\n"
     ]
    },
    {
     "name": "stderr",
     "output_type": "stream",
     "text": [
      "100%|████████████████████████████| 200/200 [01:39<00:00,  2.02it/s, loss=-25.02]\n"
     ]
    },
    {
     "name": "stdout",
     "output_type": "stream",
     "text": [
      "Epoch   6/ 50 -- train_loss: -24.249 -- validation_loss: 116.901\n",
      "Saving model..\n"
     ]
    },
    {
     "name": "stderr",
     "output_type": "stream",
     "text": [
      "100%|████████████████████████████| 200/200 [01:38<00:00,  2.04it/s, loss=-28.41]\n"
     ]
    },
    {
     "name": "stdout",
     "output_type": "stream",
     "text": [
      "Epoch   7/ 50 -- train_loss: -27.034 -- validation_loss: 102.600\n",
      "Saving model..\n"
     ]
    },
    {
     "name": "stderr",
     "output_type": "stream",
     "text": [
      "100%|████████████████████████████| 200/200 [01:36<00:00,  2.07it/s, loss=-25.82]\n"
     ]
    },
    {
     "name": "stdout",
     "output_type": "stream",
     "text": [
      "Epoch   8/ 50 -- train_loss: -28.647 -- validation_loss: 94.631\n",
      "Saving model..\n"
     ]
    },
    {
     "name": "stderr",
     "output_type": "stream",
     "text": [
      "100%|████████████████████████████| 200/200 [01:38<00:00,  2.03it/s, loss=-34.06]\n",
      "  0%|                                                   | 0/200 [00:00<?, ?it/s]"
     ]
    },
    {
     "name": "stdout",
     "output_type": "stream",
     "text": [
      "Epoch   9/ 50 -- train_loss: -29.471 -- validation_loss: 89.873\n",
      "Saving model..\n"
     ]
    },
    {
     "name": "stderr",
     "output_type": "stream",
     "text": [
      "100%|████████████████████████████| 200/200 [01:40<00:00,  1.99it/s, loss=-29.74]\n"
     ]
    },
    {
     "name": "stdout",
     "output_type": "stream",
     "text": [
      "Epoch  10/ 50 -- train_loss: -31.637 -- validation_loss: 87.647\n",
      "Saving model..\n"
     ]
    },
    {
     "name": "stderr",
     "output_type": "stream",
     "text": [
      "100%|████████████████████████████| 200/200 [01:39<00:00,  2.02it/s, loss=-35.63]\n"
     ]
    },
    {
     "name": "stdout",
     "output_type": "stream",
     "text": [
      "Epoch  11/ 50 -- train_loss: -33.452 -- validation_loss: 86.510\n",
      "Saving model..\n"
     ]
    },
    {
     "name": "stderr",
     "output_type": "stream",
     "text": [
      "100%|████████████████████████████| 200/200 [01:39<00:00,  2.02it/s, loss=-38.31]\n"
     ]
    },
    {
     "name": "stdout",
     "output_type": "stream",
     "text": [
      "Epoch  12/ 50 -- train_loss: -34.699 -- validation_loss: 86.110\n",
      "Saving model..\n"
     ]
    },
    {
     "name": "stderr",
     "output_type": "stream",
     "text": [
      "100%|████████████████████████████| 200/200 [01:41<00:00,  1.98it/s, loss=-40.43]\n",
      "  0%|                                                   | 0/200 [00:00<?, ?it/s]"
     ]
    },
    {
     "name": "stdout",
     "output_type": "stream",
     "text": [
      "Epoch  13/ 50 -- train_loss: -36.787 -- validation_loss: 86.546\n"
     ]
    },
    {
     "name": "stderr",
     "output_type": "stream",
     "text": [
      "100%|████████████████████████████| 200/200 [01:39<00:00,  2.01it/s, loss=-37.46]\n",
      "  0%|                                                   | 0/200 [00:00<?, ?it/s]"
     ]
    },
    {
     "name": "stdout",
     "output_type": "stream",
     "text": [
      "Epoch  14/ 50 -- train_loss: -37.278 -- validation_loss: 87.169\n"
     ]
    },
    {
     "name": "stderr",
     "output_type": "stream",
     "text": [
      "100%|████████████████████████████| 200/200 [01:40<00:00,  1.99it/s, loss=-37.66]\n",
      "  0%|                                                   | 0/200 [00:00<?, ?it/s]"
     ]
    },
    {
     "name": "stdout",
     "output_type": "stream",
     "text": [
      "Epoch  15/ 50 -- train_loss: -38.770 -- validation_loss: 88.063\n"
     ]
    },
    {
     "name": "stderr",
     "output_type": "stream",
     "text": [
      "100%|████████████████████████████| 200/200 [01:39<00:00,  2.01it/s, loss=-39.93]\n",
      "  0%|                                                   | 0/200 [00:00<?, ?it/s]"
     ]
    },
    {
     "name": "stdout",
     "output_type": "stream",
     "text": [
      "Epoch  16/ 50 -- train_loss: -39.678 -- validation_loss: 88.968\n"
     ]
    },
    {
     "name": "stderr",
     "output_type": "stream",
     "text": [
      "100%|████████████████████████████| 200/200 [01:39<00:00,  2.01it/s, loss=-37.50]\n",
      "  0%|                                                   | 0/200 [00:00<?, ?it/s]"
     ]
    },
    {
     "name": "stdout",
     "output_type": "stream",
     "text": [
      "Epoch  17/ 50 -- train_loss: -41.646 -- validation_loss: 90.258\n"
     ]
    },
    {
     "name": "stderr",
     "output_type": "stream",
     "text": [
      "100%|████████████████████████████| 200/200 [01:39<00:00,  2.02it/s, loss=-40.88]\n",
      "  0%|                                                   | 0/200 [00:00<?, ?it/s]"
     ]
    },
    {
     "name": "stdout",
     "output_type": "stream",
     "text": [
      "Epoch  18/ 50 -- train_loss: -41.273 -- validation_loss: 91.123\n"
     ]
    },
    {
     "name": "stderr",
     "output_type": "stream",
     "text": [
      "100%|████████████████████████████| 200/200 [01:39<00:00,  2.01it/s, loss=-38.34]\n",
      "  0%|                                                   | 0/200 [00:00<?, ?it/s]"
     ]
    },
    {
     "name": "stdout",
     "output_type": "stream",
     "text": [
      "Epoch  19/ 50 -- train_loss: -41.657 -- validation_loss: 91.950\n"
     ]
    },
    {
     "name": "stderr",
     "output_type": "stream",
     "text": [
      "100%|████████████████████████████| 200/200 [01:39<00:00,  2.02it/s, loss=-42.76]\n",
      "  0%|                                                   | 0/200 [00:00<?, ?it/s]"
     ]
    },
    {
     "name": "stdout",
     "output_type": "stream",
     "text": [
      "Epoch  20/ 50 -- train_loss: -42.814 -- validation_loss: 92.779\n"
     ]
    },
    {
     "name": "stderr",
     "output_type": "stream",
     "text": [
      "100%|████████████████████████████| 200/200 [01:35<00:00,  2.10it/s, loss=-43.13]\n",
      "  0%|                                                   | 0/200 [00:00<?, ?it/s]"
     ]
    },
    {
     "name": "stdout",
     "output_type": "stream",
     "text": [
      "Epoch  21/ 50 -- train_loss: -43.984 -- validation_loss: 93.747\n"
     ]
    },
    {
     "name": "stderr",
     "output_type": "stream",
     "text": [
      "100%|████████████████████████████| 200/200 [01:38<00:00,  2.04it/s, loss=-44.50]\n",
      "  0%|                                                   | 0/200 [00:00<?, ?it/s]"
     ]
    },
    {
     "name": "stdout",
     "output_type": "stream",
     "text": [
      "Epoch  22/ 50 -- train_loss: -44.819 -- validation_loss: 94.704\n"
     ]
    },
    {
     "name": "stderr",
     "output_type": "stream",
     "text": [
      "100%|████████████████████████████| 200/200 [01:40<00:00,  1.99it/s, loss=-46.99]\n",
      "  0%|                                                   | 0/200 [00:00<?, ?it/s]"
     ]
    },
    {
     "name": "stdout",
     "output_type": "stream",
     "text": [
      "Epoch  23/ 50 -- train_loss: -45.193 -- validation_loss: 95.597\n"
     ]
    },
    {
     "name": "stderr",
     "output_type": "stream",
     "text": [
      "100%|████████████████████████████| 200/200 [01:39<00:00,  2.01it/s, loss=-44.50]\n",
      "  0%|                                                   | 0/200 [00:00<?, ?it/s]"
     ]
    },
    {
     "name": "stdout",
     "output_type": "stream",
     "text": [
      "Epoch  24/ 50 -- train_loss: -45.100 -- validation_loss: 96.371\n"
     ]
    },
    {
     "name": "stderr",
     "output_type": "stream",
     "text": [
      "100%|████████████████████████████| 200/200 [01:39<00:00,  2.00it/s, loss=-44.87]\n",
      "  0%|                                                   | 0/200 [00:00<?, ?it/s]"
     ]
    },
    {
     "name": "stdout",
     "output_type": "stream",
     "text": [
      "Epoch  25/ 50 -- train_loss: -45.804 -- validation_loss: 97.094\n"
     ]
    },
    {
     "name": "stderr",
     "output_type": "stream",
     "text": [
      "100%|████████████████████████████| 200/200 [01:39<00:00,  2.01it/s, loss=-50.50]\n",
      "  0%|                                                   | 0/200 [00:00<?, ?it/s]"
     ]
    },
    {
     "name": "stdout",
     "output_type": "stream",
     "text": [
      "Epoch  26/ 50 -- train_loss: -46.252 -- validation_loss: 97.761\n"
     ]
    },
    {
     "name": "stderr",
     "output_type": "stream",
     "text": [
      "100%|████████████████████████████| 200/200 [01:37<00:00,  2.05it/s, loss=-47.50]\n",
      "  0%|                                                   | 0/200 [00:00<?, ?it/s]"
     ]
    },
    {
     "name": "stdout",
     "output_type": "stream",
     "text": [
      "Epoch  27/ 50 -- train_loss: -47.676 -- validation_loss: 98.734\n"
     ]
    },
    {
     "name": "stderr",
     "output_type": "stream",
     "text": [
      "100%|████████████████████████████| 200/200 [01:37<00:00,  2.05it/s, loss=-45.27]\n",
      "  0%|                                                   | 0/200 [00:00<?, ?it/s]"
     ]
    },
    {
     "name": "stdout",
     "output_type": "stream",
     "text": [
      "Epoch  28/ 50 -- train_loss: -47.373 -- validation_loss: 99.419\n"
     ]
    },
    {
     "name": "stderr",
     "output_type": "stream",
     "text": [
      "100%|████████████████████████████| 200/200 [01:38<00:00,  2.03it/s, loss=-46.81]\n",
      "  0%|                                                   | 0/200 [00:00<?, ?it/s]"
     ]
    },
    {
     "name": "stdout",
     "output_type": "stream",
     "text": [
      "Epoch  29/ 50 -- train_loss: -48.052 -- validation_loss: 100.252\n"
     ]
    },
    {
     "name": "stderr",
     "output_type": "stream",
     "text": [
      "100%|████████████████████████████| 200/200 [01:39<00:00,  2.01it/s, loss=-46.36]\n",
      "  0%|                                                   | 0/200 [00:00<?, ?it/s]"
     ]
    },
    {
     "name": "stdout",
     "output_type": "stream",
     "text": [
      "Epoch  30/ 50 -- train_loss: -48.791 -- validation_loss: 100.978\n"
     ]
    },
    {
     "name": "stderr",
     "output_type": "stream",
     "text": [
      "100%|████████████████████████████| 200/200 [01:39<00:00,  2.01it/s, loss=-47.68]\n",
      "  0%|                                                   | 0/200 [00:00<?, ?it/s]"
     ]
    },
    {
     "name": "stdout",
     "output_type": "stream",
     "text": [
      "Epoch  31/ 50 -- train_loss: -49.213 -- validation_loss: 101.585\n"
     ]
    },
    {
     "name": "stderr",
     "output_type": "stream",
     "text": [
      "100%|████████████████████████████| 200/200 [01:39<00:00,  2.01it/s, loss=-42.54]\n",
      "  0%|                                                   | 0/200 [00:00<?, ?it/s]"
     ]
    },
    {
     "name": "stdout",
     "output_type": "stream",
     "text": [
      "Epoch  32/ 50 -- train_loss: -49.343 -- validation_loss: 102.249\n"
     ]
    },
    {
     "name": "stderr",
     "output_type": "stream",
     "text": [
      "100%|████████████████████████████| 200/200 [01:39<00:00,  2.01it/s, loss=-50.45]\n",
      "  0%|                                                   | 0/200 [00:00<?, ?it/s]"
     ]
    },
    {
     "name": "stdout",
     "output_type": "stream",
     "text": [
      "Epoch  33/ 50 -- train_loss: -48.493 -- validation_loss: 102.486\n",
      "Epoch 00033: reducing learning rate of group 0 to 5.0000e-03.\n"
     ]
    },
    {
     "name": "stderr",
     "output_type": "stream",
     "text": [
      "100%|████████████████████████████| 200/200 [01:36<00:00,  2.07it/s, loss=-58.72]\n",
      "  0%|                                                   | 0/200 [00:00<?, ?it/s]"
     ]
    },
    {
     "name": "stdout",
     "output_type": "stream",
     "text": [
      "Epoch  34/ 50 -- train_loss: -57.296 -- validation_loss: 104.218\n"
     ]
    },
    {
     "name": "stderr",
     "output_type": "stream",
     "text": [
      "100%|████████████████████████████| 200/200 [01:13<00:00,  2.71it/s, loss=-55.99]\n",
      "  0%|                                                   | 0/200 [00:00<?, ?it/s]"
     ]
    },
    {
     "name": "stdout",
     "output_type": "stream",
     "text": [
      "Epoch  35/ 50 -- train_loss: -58.727 -- validation_loss: 106.343\n"
     ]
    },
    {
     "name": "stderr",
     "output_type": "stream",
     "text": [
      "100%|████████████████████████████| 200/200 [01:13<00:00,  2.72it/s, loss=-59.30]\n",
      "  0%|                                                   | 0/200 [00:00<?, ?it/s]"
     ]
    },
    {
     "name": "stdout",
     "output_type": "stream",
     "text": [
      "Epoch  36/ 50 -- train_loss: -58.756 -- validation_loss: 107.842\n"
     ]
    },
    {
     "name": "stderr",
     "output_type": "stream",
     "text": [
      "100%|████████████████████████████| 200/200 [01:14<00:00,  2.69it/s, loss=-56.05]\n",
      "  0%|                                                   | 0/200 [00:00<?, ?it/s]"
     ]
    },
    {
     "name": "stdout",
     "output_type": "stream",
     "text": [
      "Epoch  37/ 50 -- train_loss: -59.286 -- validation_loss: 109.118\n"
     ]
    },
    {
     "name": "stderr",
     "output_type": "stream",
     "text": [
      "100%|████████████████████████████| 200/200 [01:13<00:00,  2.72it/s, loss=-57.29]\n",
      "  0%|                                                   | 0/200 [00:00<?, ?it/s]"
     ]
    },
    {
     "name": "stdout",
     "output_type": "stream",
     "text": [
      "Epoch  38/ 50 -- train_loss: -58.511 -- validation_loss: 109.987\n"
     ]
    },
    {
     "name": "stderr",
     "output_type": "stream",
     "text": [
      "100%|████████████████████████████| 200/200 [01:13<00:00,  2.72it/s, loss=-59.82]\n",
      "  0%|                                                   | 0/200 [00:00<?, ?it/s]"
     ]
    },
    {
     "name": "stdout",
     "output_type": "stream",
     "text": [
      "Epoch  39/ 50 -- train_loss: -59.327 -- validation_loss: 110.544\n"
     ]
    },
    {
     "name": "stderr",
     "output_type": "stream",
     "text": [
      "100%|████████████████████████████| 200/200 [01:13<00:00,  2.72it/s, loss=-54.39]\n",
      "  0%|                                                   | 0/200 [00:00<?, ?it/s]"
     ]
    },
    {
     "name": "stdout",
     "output_type": "stream",
     "text": [
      "Epoch  40/ 50 -- train_loss: -59.599 -- validation_loss: 111.087\n"
     ]
    },
    {
     "name": "stderr",
     "output_type": "stream",
     "text": [
      "100%|████████████████████████████| 200/200 [01:13<00:00,  2.72it/s, loss=-53.13]\n",
      "  0%|                                                   | 0/200 [00:00<?, ?it/s]"
     ]
    },
    {
     "name": "stdout",
     "output_type": "stream",
     "text": [
      "Epoch  41/ 50 -- train_loss: -60.238 -- validation_loss: 111.621\n"
     ]
    },
    {
     "name": "stderr",
     "output_type": "stream",
     "text": [
      "100%|████████████████████████████| 200/200 [01:13<00:00,  2.72it/s, loss=-56.45]\n",
      "  0%|                                                   | 0/200 [00:00<?, ?it/s]"
     ]
    },
    {
     "name": "stdout",
     "output_type": "stream",
     "text": [
      "Epoch  42/ 50 -- train_loss: -59.939 -- validation_loss: 112.024\n"
     ]
    },
    {
     "name": "stderr",
     "output_type": "stream",
     "text": [
      "100%|████████████████████████████| 200/200 [01:13<00:00,  2.72it/s, loss=-64.96]\n",
      "  0%|                                                   | 0/200 [00:00<?, ?it/s]"
     ]
    },
    {
     "name": "stdout",
     "output_type": "stream",
     "text": [
      "Epoch  43/ 50 -- train_loss: -60.221 -- validation_loss: 112.337\n"
     ]
    },
    {
     "name": "stderr",
     "output_type": "stream",
     "text": [
      "100%|████████████████████████████| 200/200 [01:13<00:00,  2.72it/s, loss=-68.01]\n",
      "  0%|                                                   | 0/200 [00:00<?, ?it/s]"
     ]
    },
    {
     "name": "stdout",
     "output_type": "stream",
     "text": [
      "Epoch  44/ 50 -- train_loss: -59.555 -- validation_loss: 112.561\n"
     ]
    },
    {
     "name": "stderr",
     "output_type": "stream",
     "text": [
      "100%|████████████████████████████| 200/200 [01:13<00:00,  2.72it/s, loss=-62.48]\n",
      "  0%|                                                   | 0/200 [00:00<?, ?it/s]"
     ]
    },
    {
     "name": "stdout",
     "output_type": "stream",
     "text": [
      "Epoch  45/ 50 -- train_loss: -58.738 -- validation_loss: 112.643\n"
     ]
    },
    {
     "name": "stderr",
     "output_type": "stream",
     "text": [
      "100%|████████████████████████████| 200/200 [01:13<00:00,  2.71it/s, loss=-61.02]\n",
      "  0%|                                                   | 0/200 [00:00<?, ?it/s]"
     ]
    },
    {
     "name": "stdout",
     "output_type": "stream",
     "text": [
      "Epoch  46/ 50 -- train_loss: -60.715 -- validation_loss: 112.830\n"
     ]
    },
    {
     "name": "stderr",
     "output_type": "stream",
     "text": [
      "100%|████████████████████████████| 200/200 [01:13<00:00,  2.71it/s, loss=-64.00]\n",
      "  0%|                                                   | 0/200 [00:00<?, ?it/s]"
     ]
    },
    {
     "name": "stdout",
     "output_type": "stream",
     "text": [
      "Epoch  47/ 50 -- train_loss: -60.166 -- validation_loss: 113.016\n"
     ]
    },
    {
     "name": "stderr",
     "output_type": "stream",
     "text": [
      "100%|████████████████████████████| 200/200 [01:13<00:00,  2.71it/s, loss=-62.54]\n",
      "  0%|                                                   | 0/200 [00:00<?, ?it/s]"
     ]
    },
    {
     "name": "stdout",
     "output_type": "stream",
     "text": [
      "Epoch  48/ 50 -- train_loss: -60.656 -- validation_loss: 113.272\n"
     ]
    },
    {
     "name": "stderr",
     "output_type": "stream",
     "text": [
      "100%|████████████████████████████| 200/200 [01:13<00:00,  2.72it/s, loss=-62.89]\n",
      "  0%|                                                   | 0/200 [00:00<?, ?it/s]"
     ]
    },
    {
     "name": "stdout",
     "output_type": "stream",
     "text": [
      "Epoch  49/ 50 -- train_loss: -60.506 -- validation_loss: 113.449\n"
     ]
    },
    {
     "name": "stderr",
     "output_type": "stream",
     "text": [
      "100%|████████████████████████████| 200/200 [01:13<00:00,  2.72it/s, loss=-59.26]\n"
     ]
    },
    {
     "name": "stdout",
     "output_type": "stream",
     "text": [
      "Epoch  50/ 50 -- train_loss: -60.436 -- validation_loss: 113.648\n",
      "###### Stop training after 50 epochs!\n",
      "Validation loss: 113.648\n",
      "Test loss:       113.438\n"
     ]
    },
    {
     "name": "stderr",
     "output_type": "stream",
     "text": [
      "\r",
      "  0%|                                                     | 0/4 [00:00<?, ?it/s]"
     ]
    },
    {
     "name": "stdout",
     "output_type": "stream",
     "text": [
      "Loading dataset..\n",
      "Creating directory experiment..\n",
      "Creating BNAF model..\n",
      "Creating optimizer..\n",
      "Creating scheduler..\n",
      "Training..\n"
     ]
    },
    {
     "name": "stderr",
     "output_type": "stream",
     "text": [
      "100%|████████████████████████████████| 4/4 [00:01<00:00,  2.62it/s, loss=166.08]\n",
      "  0%|                                                     | 0/4 [00:00<?, ?it/s]"
     ]
    },
    {
     "name": "stdout",
     "output_type": "stream",
     "text": [
      "Epoch   1/ 50 -- train_loss: 184.774 -- validation_loss: 981.143\n",
      "Saving model..\n"
     ]
    },
    {
     "name": "stderr",
     "output_type": "stream",
     "text": [
      "100%|████████████████████████████████| 4/4 [00:01<00:00,  2.71it/s, loss=132.43]\n",
      "  0%|                                                     | 0/4 [00:00<?, ?it/s]"
     ]
    },
    {
     "name": "stdout",
     "output_type": "stream",
     "text": [
      "Epoch   2/ 50 -- train_loss: 142.879 -- validation_loss: 967.199\n",
      "Saving model..\n"
     ]
    },
    {
     "name": "stderr",
     "output_type": "stream",
     "text": [
      "100%|█████████████████████████████████| 4/4 [00:01<00:00,  2.70it/s, loss=94.57]\n",
      "  0%|                                                     | 0/4 [00:00<?, ?it/s]"
     ]
    },
    {
     "name": "stdout",
     "output_type": "stream",
     "text": [
      "Epoch   3/ 50 -- train_loss: 106.867 -- validation_loss: 952.608\n",
      "Saving model..\n"
     ]
    },
    {
     "name": "stderr",
     "output_type": "stream",
     "text": [
      "100%|█████████████████████████████████| 4/4 [00:01<00:00,  2.72it/s, loss=68.10]\n",
      "  0%|                                                     | 0/4 [00:00<?, ?it/s]"
     ]
    },
    {
     "name": "stdout",
     "output_type": "stream",
     "text": [
      "Epoch   4/ 50 -- train_loss: 76.851 -- validation_loss: 937.751\n",
      "Saving model..\n"
     ]
    },
    {
     "name": "stderr",
     "output_type": "stream",
     "text": [
      "100%|█████████████████████████████████| 4/4 [00:01<00:00,  2.68it/s, loss=54.23]\n",
      "  0%|                                                     | 0/4 [00:00<?, ?it/s]"
     ]
    },
    {
     "name": "stdout",
     "output_type": "stream",
     "text": [
      "Epoch   5/ 50 -- train_loss: 57.747 -- validation_loss: 922.505\n",
      "Saving model..\n"
     ]
    },
    {
     "name": "stderr",
     "output_type": "stream",
     "text": [
      "100%|█████████████████████████████████| 4/4 [00:01<00:00,  2.69it/s, loss=45.14]\n",
      "  0%|                                                     | 0/4 [00:00<?, ?it/s]"
     ]
    },
    {
     "name": "stdout",
     "output_type": "stream",
     "text": [
      "Epoch   6/ 50 -- train_loss: 47.039 -- validation_loss: 907.458\n",
      "Saving model..\n"
     ]
    },
    {
     "name": "stderr",
     "output_type": "stream",
     "text": [
      "100%|█████████████████████████████████| 4/4 [00:01<00:00,  2.71it/s, loss=35.17]\n",
      "  0%|                                                     | 0/4 [00:00<?, ?it/s]"
     ]
    },
    {
     "name": "stdout",
     "output_type": "stream",
     "text": [
      "Epoch   7/ 50 -- train_loss: 38.750 -- validation_loss: 892.480\n",
      "Saving model..\n"
     ]
    },
    {
     "name": "stderr",
     "output_type": "stream",
     "text": [
      "100%|█████████████████████████████████| 4/4 [00:01<00:00,  2.71it/s, loss=30.81]\n",
      "  0%|                                                     | 0/4 [00:00<?, ?it/s]"
     ]
    },
    {
     "name": "stdout",
     "output_type": "stream",
     "text": [
      "Epoch   8/ 50 -- train_loss: 31.839 -- validation_loss: 877.783\n",
      "Saving model..\n"
     ]
    },
    {
     "name": "stderr",
     "output_type": "stream",
     "text": [
      "100%|█████████████████████████████████| 4/4 [00:01<00:00,  2.73it/s, loss=27.41]\n",
      "  0%|                                                     | 0/4 [00:00<?, ?it/s]"
     ]
    },
    {
     "name": "stdout",
     "output_type": "stream",
     "text": [
      "Epoch   9/ 50 -- train_loss: 27.195 -- validation_loss: 863.313\n",
      "Saving model..\n"
     ]
    },
    {
     "name": "stderr",
     "output_type": "stream",
     "text": [
      "100%|█████████████████████████████████| 4/4 [00:01<00:00,  2.75it/s, loss=25.19]\n",
      "  0%|                                                     | 0/4 [00:00<?, ?it/s]"
     ]
    },
    {
     "name": "stdout",
     "output_type": "stream",
     "text": [
      "Epoch  10/ 50 -- train_loss: 24.245 -- validation_loss: 849.144\n",
      "Saving model..\n"
     ]
    },
    {
     "name": "stderr",
     "output_type": "stream",
     "text": [
      "100%|█████████████████████████████████| 4/4 [00:01<00:00,  2.71it/s, loss=20.05]\n",
      "  0%|                                                     | 0/4 [00:00<?, ?it/s]"
     ]
    },
    {
     "name": "stdout",
     "output_type": "stream",
     "text": [
      "Epoch  11/ 50 -- train_loss: 20.977 -- validation_loss: 835.373\n",
      "Saving model..\n"
     ]
    },
    {
     "name": "stderr",
     "output_type": "stream",
     "text": [
      "100%|█████████████████████████████████| 4/4 [00:01<00:00,  2.71it/s, loss=17.54]\n",
      "  0%|                                                     | 0/4 [00:00<?, ?it/s]"
     ]
    },
    {
     "name": "stdout",
     "output_type": "stream",
     "text": [
      "Epoch  12/ 50 -- train_loss: 18.311 -- validation_loss: 821.905\n",
      "Saving model..\n"
     ]
    },
    {
     "name": "stderr",
     "output_type": "stream",
     "text": [
      "100%|█████████████████████████████████| 4/4 [00:01<00:00,  2.70it/s, loss=16.93]\n",
      "  0%|                                                     | 0/4 [00:00<?, ?it/s]"
     ]
    },
    {
     "name": "stdout",
     "output_type": "stream",
     "text": [
      "Epoch  13/ 50 -- train_loss: 16.028 -- validation_loss: 808.748\n",
      "Saving model..\n"
     ]
    },
    {
     "name": "stderr",
     "output_type": "stream",
     "text": [
      "100%|█████████████████████████████████| 4/4 [00:01<00:00,  2.73it/s, loss=14.95]\n",
      "  0%|                                                     | 0/4 [00:00<?, ?it/s]"
     ]
    },
    {
     "name": "stdout",
     "output_type": "stream",
     "text": [
      "Epoch  14/ 50 -- train_loss: 13.803 -- validation_loss: 795.947\n",
      "Saving model..\n"
     ]
    },
    {
     "name": "stderr",
     "output_type": "stream",
     "text": [
      "100%|█████████████████████████████████| 4/4 [00:01<00:00,  2.76it/s, loss=11.11]\n",
      "  0%|                                                     | 0/4 [00:00<?, ?it/s]"
     ]
    },
    {
     "name": "stdout",
     "output_type": "stream",
     "text": [
      "Epoch  15/ 50 -- train_loss: 11.838 -- validation_loss: 783.498\n",
      "Saving model..\n"
     ]
    },
    {
     "name": "stderr",
     "output_type": "stream",
     "text": [
      "100%|█████████████████████████████████| 4/4 [00:01<00:00,  2.78it/s, loss=10.17]\n",
      "  0%|                                                     | 0/4 [00:00<?, ?it/s]"
     ]
    },
    {
     "name": "stdout",
     "output_type": "stream",
     "text": [
      "Epoch  16/ 50 -- train_loss: 10.645 -- validation_loss: 771.475\n",
      "Saving model..\n"
     ]
    },
    {
     "name": "stderr",
     "output_type": "stream",
     "text": [
      "100%|██████████████████████████████████| 4/4 [00:01<00:00,  2.75it/s, loss=7.76]\n",
      "  0%|                                                     | 0/4 [00:00<?, ?it/s]"
     ]
    },
    {
     "name": "stdout",
     "output_type": "stream",
     "text": [
      "Epoch  17/ 50 -- train_loss: 9.416 -- validation_loss: 759.816\n",
      "Saving model..\n"
     ]
    },
    {
     "name": "stderr",
     "output_type": "stream",
     "text": [
      "100%|█████████████████████████████████| 4/4 [00:01<00:00,  2.74it/s, loss=11.01]\n",
      "  0%|                                                     | 0/4 [00:00<?, ?it/s]"
     ]
    },
    {
     "name": "stdout",
     "output_type": "stream",
     "text": [
      "Epoch  18/ 50 -- train_loss: 8.234 -- validation_loss: 748.304\n",
      "Saving model..\n"
     ]
    },
    {
     "name": "stderr",
     "output_type": "stream",
     "text": [
      "100%|██████████████████████████████████| 4/4 [00:01<00:00,  2.73it/s, loss=7.65]\n",
      "  0%|                                                     | 0/4 [00:00<?, ?it/s]"
     ]
    },
    {
     "name": "stdout",
     "output_type": "stream",
     "text": [
      "Epoch  19/ 50 -- train_loss: 6.871 -- validation_loss: 737.139\n",
      "Saving model..\n"
     ]
    },
    {
     "name": "stderr",
     "output_type": "stream",
     "text": [
      "100%|██████████████████████████████████| 4/4 [00:01<00:00,  2.73it/s, loss=6.42]\n",
      "  0%|                                                     | 0/4 [00:00<?, ?it/s]"
     ]
    },
    {
     "name": "stdout",
     "output_type": "stream",
     "text": [
      "Epoch  20/ 50 -- train_loss: 5.619 -- validation_loss: 726.406\n",
      "Saving model..\n"
     ]
    },
    {
     "name": "stderr",
     "output_type": "stream",
     "text": [
      "100%|██████████████████████████████████| 4/4 [00:01<00:00,  2.72it/s, loss=5.22]\n",
      "  0%|                                                     | 0/4 [00:00<?, ?it/s]"
     ]
    },
    {
     "name": "stdout",
     "output_type": "stream",
     "text": [
      "Epoch  21/ 50 -- train_loss: 4.319 -- validation_loss: 716.042\n",
      "Saving model..\n"
     ]
    },
    {
     "name": "stderr",
     "output_type": "stream",
     "text": [
      "100%|██████████████████████████████████| 4/4 [00:01<00:00,  2.76it/s, loss=3.76]\n",
      "  0%|                                                     | 0/4 [00:00<?, ?it/s]"
     ]
    },
    {
     "name": "stdout",
     "output_type": "stream",
     "text": [
      "Epoch  22/ 50 -- train_loss: 3.754 -- validation_loss: 705.929\n",
      "Saving model..\n"
     ]
    },
    {
     "name": "stderr",
     "output_type": "stream",
     "text": [
      "100%|██████████████████████████████████| 4/4 [00:01<00:00,  2.76it/s, loss=3.24]\n",
      "  0%|                                                     | 0/4 [00:00<?, ?it/s]"
     ]
    },
    {
     "name": "stdout",
     "output_type": "stream",
     "text": [
      "Epoch  23/ 50 -- train_loss: 3.199 -- validation_loss: 695.871\n",
      "Saving model..\n"
     ]
    },
    {
     "name": "stderr",
     "output_type": "stream",
     "text": [
      "100%|██████████████████████████████████| 4/4 [00:01<00:00,  2.77it/s, loss=4.49]\n",
      "  0%|                                                     | 0/4 [00:00<?, ?it/s]"
     ]
    },
    {
     "name": "stdout",
     "output_type": "stream",
     "text": [
      "Epoch  24/ 50 -- train_loss: 2.286 -- validation_loss: 686.644\n",
      "Saving model..\n"
     ]
    },
    {
     "name": "stderr",
     "output_type": "stream",
     "text": [
      "100%|██████████████████████████████████| 4/4 [00:01<00:00,  2.70it/s, loss=1.52]\n",
      "  0%|                                                     | 0/4 [00:00<?, ?it/s]"
     ]
    },
    {
     "name": "stdout",
     "output_type": "stream",
     "text": [
      "Epoch  25/ 50 -- train_loss: 0.974 -- validation_loss: 677.305\n",
      "Saving model..\n"
     ]
    },
    {
     "name": "stderr",
     "output_type": "stream",
     "text": [
      "100%|█████████████████████████████████| 4/4 [00:01<00:00,  2.71it/s, loss=-2.16]\n",
      "  0%|                                                     | 0/4 [00:00<?, ?it/s]"
     ]
    },
    {
     "name": "stdout",
     "output_type": "stream",
     "text": [
      "Epoch  26/ 50 -- train_loss: 0.882 -- validation_loss: 668.332\n",
      "Saving model..\n"
     ]
    },
    {
     "name": "stderr",
     "output_type": "stream",
     "text": [
      "100%|██████████████████████████████████| 4/4 [00:01<00:00,  2.72it/s, loss=0.58]\n",
      "  0%|                                                     | 0/4 [00:00<?, ?it/s]"
     ]
    },
    {
     "name": "stdout",
     "output_type": "stream",
     "text": [
      "Epoch  27/ 50 -- train_loss: 0.333 -- validation_loss: 659.590\n",
      "Saving model..\n"
     ]
    },
    {
     "name": "stderr",
     "output_type": "stream",
     "text": [
      "100%|██████████████████████████████████| 4/4 [00:01<00:00,  2.77it/s, loss=0.34]\n",
      "  0%|                                                     | 0/4 [00:00<?, ?it/s]"
     ]
    },
    {
     "name": "stdout",
     "output_type": "stream",
     "text": [
      "Epoch  28/ 50 -- train_loss: -0.263 -- validation_loss: 650.991\n",
      "Saving model..\n"
     ]
    },
    {
     "name": "stderr",
     "output_type": "stream",
     "text": [
      "100%|██████████████████████████████████| 4/4 [00:01<00:00,  2.63it/s, loss=0.39]\n",
      "  0%|                                                     | 0/4 [00:00<?, ?it/s]"
     ]
    },
    {
     "name": "stdout",
     "output_type": "stream",
     "text": [
      "Epoch  29/ 50 -- train_loss: -1.273 -- validation_loss: 642.952\n",
      "Saving model..\n"
     ]
    },
    {
     "name": "stderr",
     "output_type": "stream",
     "text": [
      "100%|█████████████████████████████████| 4/4 [00:01<00:00,  2.71it/s, loss=-1.45]\n",
      "  0%|                                                     | 0/4 [00:00<?, ?it/s]"
     ]
    },
    {
     "name": "stdout",
     "output_type": "stream",
     "text": [
      "Epoch  30/ 50 -- train_loss: -2.210 -- validation_loss: 634.936\n",
      "Saving model..\n"
     ]
    },
    {
     "name": "stderr",
     "output_type": "stream",
     "text": [
      "100%|█████████████████████████████████| 4/4 [00:01<00:00,  2.72it/s, loss=-1.86]\n",
      "  0%|                                                     | 0/4 [00:00<?, ?it/s]"
     ]
    },
    {
     "name": "stdout",
     "output_type": "stream",
     "text": [
      "Epoch  31/ 50 -- train_loss: -1.913 -- validation_loss: 627.173\n",
      "Saving model..\n"
     ]
    },
    {
     "name": "stderr",
     "output_type": "stream",
     "text": [
      "100%|█████████████████████████████████| 4/4 [00:01<00:00,  2.59it/s, loss=-6.19]\n",
      "  0%|                                                     | 0/4 [00:00<?, ?it/s]"
     ]
    },
    {
     "name": "stdout",
     "output_type": "stream",
     "text": [
      "Epoch  32/ 50 -- train_loss: -2.544 -- validation_loss: 619.674\n",
      "Saving model..\n"
     ]
    },
    {
     "name": "stderr",
     "output_type": "stream",
     "text": [
      "100%|█████████████████████████████████| 4/4 [00:01<00:00,  2.76it/s, loss=-2.92]\n",
      "  0%|                                                     | 0/4 [00:00<?, ?it/s]"
     ]
    },
    {
     "name": "stdout",
     "output_type": "stream",
     "text": [
      "Epoch  33/ 50 -- train_loss: -3.886 -- validation_loss: 612.356\n",
      "Saving model..\n"
     ]
    },
    {
     "name": "stderr",
     "output_type": "stream",
     "text": [
      "100%|█████████████████████████████████| 4/4 [00:01<00:00,  2.77it/s, loss=-1.58]\n",
      "  0%|                                                     | 0/4 [00:00<?, ?it/s]"
     ]
    },
    {
     "name": "stdout",
     "output_type": "stream",
     "text": [
      "Epoch  34/ 50 -- train_loss: -4.123 -- validation_loss: 605.174\n",
      "Saving model..\n"
     ]
    },
    {
     "name": "stderr",
     "output_type": "stream",
     "text": [
      "100%|█████████████████████████████████| 4/4 [00:01<00:00,  2.74it/s, loss=-4.88]\n",
      "  0%|                                                     | 0/4 [00:00<?, ?it/s]"
     ]
    },
    {
     "name": "stdout",
     "output_type": "stream",
     "text": [
      "Epoch  35/ 50 -- train_loss: -4.435 -- validation_loss: 598.272\n",
      "Saving model..\n"
     ]
    },
    {
     "name": "stderr",
     "output_type": "stream",
     "text": [
      "100%|█████████████████████████████████| 4/4 [00:01<00:00,  2.75it/s, loss=-3.53]\n",
      "  0%|                                                     | 0/4 [00:00<?, ?it/s]"
     ]
    },
    {
     "name": "stdout",
     "output_type": "stream",
     "text": [
      "Epoch  36/ 50 -- train_loss: -4.326 -- validation_loss: 591.530\n",
      "Saving model..\n"
     ]
    },
    {
     "name": "stderr",
     "output_type": "stream",
     "text": [
      "100%|█████████████████████████████████| 4/4 [00:01<00:00,  2.76it/s, loss=-2.19]\n",
      "  0%|                                                     | 0/4 [00:00<?, ?it/s]"
     ]
    },
    {
     "name": "stdout",
     "output_type": "stream",
     "text": [
      "Epoch  37/ 50 -- train_loss: -5.410 -- validation_loss: 585.023\n",
      "Saving model..\n"
     ]
    },
    {
     "name": "stderr",
     "output_type": "stream",
     "text": [
      "100%|█████████████████████████████████| 4/4 [00:01<00:00,  2.73it/s, loss=-4.83]\n",
      "  0%|                                                     | 0/4 [00:00<?, ?it/s]"
     ]
    },
    {
     "name": "stdout",
     "output_type": "stream",
     "text": [
      "Epoch  38/ 50 -- train_loss: -6.085 -- validation_loss: 578.669\n",
      "Saving model..\n"
     ]
    },
    {
     "name": "stderr",
     "output_type": "stream",
     "text": [
      "100%|█████████████████████████████████| 4/4 [00:01<00:00,  2.71it/s, loss=-7.38]\n",
      "  0%|                                                     | 0/4 [00:00<?, ?it/s]"
     ]
    },
    {
     "name": "stdout",
     "output_type": "stream",
     "text": [
      "Epoch  39/ 50 -- train_loss: -6.223 -- validation_loss: 572.514\n",
      "Saving model..\n"
     ]
    },
    {
     "name": "stderr",
     "output_type": "stream",
     "text": [
      "100%|█████████████████████████████████| 4/4 [00:01<00:00,  2.72it/s, loss=-2.89]\n",
      "  0%|                                                     | 0/4 [00:00<?, ?it/s]"
     ]
    },
    {
     "name": "stdout",
     "output_type": "stream",
     "text": [
      "Epoch  40/ 50 -- train_loss: -5.653 -- validation_loss: 566.463\n",
      "Saving model..\n"
     ]
    },
    {
     "name": "stderr",
     "output_type": "stream",
     "text": [
      "100%|█████████████████████████████████| 4/4 [00:01<00:00,  2.76it/s, loss=-7.50]\n",
      "  0%|                                                     | 0/4 [00:00<?, ?it/s]"
     ]
    },
    {
     "name": "stdout",
     "output_type": "stream",
     "text": [
      "Epoch  41/ 50 -- train_loss: -6.397 -- validation_loss: 560.446\n",
      "Saving model..\n"
     ]
    },
    {
     "name": "stderr",
     "output_type": "stream",
     "text": [
      "100%|█████████████████████████████████| 4/4 [00:01<00:00,  2.73it/s, loss=-4.54]\n",
      "  0%|                                                     | 0/4 [00:00<?, ?it/s]"
     ]
    },
    {
     "name": "stdout",
     "output_type": "stream",
     "text": [
      "Epoch  42/ 50 -- train_loss: -6.564 -- validation_loss: 554.712\n",
      "Saving model..\n"
     ]
    },
    {
     "name": "stderr",
     "output_type": "stream",
     "text": [
      "100%|█████████████████████████████████| 4/4 [00:01<00:00,  2.75it/s, loss=-8.08]\n",
      "  0%|                                                     | 0/4 [00:00<?, ?it/s]"
     ]
    },
    {
     "name": "stdout",
     "output_type": "stream",
     "text": [
      "Epoch  43/ 50 -- train_loss: -7.520 -- validation_loss: 549.070\n",
      "Saving model..\n"
     ]
    },
    {
     "name": "stderr",
     "output_type": "stream",
     "text": [
      "100%|█████████████████████████████████| 4/4 [00:01<00:00,  2.76it/s, loss=-8.33]\n",
      "  0%|                                                     | 0/4 [00:00<?, ?it/s]"
     ]
    },
    {
     "name": "stdout",
     "output_type": "stream",
     "text": [
      "Epoch  44/ 50 -- train_loss: -8.437 -- validation_loss: 543.523\n",
      "Saving model..\n"
     ]
    },
    {
     "name": "stderr",
     "output_type": "stream",
     "text": [
      "100%|████████████████████████████████| 4/4 [00:01<00:00,  2.73it/s, loss=-10.91]\n",
      "  0%|                                                     | 0/4 [00:00<?, ?it/s]"
     ]
    },
    {
     "name": "stdout",
     "output_type": "stream",
     "text": [
      "Epoch  45/ 50 -- train_loss: -8.239 -- validation_loss: 537.940\n",
      "Saving model..\n"
     ]
    },
    {
     "name": "stderr",
     "output_type": "stream",
     "text": [
      "100%|█████████████████████████████████| 4/4 [00:01<00:00,  2.73it/s, loss=-7.22]\n",
      "  0%|                                                     | 0/4 [00:00<?, ?it/s]"
     ]
    },
    {
     "name": "stdout",
     "output_type": "stream",
     "text": [
      "Epoch  46/ 50 -- train_loss: -8.068 -- validation_loss: 532.357\n",
      "Saving model..\n"
     ]
    },
    {
     "name": "stderr",
     "output_type": "stream",
     "text": [
      "100%|█████████████████████████████████| 4/4 [00:01<00:00,  2.71it/s, loss=-5.19]\n",
      "  0%|                                                     | 0/4 [00:00<?, ?it/s]"
     ]
    },
    {
     "name": "stdout",
     "output_type": "stream",
     "text": [
      "Epoch  47/ 50 -- train_loss: -9.246 -- validation_loss: 526.784\n",
      "Saving model..\n"
     ]
    },
    {
     "name": "stderr",
     "output_type": "stream",
     "text": [
      "100%|█████████████████████████████████| 4/4 [00:01<00:00,  2.76it/s, loss=-7.90]\n",
      "  0%|                                                     | 0/4 [00:00<?, ?it/s]"
     ]
    },
    {
     "name": "stdout",
     "output_type": "stream",
     "text": [
      "Epoch  48/ 50 -- train_loss: -8.668 -- validation_loss: 521.693\n",
      "Saving model..\n"
     ]
    },
    {
     "name": "stderr",
     "output_type": "stream",
     "text": [
      "100%|█████████████████████████████████| 4/4 [00:01<00:00,  2.74it/s, loss=-8.77]\n",
      "  0%|                                                     | 0/4 [00:00<?, ?it/s]"
     ]
    },
    {
     "name": "stdout",
     "output_type": "stream",
     "text": [
      "Epoch  49/ 50 -- train_loss: -9.044 -- validation_loss: 516.580\n",
      "Saving model..\n"
     ]
    },
    {
     "name": "stderr",
     "output_type": "stream",
     "text": [
      "100%|█████████████████████████████████| 4/4 [00:01<00:00,  2.78it/s, loss=-7.16]\n"
     ]
    },
    {
     "name": "stdout",
     "output_type": "stream",
     "text": [
      "Epoch  50/ 50 -- train_loss: -8.600 -- validation_loss: 511.454\n",
      "Saving model..\n"
     ]
    },
    {
     "name": "stderr",
     "output_type": "stream",
     "text": [
      "\r",
      "  0%|                                                   | 0/200 [00:00<?, ?it/s]"
     ]
    },
    {
     "name": "stdout",
     "output_type": "stream",
     "text": [
      "###### Stop training after 50 epochs!\n",
      "Validation loss: 511.454\n",
      "Test loss:       511.464\n",
      "Loading dataset..\n",
      "No validation set passed\n",
      "No test set passed\n",
      "Creating directory experiment..\n",
      "Creating BNAF model..\n",
      "Creating optimizer..\n",
      "Creating scheduler..\n",
      "Training..\n"
     ]
    },
    {
     "name": "stderr",
     "output_type": "stream",
     "text": [
      "100%|████████████████████████████| 200/200 [01:13<00:00,  2.72it/s, loss=-13.50]\n",
      "  0%|                                                   | 0/200 [00:00<?, ?it/s]"
     ]
    },
    {
     "name": "stdout",
     "output_type": "stream",
     "text": [
      "Epoch   1/ 50 -- train_loss: 12.556 -- validation_loss: 528.456\n",
      "Saving model..\n"
     ]
    },
    {
     "name": "stderr",
     "output_type": "stream",
     "text": [
      "100%|████████████████████████████| 200/200 [01:14<00:00,  2.70it/s, loss=-16.45]\n",
      "  0%|                                                   | 0/200 [00:00<?, ?it/s]"
     ]
    },
    {
     "name": "stdout",
     "output_type": "stream",
     "text": [
      "Epoch   2/ 50 -- train_loss: -14.938 -- validation_loss: 378.959\n",
      "Saving model..\n"
     ]
    },
    {
     "name": "stderr",
     "output_type": "stream",
     "text": [
      "100%|████████████████████████████| 200/200 [01:13<00:00,  2.71it/s, loss=-19.10]\n",
      "  0%|                                                   | 0/200 [00:00<?, ?it/s]"
     ]
    },
    {
     "name": "stdout",
     "output_type": "stream",
     "text": [
      "Epoch   3/ 50 -- train_loss: -19.183 -- validation_loss: 275.126\n",
      "Saving model..\n"
     ]
    },
    {
     "name": "stderr",
     "output_type": "stream",
     "text": [
      "100%|████████████████████████████| 200/200 [01:14<00:00,  2.70it/s, loss=-23.53]\n",
      "  0%|                                                   | 0/200 [00:00<?, ?it/s]"
     ]
    },
    {
     "name": "stdout",
     "output_type": "stream",
     "text": [
      "Epoch   4/ 50 -- train_loss: -20.801 -- validation_loss: 199.598\n",
      "Saving model..\n"
     ]
    },
    {
     "name": "stderr",
     "output_type": "stream",
     "text": [
      "100%|████████████████████████████| 200/200 [01:14<00:00,  2.69it/s, loss=-26.06]\n",
      "  0%|                                                   | 0/200 [00:00<?, ?it/s]"
     ]
    },
    {
     "name": "stdout",
     "output_type": "stream",
     "text": [
      "Epoch   5/ 50 -- train_loss: -23.891 -- validation_loss: 151.480\n",
      "Saving model..\n"
     ]
    },
    {
     "name": "stderr",
     "output_type": "stream",
     "text": [
      "100%|████████████████████████████| 200/200 [01:14<00:00,  2.70it/s, loss=-23.98]\n",
      "  0%|                                                   | 0/200 [00:00<?, ?it/s]"
     ]
    },
    {
     "name": "stdout",
     "output_type": "stream",
     "text": [
      "Epoch   6/ 50 -- train_loss: -24.670 -- validation_loss: 122.128\n",
      "Saving model..\n"
     ]
    },
    {
     "name": "stderr",
     "output_type": "stream",
     "text": [
      "100%|████████████████████████████| 200/200 [01:13<00:00,  2.70it/s, loss=-18.90]\n",
      "  0%|                                                   | 0/200 [00:00<?, ?it/s]"
     ]
    },
    {
     "name": "stdout",
     "output_type": "stream",
     "text": [
      "Epoch   7/ 50 -- train_loss: -25.717 -- validation_loss: 104.373\n",
      "Saving model..\n"
     ]
    },
    {
     "name": "stderr",
     "output_type": "stream",
     "text": [
      "100%|████████████████████████████| 200/200 [01:14<00:00,  2.70it/s, loss=-24.75]\n",
      "  0%|                                                   | 0/200 [00:00<?, ?it/s]"
     ]
    },
    {
     "name": "stdout",
     "output_type": "stream",
     "text": [
      "Epoch   8/ 50 -- train_loss: -26.778 -- validation_loss: 93.832\n",
      "Saving model..\n"
     ]
    },
    {
     "name": "stderr",
     "output_type": "stream",
     "text": [
      "100%|████████████████████████████| 200/200 [01:14<00:00,  2.70it/s, loss=-26.96]\n",
      "  0%|                                                   | 0/200 [00:00<?, ?it/s]"
     ]
    },
    {
     "name": "stdout",
     "output_type": "stream",
     "text": [
      "Epoch   9/ 50 -- train_loss: -28.787 -- validation_loss: 87.741\n",
      "Saving model..\n"
     ]
    },
    {
     "name": "stderr",
     "output_type": "stream",
     "text": [
      "100%|████████████████████████████| 200/200 [01:14<00:00,  2.70it/s, loss=-29.91]\n",
      "  0%|                                                   | 0/200 [00:00<?, ?it/s]"
     ]
    },
    {
     "name": "stdout",
     "output_type": "stream",
     "text": [
      "Epoch  10/ 50 -- train_loss: -31.357 -- validation_loss: 84.123\n",
      "Saving model..\n"
     ]
    },
    {
     "name": "stderr",
     "output_type": "stream",
     "text": [
      "100%|████████████████████████████| 200/200 [01:14<00:00,  2.70it/s, loss=-32.76]\n",
      "  0%|                                                   | 0/200 [00:00<?, ?it/s]"
     ]
    },
    {
     "name": "stdout",
     "output_type": "stream",
     "text": [
      "Epoch  11/ 50 -- train_loss: -31.451 -- validation_loss: 81.782\n",
      "Saving model..\n"
     ]
    },
    {
     "name": "stderr",
     "output_type": "stream",
     "text": [
      "100%|████████████████████████████| 200/200 [01:13<00:00,  2.70it/s, loss=-30.15]\n",
      "  0%|                                                   | 0/200 [00:00<?, ?it/s]"
     ]
    },
    {
     "name": "stdout",
     "output_type": "stream",
     "text": [
      "Epoch  12/ 50 -- train_loss: -32.453 -- validation_loss: 80.478\n",
      "Saving model..\n"
     ]
    },
    {
     "name": "stderr",
     "output_type": "stream",
     "text": [
      "100%|████████████████████████████| 200/200 [01:13<00:00,  2.71it/s, loss=-34.51]\n",
      "  0%|                                                   | 0/200 [00:00<?, ?it/s]"
     ]
    },
    {
     "name": "stdout",
     "output_type": "stream",
     "text": [
      "Epoch  13/ 50 -- train_loss: -33.025 -- validation_loss: 79.696\n",
      "Saving model..\n"
     ]
    },
    {
     "name": "stderr",
     "output_type": "stream",
     "text": [
      "100%|████████████████████████████| 200/200 [01:14<00:00,  2.70it/s, loss=-34.45]\n",
      "  0%|                                                   | 0/200 [00:00<?, ?it/s]"
     ]
    },
    {
     "name": "stdout",
     "output_type": "stream",
     "text": [
      "Epoch  14/ 50 -- train_loss: -33.696 -- validation_loss: 79.167\n",
      "Saving model..\n"
     ]
    },
    {
     "name": "stderr",
     "output_type": "stream",
     "text": [
      "100%|████████████████████████████| 200/200 [01:13<00:00,  2.70it/s, loss=-32.98]\n",
      "  0%|                                                   | 0/200 [00:00<?, ?it/s]"
     ]
    },
    {
     "name": "stdout",
     "output_type": "stream",
     "text": [
      "Epoch  15/ 50 -- train_loss: -33.910 -- validation_loss: 78.824\n",
      "Saving model..\n"
     ]
    },
    {
     "name": "stderr",
     "output_type": "stream",
     "text": [
      "100%|████████████████████████████| 200/200 [01:14<00:00,  2.70it/s, loss=-36.55]\n",
      "  0%|                                                   | 0/200 [00:00<?, ?it/s]"
     ]
    },
    {
     "name": "stdout",
     "output_type": "stream",
     "text": [
      "Epoch  16/ 50 -- train_loss: -35.877 -- validation_loss: 78.790\n",
      "Saving model..\n"
     ]
    },
    {
     "name": "stderr",
     "output_type": "stream",
     "text": [
      "100%|████████████████████████████| 200/200 [01:14<00:00,  2.69it/s, loss=-36.69]\n",
      "  0%|                                                   | 0/200 [00:00<?, ?it/s]"
     ]
    },
    {
     "name": "stdout",
     "output_type": "stream",
     "text": [
      "Epoch  17/ 50 -- train_loss: -35.808 -- validation_loss: 78.801\n"
     ]
    },
    {
     "name": "stderr",
     "output_type": "stream",
     "text": [
      "100%|████████████████████████████| 200/200 [01:14<00:00,  2.70it/s, loss=-36.55]\n",
      "  0%|                                                   | 0/200 [00:00<?, ?it/s]"
     ]
    },
    {
     "name": "stdout",
     "output_type": "stream",
     "text": [
      "Epoch  18/ 50 -- train_loss: -37.843 -- validation_loss: 78.785\n",
      "Saving model..\n"
     ]
    },
    {
     "name": "stderr",
     "output_type": "stream",
     "text": [
      "100%|████████████████████████████| 200/200 [01:14<00:00,  2.70it/s, loss=-43.44]\n",
      "  0%|                                                   | 0/200 [00:00<?, ?it/s]"
     ]
    },
    {
     "name": "stdout",
     "output_type": "stream",
     "text": [
      "Epoch  19/ 50 -- train_loss: -38.581 -- validation_loss: 78.894\n"
     ]
    },
    {
     "name": "stderr",
     "output_type": "stream",
     "text": [
      "100%|████████████████████████████| 200/200 [01:14<00:00,  2.70it/s, loss=-36.78]\n",
      "  0%|                                                   | 0/200 [00:00<?, ?it/s]"
     ]
    },
    {
     "name": "stdout",
     "output_type": "stream",
     "text": [
      "Epoch  20/ 50 -- train_loss: -40.110 -- validation_loss: 79.113\n"
     ]
    },
    {
     "name": "stderr",
     "output_type": "stream",
     "text": [
      "100%|████████████████████████████| 200/200 [01:14<00:00,  2.70it/s, loss=-38.55]\n",
      "  0%|                                                   | 0/200 [00:00<?, ?it/s]"
     ]
    },
    {
     "name": "stdout",
     "output_type": "stream",
     "text": [
      "Epoch  21/ 50 -- train_loss: -38.128 -- validation_loss: 79.470\n"
     ]
    },
    {
     "name": "stderr",
     "output_type": "stream",
     "text": [
      "100%|████████████████████████████| 200/200 [01:14<00:00,  2.70it/s, loss=-36.63]\n",
      "  0%|                                                   | 0/200 [00:00<?, ?it/s]"
     ]
    },
    {
     "name": "stdout",
     "output_type": "stream",
     "text": [
      "Epoch  22/ 50 -- train_loss: -38.367 -- validation_loss: 79.742\n"
     ]
    },
    {
     "name": "stderr",
     "output_type": "stream",
     "text": [
      "100%|████████████████████████████| 200/200 [01:14<00:00,  2.68it/s, loss=-36.72]\n",
      "  0%|                                                   | 0/200 [00:00<?, ?it/s]"
     ]
    },
    {
     "name": "stdout",
     "output_type": "stream",
     "text": [
      "Epoch  23/ 50 -- train_loss: -39.287 -- validation_loss: 80.138\n"
     ]
    },
    {
     "name": "stderr",
     "output_type": "stream",
     "text": [
      "100%|████████████████████████████| 200/200 [01:14<00:00,  2.70it/s, loss=-32.60]\n",
      "  0%|                                                   | 0/200 [00:00<?, ?it/s]"
     ]
    },
    {
     "name": "stdout",
     "output_type": "stream",
     "text": [
      "Epoch  24/ 50 -- train_loss: -37.623 -- validation_loss: 80.534\n"
     ]
    },
    {
     "name": "stderr",
     "output_type": "stream",
     "text": [
      "100%|████████████████████████████| 200/200 [01:14<00:00,  2.70it/s, loss=-35.35]\n",
      "  0%|                                                   | 0/200 [00:00<?, ?it/s]"
     ]
    },
    {
     "name": "stdout",
     "output_type": "stream",
     "text": [
      "Epoch  25/ 50 -- train_loss: -37.543 -- validation_loss: 80.430\n"
     ]
    },
    {
     "name": "stderr",
     "output_type": "stream",
     "text": [
      "100%|████████████████████████████| 200/200 [01:14<00:00,  2.70it/s, loss=-39.74]\n",
      "  0%|                                                   | 0/200 [00:00<?, ?it/s]"
     ]
    },
    {
     "name": "stdout",
     "output_type": "stream",
     "text": [
      "Epoch  26/ 50 -- train_loss: -39.490 -- validation_loss: 80.380\n"
     ]
    },
    {
     "name": "stderr",
     "output_type": "stream",
     "text": [
      "100%|████████████████████████████| 200/200 [01:14<00:00,  2.70it/s, loss=-38.95]\n",
      "  0%|                                                   | 0/200 [00:00<?, ?it/s]"
     ]
    },
    {
     "name": "stdout",
     "output_type": "stream",
     "text": [
      "Epoch  27/ 50 -- train_loss: -40.714 -- validation_loss: 80.568\n"
     ]
    },
    {
     "name": "stderr",
     "output_type": "stream",
     "text": [
      "100%|████████████████████████████| 200/200 [01:14<00:00,  2.70it/s, loss=-35.33]\n",
      "  0%|                                                   | 0/200 [00:00<?, ?it/s]"
     ]
    },
    {
     "name": "stdout",
     "output_type": "stream",
     "text": [
      "Epoch  28/ 50 -- train_loss: -39.002 -- validation_loss: 80.672\n"
     ]
    },
    {
     "name": "stderr",
     "output_type": "stream",
     "text": [
      "100%|████████████████████████████| 200/200 [01:14<00:00,  2.70it/s, loss=-34.53]\n",
      "  0%|                                                   | 0/200 [00:00<?, ?it/s]"
     ]
    },
    {
     "name": "stdout",
     "output_type": "stream",
     "text": [
      "Epoch  29/ 50 -- train_loss: -38.714 -- validation_loss: 80.574\n"
     ]
    },
    {
     "name": "stderr",
     "output_type": "stream",
     "text": [
      "100%|████████████████████████████| 200/200 [01:14<00:00,  2.70it/s, loss=-36.10]\n",
      "  0%|                                                   | 0/200 [00:00<?, ?it/s]"
     ]
    },
    {
     "name": "stdout",
     "output_type": "stream",
     "text": [
      "Epoch  30/ 50 -- train_loss: -40.739 -- validation_loss: 80.569\n"
     ]
    },
    {
     "name": "stderr",
     "output_type": "stream",
     "text": [
      "100%|████████████████████████████| 200/200 [01:14<00:00,  2.70it/s, loss=-44.04]\n",
      "  0%|                                                   | 0/200 [00:00<?, ?it/s]"
     ]
    },
    {
     "name": "stdout",
     "output_type": "stream",
     "text": [
      "Epoch  31/ 50 -- train_loss: -39.601 -- validation_loss: 80.486\n"
     ]
    },
    {
     "name": "stderr",
     "output_type": "stream",
     "text": [
      "100%|████████████████████████████| 200/200 [01:13<00:00,  2.70it/s, loss=-44.58]\n",
      "  0%|                                                   | 0/200 [00:00<?, ?it/s]"
     ]
    },
    {
     "name": "stdout",
     "output_type": "stream",
     "text": [
      "Epoch  32/ 50 -- train_loss: -40.737 -- validation_loss: 80.769\n"
     ]
    },
    {
     "name": "stderr",
     "output_type": "stream",
     "text": [
      "100%|████████████████████████████| 200/200 [01:13<00:00,  2.71it/s, loss=-49.47]\n",
      "  0%|                                                   | 0/200 [00:00<?, ?it/s]"
     ]
    },
    {
     "name": "stdout",
     "output_type": "stream",
     "text": [
      "Epoch  33/ 50 -- train_loss: -39.939 -- validation_loss: 80.733\n"
     ]
    },
    {
     "name": "stderr",
     "output_type": "stream",
     "text": [
      "100%|████████████████████████████| 200/200 [01:13<00:00,  2.70it/s, loss=-41.34]\n",
      "  0%|                                                   | 0/200 [00:00<?, ?it/s]"
     ]
    },
    {
     "name": "stdout",
     "output_type": "stream",
     "text": [
      "Epoch  34/ 50 -- train_loss: -41.329 -- validation_loss: 80.840\n"
     ]
    },
    {
     "name": "stderr",
     "output_type": "stream",
     "text": [
      "100%|████████████████████████████| 200/200 [01:14<00:00,  2.70it/s, loss=-47.30]\n",
      "  0%|                                                   | 0/200 [00:00<?, ?it/s]"
     ]
    },
    {
     "name": "stdout",
     "output_type": "stream",
     "text": [
      "Epoch  35/ 50 -- train_loss: -42.321 -- validation_loss: 80.883\n"
     ]
    },
    {
     "name": "stderr",
     "output_type": "stream",
     "text": [
      "100%|████████████████████████████| 200/200 [01:14<00:00,  2.67it/s, loss=-42.59]\n",
      "  0%|                                                   | 0/200 [00:00<?, ?it/s]"
     ]
    },
    {
     "name": "stdout",
     "output_type": "stream",
     "text": [
      "Epoch  36/ 50 -- train_loss: -42.434 -- validation_loss: 80.935\n"
     ]
    },
    {
     "name": "stderr",
     "output_type": "stream",
     "text": [
      "100%|████████████████████████████| 200/200 [01:14<00:00,  2.70it/s, loss=-43.45]\n",
      "  0%|                                                   | 0/200 [00:00<?, ?it/s]"
     ]
    },
    {
     "name": "stdout",
     "output_type": "stream",
     "text": [
      "Epoch  37/ 50 -- train_loss: -41.598 -- validation_loss: 80.801\n"
     ]
    },
    {
     "name": "stderr",
     "output_type": "stream",
     "text": [
      "100%|████████████████████████████| 200/200 [01:14<00:00,  2.69it/s, loss=-45.13]\n",
      "  0%|                                                   | 0/200 [00:00<?, ?it/s]"
     ]
    },
    {
     "name": "stdout",
     "output_type": "stream",
     "text": [
      "Epoch  38/ 50 -- train_loss: -43.097 -- validation_loss: 80.893\n"
     ]
    },
    {
     "name": "stderr",
     "output_type": "stream",
     "text": [
      "100%|████████████████████████████| 200/200 [01:13<00:00,  2.70it/s, loss=-42.01]\n",
      "  0%|                                                   | 0/200 [00:00<?, ?it/s]"
     ]
    },
    {
     "name": "stdout",
     "output_type": "stream",
     "text": [
      "Epoch  39/ 50 -- train_loss: -43.856 -- validation_loss: 81.175\n",
      "Epoch 00039: reducing learning rate of group 0 to 5.0000e-03.\n"
     ]
    },
    {
     "name": "stderr",
     "output_type": "stream",
     "text": [
      "100%|████████████████████████████| 200/200 [01:13<00:00,  2.71it/s, loss=-55.61]\n",
      "  0%|                                                   | 0/200 [00:00<?, ?it/s]"
     ]
    },
    {
     "name": "stdout",
     "output_type": "stream",
     "text": [
      "Epoch  40/ 50 -- train_loss: -50.288 -- validation_loss: 82.103\n"
     ]
    },
    {
     "name": "stderr",
     "output_type": "stream",
     "text": [
      "100%|████████████████████████████| 200/200 [01:14<00:00,  2.70it/s, loss=-52.60]\n",
      "  0%|                                                   | 0/200 [00:00<?, ?it/s]"
     ]
    },
    {
     "name": "stdout",
     "output_type": "stream",
     "text": [
      "Epoch  41/ 50 -- train_loss: -50.874 -- validation_loss: 83.211\n"
     ]
    },
    {
     "name": "stderr",
     "output_type": "stream",
     "text": [
      "100%|████████████████████████████| 200/200 [01:14<00:00,  2.70it/s, loss=-53.42]\n",
      "  0%|                                                   | 0/200 [00:00<?, ?it/s]"
     ]
    },
    {
     "name": "stdout",
     "output_type": "stream",
     "text": [
      "Epoch  42/ 50 -- train_loss: -51.658 -- validation_loss: 83.961\n"
     ]
    },
    {
     "name": "stderr",
     "output_type": "stream",
     "text": [
      "100%|████████████████████████████| 200/200 [01:14<00:00,  2.70it/s, loss=-48.07]\n",
      "  0%|                                                   | 0/200 [00:00<?, ?it/s]"
     ]
    },
    {
     "name": "stdout",
     "output_type": "stream",
     "text": [
      "Epoch  43/ 50 -- train_loss: -46.997 -- validation_loss: 84.295\n"
     ]
    },
    {
     "name": "stderr",
     "output_type": "stream",
     "text": [
      "100%|████████████████████████████| 200/200 [01:13<00:00,  2.71it/s, loss=-51.95]\n",
      "  0%|                                                   | 0/200 [00:00<?, ?it/s]"
     ]
    },
    {
     "name": "stdout",
     "output_type": "stream",
     "text": [
      "Epoch  44/ 50 -- train_loss: -49.303 -- validation_loss: 84.544\n"
     ]
    },
    {
     "name": "stderr",
     "output_type": "stream",
     "text": [
      "100%|████████████████████████████| 200/200 [01:13<00:00,  2.71it/s, loss=-53.47]\n",
      "  0%|                                                   | 0/200 [00:00<?, ?it/s]"
     ]
    },
    {
     "name": "stdout",
     "output_type": "stream",
     "text": [
      "Epoch  45/ 50 -- train_loss: -49.111 -- validation_loss: 84.771\n"
     ]
    },
    {
     "name": "stderr",
     "output_type": "stream",
     "text": [
      "100%|████████████████████████████| 200/200 [01:13<00:00,  2.71it/s, loss=-53.46]\n",
      "  0%|                                                   | 0/200 [00:00<?, ?it/s]"
     ]
    },
    {
     "name": "stdout",
     "output_type": "stream",
     "text": [
      "Epoch  46/ 50 -- train_loss: -50.848 -- validation_loss: 85.126\n"
     ]
    },
    {
     "name": "stderr",
     "output_type": "stream",
     "text": [
      "100%|████████████████████████████| 200/200 [01:14<00:00,  2.70it/s, loss=-57.50]\n",
      "  0%|                                                   | 0/200 [00:00<?, ?it/s]"
     ]
    },
    {
     "name": "stdout",
     "output_type": "stream",
     "text": [
      "Epoch  47/ 50 -- train_loss: -51.865 -- validation_loss: 85.343\n"
     ]
    },
    {
     "name": "stderr",
     "output_type": "stream",
     "text": [
      "100%|████████████████████████████| 200/200 [01:14<00:00,  2.70it/s, loss=-48.22]\n",
      "  0%|                                                   | 0/200 [00:00<?, ?it/s]"
     ]
    },
    {
     "name": "stdout",
     "output_type": "stream",
     "text": [
      "Epoch  48/ 50 -- train_loss: -50.852 -- validation_loss: 85.271\n"
     ]
    },
    {
     "name": "stderr",
     "output_type": "stream",
     "text": [
      "100%|████████████████████████████| 200/200 [01:13<00:00,  2.70it/s, loss=-50.33]\n",
      "  0%|                                                   | 0/200 [00:00<?, ?it/s]"
     ]
    },
    {
     "name": "stdout",
     "output_type": "stream",
     "text": [
      "Epoch  49/ 50 -- train_loss: -51.191 -- validation_loss: 85.237\n"
     ]
    },
    {
     "name": "stderr",
     "output_type": "stream",
     "text": [
      "100%|████████████████████████████| 200/200 [01:14<00:00,  2.70it/s, loss=-45.77]\n"
     ]
    },
    {
     "name": "stdout",
     "output_type": "stream",
     "text": [
      "Epoch  50/ 50 -- train_loss: -50.860 -- validation_loss: 85.281\n",
      "###### Stop training after 50 epochs!\n",
      "Validation loss: 85.281\n",
      "Test loss:       84.944\n"
     ]
    },
    {
     "name": "stderr",
     "output_type": "stream",
     "text": [
      "\r",
      "  0%|                                                     | 0/4 [00:00<?, ?it/s]"
     ]
    },
    {
     "name": "stdout",
     "output_type": "stream",
     "text": [
      "Loading dataset..\n",
      "Creating directory experiment..\n",
      "Creating BNAF model..\n",
      "Creating optimizer..\n",
      "Creating scheduler..\n",
      "Training..\n"
     ]
    },
    {
     "name": "stderr",
     "output_type": "stream",
     "text": [
      "100%|████████████████████████████████| 4/4 [00:01<00:00,  2.68it/s, loss=135.29]\n"
     ]
    },
    {
     "name": "stdout",
     "output_type": "stream",
     "text": [
      "Epoch   1/ 50 -- train_loss: 147.881 -- validation_loss: 979.134\n",
      "Saving model..\n"
     ]
    },
    {
     "name": "stderr",
     "output_type": "stream",
     "text": [
      "100%|█████████████████████████████████| 4/4 [00:01<00:00,  2.72it/s, loss=96.28]\n",
      "  0%|                                                     | 0/4 [00:00<?, ?it/s]"
     ]
    },
    {
     "name": "stdout",
     "output_type": "stream",
     "text": [
      "Epoch   2/ 50 -- train_loss: 110.133 -- validation_loss: 962.776\n",
      "Saving model..\n"
     ]
    },
    {
     "name": "stderr",
     "output_type": "stream",
     "text": [
      "100%|█████████████████████████████████| 4/4 [00:01<00:00,  2.60it/s, loss=69.62]\n",
      "  0%|                                                     | 0/4 [00:00<?, ?it/s]"
     ]
    },
    {
     "name": "stdout",
     "output_type": "stream",
     "text": [
      "Epoch   3/ 50 -- train_loss: 80.858 -- validation_loss: 945.836\n",
      "Saving model..\n"
     ]
    },
    {
     "name": "stderr",
     "output_type": "stream",
     "text": [
      "100%|█████████████████████████████████| 4/4 [00:01<00:00,  2.64it/s, loss=55.72]\n",
      "  0%|                                                     | 0/4 [00:00<?, ?it/s]"
     ]
    },
    {
     "name": "stdout",
     "output_type": "stream",
     "text": [
      "Epoch   4/ 50 -- train_loss: 61.648 -- validation_loss: 928.726\n",
      "Saving model..\n"
     ]
    },
    {
     "name": "stderr",
     "output_type": "stream",
     "text": [
      "100%|█████████████████████████████████| 4/4 [00:01<00:00,  2.72it/s, loss=45.82]\n",
      "  0%|                                                     | 0/4 [00:00<?, ?it/s]"
     ]
    },
    {
     "name": "stdout",
     "output_type": "stream",
     "text": [
      "Epoch   5/ 50 -- train_loss: 46.805 -- validation_loss: 911.594\n",
      "Saving model..\n"
     ]
    },
    {
     "name": "stderr",
     "output_type": "stream",
     "text": [
      "100%|█████████████████████████████████| 4/4 [00:01<00:00,  2.75it/s, loss=32.46]\n",
      "  0%|                                                     | 0/4 [00:00<?, ?it/s]"
     ]
    },
    {
     "name": "stdout",
     "output_type": "stream",
     "text": [
      "Epoch   6/ 50 -- train_loss: 37.343 -- validation_loss: 894.540\n",
      "Saving model..\n"
     ]
    },
    {
     "name": "stderr",
     "output_type": "stream",
     "text": [
      "100%|█████████████████████████████████| 4/4 [00:01<00:00,  2.71it/s, loss=27.18]\n",
      "  0%|                                                     | 0/4 [00:00<?, ?it/s]"
     ]
    },
    {
     "name": "stdout",
     "output_type": "stream",
     "text": [
      "Epoch   7/ 50 -- train_loss: 30.267 -- validation_loss: 877.671\n",
      "Saving model..\n"
     ]
    },
    {
     "name": "stderr",
     "output_type": "stream",
     "text": [
      "100%|█████████████████████████████████| 4/4 [00:01<00:00,  2.73it/s, loss=25.15]\n",
      "  0%|                                                     | 0/4 [00:00<?, ?it/s]"
     ]
    },
    {
     "name": "stdout",
     "output_type": "stream",
     "text": [
      "Epoch   8/ 50 -- train_loss: 25.659 -- validation_loss: 861.339\n",
      "Saving model..\n"
     ]
    },
    {
     "name": "stderr",
     "output_type": "stream",
     "text": [
      "100%|█████████████████████████████████| 4/4 [00:01<00:00,  2.71it/s, loss=22.42]\n",
      "  0%|                                                     | 0/4 [00:00<?, ?it/s]"
     ]
    },
    {
     "name": "stdout",
     "output_type": "stream",
     "text": [
      "Epoch   9/ 50 -- train_loss: 22.372 -- validation_loss: 845.182\n",
      "Saving model..\n"
     ]
    },
    {
     "name": "stderr",
     "output_type": "stream",
     "text": [
      "100%|█████████████████████████████████| 4/4 [00:01<00:00,  2.70it/s, loss=20.84]\n",
      "  0%|                                                     | 0/4 [00:00<?, ?it/s]"
     ]
    },
    {
     "name": "stdout",
     "output_type": "stream",
     "text": [
      "Epoch  10/ 50 -- train_loss: 19.323 -- validation_loss: 829.609\n",
      "Saving model..\n"
     ]
    },
    {
     "name": "stderr",
     "output_type": "stream",
     "text": [
      "100%|█████████████████████████████████| 4/4 [00:01<00:00,  2.74it/s, loss=14.67]\n",
      "  0%|                                                     | 0/4 [00:00<?, ?it/s]"
     ]
    },
    {
     "name": "stdout",
     "output_type": "stream",
     "text": [
      "Epoch  11/ 50 -- train_loss: 17.098 -- validation_loss: 814.432\n",
      "Saving model..\n"
     ]
    },
    {
     "name": "stderr",
     "output_type": "stream",
     "text": [
      "100%|█████████████████████████████████| 4/4 [00:01<00:00,  2.70it/s, loss=15.86]\n",
      "  0%|                                                     | 0/4 [00:00<?, ?it/s]"
     ]
    },
    {
     "name": "stdout",
     "output_type": "stream",
     "text": [
      "Epoch  12/ 50 -- train_loss: 14.677 -- validation_loss: 799.715\n",
      "Saving model..\n"
     ]
    },
    {
     "name": "stderr",
     "output_type": "stream",
     "text": [
      "100%|█████████████████████████████████| 4/4 [00:01<00:00,  2.72it/s, loss=13.30]\n",
      "  0%|                                                     | 0/4 [00:00<?, ?it/s]"
     ]
    },
    {
     "name": "stdout",
     "output_type": "stream",
     "text": [
      "Epoch  13/ 50 -- train_loss: 12.949 -- validation_loss: 785.451\n",
      "Saving model..\n"
     ]
    },
    {
     "name": "stderr",
     "output_type": "stream",
     "text": [
      "100%|█████████████████████████████████| 4/4 [00:01<00:00,  2.73it/s, loss=12.48]\n",
      "  0%|                                                     | 0/4 [00:00<?, ?it/s]"
     ]
    },
    {
     "name": "stdout",
     "output_type": "stream",
     "text": [
      "Epoch  14/ 50 -- train_loss: 11.222 -- validation_loss: 771.560\n",
      "Saving model..\n"
     ]
    },
    {
     "name": "stderr",
     "output_type": "stream",
     "text": [
      "100%|██████████████████████████████████| 4/4 [00:01<00:00,  2.71it/s, loss=9.03]\n",
      "  0%|                                                     | 0/4 [00:00<?, ?it/s]"
     ]
    },
    {
     "name": "stdout",
     "output_type": "stream",
     "text": [
      "Epoch  15/ 50 -- train_loss: 10.032 -- validation_loss: 758.177\n",
      "Saving model..\n"
     ]
    },
    {
     "name": "stderr",
     "output_type": "stream",
     "text": [
      "100%|██████████████████████████████████| 4/4 [00:01<00:00,  2.78it/s, loss=8.32]\n",
      "  0%|                                                     | 0/4 [00:00<?, ?it/s]"
     ]
    },
    {
     "name": "stdout",
     "output_type": "stream",
     "text": [
      "Epoch  16/ 50 -- train_loss: 8.438 -- validation_loss: 745.251\n",
      "Saving model..\n"
     ]
    },
    {
     "name": "stderr",
     "output_type": "stream",
     "text": [
      "100%|██████████████████████████████████| 4/4 [00:01<00:00,  2.72it/s, loss=8.38]\n",
      "  0%|                                                     | 0/4 [00:00<?, ?it/s]"
     ]
    },
    {
     "name": "stdout",
     "output_type": "stream",
     "text": [
      "Epoch  17/ 50 -- train_loss: 7.078 -- validation_loss: 732.769\n",
      "Saving model..\n"
     ]
    },
    {
     "name": "stderr",
     "output_type": "stream",
     "text": [
      "100%|██████████████████████████████████| 4/4 [00:01<00:00,  2.68it/s, loss=5.18]\n",
      "  0%|                                                     | 0/4 [00:00<?, ?it/s]"
     ]
    },
    {
     "name": "stdout",
     "output_type": "stream",
     "text": [
      "Epoch  18/ 50 -- train_loss: 6.349 -- validation_loss: 720.791\n",
      "Saving model..\n"
     ]
    },
    {
     "name": "stderr",
     "output_type": "stream",
     "text": [
      "100%|██████████████████████████████████| 4/4 [00:01<00:00,  2.72it/s, loss=6.15]\n",
      "  0%|                                                     | 0/4 [00:00<?, ?it/s]"
     ]
    },
    {
     "name": "stdout",
     "output_type": "stream",
     "text": [
      "Epoch  19/ 50 -- train_loss: 6.022 -- validation_loss: 709.047\n",
      "Saving model..\n"
     ]
    },
    {
     "name": "stderr",
     "output_type": "stream",
     "text": [
      "100%|██████████████████████████████████| 4/4 [00:01<00:00,  2.69it/s, loss=4.63]\n",
      "  0%|                                                     | 0/4 [00:00<?, ?it/s]"
     ]
    },
    {
     "name": "stdout",
     "output_type": "stream",
     "text": [
      "Epoch  20/ 50 -- train_loss: 5.293 -- validation_loss: 697.823\n",
      "Saving model..\n"
     ]
    },
    {
     "name": "stderr",
     "output_type": "stream",
     "text": [
      "100%|██████████████████████████████████| 4/4 [00:01<00:00,  2.71it/s, loss=2.13]\n",
      "  0%|                                                     | 0/4 [00:00<?, ?it/s]"
     ]
    },
    {
     "name": "stdout",
     "output_type": "stream",
     "text": [
      "Epoch  21/ 50 -- train_loss: 3.792 -- validation_loss: 686.853\n",
      "Saving model..\n"
     ]
    },
    {
     "name": "stderr",
     "output_type": "stream",
     "text": [
      "100%|██████████████████████████████████| 4/4 [00:01<00:00,  2.74it/s, loss=3.09]\n",
      "  0%|                                                     | 0/4 [00:00<?, ?it/s]"
     ]
    },
    {
     "name": "stdout",
     "output_type": "stream",
     "text": [
      "Epoch  22/ 50 -- train_loss: 3.637 -- validation_loss: 676.162\n",
      "Saving model..\n"
     ]
    },
    {
     "name": "stderr",
     "output_type": "stream",
     "text": [
      "100%|██████████████████████████████████| 4/4 [00:01<00:00,  2.75it/s, loss=1.62]\n",
      "  0%|                                                     | 0/4 [00:00<?, ?it/s]"
     ]
    },
    {
     "name": "stdout",
     "output_type": "stream",
     "text": [
      "Epoch  23/ 50 -- train_loss: 1.924 -- validation_loss: 665.873\n",
      "Saving model..\n"
     ]
    },
    {
     "name": "stderr",
     "output_type": "stream",
     "text": [
      "100%|██████████████████████████████████| 4/4 [00:01<00:00,  2.75it/s, loss=2.88]\n",
      "  0%|                                                     | 0/4 [00:00<?, ?it/s]"
     ]
    },
    {
     "name": "stdout",
     "output_type": "stream",
     "text": [
      "Epoch  24/ 50 -- train_loss: 2.975 -- validation_loss: 655.800\n",
      "Saving model..\n"
     ]
    },
    {
     "name": "stderr",
     "output_type": "stream",
     "text": [
      "100%|██████████████████████████████████| 4/4 [00:01<00:00,  2.68it/s, loss=0.38]\n",
      "  0%|                                                     | 0/4 [00:00<?, ?it/s]"
     ]
    },
    {
     "name": "stdout",
     "output_type": "stream",
     "text": [
      "Epoch  25/ 50 -- train_loss: 1.285 -- validation_loss: 646.124\n",
      "Saving model..\n"
     ]
    },
    {
     "name": "stderr",
     "output_type": "stream",
     "text": [
      "100%|█████████████████████████████████| 4/4 [00:01<00:00,  2.77it/s, loss=-0.46]\n",
      "  0%|                                                     | 0/4 [00:00<?, ?it/s]"
     ]
    },
    {
     "name": "stdout",
     "output_type": "stream",
     "text": [
      "Epoch  26/ 50 -- train_loss: 0.583 -- validation_loss: 636.677\n",
      "Saving model..\n"
     ]
    },
    {
     "name": "stderr",
     "output_type": "stream",
     "text": [
      "100%|█████████████████████████████████| 4/4 [00:01<00:00,  2.68it/s, loss=-0.00]\n",
      "  0%|                                                     | 0/4 [00:00<?, ?it/s]"
     ]
    },
    {
     "name": "stdout",
     "output_type": "stream",
     "text": [
      "Epoch  27/ 50 -- train_loss: 0.381 -- validation_loss: 627.530\n",
      "Saving model..\n"
     ]
    },
    {
     "name": "stderr",
     "output_type": "stream",
     "text": [
      "100%|█████████████████████████████████| 4/4 [00:01<00:00,  2.70it/s, loss=-1.46]\n",
      "  0%|                                                     | 0/4 [00:00<?, ?it/s]"
     ]
    },
    {
     "name": "stdout",
     "output_type": "stream",
     "text": [
      "Epoch  28/ 50 -- train_loss: -0.598 -- validation_loss: 618.605\n",
      "Saving model..\n"
     ]
    },
    {
     "name": "stderr",
     "output_type": "stream",
     "text": [
      "100%|█████████████████████████████████| 4/4 [00:01<00:00,  2.69it/s, loss=-0.67]\n",
      "  0%|                                                     | 0/4 [00:00<?, ?it/s]"
     ]
    },
    {
     "name": "stdout",
     "output_type": "stream",
     "text": [
      "Epoch  29/ 50 -- train_loss: -1.550 -- validation_loss: 609.918\n",
      "Saving model..\n"
     ]
    },
    {
     "name": "stderr",
     "output_type": "stream",
     "text": [
      "100%|█████████████████████████████████| 4/4 [00:01<00:00,  2.73it/s, loss=-2.91]\n",
      "  0%|                                                     | 0/4 [00:00<?, ?it/s]"
     ]
    },
    {
     "name": "stdout",
     "output_type": "stream",
     "text": [
      "Epoch  30/ 50 -- train_loss: -2.106 -- validation_loss: 601.514\n",
      "Saving model..\n"
     ]
    },
    {
     "name": "stderr",
     "output_type": "stream",
     "text": [
      "100%|█████████████████████████████████| 4/4 [00:01<00:00,  2.69it/s, loss=-1.64]\n",
      "  0%|                                                     | 0/4 [00:00<?, ?it/s]"
     ]
    },
    {
     "name": "stdout",
     "output_type": "stream",
     "text": [
      "Epoch  31/ 50 -- train_loss: -2.481 -- validation_loss: 593.243\n",
      "Saving model..\n"
     ]
    },
    {
     "name": "stderr",
     "output_type": "stream",
     "text": [
      "100%|█████████████████████████████████| 4/4 [00:01<00:00,  2.70it/s, loss=-1.68]\n",
      "  0%|                                                     | 0/4 [00:00<?, ?it/s]"
     ]
    },
    {
     "name": "stdout",
     "output_type": "stream",
     "text": [
      "Epoch  32/ 50 -- train_loss: -2.707 -- validation_loss: 585.346\n",
      "Saving model..\n"
     ]
    },
    {
     "name": "stderr",
     "output_type": "stream",
     "text": [
      "100%|█████████████████████████████████| 4/4 [00:01<00:00,  2.68it/s, loss=-3.52]\n",
      "  0%|                                                     | 0/4 [00:00<?, ?it/s]"
     ]
    },
    {
     "name": "stdout",
     "output_type": "stream",
     "text": [
      "Epoch  33/ 50 -- train_loss: -2.968 -- validation_loss: 577.774\n",
      "Saving model..\n"
     ]
    },
    {
     "name": "stderr",
     "output_type": "stream",
     "text": [
      "100%|█████████████████████████████████| 4/4 [00:01<00:00,  2.71it/s, loss=-3.16]\n",
      "  0%|                                                     | 0/4 [00:00<?, ?it/s]"
     ]
    },
    {
     "name": "stdout",
     "output_type": "stream",
     "text": [
      "Epoch  34/ 50 -- train_loss: -3.763 -- validation_loss: 570.223\n",
      "Saving model..\n"
     ]
    },
    {
     "name": "stderr",
     "output_type": "stream",
     "text": [
      "100%|█████████████████████████████████| 4/4 [00:01<00:00,  2.74it/s, loss=-6.15]\n",
      "  0%|                                                     | 0/4 [00:00<?, ?it/s]"
     ]
    },
    {
     "name": "stdout",
     "output_type": "stream",
     "text": [
      "Epoch  35/ 50 -- train_loss: -4.725 -- validation_loss: 562.983\n",
      "Saving model..\n"
     ]
    },
    {
     "name": "stderr",
     "output_type": "stream",
     "text": [
      "100%|█████████████████████████████████| 4/4 [00:01<00:00,  2.72it/s, loss=-5.97]\n",
      "  0%|                                                     | 0/4 [00:00<?, ?it/s]"
     ]
    },
    {
     "name": "stdout",
     "output_type": "stream",
     "text": [
      "Epoch  36/ 50 -- train_loss: -4.532 -- validation_loss: 555.603\n",
      "Saving model..\n"
     ]
    },
    {
     "name": "stderr",
     "output_type": "stream",
     "text": [
      "100%|█████████████████████████████████| 4/4 [00:01<00:00,  2.72it/s, loss=-4.32]\n",
      "  0%|                                                     | 0/4 [00:00<?, ?it/s]"
     ]
    },
    {
     "name": "stdout",
     "output_type": "stream",
     "text": [
      "Epoch  37/ 50 -- train_loss: -4.559 -- validation_loss: 548.584\n",
      "Saving model..\n"
     ]
    },
    {
     "name": "stderr",
     "output_type": "stream",
     "text": [
      "100%|█████████████████████████████████| 4/4 [00:01<00:00,  2.72it/s, loss=-0.26]\n",
      "  0%|                                                     | 0/4 [00:00<?, ?it/s]"
     ]
    },
    {
     "name": "stdout",
     "output_type": "stream",
     "text": [
      "Epoch  38/ 50 -- train_loss: -4.456 -- validation_loss: 541.782\n",
      "Saving model..\n"
     ]
    },
    {
     "name": "stderr",
     "output_type": "stream",
     "text": [
      "100%|█████████████████████████████████| 4/4 [00:01<00:00,  2.75it/s, loss=-6.43]\n",
      "  0%|                                                     | 0/4 [00:00<?, ?it/s]"
     ]
    },
    {
     "name": "stdout",
     "output_type": "stream",
     "text": [
      "Epoch  39/ 50 -- train_loss: -5.005 -- validation_loss: 535.091\n",
      "Saving model..\n"
     ]
    },
    {
     "name": "stderr",
     "output_type": "stream",
     "text": [
      "100%|█████████████████████████████████| 4/4 [00:01<00:00,  2.67it/s, loss=-5.95]\n",
      "  0%|                                                     | 0/4 [00:00<?, ?it/s]"
     ]
    },
    {
     "name": "stdout",
     "output_type": "stream",
     "text": [
      "Epoch  40/ 50 -- train_loss: -4.760 -- validation_loss: 528.669\n",
      "Saving model..\n"
     ]
    },
    {
     "name": "stderr",
     "output_type": "stream",
     "text": [
      "100%|█████████████████████████████████| 4/4 [00:01<00:00,  2.72it/s, loss=-4.03]\n",
      "  0%|                                                     | 0/4 [00:00<?, ?it/s]"
     ]
    },
    {
     "name": "stdout",
     "output_type": "stream",
     "text": [
      "Epoch  41/ 50 -- train_loss: -4.251 -- validation_loss: 522.324\n",
      "Saving model..\n"
     ]
    },
    {
     "name": "stderr",
     "output_type": "stream",
     "text": [
      "100%|█████████████████████████████████| 4/4 [00:01<00:00,  2.73it/s, loss=-3.20]\n",
      "  0%|                                                     | 0/4 [00:00<?, ?it/s]"
     ]
    },
    {
     "name": "stdout",
     "output_type": "stream",
     "text": [
      "Epoch  42/ 50 -- train_loss: -4.243 -- validation_loss: 516.073\n",
      "Saving model..\n"
     ]
    },
    {
     "name": "stderr",
     "output_type": "stream",
     "text": [
      "100%|█████████████████████████████████| 4/4 [00:01<00:00,  2.72it/s, loss=-5.12]\n",
      "  0%|                                                     | 0/4 [00:00<?, ?it/s]"
     ]
    },
    {
     "name": "stdout",
     "output_type": "stream",
     "text": [
      "Epoch  43/ 50 -- train_loss: -4.874 -- validation_loss: 510.079\n",
      "Saving model..\n"
     ]
    },
    {
     "name": "stderr",
     "output_type": "stream",
     "text": [
      "100%|█████████████████████████████████| 4/4 [00:01<00:00,  2.73it/s, loss=-3.27]\n",
      "  0%|                                                     | 0/4 [00:00<?, ?it/s]"
     ]
    },
    {
     "name": "stdout",
     "output_type": "stream",
     "text": [
      "Epoch  44/ 50 -- train_loss: -4.210 -- validation_loss: 503.997\n",
      "Saving model..\n"
     ]
    },
    {
     "name": "stderr",
     "output_type": "stream",
     "text": [
      "100%|█████████████████████████████████| 4/4 [00:01<00:00,  2.71it/s, loss=-8.12]\n",
      "  0%|                                                     | 0/4 [00:00<?, ?it/s]"
     ]
    },
    {
     "name": "stdout",
     "output_type": "stream",
     "text": [
      "Epoch  45/ 50 -- train_loss: -5.941 -- validation_loss: 498.023\n",
      "Saving model..\n"
     ]
    },
    {
     "name": "stderr",
     "output_type": "stream",
     "text": [
      "100%|█████████████████████████████████| 4/4 [00:01<00:00,  2.70it/s, loss=-3.74]\n",
      "  0%|                                                     | 0/4 [00:00<?, ?it/s]"
     ]
    },
    {
     "name": "stdout",
     "output_type": "stream",
     "text": [
      "Epoch  46/ 50 -- train_loss: -5.492 -- validation_loss: 492.147\n",
      "Saving model..\n"
     ]
    },
    {
     "name": "stderr",
     "output_type": "stream",
     "text": [
      "100%|█████████████████████████████████| 4/4 [00:01<00:00,  2.72it/s, loss=-5.12]\n",
      "  0%|                                                     | 0/4 [00:00<?, ?it/s]"
     ]
    },
    {
     "name": "stdout",
     "output_type": "stream",
     "text": [
      "Epoch  47/ 50 -- train_loss: -5.907 -- validation_loss: 486.369\n",
      "Saving model..\n"
     ]
    },
    {
     "name": "stderr",
     "output_type": "stream",
     "text": [
      "100%|█████████████████████████████████| 4/4 [00:01<00:00,  2.73it/s, loss=-5.46]\n",
      "  0%|                                                     | 0/4 [00:00<?, ?it/s]"
     ]
    },
    {
     "name": "stdout",
     "output_type": "stream",
     "text": [
      "Epoch  48/ 50 -- train_loss: -6.080 -- validation_loss: 480.753\n",
      "Saving model..\n"
     ]
    },
    {
     "name": "stderr",
     "output_type": "stream",
     "text": [
      "100%|█████████████████████████████████| 4/4 [00:01<00:00,  2.72it/s, loss=-5.69]\n",
      "  0%|                                                     | 0/4 [00:00<?, ?it/s]"
     ]
    },
    {
     "name": "stdout",
     "output_type": "stream",
     "text": [
      "Epoch  49/ 50 -- train_loss: -4.844 -- validation_loss: 475.311\n",
      "Saving model..\n"
     ]
    },
    {
     "name": "stderr",
     "output_type": "stream",
     "text": [
      "100%|█████████████████████████████████| 4/4 [00:01<00:00,  2.73it/s, loss=-7.60]\n"
     ]
    },
    {
     "name": "stdout",
     "output_type": "stream",
     "text": [
      "Epoch  50/ 50 -- train_loss: -6.934 -- validation_loss: 469.824\n",
      "Saving model..\n"
     ]
    },
    {
     "name": "stderr",
     "output_type": "stream",
     "text": [
      "\r",
      "  0%|                                                   | 0/200 [00:00<?, ?it/s]"
     ]
    },
    {
     "name": "stdout",
     "output_type": "stream",
     "text": [
      "###### Stop training after 50 epochs!\n",
      "Validation loss: 469.824\n",
      "Test loss:       472.304\n",
      "Loading dataset..\n",
      "No validation set passed\n",
      "No test set passed\n",
      "Creating directory experiment..\n",
      "Creating BNAF model..\n",
      "Creating optimizer..\n",
      "Creating scheduler..\n",
      "Training..\n"
     ]
    },
    {
     "name": "stderr",
     "output_type": "stream",
     "text": [
      "100%|████████████████████████████| 200/200 [01:13<00:00,  2.72it/s, loss=-10.21]\n",
      "  0%|                                                   | 0/200 [00:00<?, ?it/s]"
     ]
    },
    {
     "name": "stdout",
     "output_type": "stream",
     "text": [
      "Epoch   1/ 50 -- train_loss: 11.341 -- validation_loss: 506.559\n",
      "Saving model..\n"
     ]
    },
    {
     "name": "stderr",
     "output_type": "stream",
     "text": [
      "100%|████████████████████████████| 200/200 [01:13<00:00,  2.72it/s, loss=-14.45]\n",
      "  0%|                                                   | 0/200 [00:00<?, ?it/s]"
     ]
    },
    {
     "name": "stdout",
     "output_type": "stream",
     "text": [
      "Epoch   2/ 50 -- train_loss: -11.648 -- validation_loss: 335.155\n",
      "Saving model..\n"
     ]
    },
    {
     "name": "stderr",
     "output_type": "stream",
     "text": [
      "100%|████████████████████████████| 200/200 [01:13<00:00,  2.71it/s, loss=-19.05]\n",
      "  0%|                                                   | 0/200 [00:00<?, ?it/s]"
     ]
    },
    {
     "name": "stdout",
     "output_type": "stream",
     "text": [
      "Epoch   3/ 50 -- train_loss: -16.387 -- validation_loss: 232.585\n",
      "Saving model..\n"
     ]
    },
    {
     "name": "stderr",
     "output_type": "stream",
     "text": [
      "100%|████████████████████████████| 200/200 [01:13<00:00,  2.72it/s, loss=-21.24]\n",
      "  0%|                                                   | 0/200 [00:00<?, ?it/s]"
     ]
    },
    {
     "name": "stdout",
     "output_type": "stream",
     "text": [
      "Epoch   4/ 50 -- train_loss: -19.320 -- validation_loss: 169.480\n",
      "Saving model..\n"
     ]
    },
    {
     "name": "stderr",
     "output_type": "stream",
     "text": [
      "100%|████████████████████████████| 200/200 [01:13<00:00,  2.72it/s, loss=-23.54]\n",
      "  0%|                                                   | 0/200 [00:00<?, ?it/s]"
     ]
    },
    {
     "name": "stdout",
     "output_type": "stream",
     "text": [
      "Epoch   5/ 50 -- train_loss: -21.248 -- validation_loss: 132.499\n",
      "Saving model..\n"
     ]
    },
    {
     "name": "stderr",
     "output_type": "stream",
     "text": [
      "100%|████████████████████████████| 200/200 [01:13<00:00,  2.72it/s, loss=-16.80]\n",
      "  0%|                                                   | 0/200 [00:00<?, ?it/s]"
     ]
    },
    {
     "name": "stdout",
     "output_type": "stream",
     "text": [
      "Epoch   6/ 50 -- train_loss: -21.254 -- validation_loss: 110.879\n",
      "Saving model..\n"
     ]
    },
    {
     "name": "stderr",
     "output_type": "stream",
     "text": [
      "100%|████████████████████████████| 200/200 [01:13<00:00,  2.72it/s, loss=-25.02]\n",
      "  0%|                                                   | 0/200 [00:00<?, ?it/s]"
     ]
    },
    {
     "name": "stdout",
     "output_type": "stream",
     "text": [
      "Epoch   7/ 50 -- train_loss: -23.985 -- validation_loss: 98.293\n",
      "Saving model..\n"
     ]
    },
    {
     "name": "stderr",
     "output_type": "stream",
     "text": [
      "100%|████████████████████████████| 200/200 [01:13<00:00,  2.72it/s, loss=-26.77]\n",
      "  0%|                                                   | 0/200 [00:00<?, ?it/s]"
     ]
    },
    {
     "name": "stdout",
     "output_type": "stream",
     "text": [
      "Epoch   8/ 50 -- train_loss: -25.556 -- validation_loss: 90.916\n",
      "Saving model..\n"
     ]
    },
    {
     "name": "stderr",
     "output_type": "stream",
     "text": [
      "100%|████████████████████████████| 200/200 [01:13<00:00,  2.71it/s, loss=-22.60]\n",
      "  0%|                                                   | 0/200 [00:00<?, ?it/s]"
     ]
    },
    {
     "name": "stdout",
     "output_type": "stream",
     "text": [
      "Epoch   9/ 50 -- train_loss: -26.943 -- validation_loss: 86.709\n",
      "Saving model..\n"
     ]
    },
    {
     "name": "stderr",
     "output_type": "stream",
     "text": [
      "100%|████████████████████████████| 200/200 [01:13<00:00,  2.72it/s, loss=-34.47]\n",
      "  0%|                                                   | 0/200 [00:00<?, ?it/s]"
     ]
    },
    {
     "name": "stdout",
     "output_type": "stream",
     "text": [
      "Epoch  10/ 50 -- train_loss: -29.326 -- validation_loss: 84.394\n",
      "Saving model..\n"
     ]
    },
    {
     "name": "stderr",
     "output_type": "stream",
     "text": [
      "100%|████████████████████████████| 200/200 [01:13<00:00,  2.72it/s, loss=-33.90]\n",
      "  0%|                                                   | 0/200 [00:00<?, ?it/s]"
     ]
    },
    {
     "name": "stdout",
     "output_type": "stream",
     "text": [
      "Epoch  11/ 50 -- train_loss: -31.385 -- validation_loss: 83.442\n",
      "Saving model..\n"
     ]
    },
    {
     "name": "stderr",
     "output_type": "stream",
     "text": [
      "100%|████████████████████████████| 200/200 [01:13<00:00,  2.72it/s, loss=-35.07]\n",
      "  0%|                                                   | 0/200 [00:00<?, ?it/s]"
     ]
    },
    {
     "name": "stdout",
     "output_type": "stream",
     "text": [
      "Epoch  12/ 50 -- train_loss: -32.429 -- validation_loss: 83.245\n",
      "Saving model..\n"
     ]
    },
    {
     "name": "stderr",
     "output_type": "stream",
     "text": [
      "100%|████████████████████████████| 200/200 [01:13<00:00,  2.71it/s, loss=-35.46]\n",
      "  0%|                                                   | 0/200 [00:00<?, ?it/s]"
     ]
    },
    {
     "name": "stdout",
     "output_type": "stream",
     "text": [
      "Epoch  13/ 50 -- train_loss: -32.748 -- validation_loss: 83.489\n"
     ]
    },
    {
     "name": "stderr",
     "output_type": "stream",
     "text": [
      "100%|████████████████████████████| 200/200 [01:13<00:00,  2.72it/s, loss=-32.73]\n",
      "  0%|                                                   | 0/200 [00:00<?, ?it/s]"
     ]
    },
    {
     "name": "stdout",
     "output_type": "stream",
     "text": [
      "Epoch  14/ 50 -- train_loss: -32.518 -- validation_loss: 84.040\n"
     ]
    },
    {
     "name": "stderr",
     "output_type": "stream",
     "text": [
      "100%|████████████████████████████| 200/200 [01:13<00:00,  2.72it/s, loss=-36.51]\n",
      "  0%|                                                   | 0/200 [00:00<?, ?it/s]"
     ]
    },
    {
     "name": "stdout",
     "output_type": "stream",
     "text": [
      "Epoch  15/ 50 -- train_loss: -33.740 -- validation_loss: 84.633\n"
     ]
    },
    {
     "name": "stderr",
     "output_type": "stream",
     "text": [
      "100%|████████████████████████████| 200/200 [01:13<00:00,  2.72it/s, loss=-28.38]\n",
      "  0%|                                                   | 0/200 [00:00<?, ?it/s]"
     ]
    },
    {
     "name": "stdout",
     "output_type": "stream",
     "text": [
      "Epoch  16/ 50 -- train_loss: -33.773 -- validation_loss: 85.054\n"
     ]
    },
    {
     "name": "stderr",
     "output_type": "stream",
     "text": [
      "100%|████████████████████████████| 200/200 [01:13<00:00,  2.72it/s, loss=-34.02]\n",
      "  0%|                                                   | 0/200 [00:00<?, ?it/s]"
     ]
    },
    {
     "name": "stdout",
     "output_type": "stream",
     "text": [
      "Epoch  17/ 50 -- train_loss: -35.062 -- validation_loss: 85.551\n"
     ]
    },
    {
     "name": "stderr",
     "output_type": "stream",
     "text": [
      "100%|████████████████████████████| 200/200 [01:13<00:00,  2.72it/s, loss=-35.79]\n",
      "  0%|                                                   | 0/200 [00:00<?, ?it/s]"
     ]
    },
    {
     "name": "stdout",
     "output_type": "stream",
     "text": [
      "Epoch  18/ 50 -- train_loss: -36.112 -- validation_loss: 85.821\n"
     ]
    },
    {
     "name": "stderr",
     "output_type": "stream",
     "text": [
      "100%|████████████████████████████| 200/200 [01:13<00:00,  2.72it/s, loss=-37.04]\n",
      "  0%|                                                   | 0/200 [00:00<?, ?it/s]"
     ]
    },
    {
     "name": "stdout",
     "output_type": "stream",
     "text": [
      "Epoch  19/ 50 -- train_loss: -37.294 -- validation_loss: 86.114\n"
     ]
    },
    {
     "name": "stderr",
     "output_type": "stream",
     "text": [
      "100%|████████████████████████████| 200/200 [01:13<00:00,  2.71it/s, loss=-35.66]\n",
      "  0%|                                                   | 0/200 [00:00<?, ?it/s]"
     ]
    },
    {
     "name": "stdout",
     "output_type": "stream",
     "text": [
      "Epoch  20/ 50 -- train_loss: -36.613 -- validation_loss: 86.695\n"
     ]
    },
    {
     "name": "stderr",
     "output_type": "stream",
     "text": [
      "100%|████████████████████████████| 200/200 [01:13<00:00,  2.71it/s, loss=-39.23]\n",
      "  0%|                                                   | 0/200 [00:00<?, ?it/s]"
     ]
    },
    {
     "name": "stdout",
     "output_type": "stream",
     "text": [
      "Epoch  21/ 50 -- train_loss: -37.847 -- validation_loss: 87.084\n"
     ]
    },
    {
     "name": "stderr",
     "output_type": "stream",
     "text": [
      "100%|████████████████████████████| 200/200 [01:13<00:00,  2.72it/s, loss=-34.59]\n",
      "  0%|                                                   | 0/200 [00:00<?, ?it/s]"
     ]
    },
    {
     "name": "stdout",
     "output_type": "stream",
     "text": [
      "Epoch  22/ 50 -- train_loss: -39.152 -- validation_loss: 87.778\n"
     ]
    },
    {
     "name": "stderr",
     "output_type": "stream",
     "text": [
      "100%|████████████████████████████| 200/200 [01:13<00:00,  2.72it/s, loss=-41.69]\n",
      "  0%|                                                   | 0/200 [00:00<?, ?it/s]"
     ]
    },
    {
     "name": "stdout",
     "output_type": "stream",
     "text": [
      "Epoch  23/ 50 -- train_loss: -39.621 -- validation_loss: 88.098\n"
     ]
    },
    {
     "name": "stderr",
     "output_type": "stream",
     "text": [
      "100%|████████████████████████████| 200/200 [01:13<00:00,  2.71it/s, loss=-40.76]\n",
      "  0%|                                                   | 0/200 [00:00<?, ?it/s]"
     ]
    },
    {
     "name": "stdout",
     "output_type": "stream",
     "text": [
      "Epoch  24/ 50 -- train_loss: -39.511 -- validation_loss: 88.282\n"
     ]
    },
    {
     "name": "stderr",
     "output_type": "stream",
     "text": [
      "100%|████████████████████████████| 200/200 [01:13<00:00,  2.72it/s, loss=-39.78]\n",
      "  0%|                                                   | 0/200 [00:00<?, ?it/s]"
     ]
    },
    {
     "name": "stdout",
     "output_type": "stream",
     "text": [
      "Epoch  25/ 50 -- train_loss: -41.543 -- validation_loss: 88.819\n"
     ]
    },
    {
     "name": "stderr",
     "output_type": "stream",
     "text": [
      "100%|████████████████████████████| 200/200 [01:13<00:00,  2.72it/s, loss=-44.79]\n",
      "  0%|                                                   | 0/200 [00:00<?, ?it/s]"
     ]
    },
    {
     "name": "stdout",
     "output_type": "stream",
     "text": [
      "Epoch  26/ 50 -- train_loss: -40.997 -- validation_loss: 89.113\n"
     ]
    },
    {
     "name": "stderr",
     "output_type": "stream",
     "text": [
      "100%|████████████████████████████| 200/200 [01:13<00:00,  2.72it/s, loss=-42.99]\n",
      "  0%|                                                   | 0/200 [00:00<?, ?it/s]"
     ]
    },
    {
     "name": "stdout",
     "output_type": "stream",
     "text": [
      "Epoch  27/ 50 -- train_loss: -42.136 -- validation_loss: 89.564\n"
     ]
    },
    {
     "name": "stderr",
     "output_type": "stream",
     "text": [
      "100%|████████████████████████████| 200/200 [01:13<00:00,  2.72it/s, loss=-42.97]\n",
      "  0%|                                                   | 0/200 [00:00<?, ?it/s]"
     ]
    },
    {
     "name": "stdout",
     "output_type": "stream",
     "text": [
      "Epoch  28/ 50 -- train_loss: -43.047 -- validation_loss: 89.918\n"
     ]
    },
    {
     "name": "stderr",
     "output_type": "stream",
     "text": [
      "100%|████████████████████████████| 200/200 [01:13<00:00,  2.72it/s, loss=-38.85]\n",
      "  0%|                                                   | 0/200 [00:00<?, ?it/s]"
     ]
    },
    {
     "name": "stdout",
     "output_type": "stream",
     "text": [
      "Epoch  29/ 50 -- train_loss: -42.988 -- validation_loss: 90.342\n"
     ]
    },
    {
     "name": "stderr",
     "output_type": "stream",
     "text": [
      "100%|████████████████████████████| 200/200 [01:13<00:00,  2.72it/s, loss=-42.15]\n",
      "  0%|                                                   | 0/200 [00:00<?, ?it/s]"
     ]
    },
    {
     "name": "stdout",
     "output_type": "stream",
     "text": [
      "Epoch  30/ 50 -- train_loss: -42.345 -- validation_loss: 90.597\n"
     ]
    },
    {
     "name": "stderr",
     "output_type": "stream",
     "text": [
      "100%|████████████████████████████| 200/200 [01:13<00:00,  2.71it/s, loss=-46.71]\n",
      "  0%|                                                   | 0/200 [00:00<?, ?it/s]"
     ]
    },
    {
     "name": "stdout",
     "output_type": "stream",
     "text": [
      "Epoch  31/ 50 -- train_loss: -42.830 -- validation_loss: 90.713\n"
     ]
    },
    {
     "name": "stderr",
     "output_type": "stream",
     "text": [
      "100%|████████████████████████████| 200/200 [01:13<00:00,  2.71it/s, loss=-42.71]\n",
      "  0%|                                                   | 0/200 [00:00<?, ?it/s]"
     ]
    },
    {
     "name": "stdout",
     "output_type": "stream",
     "text": [
      "Epoch  32/ 50 -- train_loss: -43.759 -- validation_loss: 90.934\n"
     ]
    },
    {
     "name": "stderr",
     "output_type": "stream",
     "text": [
      "100%|████████████████████████████| 200/200 [01:14<00:00,  2.70it/s, loss=-46.64]\n",
      "  0%|                                                   | 0/200 [00:00<?, ?it/s]"
     ]
    },
    {
     "name": "stdout",
     "output_type": "stream",
     "text": [
      "Epoch  33/ 50 -- train_loss: -43.549 -- validation_loss: 91.180\n",
      "Epoch 00033: reducing learning rate of group 0 to 5.0000e-03.\n"
     ]
    },
    {
     "name": "stderr",
     "output_type": "stream",
     "text": [
      "100%|████████████████████████████| 200/200 [01:13<00:00,  2.72it/s, loss=-51.75]\n",
      "  0%|                                                   | 0/200 [00:00<?, ?it/s]"
     ]
    },
    {
     "name": "stdout",
     "output_type": "stream",
     "text": [
      "Epoch  34/ 50 -- train_loss: -51.913 -- validation_loss: 92.203\n"
     ]
    },
    {
     "name": "stderr",
     "output_type": "stream",
     "text": [
      "100%|████████████████████████████| 200/200 [01:13<00:00,  2.72it/s, loss=-55.10]\n",
      "  0%|                                                   | 0/200 [00:00<?, ?it/s]"
     ]
    },
    {
     "name": "stdout",
     "output_type": "stream",
     "text": [
      "Epoch  35/ 50 -- train_loss: -52.913 -- validation_loss: 93.446\n"
     ]
    },
    {
     "name": "stderr",
     "output_type": "stream",
     "text": [
      "100%|████████████████████████████| 200/200 [01:13<00:00,  2.71it/s, loss=-51.65]\n",
      "  0%|                                                   | 0/200 [00:00<?, ?it/s]"
     ]
    },
    {
     "name": "stdout",
     "output_type": "stream",
     "text": [
      "Epoch  36/ 50 -- train_loss: -53.586 -- validation_loss: 94.579\n"
     ]
    },
    {
     "name": "stderr",
     "output_type": "stream",
     "text": [
      "100%|████████████████████████████| 200/200 [01:13<00:00,  2.71it/s, loss=-49.81]\n",
      "  0%|                                                   | 0/200 [00:00<?, ?it/s]"
     ]
    },
    {
     "name": "stdout",
     "output_type": "stream",
     "text": [
      "Epoch  37/ 50 -- train_loss: -54.054 -- validation_loss: 95.468\n"
     ]
    },
    {
     "name": "stderr",
     "output_type": "stream",
     "text": [
      "100%|████████████████████████████| 200/200 [01:13<00:00,  2.72it/s, loss=-52.86]\n",
      "  0%|                                                   | 0/200 [00:00<?, ?it/s]"
     ]
    },
    {
     "name": "stdout",
     "output_type": "stream",
     "text": [
      "Epoch  38/ 50 -- train_loss: -54.076 -- validation_loss: 96.122\n"
     ]
    },
    {
     "name": "stderr",
     "output_type": "stream",
     "text": [
      "100%|████████████████████████████| 200/200 [01:13<00:00,  2.71it/s, loss=-57.36]\n",
      "  0%|                                                   | 0/200 [00:00<?, ?it/s]"
     ]
    },
    {
     "name": "stdout",
     "output_type": "stream",
     "text": [
      "Epoch  39/ 50 -- train_loss: -54.412 -- validation_loss: 96.662\n"
     ]
    },
    {
     "name": "stderr",
     "output_type": "stream",
     "text": [
      "100%|████████████████████████████| 200/200 [01:13<00:00,  2.71it/s, loss=-55.73]\n",
      "  0%|                                                   | 0/200 [00:00<?, ?it/s]"
     ]
    },
    {
     "name": "stdout",
     "output_type": "stream",
     "text": [
      "Epoch  40/ 50 -- train_loss: -54.538 -- validation_loss: 97.078\n"
     ]
    },
    {
     "name": "stderr",
     "output_type": "stream",
     "text": [
      "100%|████████████████████████████| 200/200 [01:13<00:00,  2.72it/s, loss=-53.03]\n",
      "  0%|                                                   | 0/200 [00:00<?, ?it/s]"
     ]
    },
    {
     "name": "stdout",
     "output_type": "stream",
     "text": [
      "Epoch  41/ 50 -- train_loss: -55.154 -- validation_loss: 97.487\n"
     ]
    },
    {
     "name": "stderr",
     "output_type": "stream",
     "text": [
      "100%|████████████████████████████| 200/200 [01:13<00:00,  2.71it/s, loss=-53.58]\n",
      "  0%|                                                   | 0/200 [00:00<?, ?it/s]"
     ]
    },
    {
     "name": "stdout",
     "output_type": "stream",
     "text": [
      "Epoch  42/ 50 -- train_loss: -54.874 -- validation_loss: 97.804\n"
     ]
    },
    {
     "name": "stderr",
     "output_type": "stream",
     "text": [
      "100%|████████████████████████████| 200/200 [01:13<00:00,  2.72it/s, loss=-48.65]\n",
      "  0%|                                                   | 0/200 [00:00<?, ?it/s]"
     ]
    },
    {
     "name": "stdout",
     "output_type": "stream",
     "text": [
      "Epoch  43/ 50 -- train_loss: -54.301 -- validation_loss: 98.072\n"
     ]
    },
    {
     "name": "stderr",
     "output_type": "stream",
     "text": [
      "100%|████████████████████████████| 200/200 [01:13<00:00,  2.72it/s, loss=-57.75]\n",
      "  0%|                                                   | 0/200 [00:00<?, ?it/s]"
     ]
    },
    {
     "name": "stdout",
     "output_type": "stream",
     "text": [
      "Epoch  44/ 50 -- train_loss: -54.267 -- validation_loss: 98.254\n"
     ]
    },
    {
     "name": "stderr",
     "output_type": "stream",
     "text": [
      "100%|████████████████████████████| 200/200 [01:13<00:00,  2.72it/s, loss=-57.46]\n",
      "  0%|                                                   | 0/200 [00:00<?, ?it/s]"
     ]
    },
    {
     "name": "stdout",
     "output_type": "stream",
     "text": [
      "Epoch  45/ 50 -- train_loss: -54.331 -- validation_loss: 98.453\n"
     ]
    },
    {
     "name": "stderr",
     "output_type": "stream",
     "text": [
      "100%|████████████████████████████| 200/200 [01:13<00:00,  2.72it/s, loss=-56.84]\n",
      "  0%|                                                   | 0/200 [00:00<?, ?it/s]"
     ]
    },
    {
     "name": "stdout",
     "output_type": "stream",
     "text": [
      "Epoch  46/ 50 -- train_loss: -56.144 -- validation_loss: 98.720\n"
     ]
    },
    {
     "name": "stderr",
     "output_type": "stream",
     "text": [
      "100%|████████████████████████████| 200/200 [01:13<00:00,  2.72it/s, loss=-58.75]\n",
      "  0%|                                                   | 0/200 [00:00<?, ?it/s]"
     ]
    },
    {
     "name": "stdout",
     "output_type": "stream",
     "text": [
      "Epoch  47/ 50 -- train_loss: -55.131 -- validation_loss: 98.964\n"
     ]
    },
    {
     "name": "stderr",
     "output_type": "stream",
     "text": [
      "100%|████████████████████████████| 200/200 [01:13<00:00,  2.71it/s, loss=-53.29]\n",
      "  0%|                                                   | 0/200 [00:00<?, ?it/s]"
     ]
    },
    {
     "name": "stdout",
     "output_type": "stream",
     "text": [
      "Epoch  48/ 50 -- train_loss: -55.378 -- validation_loss: 99.211\n"
     ]
    },
    {
     "name": "stderr",
     "output_type": "stream",
     "text": [
      "100%|████████████████████████████| 200/200 [01:13<00:00,  2.71it/s, loss=-53.15]\n",
      "  0%|                                                   | 0/200 [00:00<?, ?it/s]"
     ]
    },
    {
     "name": "stdout",
     "output_type": "stream",
     "text": [
      "Epoch  49/ 50 -- train_loss: -55.566 -- validation_loss: 99.381\n"
     ]
    },
    {
     "name": "stderr",
     "output_type": "stream",
     "text": [
      "100%|████████████████████████████| 200/200 [01:13<00:00,  2.71it/s, loss=-56.78]\n"
     ]
    },
    {
     "name": "stdout",
     "output_type": "stream",
     "text": [
      "Epoch  50/ 50 -- train_loss: -55.830 -- validation_loss: 99.584\n",
      "###### Stop training after 50 epochs!\n",
      "Validation loss: 99.584\n",
      "Test loss:       99.259\n",
      "Iteration 1:\n",
      "Training Size 10000:\n",
      "Training Epoch 100: MIA Performance = {'ablated_eq1': {'accuracy': 0.5011, 'aucroc': 0.4995066600000001}, 'ablated_eq2': {'accuracy': 0.4991, 'aucroc': 0.49991642000000003}, 'LOGAN_D1': {'accuracy': 0.5073, 'aucroc': 0.509310025}, 'MC': {'accuracy': 0.4994, 'aucroc': 0.49878972}, 'gan_leaks': {'accuracy': 0.4994, 'aucroc': 0.49904592499999995}, 'gan_leaks_cal': {'accuracy': 0.4981, 'aucroc': 0.50036565}, 'LOGAN_0': {'accuracy': 0.4981, 'aucroc': 0.5020014349999999}, 'eq1': {'accuracy': 0.5, 'aucroc': 0.5}, 'domias': {'accuracy': 0.5, 'aucroc': 0.5}}\n",
      "Training Epoch 500: MIA Performance = {'ablated_eq1': {'accuracy': 0.4973, 'aucroc': 0.49670283000000004}, 'ablated_eq2': {'accuracy': 0.4941, 'aucroc': 0.49569779999999997}, 'LOGAN_D1': {'accuracy': 0.5027, 'aucroc': 0.50650993}, 'MC': {'accuracy': 0.4987, 'aucroc': 0.497876435}, 'gan_leaks': {'accuracy': 0.4987, 'aucroc': 0.49740466000000005}, 'gan_leaks_cal': {'accuracy': 0.4985, 'aucroc': 0.49803351}, 'LOGAN_0': {'accuracy': 0.4984, 'aucroc': 0.49875605500000003}, 'eq1': {'accuracy': 0.5, 'aucroc': 0.5}, 'domias': {'accuracy': 0.5, 'aucroc': 0.5}}\n",
      "Training Epoch 1000: MIA Performance = {'ablated_eq1': {'accuracy': 0.4998, 'aucroc': 0.499335525}, 'ablated_eq2': {'accuracy': 0.4998, 'aucroc': 0.499337265}, 'LOGAN_D1': {'accuracy': 0.5026, 'aucroc': 0.50533221}, 'MC': {'accuracy': 0.5004, 'aucroc': 0.49899941}, 'gan_leaks': {'accuracy': 0.5004, 'aucroc': 0.49851551000000005}, 'gan_leaks_cal': {'accuracy': 0.5002, 'aucroc': 0.49969063}, 'LOGAN_0': {'accuracy': 0.499, 'aucroc': 0.499441935}, 'eq1': {'accuracy': 0.5, 'aucroc': 0.5}, 'domias': {'accuracy': 0.5, 'aucroc': 0.5}}\n",
      "Training Epoch 2000: MIA Performance = {'ablated_eq1': {'accuracy': 0.4985, 'aucroc': 0.49820215}, 'ablated_eq2': {'accuracy': 0.496, 'aucroc': 0.49703372}, 'LOGAN_D1': {'accuracy': 0.503, 'aucroc': 0.506436475}, 'MC': {'accuracy': 0.5003, 'aucroc': 0.500400395}, 'gan_leaks': {'accuracy': 0.5003, 'aucroc': 0.5003441200000001}, 'gan_leaks_cal': {'accuracy': 0.5021, 'aucroc': 0.5030292700000001}, 'LOGAN_0': {'accuracy': 0.4939, 'aucroc': 0.48911571}, 'eq1': {'accuracy': 0.5, 'aucroc': 0.5}, 'domias': {'accuracy': 0.5, 'aucroc': 0.5}}\n",
      "Training Epoch 3000: MIA Performance = {'ablated_eq1': {'accuracy': 0.4967, 'aucroc': 0.49626597499999997}, 'ablated_eq2': {'accuracy': 0.4953, 'aucroc': 0.493940325}, 'LOGAN_D1': {'accuracy': 0.5004, 'aucroc': 0.5041717400000001}, 'MC': {'accuracy': 0.4983, 'aucroc': 0.49811825499999995}, 'gan_leaks': {'accuracy': 0.4983, 'aucroc': 0.49690021500000003}, 'gan_leaks_cal': {'accuracy': 0.4994, 'aucroc': 0.49698918999999997}, 'LOGAN_0': {'accuracy': 0.4954, 'aucroc': 0.49785813500000003}, 'eq1': {'accuracy': 0.5, 'aucroc': 0.5}, 'domias': {'accuracy': 0.5, 'aucroc': 0.5}}\n",
      "\n",
      "Iteration 2:\n",
      "Training Size 10000:\n",
      "Training Epoch 100: MIA Performance = {'ablated_eq1': {'accuracy': 0.502, 'aucroc': 0.49903405}, 'ablated_eq2': {'accuracy': 0.5004, 'aucroc': 0.49965999}, 'LOGAN_D1': {'accuracy': 0.507, 'aucroc': 0.50788259}, 'MC': {'accuracy': 0.5015, 'aucroc': 0.498988515}, 'gan_leaks': {'accuracy': 0.5015, 'aucroc': 0.49963426}, 'gan_leaks_cal': {'accuracy': 0.5003, 'aucroc': 0.49993887}, 'LOGAN_0': {'accuracy': 0.5032, 'aucroc': 0.49865531999999996}, 'eq1': {'accuracy': 0.5, 'aucroc': 0.5}, 'domias': {'accuracy': 0.5, 'aucroc': 0.5}}\n",
      "Training Epoch 500: MIA Performance = {'ablated_eq1': {'accuracy': 0.5015, 'aucroc': 0.49984407999999997}, 'ablated_eq2': {'accuracy': 0.4993, 'aucroc': 0.49865496000000004}, 'LOGAN_D1': {'accuracy': 0.5048, 'aucroc': 0.506640475}, 'MC': {'accuracy': 0.4983, 'aucroc': 0.49753594999999995}, 'gan_leaks': {'accuracy': 0.4983, 'aucroc': 0.49996220999999996}, 'gan_leaks_cal': {'accuracy': 0.5006, 'aucroc': 0.5008577300000001}, 'LOGAN_0': {'accuracy': 0.5022, 'aucroc': 0.5037650850000001}, 'eq1': {'accuracy': 0.5, 'aucroc': 0.5}, 'domias': {'accuracy': 0.5, 'aucroc': 0.5}}\n",
      "Training Epoch 1000: MIA Performance = {'ablated_eq1': {'accuracy': 0.4971, 'aucroc': 0.497166265}, 'ablated_eq2': {'accuracy': 0.4988, 'aucroc': 0.49688765500000004}, 'LOGAN_D1': {'accuracy': 0.5031, 'aucroc': 0.50549797}, 'MC': {'accuracy': 0.49895, 'aucroc': 0.497161425}, 'gan_leaks': {'accuracy': 0.49895, 'aucroc': 0.4987611}, 'gan_leaks_cal': {'accuracy': 0.5036, 'aucroc': 0.50086128}, 'LOGAN_0': {'accuracy': 0.506, 'aucroc': 0.50809209}, 'eq1': {'accuracy': 0.5, 'aucroc': 0.5}, 'domias': {'accuracy': 0.5, 'aucroc': 0.5}}\n",
      "Training Epoch 2000: MIA Performance = {'ablated_eq1': {'accuracy': 0.5005, 'aucroc': 0.49898096999999997}, 'ablated_eq2': {'accuracy': 0.4986, 'aucroc': 0.49925097}, 'LOGAN_D1': {'accuracy': 0.5069, 'aucroc': 0.50844523}, 'MC': {'accuracy': 0.503, 'aucroc': 0.50248609}, 'gan_leaks': {'accuracy': 0.503, 'aucroc': 0.5000824899999999}, 'gan_leaks_cal': {'accuracy': 0.5053, 'aucroc': 0.5013666}, 'LOGAN_0': {'accuracy': 0.5046, 'aucroc': 0.50439631}, 'eq1': {'accuracy': 0.5, 'aucroc': 0.5}, 'domias': {'accuracy': 0.5, 'aucroc': 0.5}}\n",
      "Training Epoch 3000: MIA Performance = {'ablated_eq1': {'accuracy': 0.5011, 'aucroc': 0.50012683}, 'ablated_eq2': {'accuracy': 0.4988, 'aucroc': 0.50055809}, 'LOGAN_D1': {'accuracy': 0.5067, 'aucroc': 0.507721575}, 'MC': {'accuracy': 0.5025, 'aucroc': 0.500607665}, 'gan_leaks': {'accuracy': 0.5025, 'aucroc': 0.5011960900000001}, 'gan_leaks_cal': {'accuracy': 0.5041, 'aucroc': 0.5042801100000001}, 'LOGAN_0': {'accuracy': 0.4985, 'aucroc': 0.49631165499999996}, 'eq1': {'accuracy': 0.5, 'aucroc': 0.5}, 'domias': {'accuracy': 0.5, 'aucroc': 0.5}}\n",
      "\n",
      "Iteration 3:\n",
      "Training Size 10000:\n",
      "Training Epoch 100: MIA Performance = {'ablated_eq1': {'accuracy': 0.4975, 'aucroc': 0.49622441}, 'ablated_eq2': {'accuracy': 0.4949, 'aucroc': 0.49179304999999995}, 'LOGAN_D1': {'accuracy': 0.5069, 'aucroc': 0.507294475}, 'MC': {'accuracy': 0.4983, 'aucroc': 0.49941817999999993}, 'gan_leaks': {'accuracy': 0.4983, 'aucroc': 0.49742864}, 'gan_leaks_cal': {'accuracy': 0.5017, 'aucroc': 0.49810004}, 'LOGAN_0': {'accuracy': 0.5028, 'aucroc': 0.505656565}, 'eq1': {'accuracy': 0.5, 'aucroc': 0.5}, 'domias': {'accuracy': 0.5, 'aucroc': 0.5}}\n",
      "Training Epoch 500: MIA Performance = {'ablated_eq1': {'accuracy': 0.501, 'aucroc': 0.499390285}, 'ablated_eq2': {'accuracy': 0.4962, 'aucroc': 0.499267985}, 'LOGAN_D1': {'accuracy': 0.5057, 'aucroc': 0.509254035}, 'MC': {'accuracy': 0.5005, 'aucroc': 0.49981533999999994}, 'gan_leaks': {'accuracy': 0.5005, 'aucroc': 0.499575805}, 'gan_leaks_cal': {'accuracy': 0.5024, 'aucroc': 0.50142439}, 'LOGAN_0': {'accuracy': 0.5018, 'aucroc': 0.50235954}, 'eq1': {'accuracy': 0.5, 'aucroc': 0.5}, 'domias': {'accuracy': 0.5, 'aucroc': 0.5}}\n",
      "Training Epoch 1000: MIA Performance = {'ablated_eq1': {'accuracy': 0.4991, 'aucroc': 0.49608477500000003}, 'ablated_eq2': {'accuracy': 0.4953, 'aucroc': 0.492432765}, 'LOGAN_D1': {'accuracy': 0.5003, 'aucroc': 0.50309708}, 'MC': {'accuracy': 0.4983, 'aucroc': 0.49870085499999994}, 'gan_leaks': {'accuracy': 0.4983, 'aucroc': 0.49615104}, 'gan_leaks_cal': {'accuracy': 0.4987, 'aucroc': 0.49668903}, 'LOGAN_0': {'accuracy': 0.4967, 'aucroc': 0.49641567}, 'eq1': {'accuracy': 0.5, 'aucroc': 0.5}, 'domias': {'accuracy': 0.5, 'aucroc': 0.5}}\n",
      "Training Epoch 2000: MIA Performance = {'ablated_eq1': {'accuracy': 0.5002, 'aucroc': 0.49810219499999997}, 'ablated_eq2': {'accuracy': 0.4972, 'aucroc': 0.49677991499999996}, 'LOGAN_D1': {'accuracy': 0.4988, 'aucroc': 0.50283471}, 'MC': {'accuracy': 0.4992, 'aucroc': 0.49896863}, 'gan_leaks': {'accuracy': 0.4992, 'aucroc': 0.49786013500000004}, 'gan_leaks_cal': {'accuracy': 0.5014, 'aucroc': 0.499005}, 'LOGAN_0': {'accuracy': 0.5007, 'aucroc': 0.5019346950000001}, 'eq1': {'accuracy': 0.5, 'aucroc': 0.5}, 'domias': {'accuracy': 0.5, 'aucroc': 0.5}}\n",
      "Training Epoch 3000: MIA Performance = {'ablated_eq1': {'accuracy': 0.5016, 'aucroc': 0.50112347}, 'ablated_eq2': {'accuracy': 0.4997, 'aucroc': 0.5030822}, 'LOGAN_D1': {'accuracy': 0.5041, 'aucroc': 0.50694398}, 'MC': {'accuracy': 0.5019, 'aucroc': 0.50018513}, 'gan_leaks': {'accuracy': 0.5019, 'aucroc': 0.50233206}, 'gan_leaks_cal': {'accuracy': 0.504, 'aucroc': 0.5051206800000001}, 'LOGAN_0': {'accuracy': 0.4979, 'aucroc': 0.49685774}, 'eq1': {'accuracy': 0.5, 'aucroc': 0.5}, 'domias': {'accuracy': 0.5, 'aucroc': 0.5}}\n",
      "\n"
     ]
    }
   ],
   "source": [
    "def get_generator(\n",
    "    gan_method: str = \"CTGAN\",\n",
    "    epochs: int = 1000,\n",
    "    seed: int = 0,\n",
    ") -> GeneratorInterface:\n",
    "    class LocalGenerator(GeneratorInterface):\n",
    "        def __init__(self) -> None:\n",
    "            if gan_method == \"TVAE\":\n",
    "                syn_model = TVAESynthesizer(metadata, epochs=epochs)\n",
    "            elif gan_method == \"CTGAN\":\n",
    "                syn_model = CTGAN(epochs=epochs)\n",
    "            elif gan_method == \"KDE\":\n",
    "                syn_model = None\n",
    "            else:\n",
    "                raise RuntimeError()\n",
    "            self.method = gan_method\n",
    "            self.model = syn_model\n",
    "                \n",
    "\n",
    "        def fit(self, data: pd.DataFrame) -> \"LocalGenerator\":\n",
    "            if self.method == \"KDE\":\n",
    "                self.model = stats.gaussian_kde(np.transpose(data))\n",
    "            else:\n",
    "                self.model.fit(data)\n",
    "            return self\n",
    "\n",
    "        def generate(self, count: int) -> pd.DataFrame:\n",
    "            \n",
    "            if gan_method == \"KDE\":\n",
    "                samples = pd.DataFrame(self.model.resample(count).transpose(1, 0))\n",
    "            elif gan_method == \"TVAE\":\n",
    "                samples = self.model.sample(count)\n",
    "            elif gan_method == \"CTGAN\":\n",
    "                samples = self.model.generate(count)\n",
    "            else:\n",
    "                raise RuntimeError()\n",
    "\n",
    "            return samples\n",
    "            \n",
    "            #return self.model.sample(count)\n",
    "\n",
    "    return LocalGenerator()\n",
    "\n",
    "\n",
    "#Loading metadata from dataset for use in TVAESynthesizer\n",
    "dataset = get_dataset()\n",
    "df_dataset = pd.DataFrame(dataset)\n",
    "df_dataset.rename(columns={0: '0', 1: '1', 2: '2', 3: '3', 4: '4', 5: '5', 6: '6', 7: '7'}, inplace = True)\n",
    "\n",
    "from sdv.metadata import SingleTableMetadata\n",
    "\n",
    "metadata = SingleTableMetadata()\n",
    "metadata.detect_from_dataframe(data=df_dataset)\n",
    "\n",
    "\n",
    "\n",
    "\n",
    "\n",
    "\n",
    "\"\"\"\n",
    "Args:\n",
    "    generator: GeneratorInterface\n",
    "        Generator with the `fit` and `generate` methods. The generator MUST not be fitted.\n",
    "    dataset: int\n",
    "        The evaluation dataset, used to derive the training and test datasets.\n",
    "    training_size: int\n",
    "        The split for the training (member) dataset out of `dataset`\n",
    "    reference_size: int\n",
    "        The split for the reference dataset out of `dataset`.\n",
    "    training_epochs: int\n",
    "        Training epochs\n",
    "    synthetic_sizes: List[int]\n",
    "        For how many synthetic samples to test the attacks.\n",
    "\n",
    "\"\"\"\n",
    "\n",
    "\"\"\"\n",
    "CTGAN Args:\n",
    "\n",
    "embedding_dim: int = 128,\n",
    "generator_dim: Tuple = (256, 256),\n",
    "discriminator_dim: Tuple = (256, 256),\n",
    "generator_lr: float = 2e-4,\n",
    "generator_decay: float = 1e-6,\n",
    "discriminator_lr: float = 2e-4,\n",
    "discriminator_decay: float = 1e-6,\n",
    "batch_size: int = 500,\n",
    "discriminator_steps: int = 1,\n",
    "log_frequency: bool = True,\n",
    "verbose: bool = False,\n",
    "epochs: int = 300,\n",
    "pac: int = 1,\n",
    "cuda: bool = True,\n",
    "\n",
    "\n",
    "\n",
    "\"\"\"\n",
    "\n",
    "\n",
    "# mem_set_size = 1000 -> originally what training size was\n",
    "reference_set_size = 10000 #held out set\n",
    "training_epochs = [100, 500, 1000, 2000, 3000]\n",
    "training_sizes = [10000]\n",
    "#synthetic_sizes = [200]\n",
    "density_estimator = \"kde\"  # prior, kde, bnaf\n",
    "gen_size = 200 #same as synthetic_sizes\n",
    "\n",
    "method = \"CTGAN\"\n",
    "\n",
    "# Create a dictionary to store the results\n",
    "results = {}\n",
    "\n",
    "# Set the number of iterations\n",
    "num_iterations = 3\n",
    "\n",
    "for iteration in range(1, num_iterations+1):\n",
    "    # Initialize the result dictionary for the current iteration\n",
    "    iteration_results = {}\n",
    "    \n",
    "    for training_size in training_sizes:\n",
    "        # Initialize the result dictionary for the current training size\n",
    "        size_results = {}\n",
    "        \n",
    "        for training_epoch in training_epochs:\n",
    "            generator = get_generator(\n",
    "                gan_method=method,\n",
    "                epochs=training_epoch,\n",
    "            )\n",
    "    \n",
    "            perf = evaluate_performance(\n",
    "                generator,\n",
    "                dataset,\n",
    "                training_size,\n",
    "                reference_set_size,\n",
    "                training_epochs=training_epoch,\n",
    "                synthetic_sizes=[gen_size],\n",
    "                density_estimator=density_estimator,\n",
    "            )\n",
    "            \n",
    "            # Store the MIA performance for the current training size and epoch\n",
    "            size_results[training_epoch] = perf[gen_size][\"MIA_performance\"]\n",
    "        \n",
    "        # Store the results for the current training size\n",
    "        iteration_results[training_size] = size_results\n",
    "    \n",
    "    # Store the results for the current iteration\n",
    "    results[iteration] = iteration_results\n",
    "\n",
    "# Print the results\n",
    "for iteration, iteration_results in results.items():\n",
    "    print(f\"Iteration {iteration}:\")\n",
    "    for training_size, size_results in iteration_results.items():\n",
    "        print(f\"Training Size {training_size}:\")\n",
    "        for training_epoch, mia_performance in size_results.items():\n",
    "            print(f\"Training Epoch {training_epoch}: MIA Performance = {mia_performance}\")\n",
    "        print()\n"
   ]
  },
  {
   "cell_type": "code",
   "execution_count": null,
   "metadata": {},
   "outputs": [],
   "source": [
    "#4 hours "
   ]
  },
  {
   "cell_type": "code",
   "execution_count": 23,
   "metadata": {},
   "outputs": [
    {
     "data": {
      "text/html": [
       "<div>\n",
       "<style scoped>\n",
       "    .dataframe tbody tr th:only-of-type {\n",
       "        vertical-align: middle;\n",
       "    }\n",
       "\n",
       "    .dataframe tbody tr th {\n",
       "        vertical-align: top;\n",
       "    }\n",
       "\n",
       "    .dataframe thead th {\n",
       "        text-align: right;\n",
       "    }\n",
       "</style>\n",
       "<table border=\"1\" class=\"dataframe\">\n",
       "  <thead>\n",
       "    <tr style=\"text-align: right;\">\n",
       "      <th></th>\n",
       "      <th>iteration</th>\n",
       "      <th>epoch</th>\n",
       "      <th>src</th>\n",
       "      <th>accuracy</th>\n",
       "    </tr>\n",
       "  </thead>\n",
       "  <tbody>\n",
       "    <tr>\n",
       "      <th>0</th>\n",
       "      <td>1</td>\n",
       "      <td>100</td>\n",
       "      <td>ablated_eq1</td>\n",
       "      <td>0.5011</td>\n",
       "    </tr>\n",
       "    <tr>\n",
       "      <th>0</th>\n",
       "      <td>1</td>\n",
       "      <td>100</td>\n",
       "      <td>ablated_eq2</td>\n",
       "      <td>0.4991</td>\n",
       "    </tr>\n",
       "    <tr>\n",
       "      <th>0</th>\n",
       "      <td>1</td>\n",
       "      <td>100</td>\n",
       "      <td>LOGAN_D1</td>\n",
       "      <td>0.5073</td>\n",
       "    </tr>\n",
       "    <tr>\n",
       "      <th>0</th>\n",
       "      <td>1</td>\n",
       "      <td>100</td>\n",
       "      <td>MC</td>\n",
       "      <td>0.4994</td>\n",
       "    </tr>\n",
       "    <tr>\n",
       "      <th>0</th>\n",
       "      <td>1</td>\n",
       "      <td>100</td>\n",
       "      <td>gan_leaks</td>\n",
       "      <td>0.4994</td>\n",
       "    </tr>\n",
       "    <tr>\n",
       "      <th>...</th>\n",
       "      <td>...</td>\n",
       "      <td>...</td>\n",
       "      <td>...</td>\n",
       "      <td>...</td>\n",
       "    </tr>\n",
       "    <tr>\n",
       "      <th>0</th>\n",
       "      <td>3</td>\n",
       "      <td>3000</td>\n",
       "      <td>gan_leaks</td>\n",
       "      <td>0.5019</td>\n",
       "    </tr>\n",
       "    <tr>\n",
       "      <th>0</th>\n",
       "      <td>3</td>\n",
       "      <td>3000</td>\n",
       "      <td>gan_leaks_cal</td>\n",
       "      <td>0.5040</td>\n",
       "    </tr>\n",
       "    <tr>\n",
       "      <th>0</th>\n",
       "      <td>3</td>\n",
       "      <td>3000</td>\n",
       "      <td>LOGAN_0</td>\n",
       "      <td>0.4979</td>\n",
       "    </tr>\n",
       "    <tr>\n",
       "      <th>0</th>\n",
       "      <td>3</td>\n",
       "      <td>3000</td>\n",
       "      <td>eq1</td>\n",
       "      <td>0.5000</td>\n",
       "    </tr>\n",
       "    <tr>\n",
       "      <th>0</th>\n",
       "      <td>3</td>\n",
       "      <td>3000</td>\n",
       "      <td>domias</td>\n",
       "      <td>0.5000</td>\n",
       "    </tr>\n",
       "  </tbody>\n",
       "</table>\n",
       "<p>135 rows × 4 columns</p>\n",
       "</div>"
      ],
      "text/plain": [
       "   iteration epoch            src  accuracy\n",
       "0          1   100    ablated_eq1    0.5011\n",
       "0          1   100    ablated_eq2    0.4991\n",
       "0          1   100       LOGAN_D1    0.5073\n",
       "0          1   100             MC    0.4994\n",
       "0          1   100      gan_leaks    0.4994\n",
       "..       ...   ...            ...       ...\n",
       "0          3  3000      gan_leaks    0.5019\n",
       "0          3  3000  gan_leaks_cal    0.5040\n",
       "0          3  3000        LOGAN_0    0.4979\n",
       "0          3  3000            eq1    0.5000\n",
       "0          3  3000         domias    0.5000\n",
       "\n",
       "[135 rows x 4 columns]"
      ]
     },
     "execution_count": 23,
     "metadata": {},
     "output_type": "execute_result"
    }
   ],
   "source": [
    "output = pd.DataFrame([], columns=[\"iteration\", \"epoch\", \"src\", \"\n",
    "                                   \"])\n",
    "\n",
    "for iteration in range(1, num_iterations + 1):\n",
    "    for training_epoch in training_epochs:\n",
    "        epoch_res = results[iteration][training_size][training_epoch]\n",
    "        perf = epoch_res  # Assuming perf is the correct value for accuracy\n",
    "\n",
    "        for key in perf:\n",
    "            output = pd.concat(\n",
    "                [\n",
    "                    output,\n",
    "                    pd.DataFrame(\n",
    "                        [\n",
    "                            [iteration, training_epoch, key, perf[key][\"aucroc\"]],\n",
    "                        ],\n",
    "                        columns=[\"iteration\", \"epoch\", \"src\", \"aucroc\"],\n",
    "                    ),\n",
    "                ]\n",
    "            )\n",
    "output"
   ]
  },
  {
   "cell_type": "code",
   "execution_count": 22,
   "metadata": {},
   "outputs": [
    {
     "data": {
      "image/png": "[encoded data removed]",
      "text/plain": [
       "<Figure size 432x288 with 1 Axes>"
      ]
     },
     "metadata": {
      "needs_background": "light"
     },
     "output_type": "display_data"
    }
   ],
   "source": [
    "import seaborn as sns\n",
    "for iteration in range(1, num_iterations + 1):\n",
    "    sns.lineplot(data=output, x=\"epoch\", y=\"aucroc\", hue=\"src\", legend=False)"
   ]
  },
  {
   "cell_type": "code",
   "execution_count": null,
   "metadata": {},
   "outputs": [],
   "source": []
  }
 ],
 "metadata": {
  "kernelspec": {
   "display_name": "Python 3",
   "language": "python",
   "name": "python3"
  },
  "language_info": {
   "codemirror_mode": {
    "name": "ipython",
    "version": 3
   },
   "file_extension": ".py",
   "mimetype": "text/x-python",
   "name": "python",
   "nbconvert_exporter": "python",
   "pygments_lexer": "ipython3",
   "version": "3.7.6"
  }
 },
 "nbformat": 4,
 "nbformat_minor": 4
}
