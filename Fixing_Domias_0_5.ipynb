{
 "cells": [
  {
   "cell_type": "code",
   "execution_count": 1,
   "metadata": {},
   "outputs": [],
   "source": [
    "# import geomloss"
   ]
  },
  {
   "cell_type": "code",
   "execution_count": 1,
   "metadata": {},
   "outputs": [
    {
     "name": "stdout",
     "output_type": "stream",
     "text": [
      "[KeOps] Warning : \n",
      "    The default C++ compiler could not be found on your system.\n",
      "    You need to either define the CXX environment variable or a symlink to the g++ command.\n",
      "    For example if g++-8 is the command you can do\n",
      "      import os\n",
      "      os.environ['CXX'] = 'g++-8'\n",
      "    \n",
      "[KeOps] Warning : Cuda libraries were not detected on the system ; using cpu only mode\n"
     ]
    }
   ],
   "source": [
    "import pandas as pd\n",
    "from sdv.single_table import TVAESynthesizer\n",
    "\n",
    "from domias.evaluator import evaluate_performance\n",
    "from domias.models.generator import GeneratorInterface\n",
    "from domias.models.ctgan import CTGAN\n",
    "\n",
    "\n",
    "\n",
    "from scipy import stats\n",
    "from scipy.stats import multivariate_normal\n",
    "\n",
    "\n",
    "import numpy as np\n",
    "\n",
    "from sklearn.preprocessing import StandardScaler\n",
    "from sklearn.datasets import fetch_california_housing, fetch_covtype, load_digits\n",
    "\n",
    "import warnings\n",
    "warnings.filterwarnings(\"ignore\")"
   ]
  },
  {
   "cell_type": "code",
   "execution_count": 2,
   "metadata": {},
   "outputs": [
    {
     "data": {
      "text/html": [
       "<div>\n",
       "<style scoped>\n",
       "    .dataframe tbody tr th:only-of-type {\n",
       "        vertical-align: middle;\n",
       "    }\n",
       "\n",
       "    .dataframe tbody tr th {\n",
       "        vertical-align: top;\n",
       "    }\n",
       "\n",
       "    .dataframe thead th {\n",
       "        text-align: right;\n",
       "    }\n",
       "</style>\n",
       "<table border=\"1\" class=\"dataframe\">\n",
       "  <thead>\n",
       "    <tr style=\"text-align: right;\">\n",
       "      <th></th>\n",
       "      <th>ID</th>\n",
       "      <th>LIMIT_BAL</th>\n",
       "      <th>SEX</th>\n",
       "      <th>EDUCATION</th>\n",
       "      <th>MARRIAGE</th>\n",
       "      <th>AGE</th>\n",
       "      <th>PAY_0</th>\n",
       "      <th>PAY_2</th>\n",
       "      <th>PAY_3</th>\n",
       "      <th>PAY_4</th>\n",
       "      <th>...</th>\n",
       "      <th>BILL_AMT4</th>\n",
       "      <th>BILL_AMT5</th>\n",
       "      <th>BILL_AMT6</th>\n",
       "      <th>PAY_AMT1</th>\n",
       "      <th>PAY_AMT2</th>\n",
       "      <th>PAY_AMT3</th>\n",
       "      <th>PAY_AMT4</th>\n",
       "      <th>PAY_AMT5</th>\n",
       "      <th>PAY_AMT6</th>\n",
       "      <th>default.payment.next.month</th>\n",
       "    </tr>\n",
       "  </thead>\n",
       "  <tbody>\n",
       "    <tr>\n",
       "      <th>0</th>\n",
       "      <td>1</td>\n",
       "      <td>20000.0</td>\n",
       "      <td>2</td>\n",
       "      <td>2</td>\n",
       "      <td>1</td>\n",
       "      <td>24</td>\n",
       "      <td>2</td>\n",
       "      <td>2</td>\n",
       "      <td>-1</td>\n",
       "      <td>-1</td>\n",
       "      <td>...</td>\n",
       "      <td>0.0</td>\n",
       "      <td>0.0</td>\n",
       "      <td>0.0</td>\n",
       "      <td>0.0</td>\n",
       "      <td>689.0</td>\n",
       "      <td>0.0</td>\n",
       "      <td>0.0</td>\n",
       "      <td>0.0</td>\n",
       "      <td>0.0</td>\n",
       "      <td>1</td>\n",
       "    </tr>\n",
       "    <tr>\n",
       "      <th>1</th>\n",
       "      <td>2</td>\n",
       "      <td>120000.0</td>\n",
       "      <td>2</td>\n",
       "      <td>2</td>\n",
       "      <td>2</td>\n",
       "      <td>26</td>\n",
       "      <td>-1</td>\n",
       "      <td>2</td>\n",
       "      <td>0</td>\n",
       "      <td>0</td>\n",
       "      <td>...</td>\n",
       "      <td>3272.0</td>\n",
       "      <td>3455.0</td>\n",
       "      <td>3261.0</td>\n",
       "      <td>0.0</td>\n",
       "      <td>1000.0</td>\n",
       "      <td>1000.0</td>\n",
       "      <td>1000.0</td>\n",
       "      <td>0.0</td>\n",
       "      <td>2000.0</td>\n",
       "      <td>1</td>\n",
       "    </tr>\n",
       "    <tr>\n",
       "      <th>2</th>\n",
       "      <td>3</td>\n",
       "      <td>90000.0</td>\n",
       "      <td>2</td>\n",
       "      <td>2</td>\n",
       "      <td>2</td>\n",
       "      <td>34</td>\n",
       "      <td>0</td>\n",
       "      <td>0</td>\n",
       "      <td>0</td>\n",
       "      <td>0</td>\n",
       "      <td>...</td>\n",
       "      <td>14331.0</td>\n",
       "      <td>14948.0</td>\n",
       "      <td>15549.0</td>\n",
       "      <td>1518.0</td>\n",
       "      <td>1500.0</td>\n",
       "      <td>1000.0</td>\n",
       "      <td>1000.0</td>\n",
       "      <td>1000.0</td>\n",
       "      <td>5000.0</td>\n",
       "      <td>0</td>\n",
       "    </tr>\n",
       "    <tr>\n",
       "      <th>3</th>\n",
       "      <td>4</td>\n",
       "      <td>50000.0</td>\n",
       "      <td>2</td>\n",
       "      <td>2</td>\n",
       "      <td>1</td>\n",
       "      <td>37</td>\n",
       "      <td>0</td>\n",
       "      <td>0</td>\n",
       "      <td>0</td>\n",
       "      <td>0</td>\n",
       "      <td>...</td>\n",
       "      <td>28314.0</td>\n",
       "      <td>28959.0</td>\n",
       "      <td>29547.0</td>\n",
       "      <td>2000.0</td>\n",
       "      <td>2019.0</td>\n",
       "      <td>1200.0</td>\n",
       "      <td>1100.0</td>\n",
       "      <td>1069.0</td>\n",
       "      <td>1000.0</td>\n",
       "      <td>0</td>\n",
       "    </tr>\n",
       "    <tr>\n",
       "      <th>4</th>\n",
       "      <td>5</td>\n",
       "      <td>50000.0</td>\n",
       "      <td>1</td>\n",
       "      <td>2</td>\n",
       "      <td>1</td>\n",
       "      <td>57</td>\n",
       "      <td>-1</td>\n",
       "      <td>0</td>\n",
       "      <td>-1</td>\n",
       "      <td>0</td>\n",
       "      <td>...</td>\n",
       "      <td>20940.0</td>\n",
       "      <td>19146.0</td>\n",
       "      <td>19131.0</td>\n",
       "      <td>2000.0</td>\n",
       "      <td>36681.0</td>\n",
       "      <td>10000.0</td>\n",
       "      <td>9000.0</td>\n",
       "      <td>689.0</td>\n",
       "      <td>679.0</td>\n",
       "      <td>0</td>\n",
       "    </tr>\n",
       "  </tbody>\n",
       "</table>\n",
       "<p>5 rows × 25 columns</p>\n",
       "</div>"
      ],
      "text/plain": [
       "   ID  LIMIT_BAL  SEX  EDUCATION  MARRIAGE  AGE  PAY_0  PAY_2  PAY_3  PAY_4  \\\n",
       "0   1    20000.0    2          2         1   24      2      2     -1     -1   \n",
       "1   2   120000.0    2          2         2   26     -1      2      0      0   \n",
       "2   3    90000.0    2          2         2   34      0      0      0      0   \n",
       "3   4    50000.0    2          2         1   37      0      0      0      0   \n",
       "4   5    50000.0    1          2         1   57     -1      0     -1      0   \n",
       "\n",
       "   ...  BILL_AMT4  BILL_AMT5  BILL_AMT6  PAY_AMT1  PAY_AMT2  PAY_AMT3  \\\n",
       "0  ...        0.0        0.0        0.0       0.0     689.0       0.0   \n",
       "1  ...     3272.0     3455.0     3261.0       0.0    1000.0    1000.0   \n",
       "2  ...    14331.0    14948.0    15549.0    1518.0    1500.0    1000.0   \n",
       "3  ...    28314.0    28959.0    29547.0    2000.0    2019.0    1200.0   \n",
       "4  ...    20940.0    19146.0    19131.0    2000.0   36681.0   10000.0   \n",
       "\n",
       "   PAY_AMT4  PAY_AMT5  PAY_AMT6  default.payment.next.month  \n",
       "0       0.0       0.0       0.0                           1  \n",
       "1    1000.0       0.0    2000.0                           1  \n",
       "2    1000.0    1000.0    5000.0                           0  \n",
       "3    1100.0    1069.0    1000.0                           0  \n",
       "4    9000.0     689.0     679.0                           0  \n",
       "\n",
       "[5 rows x 25 columns]"
      ]
     },
     "execution_count": 2,
     "metadata": {},
     "output_type": "execute_result"
    }
   ],
   "source": [
    "df_uci = pd.read_csv(r'C:\\Users\\jordy\\OneDrive\\MSc_Python\\Individual_Project\\Data\\UCI_Credit_Card.csv')\n",
    "df_uci.head()"
   ]
  },
  {
   "cell_type": "code",
   "execution_count": 3,
   "metadata": {},
   "outputs": [
    {
     "data": {
      "text/plain": [
       "(30000, 23)"
      ]
     },
     "execution_count": 3,
     "metadata": {},
     "output_type": "execute_result"
    }
   ],
   "source": [
    "#convert dataframe to array\n",
    "arr_uci = np.array(df_uci.iloc[:, 1:-1])\n",
    "arr_uci.shape"
   ]
  },
  {
   "cell_type": "code",
   "execution_count": 4,
   "metadata": {},
   "outputs": [],
   "source": [
    "def get_dataset() -> np.ndarray:\n",
    "    def data_loader() -> np.ndarray:\n",
    "        scaler = StandardScaler()\n",
    "        X =arr_uci\n",
    "        np.random.shuffle(X)\n",
    "        return scaler.fit_transform(X)\n",
    "\n",
    "    return data_loader()"
   ]
  },
  {
   "cell_type": "code",
   "execution_count": 5,
   "metadata": {
    "scrolled": true
   },
   "outputs": [
    {
     "name": "stderr",
     "output_type": "stream",
     "text": [
      "\r",
      "  0%|                                                     | 0/2 [00:00<?, ?it/s]"
     ]
    },
    {
     "name": "stdout",
     "output_type": "stream",
     "text": [
      "Loading dataset..\n",
      "Creating directory experiment..\n",
      "Creating BNAF model..\n",
      "Creating optimizer..\n",
      "Creating scheduler..\n",
      "Training..\n"
     ]
    },
    {
     "name": "stderr",
     "output_type": "stream",
     "text": [
      "100%|████████████████████████████████| 2/2 [00:01<00:00,  1.80it/s, loss=206.13]\n"
     ]
    },
    {
     "name": "stdout",
     "output_type": "stream",
     "text": [
      "Epoch   1/ 50 -- train_loss: 213.314 -- validation_loss: 983.470\n",
      "Saving model..\n"
     ]
    },
    {
     "name": "stderr",
     "output_type": "stream",
     "text": [
      "100%|████████████████████████████████| 2/2 [00:00<00:00,  2.17it/s, loss=181.32]\n"
     ]
    },
    {
     "name": "stdout",
     "output_type": "stream",
     "text": [
      "Epoch   2/ 50 -- train_loss: 187.286 -- validation_loss: 976.781\n",
      "Saving model..\n"
     ]
    },
    {
     "name": "stderr",
     "output_type": "stream",
     "text": [
      "100%|████████████████████████████████| 2/2 [00:00<00:00,  2.06it/s, loss=147.79]\n"
     ]
    },
    {
     "name": "stdout",
     "output_type": "stream",
     "text": [
      "Epoch   3/ 50 -- train_loss: 156.080 -- validation_loss: 969.929\n",
      "Saving model..\n"
     ]
    },
    {
     "name": "stderr",
     "output_type": "stream",
     "text": [
      "100%|████████████████████████████████| 2/2 [00:00<00:00,  2.09it/s, loss=127.25]\n"
     ]
    },
    {
     "name": "stdout",
     "output_type": "stream",
     "text": [
      "Epoch   4/ 50 -- train_loss: 131.156 -- validation_loss: 962.927\n",
      "Saving model..\n"
     ]
    },
    {
     "name": "stderr",
     "output_type": "stream",
     "text": [
      "100%|████████████████████████████████| 2/2 [00:00<00:00,  2.22it/s, loss=106.80]\n"
     ]
    },
    {
     "name": "stdout",
     "output_type": "stream",
     "text": [
      "Epoch   5/ 50 -- train_loss: 111.521 -- validation_loss: 955.890\n",
      "Saving model..\n"
     ]
    },
    {
     "name": "stderr",
     "output_type": "stream",
     "text": [
      "100%|█████████████████████████████████| 2/2 [00:00<00:00,  2.09it/s, loss=89.50]\n"
     ]
    },
    {
     "name": "stdout",
     "output_type": "stream",
     "text": [
      "Epoch   6/ 50 -- train_loss: 92.980 -- validation_loss: 948.675\n",
      "Saving model..\n"
     ]
    },
    {
     "name": "stderr",
     "output_type": "stream",
     "text": [
      "100%|█████████████████████████████████| 2/2 [00:00<00:00,  2.16it/s, loss=75.72]\n",
      "  0%|                                                     | 0/2 [00:00<?, ?it/s]"
     ]
    },
    {
     "name": "stdout",
     "output_type": "stream",
     "text": [
      "Epoch   7/ 50 -- train_loss: 78.868 -- validation_loss: 941.371\n",
      "Saving model..\n"
     ]
    },
    {
     "name": "stderr",
     "output_type": "stream",
     "text": [
      "100%|█████████████████████████████████| 2/2 [00:00<00:00,  2.06it/s, loss=65.26]\n"
     ]
    },
    {
     "name": "stdout",
     "output_type": "stream",
     "text": [
      "Epoch   8/ 50 -- train_loss: 67.689 -- validation_loss: 934.312\n",
      "Saving model..\n"
     ]
    },
    {
     "name": "stderr",
     "output_type": "stream",
     "text": [
      "100%|█████████████████████████████████| 2/2 [00:00<00:00,  2.11it/s, loss=58.11]\n",
      "  0%|                                                     | 0/2 [00:00<?, ?it/s]"
     ]
    },
    {
     "name": "stdout",
     "output_type": "stream",
     "text": [
      "Epoch   9/ 50 -- train_loss: 58.546 -- validation_loss: 927.042\n",
      "Saving model..\n"
     ]
    },
    {
     "name": "stderr",
     "output_type": "stream",
     "text": [
      "100%|█████████████████████████████████| 2/2 [00:00<00:00,  2.09it/s, loss=50.14]\n"
     ]
    },
    {
     "name": "stdout",
     "output_type": "stream",
     "text": [
      "Epoch  10/ 50 -- train_loss: 52.311 -- validation_loss: 919.820\n",
      "Saving model..\n"
     ]
    },
    {
     "name": "stderr",
     "output_type": "stream",
     "text": [
      "100%|█████████████████████████████████| 2/2 [00:00<00:00,  2.07it/s, loss=46.03]\n",
      "  0%|                                                     | 0/2 [00:00<?, ?it/s]"
     ]
    },
    {
     "name": "stdout",
     "output_type": "stream",
     "text": [
      "Epoch  11/ 50 -- train_loss: 46.018 -- validation_loss: 912.444\n",
      "Saving model..\n"
     ]
    },
    {
     "name": "stderr",
     "output_type": "stream",
     "text": [
      "100%|█████████████████████████████████| 2/2 [00:00<00:00,  2.10it/s, loss=42.81]\n",
      "  0%|                                                     | 0/2 [00:00<?, ?it/s]"
     ]
    },
    {
     "name": "stdout",
     "output_type": "stream",
     "text": [
      "Epoch  12/ 50 -- train_loss: 43.788 -- validation_loss: 905.287\n",
      "Saving model..\n"
     ]
    },
    {
     "name": "stderr",
     "output_type": "stream",
     "text": [
      "100%|█████████████████████████████████| 2/2 [00:01<00:00,  2.00it/s, loss=39.07]\n"
     ]
    },
    {
     "name": "stdout",
     "output_type": "stream",
     "text": [
      "Epoch  13/ 50 -- train_loss: 40.482 -- validation_loss: 897.989\n",
      "Saving model..\n"
     ]
    },
    {
     "name": "stderr",
     "output_type": "stream",
     "text": [
      "100%|█████████████████████████████████| 2/2 [00:00<00:00,  2.12it/s, loss=34.97]\n"
     ]
    },
    {
     "name": "stdout",
     "output_type": "stream",
     "text": [
      "Epoch  14/ 50 -- train_loss: 36.873 -- validation_loss: 890.622\n",
      "Saving model..\n"
     ]
    },
    {
     "name": "stderr",
     "output_type": "stream",
     "text": [
      "100%|█████████████████████████████████| 2/2 [00:00<00:00,  2.03it/s, loss=33.97]\n",
      "  0%|                                                     | 0/2 [00:00<?, ?it/s]"
     ]
    },
    {
     "name": "stdout",
     "output_type": "stream",
     "text": [
      "Epoch  15/ 50 -- train_loss: 34.116 -- validation_loss: 883.323\n",
      "Saving model..\n"
     ]
    },
    {
     "name": "stderr",
     "output_type": "stream",
     "text": [
      "100%|█████████████████████████████████| 2/2 [00:00<00:00,  2.16it/s, loss=30.91]\n"
     ]
    },
    {
     "name": "stdout",
     "output_type": "stream",
     "text": [
      "Epoch  16/ 50 -- train_loss: 32.013 -- validation_loss: 876.351\n",
      "Saving model..\n"
     ]
    },
    {
     "name": "stderr",
     "output_type": "stream",
     "text": [
      "100%|█████████████████████████████████| 2/2 [00:00<00:00,  2.15it/s, loss=30.42]\n",
      "  0%|                                                     | 0/2 [00:00<?, ?it/s]"
     ]
    },
    {
     "name": "stdout",
     "output_type": "stream",
     "text": [
      "Epoch  17/ 50 -- train_loss: 30.523 -- validation_loss: 869.157\n",
      "Saving model..\n"
     ]
    },
    {
     "name": "stderr",
     "output_type": "stream",
     "text": [
      "100%|█████████████████████████████████| 2/2 [00:01<00:00,  1.99it/s, loss=28.93]\n",
      "  0%|                                                     | 0/2 [00:00<?, ?it/s]"
     ]
    },
    {
     "name": "stdout",
     "output_type": "stream",
     "text": [
      "Epoch  18/ 50 -- train_loss: 28.989 -- validation_loss: 862.200\n",
      "Saving model..\n"
     ]
    },
    {
     "name": "stderr",
     "output_type": "stream",
     "text": [
      "100%|█████████████████████████████████| 2/2 [00:00<00:00,  2.13it/s, loss=27.82]\n"
     ]
    },
    {
     "name": "stdout",
     "output_type": "stream",
     "text": [
      "Epoch  19/ 50 -- train_loss: 27.692 -- validation_loss: 855.433\n",
      "Saving model..\n"
     ]
    },
    {
     "name": "stderr",
     "output_type": "stream",
     "text": [
      "100%|█████████████████████████████████| 2/2 [00:00<00:00,  2.09it/s, loss=26.32]\n"
     ]
    },
    {
     "name": "stdout",
     "output_type": "stream",
     "text": [
      "Epoch  20/ 50 -- train_loss: 26.510 -- validation_loss: 848.546\n",
      "Saving model..\n"
     ]
    },
    {
     "name": "stderr",
     "output_type": "stream",
     "text": [
      "100%|█████████████████████████████████| 2/2 [00:00<00:00,  2.09it/s, loss=25.29]\n"
     ]
    },
    {
     "name": "stdout",
     "output_type": "stream",
     "text": [
      "Epoch  21/ 50 -- train_loss: 25.533 -- validation_loss: 841.634\n",
      "Saving model..\n"
     ]
    },
    {
     "name": "stderr",
     "output_type": "stream",
     "text": [
      "100%|█████████████████████████████████| 2/2 [00:00<00:00,  2.07it/s, loss=24.12]\n"
     ]
    },
    {
     "name": "stdout",
     "output_type": "stream",
     "text": [
      "Epoch  22/ 50 -- train_loss: 24.182 -- validation_loss: 834.950\n",
      "Saving model..\n"
     ]
    },
    {
     "name": "stderr",
     "output_type": "stream",
     "text": [
      "100%|█████████████████████████████████| 2/2 [00:00<00:00,  2.08it/s, loss=22.48]\n"
     ]
    },
    {
     "name": "stdout",
     "output_type": "stream",
     "text": [
      "Epoch  23/ 50 -- train_loss: 23.014 -- validation_loss: 828.302\n",
      "Saving model..\n"
     ]
    },
    {
     "name": "stderr",
     "output_type": "stream",
     "text": [
      "100%|█████████████████████████████████| 2/2 [00:00<00:00,  2.12it/s, loss=23.26]\n"
     ]
    },
    {
     "name": "stdout",
     "output_type": "stream",
     "text": [
      "Epoch  24/ 50 -- train_loss: 22.412 -- validation_loss: 821.859\n",
      "Saving model..\n"
     ]
    },
    {
     "name": "stderr",
     "output_type": "stream",
     "text": [
      "100%|█████████████████████████████████| 2/2 [00:00<00:00,  2.07it/s, loss=21.64]\n",
      "  0%|                                                     | 0/2 [00:00<?, ?it/s]"
     ]
    },
    {
     "name": "stdout",
     "output_type": "stream",
     "text": [
      "Epoch  25/ 50 -- train_loss: 21.498 -- validation_loss: 815.424\n",
      "Saving model..\n"
     ]
    },
    {
     "name": "stderr",
     "output_type": "stream",
     "text": [
      "100%|█████████████████████████████████| 2/2 [00:00<00:00,  2.12it/s, loss=21.24]\n"
     ]
    },
    {
     "name": "stdout",
     "output_type": "stream",
     "text": [
      "Epoch  26/ 50 -- train_loss: 20.737 -- validation_loss: 809.116\n",
      "Saving model..\n"
     ]
    },
    {
     "name": "stderr",
     "output_type": "stream",
     "text": [
      "100%|█████████████████████████████████| 2/2 [00:00<00:00,  2.11it/s, loss=19.61]\n",
      "  0%|                                                     | 0/2 [00:00<?, ?it/s]"
     ]
    },
    {
     "name": "stdout",
     "output_type": "stream",
     "text": [
      "Epoch  27/ 50 -- train_loss: 19.881 -- validation_loss: 802.746\n",
      "Saving model..\n"
     ]
    },
    {
     "name": "stderr",
     "output_type": "stream",
     "text": [
      "100%|█████████████████████████████████| 2/2 [00:00<00:00,  2.09it/s, loss=18.36]\n"
     ]
    },
    {
     "name": "stdout",
     "output_type": "stream",
     "text": [
      "Epoch  28/ 50 -- train_loss: 19.491 -- validation_loss: 796.672\n",
      "Saving model..\n"
     ]
    },
    {
     "name": "stderr",
     "output_type": "stream",
     "text": [
      "100%|█████████████████████████████████| 2/2 [00:00<00:00,  2.12it/s, loss=19.64]\n",
      "  0%|                                                     | 0/2 [00:00<?, ?it/s]"
     ]
    },
    {
     "name": "stdout",
     "output_type": "stream",
     "text": [
      "Epoch  29/ 50 -- train_loss: 19.525 -- validation_loss: 790.687\n",
      "Saving model..\n"
     ]
    },
    {
     "name": "stderr",
     "output_type": "stream",
     "text": [
      "100%|█████████████████████████████████| 2/2 [00:00<00:00,  2.04it/s, loss=19.44]\n"
     ]
    },
    {
     "name": "stdout",
     "output_type": "stream",
     "text": [
      "Epoch  30/ 50 -- train_loss: 18.720 -- validation_loss: 784.635\n",
      "Saving model..\n"
     ]
    },
    {
     "name": "stderr",
     "output_type": "stream",
     "text": [
      "100%|█████████████████████████████████| 2/2 [00:00<00:00,  2.23it/s, loss=17.89]\n"
     ]
    },
    {
     "name": "stdout",
     "output_type": "stream",
     "text": [
      "Epoch  31/ 50 -- train_loss: 18.078 -- validation_loss: 778.530\n",
      "Saving model..\n"
     ]
    },
    {
     "name": "stderr",
     "output_type": "stream",
     "text": [
      "100%|█████████████████████████████████| 2/2 [00:00<00:00,  2.05it/s, loss=19.13]\n",
      "  0%|                                                     | 0/2 [00:00<?, ?it/s]"
     ]
    },
    {
     "name": "stdout",
     "output_type": "stream",
     "text": [
      "Epoch  32/ 50 -- train_loss: 17.633 -- validation_loss: 772.633\n",
      "Saving model..\n"
     ]
    },
    {
     "name": "stderr",
     "output_type": "stream",
     "text": [
      "100%|█████████████████████████████████| 2/2 [00:00<00:00,  2.16it/s, loss=17.65]\n",
      "  0%|                                                     | 0/2 [00:00<?, ?it/s]"
     ]
    },
    {
     "name": "stdout",
     "output_type": "stream",
     "text": [
      "Epoch  33/ 50 -- train_loss: 17.359 -- validation_loss: 767.026\n",
      "Saving model..\n"
     ]
    },
    {
     "name": "stderr",
     "output_type": "stream",
     "text": [
      "100%|█████████████████████████████████| 2/2 [00:00<00:00,  2.06it/s, loss=17.05]\n"
     ]
    },
    {
     "name": "stdout",
     "output_type": "stream",
     "text": [
      "Epoch  34/ 50 -- train_loss: 16.876 -- validation_loss: 761.419\n",
      "Saving model..\n"
     ]
    },
    {
     "name": "stderr",
     "output_type": "stream",
     "text": [
      "100%|█████████████████████████████████| 2/2 [00:00<00:00,  2.15it/s, loss=16.01]\n"
     ]
    },
    {
     "name": "stdout",
     "output_type": "stream",
     "text": [
      "Epoch  35/ 50 -- train_loss: 16.312 -- validation_loss: 755.818\n",
      "Saving model..\n"
     ]
    },
    {
     "name": "stderr",
     "output_type": "stream",
     "text": [
      "100%|█████████████████████████████████| 2/2 [00:00<00:00,  2.08it/s, loss=15.52]\n",
      "  0%|                                                     | 0/2 [00:00<?, ?it/s]"
     ]
    },
    {
     "name": "stdout",
     "output_type": "stream",
     "text": [
      "Epoch  36/ 50 -- train_loss: 15.761 -- validation_loss: 750.274\n",
      "Saving model..\n"
     ]
    },
    {
     "name": "stderr",
     "output_type": "stream",
     "text": [
      "100%|█████████████████████████████████| 2/2 [00:00<00:00,  2.05it/s, loss=15.11]\n"
     ]
    },
    {
     "name": "stdout",
     "output_type": "stream",
     "text": [
      "Epoch  37/ 50 -- train_loss: 15.758 -- validation_loss: 745.085\n",
      "Saving model..\n"
     ]
    },
    {
     "name": "stderr",
     "output_type": "stream",
     "text": [
      "100%|█████████████████████████████████| 2/2 [00:00<00:00,  2.18it/s, loss=14.63]\n",
      "  0%|                                                     | 0/2 [00:00<?, ?it/s]"
     ]
    },
    {
     "name": "stdout",
     "output_type": "stream",
     "text": [
      "Epoch  38/ 50 -- train_loss: 14.794 -- validation_loss: 739.833\n",
      "Saving model..\n"
     ]
    },
    {
     "name": "stderr",
     "output_type": "stream",
     "text": [
      "100%|█████████████████████████████████| 2/2 [00:00<00:00,  2.07it/s, loss=13.48]\n"
     ]
    },
    {
     "name": "stdout",
     "output_type": "stream",
     "text": [
      "Epoch  39/ 50 -- train_loss: 14.104 -- validation_loss: 734.473\n",
      "Saving model..\n"
     ]
    },
    {
     "name": "stderr",
     "output_type": "stream",
     "text": [
      "100%|█████████████████████████████████| 2/2 [00:00<00:00,  2.14it/s, loss=14.93]\n",
      "  0%|                                                     | 0/2 [00:00<?, ?it/s]"
     ]
    },
    {
     "name": "stdout",
     "output_type": "stream",
     "text": [
      "Epoch  40/ 50 -- train_loss: 15.276 -- validation_loss: 729.389\n",
      "Saving model..\n"
     ]
    },
    {
     "name": "stderr",
     "output_type": "stream",
     "text": [
      "100%|█████████████████████████████████| 2/2 [00:01<00:00,  1.99it/s, loss=15.13]\n"
     ]
    },
    {
     "name": "stdout",
     "output_type": "stream",
     "text": [
      "Epoch  41/ 50 -- train_loss: 14.831 -- validation_loss: 724.276\n",
      "Saving model..\n"
     ]
    },
    {
     "name": "stderr",
     "output_type": "stream",
     "text": [
      "100%|█████████████████████████████████| 2/2 [00:00<00:00,  2.09it/s, loss=14.33]\n"
     ]
    },
    {
     "name": "stdout",
     "output_type": "stream",
     "text": [
      "Epoch  42/ 50 -- train_loss: 13.906 -- validation_loss: 719.253\n",
      "Saving model..\n"
     ]
    },
    {
     "name": "stderr",
     "output_type": "stream",
     "text": [
      "100%|█████████████████████████████████| 2/2 [00:00<00:00,  2.15it/s, loss=13.31]\n"
     ]
    },
    {
     "name": "stdout",
     "output_type": "stream",
     "text": [
      "Epoch  43/ 50 -- train_loss: 13.678 -- validation_loss: 714.278\n",
      "Saving model..\n"
     ]
    },
    {
     "name": "stderr",
     "output_type": "stream",
     "text": [
      "100%|█████████████████████████████████| 2/2 [00:00<00:00,  2.08it/s, loss=13.57]\n",
      "  0%|                                                     | 0/2 [00:00<?, ?it/s]"
     ]
    },
    {
     "name": "stdout",
     "output_type": "stream",
     "text": [
      "Epoch  44/ 50 -- train_loss: 13.745 -- validation_loss: 709.361\n",
      "Saving model..\n"
     ]
    },
    {
     "name": "stderr",
     "output_type": "stream",
     "text": [
      "100%|█████████████████████████████████| 2/2 [00:00<00:00,  2.02it/s, loss=13.22]\n"
     ]
    },
    {
     "name": "stdout",
     "output_type": "stream",
     "text": [
      "Epoch  45/ 50 -- train_loss: 13.198 -- validation_loss: 704.396\n",
      "Saving model..\n"
     ]
    },
    {
     "name": "stderr",
     "output_type": "stream",
     "text": [
      "100%|█████████████████████████████████| 2/2 [00:00<00:00,  2.04it/s, loss=12.74]\n",
      "  0%|                                                     | 0/2 [00:00<?, ?it/s]"
     ]
    },
    {
     "name": "stdout",
     "output_type": "stream",
     "text": [
      "Epoch  46/ 50 -- train_loss: 12.553 -- validation_loss: 699.732\n",
      "Saving model..\n"
     ]
    },
    {
     "name": "stderr",
     "output_type": "stream",
     "text": [
      "100%|█████████████████████████████████| 2/2 [00:01<00:00,  1.57it/s, loss=14.06]\n",
      "  0%|                                                     | 0/2 [00:00<?, ?it/s]"
     ]
    },
    {
     "name": "stdout",
     "output_type": "stream",
     "text": [
      "Epoch  47/ 50 -- train_loss: 12.704 -- validation_loss: 695.052\n",
      "Saving model..\n"
     ]
    },
    {
     "name": "stderr",
     "output_type": "stream",
     "text": [
      "100%|█████████████████████████████████| 2/2 [00:01<00:00,  1.80it/s, loss=11.00]\n",
      "  0%|                                                     | 0/2 [00:00<?, ?it/s]"
     ]
    },
    {
     "name": "stdout",
     "output_type": "stream",
     "text": [
      "Epoch  48/ 50 -- train_loss: 12.022 -- validation_loss: 690.417\n",
      "Saving model..\n"
     ]
    },
    {
     "name": "stderr",
     "output_type": "stream",
     "text": [
      "100%|█████████████████████████████████| 2/2 [00:00<00:00,  2.05it/s, loss=10.71]\n",
      "  0%|                                                     | 0/2 [00:00<?, ?it/s]"
     ]
    },
    {
     "name": "stdout",
     "output_type": "stream",
     "text": [
      "Epoch  49/ 50 -- train_loss: 11.018 -- validation_loss: 685.728\n",
      "Saving model..\n"
     ]
    },
    {
     "name": "stderr",
     "output_type": "stream",
     "text": [
      "100%|█████████████████████████████████| 2/2 [00:00<00:00,  2.13it/s, loss=11.42]\n"
     ]
    },
    {
     "name": "stdout",
     "output_type": "stream",
     "text": [
      "Epoch  50/ 50 -- train_loss: 11.435 -- validation_loss: 681.248\n",
      "Saving model..\n"
     ]
    },
    {
     "name": "stderr",
     "output_type": "stream",
     "text": [
      "\r",
      "  0%|                                                    | 0/20 [00:00<?, ?it/s]"
     ]
    },
    {
     "name": "stdout",
     "output_type": "stream",
     "text": [
      "###### Stop training after 50 epochs!\n",
      "Validation loss: 681.248\n",
      "Test loss:       679.258\n",
      "Loading dataset..\n",
      "No validation set passed\n",
      "No test set passed\n",
      "Creating directory experiment..\n",
      "Creating BNAF model..\n",
      "Creating optimizer..\n",
      "Creating scheduler..\n",
      "Training..\n"
     ]
    },
    {
     "name": "stderr",
     "output_type": "stream",
     "text": [
      "100%|███████████████████████████████| 20/20 [00:10<00:00,  1.93it/s, loss=39.81]\n",
      "  0%|                                                    | 0/20 [00:00<?, ?it/s]"
     ]
    },
    {
     "name": "stdout",
     "output_type": "stream",
     "text": [
      "Epoch   1/ 50 -- train_loss: 88.903 -- validation_loss: 923.029\n",
      "Saving model..\n"
     ]
    },
    {
     "name": "stderr",
     "output_type": "stream",
     "text": [
      "100%|███████████████████████████████| 20/20 [00:09<00:00,  2.14it/s, loss=18.27]\n"
     ]
    },
    {
     "name": "stdout",
     "output_type": "stream",
     "text": [
      "Epoch   2/ 50 -- train_loss: 25.471 -- validation_loss: 848.268\n",
      "Saving model..\n"
     ]
    },
    {
     "name": "stderr",
     "output_type": "stream",
     "text": [
      "100%|████████████████████████████████| 20/20 [00:09<00:00,  2.14it/s, loss=8.14]\n"
     ]
    },
    {
     "name": "stdout",
     "output_type": "stream",
     "text": [
      "Epoch   3/ 50 -- train_loss: 13.006 -- validation_loss: 781.416\n",
      "Saving model..\n"
     ]
    },
    {
     "name": "stderr",
     "output_type": "stream",
     "text": [
      "100%|████████████████████████████████| 20/20 [00:09<00:00,  2.22it/s, loss=6.52]\n"
     ]
    },
    {
     "name": "stdout",
     "output_type": "stream",
     "text": [
      "Epoch   4/ 50 -- train_loss: 6.570 -- validation_loss: 723.616\n",
      "Saving model..\n"
     ]
    },
    {
     "name": "stderr",
     "output_type": "stream",
     "text": [
      "100%|████████████████████████████████| 20/20 [00:09<00:00,  2.19it/s, loss=5.73]\n",
      "  0%|                                                    | 0/20 [00:00<?, ?it/s]"
     ]
    },
    {
     "name": "stdout",
     "output_type": "stream",
     "text": [
      "Epoch   5/ 50 -- train_loss: 2.657 -- validation_loss: 674.049\n",
      "Saving model..\n"
     ]
    },
    {
     "name": "stderr",
     "output_type": "stream",
     "text": [
      "100%|███████████████████████████████| 20/20 [00:09<00:00,  2.18it/s, loss=-1.44]\n"
     ]
    },
    {
     "name": "stdout",
     "output_type": "stream",
     "text": [
      "Epoch   6/ 50 -- train_loss: 0.360 -- validation_loss: 631.282\n",
      "Saving model..\n"
     ]
    },
    {
     "name": "stderr",
     "output_type": "stream",
     "text": [
      "100%|███████████████████████████████| 20/20 [00:09<00:00,  2.21it/s, loss=-0.11]\n"
     ]
    },
    {
     "name": "stdout",
     "output_type": "stream",
     "text": [
      "Epoch   7/ 50 -- train_loss: -1.054 -- validation_loss: 594.143\n",
      "Saving model..\n"
     ]
    },
    {
     "name": "stderr",
     "output_type": "stream",
     "text": [
      "100%|███████████████████████████████| 20/20 [00:09<00:00,  2.21it/s, loss=-0.79]\n"
     ]
    },
    {
     "name": "stdout",
     "output_type": "stream",
     "text": [
      "Epoch   8/ 50 -- train_loss: -1.787 -- validation_loss: 561.704\n",
      "Saving model..\n"
     ]
    },
    {
     "name": "stderr",
     "output_type": "stream",
     "text": [
      "100%|███████████████████████████████| 20/20 [00:09<00:00,  2.20it/s, loss=-2.61]\n",
      "  0%|                                                    | 0/20 [00:00<?, ?it/s]"
     ]
    },
    {
     "name": "stdout",
     "output_type": "stream",
     "text": [
      "Epoch   9/ 50 -- train_loss: -4.366 -- validation_loss: 533.272\n",
      "Saving model..\n"
     ]
    },
    {
     "name": "stderr",
     "output_type": "stream",
     "text": [
      "100%|███████████████████████████████| 20/20 [00:09<00:00,  2.19it/s, loss=-5.42]\n",
      "  0%|                                                    | 0/20 [00:00<?, ?it/s]"
     ]
    },
    {
     "name": "stdout",
     "output_type": "stream",
     "text": [
      "Epoch  10/ 50 -- train_loss: -4.702 -- validation_loss: 508.305\n",
      "Saving model..\n"
     ]
    },
    {
     "name": "stderr",
     "output_type": "stream",
     "text": [
      "100%|███████████████████████████████| 20/20 [00:09<00:00,  2.18it/s, loss=-9.70]\n"
     ]
    },
    {
     "name": "stdout",
     "output_type": "stream",
     "text": [
      "Epoch  11/ 50 -- train_loss: -5.435 -- validation_loss: 485.708\n",
      "Saving model..\n"
     ]
    },
    {
     "name": "stderr",
     "output_type": "stream",
     "text": [
      "100%|███████████████████████████████| 20/20 [00:09<00:00,  2.20it/s, loss=-5.54]\n"
     ]
    },
    {
     "name": "stdout",
     "output_type": "stream",
     "text": [
      "Epoch  12/ 50 -- train_loss: -5.850 -- validation_loss: 465.396\n",
      "Saving model..\n"
     ]
    },
    {
     "name": "stderr",
     "output_type": "stream",
     "text": [
      "100%|██████████████████████████████| 20/20 [00:09<00:00,  2.21it/s, loss=-11.12]\n"
     ]
    },
    {
     "name": "stdout",
     "output_type": "stream",
     "text": [
      "Epoch  13/ 50 -- train_loss: -6.036 -- validation_loss: 446.542\n",
      "Saving model..\n"
     ]
    },
    {
     "name": "stderr",
     "output_type": "stream",
     "text": [
      "100%|███████████████████████████████| 20/20 [00:09<00:00,  2.22it/s, loss=-3.68]\n"
     ]
    },
    {
     "name": "stdout",
     "output_type": "stream",
     "text": [
      "Epoch  14/ 50 -- train_loss: -7.383 -- validation_loss: 429.102\n",
      "Saving model..\n"
     ]
    },
    {
     "name": "stderr",
     "output_type": "stream",
     "text": [
      "100%|███████████████████████████████| 20/20 [00:09<00:00,  2.20it/s, loss=-7.89]\n"
     ]
    },
    {
     "name": "stdout",
     "output_type": "stream",
     "text": [
      "Epoch  15/ 50 -- train_loss: -7.727 -- validation_loss: 412.962\n",
      "Saving model..\n"
     ]
    },
    {
     "name": "stderr",
     "output_type": "stream",
     "text": [
      "100%|███████████████████████████████| 20/20 [00:09<00:00,  2.18it/s, loss=-9.73]\n"
     ]
    },
    {
     "name": "stdout",
     "output_type": "stream",
     "text": [
      "Epoch  16/ 50 -- train_loss: -8.674 -- validation_loss: 397.711\n",
      "Saving model..\n"
     ]
    },
    {
     "name": "stderr",
     "output_type": "stream",
     "text": [
      "100%|██████████████████████████████| 20/20 [00:09<00:00,  2.17it/s, loss=-10.91]\n"
     ]
    },
    {
     "name": "stdout",
     "output_type": "stream",
     "text": [
      "Epoch  17/ 50 -- train_loss: -8.861 -- validation_loss: 383.180\n",
      "Saving model..\n"
     ]
    },
    {
     "name": "stderr",
     "output_type": "stream",
     "text": [
      "100%|██████████████████████████████| 20/20 [00:09<00:00,  2.10it/s, loss=-11.24]\n"
     ]
    },
    {
     "name": "stdout",
     "output_type": "stream",
     "text": [
      "Epoch  18/ 50 -- train_loss: -9.997 -- validation_loss: 369.244\n",
      "Saving model..\n"
     ]
    },
    {
     "name": "stderr",
     "output_type": "stream",
     "text": [
      "100%|███████████████████████████████| 20/20 [00:10<00:00,  1.96it/s, loss=-5.05]\n"
     ]
    },
    {
     "name": "stdout",
     "output_type": "stream",
     "text": [
      "Epoch  19/ 50 -- train_loss: -9.528 -- validation_loss: 355.913\n",
      "Saving model..\n"
     ]
    },
    {
     "name": "stderr",
     "output_type": "stream",
     "text": [
      "100%|██████████████████████████████| 20/20 [00:10<00:00,  1.96it/s, loss=-11.25]\n",
      "  0%|                                                    | 0/20 [00:00<?, ?it/s]"
     ]
    },
    {
     "name": "stdout",
     "output_type": "stream",
     "text": [
      "Epoch  20/ 50 -- train_loss: -10.380 -- validation_loss: 342.927\n",
      "Saving model..\n"
     ]
    },
    {
     "name": "stderr",
     "output_type": "stream",
     "text": [
      "100%|███████████████████████████████| 20/20 [00:09<00:00,  2.14it/s, loss=-9.19]\n"
     ]
    },
    {
     "name": "stdout",
     "output_type": "stream",
     "text": [
      "Epoch  21/ 50 -- train_loss: -10.681 -- validation_loss: 330.620\n",
      "Saving model..\n"
     ]
    },
    {
     "name": "stderr",
     "output_type": "stream",
     "text": [
      "100%|██████████████████████████████| 20/20 [00:09<00:00,  2.13it/s, loss=-12.76]\n"
     ]
    },
    {
     "name": "stdout",
     "output_type": "stream",
     "text": [
      "Epoch  22/ 50 -- train_loss: -11.132 -- validation_loss: 318.967\n",
      "Saving model..\n"
     ]
    },
    {
     "name": "stderr",
     "output_type": "stream",
     "text": [
      "100%|███████████████████████████████| 20/20 [00:09<00:00,  2.13it/s, loss=-9.73]\n"
     ]
    },
    {
     "name": "stdout",
     "output_type": "stream",
     "text": [
      "Epoch  23/ 50 -- train_loss: -11.639 -- validation_loss: 307.589\n",
      "Saving model..\n"
     ]
    },
    {
     "name": "stderr",
     "output_type": "stream",
     "text": [
      "100%|██████████████████████████████| 20/20 [00:09<00:00,  2.09it/s, loss=-13.03]\n"
     ]
    },
    {
     "name": "stdout",
     "output_type": "stream",
     "text": [
      "Epoch  24/ 50 -- train_loss: -12.519 -- validation_loss: 296.550\n",
      "Saving model..\n"
     ]
    },
    {
     "name": "stderr",
     "output_type": "stream",
     "text": [
      "100%|██████████████████████████████| 20/20 [00:09<00:00,  2.21it/s, loss=-13.78]\n"
     ]
    },
    {
     "name": "stdout",
     "output_type": "stream",
     "text": [
      "Epoch  25/ 50 -- train_loss: -13.523 -- validation_loss: 285.730\n",
      "Saving model..\n"
     ]
    },
    {
     "name": "stderr",
     "output_type": "stream",
     "text": [
      "100%|██████████████████████████████| 20/20 [00:09<00:00,  2.16it/s, loss=-16.34]\n"
     ]
    },
    {
     "name": "stdout",
     "output_type": "stream",
     "text": [
      "Epoch  26/ 50 -- train_loss: -13.133 -- validation_loss: 275.325\n",
      "Saving model..\n"
     ]
    },
    {
     "name": "stderr",
     "output_type": "stream",
     "text": [
      "100%|███████████████████████████████| 20/20 [00:09<00:00,  2.16it/s, loss=-8.45]\n"
     ]
    },
    {
     "name": "stdout",
     "output_type": "stream",
     "text": [
      "Epoch  27/ 50 -- train_loss: -12.481 -- validation_loss: 265.422\n",
      "Saving model..\n"
     ]
    },
    {
     "name": "stderr",
     "output_type": "stream",
     "text": [
      "100%|██████████████████████████████| 20/20 [00:09<00:00,  2.02it/s, loss=-14.31]\n"
     ]
    },
    {
     "name": "stdout",
     "output_type": "stream",
     "text": [
      "Epoch  28/ 50 -- train_loss: -14.964 -- validation_loss: 255.913\n",
      "Saving model..\n"
     ]
    },
    {
     "name": "stderr",
     "output_type": "stream",
     "text": [
      "100%|██████████████████████████████| 20/20 [00:10<00:00,  1.98it/s, loss=-15.86]\n"
     ]
    },
    {
     "name": "stdout",
     "output_type": "stream",
     "text": [
      "Epoch  29/ 50 -- train_loss: -15.571 -- validation_loss: 247.147\n",
      "Saving model..\n"
     ]
    },
    {
     "name": "stderr",
     "output_type": "stream",
     "text": [
      "100%|██████████████████████████████| 20/20 [00:09<00:00,  2.22it/s, loss=-15.29]\n"
     ]
    },
    {
     "name": "stdout",
     "output_type": "stream",
     "text": [
      "Epoch  30/ 50 -- train_loss: -14.985 -- validation_loss: 238.523\n",
      "Saving model..\n"
     ]
    },
    {
     "name": "stderr",
     "output_type": "stream",
     "text": [
      "100%|██████████████████████████████| 20/20 [00:09<00:00,  2.19it/s, loss=-14.81]\n",
      "  0%|                                                    | 0/20 [00:00<?, ?it/s]"
     ]
    },
    {
     "name": "stdout",
     "output_type": "stream",
     "text": [
      "Epoch  31/ 50 -- train_loss: -14.930 -- validation_loss: 230.392\n",
      "Saving model..\n"
     ]
    },
    {
     "name": "stderr",
     "output_type": "stream",
     "text": [
      "100%|██████████████████████████████| 20/20 [00:09<00:00,  2.20it/s, loss=-15.65]\n"
     ]
    },
    {
     "name": "stdout",
     "output_type": "stream",
     "text": [
      "Epoch  32/ 50 -- train_loss: -14.650 -- validation_loss: 222.569\n",
      "Saving model..\n"
     ]
    },
    {
     "name": "stderr",
     "output_type": "stream",
     "text": [
      "100%|██████████████████████████████| 20/20 [00:09<00:00,  2.06it/s, loss=-18.05]\n"
     ]
    },
    {
     "name": "stdout",
     "output_type": "stream",
     "text": [
      "Epoch  33/ 50 -- train_loss: -15.227 -- validation_loss: 215.211\n",
      "Saving model..\n"
     ]
    },
    {
     "name": "stderr",
     "output_type": "stream",
     "text": [
      "100%|██████████████████████████████| 20/20 [00:09<00:00,  2.16it/s, loss=-15.82]\n"
     ]
    },
    {
     "name": "stdout",
     "output_type": "stream",
     "text": [
      "Epoch  34/ 50 -- train_loss: -16.456 -- validation_loss: 208.248\n",
      "Saving model..\n"
     ]
    },
    {
     "name": "stderr",
     "output_type": "stream",
     "text": [
      "100%|██████████████████████████████| 20/20 [00:09<00:00,  2.17it/s, loss=-19.89]\n"
     ]
    },
    {
     "name": "stdout",
     "output_type": "stream",
     "text": [
      "Epoch  35/ 50 -- train_loss: -16.944 -- validation_loss: 201.605\n",
      "Saving model..\n"
     ]
    },
    {
     "name": "stderr",
     "output_type": "stream",
     "text": [
      "100%|██████████████████████████████| 20/20 [00:09<00:00,  2.16it/s, loss=-15.18]\n"
     ]
    },
    {
     "name": "stdout",
     "output_type": "stream",
     "text": [
      "Epoch  36/ 50 -- train_loss: -17.617 -- validation_loss: 195.309\n",
      "Saving model..\n"
     ]
    },
    {
     "name": "stderr",
     "output_type": "stream",
     "text": [
      "100%|██████████████████████████████| 20/20 [00:09<00:00,  2.15it/s, loss=-15.69]\n",
      "  0%|                                                    | 0/20 [00:00<?, ?it/s]"
     ]
    },
    {
     "name": "stdout",
     "output_type": "stream",
     "text": [
      "Epoch  37/ 50 -- train_loss: -16.897 -- validation_loss: 189.358\n",
      "Saving model..\n"
     ]
    },
    {
     "name": "stderr",
     "output_type": "stream",
     "text": [
      "100%|██████████████████████████████| 20/20 [00:09<00:00,  2.12it/s, loss=-14.92]\n"
     ]
    },
    {
     "name": "stdout",
     "output_type": "stream",
     "text": [
      "Epoch  38/ 50 -- train_loss: -17.624 -- validation_loss: 183.745\n",
      "Saving model..\n"
     ]
    },
    {
     "name": "stderr",
     "output_type": "stream",
     "text": [
      "100%|██████████████████████████████| 20/20 [00:09<00:00,  2.14it/s, loss=-21.10]\n"
     ]
    },
    {
     "name": "stdout",
     "output_type": "stream",
     "text": [
      "Epoch  39/ 50 -- train_loss: -18.599 -- validation_loss: 178.384\n",
      "Saving model..\n"
     ]
    },
    {
     "name": "stderr",
     "output_type": "stream",
     "text": [
      "100%|██████████████████████████████| 20/20 [00:09<00:00,  2.14it/s, loss=-16.73]\n",
      "  0%|                                                    | 0/20 [00:00<?, ?it/s]"
     ]
    },
    {
     "name": "stdout",
     "output_type": "stream",
     "text": [
      "Epoch  40/ 50 -- train_loss: -17.104 -- validation_loss: 173.265\n",
      "Saving model..\n"
     ]
    },
    {
     "name": "stderr",
     "output_type": "stream",
     "text": [
      "100%|██████████████████████████████| 20/20 [00:09<00:00,  2.12it/s, loss=-20.58]\n"
     ]
    },
    {
     "name": "stdout",
     "output_type": "stream",
     "text": [
      "Epoch  41/ 50 -- train_loss: -19.038 -- validation_loss: 168.368\n",
      "Saving model..\n"
     ]
    },
    {
     "name": "stderr",
     "output_type": "stream",
     "text": [
      "100%|██████████████████████████████| 20/20 [00:10<00:00,  1.97it/s, loss=-22.06]\n"
     ]
    },
    {
     "name": "stdout",
     "output_type": "stream",
     "text": [
      "Epoch  42/ 50 -- train_loss: -19.407 -- validation_loss: 163.830\n",
      "Saving model..\n"
     ]
    },
    {
     "name": "stderr",
     "output_type": "stream",
     "text": [
      "100%|██████████████████████████████| 20/20 [00:09<00:00,  2.14it/s, loss=-19.93]\n",
      "  0%|                                                    | 0/20 [00:00<?, ?it/s]"
     ]
    },
    {
     "name": "stdout",
     "output_type": "stream",
     "text": [
      "Epoch  43/ 50 -- train_loss: -20.564 -- validation_loss: 159.564\n",
      "Saving model..\n"
     ]
    },
    {
     "name": "stderr",
     "output_type": "stream",
     "text": [
      "100%|██████████████████████████████| 20/20 [00:09<00:00,  2.16it/s, loss=-19.42]\n"
     ]
    },
    {
     "name": "stdout",
     "output_type": "stream",
     "text": [
      "Epoch  44/ 50 -- train_loss: -20.298 -- validation_loss: 155.545\n",
      "Saving model..\n"
     ]
    },
    {
     "name": "stderr",
     "output_type": "stream",
     "text": [
      "100%|██████████████████████████████| 20/20 [00:09<00:00,  2.18it/s, loss=-21.51]\n",
      "  0%|                                                    | 0/20 [00:00<?, ?it/s]"
     ]
    },
    {
     "name": "stdout",
     "output_type": "stream",
     "text": [
      "Epoch  45/ 50 -- train_loss: -20.239 -- validation_loss: 151.644\n",
      "Saving model..\n"
     ]
    },
    {
     "name": "stderr",
     "output_type": "stream",
     "text": [
      "100%|██████████████████████████████| 20/20 [00:09<00:00,  2.16it/s, loss=-19.64]\n",
      "  0%|                                                    | 0/20 [00:00<?, ?it/s]"
     ]
    },
    {
     "name": "stdout",
     "output_type": "stream",
     "text": [
      "Epoch  46/ 50 -- train_loss: -21.297 -- validation_loss: 147.952\n",
      "Saving model..\n"
     ]
    },
    {
     "name": "stderr",
     "output_type": "stream",
     "text": [
      "100%|██████████████████████████████| 20/20 [00:09<00:00,  2.01it/s, loss=-26.42]\n",
      "  0%|                                                    | 0/20 [00:00<?, ?it/s]"
     ]
    },
    {
     "name": "stdout",
     "output_type": "stream",
     "text": [
      "Epoch  47/ 50 -- train_loss: -21.350 -- validation_loss: 144.532\n",
      "Saving model..\n"
     ]
    },
    {
     "name": "stderr",
     "output_type": "stream",
     "text": [
      "100%|██████████████████████████████| 20/20 [00:09<00:00,  2.22it/s, loss=-20.19]\n",
      "  0%|                                                    | 0/20 [00:00<?, ?it/s]"
     ]
    },
    {
     "name": "stdout",
     "output_type": "stream",
     "text": [
      "Epoch  48/ 50 -- train_loss: -19.601 -- validation_loss: 141.157\n",
      "Saving model..\n"
     ]
    },
    {
     "name": "stderr",
     "output_type": "stream",
     "text": [
      "100%|██████████████████████████████| 20/20 [00:09<00:00,  2.16it/s, loss=-19.75]\n"
     ]
    },
    {
     "name": "stdout",
     "output_type": "stream",
     "text": [
      "Epoch  49/ 50 -- train_loss: -21.615 -- validation_loss: 137.985\n",
      "Saving model..\n"
     ]
    },
    {
     "name": "stderr",
     "output_type": "stream",
     "text": [
      "100%|██████████████████████████████| 20/20 [00:09<00:00,  2.16it/s, loss=-22.37]\n"
     ]
    },
    {
     "name": "stdout",
     "output_type": "stream",
     "text": [
      "Epoch  50/ 50 -- train_loss: -21.948 -- validation_loss: 134.978\n",
      "Saving model..\n",
      "###### Stop training after 50 epochs!\n",
      "Validation loss: 134.978\n",
      "Test loss:       136.031\n",
      "p_G_evaluated\n",
      "[0. 0. 0. 0. 0. 0. 0. 0. 0. 0. 0. 0. 0. 0. 0. 0. 0. 0. 0. 0. 0. 0. 0. 0.\n",
      " 0. 0. 0. 0. 0. 0. 0. 0. 0. 0. 0. 0. 0. 0. 0. 0. 0. 0. 0. 0. 0. 0. 0. 0.\n",
      " 0. 0. 0. 0. 0. 0. 0. 0. 0. 0. 0. 0. 0. 0. 0. 0. 0. 0. 0. 0. 0. 0. 0. 0.\n",
      " 0. 0. 0. 0. 0. 0. 0. 0. 0. 0. 0. 0. 0. 0. 0. 0. 0. 0. 0. 0. 0. 0. 0. 0.\n",
      " 0. 0. 0. 0. 0. 0. 0. 0. 0. 0. 0. 0. 0. 0. 0. 0. 0. 0. 0. 0. 0. 0. 0. 0.\n",
      " 0. 0. 0. 0. 0. 0. 0. 0. 0. 0. 0. 0. 0. 0. 0. 0. 0. 0. 0. 0. 0. 0. 0. 0.\n",
      " 0. 0. 0. 0. 0. 0. 0. 0. 0. 0. 0. 0. 0. 0. 0. 0. 0. 0. 0. 0. 0. 0. 0. 0.\n",
      " 0. 0. 0. 0. 0. 0. 0. 0. 0. 0. 0. 0. 0. 0. 0. 0. 0. 0. 0. 0. 0. 0. 0. 0.\n",
      " 0. 0. 0. 0. 0. 0. 0. 0.]\n",
      "p_R_evaluated\n",
      "[2.36843474e-28 9.76859324e-27 4.48281412e-09 3.47378947e-39\n",
      " 8.24606344e-18 7.05681098e-18 9.49234145e-36 1.64910242e-18\n",
      " 5.31717403e-27 1.40370813e-18 7.28889551e-13 8.74128993e-20\n",
      " 1.10169828e-27 8.05180706e-28 2.61018789e-24 4.16725797e-21\n",
      " 3.51703546e-29 7.32976096e-16 1.68347103e-17 2.58767278e-39\n",
      " 2.07708559e-28 1.02153020e-14 1.10939826e-36 4.09682246e-26\n",
      " 2.13652816e-22 2.26549848e-30 2.25408613e-14 1.79713530e-21\n",
      " 1.14398626e-20 2.15626630e-17 1.32380153e-12 1.42611657e-20\n",
      " 2.60209959e-36 1.13556040e-12 1.08647679e-28 7.66068199e-25\n",
      " 1.93094131e-17 1.05581116e-31 1.83155671e-17 3.02002616e-17\n",
      " 5.33810572e-20 1.45693191e-27 1.63124790e-38 2.21519946e-13\n",
      " 3.87228190e-22 2.42366866e-19 2.16489903e-29 9.42695314e-36\n",
      " 2.65665158e-14 2.39964893e-26 3.26143842e-20 1.10105931e-20\n",
      " 1.58079427e-23 4.00067433e-38 1.00844044e-20 4.32691999e-21\n",
      " 2.81544899e-23 2.68360834e-10 2.93715857e-14 2.09283646e-10\n",
      " 1.33387866e-20 6.03863124e-27 2.44515069e-17 9.77204516e-30\n",
      " 9.91533787e-22 3.00601559e-32 1.52562781e-21 6.15903053e-25\n",
      " 1.77068255e-23 1.68756886e-22 4.27455275e-21 7.87743040e-25\n",
      " 2.94275207e-16 5.00653731e-15 8.03702452e-11 4.44577236e-10\n",
      " 1.01096845e-25 2.17961191e-10 4.04661316e-23 9.90969667e-31\n",
      " 2.68601590e-39 1.12271300e-25 8.66772358e-24 1.39112889e-24\n",
      " 1.36209680e-29 1.43691723e-21 3.66504383e-21 1.10973174e-30\n",
      " 2.73455571e-17 1.67260773e-25 5.05477771e-24 4.31579959e-33\n",
      " 3.56977912e-21 5.09970444e-19 8.86144292e-22 4.21611053e-12\n",
      " 3.80240424e-35 3.66190872e-16 8.93393747e-23 1.03148178e-26\n",
      " 7.85451558e-30 4.07679472e-16 2.45504530e-27 2.68937319e-21\n",
      " 6.90751032e-23 5.66908842e-28 4.07172999e-30 6.19347089e-19\n",
      " 1.78688804e-21 2.04540634e-20 7.60537837e-20 4.39785876e-14\n",
      " 1.05537142e-10 5.67942918e-15 1.81669551e-15 2.68029574e-16\n",
      " 1.70870203e-34 1.92165857e-19 3.58983495e-16 9.34071283e-30\n",
      " 4.08314562e-23 1.37702674e-31 1.16515593e-30 2.37412728e-26\n",
      " 6.81546856e-27 3.43499036e-12 3.94272002e-32 7.58669172e-19\n",
      " 4.32308477e-17 7.41262223e-17 9.59701813e-21 3.98637454e-28\n",
      " 1.41629391e-11 3.47495610e-09 7.01797009e-24 6.89690260e-22\n",
      " 2.09492332e-23 1.87082638e-09 4.48952120e-32 9.64208815e-27\n",
      " 5.38094017e-19 7.05193972e-18 7.63003031e-25 2.61959914e-13\n",
      " 1.14309030e-23 1.68566630e-20 2.34875434e-16 2.56933918e-16\n",
      " 5.55589359e-22 7.73629110e-28 2.95991958e-17 7.01530844e-20\n",
      " 6.39268868e-17 9.29740950e-16 5.32912460e-23 4.71379968e-24\n",
      " 1.74698370e-32 3.95389982e-15 1.71761435e-36 6.11536049e-20\n",
      " 2.63418356e-25 1.34454281e-24 9.61119667e-36 3.42865506e-34\n",
      " 4.60376700e-22 6.63862160e-11 1.74321511e-18 7.58450043e-17\n",
      " 2.71730386e-25 9.09919990e-31 2.79010095e-14 4.06353395e-09\n",
      " 4.78568939e-26 1.67656535e-21 2.42765738e-11 2.63248590e-10\n",
      " 2.85723022e-33 3.24463129e-23 2.75517557e-30 3.34183410e-23\n",
      " 1.12620971e-16 4.12314959e-17 6.63825517e-07 1.22991970e-12\n",
      " 3.36714184e-25 1.48320862e-06 5.52733552e-14 1.28451236e-27\n",
      " 1.40307241e-31 2.26010129e-17 2.12071080e-22 6.64498154e-26\n",
      " 7.04860916e-17 1.39402474e-38 1.13941937e-17 8.30094687e-18\n",
      " 2.55949618e-25 6.38278604e-20 7.69378184e-16 5.72732515e-19]\n",
      "Synth_set\n",
      "           0         1         2         3         4         5         6  \\\n",
      "0  -0.334880  1.127201 -0.997615  1.025924 -1.322451  2.321344  0.226438   \n",
      "1   0.986371 -0.810934 -1.043111 -1.416352 -1.583404  0.522748  0.417994   \n",
      "2   0.773155  1.283359  0.067054  1.090454  1.135187 -0.157626 -1.961850   \n",
      "3   0.917705  1.073797 -1.346804  0.907725 -1.580112 -0.222966 -2.817794   \n",
      "4   0.405059  0.820013 -1.418208  1.041478  0.164376  0.986946 -1.750629   \n",
      "..       ...       ...       ...       ...       ...       ...       ...   \n",
      "95  0.567411  1.163127 -0.974684  0.774169 -1.212666  1.506242 -1.937424   \n",
      "96  0.385811  1.363088 -1.038352  0.719654 -1.596064 -0.157843 -1.660718   \n",
      "97  1.087487  1.126708 -1.147817  1.038194  0.520890 -0.019043 -2.350494   \n",
      "98 -0.111408 -0.684491 -0.870857  1.105765 -1.994318 -0.130950 -1.711696   \n",
      "99  0.362778 -0.804439 -1.133505  0.968110 -0.691876  0.953986  0.118328   \n",
      "\n",
      "           7         8         9  ...        13        14        15        16  \\\n",
      "0   0.219115 -0.111645  1.701780  ... -0.624453 -0.376126 -0.645149 -1.285341   \n",
      "1   2.828512  0.164267 -2.167340  ... -0.770890  1.743747 -1.051101  0.207872   \n",
      "2   1.425293  0.596943  0.055313  ...  0.185966 -0.188799  0.842395 -2.500688   \n",
      "3   1.775173  0.385662  0.888318  ... -0.966205 -0.704064  1.265762 -1.024138   \n",
      "4  -0.079170 -0.108082  0.387925  ...  0.888425  0.450287  1.021477 -1.046340   \n",
      "..       ...       ...       ...  ...       ...       ...       ...       ...   \n",
      "95  0.302670 -0.007546 -0.088748  ...  0.311047 -1.074913 -0.320068  1.200852   \n",
      "96  2.037325  0.429645 -2.699087  ...  0.073589 -0.730007  0.172063 -0.688553   \n",
      "97  0.116459 -1.500039  0.119544  ...  0.377476  0.398288  0.851660 -0.709125   \n",
      "98  0.715041  0.239831  0.099814  ... -0.976188 -0.563549  0.211274 -1.044465   \n",
      "99 -0.041167  0.191638 -0.078221  ... -0.698283 -1.131337  0.104528 -1.020619   \n",
      "\n",
      "          17        18        19        20        21        22  \n",
      "0   0.089766 -0.140463 -0.620881  0.194739 -0.130901 -0.490133  \n",
      "1   0.622178 -0.056720 -0.215460 -0.064196  0.337970 -0.095090  \n",
      "2   0.013813 -0.267563 -0.337543  0.413707 -0.100528 -0.241450  \n",
      "3   0.492331 -0.303087 -0.700138  0.226062 -0.063259 -0.213908  \n",
      "4   0.146046 -0.347231 -0.512067  0.311359  0.264247 -0.494735  \n",
      "..       ...       ...       ...       ...       ...       ...  \n",
      "95  0.244642 -0.123631 -0.450384  0.308318 -0.055809  0.119830  \n",
      "96  0.571092 -0.105377 -0.454594  0.030978  0.076582 -0.425012  \n",
      "97 -0.041604 -0.081389 -0.202293 -0.374171 -0.041103 -0.281651  \n",
      "98 -0.248559 -0.217071 -0.301990 -0.097862  0.778654 -0.540389  \n",
      "99 -0.075218  0.029503 -0.604858 -0.035753  0.088673 -0.503989  \n",
      "\n",
      "[100 rows x 23 columns]\n",
      "synth_set.values\n",
      "[[-0.33487963  1.12720133 -0.99761466 ...  0.19473893 -0.13090072\n",
      "  -0.49013311]\n",
      " [ 0.98637109 -0.81093398 -1.04311072 ... -0.06419597  0.3379696\n",
      "  -0.09508953]\n",
      " [ 0.77315461  1.28335906  0.06705392 ...  0.41370653 -0.10052757\n",
      "  -0.24145043]\n",
      " ...\n",
      " [ 1.08748672  1.12670807 -1.14781721 ... -0.37417101 -0.0411026\n",
      "  -0.28165091]\n",
      " [-0.11140788 -0.68449058 -0.87085673 ... -0.09786175  0.77865418\n",
      "  -0.54038906]\n",
      " [ 0.3627777  -0.8044394  -1.13350492 ... -0.03575337  0.08867331\n",
      "  -0.50398919]]\n",
      "synth_val_set.values[: int(0.5 * synthetic_size)]\n",
      "[[ 0.51124182 -0.74514981 -1.27837336 ...  0.12563695  0.18897125\n",
      "  -0.26423937]\n",
      " [ 1.043473    1.31603059  0.19763292 ...  0.28964388  0.03155635\n",
      "  -0.20903219]\n",
      " [ 0.28495795  0.96738249 -0.03460677 ... -0.0063908  -0.29482104\n",
      "  -0.02974001]\n",
      " ...\n",
      " [ 0.51017331  1.13305687  0.17923472 ... -0.19238349  0.34778159\n",
      "  -0.44345751]\n",
      " [ 1.33727007 -0.5754183  -1.03394698 ... -0.07615176 -0.61954689\n",
      "  -0.25684228]\n",
      " [ 0.80225016  1.10421918 -1.261765   ...  0.11684679 -0.16662024\n",
      "  -0.37763489]]\n",
      "Training Size 100:\n",
      "Training Epoch 200: MIA Performance = {'ablated_eq1': {'accuracy': 0.5, 'aucroc': 0.4943000000000001}, 'ablated_eq2': {'accuracy': 0.47, 'aucroc': 0.48700000000000004}, 'LOGAN_D1': {'accuracy': 0.52, 'aucroc': 0.5434}, 'MC': {'accuracy': 0.46, 'aucroc': 0.4844}, 'gan_leaks': {'accuracy': 0.46, 'aucroc': 0.47889999999999994}, 'gan_leaks_cal': {'accuracy': 0.47, 'aucroc': 0.47200000000000003}, 'LOGAN_0': {'accuracy': 0.48, 'aucroc': 0.5002}, 'eq1': {'accuracy': 0.5, 'aucroc': 0.5}, 'domias': {'accuracy': 0.5, 'aucroc': 0.5}}\n",
      "\n"
     ]
    }
   ],
   "source": [
    "def get_generator(\n",
    "    gan_method: str = \"CTGAN\",\n",
    "    epochs: int = 1000,\n",
    "    seed: int = 0,\n",
    ") -> GeneratorInterface:\n",
    "    class LocalGenerator(GeneratorInterface):\n",
    "        def __init__(self) -> None:\n",
    "            if gan_method == \"TVAE\":\n",
    "                syn_model = TVAESynthesizer(metadata, epochs=epochs)\n",
    "            elif gan_method == \"CTGAN\":\n",
    "                syn_model = CTGAN(epochs=epochs)\n",
    "            elif gan_method == \"KDE\":\n",
    "                syn_model = None\n",
    "            else:\n",
    "                raise RuntimeError()\n",
    "            self.method = gan_method\n",
    "            self.model = syn_model\n",
    "                \n",
    "\n",
    "        def fit(self, data: pd.DataFrame) -> \"LocalGenerator\":\n",
    "            if self.method == \"KDE\":\n",
    "                self.model = stats.gaussian_kde(np.transpose(data))\n",
    "            else:\n",
    "                self.model.fit(data)\n",
    "            return self\n",
    "\n",
    "        def generate(self, count: int) -> pd.DataFrame:\n",
    "            \n",
    "            if gan_method == \"KDE\":\n",
    "                samples = pd.DataFrame(self.model.resample(count).transpose(1, 0))\n",
    "            elif gan_method == \"TVAE\":\n",
    "                samples = self.model.sample(count)\n",
    "            elif gan_method == \"CTGAN\":\n",
    "                samples = self.model.generate(count)\n",
    "            else:\n",
    "                raise RuntimeError()\n",
    "\n",
    "            return samples\n",
    "            \n",
    "            #return self.model.sample(count)\n",
    "\n",
    "    return LocalGenerator()\n",
    "\n",
    "\n",
    "#Loading metadata from dataset for use in TVAESynthesizer\n",
    "dataset = get_dataset()\n",
    "df_dataset = pd.DataFrame(dataset)\n",
    "df_dataset.rename(columns={0: '0', 1: '1', 2: '2', 3: '3', 4: '4', 5: '5', 6: '6', 7: '7'}, inplace = True)\n",
    "\n",
    "from sdv.metadata import SingleTableMetadata\n",
    "\n",
    "metadata = SingleTableMetadata()\n",
    "metadata.detect_from_dataframe(data=df_dataset)\n",
    "\n",
    "\n",
    "\n",
    "\n",
    "\n",
    "\n",
    "\"\"\"\n",
    "Args:\n",
    "    generator: GeneratorInterface\n",
    "        Generator with the `fit` and `generate` methods. The generator MUST not be fitted.\n",
    "    dataset: int\n",
    "        The evaluation dataset, used to derive the training and test datasets.\n",
    "    training_size: int\n",
    "        The split for the training (member) dataset out of `dataset`\n",
    "    reference_size: int\n",
    "        The split for the reference dataset out of `dataset`.\n",
    "    training_epochs: int\n",
    "        Training epochs\n",
    "    synthetic_sizes: List[int]\n",
    "        For how many synthetic samples to test the attacks.\n",
    "\n",
    "\"\"\"\n",
    "\n",
    "\"\"\"\n",
    "CTGAN Args:\n",
    "\n",
    "embedding_dim: int = 128,\n",
    "generator_dim: Tuple = (256, 256),\n",
    "discriminator_dim: Tuple = (256, 256),\n",
    "generator_lr: float = 2e-4,\n",
    "generator_decay: float = 1e-6,\n",
    "discriminator_lr: float = 2e-4,\n",
    "discriminator_decay: float = 1e-6,\n",
    "batch_size: int = 500,\n",
    "discriminator_steps: int = 1,\n",
    "log_frequency: bool = True,\n",
    "verbose: bool = False,\n",
    "epochs: int = 300,\n",
    "pac: int = 1,\n",
    "cuda: bool = True,\n",
    "\n",
    "\n",
    "\n",
    "\"\"\"\n",
    "\n",
    "\n",
    "# mem_set_size = 1000 -> originally what training size was\n",
    "reference_set_size = 1000 #held out set\n",
    "training_epochs = [200]\n",
    "training_sizes = [100]\n",
    "#synthetic_sizes = [200]\n",
    "density_estimator = \"bnaf\"  # prior, kde, bnaf\n",
    "gen_size = 100 #same as synthetic_sizes\n",
    "\n",
    "method = \"CTGAN\"\n",
    "\n",
    "results={}\n",
    "    \n",
    "for training_size in training_sizes:\n",
    "    # Initialize the result dictionary for the current training size\n",
    "    size_results = {}\n",
    "\n",
    "    for training_epoch in training_epochs:\n",
    "        generator = get_generator(\n",
    "            gan_method=method,\n",
    "            epochs=training_epoch,\n",
    "        )\n",
    "\n",
    "        perf = evaluate_performance(\n",
    "            generator,\n",
    "            dataset,\n",
    "            training_size,\n",
    "            reference_set_size,\n",
    "            training_epochs=training_epoch,\n",
    "            synthetic_sizes=[gen_size],\n",
    "            density_estimator=density_estimator,\n",
    "        )\n",
    "\n",
    "        # Store the MIA performance for the current training size and epoch\n",
    "        size_results[training_epoch] = perf[gen_size][\"MIA_performance\"]\n",
    "\n",
    "    # Store the results for the current training size\n",
    "    results[training_size] = size_results\n",
    "\n",
    "\n",
    "# Print the results\n",
    "for training_size, size_results in results.items():\n",
    "    print(f\"Training Size {training_size}:\")\n",
    "    for training_epoch, mia_performance in size_results.items():\n",
    "        print(f\"Training Epoch {training_epoch}: MIA Performance = {mia_performance}\")\n",
    "    print()\n"
   ]
  },
  {
   "cell_type": "markdown",
   "metadata": {},
   "source": [
    "# Vanilla domias\n"
   ]
  },
  {
   "cell_type": "code",
   "execution_count": null,
   "metadata": {},
   "outputs": [],
   "source": [
    "def get_generator(\n",
    "    gan_method: str = \"CTGAN\",\n",
    "    epochs: int = 1000,\n",
    "    seed: int = 0,\n",
    ") -> GeneratorInterface:\n",
    "    class LocalGenerator(GeneratorInterface):\n",
    "        def __init__(self) -> None:\n",
    "            if gan_method == \"TVAE\":\n",
    "                syn_model = TVAESynthesizer(metadata, epochs=epochs)\n",
    "            elif gan_method == \"CTGAN\":\n",
    "                syn_model = CTGAN(epochs=epochs)\n",
    "            elif gan_method == \"KDE\":\n",
    "                syn_model = None\n",
    "            else:\n",
    "                raise RuntimeError()\n",
    "            self.method = gan_method\n",
    "            self.model = syn_model\n",
    "                \n",
    "\n",
    "        def fit(self, data: pd.DataFrame) -> \"LocalGenerator\":\n",
    "            if self.method == \"KDE\":\n",
    "                self.model = stats.gaussian_kde(np.transpose(data))\n",
    "            else:\n",
    "                self.model.fit(data)\n",
    "            return self\n",
    "\n",
    "        def generate(self, count: int) -> pd.DataFrame:\n",
    "            \n",
    "            if gan_method == \"KDE\":\n",
    "                samples = pd.DataFrame(self.model.resample(count).transpose(1, 0))\n",
    "            elif gan_method == \"TVAE\":\n",
    "                samples = self.model.sample(count)\n",
    "            elif gan_method == \"CTGAN\":\n",
    "                samples = self.model.generate(count)\n",
    "            else:\n",
    "                raise RuntimeError()\n",
    "\n",
    "            return samples\n",
    "            \n",
    "            #return self.model.sample(count)\n",
    "\n",
    "    return LocalGenerator()\n",
    "\n",
    "\n",
    "#Loading metadata from dataset for use in TVAESynthesizer\n",
    "dataset = get_dataset()\n",
    "df_dataset = pd.DataFrame(dataset)\n",
    "df_dataset.rename(columns={0: '0', 1: '1', 2: '2', 3: '3', 4: '4', 5: '5', 6: '6', 7: '7'}, inplace = True)\n",
    "\n",
    "from sdv.metadata import SingleTableMetadata\n",
    "\n",
    "metadata = SingleTableMetadata()\n",
    "metadata.detect_from_dataframe(data=df_dataset)\n",
    "\n",
    "\n",
    "\n",
    "\n",
    "\n",
    "\n",
    "\"\"\"\n",
    "Args:\n",
    "    generator: GeneratorInterface\n",
    "        Generator with the `fit` and `generate` methods. The generator MUST not be fitted.\n",
    "    dataset: int\n",
    "        The evaluation dataset, used to derive the training and test datasets.\n",
    "    training_size: int\n",
    "        The split for the training (member) dataset out of `dataset`\n",
    "    reference_size: int\n",
    "        The split for the reference dataset out of `dataset`.\n",
    "    training_epochs: int\n",
    "        Training epochs\n",
    "    synthetic_sizes: List[int]\n",
    "        For how many synthetic samples to test the attacks.\n",
    "\n",
    "\"\"\"\n",
    "\n",
    "\"\"\"\n",
    "CTGAN Args:\n",
    "\n",
    "embedding_dim: int = 128,\n",
    "generator_dim: Tuple = (256, 256),\n",
    "discriminator_dim: Tuple = (256, 256),\n",
    "generator_lr: float = 2e-4,\n",
    "generator_decay: float = 1e-6,\n",
    "discriminator_lr: float = 2e-4,\n",
    "discriminator_decay: float = 1e-6,\n",
    "batch_size: int = 500,\n",
    "discriminator_steps: int = 1,\n",
    "log_frequency: bool = True,\n",
    "verbose: bool = False,\n",
    "epochs: int = 300,\n",
    "pac: int = 1,\n",
    "cuda: bool = True,\n",
    "\n",
    "\n",
    "\n",
    "\"\"\"\n",
    "\n",
    "\n",
    "# mem_set_size = 1000 -> originally what training size was\n",
    "reference_set_size = 1000 #held out set\n",
    "training_epochs = [200]\n",
    "training_sizes = [100]\n",
    "#synthetic_sizes = [200]\n",
    "density_estimator = \"bnaf\"  # prior, kde, bnaf\n",
    "gen_size = 100 #same as synthetic_sizes\n",
    "\n",
    "method = \"CTGAN\"\n",
    "\n",
    "results={}\n",
    "    \n",
    "for training_size in training_sizes:\n",
    "    # Initialize the result dictionary for the current training size\n",
    "    size_results = {}\n",
    "\n",
    "    for training_epoch in training_epochs:\n",
    "        generator = get_generator(\n",
    "            gan_method=method,\n",
    "            epochs=training_epoch,\n",
    "        )\n",
    "\n",
    "        perf = evaluate_performance(\n",
    "            generator,\n",
    "            dataset,\n",
    "            training_size,\n",
    "            reference_set_size,\n",
    "            training_epochs=training_epoch,\n",
    "            synthetic_sizes=[gen_size],\n",
    "            density_estimator=density_estimator,\n",
    "        )\n",
    "\n",
    "        # Store the MIA performance for the current training size and epoch\n",
    "        size_results[training_epoch] = perf[gen_size][\"MIA_performance\"]\n",
    "\n",
    "    # Store the results for the current training size\n",
    "    results[training_size] = size_results\n",
    "\n",
    "\n",
    "# Print the results\n",
    "for training_size, size_results in results.items():\n",
    "    print(f\"Training Size {training_size}:\")\n",
    "    for training_epoch, mia_performance in size_results.items():\n",
    "        print(f\"Training Epoch {training_epoch}: MIA Performance = {mia_performance}\")\n",
    "    print()\n"
   ]
  },
  {
   "cell_type": "code",
   "execution_count": 11,
   "metadata": {},
   "outputs": [
    {
     "data": {
      "text/html": [
       "<div>\n",
       "<style scoped>\n",
       "    .dataframe tbody tr th:only-of-type {\n",
       "        vertical-align: middle;\n",
       "    }\n",
       "\n",
       "    .dataframe tbody tr th {\n",
       "        vertical-align: top;\n",
       "    }\n",
       "\n",
       "    .dataframe thead th {\n",
       "        text-align: right;\n",
       "    }\n",
       "</style>\n",
       "<table border=\"1\" class=\"dataframe\">\n",
       "  <thead>\n",
       "    <tr style=\"text-align: right;\">\n",
       "      <th></th>\n",
       "      <th>iteration</th>\n",
       "      <th>epoch</th>\n",
       "      <th>src</th>\n",
       "      <th>accuracy</th>\n",
       "    </tr>\n",
       "  </thead>\n",
       "  <tbody>\n",
       "    <tr>\n",
       "      <th>0</th>\n",
       "      <td>1</td>\n",
       "      <td>100</td>\n",
       "      <td>ablated_eq1</td>\n",
       "      <td>0.5011</td>\n",
       "    </tr>\n",
       "    <tr>\n",
       "      <th>0</th>\n",
       "      <td>1</td>\n",
       "      <td>100</td>\n",
       "      <td>ablated_eq2</td>\n",
       "      <td>0.4991</td>\n",
       "    </tr>\n",
       "    <tr>\n",
       "      <th>0</th>\n",
       "      <td>1</td>\n",
       "      <td>100</td>\n",
       "      <td>LOGAN_D1</td>\n",
       "      <td>0.5073</td>\n",
       "    </tr>\n",
       "    <tr>\n",
       "      <th>0</th>\n",
       "      <td>1</td>\n",
       "      <td>100</td>\n",
       "      <td>MC</td>\n",
       "      <td>0.4994</td>\n",
       "    </tr>\n",
       "    <tr>\n",
       "      <th>0</th>\n",
       "      <td>1</td>\n",
       "      <td>100</td>\n",
       "      <td>gan_leaks</td>\n",
       "      <td>0.4994</td>\n",
       "    </tr>\n",
       "    <tr>\n",
       "      <th>...</th>\n",
       "      <td>...</td>\n",
       "      <td>...</td>\n",
       "      <td>...</td>\n",
       "      <td>...</td>\n",
       "    </tr>\n",
       "    <tr>\n",
       "      <th>0</th>\n",
       "      <td>3</td>\n",
       "      <td>3000</td>\n",
       "      <td>gan_leaks</td>\n",
       "      <td>0.5019</td>\n",
       "    </tr>\n",
       "    <tr>\n",
       "      <th>0</th>\n",
       "      <td>3</td>\n",
       "      <td>3000</td>\n",
       "      <td>gan_leaks_cal</td>\n",
       "      <td>0.5040</td>\n",
       "    </tr>\n",
       "    <tr>\n",
       "      <th>0</th>\n",
       "      <td>3</td>\n",
       "      <td>3000</td>\n",
       "      <td>LOGAN_0</td>\n",
       "      <td>0.4979</td>\n",
       "    </tr>\n",
       "    <tr>\n",
       "      <th>0</th>\n",
       "      <td>3</td>\n",
       "      <td>3000</td>\n",
       "      <td>eq1</td>\n",
       "      <td>0.5000</td>\n",
       "    </tr>\n",
       "    <tr>\n",
       "      <th>0</th>\n",
       "      <td>3</td>\n",
       "      <td>3000</td>\n",
       "      <td>domias</td>\n",
       "      <td>0.5000</td>\n",
       "    </tr>\n",
       "  </tbody>\n",
       "</table>\n",
       "<p>135 rows × 4 columns</p>\n",
       "</div>"
      ],
      "text/plain": [
       "   iteration epoch            src  accuracy\n",
       "0          1   100    ablated_eq1    0.5011\n",
       "0          1   100    ablated_eq2    0.4991\n",
       "0          1   100       LOGAN_D1    0.5073\n",
       "0          1   100             MC    0.4994\n",
       "0          1   100      gan_leaks    0.4994\n",
       "..       ...   ...            ...       ...\n",
       "0          3  3000      gan_leaks    0.5019\n",
       "0          3  3000  gan_leaks_cal    0.5040\n",
       "0          3  3000        LOGAN_0    0.4979\n",
       "0          3  3000            eq1    0.5000\n",
       "0          3  3000         domias    0.5000\n",
       "\n",
       "[135 rows x 4 columns]"
      ]
     },
     "execution_count": 11,
     "metadata": {},
     "output_type": "execute_result"
    }
   ],
   "source": [
    "output = pd.DataFrame([], columns=[\"iteration\", \"epoch\", \"src\", \"accuracy\"])\n",
    "\n",
    "for iteration in range(1, num_iterations + 1):\n",
    "    for training_epoch in training_epochs:\n",
    "        epoch_res = results[iteration][training_size][training_epoch]\n",
    "        perf = epoch_res  # Assuming perf is the correct value for accuracy\n",
    "\n",
    "        for key in perf:\n",
    "            output = pd.concat(\n",
    "                [\n",
    "                    output,\n",
    "                    pd.DataFrame(\n",
    "                        [\n",
    "                            [iteration, training_epoch, key, perf[key][\"accuracy\"]],\n",
    "                        ],\n",
    "                        columns=[\"iteration\", \"epoch\", \"src\", \"accuracy\"],\n",
    "                    ),\n",
    "                ]\n",
    "            )\n",
    "output"
   ]
  },
  {
   "cell_type": "code",
   "execution_count": 14,
   "metadata": {},
   "outputs": [
    {
     "data": {
      "image/png": "[encoded data removed]",
      "text/plain": [
       "<Figure size 432x288 with 1 Axes>"
      ]
     },
     "metadata": {
      "needs_background": "light"
     },
     "output_type": "display_data"
    }
   ],
   "source": [
    "import seaborn as sns\n",
    "for iteration in range(1, num_iterations + 1):\n",
    "    sns.lineplot(data=output, x=\"epoch\", y=\"accuracy\", hue=\"src\", legend=False)"
   ]
  },
  {
   "cell_type": "markdown",
   "metadata": {},
   "source": [
    "# Trial BNAF with TVAE"
   ]
  },
  {
   "cell_type": "code",
   "execution_count": 13,
   "metadata": {},
   "outputs": [
    {
     "name": "stderr",
     "output_type": "stream",
     "text": [
      "\r",
      "  0%|                                                     | 0/2 [00:00<?, ?it/s]"
     ]
    },
    {
     "name": "stdout",
     "output_type": "stream",
     "text": [
      "Loading dataset..\n",
      "Creating directory experiment..\n",
      "Creating BNAF model..\n",
      "Creating optimizer..\n",
      "Creating scheduler..\n",
      "Training..\n"
     ]
    },
    {
     "name": "stderr",
     "output_type": "stream",
     "text": [
      "100%|████████████████████████████████| 2/2 [00:00<00:00,  2.57it/s, loss=127.68]\n",
      "  0%|                                                     | 0/2 [00:00<?, ?it/s]"
     ]
    },
    {
     "name": "stdout",
     "output_type": "stream",
     "text": [
      "Epoch   1/ 50 -- train_loss: 141.431 -- validation_loss: 985.645\n",
      "Saving model..\n"
     ]
    },
    {
     "name": "stderr",
     "output_type": "stream",
     "text": [
      "100%|████████████████████████████████| 2/2 [00:00<00:00,  2.66it/s, loss=106.06]\n",
      "  0%|                                                     | 0/2 [00:00<?, ?it/s]"
     ]
    },
    {
     "name": "stdout",
     "output_type": "stream",
     "text": [
      "Epoch   2/ 50 -- train_loss: 108.477 -- validation_loss: 977.466\n",
      "Saving model..\n"
     ]
    },
    {
     "name": "stderr",
     "output_type": "stream",
     "text": [
      "100%|█████████████████████████████████| 2/2 [00:00<00:00,  2.72it/s, loss=90.87]\n",
      "  0%|                                                     | 0/2 [00:00<?, ?it/s]"
     ]
    },
    {
     "name": "stdout",
     "output_type": "stream",
     "text": [
      "Epoch   3/ 50 -- train_loss: 91.856 -- validation_loss: 969.009\n",
      "Saving model..\n"
     ]
    },
    {
     "name": "stderr",
     "output_type": "stream",
     "text": [
      "100%|█████████████████████████████████| 2/2 [00:00<00:00,  2.75it/s, loss=75.61]\n",
      "  0%|                                                     | 0/2 [00:00<?, ?it/s]"
     ]
    },
    {
     "name": "stdout",
     "output_type": "stream",
     "text": [
      "Epoch   4/ 50 -- train_loss: 77.351 -- validation_loss: 960.346\n",
      "Saving model..\n"
     ]
    },
    {
     "name": "stderr",
     "output_type": "stream",
     "text": [
      "100%|█████████████████████████████████| 2/2 [00:00<00:00,  2.72it/s, loss=59.28]\n",
      "  0%|                                                     | 0/2 [00:00<?, ?it/s]"
     ]
    },
    {
     "name": "stdout",
     "output_type": "stream",
     "text": [
      "Epoch   5/ 50 -- train_loss: 61.961 -- validation_loss: 951.800\n",
      "Saving model..\n"
     ]
    },
    {
     "name": "stderr",
     "output_type": "stream",
     "text": [
      "100%|█████████████████████████████████| 2/2 [00:00<00:00,  2.70it/s, loss=48.60]\n",
      "  0%|                                                     | 0/2 [00:00<?, ?it/s]"
     ]
    },
    {
     "name": "stdout",
     "output_type": "stream",
     "text": [
      "Epoch   6/ 50 -- train_loss: 49.623 -- validation_loss: 943.220\n",
      "Saving model..\n"
     ]
    },
    {
     "name": "stderr",
     "output_type": "stream",
     "text": [
      "100%|█████████████████████████████████| 2/2 [00:00<00:00,  2.70it/s, loss=35.97]\n",
      "  0%|                                                     | 0/2 [00:00<?, ?it/s]"
     ]
    },
    {
     "name": "stdout",
     "output_type": "stream",
     "text": [
      "Epoch   7/ 50 -- train_loss: 38.260 -- validation_loss: 934.483\n",
      "Saving model..\n"
     ]
    },
    {
     "name": "stderr",
     "output_type": "stream",
     "text": [
      "100%|█████████████████████████████████| 2/2 [00:00<00:00,  2.68it/s, loss=30.58]\n",
      "  0%|                                                     | 0/2 [00:00<?, ?it/s]"
     ]
    },
    {
     "name": "stdout",
     "output_type": "stream",
     "text": [
      "Epoch   8/ 50 -- train_loss: 32.451 -- validation_loss: 925.738\n",
      "Saving model..\n"
     ]
    },
    {
     "name": "stderr",
     "output_type": "stream",
     "text": [
      "100%|█████████████████████████████████| 2/2 [00:00<00:00,  2.44it/s, loss=26.03]\n"
     ]
    },
    {
     "name": "stdout",
     "output_type": "stream",
     "text": [
      "Epoch   9/ 50 -- train_loss: 26.598 -- validation_loss: 917.062\n",
      "Saving model..\n"
     ]
    },
    {
     "name": "stderr",
     "output_type": "stream",
     "text": [
      "100%|█████████████████████████████████| 2/2 [00:00<00:00,  2.77it/s, loss=22.29]\n"
     ]
    },
    {
     "name": "stdout",
     "output_type": "stream",
     "text": [
      "Epoch  10/ 50 -- train_loss: 22.208 -- validation_loss: 908.475\n",
      "Saving model..\n"
     ]
    },
    {
     "name": "stderr",
     "output_type": "stream",
     "text": [
      "100%|█████████████████████████████████| 2/2 [00:00<00:00,  2.72it/s, loss=20.05]\n",
      "  0%|                                                     | 0/2 [00:00<?, ?it/s]"
     ]
    },
    {
     "name": "stdout",
     "output_type": "stream",
     "text": [
      "Epoch  11/ 50 -- train_loss: 18.305 -- validation_loss: 899.907\n",
      "Saving model..\n"
     ]
    },
    {
     "name": "stderr",
     "output_type": "stream",
     "text": [
      "100%|█████████████████████████████████| 2/2 [00:00<00:00,  2.75it/s, loss=17.22]\n",
      "  0%|                                                     | 0/2 [00:00<?, ?it/s]"
     ]
    },
    {
     "name": "stdout",
     "output_type": "stream",
     "text": [
      "Epoch  12/ 50 -- train_loss: 16.945 -- validation_loss: 891.371\n",
      "Saving model..\n"
     ]
    },
    {
     "name": "stderr",
     "output_type": "stream",
     "text": [
      "100%|█████████████████████████████████| 2/2 [00:00<00:00,  2.78it/s, loss=12.31]\n",
      "  0%|                                                     | 0/2 [00:00<?, ?it/s]"
     ]
    },
    {
     "name": "stdout",
     "output_type": "stream",
     "text": [
      "Epoch  13/ 50 -- train_loss: 14.571 -- validation_loss: 882.854\n",
      "Saving model..\n"
     ]
    },
    {
     "name": "stderr",
     "output_type": "stream",
     "text": [
      "100%|█████████████████████████████████| 2/2 [00:00<00:00,  2.74it/s, loss=13.73]\n",
      "  0%|                                                     | 0/2 [00:00<?, ?it/s]"
     ]
    },
    {
     "name": "stdout",
     "output_type": "stream",
     "text": [
      "Epoch  14/ 50 -- train_loss: 12.787 -- validation_loss: 874.305\n",
      "Saving model..\n"
     ]
    },
    {
     "name": "stderr",
     "output_type": "stream",
     "text": [
      "100%|█████████████████████████████████| 2/2 [00:00<00:00,  2.77it/s, loss=11.90]\n",
      "  0%|                                                     | 0/2 [00:00<?, ?it/s]"
     ]
    },
    {
     "name": "stdout",
     "output_type": "stream",
     "text": [
      "Epoch  15/ 50 -- train_loss: 11.175 -- validation_loss: 866.095\n",
      "Saving model..\n"
     ]
    },
    {
     "name": "stderr",
     "output_type": "stream",
     "text": [
      "100%|██████████████████████████████████| 2/2 [00:00<00:00,  2.73it/s, loss=8.94]\n",
      "  0%|                                                     | 0/2 [00:00<?, ?it/s]"
     ]
    },
    {
     "name": "stdout",
     "output_type": "stream",
     "text": [
      "Epoch  16/ 50 -- train_loss: 9.275 -- validation_loss: 858.009\n",
      "Saving model..\n"
     ]
    },
    {
     "name": "stderr",
     "output_type": "stream",
     "text": [
      "100%|██████████████████████████████████| 2/2 [00:00<00:00,  2.68it/s, loss=6.48]\n",
      "  0%|                                                     | 0/2 [00:00<?, ?it/s]"
     ]
    },
    {
     "name": "stdout",
     "output_type": "stream",
     "text": [
      "Epoch  17/ 50 -- train_loss: 7.720 -- validation_loss: 849.960\n",
      "Saving model..\n"
     ]
    },
    {
     "name": "stderr",
     "output_type": "stream",
     "text": [
      "100%|██████████████████████████████████| 2/2 [00:00<00:00,  2.68it/s, loss=6.30]\n",
      "  0%|                                                     | 0/2 [00:00<?, ?it/s]"
     ]
    },
    {
     "name": "stdout",
     "output_type": "stream",
     "text": [
      "Epoch  18/ 50 -- train_loss: 6.314 -- validation_loss: 841.975\n",
      "Saving model..\n"
     ]
    },
    {
     "name": "stderr",
     "output_type": "stream",
     "text": [
      "100%|██████████████████████████████████| 2/2 [00:00<00:00,  2.70it/s, loss=3.81]\n",
      "  0%|                                                     | 0/2 [00:00<?, ?it/s]"
     ]
    },
    {
     "name": "stdout",
     "output_type": "stream",
     "text": [
      "Epoch  19/ 50 -- train_loss: 4.733 -- validation_loss: 834.018\n",
      "Saving model..\n"
     ]
    },
    {
     "name": "stderr",
     "output_type": "stream",
     "text": [
      "100%|██████████████████████████████████| 2/2 [00:00<00:00,  2.64it/s, loss=4.38]\n",
      "  0%|                                                     | 0/2 [00:00<?, ?it/s]"
     ]
    },
    {
     "name": "stdout",
     "output_type": "stream",
     "text": [
      "Epoch  20/ 50 -- train_loss: 3.818 -- validation_loss: 826.489\n",
      "Saving model..\n"
     ]
    },
    {
     "name": "stderr",
     "output_type": "stream",
     "text": [
      "100%|██████████████████████████████████| 2/2 [00:00<00:00,  2.63it/s, loss=2.80]\n",
      "  0%|                                                     | 0/2 [00:00<?, ?it/s]"
     ]
    },
    {
     "name": "stdout",
     "output_type": "stream",
     "text": [
      "Epoch  21/ 50 -- train_loss: 2.632 -- validation_loss: 819.024\n",
      "Saving model..\n"
     ]
    },
    {
     "name": "stderr",
     "output_type": "stream",
     "text": [
      "100%|██████████████████████████████████| 2/2 [00:00<00:00,  2.64it/s, loss=1.91]\n",
      "  0%|                                                     | 0/2 [00:00<?, ?it/s]"
     ]
    },
    {
     "name": "stdout",
     "output_type": "stream",
     "text": [
      "Epoch  22/ 50 -- train_loss: 1.620 -- validation_loss: 811.655\n",
      "Saving model..\n"
     ]
    },
    {
     "name": "stderr",
     "output_type": "stream",
     "text": [
      "100%|██████████████████████████████████| 2/2 [00:00<00:00,  2.62it/s, loss=0.93]\n",
      "  0%|                                                     | 0/2 [00:00<?, ?it/s]"
     ]
    },
    {
     "name": "stdout",
     "output_type": "stream",
     "text": [
      "Epoch  23/ 50 -- train_loss: 0.832 -- validation_loss: 804.376\n",
      "Saving model..\n"
     ]
    },
    {
     "name": "stderr",
     "output_type": "stream",
     "text": [
      "100%|██████████████████████████████████| 2/2 [00:00<00:00,  2.59it/s, loss=2.37]\n",
      "  0%|                                                     | 0/2 [00:00<?, ?it/s]"
     ]
    },
    {
     "name": "stdout",
     "output_type": "stream",
     "text": [
      "Epoch  24/ 50 -- train_loss: 0.639 -- validation_loss: 797.178\n",
      "Saving model..\n"
     ]
    },
    {
     "name": "stderr",
     "output_type": "stream",
     "text": [
      "100%|██████████████████████████████████| 2/2 [00:00<00:00,  2.60it/s, loss=0.32]\n",
      "  0%|                                                     | 0/2 [00:00<?, ?it/s]"
     ]
    },
    {
     "name": "stdout",
     "output_type": "stream",
     "text": [
      "Epoch  25/ 50 -- train_loss: 0.343 -- validation_loss: 790.049\n",
      "Saving model..\n"
     ]
    },
    {
     "name": "stderr",
     "output_type": "stream",
     "text": [
      "100%|█████████████████████████████████| 2/2 [00:00<00:00,  2.65it/s, loss=-0.81]\n"
     ]
    },
    {
     "name": "stdout",
     "output_type": "stream",
     "text": [
      "Epoch  26/ 50 -- train_loss: -0.820 -- validation_loss: 782.974\n",
      "Saving model..\n"
     ]
    },
    {
     "name": "stderr",
     "output_type": "stream",
     "text": [
      "100%|█████████████████████████████████| 2/2 [00:00<00:00,  2.61it/s, loss=-1.14]\n",
      "  0%|                                                     | 0/2 [00:00<?, ?it/s]"
     ]
    },
    {
     "name": "stdout",
     "output_type": "stream",
     "text": [
      "Epoch  27/ 50 -- train_loss: -1.451 -- validation_loss: 776.047\n",
      "Saving model..\n"
     ]
    },
    {
     "name": "stderr",
     "output_type": "stream",
     "text": [
      "100%|█████████████████████████████████| 2/2 [00:00<00:00,  2.74it/s, loss=-2.01]\n"
     ]
    },
    {
     "name": "stdout",
     "output_type": "stream",
     "text": [
      "Epoch  28/ 50 -- train_loss: -0.819 -- validation_loss: 769.302\n",
      "Saving model..\n"
     ]
    },
    {
     "name": "stderr",
     "output_type": "stream",
     "text": [
      "100%|█████████████████████████████████| 2/2 [00:00<00:00,  2.61it/s, loss=-1.87]\n",
      "  0%|                                                     | 0/2 [00:00<?, ?it/s]"
     ]
    },
    {
     "name": "stdout",
     "output_type": "stream",
     "text": [
      "Epoch  29/ 50 -- train_loss: -1.511 -- validation_loss: 762.631\n",
      "Saving model..\n"
     ]
    },
    {
     "name": "stderr",
     "output_type": "stream",
     "text": [
      "100%|█████████████████████████████████| 2/2 [00:00<00:00,  2.78it/s, loss=-3.10]\n"
     ]
    },
    {
     "name": "stdout",
     "output_type": "stream",
     "text": [
      "Epoch  30/ 50 -- train_loss: -2.145 -- validation_loss: 756.179\n",
      "Saving model..\n"
     ]
    },
    {
     "name": "stderr",
     "output_type": "stream",
     "text": [
      "100%|█████████████████████████████████| 2/2 [00:00<00:00,  2.72it/s, loss=-2.40]\n",
      "  0%|                                                     | 0/2 [00:00<?, ?it/s]"
     ]
    },
    {
     "name": "stdout",
     "output_type": "stream",
     "text": [
      "Epoch  31/ 50 -- train_loss: -2.641 -- validation_loss: 749.719\n",
      "Saving model..\n"
     ]
    },
    {
     "name": "stderr",
     "output_type": "stream",
     "text": [
      "100%|█████████████████████████████████| 2/2 [00:00<00:00,  2.73it/s, loss=-3.61]\n",
      "  0%|                                                     | 0/2 [00:00<?, ?it/s]"
     ]
    },
    {
     "name": "stdout",
     "output_type": "stream",
     "text": [
      "Epoch  32/ 50 -- train_loss: -3.548 -- validation_loss: 743.321\n",
      "Saving model..\n"
     ]
    },
    {
     "name": "stderr",
     "output_type": "stream",
     "text": [
      "100%|█████████████████████████████████| 2/2 [00:00<00:00,  2.67it/s, loss=-4.48]\n",
      "  0%|                                                     | 0/2 [00:00<?, ?it/s]"
     ]
    },
    {
     "name": "stdout",
     "output_type": "stream",
     "text": [
      "Epoch  33/ 50 -- train_loss: -3.621 -- validation_loss: 736.998\n",
      "Saving model..\n"
     ]
    },
    {
     "name": "stderr",
     "output_type": "stream",
     "text": [
      "100%|█████████████████████████████████| 2/2 [00:00<00:00,  2.71it/s, loss=-4.76]\n",
      "  0%|                                                     | 0/2 [00:00<?, ?it/s]"
     ]
    },
    {
     "name": "stdout",
     "output_type": "stream",
     "text": [
      "Epoch  34/ 50 -- train_loss: -4.032 -- validation_loss: 730.760\n",
      "Saving model..\n"
     ]
    },
    {
     "name": "stderr",
     "output_type": "stream",
     "text": [
      "100%|█████████████████████████████████| 2/2 [00:00<00:00,  2.64it/s, loss=-4.24]\n",
      "  0%|                                                     | 0/2 [00:00<?, ?it/s]"
     ]
    },
    {
     "name": "stdout",
     "output_type": "stream",
     "text": [
      "Epoch  35/ 50 -- train_loss: -4.727 -- validation_loss: 724.586\n",
      "Saving model..\n"
     ]
    },
    {
     "name": "stderr",
     "output_type": "stream",
     "text": [
      "100%|█████████████████████████████████| 2/2 [00:00<00:00,  2.68it/s, loss=-4.57]\n",
      "  0%|                                                     | 0/2 [00:00<?, ?it/s]"
     ]
    },
    {
     "name": "stdout",
     "output_type": "stream",
     "text": [
      "Epoch  36/ 50 -- train_loss: -4.915 -- validation_loss: 718.635\n",
      "Saving model..\n"
     ]
    },
    {
     "name": "stderr",
     "output_type": "stream",
     "text": [
      "100%|█████████████████████████████████| 2/2 [00:00<00:00,  2.66it/s, loss=-5.86]\n",
      "  0%|                                                     | 0/2 [00:00<?, ?it/s]"
     ]
    },
    {
     "name": "stdout",
     "output_type": "stream",
     "text": [
      "Epoch  37/ 50 -- train_loss: -5.233 -- validation_loss: 712.683\n",
      "Saving model..\n"
     ]
    },
    {
     "name": "stderr",
     "output_type": "stream",
     "text": [
      "100%|█████████████████████████████████| 2/2 [00:00<00:00,  2.61it/s, loss=-5.51]\n",
      "  0%|                                                     | 0/2 [00:00<?, ?it/s]"
     ]
    },
    {
     "name": "stdout",
     "output_type": "stream",
     "text": [
      "Epoch  38/ 50 -- train_loss: -5.351 -- validation_loss: 706.812\n",
      "Saving model..\n"
     ]
    },
    {
     "name": "stderr",
     "output_type": "stream",
     "text": [
      "100%|█████████████████████████████████| 2/2 [00:00<00:00,  2.60it/s, loss=-7.10]\n",
      "  0%|                                                     | 0/2 [00:00<?, ?it/s]"
     ]
    },
    {
     "name": "stdout",
     "output_type": "stream",
     "text": [
      "Epoch  39/ 50 -- train_loss: -6.114 -- validation_loss: 701.088\n",
      "Saving model..\n"
     ]
    },
    {
     "name": "stderr",
     "output_type": "stream",
     "text": [
      "100%|█████████████████████████████████| 2/2 [00:00<00:00,  2.64it/s, loss=-2.58]\n",
      "  0%|                                                     | 0/2 [00:00<?, ?it/s]"
     ]
    },
    {
     "name": "stdout",
     "output_type": "stream",
     "text": [
      "Epoch  40/ 50 -- train_loss: -4.060 -- validation_loss: 695.456\n",
      "Saving model..\n"
     ]
    },
    {
     "name": "stderr",
     "output_type": "stream",
     "text": [
      "100%|█████████████████████████████████| 2/2 [00:00<00:00,  2.58it/s, loss=-5.98]\n",
      "  0%|                                                     | 0/2 [00:00<?, ?it/s]"
     ]
    },
    {
     "name": "stdout",
     "output_type": "stream",
     "text": [
      "Epoch  41/ 50 -- train_loss: -5.532 -- validation_loss: 689.891\n",
      "Saving model..\n"
     ]
    },
    {
     "name": "stderr",
     "output_type": "stream",
     "text": [
      "100%|█████████████████████████████████| 2/2 [00:00<00:00,  2.62it/s, loss=-5.01]\n",
      "  0%|                                                     | 0/2 [00:00<?, ?it/s]"
     ]
    },
    {
     "name": "stdout",
     "output_type": "stream",
     "text": [
      "Epoch  42/ 50 -- train_loss: -5.515 -- validation_loss: 684.293\n",
      "Saving model..\n"
     ]
    },
    {
     "name": "stderr",
     "output_type": "stream",
     "text": [
      "100%|█████████████████████████████████| 2/2 [00:00<00:00,  2.64it/s, loss=-5.56]\n"
     ]
    },
    {
     "name": "stdout",
     "output_type": "stream",
     "text": [
      "Epoch  43/ 50 -- train_loss: -5.347 -- validation_loss: 678.869\n",
      "Saving model..\n"
     ]
    },
    {
     "name": "stderr",
     "output_type": "stream",
     "text": [
      "100%|█████████████████████████████████| 2/2 [00:00<00:00,  2.77it/s, loss=-6.16]\n",
      "  0%|                                                     | 0/2 [00:00<?, ?it/s]"
     ]
    },
    {
     "name": "stdout",
     "output_type": "stream",
     "text": [
      "Epoch  44/ 50 -- train_loss: -4.940 -- validation_loss: 673.513\n",
      "Saving model..\n"
     ]
    },
    {
     "name": "stderr",
     "output_type": "stream",
     "text": [
      "100%|█████████████████████████████████| 2/2 [00:00<00:00,  2.75it/s, loss=-5.16]\n",
      "  0%|                                                     | 0/2 [00:00<?, ?it/s]"
     ]
    },
    {
     "name": "stdout",
     "output_type": "stream",
     "text": [
      "Epoch  45/ 50 -- train_loss: -5.787 -- validation_loss: 668.218\n",
      "Saving model..\n"
     ]
    },
    {
     "name": "stderr",
     "output_type": "stream",
     "text": [
      "100%|█████████████████████████████████| 2/2 [00:00<00:00,  2.71it/s, loss=-4.79]\n"
     ]
    },
    {
     "name": "stdout",
     "output_type": "stream",
     "text": [
      "Epoch  46/ 50 -- train_loss: -6.235 -- validation_loss: 663.085\n",
      "Saving model..\n"
     ]
    },
    {
     "name": "stderr",
     "output_type": "stream",
     "text": [
      "100%|█████████████████████████████████| 2/2 [00:00<00:00,  2.75it/s, loss=-6.63]\n",
      "  0%|                                                     | 0/2 [00:00<?, ?it/s]"
     ]
    },
    {
     "name": "stdout",
     "output_type": "stream",
     "text": [
      "Epoch  47/ 50 -- train_loss: -6.106 -- validation_loss: 658.015\n",
      "Saving model..\n"
     ]
    },
    {
     "name": "stderr",
     "output_type": "stream",
     "text": [
      "100%|█████████████████████████████████| 2/2 [00:00<00:00,  2.72it/s, loss=-6.18]\n"
     ]
    },
    {
     "name": "stdout",
     "output_type": "stream",
     "text": [
      "Epoch  48/ 50 -- train_loss: -7.066 -- validation_loss: 653.045\n",
      "Saving model..\n"
     ]
    },
    {
     "name": "stderr",
     "output_type": "stream",
     "text": [
      "100%|█████████████████████████████████| 2/2 [00:00<00:00,  2.69it/s, loss=-6.50]\n",
      "  0%|                                                     | 0/2 [00:00<?, ?it/s]"
     ]
    },
    {
     "name": "stdout",
     "output_type": "stream",
     "text": [
      "Epoch  49/ 50 -- train_loss: -5.564 -- validation_loss: 648.097\n",
      "Saving model..\n"
     ]
    },
    {
     "name": "stderr",
     "output_type": "stream",
     "text": [
      "100%|█████████████████████████████████| 2/2 [00:00<00:00,  2.62it/s, loss=-5.24]\n"
     ]
    },
    {
     "name": "stdout",
     "output_type": "stream",
     "text": [
      "Epoch  50/ 50 -- train_loss: -6.270 -- validation_loss: 643.284\n",
      "Saving model..\n"
     ]
    },
    {
     "name": "stderr",
     "output_type": "stream",
     "text": [
      "\r",
      "  0%|                                                    | 0/20 [00:00<?, ?it/s]"
     ]
    },
    {
     "name": "stdout",
     "output_type": "stream",
     "text": [
      "###### Stop training after 50 epochs!\n",
      "Validation loss: 643.284\n",
      "Test loss:       641.581\n",
      "Loading dataset..\n",
      "No validation set passed\n",
      "No test set passed\n",
      "Creating directory experiment..\n",
      "Creating BNAF model..\n",
      "Creating optimizer..\n",
      "Creating scheduler..\n",
      "Training..\n"
     ]
    },
    {
     "name": "stderr",
     "output_type": "stream",
     "text": [
      "100%|███████████████████████████████| 20/20 [00:07<00:00,  2.62it/s, loss=35.74]\n"
     ]
    },
    {
     "name": "stdout",
     "output_type": "stream",
     "text": [
      "Epoch   1/ 50 -- train_loss: 82.150 -- validation_loss: 921.297\n",
      "Saving model..\n"
     ]
    },
    {
     "name": "stderr",
     "output_type": "stream",
     "text": [
      "100%|███████████████████████████████| 20/20 [00:07<00:00,  2.65it/s, loss=12.92]\n",
      "  0%|                                                    | 0/20 [00:00<?, ?it/s]"
     ]
    },
    {
     "name": "stdout",
     "output_type": "stream",
     "text": [
      "Epoch   2/ 50 -- train_loss: 21.901 -- validation_loss: 845.551\n",
      "Saving model..\n"
     ]
    },
    {
     "name": "stderr",
     "output_type": "stream",
     "text": [
      "100%|████████████████████████████████| 20/20 [00:07<00:00,  2.64it/s, loss=6.81]\n",
      "  0%|                                                    | 0/20 [00:00<?, ?it/s]"
     ]
    },
    {
     "name": "stdout",
     "output_type": "stream",
     "text": [
      "Epoch   3/ 50 -- train_loss: 9.647 -- validation_loss: 778.745\n",
      "Saving model..\n"
     ]
    },
    {
     "name": "stderr",
     "output_type": "stream",
     "text": [
      "100%|████████████████████████████████| 20/20 [00:07<00:00,  2.65it/s, loss=2.51]\n",
      "  0%|                                                    | 0/20 [00:00<?, ?it/s]"
     ]
    },
    {
     "name": "stdout",
     "output_type": "stream",
     "text": [
      "Epoch   4/ 50 -- train_loss: 3.395 -- validation_loss: 721.616\n",
      "Saving model..\n"
     ]
    },
    {
     "name": "stderr",
     "output_type": "stream",
     "text": [
      "100%|███████████████████████████████| 20/20 [00:07<00:00,  2.65it/s, loss=-2.40]\n"
     ]
    },
    {
     "name": "stdout",
     "output_type": "stream",
     "text": [
      "Epoch   5/ 50 -- train_loss: -0.848 -- validation_loss: 672.341\n",
      "Saving model..\n"
     ]
    },
    {
     "name": "stderr",
     "output_type": "stream",
     "text": [
      "100%|███████████████████████████████| 20/20 [00:07<00:00,  2.64it/s, loss=-3.22]\n",
      "  0%|                                                    | 0/20 [00:00<?, ?it/s]"
     ]
    },
    {
     "name": "stdout",
     "output_type": "stream",
     "text": [
      "Epoch   6/ 50 -- train_loss: -3.687 -- validation_loss: 630.107\n",
      "Saving model..\n"
     ]
    },
    {
     "name": "stderr",
     "output_type": "stream",
     "text": [
      "100%|███████████████████████████████| 20/20 [00:07<00:00,  2.65it/s, loss=-3.99]\n",
      "  0%|                                                    | 0/20 [00:00<?, ?it/s]"
     ]
    },
    {
     "name": "stdout",
     "output_type": "stream",
     "text": [
      "Epoch   7/ 50 -- train_loss: -5.748 -- validation_loss: 593.438\n",
      "Saving model..\n"
     ]
    },
    {
     "name": "stderr",
     "output_type": "stream",
     "text": [
      "100%|███████████████████████████████| 20/20 [00:07<00:00,  2.67it/s, loss=-9.81]\n",
      "  0%|                                                    | 0/20 [00:00<?, ?it/s]"
     ]
    },
    {
     "name": "stdout",
     "output_type": "stream",
     "text": [
      "Epoch   8/ 50 -- train_loss: -8.274 -- validation_loss: 561.494\n",
      "Saving model..\n"
     ]
    },
    {
     "name": "stderr",
     "output_type": "stream",
     "text": [
      "100%|███████████████████████████████| 20/20 [00:07<00:00,  2.66it/s, loss=-9.24]\n",
      "  0%|                                                    | 0/20 [00:00<?, ?it/s]"
     ]
    },
    {
     "name": "stdout",
     "output_type": "stream",
     "text": [
      "Epoch   9/ 50 -- train_loss: -9.103 -- validation_loss: 533.263\n",
      "Saving model..\n"
     ]
    },
    {
     "name": "stderr",
     "output_type": "stream",
     "text": [
      "100%|██████████████████████████████| 20/20 [00:07<00:00,  2.66it/s, loss=-10.61]\n",
      "  0%|                                                    | 0/20 [00:00<?, ?it/s]"
     ]
    },
    {
     "name": "stdout",
     "output_type": "stream",
     "text": [
      "Epoch  10/ 50 -- train_loss: -10.416 -- validation_loss: 508.193\n",
      "Saving model..\n"
     ]
    },
    {
     "name": "stderr",
     "output_type": "stream",
     "text": [
      "100%|██████████████████████████████| 20/20 [00:07<00:00,  2.66it/s, loss=-12.83]\n",
      "  0%|                                                    | 0/20 [00:00<?, ?it/s]"
     ]
    },
    {
     "name": "stdout",
     "output_type": "stream",
     "text": [
      "Epoch  11/ 50 -- train_loss: -11.191 -- validation_loss: 485.598\n",
      "Saving model..\n"
     ]
    },
    {
     "name": "stderr",
     "output_type": "stream",
     "text": [
      "100%|██████████████████████████████| 20/20 [00:07<00:00,  2.65it/s, loss=-12.43]\n",
      "  0%|                                                    | 0/20 [00:00<?, ?it/s]"
     ]
    },
    {
     "name": "stdout",
     "output_type": "stream",
     "text": [
      "Epoch  12/ 50 -- train_loss: -12.904 -- validation_loss: 465.117\n",
      "Saving model..\n"
     ]
    },
    {
     "name": "stderr",
     "output_type": "stream",
     "text": [
      "100%|██████████████████████████████| 20/20 [00:07<00:00,  2.66it/s, loss=-15.17]\n"
     ]
    },
    {
     "name": "stdout",
     "output_type": "stream",
     "text": [
      "Epoch  13/ 50 -- train_loss: -13.670 -- validation_loss: 446.407\n",
      "Saving model..\n"
     ]
    },
    {
     "name": "stderr",
     "output_type": "stream",
     "text": [
      "100%|██████████████████████████████| 20/20 [00:07<00:00,  2.65it/s, loss=-16.25]\n",
      "  0%|                                                    | 0/20 [00:00<?, ?it/s]"
     ]
    },
    {
     "name": "stdout",
     "output_type": "stream",
     "text": [
      "Epoch  14/ 50 -- train_loss: -13.616 -- validation_loss: 428.921\n",
      "Saving model..\n"
     ]
    },
    {
     "name": "stderr",
     "output_type": "stream",
     "text": [
      "100%|██████████████████████████████| 20/20 [00:07<00:00,  2.66it/s, loss=-15.06]\n",
      "  0%|                                                    | 0/20 [00:00<?, ?it/s]"
     ]
    },
    {
     "name": "stdout",
     "output_type": "stream",
     "text": [
      "Epoch  15/ 50 -- train_loss: -14.172 -- validation_loss: 412.556\n",
      "Saving model..\n"
     ]
    },
    {
     "name": "stderr",
     "output_type": "stream",
     "text": [
      "100%|██████████████████████████████| 20/20 [00:07<00:00,  2.64it/s, loss=-12.99]\n",
      "  0%|                                                    | 0/20 [00:00<?, ?it/s]"
     ]
    },
    {
     "name": "stdout",
     "output_type": "stream",
     "text": [
      "Epoch  16/ 50 -- train_loss: -15.144 -- validation_loss: 397.113\n",
      "Saving model..\n"
     ]
    },
    {
     "name": "stderr",
     "output_type": "stream",
     "text": [
      "100%|██████████████████████████████| 20/20 [00:07<00:00,  2.66it/s, loss=-14.70]\n",
      "  0%|                                                    | 0/20 [00:00<?, ?it/s]"
     ]
    },
    {
     "name": "stdout",
     "output_type": "stream",
     "text": [
      "Epoch  17/ 50 -- train_loss: -16.037 -- validation_loss: 382.452\n",
      "Saving model..\n"
     ]
    },
    {
     "name": "stderr",
     "output_type": "stream",
     "text": [
      "100%|██████████████████████████████| 20/20 [00:07<00:00,  2.65it/s, loss=-18.74]\n",
      "  0%|                                                    | 0/20 [00:00<?, ?it/s]"
     ]
    },
    {
     "name": "stdout",
     "output_type": "stream",
     "text": [
      "Epoch  18/ 50 -- train_loss: -15.844 -- validation_loss: 368.436\n",
      "Saving model..\n"
     ]
    },
    {
     "name": "stderr",
     "output_type": "stream",
     "text": [
      "100%|██████████████████████████████| 20/20 [00:07<00:00,  2.66it/s, loss=-15.08]\n",
      "  0%|                                                    | 0/20 [00:00<?, ?it/s]"
     ]
    },
    {
     "name": "stdout",
     "output_type": "stream",
     "text": [
      "Epoch  19/ 50 -- train_loss: -17.229 -- validation_loss: 354.854\n",
      "Saving model..\n"
     ]
    },
    {
     "name": "stderr",
     "output_type": "stream",
     "text": [
      "100%|██████████████████████████████| 20/20 [00:07<00:00,  2.65it/s, loss=-15.30]\n",
      "  0%|                                                    | 0/20 [00:00<?, ?it/s]"
     ]
    },
    {
     "name": "stdout",
     "output_type": "stream",
     "text": [
      "Epoch  20/ 50 -- train_loss: -16.465 -- validation_loss: 341.881\n",
      "Saving model..\n"
     ]
    },
    {
     "name": "stderr",
     "output_type": "stream",
     "text": [
      "100%|██████████████████████████████| 20/20 [00:07<00:00,  2.63it/s, loss=-16.76]\n",
      "  0%|                                                    | 0/20 [00:00<?, ?it/s]"
     ]
    },
    {
     "name": "stdout",
     "output_type": "stream",
     "text": [
      "Epoch  21/ 50 -- train_loss: -17.710 -- validation_loss: 329.380\n",
      "Saving model..\n"
     ]
    },
    {
     "name": "stderr",
     "output_type": "stream",
     "text": [
      "100%|██████████████████████████████| 20/20 [00:08<00:00,  2.44it/s, loss=-14.38]\n",
      "  0%|                                                    | 0/20 [00:00<?, ?it/s]"
     ]
    },
    {
     "name": "stdout",
     "output_type": "stream",
     "text": [
      "Epoch  22/ 50 -- train_loss: -16.973 -- validation_loss: 317.552\n",
      "Saving model..\n"
     ]
    },
    {
     "name": "stderr",
     "output_type": "stream",
     "text": [
      "100%|██████████████████████████████| 20/20 [00:07<00:00,  2.70it/s, loss=-18.25]\n",
      "  0%|                                                    | 0/20 [00:00<?, ?it/s]"
     ]
    },
    {
     "name": "stdout",
     "output_type": "stream",
     "text": [
      "Epoch  23/ 50 -- train_loss: -18.082 -- validation_loss: 305.839\n",
      "Saving model..\n"
     ]
    },
    {
     "name": "stderr",
     "output_type": "stream",
     "text": [
      "100%|██████████████████████████████| 20/20 [00:07<00:00,  2.63it/s, loss=-19.98]\n",
      "  0%|                                                    | 0/20 [00:00<?, ?it/s]"
     ]
    },
    {
     "name": "stdout",
     "output_type": "stream",
     "text": [
      "Epoch  24/ 50 -- train_loss: -18.891 -- validation_loss: 294.882\n",
      "Saving model..\n"
     ]
    },
    {
     "name": "stderr",
     "output_type": "stream",
     "text": [
      "100%|██████████████████████████████| 20/20 [00:07<00:00,  2.58it/s, loss=-19.03]\n"
     ]
    },
    {
     "name": "stdout",
     "output_type": "stream",
     "text": [
      "Epoch  25/ 50 -- train_loss: -19.266 -- validation_loss: 284.138\n",
      "Saving model..\n"
     ]
    },
    {
     "name": "stderr",
     "output_type": "stream",
     "text": [
      "100%|██████████████████████████████| 20/20 [00:07<00:00,  2.60it/s, loss=-19.10]\n",
      "  0%|                                                    | 0/20 [00:00<?, ?it/s]"
     ]
    },
    {
     "name": "stdout",
     "output_type": "stream",
     "text": [
      "Epoch  26/ 50 -- train_loss: -19.501 -- validation_loss: 274.007\n",
      "Saving model..\n"
     ]
    },
    {
     "name": "stderr",
     "output_type": "stream",
     "text": [
      "100%|██████████████████████████████| 20/20 [00:07<00:00,  2.57it/s, loss=-24.36]\n"
     ]
    },
    {
     "name": "stdout",
     "output_type": "stream",
     "text": [
      "Epoch  27/ 50 -- train_loss: -20.480 -- validation_loss: 264.251\n",
      "Saving model..\n"
     ]
    },
    {
     "name": "stderr",
     "output_type": "stream",
     "text": [
      "100%|██████████████████████████████| 20/20 [00:07<00:00,  2.56it/s, loss=-19.26]\n",
      "  0%|                                                    | 0/20 [00:00<?, ?it/s]"
     ]
    },
    {
     "name": "stdout",
     "output_type": "stream",
     "text": [
      "Epoch  28/ 50 -- train_loss: -18.848 -- validation_loss: 254.954\n",
      "Saving model..\n"
     ]
    },
    {
     "name": "stderr",
     "output_type": "stream",
     "text": [
      "100%|██████████████████████████████| 20/20 [00:07<00:00,  2.58it/s, loss=-17.95]\n",
      "  0%|                                                    | 0/20 [00:00<?, ?it/s]"
     ]
    },
    {
     "name": "stdout",
     "output_type": "stream",
     "text": [
      "Epoch  29/ 50 -- train_loss: -19.843 -- validation_loss: 246.049\n",
      "Saving model..\n"
     ]
    },
    {
     "name": "stderr",
     "output_type": "stream",
     "text": [
      "100%|██████████████████████████████| 20/20 [00:07<00:00,  2.62it/s, loss=-17.40]\n"
     ]
    },
    {
     "name": "stdout",
     "output_type": "stream",
     "text": [
      "Epoch  30/ 50 -- train_loss: -21.006 -- validation_loss: 237.583\n",
      "Saving model..\n"
     ]
    },
    {
     "name": "stderr",
     "output_type": "stream",
     "text": [
      "100%|██████████████████████████████| 20/20 [00:07<00:00,  2.58it/s, loss=-18.23]\n",
      "  0%|                                                    | 0/20 [00:00<?, ?it/s]"
     ]
    },
    {
     "name": "stdout",
     "output_type": "stream",
     "text": [
      "Epoch  31/ 50 -- train_loss: -20.989 -- validation_loss: 229.395\n",
      "Saving model..\n"
     ]
    },
    {
     "name": "stderr",
     "output_type": "stream",
     "text": [
      "100%|██████████████████████████████| 20/20 [00:07<00:00,  2.59it/s, loss=-21.10]\n",
      "  0%|                                                    | 0/20 [00:00<?, ?it/s]"
     ]
    },
    {
     "name": "stdout",
     "output_type": "stream",
     "text": [
      "Epoch  32/ 50 -- train_loss: -21.347 -- validation_loss: 221.520\n",
      "Saving model..\n"
     ]
    },
    {
     "name": "stderr",
     "output_type": "stream",
     "text": [
      "100%|██████████████████████████████| 20/20 [00:07<00:00,  2.60it/s, loss=-21.59]\n",
      "  0%|                                                    | 0/20 [00:00<?, ?it/s]"
     ]
    },
    {
     "name": "stdout",
     "output_type": "stream",
     "text": [
      "Epoch  33/ 50 -- train_loss: -20.609 -- validation_loss: 214.074\n",
      "Saving model..\n"
     ]
    },
    {
     "name": "stderr",
     "output_type": "stream",
     "text": [
      "100%|██████████████████████████████| 20/20 [00:07<00:00,  2.60it/s, loss=-16.13]\n",
      "  0%|                                                    | 0/20 [00:00<?, ?it/s]"
     ]
    },
    {
     "name": "stdout",
     "output_type": "stream",
     "text": [
      "Epoch  34/ 50 -- train_loss: -21.823 -- validation_loss: 207.019\n",
      "Saving model..\n"
     ]
    },
    {
     "name": "stderr",
     "output_type": "stream",
     "text": [
      "100%|██████████████████████████████| 20/20 [00:07<00:00,  2.69it/s, loss=-23.04]\n",
      "  0%|                                                    | 0/20 [00:00<?, ?it/s]"
     ]
    },
    {
     "name": "stdout",
     "output_type": "stream",
     "text": [
      "Epoch  35/ 50 -- train_loss: -20.684 -- validation_loss: 200.317\n",
      "Saving model..\n"
     ]
    },
    {
     "name": "stderr",
     "output_type": "stream",
     "text": [
      "100%|██████████████████████████████| 20/20 [00:07<00:00,  2.60it/s, loss=-22.77]\n",
      "  0%|                                                    | 0/20 [00:00<?, ?it/s]"
     ]
    },
    {
     "name": "stdout",
     "output_type": "stream",
     "text": [
      "Epoch  36/ 50 -- train_loss: -21.654 -- validation_loss: 193.956\n",
      "Saving model..\n"
     ]
    },
    {
     "name": "stderr",
     "output_type": "stream",
     "text": [
      "100%|██████████████████████████████| 20/20 [00:07<00:00,  2.56it/s, loss=-20.45]\n"
     ]
    },
    {
     "name": "stdout",
     "output_type": "stream",
     "text": [
      "Epoch  37/ 50 -- train_loss: -21.740 -- validation_loss: 187.993\n",
      "Saving model..\n"
     ]
    },
    {
     "name": "stderr",
     "output_type": "stream",
     "text": [
      "100%|██████████████████████████████| 20/20 [00:07<00:00,  2.61it/s, loss=-21.15]\n",
      "  0%|                                                    | 0/20 [00:00<?, ?it/s]"
     ]
    },
    {
     "name": "stdout",
     "output_type": "stream",
     "text": [
      "Epoch  38/ 50 -- train_loss: -22.099 -- validation_loss: 182.230\n",
      "Saving model..\n"
     ]
    },
    {
     "name": "stderr",
     "output_type": "stream",
     "text": [
      "100%|██████████████████████████████| 20/20 [00:07<00:00,  2.60it/s, loss=-24.12]\n",
      "  0%|                                                    | 0/20 [00:00<?, ?it/s]"
     ]
    },
    {
     "name": "stdout",
     "output_type": "stream",
     "text": [
      "Epoch  39/ 50 -- train_loss: -22.922 -- validation_loss: 176.882\n",
      "Saving model..\n"
     ]
    },
    {
     "name": "stderr",
     "output_type": "stream",
     "text": [
      "100%|██████████████████████████████| 20/20 [00:07<00:00,  2.60it/s, loss=-22.96]\n",
      "  0%|                                                    | 0/20 [00:00<?, ?it/s]"
     ]
    },
    {
     "name": "stdout",
     "output_type": "stream",
     "text": [
      "Epoch  40/ 50 -- train_loss: -22.796 -- validation_loss: 171.803\n",
      "Saving model..\n"
     ]
    },
    {
     "name": "stderr",
     "output_type": "stream",
     "text": [
      "100%|██████████████████████████████| 20/20 [00:08<00:00,  2.42it/s, loss=-19.56]\n",
      "  0%|                                                    | 0/20 [00:00<?, ?it/s]"
     ]
    },
    {
     "name": "stdout",
     "output_type": "stream",
     "text": [
      "Epoch  41/ 50 -- train_loss: -23.618 -- validation_loss: 166.992\n",
      "Saving model..\n"
     ]
    },
    {
     "name": "stderr",
     "output_type": "stream",
     "text": [
      "100%|██████████████████████████████| 20/20 [00:07<00:00,  2.58it/s, loss=-25.01]\n",
      "  0%|                                                    | 0/20 [00:00<?, ?it/s]"
     ]
    },
    {
     "name": "stdout",
     "output_type": "stream",
     "text": [
      "Epoch  42/ 50 -- train_loss: -23.120 -- validation_loss: 162.424\n",
      "Saving model..\n"
     ]
    },
    {
     "name": "stderr",
     "output_type": "stream",
     "text": [
      "100%|██████████████████████████████| 20/20 [00:07<00:00,  2.59it/s, loss=-25.87]\n",
      "  0%|                                                    | 0/20 [00:00<?, ?it/s]"
     ]
    },
    {
     "name": "stdout",
     "output_type": "stream",
     "text": [
      "Epoch  43/ 50 -- train_loss: -23.787 -- validation_loss: 158.102\n",
      "Saving model..\n"
     ]
    },
    {
     "name": "stderr",
     "output_type": "stream",
     "text": [
      "100%|██████████████████████████████| 20/20 [00:07<00:00,  2.61it/s, loss=-24.38]\n"
     ]
    },
    {
     "name": "stdout",
     "output_type": "stream",
     "text": [
      "Epoch  44/ 50 -- train_loss: -22.859 -- validation_loss: 154.004\n",
      "Saving model..\n"
     ]
    },
    {
     "name": "stderr",
     "output_type": "stream",
     "text": [
      "100%|██████████████████████████████| 20/20 [00:07<00:00,  2.61it/s, loss=-26.61]\n",
      "  0%|                                                    | 0/20 [00:00<?, ?it/s]"
     ]
    },
    {
     "name": "stdout",
     "output_type": "stream",
     "text": [
      "Epoch  45/ 50 -- train_loss: -23.690 -- validation_loss: 150.114\n",
      "Saving model..\n"
     ]
    },
    {
     "name": "stderr",
     "output_type": "stream",
     "text": [
      "100%|██████████████████████████████| 20/20 [00:07<00:00,  2.60it/s, loss=-23.56]\n",
      "  0%|                                                    | 0/20 [00:00<?, ?it/s]"
     ]
    },
    {
     "name": "stdout",
     "output_type": "stream",
     "text": [
      "Epoch  46/ 50 -- train_loss: -24.942 -- validation_loss: 146.475\n",
      "Saving model..\n"
     ]
    },
    {
     "name": "stderr",
     "output_type": "stream",
     "text": [
      "100%|██████████████████████████████| 20/20 [00:07<00:00,  2.61it/s, loss=-23.96]\n"
     ]
    },
    {
     "name": "stdout",
     "output_type": "stream",
     "text": [
      "Epoch  47/ 50 -- train_loss: -23.836 -- validation_loss: 143.007\n",
      "Saving model..\n"
     ]
    },
    {
     "name": "stderr",
     "output_type": "stream",
     "text": [
      "100%|██████████████████████████████| 20/20 [00:07<00:00,  2.60it/s, loss=-25.90]\n",
      "  0%|                                                    | 0/20 [00:00<?, ?it/s]"
     ]
    },
    {
     "name": "stdout",
     "output_type": "stream",
     "text": [
      "Epoch  48/ 50 -- train_loss: -24.648 -- validation_loss: 139.768\n",
      "Saving model..\n"
     ]
    },
    {
     "name": "stderr",
     "output_type": "stream",
     "text": [
      "100%|██████████████████████████████| 20/20 [00:07<00:00,  2.60it/s, loss=-21.08]\n",
      "  0%|                                                    | 0/20 [00:00<?, ?it/s]"
     ]
    },
    {
     "name": "stdout",
     "output_type": "stream",
     "text": [
      "Epoch  49/ 50 -- train_loss: -24.193 -- validation_loss: 136.689\n",
      "Saving model..\n"
     ]
    },
    {
     "name": "stderr",
     "output_type": "stream",
     "text": [
      "100%|██████████████████████████████| 20/20 [00:07<00:00,  2.61it/s, loss=-25.28]\n"
     ]
    },
    {
     "name": "stdout",
     "output_type": "stream",
     "text": [
      "Epoch  50/ 50 -- train_loss: -25.110 -- validation_loss: 133.824\n",
      "Saving model..\n",
      "###### Stop training after 50 epochs!\n",
      "Validation loss: 133.824\n",
      "Test loss:       133.144\n",
      "Training Size 100:\n",
      "Training Epoch 200: MIA Performance = {'ablated_eq1': {'accuracy': 0.47, 'aucroc': 0.43299999999999994}, 'ablated_eq2': {'accuracy': 0.47, 'aucroc': 0.43199999999999994}, 'LOGAN_D1': {'accuracy': 0.5, 'aucroc': 0.5527}, 'MC': {'accuracy': 0.47, 'aucroc': 0.46625}, 'gan_leaks': {'accuracy': 0.47, 'aucroc': 0.4557}, 'gan_leaks_cal': {'accuracy': 0.49, 'aucroc': 0.4884}, 'LOGAN_0': {'accuracy': 0.51, 'aucroc': 0.4812}, 'eq1': {'accuracy': 0.5, 'aucroc': 0.5}, 'domias': {'accuracy': 0.5, 'aucroc': 0.5}}\n",
      "\n"
     ]
    }
   ],
   "source": [
    "def get_generator(\n",
    "    gan_method: str = \"CTGAN\",\n",
    "    epochs: int = 1000,\n",
    "    seed: int = 0,\n",
    ") -> GeneratorInterface:\n",
    "    class LocalGenerator(GeneratorInterface):\n",
    "        def __init__(self) -> None:\n",
    "            if gan_method == \"TVAE\":\n",
    "                syn_model = TVAESynthesizer(metadata, epochs=epochs)\n",
    "            elif gan_method == \"CTGAN\":\n",
    "                syn_model = CTGAN(epochs=epochs)\n",
    "            elif gan_method == \"KDE\":\n",
    "                syn_model = None\n",
    "            else:\n",
    "                raise RuntimeError()\n",
    "            self.method = gan_method\n",
    "            self.model = syn_model\n",
    "                \n",
    "\n",
    "        def fit(self, data: pd.DataFrame) -> \"LocalGenerator\":\n",
    "            if self.method == \"KDE\":\n",
    "                self.model = stats.gaussian_kde(np.transpose(data))\n",
    "            else:\n",
    "                self.model.fit(data)\n",
    "            return self\n",
    "\n",
    "        def generate(self, count: int) -> pd.DataFrame:\n",
    "            \n",
    "            if gan_method == \"KDE\":\n",
    "                samples = pd.DataFrame(self.model.resample(count).transpose(1, 0))\n",
    "            elif gan_method == \"TVAE\":\n",
    "                samples = self.model.sample(count)\n",
    "            elif gan_method == \"CTGAN\":\n",
    "                samples = self.model.generate(count)\n",
    "            else:\n",
    "                raise RuntimeError()\n",
    "\n",
    "            return samples\n",
    "            \n",
    "            #return self.model.sample(count)\n",
    "\n",
    "    return LocalGenerator()\n",
    "\n",
    "\n",
    "#Loading metadata from dataset for use in TVAESynthesizer\n",
    "dataset = get_dataset()\n",
    "df_dataset = pd.DataFrame(dataset)\n",
    "for i, col in enumerate(df_dataset.columns):\n",
    "    df_dataset.rename(columns={col: f'{i}'}, inplace=True)\n",
    "df_dataset\n",
    "    \n",
    "\n",
    "    \n",
    "    \n",
    "from sdv.metadata import SingleTableMetadata\n",
    "\n",
    "metadata = SingleTableMetadata()\n",
    "metadata.detect_from_dataframe(data=df_dataset)\n",
    "\n",
    "\n",
    "\n",
    "\n",
    "\n",
    "\n",
    "\"\"\"\n",
    "Args:\n",
    "    generator: GeneratorInterface\n",
    "        Generator with the `fit` and `generate` methods. The generator MUST not be fitted.\n",
    "    dataset: int\n",
    "        The evaluation dataset, used to derive the training and test datasets.\n",
    "    training_size: int\n",
    "        The split for the training (member) dataset out of `dataset`\n",
    "    reference_size: int\n",
    "        The split for the reference dataset out of `dataset`.\n",
    "    training_epochs: int\n",
    "        Training epochs\n",
    "    synthetic_sizes: List[int]\n",
    "        For how many synthetic samples to test the attacks.\n",
    "\n",
    "\"\"\"\n",
    "\n",
    "\"\"\"\n",
    "CTGAN Args:\n",
    "\n",
    "embedding_dim: int = 128,\n",
    "generator_dim: Tuple = (256, 256),\n",
    "discriminator_dim: Tuple = (256, 256),\n",
    "generator_lr: float = 2e-4,\n",
    "generator_decay: float = 1e-6,\n",
    "discriminator_lr: float = 2e-4,\n",
    "discriminator_decay: float = 1e-6,\n",
    "batch_size: int = 500,\n",
    "discriminator_steps: int = 1,\n",
    "log_frequency: bool = True,\n",
    "verbose: bool = False,\n",
    "epochs: int = 300,\n",
    "pac: int = 1,\n",
    "cuda: bool = True,\n",
    "\n",
    "\n",
    "\n",
    "\"\"\"\n",
    "\n",
    "\n",
    "# mem_set_size = 1000 -> originally what training size was\n",
    "reference_set_size = 1000 #held out set\n",
    "training_epochs = [200]\n",
    "training_sizes = [100]\n",
    "#synthetic_sizes = [200]\n",
    "density_estimator = \"bnaf\"  # prior, kde, bnaf\n",
    "gen_size = 100 #same as synthetic_sizes\n",
    "\n",
    "method = \"TVAE\"\n",
    "\n",
    "results={}\n",
    "    \n",
    "for training_size in training_sizes:\n",
    "    # Initialize the result dictionary for the current training size\n",
    "    size_results = {}\n",
    "\n",
    "    for training_epoch in training_epochs:\n",
    "        generator = get_generator(\n",
    "            gan_method=method,\n",
    "            epochs=training_epoch,\n",
    "        )\n",
    "\n",
    "        perf = evaluate_performance(\n",
    "            generator,\n",
    "            dataset,\n",
    "            training_size,\n",
    "            reference_set_size,\n",
    "            training_epochs=training_epoch,\n",
    "            synthetic_sizes=[gen_size],\n",
    "            density_estimator=density_estimator,\n",
    "        )\n",
    "\n",
    "        # Store the MIA performance for the current training size and epoch\n",
    "        size_results[training_epoch] = perf[gen_size][\"MIA_performance\"]\n",
    "\n",
    "    # Store the results for the current training size\n",
    "    results[training_size] = size_results\n",
    "\n",
    "\n",
    "# Print the results\n",
    "for training_size, size_results in results.items():\n",
    "    print(f\"Training Size {training_size}:\")\n",
    "    for training_epoch, mia_performance in size_results.items():\n",
    "        print(f\"Training Epoch {training_epoch}: MIA Performance = {mia_performance}\")\n",
    "    print()\n"
   ]
  },
  {
   "cell_type": "markdown",
   "metadata": {},
   "source": [
    "# Trial BNAF with california sample dataset\n",
    "\n",
    "    \n",
    "\n",
    "    "
   ]
  },
  {
   "cell_type": "code",
   "execution_count": 17,
   "metadata": {},
   "outputs": [],
   "source": [
    "def get_dataset() -> np.ndarray:\n",
    "    def data_loader() -> np.ndarray:\n",
    "        scaler = StandardScaler()\n",
    "        X = fetch_california_housing().data\n",
    "        np.random.shuffle(X)\n",
    "        return scaler.fit_transform(X)\n",
    "\n",
    "    return data_loader()"
   ]
  },
  {
   "cell_type": "code",
   "execution_count": 18,
   "metadata": {},
   "outputs": [
    {
     "name": "stderr",
     "output_type": "stream",
     "text": [
      " 50%|████████████████▌                | 1/2 [00:00<00:00,  8.85it/s, loss=77.95]"
     ]
    },
    {
     "name": "stdout",
     "output_type": "stream",
     "text": [
      "Loading dataset..\n",
      "Creating directory experiment..\n",
      "Creating BNAF model..\n",
      "Creating optimizer..\n",
      "Creating scheduler..\n",
      "Training..\n"
     ]
    },
    {
     "name": "stderr",
     "output_type": "stream",
     "text": [
      "100%|█████████████████████████████████| 2/2 [00:00<00:00,  9.06it/s, loss=74.77]\n",
      " 50%|████████████████▌                | 1/2 [00:00<00:00,  9.97it/s, loss=70.47]"
     ]
    },
    {
     "name": "stdout",
     "output_type": "stream",
     "text": [
      "Epoch   1/ 50 -- train_loss: 76.359 -- validation_loss: 339.022\n",
      "Saving model..\n"
     ]
    },
    {
     "name": "stderr",
     "output_type": "stream",
     "text": [
      "100%|█████████████████████████████████| 2/2 [00:00<00:00,  9.35it/s, loss=65.06]\n",
      " 50%|████████████████▌                | 1/2 [00:00<00:00,  9.72it/s, loss=59.68]"
     ]
    },
    {
     "name": "stdout",
     "output_type": "stream",
     "text": [
      "Epoch   2/ 50 -- train_loss: 67.767 -- validation_loss: 336.699\n",
      "Saving model..\n"
     ]
    },
    {
     "name": "stderr",
     "output_type": "stream",
     "text": [
      "100%|█████████████████████████████████| 2/2 [00:00<00:00,  9.41it/s, loss=57.47]\n",
      " 50%|████████████████▌                | 1/2 [00:00<00:00,  9.04it/s, loss=51.47]"
     ]
    },
    {
     "name": "stdout",
     "output_type": "stream",
     "text": [
      "Epoch   3/ 50 -- train_loss: 58.573 -- validation_loss: 334.729\n",
      "Saving model..\n"
     ]
    },
    {
     "name": "stderr",
     "output_type": "stream",
     "text": [
      "100%|█████████████████████████████████| 2/2 [00:00<00:00,  8.83it/s, loss=49.33]\n",
      " 50%|████████████████▌                | 1/2 [00:00<00:00,  8.55it/s, loss=46.76]"
     ]
    },
    {
     "name": "stdout",
     "output_type": "stream",
     "text": [
      "Epoch   4/ 50 -- train_loss: 50.401 -- validation_loss: 332.482\n",
      "Saving model..\n"
     ]
    },
    {
     "name": "stderr",
     "output_type": "stream",
     "text": [
      "100%|█████████████████████████████████| 2/2 [00:00<00:00,  9.05it/s, loss=40.54]\n",
      "  0%|                                                     | 0/2 [00:00<?, ?it/s]"
     ]
    },
    {
     "name": "stdout",
     "output_type": "stream",
     "text": [
      "Epoch   5/ 50 -- train_loss: 43.650 -- validation_loss: 330.166\n",
      "Saving model..\n"
     ]
    },
    {
     "name": "stderr",
     "output_type": "stream",
     "text": [
      "100%|█████████████████████████████████| 2/2 [00:00<00:00,  9.75it/s, loss=36.70]\n",
      " 50%|████████████████▌                | 1/2 [00:00<00:00,  9.50it/s, loss=30.41]"
     ]
    },
    {
     "name": "stdout",
     "output_type": "stream",
     "text": [
      "Epoch   6/ 50 -- train_loss: 36.379 -- validation_loss: 327.782\n",
      "Saving model..\n"
     ]
    },
    {
     "name": "stderr",
     "output_type": "stream",
     "text": [
      "100%|█████████████████████████████████| 2/2 [00:00<00:00,  9.15it/s, loss=28.87]\n",
      " 50%|████████████████▌                | 1/2 [00:00<00:00,  9.76it/s, loss=28.31]"
     ]
    },
    {
     "name": "stdout",
     "output_type": "stream",
     "text": [
      "Epoch   7/ 50 -- train_loss: 29.638 -- validation_loss: 325.269\n",
      "Saving model..\n"
     ]
    },
    {
     "name": "stderr",
     "output_type": "stream",
     "text": [
      "100%|█████████████████████████████████| 2/2 [00:00<00:00,  9.64it/s, loss=25.80]\n",
      " 50%|████████████████▌                | 1/2 [00:00<00:00,  8.91it/s, loss=23.18]"
     ]
    },
    {
     "name": "stdout",
     "output_type": "stream",
     "text": [
      "Epoch   8/ 50 -- train_loss: 27.056 -- validation_loss: 322.671\n",
      "Saving model..\n"
     ]
    },
    {
     "name": "stderr",
     "output_type": "stream",
     "text": [
      "100%|█████████████████████████████████| 2/2 [00:00<00:00,  8.75it/s, loss=24.22]\n",
      " 50%|████████████████▌                | 1/2 [00:00<00:00,  9.82it/s, loss=20.27]"
     ]
    },
    {
     "name": "stdout",
     "output_type": "stream",
     "text": [
      "Epoch   9/ 50 -- train_loss: 23.696 -- validation_loss: 320.166\n",
      "Saving model..\n"
     ]
    },
    {
     "name": "stderr",
     "output_type": "stream",
     "text": [
      "100%|█████████████████████████████████| 2/2 [00:00<00:00,  9.75it/s, loss=20.67]\n",
      " 50%|████████████████▌                | 1/2 [00:00<00:00,  9.93it/s, loss=18.43]"
     ]
    },
    {
     "name": "stdout",
     "output_type": "stream",
     "text": [
      "Epoch  10/ 50 -- train_loss: 20.470 -- validation_loss: 317.703\n",
      "Saving model..\n"
     ]
    },
    {
     "name": "stderr",
     "output_type": "stream",
     "text": [
      "100%|█████████████████████████████████| 2/2 [00:00<00:00,  9.73it/s, loss=16.51]\n",
      " 50%|████████████████▌                | 1/2 [00:00<00:00,  9.50it/s, loss=15.84]"
     ]
    },
    {
     "name": "stdout",
     "output_type": "stream",
     "text": [
      "Epoch  11/ 50 -- train_loss: 17.470 -- validation_loss: 315.178\n",
      "Saving model..\n"
     ]
    },
    {
     "name": "stderr",
     "output_type": "stream",
     "text": [
      "100%|█████████████████████████████████| 2/2 [00:00<00:00,  9.47it/s, loss=14.97]\n",
      " 50%|████████████████▌                | 1/2 [00:00<00:00,  9.50it/s, loss=14.16]"
     ]
    },
    {
     "name": "stdout",
     "output_type": "stream",
     "text": [
      "Epoch  12/ 50 -- train_loss: 15.409 -- validation_loss: 312.610\n",
      "Saving model..\n"
     ]
    },
    {
     "name": "stderr",
     "output_type": "stream",
     "text": [
      "100%|█████████████████████████████████| 2/2 [00:00<00:00,  9.31it/s, loss=13.04]\n",
      " 50%|████████████████▌                | 1/2 [00:00<00:00,  8.33it/s, loss=12.21]"
     ]
    },
    {
     "name": "stdout",
     "output_type": "stream",
     "text": [
      "Epoch  13/ 50 -- train_loss: 13.601 -- validation_loss: 310.031\n",
      "Saving model..\n"
     ]
    },
    {
     "name": "stderr",
     "output_type": "stream",
     "text": [
      "100%|█████████████████████████████████| 2/2 [00:00<00:00,  8.66it/s, loss=11.82]\n",
      " 50%|████████████████▌                | 1/2 [00:00<00:00,  9.98it/s, loss=11.21]"
     ]
    },
    {
     "name": "stdout",
     "output_type": "stream",
     "text": [
      "Epoch  14/ 50 -- train_loss: 12.018 -- validation_loss: 307.437\n",
      "Saving model..\n"
     ]
    },
    {
     "name": "stderr",
     "output_type": "stream",
     "text": [
      "100%|█████████████████████████████████| 2/2 [00:00<00:00,  9.79it/s, loss=10.02]\n",
      "  0%|                                                     | 0/2 [00:00<?, ?it/s]"
     ]
    },
    {
     "name": "stdout",
     "output_type": "stream",
     "text": [
      "Epoch  15/ 50 -- train_loss: 10.614 -- validation_loss: 304.838\n",
      "Saving model..\n"
     ]
    },
    {
     "name": "stderr",
     "output_type": "stream",
     "text": [
      "100%|██████████████████████████████████| 2/2 [00:00<00:00, 10.02it/s, loss=9.81]\n",
      " 50%|█████████████████                 | 1/2 [00:00<00:00,  9.50it/s, loss=9.20]"
     ]
    },
    {
     "name": "stdout",
     "output_type": "stream",
     "text": [
      "Epoch  16/ 50 -- train_loss: 9.486 -- validation_loss: 302.250\n",
      "Saving model..\n"
     ]
    },
    {
     "name": "stderr",
     "output_type": "stream",
     "text": [
      "100%|██████████████████████████████████| 2/2 [00:00<00:00,  9.04it/s, loss=8.28]\n",
      " 50%|█████████████████                 | 1/2 [00:00<00:00,  9.78it/s, loss=6.86]"
     ]
    },
    {
     "name": "stdout",
     "output_type": "stream",
     "text": [
      "Epoch  17/ 50 -- train_loss: 8.737 -- validation_loss: 299.676\n",
      "Saving model..\n"
     ]
    },
    {
     "name": "stderr",
     "output_type": "stream",
     "text": [
      "100%|██████████████████████████████████| 2/2 [00:00<00:00,  9.67it/s, loss=8.49]\n",
      " 50%|█████████████████                 | 1/2 [00:00<00:00,  9.50it/s, loss=7.97]"
     ]
    },
    {
     "name": "stdout",
     "output_type": "stream",
     "text": [
      "Epoch  18/ 50 -- train_loss: 7.678 -- validation_loss: 297.117\n",
      "Saving model..\n"
     ]
    },
    {
     "name": "stderr",
     "output_type": "stream",
     "text": [
      "100%|██████████████████████████████████| 2/2 [00:00<00:00,  9.29it/s, loss=6.08]\n",
      " 50%|█████████████████                 | 1/2 [00:00<00:00,  9.41it/s, loss=6.11]"
     ]
    },
    {
     "name": "stdout",
     "output_type": "stream",
     "text": [
      "Epoch  19/ 50 -- train_loss: 7.024 -- validation_loss: 294.582\n",
      "Saving model..\n"
     ]
    },
    {
     "name": "stderr",
     "output_type": "stream",
     "text": [
      "100%|██████████████████████████████████| 2/2 [00:00<00:00,  9.37it/s, loss=6.81]\n",
      " 50%|█████████████████                 | 1/2 [00:00<00:00,  9.11it/s, loss=5.44]"
     ]
    },
    {
     "name": "stdout",
     "output_type": "stream",
     "text": [
      "Epoch  20/ 50 -- train_loss: 6.463 -- validation_loss: 292.072\n",
      "Saving model..\n"
     ]
    },
    {
     "name": "stderr",
     "output_type": "stream",
     "text": [
      "100%|██████████████████████████████████| 2/2 [00:00<00:00,  8.84it/s, loss=6.95]\n",
      " 50%|█████████████████                 | 1/2 [00:00<00:00,  9.54it/s, loss=6.01]"
     ]
    },
    {
     "name": "stdout",
     "output_type": "stream",
     "text": [
      "Epoch  21/ 50 -- train_loss: 6.195 -- validation_loss: 289.660\n",
      "Saving model..\n"
     ]
    },
    {
     "name": "stderr",
     "output_type": "stream",
     "text": [
      "100%|██████████████████████████████████| 2/2 [00:00<00:00,  9.39it/s, loss=5.70]\n",
      " 50%|█████████████████                 | 1/2 [00:00<00:00,  9.35it/s, loss=5.70]"
     ]
    },
    {
     "name": "stdout",
     "output_type": "stream",
     "text": [
      "Epoch  22/ 50 -- train_loss: 5.854 -- validation_loss: 287.260\n",
      "Saving model..\n"
     ]
    },
    {
     "name": "stderr",
     "output_type": "stream",
     "text": [
      "100%|██████████████████████████████████| 2/2 [00:00<00:00,  9.22it/s, loss=5.22]\n",
      " 50%|█████████████████                 | 1/2 [00:00<00:00,  9.61it/s, loss=5.02]"
     ]
    },
    {
     "name": "stdout",
     "output_type": "stream",
     "text": [
      "Epoch  23/ 50 -- train_loss: 5.457 -- validation_loss: 284.891\n",
      "Saving model..\n"
     ]
    },
    {
     "name": "stderr",
     "output_type": "stream",
     "text": [
      "100%|██████████████████████████████████| 2/2 [00:00<00:00,  9.58it/s, loss=5.10]\n",
      " 50%|█████████████████                 | 1/2 [00:00<00:00,  9.55it/s, loss=4.49]"
     ]
    },
    {
     "name": "stdout",
     "output_type": "stream",
     "text": [
      "Epoch  24/ 50 -- train_loss: 5.059 -- validation_loss: 282.546\n",
      "Saving model..\n"
     ]
    },
    {
     "name": "stderr",
     "output_type": "stream",
     "text": [
      "100%|██████████████████████████████████| 2/2 [00:00<00:00,  9.66it/s, loss=5.21]\n",
      " 50%|█████████████████                 | 1/2 [00:00<00:00,  9.28it/s, loss=3.59]"
     ]
    },
    {
     "name": "stdout",
     "output_type": "stream",
     "text": [
      "Epoch  25/ 50 -- train_loss: 4.847 -- validation_loss: 280.218\n",
      "Saving model..\n"
     ]
    },
    {
     "name": "stderr",
     "output_type": "stream",
     "text": [
      "100%|██████████████████████████████████| 2/2 [00:00<00:00,  9.29it/s, loss=5.30]\n",
      " 50%|█████████████████                 | 1/2 [00:00<00:00,  9.06it/s, loss=4.04]"
     ]
    },
    {
     "name": "stdout",
     "output_type": "stream",
     "text": [
      "Epoch  26/ 50 -- train_loss: 4.443 -- validation_loss: 277.911\n",
      "Saving model..\n"
     ]
    },
    {
     "name": "stderr",
     "output_type": "stream",
     "text": [
      "100%|██████████████████████████████████| 2/2 [00:00<00:00,  8.99it/s, loss=4.15]\n",
      " 50%|█████████████████                 | 1/2 [00:00<00:00,  9.85it/s, loss=3.98]"
     ]
    },
    {
     "name": "stdout",
     "output_type": "stream",
     "text": [
      "Epoch  27/ 50 -- train_loss: 4.095 -- validation_loss: 275.680\n",
      "Saving model..\n"
     ]
    },
    {
     "name": "stderr",
     "output_type": "stream",
     "text": [
      "100%|██████████████████████████████████| 2/2 [00:00<00:00,  9.52it/s, loss=3.78]\n",
      " 50%|█████████████████                 | 1/2 [00:00<00:00,  9.67it/s, loss=4.10]"
     ]
    },
    {
     "name": "stdout",
     "output_type": "stream",
     "text": [
      "Epoch  28/ 50 -- train_loss: 3.878 -- validation_loss: 273.492\n",
      "Saving model..\n"
     ]
    },
    {
     "name": "stderr",
     "output_type": "stream",
     "text": [
      "100%|██████████████████████████████████| 2/2 [00:00<00:00,  9.78it/s, loss=3.21]\n",
      " 50%|█████████████████                 | 1/2 [00:00<00:00,  9.99it/s, loss=3.13]"
     ]
    },
    {
     "name": "stdout",
     "output_type": "stream",
     "text": [
      "Epoch  29/ 50 -- train_loss: 3.655 -- validation_loss: 271.336\n",
      "Saving model..\n"
     ]
    },
    {
     "name": "stderr",
     "output_type": "stream",
     "text": [
      "100%|██████████████████████████████████| 2/2 [00:00<00:00,  9.56it/s, loss=3.94]\n",
      " 50%|█████████████████                 | 1/2 [00:00<00:00,  9.20it/s, loss=3.45]"
     ]
    },
    {
     "name": "stdout",
     "output_type": "stream",
     "text": [
      "Epoch  30/ 50 -- train_loss: 3.535 -- validation_loss: 269.212\n",
      "Saving model..\n"
     ]
    },
    {
     "name": "stderr",
     "output_type": "stream",
     "text": [
      "100%|██████████████████████████████████| 2/2 [00:00<00:00,  9.34it/s, loss=3.60]\n",
      " 50%|█████████████████                 | 1/2 [00:00<00:00,  9.63it/s, loss=3.51]"
     ]
    },
    {
     "name": "stdout",
     "output_type": "stream",
     "text": [
      "Epoch  31/ 50 -- train_loss: 3.523 -- validation_loss: 267.117\n",
      "Saving model..\n"
     ]
    },
    {
     "name": "stderr",
     "output_type": "stream",
     "text": [
      "100%|██████████████████████████████████| 2/2 [00:00<00:00,  9.63it/s, loss=2.88]\n",
      " 50%|█████████████████                 | 1/2 [00:00<00:00,  9.64it/s, loss=2.95]"
     ]
    },
    {
     "name": "stdout",
     "output_type": "stream",
     "text": [
      "Epoch  32/ 50 -- train_loss: 3.193 -- validation_loss: 265.137\n",
      "Saving model..\n"
     ]
    },
    {
     "name": "stderr",
     "output_type": "stream",
     "text": [
      "100%|██████████████████████████████████| 2/2 [00:00<00:00,  9.51it/s, loss=3.22]\n",
      " 50%|█████████████████                 | 1/2 [00:00<00:00,  8.98it/s, loss=2.48]"
     ]
    },
    {
     "name": "stdout",
     "output_type": "stream",
     "text": [
      "Epoch  33/ 50 -- train_loss: 3.084 -- validation_loss: 263.129\n",
      "Saving model..\n"
     ]
    },
    {
     "name": "stderr",
     "output_type": "stream",
     "text": [
      "100%|██████████████████████████████████| 2/2 [00:00<00:00,  9.12it/s, loss=3.35]\n",
      " 50%|█████████████████                 | 1/2 [00:00<00:00,  9.95it/s, loss=3.44]"
     ]
    },
    {
     "name": "stdout",
     "output_type": "stream",
     "text": [
      "Epoch  34/ 50 -- train_loss: 2.918 -- validation_loss: 261.155\n",
      "Saving model..\n"
     ]
    },
    {
     "name": "stderr",
     "output_type": "stream",
     "text": [
      "100%|██████████████████████████████████| 2/2 [00:00<00:00,  9.71it/s, loss=2.13]\n",
      "  0%|                                                     | 0/2 [00:00<?, ?it/s]"
     ]
    },
    {
     "name": "stdout",
     "output_type": "stream",
     "text": [
      "Epoch  35/ 50 -- train_loss: 2.783 -- validation_loss: 259.286\n",
      "Saving model..\n"
     ]
    },
    {
     "name": "stderr",
     "output_type": "stream",
     "text": [
      "100%|██████████████████████████████████| 2/2 [00:00<00:00,  9.60it/s, loss=2.61]\n",
      " 50%|█████████████████                 | 1/2 [00:00<00:00,  8.95it/s, loss=2.60]"
     ]
    },
    {
     "name": "stdout",
     "output_type": "stream",
     "text": [
      "Epoch  36/ 50 -- train_loss: 2.681 -- validation_loss: 257.390\n",
      "Saving model..\n"
     ]
    },
    {
     "name": "stderr",
     "output_type": "stream",
     "text": [
      "100%|██████████████████████████████████| 2/2 [00:00<00:00,  8.96it/s, loss=2.53]\n",
      " 50%|█████████████████                 | 1/2 [00:00<00:00,  9.27it/s, loss=2.35]"
     ]
    },
    {
     "name": "stdout",
     "output_type": "stream",
     "text": [
      "Epoch  37/ 50 -- train_loss: 2.566 -- validation_loss: 255.516\n",
      "Saving model..\n"
     ]
    },
    {
     "name": "stderr",
     "output_type": "stream",
     "text": [
      "100%|██████████████████████████████████| 2/2 [00:00<00:00,  9.23it/s, loss=2.65]\n",
      "  0%|                                                     | 0/2 [00:00<?, ?it/s]"
     ]
    },
    {
     "name": "stdout",
     "output_type": "stream",
     "text": [
      "Epoch  38/ 50 -- train_loss: 2.500 -- validation_loss: 253.669\n",
      "Saving model..\n"
     ]
    },
    {
     "name": "stderr",
     "output_type": "stream",
     "text": [
      "100%|██████████████████████████████████| 2/2 [00:00<00:00, 10.14it/s, loss=2.14]\n",
      " 50%|█████████████████                 | 1/2 [00:00<00:00,  9.82it/s, loss=2.33]"
     ]
    },
    {
     "name": "stdout",
     "output_type": "stream",
     "text": [
      "Epoch  39/ 50 -- train_loss: 2.377 -- validation_loss: 251.848\n",
      "Saving model..\n"
     ]
    },
    {
     "name": "stderr",
     "output_type": "stream",
     "text": [
      "100%|██████████████████████████████████| 2/2 [00:00<00:00,  9.64it/s, loss=2.25]\n",
      " 50%|█████████████████                 | 1/2 [00:00<00:00,  7.26it/s, loss=2.46]"
     ]
    },
    {
     "name": "stdout",
     "output_type": "stream",
     "text": [
      "Epoch  40/ 50 -- train_loss: 2.291 -- validation_loss: 250.047\n",
      "Saving model..\n"
     ]
    },
    {
     "name": "stderr",
     "output_type": "stream",
     "text": [
      "100%|██████████████████████████████████| 2/2 [00:00<00:00,  7.74it/s, loss=1.99]\n",
      " 50%|█████████████████                 | 1/2 [00:00<00:00,  9.38it/s, loss=2.12]"
     ]
    },
    {
     "name": "stdout",
     "output_type": "stream",
     "text": [
      "Epoch  41/ 50 -- train_loss: 2.229 -- validation_loss: 248.269\n",
      "Saving model..\n"
     ]
    },
    {
     "name": "stderr",
     "output_type": "stream",
     "text": [
      "100%|██████████████████████████████████| 2/2 [00:00<00:00,  9.56it/s, loss=2.59]\n",
      "  0%|                                                     | 0/2 [00:00<?, ?it/s]"
     ]
    },
    {
     "name": "stdout",
     "output_type": "stream",
     "text": [
      "Epoch  42/ 50 -- train_loss: 2.354 -- validation_loss: 246.512\n",
      "Saving model..\n"
     ]
    },
    {
     "name": "stderr",
     "output_type": "stream",
     "text": [
      "100%|██████████████████████████████████| 2/2 [00:00<00:00,  9.63it/s, loss=2.65]\n",
      " 50%|█████████████████                 | 1/2 [00:00<00:00,  9.36it/s, loss=1.64]"
     ]
    },
    {
     "name": "stdout",
     "output_type": "stream",
     "text": [
      "Epoch  43/ 50 -- train_loss: 2.194 -- validation_loss: 244.778\n",
      "Saving model..\n"
     ]
    },
    {
     "name": "stderr",
     "output_type": "stream",
     "text": [
      "100%|██████████████████████████████████| 2/2 [00:00<00:00,  9.33it/s, loss=2.64]\n",
      " 50%|█████████████████                 | 1/2 [00:00<00:00,  9.26it/s, loss=2.83]"
     ]
    },
    {
     "name": "stdout",
     "output_type": "stream",
     "text": [
      "Epoch  44/ 50 -- train_loss: 2.142 -- validation_loss: 243.049\n",
      "Saving model..\n"
     ]
    },
    {
     "name": "stderr",
     "output_type": "stream",
     "text": [
      "100%|██████████████████████████████████| 2/2 [00:00<00:00,  9.10it/s, loss=1.83]\n",
      " 50%|█████████████████                 | 1/2 [00:00<00:00,  8.51it/s, loss=2.24]"
     ]
    },
    {
     "name": "stdout",
     "output_type": "stream",
     "text": [
      "Epoch  45/ 50 -- train_loss: 2.331 -- validation_loss: 241.445\n",
      "Saving model..\n"
     ]
    },
    {
     "name": "stderr",
     "output_type": "stream",
     "text": [
      "100%|██████████████████████████████████| 2/2 [00:00<00:00,  8.68it/s, loss=1.76]\n",
      " 50%|█████████████████                 | 1/2 [00:00<00:00,  8.87it/s, loss=1.69]"
     ]
    },
    {
     "name": "stdout",
     "output_type": "stream",
     "text": [
      "Epoch  46/ 50 -- train_loss: 2.001 -- validation_loss: 239.860\n",
      "Saving model..\n"
     ]
    },
    {
     "name": "stderr",
     "output_type": "stream",
     "text": [
      "100%|██████████████████████████████████| 2/2 [00:00<00:00,  8.94it/s, loss=2.38]\n",
      " 50%|█████████████████                 | 1/2 [00:00<00:00,  9.43it/s, loss=2.11]"
     ]
    },
    {
     "name": "stdout",
     "output_type": "stream",
     "text": [
      "Epoch  47/ 50 -- train_loss: 2.035 -- validation_loss: 238.298\n",
      "Saving model..\n"
     ]
    },
    {
     "name": "stderr",
     "output_type": "stream",
     "text": [
      "100%|██████████████████████████████████| 2/2 [00:00<00:00,  9.54it/s, loss=1.83]\n",
      " 50%|█████████████████                 | 1/2 [00:00<00:00,  8.80it/s, loss=1.66]"
     ]
    },
    {
     "name": "stdout",
     "output_type": "stream",
     "text": [
      "Epoch  48/ 50 -- train_loss: 1.972 -- validation_loss: 236.755\n",
      "Saving model..\n"
     ]
    },
    {
     "name": "stderr",
     "output_type": "stream",
     "text": [
      "100%|██████████████████████████████████| 2/2 [00:00<00:00,  8.86it/s, loss=2.12]\n",
      " 50%|█████████████████                 | 1/2 [00:00<00:00,  8.82it/s, loss=2.00]"
     ]
    },
    {
     "name": "stdout",
     "output_type": "stream",
     "text": [
      "Epoch  49/ 50 -- train_loss: 1.892 -- validation_loss: 235.230\n",
      "Saving model..\n"
     ]
    },
    {
     "name": "stderr",
     "output_type": "stream",
     "text": [
      "100%|██████████████████████████████████| 2/2 [00:00<00:00,  8.88it/s, loss=2.10]\n",
      "  0%|                                                    | 0/20 [00:00<?, ?it/s]"
     ]
    },
    {
     "name": "stdout",
     "output_type": "stream",
     "text": [
      "Epoch  50/ 50 -- train_loss: 2.050 -- validation_loss: 233.803\n",
      "Saving model..\n",
      "###### Stop training after 50 epochs!\n",
      "Validation loss: 233.803\n",
      "Test loss:       235.100\n",
      "Loading dataset..\n",
      "No validation set passed\n",
      "No test set passed\n",
      "Creating directory experiment..\n",
      "Creating BNAF model..\n",
      "Creating optimizer..\n",
      "Creating scheduler..\n",
      "Training..\n"
     ]
    },
    {
     "name": "stderr",
     "output_type": "stream",
     "text": [
      "100%|███████████████████████████████| 20/20 [00:02<00:00,  8.70it/s, loss=18.90]\n",
      "  5%|█▌                              | 1/20 [00:00<00:02,  8.70it/s, loss=17.61]"
     ]
    },
    {
     "name": "stdout",
     "output_type": "stream",
     "text": [
      "Epoch   1/ 50 -- train_loss: 38.950 -- validation_loss: 324.742\n",
      "Saving model..\n"
     ]
    },
    {
     "name": "stderr",
     "output_type": "stream",
     "text": [
      "100%|████████████████████████████████| 20/20 [00:02<00:00,  9.36it/s, loss=6.28]\n",
      "  5%|█▋                               | 1/20 [00:00<00:02,  8.62it/s, loss=7.44]"
     ]
    },
    {
     "name": "stdout",
     "output_type": "stream",
     "text": [
      "Epoch   2/ 50 -- train_loss: 10.639 -- validation_loss: 299.995\n",
      "Saving model..\n"
     ]
    },
    {
     "name": "stderr",
     "output_type": "stream",
     "text": [
      "100%|████████████████████████████████| 20/20 [00:02<00:00,  9.37it/s, loss=5.26]\n",
      "  5%|█▋                               | 1/20 [00:00<00:02,  8.43it/s, loss=5.25]"
     ]
    },
    {
     "name": "stdout",
     "output_type": "stream",
     "text": [
      "Epoch   3/ 50 -- train_loss: 5.569 -- validation_loss: 277.849\n",
      "Saving model..\n"
     ]
    },
    {
     "name": "stderr",
     "output_type": "stream",
     "text": [
      "100%|████████████████████████████████| 20/20 [00:02<00:00,  9.60it/s, loss=3.14]\n",
      "  5%|█▋                               | 1/20 [00:00<00:02,  8.11it/s, loss=4.46]"
     ]
    },
    {
     "name": "stdout",
     "output_type": "stream",
     "text": [
      "Epoch   4/ 50 -- train_loss: 4.522 -- validation_loss: 258.925\n",
      "Saving model..\n"
     ]
    },
    {
     "name": "stderr",
     "output_type": "stream",
     "text": [
      "100%|████████████████████████████████| 20/20 [00:02<00:00,  9.46it/s, loss=4.34]\n",
      "  5%|█▋                               | 1/20 [00:00<00:02,  8.41it/s, loss=4.41]"
     ]
    },
    {
     "name": "stdout",
     "output_type": "stream",
     "text": [
      "Epoch   5/ 50 -- train_loss: 4.214 -- validation_loss: 242.634\n",
      "Saving model..\n"
     ]
    },
    {
     "name": "stderr",
     "output_type": "stream",
     "text": [
      "100%|████████████████████████████████| 20/20 [00:02<00:00,  9.20it/s, loss=3.98]\n",
      "  5%|█▋                               | 1/20 [00:00<00:02,  8.95it/s, loss=3.47]"
     ]
    },
    {
     "name": "stdout",
     "output_type": "stream",
     "text": [
      "Epoch   6/ 50 -- train_loss: 3.927 -- validation_loss: 228.682\n",
      "Saving model..\n"
     ]
    },
    {
     "name": "stderr",
     "output_type": "stream",
     "text": [
      "100%|████████████████████████████████| 20/20 [00:02<00:00,  9.58it/s, loss=3.68]\n",
      "  5%|█▋                               | 1/20 [00:00<00:02,  9.27it/s, loss=4.03]"
     ]
    },
    {
     "name": "stdout",
     "output_type": "stream",
     "text": [
      "Epoch   7/ 50 -- train_loss: 3.994 -- validation_loss: 216.819\n",
      "Saving model..\n"
     ]
    },
    {
     "name": "stderr",
     "output_type": "stream",
     "text": [
      "100%|████████████████████████████████| 20/20 [00:02<00:00,  8.69it/s, loss=3.59]\n",
      "  5%|█▋                               | 1/20 [00:00<00:02,  8.56it/s, loss=3.67]"
     ]
    },
    {
     "name": "stdout",
     "output_type": "stream",
     "text": [
      "Epoch   8/ 50 -- train_loss: 3.760 -- validation_loss: 206.468\n",
      "Saving model..\n"
     ]
    },
    {
     "name": "stderr",
     "output_type": "stream",
     "text": [
      "100%|████████████████████████████████| 20/20 [00:02<00:00,  9.62it/s, loss=3.39]\n",
      "  5%|█▋                               | 1/20 [00:00<00:02,  8.74it/s, loss=3.11]"
     ]
    },
    {
     "name": "stdout",
     "output_type": "stream",
     "text": [
      "Epoch   9/ 50 -- train_loss: 3.649 -- validation_loss: 197.387\n",
      "Saving model..\n"
     ]
    },
    {
     "name": "stderr",
     "output_type": "stream",
     "text": [
      "100%|████████████████████████████████| 20/20 [00:02<00:00,  9.33it/s, loss=3.49]\n",
      "  5%|█▋                               | 1/20 [00:00<00:02,  9.24it/s, loss=3.27]"
     ]
    },
    {
     "name": "stdout",
     "output_type": "stream",
     "text": [
      "Epoch  10/ 50 -- train_loss: 3.609 -- validation_loss: 189.476\n",
      "Saving model..\n"
     ]
    },
    {
     "name": "stderr",
     "output_type": "stream",
     "text": [
      "100%|████████████████████████████████| 20/20 [00:02<00:00,  9.66it/s, loss=3.73]\n",
      "  5%|█▋                               | 1/20 [00:00<00:02,  9.15it/s, loss=2.96]"
     ]
    },
    {
     "name": "stdout",
     "output_type": "stream",
     "text": [
      "Epoch  11/ 50 -- train_loss: 3.509 -- validation_loss: 182.427\n",
      "Saving model..\n"
     ]
    },
    {
     "name": "stderr",
     "output_type": "stream",
     "text": [
      "100%|████████████████████████████████| 20/20 [00:02<00:00,  9.69it/s, loss=3.10]\n",
      "  5%|█▋                               | 1/20 [00:00<00:02,  8.60it/s, loss=3.80]"
     ]
    },
    {
     "name": "stdout",
     "output_type": "stream",
     "text": [
      "Epoch  12/ 50 -- train_loss: 3.420 -- validation_loss: 176.048\n",
      "Saving model..\n"
     ]
    },
    {
     "name": "stderr",
     "output_type": "stream",
     "text": [
      "100%|████████████████████████████████| 20/20 [00:02<00:00,  9.40it/s, loss=3.49]\n",
      "  5%|█▋                               | 1/20 [00:00<00:02,  9.05it/s, loss=3.63]"
     ]
    },
    {
     "name": "stdout",
     "output_type": "stream",
     "text": [
      "Epoch  13/ 50 -- train_loss: 3.356 -- validation_loss: 170.274\n",
      "Saving model..\n"
     ]
    },
    {
     "name": "stderr",
     "output_type": "stream",
     "text": [
      "100%|████████████████████████████████| 20/20 [00:02<00:00,  9.45it/s, loss=3.37]\n",
      "  5%|█▋                               | 1/20 [00:00<00:02,  9.28it/s, loss=3.30]"
     ]
    },
    {
     "name": "stdout",
     "output_type": "stream",
     "text": [
      "Epoch  14/ 50 -- train_loss: 3.232 -- validation_loss: 164.798\n",
      "Saving model..\n"
     ]
    },
    {
     "name": "stderr",
     "output_type": "stream",
     "text": [
      "100%|████████████████████████████████| 20/20 [00:02<00:00,  8.44it/s, loss=2.37]\n",
      "  5%|█▋                               | 1/20 [00:00<00:02,  8.34it/s, loss=3.28]"
     ]
    },
    {
     "name": "stdout",
     "output_type": "stream",
     "text": [
      "Epoch  15/ 50 -- train_loss: 3.200 -- validation_loss: 159.813\n",
      "Saving model..\n"
     ]
    },
    {
     "name": "stderr",
     "output_type": "stream",
     "text": [
      "100%|████████████████████████████████| 20/20 [00:02<00:00,  8.86it/s, loss=2.46]\n",
      "  5%|█▋                               | 1/20 [00:00<00:02,  9.22it/s, loss=3.08]"
     ]
    },
    {
     "name": "stdout",
     "output_type": "stream",
     "text": [
      "Epoch  16/ 50 -- train_loss: 3.055 -- validation_loss: 154.989\n",
      "Saving model..\n"
     ]
    },
    {
     "name": "stderr",
     "output_type": "stream",
     "text": [
      "100%|████████████████████████████████| 20/20 [00:02<00:00,  9.62it/s, loss=2.83]\n",
      "  5%|█▋                               | 1/20 [00:00<00:02,  8.85it/s, loss=2.79]"
     ]
    },
    {
     "name": "stdout",
     "output_type": "stream",
     "text": [
      "Epoch  17/ 50 -- train_loss: 2.871 -- validation_loss: 150.416\n",
      "Saving model..\n"
     ]
    },
    {
     "name": "stderr",
     "output_type": "stream",
     "text": [
      "100%|████████████████████████████████| 20/20 [00:02<00:00,  9.57it/s, loss=3.17]\n",
      "  5%|█▋                               | 1/20 [00:00<00:01,  9.92it/s, loss=2.90]"
     ]
    },
    {
     "name": "stdout",
     "output_type": "stream",
     "text": [
      "Epoch  18/ 50 -- train_loss: 2.863 -- validation_loss: 146.030\n",
      "Saving model..\n"
     ]
    },
    {
     "name": "stderr",
     "output_type": "stream",
     "text": [
      "100%|████████████████████████████████| 20/20 [00:02<00:00,  9.65it/s, loss=2.85]\n",
      "  5%|█▋                               | 1/20 [00:00<00:02,  9.11it/s, loss=2.41]"
     ]
    },
    {
     "name": "stdout",
     "output_type": "stream",
     "text": [
      "Epoch  19/ 50 -- train_loss: 2.656 -- validation_loss: 141.963\n",
      "Saving model..\n"
     ]
    },
    {
     "name": "stderr",
     "output_type": "stream",
     "text": [
      "100%|████████████████████████████████| 20/20 [00:02<00:00,  9.71it/s, loss=2.67]\n",
      "  5%|█▋                               | 1/20 [00:00<00:02,  8.98it/s, loss=3.66]"
     ]
    },
    {
     "name": "stdout",
     "output_type": "stream",
     "text": [
      "Epoch  20/ 50 -- train_loss: 2.599 -- validation_loss: 137.997\n",
      "Saving model..\n"
     ]
    },
    {
     "name": "stderr",
     "output_type": "stream",
     "text": [
      "100%|████████████████████████████████| 20/20 [00:02<00:00,  9.85it/s, loss=2.72]\n",
      "  5%|█▋                               | 1/20 [00:00<00:02,  9.01it/s, loss=2.30]"
     ]
    },
    {
     "name": "stdout",
     "output_type": "stream",
     "text": [
      "Epoch  21/ 50 -- train_loss: 2.756 -- validation_loss: 133.963\n",
      "Saving model..\n"
     ]
    },
    {
     "name": "stderr",
     "output_type": "stream",
     "text": [
      "100%|████████████████████████████████| 20/20 [00:02<00:00,  9.70it/s, loss=2.72]\n",
      "  5%|█▋                               | 1/20 [00:00<00:02,  9.07it/s, loss=3.09]"
     ]
    },
    {
     "name": "stdout",
     "output_type": "stream",
     "text": [
      "Epoch  22/ 50 -- train_loss: 2.526 -- validation_loss: 130.025\n",
      "Saving model..\n"
     ]
    },
    {
     "name": "stderr",
     "output_type": "stream",
     "text": [
      "100%|████████████████████████████████| 20/20 [00:02<00:00,  9.72it/s, loss=2.86]\n",
      "  5%|█▋                               | 1/20 [00:00<00:02,  8.98it/s, loss=1.69]"
     ]
    },
    {
     "name": "stdout",
     "output_type": "stream",
     "text": [
      "Epoch  23/ 50 -- train_loss: 2.490 -- validation_loss: 126.344\n",
      "Saving model..\n"
     ]
    },
    {
     "name": "stderr",
     "output_type": "stream",
     "text": [
      "100%|████████████████████████████████| 20/20 [00:02<00:00,  9.74it/s, loss=3.12]\n",
      "  5%|█▋                               | 1/20 [00:00<00:02,  9.40it/s, loss=2.39]"
     ]
    },
    {
     "name": "stdout",
     "output_type": "stream",
     "text": [
      "Epoch  24/ 50 -- train_loss: 2.428 -- validation_loss: 122.634\n",
      "Saving model..\n"
     ]
    },
    {
     "name": "stderr",
     "output_type": "stream",
     "text": [
      "100%|████████████████████████████████| 20/20 [00:02<00:00,  9.60it/s, loss=2.26]\n",
      "  5%|█▋                               | 1/20 [00:00<00:02,  9.35it/s, loss=2.55]"
     ]
    },
    {
     "name": "stdout",
     "output_type": "stream",
     "text": [
      "Epoch  25/ 50 -- train_loss: 2.394 -- validation_loss: 118.938\n",
      "Saving model..\n"
     ]
    },
    {
     "name": "stderr",
     "output_type": "stream",
     "text": [
      "100%|████████████████████████████████| 20/20 [00:02<00:00,  9.63it/s, loss=2.82]\n",
      "  5%|█▋                               | 1/20 [00:00<00:02,  9.11it/s, loss=2.17]"
     ]
    },
    {
     "name": "stdout",
     "output_type": "stream",
     "text": [
      "Epoch  26/ 50 -- train_loss: 2.350 -- validation_loss: 115.224\n",
      "Saving model..\n"
     ]
    },
    {
     "name": "stderr",
     "output_type": "stream",
     "text": [
      "100%|████████████████████████████████| 20/20 [00:02<00:00,  9.62it/s, loss=2.02]\n",
      "  5%|█▋                               | 1/20 [00:00<00:02,  9.14it/s, loss=2.83]"
     ]
    },
    {
     "name": "stdout",
     "output_type": "stream",
     "text": [
      "Epoch  27/ 50 -- train_loss: 2.317 -- validation_loss: 111.505\n",
      "Saving model..\n"
     ]
    },
    {
     "name": "stderr",
     "output_type": "stream",
     "text": [
      "100%|████████████████████████████████| 20/20 [00:02<00:00,  9.67it/s, loss=2.05]\n",
      "  5%|█▋                               | 1/20 [00:00<00:02,  9.38it/s, loss=1.75]"
     ]
    },
    {
     "name": "stdout",
     "output_type": "stream",
     "text": [
      "Epoch  28/ 50 -- train_loss: 2.297 -- validation_loss: 107.974\n",
      "Saving model..\n"
     ]
    },
    {
     "name": "stderr",
     "output_type": "stream",
     "text": [
      "100%|████████████████████████████████| 20/20 [00:02<00:00,  9.79it/s, loss=3.03]\n",
      "  5%|█▋                               | 1/20 [00:00<00:02,  8.87it/s, loss=1.89]"
     ]
    },
    {
     "name": "stdout",
     "output_type": "stream",
     "text": [
      "Epoch  29/ 50 -- train_loss: 2.241 -- validation_loss: 104.524\n",
      "Saving model..\n"
     ]
    },
    {
     "name": "stderr",
     "output_type": "stream",
     "text": [
      "100%|████████████████████████████████| 20/20 [00:02<00:00,  9.56it/s, loss=2.16]\n",
      "  5%|█▋                               | 1/20 [00:00<00:02,  9.23it/s, loss=1.63]"
     ]
    },
    {
     "name": "stdout",
     "output_type": "stream",
     "text": [
      "Epoch  30/ 50 -- train_loss: 2.268 -- validation_loss: 100.935\n",
      "Saving model..\n"
     ]
    },
    {
     "name": "stderr",
     "output_type": "stream",
     "text": [
      "100%|████████████████████████████████| 20/20 [00:02<00:00,  9.64it/s, loss=3.38]\n",
      "  5%|█▋                               | 1/20 [00:00<00:02,  8.80it/s, loss=2.28]"
     ]
    },
    {
     "name": "stdout",
     "output_type": "stream",
     "text": [
      "Epoch  31/ 50 -- train_loss: 2.337 -- validation_loss: 97.389\n",
      "Saving model..\n"
     ]
    },
    {
     "name": "stderr",
     "output_type": "stream",
     "text": [
      "100%|████████████████████████████████| 20/20 [00:02<00:00,  9.63it/s, loss=1.56]\n",
      "  5%|█▋                               | 1/20 [00:00<00:02,  8.97it/s, loss=2.66]"
     ]
    },
    {
     "name": "stdout",
     "output_type": "stream",
     "text": [
      "Epoch  32/ 50 -- train_loss: 2.138 -- validation_loss: 94.055\n",
      "Saving model..\n"
     ]
    },
    {
     "name": "stderr",
     "output_type": "stream",
     "text": [
      "100%|████████████████████████████████| 20/20 [00:02<00:00,  9.71it/s, loss=2.68]\n",
      "  5%|█▋                               | 1/20 [00:00<00:02,  9.47it/s, loss=1.87]"
     ]
    },
    {
     "name": "stdout",
     "output_type": "stream",
     "text": [
      "Epoch  33/ 50 -- train_loss: 2.191 -- validation_loss: 90.903\n",
      "Saving model..\n"
     ]
    },
    {
     "name": "stderr",
     "output_type": "stream",
     "text": [
      "100%|████████████████████████████████| 20/20 [00:02<00:00,  9.66it/s, loss=2.97]\n",
      "  5%|█▋                               | 1/20 [00:00<00:02,  8.97it/s, loss=2.81]"
     ]
    },
    {
     "name": "stdout",
     "output_type": "stream",
     "text": [
      "Epoch  34/ 50 -- train_loss: 2.136 -- validation_loss: 87.889\n",
      "Saving model..\n"
     ]
    },
    {
     "name": "stderr",
     "output_type": "stream",
     "text": [
      "100%|████████████████████████████████| 20/20 [00:02<00:00,  9.61it/s, loss=1.40]\n",
      "  5%|█▋                               | 1/20 [00:00<00:02,  9.23it/s, loss=2.17]"
     ]
    },
    {
     "name": "stdout",
     "output_type": "stream",
     "text": [
      "Epoch  35/ 50 -- train_loss: 2.129 -- validation_loss: 84.890\n",
      "Saving model..\n"
     ]
    },
    {
     "name": "stderr",
     "output_type": "stream",
     "text": [
      "100%|████████████████████████████████| 20/20 [00:02<00:00,  9.69it/s, loss=1.89]\n",
      "  5%|█▋                               | 1/20 [00:00<00:02,  9.41it/s, loss=2.12]"
     ]
    },
    {
     "name": "stdout",
     "output_type": "stream",
     "text": [
      "Epoch  36/ 50 -- train_loss: 2.029 -- validation_loss: 82.055\n",
      "Saving model..\n"
     ]
    },
    {
     "name": "stderr",
     "output_type": "stream",
     "text": [
      "100%|████████████████████████████████| 20/20 [00:02<00:00,  9.67it/s, loss=2.71]\n",
      "  5%|█▋                               | 1/20 [00:00<00:02,  8.90it/s, loss=2.91]"
     ]
    },
    {
     "name": "stdout",
     "output_type": "stream",
     "text": [
      "Epoch  37/ 50 -- train_loss: 2.049 -- validation_loss: 79.353\n",
      "Saving model..\n"
     ]
    },
    {
     "name": "stderr",
     "output_type": "stream",
     "text": [
      "100%|████████████████████████████████| 20/20 [00:02<00:00,  9.65it/s, loss=3.43]\n",
      "  5%|█▋                               | 1/20 [00:00<00:02,  8.83it/s, loss=2.08]"
     ]
    },
    {
     "name": "stdout",
     "output_type": "stream",
     "text": [
      "Epoch  38/ 50 -- train_loss: 2.169 -- validation_loss: 76.774\n",
      "Saving model..\n"
     ]
    },
    {
     "name": "stderr",
     "output_type": "stream",
     "text": [
      "100%|████████████████████████████████| 20/20 [00:02<00:00,  9.54it/s, loss=2.09]\n",
      "  5%|█▋                               | 1/20 [00:00<00:02,  9.23it/s, loss=1.60]"
     ]
    },
    {
     "name": "stdout",
     "output_type": "stream",
     "text": [
      "Epoch  39/ 50 -- train_loss: 2.132 -- validation_loss: 74.276\n",
      "Saving model..\n"
     ]
    },
    {
     "name": "stderr",
     "output_type": "stream",
     "text": [
      "100%|████████████████████████████████| 20/20 [00:02<00:00,  9.64it/s, loss=0.73]\n",
      "  5%|█▋                               | 1/20 [00:00<00:02,  8.95it/s, loss=1.72]"
     ]
    },
    {
     "name": "stdout",
     "output_type": "stream",
     "text": [
      "Epoch  40/ 50 -- train_loss: 1.991 -- validation_loss: 71.822\n",
      "Saving model..\n"
     ]
    },
    {
     "name": "stderr",
     "output_type": "stream",
     "text": [
      "100%|████████████████████████████████| 20/20 [00:02<00:00,  9.75it/s, loss=2.28]\n",
      "  5%|█▋                               | 1/20 [00:00<00:02,  9.09it/s, loss=2.18]"
     ]
    },
    {
     "name": "stdout",
     "output_type": "stream",
     "text": [
      "Epoch  41/ 50 -- train_loss: 1.982 -- validation_loss: 69.515\n",
      "Saving model..\n"
     ]
    },
    {
     "name": "stderr",
     "output_type": "stream",
     "text": [
      "100%|████████████████████████████████| 20/20 [00:02<00:00,  9.73it/s, loss=1.73]\n",
      "  5%|█▋                               | 1/20 [00:00<00:02,  9.21it/s, loss=1.58]"
     ]
    },
    {
     "name": "stdout",
     "output_type": "stream",
     "text": [
      "Epoch  42/ 50 -- train_loss: 2.071 -- validation_loss: 67.304\n",
      "Saving model..\n"
     ]
    },
    {
     "name": "stderr",
     "output_type": "stream",
     "text": [
      "100%|████████████████████████████████| 20/20 [00:02<00:00,  9.75it/s, loss=1.26]\n",
      "  5%|█▋                               | 1/20 [00:00<00:02,  9.11it/s, loss=1.86]"
     ]
    },
    {
     "name": "stdout",
     "output_type": "stream",
     "text": [
      "Epoch  43/ 50 -- train_loss: 1.935 -- validation_loss: 65.159\n",
      "Saving model..\n"
     ]
    },
    {
     "name": "stderr",
     "output_type": "stream",
     "text": [
      "100%|████████████████████████████████| 20/20 [00:02<00:00,  9.62it/s, loss=2.35]\n",
      "  5%|█▋                               | 1/20 [00:00<00:01,  9.68it/s, loss=2.24]"
     ]
    },
    {
     "name": "stdout",
     "output_type": "stream",
     "text": [
      "Epoch  44/ 50 -- train_loss: 1.863 -- validation_loss: 63.123\n",
      "Saving model..\n"
     ]
    },
    {
     "name": "stderr",
     "output_type": "stream",
     "text": [
      "100%|████████████████████████████████| 20/20 [00:02<00:00,  9.85it/s, loss=1.47]\n",
      "  5%|█▋                               | 1/20 [00:00<00:01,  9.72it/s, loss=1.63]"
     ]
    },
    {
     "name": "stdout",
     "output_type": "stream",
     "text": [
      "Epoch  45/ 50 -- train_loss: 1.880 -- validation_loss: 61.225\n",
      "Saving model..\n"
     ]
    },
    {
     "name": "stderr",
     "output_type": "stream",
     "text": [
      "100%|████████████████████████████████| 20/20 [00:02<00:00,  9.71it/s, loss=1.94]\n",
      "  5%|█▋                               | 1/20 [00:00<00:01,  9.68it/s, loss=1.93]"
     ]
    },
    {
     "name": "stdout",
     "output_type": "stream",
     "text": [
      "Epoch  46/ 50 -- train_loss: 1.806 -- validation_loss: 59.397\n",
      "Saving model..\n"
     ]
    },
    {
     "name": "stderr",
     "output_type": "stream",
     "text": [
      "100%|████████████████████████████████| 20/20 [00:02<00:00,  9.63it/s, loss=2.56]\n",
      "  5%|█▋                               | 1/20 [00:00<00:02,  9.13it/s, loss=1.08]"
     ]
    },
    {
     "name": "stdout",
     "output_type": "stream",
     "text": [
      "Epoch  47/ 50 -- train_loss: 2.035 -- validation_loss: 57.697\n",
      "Saving model..\n"
     ]
    },
    {
     "name": "stderr",
     "output_type": "stream",
     "text": [
      "100%|████████████████████████████████| 20/20 [00:02<00:00,  9.87it/s, loss=1.25]\n",
      "  5%|█▋                               | 1/20 [00:00<00:02,  9.41it/s, loss=2.38]"
     ]
    },
    {
     "name": "stdout",
     "output_type": "stream",
     "text": [
      "Epoch  48/ 50 -- train_loss: 1.842 -- validation_loss: 56.055\n",
      "Saving model..\n"
     ]
    },
    {
     "name": "stderr",
     "output_type": "stream",
     "text": [
      "100%|████████████████████████████████| 20/20 [00:02<00:00,  9.57it/s, loss=2.19]\n",
      "  5%|█▋                               | 1/20 [00:00<00:01,  9.59it/s, loss=2.24]"
     ]
    },
    {
     "name": "stdout",
     "output_type": "stream",
     "text": [
      "Epoch  49/ 50 -- train_loss: 1.984 -- validation_loss: 54.497\n",
      "Saving model..\n"
     ]
    },
    {
     "name": "stderr",
     "output_type": "stream",
     "text": [
      "100%|████████████████████████████████| 20/20 [00:02<00:00,  9.68it/s, loss=1.78]\n"
     ]
    },
    {
     "name": "stdout",
     "output_type": "stream",
     "text": [
      "Epoch  50/ 50 -- train_loss: 1.889 -- validation_loss: 53.024\n",
      "Saving model..\n",
      "###### Stop training after 50 epochs!\n",
      "Validation loss: 53.024\n",
      "Test loss:       53.110\n",
      "Training Size 100:\n",
      "Training Epoch 200: MIA Performance = {'ablated_eq1': {'accuracy': 0.48, 'aucroc': 0.4861}, 'ablated_eq2': {'accuracy': 0.46, 'aucroc': 0.487}, 'LOGAN_D1': {'accuracy': 0.54, 'aucroc': 0.556}, 'MC': {'accuracy': 0.51, 'aucroc': 0.50105}, 'gan_leaks': {'accuracy': 0.51, 'aucroc': 0.5291}, 'gan_leaks_cal': {'accuracy': 0.53, 'aucroc': 0.558}, 'LOGAN_0': {'accuracy': 0.45, 'aucroc': 0.45840000000000003}, 'eq1': {'accuracy': 0.5, 'aucroc': 0.5}, 'domias': {'accuracy': 0.5, 'aucroc': 0.5}}\n",
      "\n"
     ]
    }
   ],
   "source": [
    "def get_generator(\n",
    "    gan_method: str = \"CTGAN\",\n",
    "    epochs: int = 1000,\n",
    "    seed: int = 0,\n",
    ") -> GeneratorInterface:\n",
    "    class LocalGenerator(GeneratorInterface):\n",
    "        def __init__(self) -> None:\n",
    "            if gan_method == \"TVAE\":\n",
    "                syn_model = TVAESynthesizer(metadata, epochs=epochs)\n",
    "            elif gan_method == \"CTGAN\":\n",
    "                syn_model = CTGAN(epochs=epochs)\n",
    "            elif gan_method == \"KDE\":\n",
    "                syn_model = None\n",
    "            else:\n",
    "                raise RuntimeError()\n",
    "            self.method = gan_method\n",
    "            self.model = syn_model\n",
    "                \n",
    "\n",
    "        def fit(self, data: pd.DataFrame) -> \"LocalGenerator\":\n",
    "            if self.method == \"KDE\":\n",
    "                self.model = stats.gaussian_kde(np.transpose(data))\n",
    "            else:\n",
    "                self.model.fit(data)\n",
    "            return self\n",
    "\n",
    "        def generate(self, count: int) -> pd.DataFrame:\n",
    "            \n",
    "            if gan_method == \"KDE\":\n",
    "                samples = pd.DataFrame(self.model.resample(count).transpose(1, 0))\n",
    "            elif gan_method == \"TVAE\":\n",
    "                samples = self.model.sample(count)\n",
    "            elif gan_method == \"CTGAN\":\n",
    "                samples = self.model.generate(count)\n",
    "            else:\n",
    "                raise RuntimeError()\n",
    "\n",
    "            return samples\n",
    "            \n",
    "            #return self.model.sample(count)\n",
    "\n",
    "    return LocalGenerator()\n",
    "\n",
    "\n",
    "#Loading metadata from dataset for use in TVAESynthesizer\n",
    "dataset = get_dataset()\n",
    "df_dataset = pd.DataFrame(dataset)\n",
    "for i, col in enumerate(df_dataset.columns):\n",
    "    df_dataset.rename(columns={col: f'{i}'}, inplace=True)\n",
    "df_dataset\n",
    "    \n",
    "\n",
    "    \n",
    "    \n",
    "from sdv.metadata import SingleTableMetadata\n",
    "\n",
    "metadata = SingleTableMetadata()\n",
    "metadata.detect_from_dataframe(data=df_dataset)\n",
    "\n",
    "\n",
    "\n",
    "\n",
    "\n",
    "\n",
    "\"\"\"\n",
    "Args:\n",
    "    generator: GeneratorInterface\n",
    "        Generator with the `fit` and `generate` methods. The generator MUST not be fitted.\n",
    "    dataset: int\n",
    "        The evaluation dataset, used to derive the training and test datasets.\n",
    "    training_size: int\n",
    "        The split for the training (member) dataset out of `dataset`\n",
    "    reference_size: int\n",
    "        The split for the reference dataset out of `dataset`.\n",
    "    training_epochs: int\n",
    "        Training epochs\n",
    "    synthetic_sizes: List[int]\n",
    "        For how many synthetic samples to test the attacks.\n",
    "\n",
    "\"\"\"\n",
    "\n",
    "\"\"\"\n",
    "CTGAN Args:\n",
    "\n",
    "embedding_dim: int = 128,\n",
    "generator_dim: Tuple = (256, 256),\n",
    "discriminator_dim: Tuple = (256, 256),\n",
    "generator_lr: float = 2e-4,\n",
    "generator_decay: float = 1e-6,\n",
    "discriminator_lr: float = 2e-4,\n",
    "discriminator_decay: float = 1e-6,\n",
    "batch_size: int = 500,\n",
    "discriminator_steps: int = 1,\n",
    "log_frequency: bool = True,\n",
    "verbose: bool = False,\n",
    "epochs: int = 300,\n",
    "pac: int = 1,\n",
    "cuda: bool = True,\n",
    "\n",
    "\n",
    "\n",
    "\"\"\"\n",
    "\n",
    "\n",
    "# mem_set_size = 1000 -> originally what training size was\n",
    "reference_set_size = 1000 #held out set\n",
    "training_epochs = [200]\n",
    "training_sizes = [100]\n",
    "#synthetic_sizes = [200]\n",
    "density_estimator = \"bnaf\"  # prior, kde, bnaf\n",
    "gen_size = 100 #same as synthetic_sizes\n",
    "\n",
    "method = \"TVAE\"\n",
    "\n",
    "results={}\n",
    "    \n",
    "for training_size in training_sizes:\n",
    "    # Initialize the result dictionary for the current training size\n",
    "    size_results = {}\n",
    "\n",
    "    for training_epoch in training_epochs:\n",
    "        generator = get_generator(\n",
    "            gan_method=method,\n",
    "            epochs=training_epoch,\n",
    "        )\n",
    "\n",
    "        perf = evaluate_performance(\n",
    "            generator,\n",
    "            dataset,\n",
    "            training_size,\n",
    "            reference_set_size,\n",
    "            training_epochs=training_epoch,\n",
    "            synthetic_sizes=[gen_size],\n",
    "            density_estimator=density_estimator,\n",
    "        )\n",
    "\n",
    "        # Store the MIA performance for the current training size and epoch\n",
    "        size_results[training_epoch] = perf[gen_size][\"MIA_performance\"]\n",
    "\n",
    "    # Store the results for the current training size\n",
    "    results[training_size] = size_results\n",
    "\n",
    "\n",
    "# Print the results\n",
    "for training_size, size_results in results.items():\n",
    "    print(f\"Training Size {training_size}:\")\n",
    "    for training_epoch, mia_performance in size_results.items():\n",
    "        print(f\"Training Epoch {training_epoch}: MIA Performance = {mia_performance}\")\n",
    "    print()\n"
   ]
  },
  {
   "cell_type": "markdown",
   "metadata": {},
   "source": [
    "# Trial with KDE to see if just BNAF the issue"
   ]
  },
  {
   "cell_type": "code",
   "execution_count": 7,
   "metadata": {},
   "outputs": [
    {
     "name": "stdout",
     "output_type": "stream",
     "text": [
      "Synth set            0         1         2         3         4         5         6  \\\n",
      "0  -1.926744 -0.678904 -0.194111  0.443688 -0.246214  0.483035 -0.206311   \n",
      "1  -0.595391  0.726930  2.660430  1.333540 -0.146274 -2.706156  0.289791   \n",
      "2  -0.583932  1.227250 -0.404069  0.719757 -0.448163 -0.117039  0.094845   \n",
      "3  -1.543721  1.143143 -1.022832  0.478252 -0.871955  0.156683  0.383959   \n",
      "4  -1.245567  0.790838  0.239294  0.935872 -0.093211 -1.704996  0.403159   \n",
      "..       ...       ...       ...       ...       ...       ...       ...   \n",
      "95 -0.969554  0.712284  0.301662  0.668275 -0.197071 -2.704115  0.278540   \n",
      "96 -1.112999  0.978461  0.250521  0.734734  0.849111 -0.540759  0.234578   \n",
      "97 -0.965917  1.360749  1.042048  0.821849 -0.076748 -0.126520  0.456338   \n",
      "98 -1.711583  0.352418 -0.911020  0.959313  0.033006 -2.192013  0.290543   \n",
      "99 -0.842634 -1.234554  0.424709  0.268548  2.026984  0.400069  2.028443   \n",
      "\n",
      "           7         8         9  ...        13        14        15        16  \\\n",
      "0  -0.082620 -0.776209  0.039778  ...  0.008452  0.267078 -0.476667  0.139881   \n",
      "1   0.074230  0.281847 -0.021374  ... -0.894155  0.866451 -0.123339 -0.051091   \n",
      "2   0.098569 -1.655221 -2.206550  ... -0.882047  1.249366 -0.015811 -0.749236   \n",
      "3   0.186466 -0.043198 -0.696745  ... -1.260247  1.635173 -0.080175 -0.471309   \n",
      "4  -0.718902  0.203429  0.074452  ... -0.387901  0.139587  0.099071 -0.304202   \n",
      "..       ...       ...       ...  ...       ...       ...       ...       ...   \n",
      "95  0.067477 -1.589502  0.390779  ... -0.842428  0.216536 -0.086491 -0.553470   \n",
      "96  0.164905 -2.525287  0.461955  ... -1.098218  0.220017  0.067268  0.067659   \n",
      "97  0.302500 -2.373675 -0.088671  ... -0.905695  0.584622  0.036381 -0.323296   \n",
      "98  0.115308 -2.568823  0.360310  ... -1.093369  0.010705 -0.477664  0.130915   \n",
      "99  0.105882 -0.155450  0.410305  ... -0.243290  0.390225  0.199924 -0.819143   \n",
      "\n",
      "          17        18        19        20        21        22  \n",
      "0  -0.426649 -0.287423 -0.594561 -0.819951 -0.334551 -0.052821  \n",
      "1   0.035519 -0.264129 -0.418559  0.226540 -0.052920  1.764153  \n",
      "2  -0.467540  1.402363 -0.225622  0.405312  0.185055 -0.246920  \n",
      "3  -0.457151 -0.185122 -0.280466  0.177849 -0.283687 -0.454595  \n",
      "4  -0.431865  0.067088 -0.235171  0.074290  0.015673  0.168113  \n",
      "..       ...       ...       ...       ...       ...       ...  \n",
      "95 -0.300912  0.082711 -0.263875 -0.237414 -0.487260  0.498295  \n",
      "96 -0.111283 -0.183447 -0.144858 -0.048955 -0.590950 -0.432964  \n",
      "97 -0.241146  0.018064 -0.370900 -0.293577 -0.181695 -0.027136  \n",
      "98  0.003668  0.584482  0.083991  0.110320 -0.277659 -0.039825  \n",
      "99  2.629450 -0.359009 -0.427778  0.177230  0.080332 -0.300723  \n",
      "\n",
      "[100 rows x 23 columns]\n",
      "[1.59476256e-014 9.69619609e-024 3.28724149e-009 4.88607718e-009\n",
      " 3.69544907e-023 3.23480009e-014 4.35416109e-034 9.28751275e-013\n",
      " 1.45594279e-013 3.97090345e-013 1.81947419e-011 1.88100142e-014\n",
      " 4.85677447e-028 2.08992701e-020 7.57338770e-053 6.17378140e-014\n",
      " 1.99293375e-015 5.54301896e-030 3.89898341e-010 8.32966436e-010\n",
      " 1.09266899e-023 6.51184275e-018 4.09172087e-011 1.59218986e-011\n",
      " 6.79794221e-017 1.15380138e-013 2.67930056e-013 9.97585285e-010\n",
      " 1.31225499e-022 1.12620989e-039 1.57288015e-010 3.01503016e-009\n",
      " 3.22447913e-009 9.54111884e-009 1.17360996e-014 3.70799090e-019\n",
      " 1.21217071e-010 1.94615476e-011 3.71468960e-011 1.59720204e-196\n",
      " 2.11914858e-020 4.13219061e-016 1.41490411e-012 1.13341256e-022\n",
      " 9.99884732e-010 7.13520514e-018 5.19995817e-009 2.11524584e-013\n",
      " 1.27038946e-009 1.14109695e-015 5.02904895e-028 1.45177377e-009\n",
      " 1.55963373e-042 1.96196947e-012 4.04489604e-022 9.00971944e-012\n",
      " 3.19739113e-031 8.07034405e-021 3.76861708e-011 2.08470359e-022\n",
      " 2.90093750e-016 1.73742251e-025 4.61074551e-019 1.56275029e-024\n",
      " 2.13339250e-038 8.00826365e-033 4.02420341e-009 3.30341228e-060\n",
      " 1.63231918e-009 2.72249774e-013 1.90266402e-020 5.01419788e-019\n",
      " 5.31841472e-010 8.00446046e-020 1.13758213e-019 1.75319334e-010\n",
      " 9.73612766e-031 5.43500166e-010 1.05876490e-025 6.67720711e-014\n",
      " 5.93502466e-009 8.33753986e-031 3.25097601e-016 8.34436733e-015\n",
      " 9.02650843e-011 1.95408639e-011 3.19637826e-029 5.18870809e-011\n",
      " 2.36763726e-011 2.65870437e-012 1.68650220e-014 1.12861649e-015\n",
      " 6.76437944e-013 0.00000000e+000 2.58544475e-009 2.74375840e-010\n",
      " 2.60570647e-035 5.39644576e-016 2.16176756e-014 1.42532218e-011\n",
      " 1.90999237e-177 1.61607718e-012 2.05500327e-019 2.03277037e-014\n",
      " 1.07669621e-015 1.24515940e-020 9.95003749e-045 2.78078908e-011\n",
      " 1.14782996e-017 1.80168132e-010 1.52013354e-022 1.73753473e-025\n",
      " 3.49556150e-010 0.00000000e+000 2.06619381e-016 9.67129850e-013\n",
      " 2.19875926e-012 1.57310111e-013 1.30135002e-023 3.40483318e-022\n",
      " 1.02448150e-012 2.50594131e-011 1.24013279e-016 4.33775164e-032\n",
      " 2.26105420e-012 2.24679946e-138 1.87926948e-042 9.40966090e-026\n",
      " 1.50487456e-013 2.73393201e-021 3.53863393e-016 1.32506149e-013\n",
      " 2.26070299e-008 3.85367746e-026 1.30337746e-043 2.28453338e-010\n",
      " 1.33267920e-036 2.93778463e-024 4.97230093e-026 2.85009995e-014\n",
      " 2.97682957e-023 3.12751184e-010 8.43347404e-015 4.72298528e-020\n",
      " 6.46978876e-021 2.05763139e-022 1.95449601e-015 4.28068208e-019\n",
      " 1.81370167e-016 3.91000785e-014 2.14821384e-014 5.73837483e-108\n",
      " 6.52929549e-022 9.82860305e-011 2.32547981e-013 4.71590405e-030\n",
      " 1.94320488e-011 3.63022762e-153 3.62443248e-016 4.11799481e-013\n",
      " 1.25400864e-020 1.36958491e-012 7.55960089e-015 6.29831761e-040\n",
      " 2.37434266e-014 9.17562094e-010 3.45763817e-021 9.94391589e-019\n",
      " 2.88773162e-018 4.63354696e-019 3.82734922e-012 1.32907451e-011\n",
      " 1.10211945e-019 9.27332074e-013 9.22461661e-015 8.91159120e-010\n",
      " 2.77732248e-016 3.59021076e-017 4.56361159e-015 7.66364574e-013\n",
      " 3.63902854e-013 5.86815192e-009 1.19177892e-015 1.94005876e-034\n",
      " 2.29497674e-015 1.11972450e-024 3.11135912e-021 4.63396407e-020\n",
      " 1.11343048e-008 9.29099882e-042 3.53680101e-010 1.08571093e-026\n",
      " 1.27630936e-011 2.02137580e-012 1.83364251e-010 1.24794411e-013\n",
      " 8.15194135e-011 9.44766284e-015 1.43037105e-011 2.76901443e-015]\n",
      "[2.04317951e-004 2.31141328e-009 2.13297932e-004 1.06711655e-004\n",
      " 3.32374097e-008 1.44113502e-008 2.39100273e-011 3.00140714e-012\n",
      " 3.16758455e-006 6.73326361e-005 3.86782667e-008 3.32934187e-005\n",
      " 3.56344674e-011 8.42561018e-005 3.23851795e-010 3.82580992e-006\n",
      " 7.19017763e-008 3.68351066e-007 2.51025636e-004 2.30779872e-008\n",
      " 1.43236924e-005 3.06793960e-009 1.03326529e-005 4.04344802e-005\n",
      " 1.07520344e-007 3.60142697e-024 4.22088306e-007 9.55971285e-005\n",
      " 1.23886195e-007 3.28056672e-010 1.99877076e-004 7.79440061e-006\n",
      " 2.23973211e-006 4.26344787e-006 3.26754675e-007 4.18473423e-008\n",
      " 5.34266475e-006 1.05916263e-006 1.98182135e-005 1.11337532e-028\n",
      " 1.34533014e-010 7.62861981e-008 6.53133798e-009 5.10692049e-006\n",
      " 5.25056447e-006 1.42563046e-037 1.97722713e-004 2.24999981e-007\n",
      " 8.99031928e-008 2.79119609e-011 3.92399782e-006 8.90576990e-005\n",
      " 8.59260099e-009 1.96952973e-006 3.53676098e-006 6.36521396e-007\n",
      " 2.80280886e-008 1.35122719e-004 5.93813377e-005 2.32447281e-006\n",
      " 5.69686495e-056 1.50779775e-008 2.91168449e-005 1.56257397e-013\n",
      " 4.32878114e-015 3.10759839e-016 6.10532093e-006 4.30087933e-070\n",
      " 2.55409559e-004 1.26347995e-004 7.23436722e-006 1.81724060e-006\n",
      " 1.03063259e-004 1.43322377e-005 8.92854615e-008 9.73044156e-006\n",
      " 1.37792997e-010 3.43010887e-005 2.57365654e-009 2.50395204e-008\n",
      " 2.58837836e-004 3.76474094e-006 1.00328424e-008 1.58555813e-007\n",
      " 8.06065528e-005 5.45541584e-005 8.96059775e-010 1.29031138e-005\n",
      " 5.91767892e-006 7.75585580e-005 2.69465209e-005 1.01251548e-007\n",
      " 4.71061431e-006 6.64907248e-066 3.63031008e-004 1.61117838e-005\n",
      " 1.06365663e-013 1.77304343e-008 8.70991768e-007 1.03513666e-007\n",
      " 5.42002206e-029 2.69814536e-011 3.70658567e-008 6.31102725e-006\n",
      " 3.62684631e-006 6.71922978e-005 1.71140554e-013 5.12623509e-015\n",
      " 2.72098432e-006 1.93732509e-004 8.45667915e-011 2.49566459e-006\n",
      " 3.42298488e-005 1.24651560e-153 7.12596201e-007 1.05189214e-006\n",
      " 9.19433515e-005 6.11829547e-005 5.17658814e-005 1.14718755e-004\n",
      " 2.84585814e-004 2.67441572e-006 1.15342700e-007 3.77186180e-005\n",
      " 1.03889157e-009 1.28938911e-008 5.95667257e-012 1.26608302e-005\n",
      " 4.23145933e-005 3.83074832e-005 4.31608749e-006 1.33710878e-004\n",
      " 2.12328524e-005 2.13394212e-007 1.43281423e-065 1.38132084e-008\n",
      " 6.50954644e-006 2.64129769e-006 4.05010289e-009 2.33611153e-005\n",
      " 4.06798114e-010 8.61079380e-007 3.08544342e-013 1.18966685e-006\n",
      " 1.96560726e-009 2.19120231e-009 5.44835279e-009 3.03433496e-007\n",
      " 4.24057064e-008 5.09255464e-010 2.21576240e-004 5.48463146e-012\n",
      " 4.18634671e-006 1.28138332e-004 3.08906503e-005 3.35964271e-010\n",
      " 3.25947376e-007 5.37685552e-015 7.74786226e-006 9.61919695e-006\n",
      " 1.06812343e-004 7.66954093e-006 7.01165562e-006 7.51424419e-008\n",
      " 3.00893165e-005 2.35237943e-005 2.25917463e-006 6.09840990e-007\n",
      " 2.84129552e-007 5.40766965e-009 3.75135491e-005 6.09573647e-007\n",
      " 1.43988000e-006 6.28738217e-008 4.89468451e-008 2.22032571e-005\n",
      " 8.24216068e-007 2.70725260e-007 1.61201949e-005 2.63777478e-004\n",
      " 5.99223720e-007 1.90885113e-006 1.99461910e-010 1.16949116e-006\n",
      " 8.11285671e-010 1.63775947e-013 1.27375865e-004 1.18546665e-004\n",
      " 4.05793708e-005 8.95751911e-008 9.38563800e-005 3.53488236e-006\n",
      " 3.96240602e-005 2.02336551e-005 4.02401699e-006 2.55339988e-006\n",
      " 1.51472228e-004 1.42918097e-004 1.40317110e-005 3.65376950e-006]\n",
      "[7.80529447e-011 4.02095989e-015 1.54114947e-005 4.57876189e-005\n",
      " 1.10849916e-015 2.22915170e-006 3.51396992e-024 9.01687949e-003\n",
      " 4.59623668e-008 5.89743368e-009 4.69199463e-004 5.64975255e-010\n",
      " 3.58078191e-018 2.48044294e-016 1.78680090e-043 1.61367662e-008\n",
      " 2.76789526e-008 1.50441116e-023 1.55322059e-006 3.59378245e-002\n",
      " 7.62834981e-019 2.05554511e-009 3.95995229e-006 3.93769356e-007\n",
      " 6.31659590e-010 1.15380138e-003 6.34622162e-007 1.04352951e-005\n",
      " 1.05838799e-015 2.63098314e-030 7.86923340e-007 3.86815051e-004\n",
      " 1.43960751e-003 2.23783551e-003 3.59061703e-008 8.83963248e-012\n",
      " 2.26880794e-005 1.83727311e-005 1.87437221e-006 1.59720204e-186\n",
      " 9.03560885e-011 5.40960371e-009 2.13366309e-004 2.21932252e-017\n",
      " 1.90430133e-004 7.13520514e-008 2.62992322e-005 9.39691700e-007\n",
      " 1.41149377e-002 8.92095583e-006 1.28158093e-022 1.63014782e-005\n",
      " 1.79420835e-034 9.96110811e-007 1.14364010e-016 1.41523981e-005\n",
      " 1.13672535e-023 5.97259896e-017 6.34645645e-007 8.96811483e-017\n",
      " 2.90093750e-006 1.14469962e-017 1.58352654e-014 1.56031219e-014\n",
      " 2.13330016e-028 8.00823877e-023 6.59119733e-004 3.30341228e-050\n",
      " 6.39098456e-006 2.15475962e-009 2.62999881e-015 2.75908538e-013\n",
      " 5.16033515e-006 5.58489524e-015 1.27267019e-012 1.80174282e-005\n",
      " 4.09437107e-021 1.58449368e-005 3.95998845e-017 2.65605986e-006\n",
      " 2.29295008e-005 2.21457958e-025 3.20835545e-008 5.25941480e-008\n",
      " 1.11982177e-006 3.58191358e-007 3.20902253e-020 4.02125251e-006\n",
      " 4.00088832e-006 3.42799171e-008 6.25867786e-010 1.11356611e-008\n",
      " 1.43595620e-007 0.00000000e+000 7.12182700e-006 1.70294078e-005\n",
      " 2.60293784e-025 3.02653635e-008 2.48167602e-008 1.37561216e-004\n",
      " 1.90999237e-167 1.27268757e-002 5.52927728e-012 3.22093073e-009\n",
      " 2.96860257e-010 1.85312542e-016 9.93303803e-035 2.78064654e-001\n",
      " 4.21828148e-012 9.29983508e-007 8.23622456e-013 6.96193356e-020\n",
      " 1.02119974e-005 0.00000000e+000 2.89912281e-010 9.19331818e-007\n",
      " 2.39142563e-008 2.57113856e-009 2.51390968e-019 2.96798046e-018\n",
      " 3.59990234e-009 9.36970115e-006 1.07424097e-009 1.15002627e-027\n",
      " 1.98531122e-003 1.72911982e-130 1.77362070e-032 7.43204549e-021\n",
      " 3.55638773e-009 7.13679064e-017 8.19851765e-011 9.90989309e-010\n",
      " 1.06471439e-003 1.80505009e-019 1.30337746e-033 1.64198890e-002\n",
      " 2.04723745e-031 1.11220838e-018 1.19811510e-017 1.22001356e-009\n",
      " 5.87379765e-014 3.63166131e-004 8.40753307e-005 3.96967294e-014\n",
      " 3.13214854e-012 8.98057491e-014 3.52265994e-007 1.41028326e-012\n",
      " 4.26696044e-009 6.41768205e-005 9.69514093e-011 5.44001031e-098\n",
      " 1.55962704e-016 7.67030068e-007 7.52807812e-009 1.08171801e-020\n",
      " 5.95988503e-005 3.63003244e-143 4.67791706e-011 4.28097274e-008\n",
      " 1.17402861e-016 1.78572234e-007 1.07813240e-009 8.37069804e-033\n",
      " 7.89095615e-010 3.90055356e-005 1.53041960e-015 1.63030786e-012\n",
      " 1.01598571e-011 8.41289921e-011 1.02025511e-007 2.17997697e-005\n",
      " 7.65371360e-014 1.47256757e-005 1.88077675e-007 4.01362332e-005\n",
      " 3.36924462e-010 1.32565580e-010 2.83097276e-010 2.90534388e-009\n",
      " 6.07189140e-007 3.07401893e-003 3.97973459e-006 1.65874951e-028\n",
      " 2.51839441e-006 1.11789366e-014 2.44265794e-017 3.90897555e-016\n",
      " 2.74382701e-004 1.03607238e-034 3.76830775e-006 3.07133338e-021\n",
      " 3.22103826e-007 9.99011698e-008 4.55663320e-005 4.88719080e-008\n",
      " 5.38180237e-007 6.61053880e-011 1.01937736e-006 7.57830685e-010]\n",
      "Training Size 100:\n",
      "Training Epoch 200: MIA Performance = {'ablated_eq1': {'accuracy': 0.54, 'aucroc': 0.56195}, 'ablated_eq2': {'accuracy': 0.58, 'aucroc': 0.5750499999999998}, 'LOGAN_D1': {'accuracy': 0.51, 'aucroc': 0.4706}, 'MC': {'accuracy': 0.5, 'aucroc': 0.5297000000000001}, 'gan_leaks': {'accuracy': 0.5, 'aucroc': 0.5247999999999999}, 'gan_leaks_cal': {'accuracy': 0.53, 'aucroc': 0.544}, 'LOGAN_0': {'accuracy': 0.52, 'aucroc': 0.5337999999999999}, 'eq1': {'accuracy': 0.54, 'aucroc': 0.56195}, 'domias': {'accuracy': 0.58, 'aucroc': 0.56865}}\n",
      "\n"
     ]
    }
   ],
   "source": [
    "def get_generator(\n",
    "    gan_method: str = \"CTGAN\",\n",
    "    epochs: int = 1000,\n",
    "    seed: int = 0,\n",
    ") -> GeneratorInterface:\n",
    "    class LocalGenerator(GeneratorInterface):\n",
    "        def __init__(self) -> None:\n",
    "            if gan_method == \"TVAE\":\n",
    "                syn_model = TVAESynthesizer(metadata, epochs=epochs)\n",
    "            elif gan_method == \"CTGAN\":\n",
    "                syn_model = CTGAN(epochs=epochs)\n",
    "            elif gan_method == \"KDE\":\n",
    "                syn_model = None\n",
    "            else:\n",
    "                raise RuntimeError()\n",
    "            self.method = gan_method\n",
    "            self.model = syn_model\n",
    "                \n",
    "\n",
    "        def fit(self, data: pd.DataFrame) -> \"LocalGenerator\":\n",
    "            if self.method == \"KDE\":\n",
    "                self.model = stats.gaussian_kde(np.transpose(data))\n",
    "            else:\n",
    "                self.model.fit(data)\n",
    "            return self\n",
    "\n",
    "        def generate(self, count: int) -> pd.DataFrame:\n",
    "            \n",
    "            if gan_method == \"KDE\":\n",
    "                samples = pd.DataFrame(self.model.resample(count).transpose(1, 0))\n",
    "            elif gan_method == \"TVAE\":\n",
    "                samples = self.model.sample(count)\n",
    "            elif gan_method == \"CTGAN\":\n",
    "                samples = self.model.generate(count)\n",
    "            else:\n",
    "                raise RuntimeError()\n",
    "\n",
    "            return samples\n",
    "            \n",
    "            #return self.model.sample(count)\n",
    "\n",
    "    return LocalGenerator()\n",
    "\n",
    "\n",
    "#Loading metadata from dataset for use in TVAESynthesizer\n",
    "dataset = get_dataset()\n",
    "df_dataset = pd.DataFrame(dataset)\n",
    "for i, col in enumerate(df_dataset.columns):\n",
    "    df_dataset.rename(columns={col: f'{i}'}, inplace=True)\n",
    "df_dataset\n",
    "    \n",
    "\n",
    "    \n",
    "    \n",
    "from sdv.metadata import SingleTableMetadata\n",
    "\n",
    "metadata = SingleTableMetadata()\n",
    "metadata.detect_from_dataframe(data=df_dataset)\n",
    "\n",
    "\n",
    "\n",
    "\n",
    "\n",
    "\n",
    "\"\"\"\n",
    "Args:\n",
    "    generator: GeneratorInterface\n",
    "        Generator with the `fit` and `generate` methods. The generator MUST not be fitted.\n",
    "    dataset: int\n",
    "        The evaluation dataset, used to derive the training and test datasets.\n",
    "    training_size: int\n",
    "        The split for the training (member) dataset out of `dataset`\n",
    "    reference_size: int\n",
    "        The split for the reference dataset out of `dataset`.\n",
    "    training_epochs: int\n",
    "        Training epochs\n",
    "    synthetic_sizes: List[int]\n",
    "        For how many synthetic samples to test the attacks.\n",
    "\n",
    "\"\"\"\n",
    "\n",
    "\"\"\"\n",
    "CTGAN Args:\n",
    "\n",
    "embedding_dim: int = 128,\n",
    "generator_dim: Tuple = (256, 256),\n",
    "discriminator_dim: Tuple = (256, 256),\n",
    "generator_lr: float = 2e-4,\n",
    "generator_decay: float = 1e-6,\n",
    "discriminator_lr: float = 2e-4,\n",
    "discriminator_decay: float = 1e-6,\n",
    "batch_size: int = 500,\n",
    "discriminator_steps: int = 1,\n",
    "log_frequency: bool = True,\n",
    "verbose: bool = False,\n",
    "epochs: int = 300,\n",
    "pac: int = 1,\n",
    "cuda: bool = True,\n",
    "\n",
    "\n",
    "\n",
    "\"\"\"\n",
    "\n",
    "\n",
    "# mem_set_size = 1000 -> originally what training size was\n",
    "reference_set_size = 1000 #held out set\n",
    "training_epochs = [200]\n",
    "training_sizes = [100]\n",
    "#synthetic_sizes = [200]\n",
    "density_estimator = \"kde\"  # prior, kde, bnaf\n",
    "gen_size = 100 #same as synthetic_sizes\n",
    "\n",
    "method = \"CTGAN\"\n",
    "\n",
    "results={}\n",
    "    \n",
    "for training_size in training_sizes:\n",
    "    # Initialize the result dictionary for the current training size\n",
    "    size_results = {}\n",
    "\n",
    "    for training_epoch in training_epochs:\n",
    "        generator = get_generator(\n",
    "            gan_method=method,\n",
    "            epochs=training_epoch,\n",
    "        )\n",
    "\n",
    "        perf = evaluate_performance(\n",
    "            generator,\n",
    "            dataset,\n",
    "            training_size,\n",
    "            reference_set_size,\n",
    "            training_epochs=training_epoch,\n",
    "            synthetic_sizes=[gen_size],\n",
    "            density_estimator=density_estimator,\n",
    "        )\n",
    "\n",
    "        # Store the MIA performance for the current training size and epoch\n",
    "        size_results[training_epoch] = perf[gen_size][\"MIA_performance\"]\n",
    "\n",
    "    # Store the results for the current training size\n",
    "    results[training_size] = size_results\n",
    "\n",
    "\n",
    "# Print the results\n",
    "for training_size, size_results in results.items():\n",
    "    print(f\"Training Size {training_size}:\")\n",
    "    for training_epoch, mia_performance in size_results.items():\n",
    "        print(f\"Training Epoch {training_epoch}: MIA Performance = {mia_performance}\")\n",
    "    print()\n"
   ]
  },
  {
   "cell_type": "markdown",
   "metadata": {},
   "source": [
    " - Find out what variables the density estimation feeds into the domias model\n",
    "- Maybe gen_size being so small impacts on BNAF estimation and results in the same density value?? Something short curcuits \n",
    "\n",
    "DOMIAS (BNAF for p_R estimation)\n",
    "\n",
    "if density_estimator == \"bnaf\":\n",
    "    p_R_evaluated = np.exp(\n",
    "        compute_log_p_x(p_R_model, torch.as_tensor(X_test).float().to(device))\n",
    "        .cpu()\n",
    "        .detach()\n",
    "        .numpy()\n",
    "    )\n",
    "    \n",
    "    \n",
    "acc, auc = compute_metrics_baseline(p_rel, Y_test)\n"
   ]
  },
  {
   "cell_type": "markdown",
   "metadata": {},
   "source": [
    "# Trial with epoch=2000 and training size variation"
   ]
  },
  {
   "cell_type": "code",
   "execution_count": 19,
   "metadata": {},
   "outputs": [
    {
     "name": "stderr",
     "output_type": "stream",
     "text": [
      " 25%|████████▎                        | 1/4 [00:00<00:00,  8.46it/s, loss=56.31]"
     ]
    },
    {
     "name": "stdout",
     "output_type": "stream",
     "text": [
      "Loading dataset..\n",
      "Creating directory experiment..\n",
      "Creating BNAF model..\n",
      "Creating optimizer..\n",
      "Creating scheduler..\n",
      "Training..\n"
     ]
    },
    {
     "name": "stderr",
     "output_type": "stream",
     "text": [
      "100%|█████████████████████████████████| 4/4 [00:00<00:00,  9.00it/s, loss=48.53]\n",
      " 25%|████████▎                        | 1/4 [00:00<00:00,  8.22it/s, loss=45.43]"
     ]
    },
    {
     "name": "stdout",
     "output_type": "stream",
     "text": [
      "Epoch   1/ 50 -- train_loss: 52.212 -- validation_loss: 335.358\n",
      "Saving model..\n"
     ]
    },
    {
     "name": "stderr",
     "output_type": "stream",
     "text": [
      "100%|█████████████████████████████████| 4/4 [00:00<00:00,  8.71it/s, loss=40.20]\n",
      "  0%|                                                     | 0/4 [00:00<?, ?it/s]"
     ]
    },
    {
     "name": "stdout",
     "output_type": "stream",
     "text": [
      "Epoch   2/ 50 -- train_loss: 42.505 -- validation_loss: 330.244\n",
      "Saving model..\n"
     ]
    },
    {
     "name": "stderr",
     "output_type": "stream",
     "text": [
      "100%|█████████████████████████████████| 4/4 [00:01<00:00,  2.25it/s, loss=31.07]\n",
      " 25%|████████▎                        | 1/4 [00:00<00:00,  8.41it/s, loss=27.60]"
     ]
    },
    {
     "name": "stdout",
     "output_type": "stream",
     "text": [
      "Epoch   3/ 50 -- train_loss: 33.186 -- validation_loss: 324.963\n",
      "Saving model..\n"
     ]
    },
    {
     "name": "stderr",
     "output_type": "stream",
     "text": [
      "100%|█████████████████████████████████| 4/4 [00:00<00:00,  8.43it/s, loss=21.35]\n",
      "  0%|                                                     | 0/4 [00:00<?, ?it/s]"
     ]
    },
    {
     "name": "stdout",
     "output_type": "stream",
     "text": [
      "Epoch   4/ 50 -- train_loss: 24.299 -- validation_loss: 319.537\n",
      "Saving model..\n"
     ]
    },
    {
     "name": "stderr",
     "output_type": "stream",
     "text": [
      "100%|█████████████████████████████████| 4/4 [00:00<00:00,  7.94it/s, loss=15.55]\n",
      " 25%|████████▎                        | 1/4 [00:00<00:00,  8.21it/s, loss=14.30]"
     ]
    },
    {
     "name": "stdout",
     "output_type": "stream",
     "text": [
      "Epoch   5/ 50 -- train_loss: 18.111 -- validation_loss: 314.017\n",
      "Saving model..\n"
     ]
    },
    {
     "name": "stderr",
     "output_type": "stream",
     "text": [
      "100%|█████████████████████████████████| 4/4 [00:00<00:00,  8.39it/s, loss=11.73]\n",
      " 25%|████████▎                        | 1/4 [00:00<00:00,  8.20it/s, loss=11.87]"
     ]
    },
    {
     "name": "stdout",
     "output_type": "stream",
     "text": [
      "Epoch   6/ 50 -- train_loss: 13.393 -- validation_loss: 308.420\n",
      "Saving model..\n"
     ]
    },
    {
     "name": "stderr",
     "output_type": "stream",
     "text": [
      "100%|██████████████████████████████████| 4/4 [00:00<00:00,  8.38it/s, loss=8.70]\n",
      " 25%|████████▌                         | 1/4 [00:00<00:00,  8.21it/s, loss=8.54]"
     ]
    },
    {
     "name": "stdout",
     "output_type": "stream",
     "text": [
      "Epoch   7/ 50 -- train_loss: 10.495 -- validation_loss: 302.911\n",
      "Saving model..\n"
     ]
    },
    {
     "name": "stderr",
     "output_type": "stream",
     "text": [
      "100%|██████████████████████████████████| 4/4 [00:00<00:00,  8.23it/s, loss=7.43]\n",
      " 25%|████████▌                         | 1/4 [00:00<00:00,  8.18it/s, loss=7.49]"
     ]
    },
    {
     "name": "stdout",
     "output_type": "stream",
     "text": [
      "Epoch   8/ 50 -- train_loss: 8.126 -- validation_loss: 297.497\n",
      "Saving model..\n"
     ]
    },
    {
     "name": "stderr",
     "output_type": "stream",
     "text": [
      "100%|██████████████████████████████████| 4/4 [00:00<00:00,  8.04it/s, loss=7.24]\n",
      " 25%|████████▌                         | 1/4 [00:00<00:00,  8.41it/s, loss=5.84]"
     ]
    },
    {
     "name": "stdout",
     "output_type": "stream",
     "text": [
      "Epoch   9/ 50 -- train_loss: 7.303 -- validation_loss: 292.169\n",
      "Saving model..\n"
     ]
    },
    {
     "name": "stderr",
     "output_type": "stream",
     "text": [
      "100%|██████████████████████████████████| 4/4 [00:00<00:00,  8.33it/s, loss=6.12]\n",
      "  0%|                                                     | 0/4 [00:00<?, ?it/s]"
     ]
    },
    {
     "name": "stdout",
     "output_type": "stream",
     "text": [
      "Epoch  10/ 50 -- train_loss: 6.300 -- validation_loss: 286.964\n",
      "Saving model..\n"
     ]
    },
    {
     "name": "stderr",
     "output_type": "stream",
     "text": [
      "100%|██████████████████████████████████| 4/4 [00:00<00:00,  6.76it/s, loss=3.88]\n",
      "  0%|                                                     | 0/4 [00:00<?, ?it/s]"
     ]
    },
    {
     "name": "stdout",
     "output_type": "stream",
     "text": [
      "Epoch  11/ 50 -- train_loss: 5.172 -- validation_loss: 281.923\n",
      "Saving model..\n"
     ]
    },
    {
     "name": "stderr",
     "output_type": "stream",
     "text": [
      "100%|██████████████████████████████████| 4/4 [00:00<00:00,  6.80it/s, loss=3.94]\n",
      " 25%|████████▌                         | 1/4 [00:00<00:00,  8.27it/s, loss=4.36]"
     ]
    },
    {
     "name": "stdout",
     "output_type": "stream",
     "text": [
      "Epoch  12/ 50 -- train_loss: 4.360 -- validation_loss: 277.087\n",
      "Saving model..\n"
     ]
    },
    {
     "name": "stderr",
     "output_type": "stream",
     "text": [
      "100%|██████████████████████████████████| 4/4 [00:00<00:00,  8.31it/s, loss=3.24]\n",
      " 25%|████████▌                         | 1/4 [00:00<00:00,  8.14it/s, loss=3.49]"
     ]
    },
    {
     "name": "stdout",
     "output_type": "stream",
     "text": [
      "Epoch  13/ 50 -- train_loss: 3.853 -- validation_loss: 272.413\n",
      "Saving model..\n"
     ]
    },
    {
     "name": "stderr",
     "output_type": "stream",
     "text": [
      "100%|██████████████████████████████████| 4/4 [00:00<00:00,  8.21it/s, loss=3.21]\n",
      " 25%|████████▌                         | 1/4 [00:00<00:00,  7.98it/s, loss=3.79]"
     ]
    },
    {
     "name": "stdout",
     "output_type": "stream",
     "text": [
      "Epoch  14/ 50 -- train_loss: 3.376 -- validation_loss: 267.885\n",
      "Saving model..\n"
     ]
    },
    {
     "name": "stderr",
     "output_type": "stream",
     "text": [
      "100%|██████████████████████████████████| 4/4 [00:00<00:00,  7.84it/s, loss=3.15]\n",
      " 25%|████████▌                         | 1/4 [00:00<00:00,  8.13it/s, loss=2.72]"
     ]
    },
    {
     "name": "stdout",
     "output_type": "stream",
     "text": [
      "Epoch  15/ 50 -- train_loss: 3.101 -- validation_loss: 263.462\n",
      "Saving model..\n"
     ]
    },
    {
     "name": "stderr",
     "output_type": "stream",
     "text": [
      "100%|██████████████████████████████████| 4/4 [00:00<00:00,  8.14it/s, loss=3.18]\n",
      " 25%|████████▌                         | 1/4 [00:00<00:00,  8.35it/s, loss=2.70]"
     ]
    },
    {
     "name": "stdout",
     "output_type": "stream",
     "text": [
      "Epoch  16/ 50 -- train_loss: 2.909 -- validation_loss: 259.245\n",
      "Saving model..\n"
     ]
    },
    {
     "name": "stderr",
     "output_type": "stream",
     "text": [
      "100%|██████████████████████████████████| 4/4 [00:00<00:00,  8.28it/s, loss=2.85]\n",
      " 25%|████████▌                         | 1/4 [00:00<00:00,  8.30it/s, loss=2.37]"
     ]
    },
    {
     "name": "stdout",
     "output_type": "stream",
     "text": [
      "Epoch  17/ 50 -- train_loss: 2.782 -- validation_loss: 255.244\n",
      "Saving model..\n"
     ]
    },
    {
     "name": "stderr",
     "output_type": "stream",
     "text": [
      "100%|██████████████████████████████████| 4/4 [00:00<00:00,  8.21it/s, loss=3.02]\n",
      " 25%|████████▌                         | 1/4 [00:00<00:00,  7.38it/s, loss=2.50]"
     ]
    },
    {
     "name": "stdout",
     "output_type": "stream",
     "text": [
      "Epoch  18/ 50 -- train_loss: 2.482 -- validation_loss: 251.315\n",
      "Saving model..\n"
     ]
    },
    {
     "name": "stderr",
     "output_type": "stream",
     "text": [
      "100%|██████████████████████████████████| 4/4 [00:00<00:00,  7.82it/s, loss=1.72]\n",
      " 25%|████████▌                         | 1/4 [00:00<00:00,  7.70it/s, loss=1.57]"
     ]
    },
    {
     "name": "stdout",
     "output_type": "stream",
     "text": [
      "Epoch  19/ 50 -- train_loss: 2.305 -- validation_loss: 247.542\n",
      "Saving model..\n"
     ]
    },
    {
     "name": "stderr",
     "output_type": "stream",
     "text": [
      "100%|██████████████████████████████████| 4/4 [00:00<00:00,  8.06it/s, loss=2.40]\n",
      " 25%|████████▌                         | 1/4 [00:00<00:00,  8.48it/s, loss=1.37]"
     ]
    },
    {
     "name": "stdout",
     "output_type": "stream",
     "text": [
      "Epoch  20/ 50 -- train_loss: 2.186 -- validation_loss: 243.883\n",
      "Saving model..\n"
     ]
    },
    {
     "name": "stderr",
     "output_type": "stream",
     "text": [
      "100%|██████████████████████████████████| 4/4 [00:00<00:00,  8.33it/s, loss=2.39]\n",
      " 25%|████████▌                         | 1/4 [00:00<00:00,  8.27it/s, loss=1.65]"
     ]
    },
    {
     "name": "stdout",
     "output_type": "stream",
     "text": [
      "Epoch  21/ 50 -- train_loss: 1.964 -- validation_loss: 240.288\n",
      "Saving model..\n"
     ]
    },
    {
     "name": "stderr",
     "output_type": "stream",
     "text": [
      "100%|██████████████████████████████████| 4/4 [00:00<00:00,  7.93it/s, loss=2.00]\n",
      " 25%|████████▌                         | 1/4 [00:00<00:00,  8.27it/s, loss=1.36]"
     ]
    },
    {
     "name": "stdout",
     "output_type": "stream",
     "text": [
      "Epoch  22/ 50 -- train_loss: 1.878 -- validation_loss: 236.894\n",
      "Saving model..\n"
     ]
    },
    {
     "name": "stderr",
     "output_type": "stream",
     "text": [
      "100%|██████████████████████████████████| 4/4 [00:00<00:00,  8.27it/s, loss=1.49]\n",
      " 25%|████████▌                         | 1/4 [00:00<00:00,  8.49it/s, loss=1.12]"
     ]
    },
    {
     "name": "stdout",
     "output_type": "stream",
     "text": [
      "Epoch  23/ 50 -- train_loss: 1.653 -- validation_loss: 233.530\n",
      "Saving model..\n"
     ]
    },
    {
     "name": "stderr",
     "output_type": "stream",
     "text": [
      "100%|██████████████████████████████████| 4/4 [00:00<00:00,  8.20it/s, loss=2.77]\n",
      " 25%|████████▌                         | 1/4 [00:00<00:00,  8.34it/s, loss=1.15]"
     ]
    },
    {
     "name": "stdout",
     "output_type": "stream",
     "text": [
      "Epoch  24/ 50 -- train_loss: 1.667 -- validation_loss: 230.354\n",
      "Saving model..\n"
     ]
    },
    {
     "name": "stderr",
     "output_type": "stream",
     "text": [
      "100%|██████████████████████████████████| 4/4 [00:00<00:00,  8.11it/s, loss=1.57]\n",
      " 25%|████████▌                         | 1/4 [00:00<00:00,  7.47it/s, loss=1.20]"
     ]
    },
    {
     "name": "stdout",
     "output_type": "stream",
     "text": [
      "Epoch  25/ 50 -- train_loss: 1.520 -- validation_loss: 227.346\n",
      "Saving model..\n"
     ]
    },
    {
     "name": "stderr",
     "output_type": "stream",
     "text": [
      "100%|██████████████████████████████████| 4/4 [00:00<00:00,  7.14it/s, loss=1.64]\n",
      "  0%|                                                     | 0/4 [00:00<?, ?it/s]"
     ]
    },
    {
     "name": "stdout",
     "output_type": "stream",
     "text": [
      "Epoch  26/ 50 -- train_loss: 1.454 -- validation_loss: 224.393\n",
      "Saving model..\n"
     ]
    },
    {
     "name": "stderr",
     "output_type": "stream",
     "text": [
      "100%|██████████████████████████████████| 4/4 [00:00<00:00,  7.59it/s, loss=0.84]\n",
      " 25%|████████▌                         | 1/4 [00:00<00:00,  8.28it/s, loss=0.88]"
     ]
    },
    {
     "name": "stdout",
     "output_type": "stream",
     "text": [
      "Epoch  27/ 50 -- train_loss: 1.360 -- validation_loss: 221.481\n",
      "Saving model..\n"
     ]
    },
    {
     "name": "stderr",
     "output_type": "stream",
     "text": [
      "100%|██████████████████████████████████| 4/4 [00:00<00:00,  8.27it/s, loss=1.28]\n",
      " 25%|████████▌                         | 1/4 [00:00<00:00,  8.34it/s, loss=1.34]"
     ]
    },
    {
     "name": "stdout",
     "output_type": "stream",
     "text": [
      "Epoch  28/ 50 -- train_loss: 1.186 -- validation_loss: 218.744\n",
      "Saving model..\n"
     ]
    },
    {
     "name": "stderr",
     "output_type": "stream",
     "text": [
      "100%|██████████████████████████████████| 4/4 [00:00<00:00,  7.78it/s, loss=1.49]\n",
      " 25%|████████▌                         | 1/4 [00:00<00:00,  8.38it/s, loss=1.62]"
     ]
    },
    {
     "name": "stdout",
     "output_type": "stream",
     "text": [
      "Epoch  29/ 50 -- train_loss: 1.184 -- validation_loss: 216.061\n",
      "Saving model..\n"
     ]
    },
    {
     "name": "stderr",
     "output_type": "stream",
     "text": [
      "100%|██████████████████████████████████| 4/4 [00:00<00:00,  8.25it/s, loss=1.56]\n",
      " 25%|████████▌                         | 1/4 [00:00<00:00,  7.94it/s, loss=1.56]"
     ]
    },
    {
     "name": "stdout",
     "output_type": "stream",
     "text": [
      "Epoch  30/ 50 -- train_loss: 1.194 -- validation_loss: 213.521\n",
      "Saving model..\n"
     ]
    },
    {
     "name": "stderr",
     "output_type": "stream",
     "text": [
      "100%|██████████████████████████████████| 4/4 [00:00<00:00,  8.02it/s, loss=1.02]\n",
      " 25%|████████▌                         | 1/4 [00:00<00:00,  8.34it/s, loss=0.73]"
     ]
    },
    {
     "name": "stdout",
     "output_type": "stream",
     "text": [
      "Epoch  31/ 50 -- train_loss: 0.883 -- validation_loss: 210.979\n",
      "Saving model..\n"
     ]
    },
    {
     "name": "stderr",
     "output_type": "stream",
     "text": [
      "100%|██████████████████████████████████| 4/4 [00:00<00:00,  8.28it/s, loss=0.85]\n",
      "  0%|                                                     | 0/4 [00:00<?, ?it/s]"
     ]
    },
    {
     "name": "stdout",
     "output_type": "stream",
     "text": [
      "Epoch  32/ 50 -- train_loss: 0.920 -- validation_loss: 208.656\n",
      "Saving model..\n"
     ]
    },
    {
     "name": "stderr",
     "output_type": "stream",
     "text": [
      "100%|██████████████████████████████████| 4/4 [00:00<00:00,  7.51it/s, loss=1.43]\n",
      " 25%|████████▌                         | 1/4 [00:00<00:00,  8.34it/s, loss=0.90]"
     ]
    },
    {
     "name": "stdout",
     "output_type": "stream",
     "text": [
      "Epoch  33/ 50 -- train_loss: 0.954 -- validation_loss: 206.281\n",
      "Saving model..\n"
     ]
    },
    {
     "name": "stderr",
     "output_type": "stream",
     "text": [
      "100%|██████████████████████████████████| 4/4 [00:00<00:00,  8.25it/s, loss=1.39]\n",
      " 25%|████████▌                         | 1/4 [00:00<00:00,  8.14it/s, loss=1.64]"
     ]
    },
    {
     "name": "stdout",
     "output_type": "stream",
     "text": [
      "Epoch  34/ 50 -- train_loss: 0.808 -- validation_loss: 204.001\n",
      "Saving model..\n"
     ]
    },
    {
     "name": "stderr",
     "output_type": "stream",
     "text": [
      "100%|██████████████████████████████████| 4/4 [00:00<00:00,  7.89it/s, loss=0.52]\n",
      "  0%|                                                     | 0/4 [00:00<?, ?it/s]"
     ]
    },
    {
     "name": "stdout",
     "output_type": "stream",
     "text": [
      "Epoch  35/ 50 -- train_loss: 0.890 -- validation_loss: 201.833\n",
      "Saving model..\n"
     ]
    },
    {
     "name": "stderr",
     "output_type": "stream",
     "text": [
      "100%|██████████████████████████████████| 4/4 [00:00<00:00,  7.24it/s, loss=0.36]\n",
      " 25%|████████▌                         | 1/4 [00:00<00:00,  8.17it/s, loss=0.51]"
     ]
    },
    {
     "name": "stdout",
     "output_type": "stream",
     "text": [
      "Epoch  36/ 50 -- train_loss: 0.670 -- validation_loss: 199.677\n",
      "Saving model..\n"
     ]
    },
    {
     "name": "stderr",
     "output_type": "stream",
     "text": [
      "100%|██████████████████████████████████| 4/4 [00:00<00:00,  8.11it/s, loss=1.42]\n",
      " 25%|████████▌                         | 1/4 [00:00<00:00,  8.08it/s, loss=1.10]"
     ]
    },
    {
     "name": "stdout",
     "output_type": "stream",
     "text": [
      "Epoch  37/ 50 -- train_loss: 0.704 -- validation_loss: 197.596\n",
      "Saving model..\n"
     ]
    },
    {
     "name": "stderr",
     "output_type": "stream",
     "text": [
      "100%|██████████████████████████████████| 4/4 [00:00<00:00,  8.24it/s, loss=0.31]\n",
      " 25%|████████▌                         | 1/4 [00:00<00:00,  8.27it/s, loss=0.10]"
     ]
    },
    {
     "name": "stdout",
     "output_type": "stream",
     "text": [
      "Epoch  38/ 50 -- train_loss: 0.619 -- validation_loss: 195.514\n",
      "Saving model..\n"
     ]
    },
    {
     "name": "stderr",
     "output_type": "stream",
     "text": [
      "100%|██████████████████████████████████| 4/4 [00:00<00:00,  7.86it/s, loss=1.09]\n",
      " 25%|████████▌                         | 1/4 [00:00<00:00,  8.08it/s, loss=0.57]"
     ]
    },
    {
     "name": "stdout",
     "output_type": "stream",
     "text": [
      "Epoch  39/ 50 -- train_loss: 0.491 -- validation_loss: 193.605\n",
      "Saving model..\n"
     ]
    },
    {
     "name": "stderr",
     "output_type": "stream",
     "text": [
      "100%|██████████████████████████████████| 4/4 [00:00<00:00,  7.48it/s, loss=0.04]\n",
      " 25%|████████▌                         | 1/4 [00:00<00:00,  7.79it/s, loss=0.01]"
     ]
    },
    {
     "name": "stdout",
     "output_type": "stream",
     "text": [
      "Epoch  40/ 50 -- train_loss: 0.489 -- validation_loss: 191.679\n",
      "Saving model..\n"
     ]
    },
    {
     "name": "stderr",
     "output_type": "stream",
     "text": [
      "100%|██████████████████████████████████| 4/4 [00:00<00:00,  8.03it/s, loss=0.30]\n",
      " 25%|████████▌                         | 1/4 [00:00<00:00,  8.34it/s, loss=0.00]"
     ]
    },
    {
     "name": "stdout",
     "output_type": "stream",
     "text": [
      "Epoch  41/ 50 -- train_loss: 0.483 -- validation_loss: 189.807\n",
      "Saving model..\n"
     ]
    },
    {
     "name": "stderr",
     "output_type": "stream",
     "text": [
      "100%|██████████████████████████████████| 4/4 [00:00<00:00,  8.09it/s, loss=0.62]\n",
      " 25%|████████▌                         | 1/4 [00:00<00:00,  7.79it/s, loss=0.26]"
     ]
    },
    {
     "name": "stdout",
     "output_type": "stream",
     "text": [
      "Epoch  42/ 50 -- train_loss: 0.434 -- validation_loss: 187.996\n",
      "Saving model..\n"
     ]
    },
    {
     "name": "stderr",
     "output_type": "stream",
     "text": [
      "100%|█████████████████████████████████| 4/4 [00:00<00:00,  7.93it/s, loss=-0.37]\n",
      " 25%|████████▎                        | 1/4 [00:00<00:00,  8.21it/s, loss=-0.05]"
     ]
    },
    {
     "name": "stdout",
     "output_type": "stream",
     "text": [
      "Epoch  43/ 50 -- train_loss: 0.392 -- validation_loss: 186.187\n",
      "Saving model..\n"
     ]
    },
    {
     "name": "stderr",
     "output_type": "stream",
     "text": [
      "100%|██████████████████████████████████| 4/4 [00:00<00:00,  8.00it/s, loss=0.56]\n",
      " 25%|████████▌                         | 1/4 [00:00<00:00,  7.58it/s, loss=0.63]"
     ]
    },
    {
     "name": "stdout",
     "output_type": "stream",
     "text": [
      "Epoch  44/ 50 -- train_loss: 0.490 -- validation_loss: 184.448\n",
      "Saving model..\n"
     ]
    },
    {
     "name": "stderr",
     "output_type": "stream",
     "text": [
      "100%|██████████████████████████████████| 4/4 [00:00<00:00,  8.06it/s, loss=0.53]\n",
      " 25%|████████▎                        | 1/4 [00:00<00:00,  8.34it/s, loss=-0.02]"
     ]
    },
    {
     "name": "stdout",
     "output_type": "stream",
     "text": [
      "Epoch  45/ 50 -- train_loss: 0.349 -- validation_loss: 182.692\n",
      "Saving model..\n"
     ]
    },
    {
     "name": "stderr",
     "output_type": "stream",
     "text": [
      "100%|██████████████████████████████████| 4/4 [00:00<00:00,  7.82it/s, loss=0.13]\n",
      " 25%|████████▎                        | 1/4 [00:00<00:00,  8.07it/s, loss=-0.05]"
     ]
    },
    {
     "name": "stdout",
     "output_type": "stream",
     "text": [
      "Epoch  46/ 50 -- train_loss: 0.310 -- validation_loss: 180.995\n",
      "Saving model..\n"
     ]
    },
    {
     "name": "stderr",
     "output_type": "stream",
     "text": [
      "100%|██████████████████████████████████| 4/4 [00:00<00:00,  8.13it/s, loss=0.31]\n",
      " 25%|████████▌                         | 1/4 [00:00<00:00,  8.28it/s, loss=0.90]"
     ]
    },
    {
     "name": "stdout",
     "output_type": "stream",
     "text": [
      "Epoch  47/ 50 -- train_loss: 0.263 -- validation_loss: 179.267\n",
      "Saving model..\n"
     ]
    },
    {
     "name": "stderr",
     "output_type": "stream",
     "text": [
      "100%|██████████████████████████████████| 4/4 [00:00<00:00,  8.12it/s, loss=0.90]\n",
      " 25%|████████▌                         | 1/4 [00:00<00:00,  8.04it/s, loss=0.83]"
     ]
    },
    {
     "name": "stdout",
     "output_type": "stream",
     "text": [
      "Epoch  48/ 50 -- train_loss: 0.335 -- validation_loss: 177.646\n",
      "Saving model..\n"
     ]
    },
    {
     "name": "stderr",
     "output_type": "stream",
     "text": [
      "100%|██████████████████████████████████| 4/4 [00:00<00:00,  8.06it/s, loss=0.31]\n",
      " 25%|████████▎                        | 1/4 [00:00<00:00,  7.55it/s, loss=-0.30]"
     ]
    },
    {
     "name": "stdout",
     "output_type": "stream",
     "text": [
      "Epoch  49/ 50 -- train_loss: 0.319 -- validation_loss: 176.069\n",
      "Saving model..\n"
     ]
    },
    {
     "name": "stderr",
     "output_type": "stream",
     "text": [
      "100%|██████████████████████████████████| 4/4 [00:00<00:00,  7.76it/s, loss=0.38]\n"
     ]
    },
    {
     "name": "stdout",
     "output_type": "stream",
     "text": [
      "Epoch  50/ 50 -- train_loss: 0.151 -- validation_loss: 174.504\n",
      "Saving model..\n"
     ]
    },
    {
     "name": "stderr",
     "output_type": "stream",
     "text": [
      "  0%|▏                              | 1/200 [00:00<00:26,  7.61it/s, loss=86.53]"
     ]
    },
    {
     "name": "stdout",
     "output_type": "stream",
     "text": [
      "###### Stop training after 50 epochs!\n",
      "Validation loss: 174.504\n",
      "Test loss:       174.612\n",
      "Loading dataset..\n",
      "No validation set passed\n",
      "No test set passed\n",
      "Creating directory experiment..\n",
      "Creating BNAF model..\n",
      "Creating optimizer..\n",
      "Creating scheduler..\n",
      "Training..\n"
     ]
    },
    {
     "name": "stderr",
     "output_type": "stream",
     "text": [
      "100%|██████████████████████████████| 200/200 [00:24<00:00,  8.05it/s, loss=3.79]\n",
      "  0%|                                                   | 0/200 [00:00<?, ?it/s]"
     ]
    },
    {
     "name": "stdout",
     "output_type": "stream",
     "text": [
      "Epoch   1/ 50 -- train_loss: 11.975 -- validation_loss: 187.273\n",
      "Saving model..\n"
     ]
    },
    {
     "name": "stderr",
     "output_type": "stream",
     "text": [
      "100%|██████████████████████████████| 200/200 [00:24<00:00,  8.01it/s, loss=3.47]\n",
      "  0%|                                                   | 0/200 [00:00<?, ?it/s]"
     ]
    },
    {
     "name": "stdout",
     "output_type": "stream",
     "text": [
      "Epoch   2/ 50 -- train_loss: 3.694 -- validation_loss: 138.176\n",
      "Saving model..\n"
     ]
    },
    {
     "name": "stderr",
     "output_type": "stream",
     "text": [
      "100%|██████████████████████████████| 200/200 [00:24<00:00,  8.00it/s, loss=2.70]\n",
      "  0%|                                                   | 0/200 [00:00<?, ?it/s]"
     ]
    },
    {
     "name": "stdout",
     "output_type": "stream",
     "text": [
      "Epoch   3/ 50 -- train_loss: 3.157 -- validation_loss: 103.814\n",
      "Saving model..\n"
     ]
    },
    {
     "name": "stderr",
     "output_type": "stream",
     "text": [
      "100%|██████████████████████████████| 200/200 [00:24<00:00,  8.02it/s, loss=2.92]\n",
      "  0%|                                                   | 0/200 [00:00<?, ?it/s]"
     ]
    },
    {
     "name": "stdout",
     "output_type": "stream",
     "text": [
      "Epoch   4/ 50 -- train_loss: 2.837 -- validation_loss: 75.669\n",
      "Saving model..\n"
     ]
    },
    {
     "name": "stderr",
     "output_type": "stream",
     "text": [
      "100%|██████████████████████████████| 200/200 [00:25<00:00,  7.99it/s, loss=2.08]\n",
      "  0%|                                                   | 0/200 [00:00<?, ?it/s]"
     ]
    },
    {
     "name": "stdout",
     "output_type": "stream",
     "text": [
      "Epoch   5/ 50 -- train_loss: 2.617 -- validation_loss: 55.051\n",
      "Saving model..\n"
     ]
    },
    {
     "name": "stderr",
     "output_type": "stream",
     "text": [
      "100%|██████████████████████████████| 200/200 [00:26<00:00,  7.63it/s, loss=2.87]\n",
      "  0%|                                                   | 0/200 [00:00<?, ?it/s]"
     ]
    },
    {
     "name": "stdout",
     "output_type": "stream",
     "text": [
      "Epoch   6/ 50 -- train_loss: 2.551 -- validation_loss: 42.012\n",
      "Saving model..\n"
     ]
    },
    {
     "name": "stderr",
     "output_type": "stream",
     "text": [
      "100%|██████████████████████████████| 200/200 [00:25<00:00,  7.77it/s, loss=1.94]\n",
      "  0%|                                                   | 0/200 [00:00<?, ?it/s]"
     ]
    },
    {
     "name": "stdout",
     "output_type": "stream",
     "text": [
      "Epoch   7/ 50 -- train_loss: 2.430 -- validation_loss: 34.293\n",
      "Saving model..\n"
     ]
    },
    {
     "name": "stderr",
     "output_type": "stream",
     "text": [
      "100%|██████████████████████████████| 200/200 [00:26<00:00,  7.50it/s, loss=1.17]\n",
      "  0%|                                                   | 0/200 [00:00<?, ?it/s]"
     ]
    },
    {
     "name": "stdout",
     "output_type": "stream",
     "text": [
      "Epoch   8/ 50 -- train_loss: 2.324 -- validation_loss: 29.920\n",
      "Saving model..\n"
     ]
    },
    {
     "name": "stderr",
     "output_type": "stream",
     "text": [
      "100%|██████████████████████████████| 200/200 [00:25<00:00,  7.99it/s, loss=2.58]\n",
      "  0%|                                                   | 0/200 [00:00<?, ?it/s]"
     ]
    },
    {
     "name": "stdout",
     "output_type": "stream",
     "text": [
      "Epoch   9/ 50 -- train_loss: 2.201 -- validation_loss: 27.724\n",
      "Saving model..\n"
     ]
    },
    {
     "name": "stderr",
     "output_type": "stream",
     "text": [
      "100%|██████████████████████████████| 200/200 [00:25<00:00,  7.97it/s, loss=2.84]\n",
      "  0%|                                                   | 0/200 [00:00<?, ?it/s]"
     ]
    },
    {
     "name": "stdout",
     "output_type": "stream",
     "text": [
      "Epoch  10/ 50 -- train_loss: 2.130 -- validation_loss: 26.445\n",
      "Saving model..\n"
     ]
    },
    {
     "name": "stderr",
     "output_type": "stream",
     "text": [
      "100%|██████████████████████████████| 200/200 [00:25<00:00,  7.91it/s, loss=1.70]\n",
      "  0%|                                                   | 0/200 [00:00<?, ?it/s]"
     ]
    },
    {
     "name": "stdout",
     "output_type": "stream",
     "text": [
      "Epoch  11/ 50 -- train_loss: 2.103 -- validation_loss: 25.689\n",
      "Saving model..\n"
     ]
    },
    {
     "name": "stderr",
     "output_type": "stream",
     "text": [
      "100%|██████████████████████████████| 200/200 [00:25<00:00,  7.96it/s, loss=1.61]\n",
      "  0%|                                                   | 0/200 [00:00<?, ?it/s]"
     ]
    },
    {
     "name": "stdout",
     "output_type": "stream",
     "text": [
      "Epoch  12/ 50 -- train_loss: 2.061 -- validation_loss: 25.242\n",
      "Saving model..\n"
     ]
    },
    {
     "name": "stderr",
     "output_type": "stream",
     "text": [
      "100%|██████████████████████████████| 200/200 [00:25<00:00,  7.72it/s, loss=2.62]\n",
      "  0%|                                                   | 0/200 [00:00<?, ?it/s]"
     ]
    },
    {
     "name": "stdout",
     "output_type": "stream",
     "text": [
      "Epoch  13/ 50 -- train_loss: 2.009 -- validation_loss: 25.042\n",
      "Saving model..\n"
     ]
    },
    {
     "name": "stderr",
     "output_type": "stream",
     "text": [
      "100%|██████████████████████████████| 200/200 [00:25<00:00,  7.87it/s, loss=2.63]\n",
      "  0%|                                                   | 0/200 [00:00<?, ?it/s]"
     ]
    },
    {
     "name": "stdout",
     "output_type": "stream",
     "text": [
      "Epoch  14/ 50 -- train_loss: 1.981 -- validation_loss: 24.895\n",
      "Saving model..\n"
     ]
    },
    {
     "name": "stderr",
     "output_type": "stream",
     "text": [
      "100%|██████████████████████████████| 200/200 [00:25<00:00,  7.76it/s, loss=1.16]\n",
      "  0%|                                                   | 0/200 [00:00<?, ?it/s]"
     ]
    },
    {
     "name": "stdout",
     "output_type": "stream",
     "text": [
      "Epoch  15/ 50 -- train_loss: 1.927 -- validation_loss: 24.838\n",
      "Saving model..\n"
     ]
    },
    {
     "name": "stderr",
     "output_type": "stream",
     "text": [
      "100%|██████████████████████████████| 200/200 [00:25<00:00,  7.74it/s, loss=1.60]\n",
      "  0%|                                                   | 0/200 [00:00<?, ?it/s]"
     ]
    },
    {
     "name": "stdout",
     "output_type": "stream",
     "text": [
      "Epoch  16/ 50 -- train_loss: 1.888 -- validation_loss: 24.850\n"
     ]
    },
    {
     "name": "stderr",
     "output_type": "stream",
     "text": [
      "100%|██████████████████████████████| 200/200 [00:25<00:00,  7.83it/s, loss=1.93]\n",
      "  0%|                                                   | 0/200 [00:00<?, ?it/s]"
     ]
    },
    {
     "name": "stdout",
     "output_type": "stream",
     "text": [
      "Epoch  17/ 50 -- train_loss: 1.784 -- validation_loss: 24.920\n"
     ]
    },
    {
     "name": "stderr",
     "output_type": "stream",
     "text": [
      "100%|██████████████████████████████| 200/200 [00:25<00:00,  7.82it/s, loss=1.99]\n",
      "  0%|                                                   | 0/200 [00:00<?, ?it/s]"
     ]
    },
    {
     "name": "stdout",
     "output_type": "stream",
     "text": [
      "Epoch  18/ 50 -- train_loss: 1.777 -- validation_loss: 25.019\n"
     ]
    },
    {
     "name": "stderr",
     "output_type": "stream",
     "text": [
      "100%|██████████████████████████████| 200/200 [00:25<00:00,  7.95it/s, loss=1.24]\n",
      "  0%|                                                   | 0/200 [00:00<?, ?it/s]"
     ]
    },
    {
     "name": "stdout",
     "output_type": "stream",
     "text": [
      "Epoch  19/ 50 -- train_loss: 1.770 -- validation_loss: 25.075\n"
     ]
    },
    {
     "name": "stderr",
     "output_type": "stream",
     "text": [
      "100%|██████████████████████████████| 200/200 [00:25<00:00,  7.95it/s, loss=0.64]\n",
      "  0%|                                                   | 0/200 [00:00<?, ?it/s]"
     ]
    },
    {
     "name": "stdout",
     "output_type": "stream",
     "text": [
      "Epoch  20/ 50 -- train_loss: 1.751 -- validation_loss: 25.109\n"
     ]
    },
    {
     "name": "stderr",
     "output_type": "stream",
     "text": [
      "100%|██████████████████████████████| 200/200 [00:25<00:00,  7.82it/s, loss=1.48]\n",
      "  0%|                                                   | 0/200 [00:00<?, ?it/s]"
     ]
    },
    {
     "name": "stdout",
     "output_type": "stream",
     "text": [
      "Epoch  21/ 50 -- train_loss: 1.651 -- validation_loss: 25.199\n"
     ]
    },
    {
     "name": "stderr",
     "output_type": "stream",
     "text": [
      "100%|██████████████████████████████| 200/200 [00:29<00:00,  6.81it/s, loss=2.36]\n",
      "  0%|                                                   | 0/200 [00:00<?, ?it/s]"
     ]
    },
    {
     "name": "stdout",
     "output_type": "stream",
     "text": [
      "Epoch  22/ 50 -- train_loss: 1.647 -- validation_loss: 25.218\n"
     ]
    },
    {
     "name": "stderr",
     "output_type": "stream",
     "text": [
      "100%|██████████████████████████████| 200/200 [00:25<00:00,  7.92it/s, loss=2.11]\n",
      "  0%|                                                   | 0/200 [00:00<?, ?it/s]"
     ]
    },
    {
     "name": "stdout",
     "output_type": "stream",
     "text": [
      "Epoch  23/ 50 -- train_loss: 1.591 -- validation_loss: 25.308\n"
     ]
    },
    {
     "name": "stderr",
     "output_type": "stream",
     "text": [
      "100%|██████████████████████████████| 200/200 [00:24<00:00,  8.02it/s, loss=1.34]\n",
      "  0%|                                                   | 0/200 [00:00<?, ?it/s]"
     ]
    },
    {
     "name": "stdout",
     "output_type": "stream",
     "text": [
      "Epoch  24/ 50 -- train_loss: 1.584 -- validation_loss: 25.400\n"
     ]
    },
    {
     "name": "stderr",
     "output_type": "stream",
     "text": [
      "100%|██████████████████████████████| 200/200 [00:24<00:00,  8.06it/s, loss=1.38]\n",
      "  0%|                                                   | 0/200 [00:00<?, ?it/s]"
     ]
    },
    {
     "name": "stdout",
     "output_type": "stream",
     "text": [
      "Epoch  25/ 50 -- train_loss: 1.570 -- validation_loss: 25.478\n"
     ]
    },
    {
     "name": "stderr",
     "output_type": "stream",
     "text": [
      "100%|██████████████████████████████| 200/200 [00:24<00:00,  8.01it/s, loss=2.04]\n",
      "  0%|                                                   | 0/200 [00:00<?, ?it/s]"
     ]
    },
    {
     "name": "stdout",
     "output_type": "stream",
     "text": [
      "Epoch  26/ 50 -- train_loss: 1.545 -- validation_loss: 25.470\n"
     ]
    },
    {
     "name": "stderr",
     "output_type": "stream",
     "text": [
      "100%|██████████████████████████████| 200/200 [00:24<00:00,  8.04it/s, loss=2.16]\n",
      "  0%|                                                   | 0/200 [00:00<?, ?it/s]"
     ]
    },
    {
     "name": "stdout",
     "output_type": "stream",
     "text": [
      "Epoch  27/ 50 -- train_loss: 1.469 -- validation_loss: 25.553\n"
     ]
    },
    {
     "name": "stderr",
     "output_type": "stream",
     "text": [
      "100%|██████████████████████████████| 200/200 [00:24<00:00,  8.02it/s, loss=1.60]\n",
      "  0%|                                                   | 0/200 [00:00<?, ?it/s]"
     ]
    },
    {
     "name": "stdout",
     "output_type": "stream",
     "text": [
      "Epoch  28/ 50 -- train_loss: 1.502 -- validation_loss: 25.664\n"
     ]
    },
    {
     "name": "stderr",
     "output_type": "stream",
     "text": [
      "100%|██████████████████████████████| 200/200 [00:25<00:00,  7.98it/s, loss=1.10]\n",
      "  0%|                                                   | 0/200 [00:00<?, ?it/s]"
     ]
    },
    {
     "name": "stdout",
     "output_type": "stream",
     "text": [
      "Epoch  29/ 50 -- train_loss: 1.427 -- validation_loss: 25.761\n"
     ]
    },
    {
     "name": "stderr",
     "output_type": "stream",
     "text": [
      "100%|██████████████████████████████| 200/200 [00:25<00:00,  7.98it/s, loss=2.07]\n",
      "  0%|                                                   | 0/200 [00:00<?, ?it/s]"
     ]
    },
    {
     "name": "stdout",
     "output_type": "stream",
     "text": [
      "Epoch  30/ 50 -- train_loss: 1.423 -- validation_loss: 25.909\n"
     ]
    },
    {
     "name": "stderr",
     "output_type": "stream",
     "text": [
      "100%|██████████████████████████████| 200/200 [00:24<00:00,  8.03it/s, loss=1.82]\n",
      "  0%|                                                   | 0/200 [00:00<?, ?it/s]"
     ]
    },
    {
     "name": "stdout",
     "output_type": "stream",
     "text": [
      "Epoch  31/ 50 -- train_loss: 1.435 -- validation_loss: 25.976\n"
     ]
    },
    {
     "name": "stderr",
     "output_type": "stream",
     "text": [
      "100%|██████████████████████████████| 200/200 [00:24<00:00,  8.02it/s, loss=1.42]\n",
      "  0%|                                                   | 0/200 [00:00<?, ?it/s]"
     ]
    },
    {
     "name": "stdout",
     "output_type": "stream",
     "text": [
      "Epoch  32/ 50 -- train_loss: 1.394 -- validation_loss: 26.052\n"
     ]
    },
    {
     "name": "stderr",
     "output_type": "stream",
     "text": [
      "100%|██████████████████████████████| 200/200 [00:31<00:00,  6.34it/s, loss=1.86]\n",
      "  0%|                                                   | 0/200 [00:00<?, ?it/s]"
     ]
    },
    {
     "name": "stdout",
     "output_type": "stream",
     "text": [
      "Epoch  33/ 50 -- train_loss: 1.364 -- validation_loss: 26.238\n"
     ]
    },
    {
     "name": "stderr",
     "output_type": "stream",
     "text": [
      "100%|██████████████████████████████| 200/200 [00:29<00:00,  6.70it/s, loss=0.88]\n",
      "  0%|                                                   | 0/200 [00:00<?, ?it/s]"
     ]
    },
    {
     "name": "stdout",
     "output_type": "stream",
     "text": [
      "Epoch  34/ 50 -- train_loss: 1.326 -- validation_loss: 26.386\n"
     ]
    },
    {
     "name": "stderr",
     "output_type": "stream",
     "text": [
      "100%|██████████████████████████████| 200/200 [00:25<00:00,  7.75it/s, loss=1.76]\n",
      "  0%|                                                   | 0/200 [00:00<?, ?it/s]"
     ]
    },
    {
     "name": "stdout",
     "output_type": "stream",
     "text": [
      "Epoch  35/ 50 -- train_loss: 1.373 -- validation_loss: 26.381\n"
     ]
    },
    {
     "name": "stderr",
     "output_type": "stream",
     "text": [
      "100%|██████████████████████████████| 200/200 [00:26<00:00,  7.64it/s, loss=2.19]\n",
      "  0%|                                                   | 0/200 [00:00<?, ?it/s]"
     ]
    },
    {
     "name": "stdout",
     "output_type": "stream",
     "text": [
      "Epoch  36/ 50 -- train_loss: 1.329 -- validation_loss: 26.318\n",
      "Epoch 00036: reducing learning rate of group 0 to 5.0000e-03.\n"
     ]
    },
    {
     "name": "stderr",
     "output_type": "stream",
     "text": [
      "100%|██████████████████████████████| 200/200 [00:29<00:00,  6.73it/s, loss=0.85]\n",
      "  0%|                                                   | 0/200 [00:00<?, ?it/s]"
     ]
    },
    {
     "name": "stdout",
     "output_type": "stream",
     "text": [
      "Epoch  37/ 50 -- train_loss: 1.093 -- validation_loss: 26.472\n"
     ]
    },
    {
     "name": "stderr",
     "output_type": "stream",
     "text": [
      "100%|██████████████████████████████| 200/200 [00:32<00:00,  6.22it/s, loss=0.45]\n",
      "  0%|                                                   | 0/200 [00:00<?, ?it/s]"
     ]
    },
    {
     "name": "stdout",
     "output_type": "stream",
     "text": [
      "Epoch  38/ 50 -- train_loss: 1.064 -- validation_loss: 26.671\n"
     ]
    },
    {
     "name": "stderr",
     "output_type": "stream",
     "text": [
      "100%|██████████████████████████████| 200/200 [00:26<00:00,  7.64it/s, loss=1.12]\n",
      "  0%|                                                   | 0/200 [00:00<?, ?it/s]"
     ]
    },
    {
     "name": "stdout",
     "output_type": "stream",
     "text": [
      "Epoch  39/ 50 -- train_loss: 1.041 -- validation_loss: 26.850\n"
     ]
    },
    {
     "name": "stderr",
     "output_type": "stream",
     "text": [
      "100%|██████████████████████████████| 200/200 [00:26<00:00,  7.61it/s, loss=1.50]\n",
      "  0%|                                                   | 0/200 [00:00<?, ?it/s]"
     ]
    },
    {
     "name": "stdout",
     "output_type": "stream",
     "text": [
      "Epoch  40/ 50 -- train_loss: 1.016 -- validation_loss: 27.019\n"
     ]
    },
    {
     "name": "stderr",
     "output_type": "stream",
     "text": [
      "100%|██████████████████████████████| 200/200 [00:25<00:00,  7.69it/s, loss=0.52]\n",
      "  0%|                                                   | 0/200 [00:00<?, ?it/s]"
     ]
    },
    {
     "name": "stdout",
     "output_type": "stream",
     "text": [
      "Epoch  41/ 50 -- train_loss: 1.008 -- validation_loss: 27.133\n"
     ]
    },
    {
     "name": "stderr",
     "output_type": "stream",
     "text": [
      "100%|██████████████████████████████| 200/200 [00:25<00:00,  7.73it/s, loss=0.75]\n",
      "  0%|                                                   | 0/200 [00:00<?, ?it/s]"
     ]
    },
    {
     "name": "stdout",
     "output_type": "stream",
     "text": [
      "Epoch  42/ 50 -- train_loss: 0.998 -- validation_loss: 27.193\n"
     ]
    },
    {
     "name": "stderr",
     "output_type": "stream",
     "text": [
      "100%|██████████████████████████████| 200/200 [00:28<00:00,  7.02it/s, loss=1.54]\n",
      "  0%|                                                   | 0/200 [00:00<?, ?it/s]"
     ]
    },
    {
     "name": "stdout",
     "output_type": "stream",
     "text": [
      "Epoch  43/ 50 -- train_loss: 0.985 -- validation_loss: 27.242\n"
     ]
    },
    {
     "name": "stderr",
     "output_type": "stream",
     "text": [
      "100%|██████████████████████████████| 200/200 [00:25<00:00,  7.93it/s, loss=1.47]\n",
      "  0%|                                                   | 0/200 [00:00<?, ?it/s]"
     ]
    },
    {
     "name": "stdout",
     "output_type": "stream",
     "text": [
      "Epoch  44/ 50 -- train_loss: 0.950 -- validation_loss: 27.329\n"
     ]
    },
    {
     "name": "stderr",
     "output_type": "stream",
     "text": [
      "100%|██████████████████████████████| 200/200 [00:24<00:00,  8.05it/s, loss=0.28]\n",
      "  0%|                                                   | 0/200 [00:00<?, ?it/s]"
     ]
    },
    {
     "name": "stdout",
     "output_type": "stream",
     "text": [
      "Epoch  45/ 50 -- train_loss: 0.964 -- validation_loss: 27.335\n"
     ]
    },
    {
     "name": "stderr",
     "output_type": "stream",
     "text": [
      "100%|██████████████████████████████| 200/200 [00:25<00:00,  7.87it/s, loss=1.18]\n",
      "  0%|                                                   | 0/200 [00:00<?, ?it/s]"
     ]
    },
    {
     "name": "stdout",
     "output_type": "stream",
     "text": [
      "Epoch  46/ 50 -- train_loss: 0.937 -- validation_loss: 27.311\n"
     ]
    },
    {
     "name": "stderr",
     "output_type": "stream",
     "text": [
      "100%|██████████████████████████████| 200/200 [00:25<00:00,  7.89it/s, loss=0.63]\n",
      "  0%|                                                   | 0/200 [00:00<?, ?it/s]"
     ]
    },
    {
     "name": "stdout",
     "output_type": "stream",
     "text": [
      "Epoch  47/ 50 -- train_loss: 0.915 -- validation_loss: 27.415\n"
     ]
    },
    {
     "name": "stderr",
     "output_type": "stream",
     "text": [
      "100%|██████████████████████████████| 200/200 [00:25<00:00,  7.84it/s, loss=0.59]\n",
      "  0%|                                                   | 0/200 [00:00<?, ?it/s]"
     ]
    },
    {
     "name": "stdout",
     "output_type": "stream",
     "text": [
      "Epoch  48/ 50 -- train_loss: 0.918 -- validation_loss: 27.464\n"
     ]
    },
    {
     "name": "stderr",
     "output_type": "stream",
     "text": [
      "100%|██████████████████████████████| 200/200 [00:25<00:00,  7.87it/s, loss=0.69]\n",
      "  0%|                                                   | 0/200 [00:00<?, ?it/s]"
     ]
    },
    {
     "name": "stdout",
     "output_type": "stream",
     "text": [
      "Epoch  49/ 50 -- train_loss: 0.932 -- validation_loss: 27.408\n"
     ]
    },
    {
     "name": "stderr",
     "output_type": "stream",
     "text": [
      "100%|██████████████████████████████| 200/200 [00:25<00:00,  7.83it/s, loss=0.14]\n"
     ]
    },
    {
     "name": "stdout",
     "output_type": "stream",
     "text": [
      "Epoch  50/ 50 -- train_loss: 0.870 -- validation_loss: 27.455\n",
      "###### Stop training after 50 epochs!\n",
      "Validation loss: 27.455\n",
      "Test loss:       27.583\n"
     ]
    },
    {
     "name": "stderr",
     "output_type": "stream",
     "text": [
      " 25%|████████▎                        | 1/4 [00:00<00:00,  7.68it/s, loss=62.49]"
     ]
    },
    {
     "name": "stdout",
     "output_type": "stream",
     "text": [
      "Loading dataset..\n",
      "Creating directory experiment..\n",
      "Creating BNAF model..\n",
      "Creating optimizer..\n",
      "Creating scheduler..\n",
      "Training..\n"
     ]
    },
    {
     "name": "stderr",
     "output_type": "stream",
     "text": [
      "100%|█████████████████████████████████| 4/4 [00:00<00:00,  7.99it/s, loss=50.70]\n",
      " 25%|████████▎                        | 1/4 [00:00<00:00,  8.22it/s, loss=50.00]"
     ]
    },
    {
     "name": "stdout",
     "output_type": "stream",
     "text": [
      "Epoch   1/ 50 -- train_loss: 57.291 -- validation_loss: 337.356\n",
      "Saving model..\n"
     ]
    },
    {
     "name": "stderr",
     "output_type": "stream",
     "text": [
      "100%|█████████████████████████████████| 4/4 [00:00<00:00,  8.35it/s, loss=37.49]\n",
      "  0%|                                                     | 0/4 [00:00<?, ?it/s]"
     ]
    },
    {
     "name": "stdout",
     "output_type": "stream",
     "text": [
      "Epoch   2/ 50 -- train_loss: 43.378 -- validation_loss: 332.209\n",
      "Saving model..\n"
     ]
    },
    {
     "name": "stderr",
     "output_type": "stream",
     "text": [
      "100%|█████████████████████████████████| 4/4 [00:00<00:00,  7.98it/s, loss=27.75]\n",
      " 25%|████████▎                        | 1/4 [00:00<00:00,  8.43it/s, loss=26.92]"
     ]
    },
    {
     "name": "stdout",
     "output_type": "stream",
     "text": [
      "Epoch   3/ 50 -- train_loss: 32.810 -- validation_loss: 326.910\n",
      "Saving model..\n"
     ]
    },
    {
     "name": "stderr",
     "output_type": "stream",
     "text": [
      "100%|█████████████████████████████████| 4/4 [00:00<00:00,  8.23it/s, loss=20.91]\n",
      " 25%|████████▎                        | 1/4 [00:00<00:00,  8.58it/s, loss=17.23]"
     ]
    },
    {
     "name": "stdout",
     "output_type": "stream",
     "text": [
      "Epoch   4/ 50 -- train_loss: 23.383 -- validation_loss: 321.537\n",
      "Saving model..\n"
     ]
    },
    {
     "name": "stderr",
     "output_type": "stream",
     "text": [
      "100%|█████████████████████████████████| 4/4 [00:00<00:00,  8.40it/s, loss=12.33]\n",
      " 25%|████████▎                        | 1/4 [00:00<00:00,  7.96it/s, loss=11.38]"
     ]
    },
    {
     "name": "stdout",
     "output_type": "stream",
     "text": [
      "Epoch   5/ 50 -- train_loss: 15.444 -- validation_loss: 316.074\n",
      "Saving model..\n"
     ]
    },
    {
     "name": "stderr",
     "output_type": "stream",
     "text": [
      "100%|█████████████████████████████████| 4/4 [00:00<00:00,  8.06it/s, loss=10.92]\n",
      " 25%|████████▌                         | 1/4 [00:00<00:00,  7.90it/s, loss=9.91]"
     ]
    },
    {
     "name": "stdout",
     "output_type": "stream",
     "text": [
      "Epoch   6/ 50 -- train_loss: 11.631 -- validation_loss: 310.633\n",
      "Saving model..\n"
     ]
    },
    {
     "name": "stderr",
     "output_type": "stream",
     "text": [
      "100%|██████████████████████████████████| 4/4 [00:00<00:00,  7.89it/s, loss=8.17]\n",
      " 25%|████████▌                         | 1/4 [00:00<00:00,  8.58it/s, loss=8.42]"
     ]
    },
    {
     "name": "stdout",
     "output_type": "stream",
     "text": [
      "Epoch   7/ 50 -- train_loss: 9.495 -- validation_loss: 305.273\n",
      "Saving model..\n"
     ]
    },
    {
     "name": "stderr",
     "output_type": "stream",
     "text": [
      "100%|██████████████████████████████████| 4/4 [00:00<00:00,  8.31it/s, loss=7.77]\n",
      " 25%|████████▌                         | 1/4 [00:00<00:00,  8.36it/s, loss=6.72]"
     ]
    },
    {
     "name": "stdout",
     "output_type": "stream",
     "text": [
      "Epoch   8/ 50 -- train_loss: 7.486 -- validation_loss: 299.989\n",
      "Saving model..\n"
     ]
    },
    {
     "name": "stderr",
     "output_type": "stream",
     "text": [
      "100%|██████████████████████████████████| 4/4 [00:00<00:00,  8.25it/s, loss=6.34]\n",
      " 25%|████████▌                         | 1/4 [00:00<00:00,  8.06it/s, loss=6.46]"
     ]
    },
    {
     "name": "stdout",
     "output_type": "stream",
     "text": [
      "Epoch   9/ 50 -- train_loss: 6.627 -- validation_loss: 294.785\n",
      "Saving model..\n"
     ]
    },
    {
     "name": "stderr",
     "output_type": "stream",
     "text": [
      "100%|██████████████████████████████████| 4/4 [00:00<00:00,  7.59it/s, loss=5.39]\n",
      " 25%|████████▌                         | 1/4 [00:00<00:00,  8.50it/s, loss=5.55]"
     ]
    },
    {
     "name": "stdout",
     "output_type": "stream",
     "text": [
      "Epoch  10/ 50 -- train_loss: 5.895 -- validation_loss: 289.642\n",
      "Saving model..\n"
     ]
    },
    {
     "name": "stderr",
     "output_type": "stream",
     "text": [
      "100%|██████████████████████████████████| 4/4 [00:00<00:00,  8.49it/s, loss=4.88]\n",
      " 25%|████████▌                         | 1/4 [00:00<00:00,  8.08it/s, loss=5.55]"
     ]
    },
    {
     "name": "stdout",
     "output_type": "stream",
     "text": [
      "Epoch  11/ 50 -- train_loss: 5.127 -- validation_loss: 284.700\n",
      "Saving model..\n"
     ]
    },
    {
     "name": "stderr",
     "output_type": "stream",
     "text": [
      "100%|██████████████████████████████████| 4/4 [00:00<00:00,  8.14it/s, loss=4.30]\n",
      " 25%|████████▌                         | 1/4 [00:00<00:00,  8.65it/s, loss=4.50]"
     ]
    },
    {
     "name": "stdout",
     "output_type": "stream",
     "text": [
      "Epoch  12/ 50 -- train_loss: 4.736 -- validation_loss: 279.918\n",
      "Saving model..\n"
     ]
    },
    {
     "name": "stderr",
     "output_type": "stream",
     "text": [
      "100%|██████████████████████████████████| 4/4 [00:00<00:00,  7.99it/s, loss=4.74]\n",
      "  0%|                                                     | 0/4 [00:00<?, ?it/s]"
     ]
    },
    {
     "name": "stdout",
     "output_type": "stream",
     "text": [
      "Epoch  13/ 50 -- train_loss: 4.394 -- validation_loss: 275.196\n",
      "Saving model..\n"
     ]
    },
    {
     "name": "stderr",
     "output_type": "stream",
     "text": [
      "100%|██████████████████████████████████| 4/4 [00:00<00:00,  6.49it/s, loss=4.40]\n",
      " 25%|████████▌                         | 1/4 [00:00<00:00,  7.63it/s, loss=3.99]"
     ]
    },
    {
     "name": "stdout",
     "output_type": "stream",
     "text": [
      "Epoch  14/ 50 -- train_loss: 4.159 -- validation_loss: 270.661\n",
      "Saving model..\n"
     ]
    },
    {
     "name": "stderr",
     "output_type": "stream",
     "text": [
      "100%|██████████████████████████████████| 4/4 [00:00<00:00,  7.85it/s, loss=3.62]\n",
      " 25%|████████▌                         | 1/4 [00:00<00:00,  8.43it/s, loss=3.75]"
     ]
    },
    {
     "name": "stdout",
     "output_type": "stream",
     "text": [
      "Epoch  15/ 50 -- train_loss: 3.791 -- validation_loss: 266.256\n",
      "Saving model..\n"
     ]
    },
    {
     "name": "stderr",
     "output_type": "stream",
     "text": [
      "100%|██████████████████████████████████| 4/4 [00:00<00:00,  8.24it/s, loss=3.88]\n",
      "  0%|                                                     | 0/4 [00:00<?, ?it/s]"
     ]
    },
    {
     "name": "stdout",
     "output_type": "stream",
     "text": [
      "Epoch  16/ 50 -- train_loss: 3.552 -- validation_loss: 261.915\n",
      "Saving model..\n"
     ]
    },
    {
     "name": "stderr",
     "output_type": "stream",
     "text": [
      "100%|██████████████████████████████████| 4/4 [00:00<00:00,  8.06it/s, loss=3.47]\n",
      " 25%|████████▌                         | 1/4 [00:00<00:00,  8.42it/s, loss=2.59]"
     ]
    },
    {
     "name": "stdout",
     "output_type": "stream",
     "text": [
      "Epoch  17/ 50 -- train_loss: 3.411 -- validation_loss: 257.744\n",
      "Saving model..\n"
     ]
    },
    {
     "name": "stderr",
     "output_type": "stream",
     "text": [
      "100%|██████████████████████████████████| 4/4 [00:00<00:00,  8.42it/s, loss=3.65]\n",
      " 25%|████████▌                         | 1/4 [00:00<00:00,  8.73it/s, loss=3.95]"
     ]
    },
    {
     "name": "stdout",
     "output_type": "stream",
     "text": [
      "Epoch  18/ 50 -- train_loss: 3.330 -- validation_loss: 253.782\n",
      "Saving model..\n"
     ]
    },
    {
     "name": "stderr",
     "output_type": "stream",
     "text": [
      "100%|██████████████████████████████████| 4/4 [00:00<00:00,  8.10it/s, loss=3.63]\n",
      " 25%|████████▌                         | 1/4 [00:00<00:00,  8.32it/s, loss=2.95]"
     ]
    },
    {
     "name": "stdout",
     "output_type": "stream",
     "text": [
      "Epoch  19/ 50 -- train_loss: 3.338 -- validation_loss: 249.843\n",
      "Saving model..\n"
     ]
    },
    {
     "name": "stderr",
     "output_type": "stream",
     "text": [
      "100%|██████████████████████████████████| 4/4 [00:00<00:00,  7.98it/s, loss=3.06]\n",
      " 25%|████████▌                         | 1/4 [00:00<00:00,  8.36it/s, loss=3.24]"
     ]
    },
    {
     "name": "stdout",
     "output_type": "stream",
     "text": [
      "Epoch  20/ 50 -- train_loss: 3.090 -- validation_loss: 246.151\n",
      "Saving model..\n"
     ]
    },
    {
     "name": "stderr",
     "output_type": "stream",
     "text": [
      "100%|██████████████████████████████████| 4/4 [00:00<00:00,  8.05it/s, loss=2.77]\n",
      " 25%|████████▌                         | 1/4 [00:00<00:00,  8.43it/s, loss=2.70]"
     ]
    },
    {
     "name": "stdout",
     "output_type": "stream",
     "text": [
      "Epoch  21/ 50 -- train_loss: 3.270 -- validation_loss: 242.469\n",
      "Saving model..\n"
     ]
    },
    {
     "name": "stderr",
     "output_type": "stream",
     "text": [
      "100%|██████████████████████████████████| 4/4 [00:00<00:00,  8.22it/s, loss=2.92]\n",
      " 25%|████████▌                         | 1/4 [00:00<00:00,  8.36it/s, loss=2.73]"
     ]
    },
    {
     "name": "stdout",
     "output_type": "stream",
     "text": [
      "Epoch  22/ 50 -- train_loss: 2.863 -- validation_loss: 238.812\n",
      "Saving model..\n"
     ]
    },
    {
     "name": "stderr",
     "output_type": "stream",
     "text": [
      "100%|██████████████████████████████████| 4/4 [00:00<00:00,  8.26it/s, loss=2.91]\n",
      " 25%|████████▌                         | 1/4 [00:00<00:00,  7.51it/s, loss=3.11]"
     ]
    },
    {
     "name": "stdout",
     "output_type": "stream",
     "text": [
      "Epoch  23/ 50 -- train_loss: 2.826 -- validation_loss: 235.399\n",
      "Saving model..\n"
     ]
    },
    {
     "name": "stderr",
     "output_type": "stream",
     "text": [
      "100%|██████████████████████████████████| 4/4 [00:00<00:00,  7.92it/s, loss=2.60]\n",
      " 25%|████████▌                         | 1/4 [00:00<00:00,  8.43it/s, loss=3.25]"
     ]
    },
    {
     "name": "stdout",
     "output_type": "stream",
     "text": [
      "Epoch  24/ 50 -- train_loss: 2.758 -- validation_loss: 232.091\n",
      "Saving model..\n"
     ]
    },
    {
     "name": "stderr",
     "output_type": "stream",
     "text": [
      "100%|██████████████████████████████████| 4/4 [00:00<00:00,  8.33it/s, loss=2.38]\n",
      " 25%|████████▌                         | 1/4 [00:00<00:00,  8.32it/s, loss=2.81]"
     ]
    },
    {
     "name": "stdout",
     "output_type": "stream",
     "text": [
      "Epoch  25/ 50 -- train_loss: 2.782 -- validation_loss: 228.909\n",
      "Saving model..\n"
     ]
    },
    {
     "name": "stderr",
     "output_type": "stream",
     "text": [
      "100%|██████████████████████████████████| 4/4 [00:00<00:00,  8.26it/s, loss=1.91]\n",
      " 25%|████████▌                         | 1/4 [00:00<00:00,  8.43it/s, loss=2.48]"
     ]
    },
    {
     "name": "stdout",
     "output_type": "stream",
     "text": [
      "Epoch  26/ 50 -- train_loss: 2.722 -- validation_loss: 225.756\n",
      "Saving model..\n"
     ]
    },
    {
     "name": "stderr",
     "output_type": "stream",
     "text": [
      "100%|██████████████████████████████████| 4/4 [00:00<00:00,  7.69it/s, loss=2.17]\n",
      " 25%|████████▌                         | 1/4 [00:00<00:00,  8.18it/s, loss=2.50]"
     ]
    },
    {
     "name": "stdout",
     "output_type": "stream",
     "text": [
      "Epoch  27/ 50 -- train_loss: 2.731 -- validation_loss: 222.649\n",
      "Saving model..\n"
     ]
    },
    {
     "name": "stderr",
     "output_type": "stream",
     "text": [
      "100%|██████████████████████████████████| 4/4 [00:00<00:00,  8.28it/s, loss=2.37]\n",
      " 25%|████████▌                         | 1/4 [00:00<00:00,  7.90it/s, loss=2.91]"
     ]
    },
    {
     "name": "stdout",
     "output_type": "stream",
     "text": [
      "Epoch  28/ 50 -- train_loss: 2.756 -- validation_loss: 219.782\n",
      "Saving model..\n"
     ]
    },
    {
     "name": "stderr",
     "output_type": "stream",
     "text": [
      "100%|██████████████████████████████████| 4/4 [00:00<00:00,  8.28it/s, loss=2.68]\n",
      " 25%|████████▌                         | 1/4 [00:00<00:00,  8.36it/s, loss=1.90]"
     ]
    },
    {
     "name": "stdout",
     "output_type": "stream",
     "text": [
      "Epoch  29/ 50 -- train_loss: 2.532 -- validation_loss: 216.926\n",
      "Saving model..\n"
     ]
    },
    {
     "name": "stderr",
     "output_type": "stream",
     "text": [
      "100%|██████████████████████████████████| 4/4 [00:00<00:00,  8.33it/s, loss=2.16]\n",
      "  0%|                                                     | 0/4 [00:00<?, ?it/s]"
     ]
    },
    {
     "name": "stdout",
     "output_type": "stream",
     "text": [
      "Epoch  30/ 50 -- train_loss: 2.386 -- validation_loss: 214.111\n",
      "Saving model..\n"
     ]
    },
    {
     "name": "stderr",
     "output_type": "stream",
     "text": [
      "100%|██████████████████████████████████| 4/4 [00:00<00:00,  7.57it/s, loss=1.61]\n",
      " 25%|████████▌                         | 1/4 [00:00<00:00,  7.73it/s, loss=2.20]"
     ]
    },
    {
     "name": "stdout",
     "output_type": "stream",
     "text": [
      "Epoch  31/ 50 -- train_loss: 2.365 -- validation_loss: 211.357\n",
      "Saving model..\n"
     ]
    },
    {
     "name": "stderr",
     "output_type": "stream",
     "text": [
      "100%|██████████████████████████████████| 4/4 [00:00<00:00,  8.00it/s, loss=2.63]\n",
      " 25%|████████▌                         | 1/4 [00:00<00:00,  8.22it/s, loss=2.58]"
     ]
    },
    {
     "name": "stdout",
     "output_type": "stream",
     "text": [
      "Epoch  32/ 50 -- train_loss: 2.482 -- validation_loss: 208.772\n",
      "Saving model..\n"
     ]
    },
    {
     "name": "stderr",
     "output_type": "stream",
     "text": [
      "100%|██████████████████████████████████| 4/4 [00:00<00:00,  8.31it/s, loss=2.34]\n",
      "  0%|                                                     | 0/4 [00:00<?, ?it/s]"
     ]
    },
    {
     "name": "stdout",
     "output_type": "stream",
     "text": [
      "Epoch  33/ 50 -- train_loss: 2.376 -- validation_loss: 206.225\n",
      "Saving model..\n"
     ]
    },
    {
     "name": "stderr",
     "output_type": "stream",
     "text": [
      "100%|██████████████████████████████████| 4/4 [00:00<00:00,  7.68it/s, loss=2.06]\n",
      " 25%|████████▌                         | 1/4 [00:00<00:00,  8.10it/s, loss=1.62]"
     ]
    },
    {
     "name": "stdout",
     "output_type": "stream",
     "text": [
      "Epoch  34/ 50 -- train_loss: 2.159 -- validation_loss: 203.712\n",
      "Saving model..\n"
     ]
    },
    {
     "name": "stderr",
     "output_type": "stream",
     "text": [
      "100%|██████████████████████████████████| 4/4 [00:00<00:00,  8.04it/s, loss=2.61]\n",
      " 25%|████████▌                         | 1/4 [00:00<00:00,  8.26it/s, loss=2.00]"
     ]
    },
    {
     "name": "stdout",
     "output_type": "stream",
     "text": [
      "Epoch  35/ 50 -- train_loss: 2.262 -- validation_loss: 201.327\n",
      "Saving model..\n"
     ]
    },
    {
     "name": "stderr",
     "output_type": "stream",
     "text": [
      "100%|██████████████████████████████████| 4/4 [00:00<00:00,  8.26it/s, loss=2.20]\n",
      " 25%|████████▌                         | 1/4 [00:00<00:00,  8.16it/s, loss=1.86]"
     ]
    },
    {
     "name": "stdout",
     "output_type": "stream",
     "text": [
      "Epoch  36/ 50 -- train_loss: 2.179 -- validation_loss: 199.009\n",
      "Saving model..\n"
     ]
    },
    {
     "name": "stderr",
     "output_type": "stream",
     "text": [
      "100%|██████████████████████████████████| 4/4 [00:00<00:00,  8.25it/s, loss=2.41]\n",
      "  0%|                                                     | 0/4 [00:00<?, ?it/s]"
     ]
    },
    {
     "name": "stdout",
     "output_type": "stream",
     "text": [
      "Epoch  37/ 50 -- train_loss: 2.170 -- validation_loss: 196.743\n",
      "Saving model..\n"
     ]
    },
    {
     "name": "stderr",
     "output_type": "stream",
     "text": [
      "100%|██████████████████████████████████| 4/4 [00:00<00:00,  7.74it/s, loss=2.44]\n",
      " 25%|████████▌                         | 1/4 [00:00<00:00,  8.43it/s, loss=2.55]"
     ]
    },
    {
     "name": "stdout",
     "output_type": "stream",
     "text": [
      "Epoch  38/ 50 -- train_loss: 2.097 -- validation_loss: 194.582\n",
      "Saving model..\n"
     ]
    },
    {
     "name": "stderr",
     "output_type": "stream",
     "text": [
      "100%|██████████████████████████████████| 4/4 [00:00<00:00,  8.32it/s, loss=2.14]\n",
      " 25%|████████▌                         | 1/4 [00:00<00:00,  8.09it/s, loss=1.51]"
     ]
    },
    {
     "name": "stdout",
     "output_type": "stream",
     "text": [
      "Epoch  39/ 50 -- train_loss: 2.026 -- validation_loss: 192.440\n",
      "Saving model..\n"
     ]
    },
    {
     "name": "stderr",
     "output_type": "stream",
     "text": [
      "100%|██████████████████████████████████| 4/4 [00:00<00:00,  8.02it/s, loss=2.16]\n",
      " 25%|████████▌                         | 1/4 [00:00<00:00,  8.16it/s, loss=1.68]"
     ]
    },
    {
     "name": "stdout",
     "output_type": "stream",
     "text": [
      "Epoch  40/ 50 -- train_loss: 2.019 -- validation_loss: 190.411\n",
      "Saving model..\n"
     ]
    },
    {
     "name": "stderr",
     "output_type": "stream",
     "text": [
      "100%|██████████████████████████████████| 4/4 [00:00<00:00,  7.81it/s, loss=2.38]\n",
      " 25%|████████▌                         | 1/4 [00:00<00:00,  8.22it/s, loss=1.46]"
     ]
    },
    {
     "name": "stdout",
     "output_type": "stream",
     "text": [
      "Epoch  41/ 50 -- train_loss: 1.947 -- validation_loss: 188.370\n",
      "Saving model..\n"
     ]
    },
    {
     "name": "stderr",
     "output_type": "stream",
     "text": [
      "100%|██████████████████████████████████| 4/4 [00:00<00:00,  8.16it/s, loss=1.51]\n",
      " 25%|████████▌                         | 1/4 [00:00<00:00,  8.16it/s, loss=2.46]"
     ]
    },
    {
     "name": "stdout",
     "output_type": "stream",
     "text": [
      "Epoch  42/ 50 -- train_loss: 2.000 -- validation_loss: 186.433\n",
      "Saving model..\n"
     ]
    },
    {
     "name": "stderr",
     "output_type": "stream",
     "text": [
      "100%|██████████████████████████████████| 4/4 [00:00<00:00,  8.23it/s, loss=1.51]\n",
      " 25%|████████▌                         | 1/4 [00:00<00:00,  8.22it/s, loss=1.77]"
     ]
    },
    {
     "name": "stdout",
     "output_type": "stream",
     "text": [
      "Epoch  43/ 50 -- train_loss: 1.973 -- validation_loss: 184.501\n",
      "Saving model..\n"
     ]
    },
    {
     "name": "stderr",
     "output_type": "stream",
     "text": [
      "100%|██████████████████████████████████| 4/4 [00:00<00:00,  8.20it/s, loss=1.93]\n",
      " 25%|████████▌                         | 1/4 [00:00<00:00,  7.46it/s, loss=1.80]"
     ]
    },
    {
     "name": "stdout",
     "output_type": "stream",
     "text": [
      "Epoch  44/ 50 -- train_loss: 1.893 -- validation_loss: 182.685\n",
      "Saving model..\n"
     ]
    },
    {
     "name": "stderr",
     "output_type": "stream",
     "text": [
      "100%|██████████████████████████████████| 4/4 [00:00<00:00,  7.64it/s, loss=1.84]\n",
      " 25%|████████▌                         | 1/4 [00:00<00:00,  8.43it/s, loss=2.59]"
     ]
    },
    {
     "name": "stdout",
     "output_type": "stream",
     "text": [
      "Epoch  45/ 50 -- train_loss: 1.859 -- validation_loss: 180.822\n",
      "Saving model..\n"
     ]
    },
    {
     "name": "stderr",
     "output_type": "stream",
     "text": [
      "100%|██████████████████████████████████| 4/4 [00:00<00:00,  7.60it/s, loss=1.93]\n",
      " 25%|████████▌                         | 1/4 [00:00<00:00,  8.16it/s, loss=1.52]"
     ]
    },
    {
     "name": "stdout",
     "output_type": "stream",
     "text": [
      "Epoch  46/ 50 -- train_loss: 2.105 -- validation_loss: 179.041\n",
      "Saving model..\n"
     ]
    },
    {
     "name": "stderr",
     "output_type": "stream",
     "text": [
      "100%|██████████████████████████████████| 4/4 [00:00<00:00,  8.18it/s, loss=1.57]\n",
      " 25%|████████▌                         | 1/4 [00:00<00:00,  8.19it/s, loss=1.36]"
     ]
    },
    {
     "name": "stdout",
     "output_type": "stream",
     "text": [
      "Epoch  47/ 50 -- train_loss: 1.871 -- validation_loss: 177.160\n",
      "Saving model..\n"
     ]
    },
    {
     "name": "stderr",
     "output_type": "stream",
     "text": [
      "100%|██████████████████████████████████| 4/4 [00:00<00:00,  7.63it/s, loss=1.75]\n",
      " 25%|████████▌                         | 1/4 [00:00<00:00,  8.43it/s, loss=2.18]"
     ]
    },
    {
     "name": "stdout",
     "output_type": "stream",
     "text": [
      "Epoch  48/ 50 -- train_loss: 1.651 -- validation_loss: 175.553\n",
      "Saving model..\n"
     ]
    },
    {
     "name": "stderr",
     "output_type": "stream",
     "text": [
      "100%|██████████████████████████████████| 4/4 [00:00<00:00,  8.36it/s, loss=1.58]\n",
      " 25%|████████▌                         | 1/4 [00:00<00:00,  8.33it/s, loss=1.83]"
     ]
    },
    {
     "name": "stdout",
     "output_type": "stream",
     "text": [
      "Epoch  49/ 50 -- train_loss: 1.853 -- validation_loss: 173.823\n",
      "Saving model..\n"
     ]
    },
    {
     "name": "stderr",
     "output_type": "stream",
     "text": [
      "100%|██████████████████████████████████| 4/4 [00:00<00:00,  8.16it/s, loss=2.66]\n"
     ]
    },
    {
     "name": "stdout",
     "output_type": "stream",
     "text": [
      "Epoch  50/ 50 -- train_loss: 1.937 -- validation_loss: 172.125\n",
      "Saving model..\n"
     ]
    },
    {
     "name": "stderr",
     "output_type": "stream",
     "text": [
      "  0%|▏                              | 1/200 [00:00<00:25,  7.80it/s, loss=72.04]"
     ]
    },
    {
     "name": "stdout",
     "output_type": "stream",
     "text": [
      "###### Stop training after 50 epochs!\n",
      "Validation loss: 172.125\n",
      "Test loss:       172.253\n",
      "Loading dataset..\n",
      "No validation set passed\n",
      "No test set passed\n",
      "Creating directory experiment..\n",
      "Creating BNAF model..\n",
      "Creating optimizer..\n",
      "Creating scheduler..\n",
      "Training..\n"
     ]
    },
    {
     "name": "stderr",
     "output_type": "stream",
     "text": [
      "100%|██████████████████████████████| 200/200 [00:24<00:00,  8.17it/s, loss=4.13]\n",
      "  0%|                                                   | 0/200 [00:00<?, ?it/s]"
     ]
    },
    {
     "name": "stdout",
     "output_type": "stream",
     "text": [
      "Epoch   1/ 50 -- train_loss: 8.611 -- validation_loss: 187.600\n",
      "Saving model..\n"
     ]
    },
    {
     "name": "stderr",
     "output_type": "stream",
     "text": [
      "100%|██████████████████████████████| 200/200 [00:25<00:00,  7.88it/s, loss=3.00]\n",
      "  0%|                                                   | 0/200 [00:00<?, ?it/s]"
     ]
    },
    {
     "name": "stdout",
     "output_type": "stream",
     "text": [
      "Epoch   2/ 50 -- train_loss: 3.187 -- validation_loss: 133.085\n",
      "Saving model..\n"
     ]
    },
    {
     "name": "stderr",
     "output_type": "stream",
     "text": [
      "100%|██████████████████████████████| 200/200 [00:25<00:00,  7.78it/s, loss=2.40]\n",
      "  0%|                                                   | 0/200 [00:00<?, ?it/s]"
     ]
    },
    {
     "name": "stdout",
     "output_type": "stream",
     "text": [
      "Epoch   3/ 50 -- train_loss: 2.762 -- validation_loss: 94.851\n",
      "Saving model..\n"
     ]
    },
    {
     "name": "stderr",
     "output_type": "stream",
     "text": [
      "100%|██████████████████████████████| 200/200 [00:25<00:00,  7.85it/s, loss=2.95]\n",
      "  0%|                                                   | 0/200 [00:00<?, ?it/s]"
     ]
    },
    {
     "name": "stdout",
     "output_type": "stream",
     "text": [
      "Epoch   4/ 50 -- train_loss: 2.568 -- validation_loss: 66.584\n",
      "Saving model..\n"
     ]
    },
    {
     "name": "stderr",
     "output_type": "stream",
     "text": [
      "100%|██████████████████████████████| 200/200 [00:25<00:00,  7.77it/s, loss=1.96]\n",
      "  0%|                                                   | 0/200 [00:00<?, ?it/s]"
     ]
    },
    {
     "name": "stdout",
     "output_type": "stream",
     "text": [
      "Epoch   5/ 50 -- train_loss: 2.430 -- validation_loss: 49.021\n",
      "Saving model..\n"
     ]
    },
    {
     "name": "stderr",
     "output_type": "stream",
     "text": [
      "100%|██████████████████████████████| 200/200 [00:25<00:00,  7.84it/s, loss=1.98]\n",
      "  0%|                                                   | 0/200 [00:00<?, ?it/s]"
     ]
    },
    {
     "name": "stdout",
     "output_type": "stream",
     "text": [
      "Epoch   6/ 50 -- train_loss: 2.277 -- validation_loss: 38.852\n",
      "Saving model..\n"
     ]
    },
    {
     "name": "stderr",
     "output_type": "stream",
     "text": [
      "100%|██████████████████████████████| 200/200 [00:26<00:00,  7.52it/s, loss=2.31]\n",
      "  0%|                                                   | 0/200 [00:00<?, ?it/s]"
     ]
    },
    {
     "name": "stdout",
     "output_type": "stream",
     "text": [
      "Epoch   7/ 50 -- train_loss: 2.212 -- validation_loss: 32.860\n",
      "Saving model..\n"
     ]
    },
    {
     "name": "stderr",
     "output_type": "stream",
     "text": [
      "100%|██████████████████████████████| 200/200 [00:25<00:00,  7.85it/s, loss=1.83]\n",
      "  0%|                                                   | 0/200 [00:00<?, ?it/s]"
     ]
    },
    {
     "name": "stdout",
     "output_type": "stream",
     "text": [
      "Epoch   8/ 50 -- train_loss: 2.144 -- validation_loss: 29.554\n",
      "Saving model..\n"
     ]
    },
    {
     "name": "stderr",
     "output_type": "stream",
     "text": [
      "100%|██████████████████████████████| 200/200 [00:25<00:00,  7.79it/s, loss=3.16]\n",
      "  0%|                                                   | 0/200 [00:00<?, ?it/s]"
     ]
    },
    {
     "name": "stdout",
     "output_type": "stream",
     "text": [
      "Epoch   9/ 50 -- train_loss: 2.067 -- validation_loss: 27.679\n",
      "Saving model..\n"
     ]
    },
    {
     "name": "stderr",
     "output_type": "stream",
     "text": [
      "100%|██████████████████████████████| 200/200 [00:25<00:00,  7.79it/s, loss=2.10]\n",
      "  0%|                                                   | 0/200 [00:00<?, ?it/s]"
     ]
    },
    {
     "name": "stdout",
     "output_type": "stream",
     "text": [
      "Epoch  10/ 50 -- train_loss: 2.009 -- validation_loss: 26.654\n",
      "Saving model..\n"
     ]
    },
    {
     "name": "stderr",
     "output_type": "stream",
     "text": [
      "100%|██████████████████████████████| 200/200 [00:25<00:00,  7.85it/s, loss=1.89]\n",
      "  0%|                                                   | 0/200 [00:00<?, ?it/s]"
     ]
    },
    {
     "name": "stdout",
     "output_type": "stream",
     "text": [
      "Epoch  11/ 50 -- train_loss: 1.973 -- validation_loss: 26.001\n",
      "Saving model..\n"
     ]
    },
    {
     "name": "stderr",
     "output_type": "stream",
     "text": [
      "100%|██████████████████████████████| 200/200 [00:24<00:00,  8.03it/s, loss=2.29]\n",
      "  0%|                                                   | 0/200 [00:00<?, ?it/s]"
     ]
    },
    {
     "name": "stdout",
     "output_type": "stream",
     "text": [
      "Epoch  12/ 50 -- train_loss: 1.908 -- validation_loss: 25.652\n",
      "Saving model..\n"
     ]
    },
    {
     "name": "stderr",
     "output_type": "stream",
     "text": [
      "100%|██████████████████████████████| 200/200 [00:25<00:00,  7.78it/s, loss=2.24]\n",
      "  0%|                                                   | 0/200 [00:00<?, ?it/s]"
     ]
    },
    {
     "name": "stdout",
     "output_type": "stream",
     "text": [
      "Epoch  13/ 50 -- train_loss: 1.850 -- validation_loss: 25.508\n",
      "Saving model..\n"
     ]
    },
    {
     "name": "stderr",
     "output_type": "stream",
     "text": [
      "100%|██████████████████████████████| 200/200 [00:24<00:00,  8.06it/s, loss=1.52]\n",
      "  0%|                                                   | 0/200 [00:00<?, ?it/s]"
     ]
    },
    {
     "name": "stdout",
     "output_type": "stream",
     "text": [
      "Epoch  14/ 50 -- train_loss: 1.840 -- validation_loss: 25.377\n",
      "Saving model..\n"
     ]
    },
    {
     "name": "stderr",
     "output_type": "stream",
     "text": [
      "100%|██████████████████████████████| 200/200 [00:25<00:00,  7.80it/s, loss=1.33]\n",
      "  0%|                                                   | 0/200 [00:00<?, ?it/s]"
     ]
    },
    {
     "name": "stdout",
     "output_type": "stream",
     "text": [
      "Epoch  15/ 50 -- train_loss: 1.750 -- validation_loss: 25.397\n"
     ]
    },
    {
     "name": "stderr",
     "output_type": "stream",
     "text": [
      "100%|██████████████████████████████| 200/200 [00:25<00:00,  7.86it/s, loss=2.00]\n",
      "  0%|                                                   | 0/200 [00:00<?, ?it/s]"
     ]
    },
    {
     "name": "stdout",
     "output_type": "stream",
     "text": [
      "Epoch  16/ 50 -- train_loss: 1.727 -- validation_loss: 25.427\n"
     ]
    },
    {
     "name": "stderr",
     "output_type": "stream",
     "text": [
      "100%|██████████████████████████████| 200/200 [00:25<00:00,  7.80it/s, loss=1.30]\n",
      "  0%|                                                   | 0/200 [00:00<?, ?it/s]"
     ]
    },
    {
     "name": "stdout",
     "output_type": "stream",
     "text": [
      "Epoch  17/ 50 -- train_loss: 1.715 -- validation_loss: 25.426\n"
     ]
    },
    {
     "name": "stderr",
     "output_type": "stream",
     "text": [
      "100%|██████████████████████████████| 200/200 [00:25<00:00,  7.86it/s, loss=0.77]\n",
      "  0%|                                                   | 0/200 [00:00<?, ?it/s]"
     ]
    },
    {
     "name": "stdout",
     "output_type": "stream",
     "text": [
      "Epoch  18/ 50 -- train_loss: 1.701 -- validation_loss: 25.401\n"
     ]
    },
    {
     "name": "stderr",
     "output_type": "stream",
     "text": [
      "100%|██████████████████████████████| 200/200 [00:25<00:00,  7.77it/s, loss=1.70]\n",
      "  0%|                                                   | 0/200 [00:00<?, ?it/s]"
     ]
    },
    {
     "name": "stdout",
     "output_type": "stream",
     "text": [
      "Epoch  19/ 50 -- train_loss: 1.635 -- validation_loss: 25.468\n"
     ]
    },
    {
     "name": "stderr",
     "output_type": "stream",
     "text": [
      "100%|██████████████████████████████| 200/200 [00:25<00:00,  7.70it/s, loss=1.38]\n",
      "  0%|                                                   | 0/200 [00:00<?, ?it/s]"
     ]
    },
    {
     "name": "stdout",
     "output_type": "stream",
     "text": [
      "Epoch  20/ 50 -- train_loss: 1.603 -- validation_loss: 25.515\n"
     ]
    },
    {
     "name": "stderr",
     "output_type": "stream",
     "text": [
      "100%|██████████████████████████████| 200/200 [00:25<00:00,  7.82it/s, loss=1.79]\n",
      "  0%|                                                   | 0/200 [00:00<?, ?it/s]"
     ]
    },
    {
     "name": "stdout",
     "output_type": "stream",
     "text": [
      "Epoch  21/ 50 -- train_loss: 1.576 -- validation_loss: 25.681\n"
     ]
    },
    {
     "name": "stderr",
     "output_type": "stream",
     "text": [
      "100%|██████████████████████████████| 200/200 [00:28<00:00,  7.14it/s, loss=1.57]\n",
      "  0%|                                                   | 0/200 [00:00<?, ?it/s]"
     ]
    },
    {
     "name": "stdout",
     "output_type": "stream",
     "text": [
      "Epoch  22/ 50 -- train_loss: 1.527 -- validation_loss: 25.722\n"
     ]
    },
    {
     "name": "stderr",
     "output_type": "stream",
     "text": [
      "100%|██████████████████████████████| 200/200 [00:24<00:00,  8.13it/s, loss=1.22]\n",
      "  0%|                                                   | 0/200 [00:00<?, ?it/s]"
     ]
    },
    {
     "name": "stdout",
     "output_type": "stream",
     "text": [
      "Epoch  23/ 50 -- train_loss: 1.580 -- validation_loss: 25.820\n"
     ]
    },
    {
     "name": "stderr",
     "output_type": "stream",
     "text": [
      "100%|██████████████████████████████| 200/200 [00:25<00:00,  7.97it/s, loss=1.75]\n",
      "  0%|                                                   | 0/200 [00:00<?, ?it/s]"
     ]
    },
    {
     "name": "stdout",
     "output_type": "stream",
     "text": [
      "Epoch  24/ 50 -- train_loss: 1.508 -- validation_loss: 25.902\n"
     ]
    },
    {
     "name": "stderr",
     "output_type": "stream",
     "text": [
      "100%|██████████████████████████████| 200/200 [00:25<00:00,  7.97it/s, loss=1.13]\n",
      "  0%|                                                   | 0/200 [00:00<?, ?it/s]"
     ]
    },
    {
     "name": "stdout",
     "output_type": "stream",
     "text": [
      "Epoch  25/ 50 -- train_loss: 1.482 -- validation_loss: 25.928\n"
     ]
    },
    {
     "name": "stderr",
     "output_type": "stream",
     "text": [
      "100%|██████████████████████████████| 200/200 [00:24<00:00,  8.14it/s, loss=1.52]\n",
      "  0%|                                                   | 0/200 [00:00<?, ?it/s]"
     ]
    },
    {
     "name": "stdout",
     "output_type": "stream",
     "text": [
      "Epoch  26/ 50 -- train_loss: 1.435 -- validation_loss: 25.979\n"
     ]
    },
    {
     "name": "stderr",
     "output_type": "stream",
     "text": [
      "100%|██████████████████████████████| 200/200 [00:24<00:00,  8.06it/s, loss=1.60]\n",
      "  0%|                                                   | 0/200 [00:00<?, ?it/s]"
     ]
    },
    {
     "name": "stdout",
     "output_type": "stream",
     "text": [
      "Epoch  27/ 50 -- train_loss: 1.412 -- validation_loss: 26.041\n"
     ]
    },
    {
     "name": "stderr",
     "output_type": "stream",
     "text": [
      "100%|██████████████████████████████| 200/200 [00:25<00:00,  7.82it/s, loss=1.14]\n",
      "  0%|                                                   | 0/200 [00:00<?, ?it/s]"
     ]
    },
    {
     "name": "stdout",
     "output_type": "stream",
     "text": [
      "Epoch  28/ 50 -- train_loss: 1.387 -- validation_loss: 26.160\n"
     ]
    },
    {
     "name": "stderr",
     "output_type": "stream",
     "text": [
      "100%|██████████████████████████████| 200/200 [00:25<00:00,  7.82it/s, loss=0.92]\n",
      "  0%|                                                   | 0/200 [00:00<?, ?it/s]"
     ]
    },
    {
     "name": "stdout",
     "output_type": "stream",
     "text": [
      "Epoch  29/ 50 -- train_loss: 1.443 -- validation_loss: 26.203\n"
     ]
    },
    {
     "name": "stderr",
     "output_type": "stream",
     "text": [
      "100%|██████████████████████████████| 200/200 [00:34<00:00,  5.83it/s, loss=1.28]\n",
      "  0%|▏                               | 1/200 [00:00<00:39,  5.05it/s, loss=0.10]"
     ]
    },
    {
     "name": "stdout",
     "output_type": "stream",
     "text": [
      "Epoch  30/ 50 -- train_loss: 1.411 -- validation_loss: 26.265\n"
     ]
    },
    {
     "name": "stderr",
     "output_type": "stream",
     "text": [
      "100%|██████████████████████████████| 200/200 [00:24<00:00,  8.09it/s, loss=0.87]\n",
      "  0%|                                                   | 0/200 [00:00<?, ?it/s]"
     ]
    },
    {
     "name": "stdout",
     "output_type": "stream",
     "text": [
      "Epoch  31/ 50 -- train_loss: 1.357 -- validation_loss: 26.372\n"
     ]
    },
    {
     "name": "stderr",
     "output_type": "stream",
     "text": [
      "100%|██████████████████████████████| 200/200 [00:25<00:00,  7.82it/s, loss=1.87]\n",
      "  0%|                                                   | 0/200 [00:00<?, ?it/s]"
     ]
    },
    {
     "name": "stdout",
     "output_type": "stream",
     "text": [
      "Epoch  32/ 50 -- train_loss: 1.356 -- validation_loss: 26.447\n"
     ]
    },
    {
     "name": "stderr",
     "output_type": "stream",
     "text": [
      "100%|██████████████████████████████| 200/200 [00:25<00:00,  7.78it/s, loss=1.06]\n",
      "  0%|                                                   | 0/200 [00:00<?, ?it/s]"
     ]
    },
    {
     "name": "stdout",
     "output_type": "stream",
     "text": [
      "Epoch  33/ 50 -- train_loss: 1.285 -- validation_loss: 26.572\n"
     ]
    },
    {
     "name": "stderr",
     "output_type": "stream",
     "text": [
      "100%|██████████████████████████████| 200/200 [00:25<00:00,  7.77it/s, loss=2.30]\n",
      "  0%|                                                   | 0/200 [00:00<?, ?it/s]"
     ]
    },
    {
     "name": "stdout",
     "output_type": "stream",
     "text": [
      "Epoch  34/ 50 -- train_loss: 1.275 -- validation_loss: 26.638\n"
     ]
    },
    {
     "name": "stderr",
     "output_type": "stream",
     "text": [
      "100%|██████████████████████████████| 200/200 [00:25<00:00,  7.82it/s, loss=1.28]\n",
      "  0%|                                                   | 0/200 [00:00<?, ?it/s]"
     ]
    },
    {
     "name": "stdout",
     "output_type": "stream",
     "text": [
      "Epoch  35/ 50 -- train_loss: 1.238 -- validation_loss: 26.717\n",
      "Epoch 00035: reducing learning rate of group 0 to 5.0000e-03.\n"
     ]
    },
    {
     "name": "stderr",
     "output_type": "stream",
     "text": [
      "100%|██████████████████████████████| 200/200 [00:25<00:00,  7.79it/s, loss=1.27]\n",
      "  0%|                                                   | 0/200 [00:00<?, ?it/s]"
     ]
    },
    {
     "name": "stdout",
     "output_type": "stream",
     "text": [
      "Epoch  36/ 50 -- train_loss: 1.048 -- validation_loss: 26.938\n"
     ]
    },
    {
     "name": "stderr",
     "output_type": "stream",
     "text": [
      "100%|██████████████████████████████| 200/200 [00:25<00:00,  7.83it/s, loss=0.82]\n",
      "  0%|                                                   | 0/200 [00:00<?, ?it/s]"
     ]
    },
    {
     "name": "stdout",
     "output_type": "stream",
     "text": [
      "Epoch  37/ 50 -- train_loss: 1.129 -- validation_loss: 27.109\n"
     ]
    },
    {
     "name": "stderr",
     "output_type": "stream",
     "text": [
      "100%|██████████████████████████████| 200/200 [00:25<00:00,  7.84it/s, loss=0.30]\n",
      "  0%|                                                   | 0/200 [00:00<?, ?it/s]"
     ]
    },
    {
     "name": "stdout",
     "output_type": "stream",
     "text": [
      "Epoch  38/ 50 -- train_loss: 1.124 -- validation_loss: 27.200\n"
     ]
    },
    {
     "name": "stderr",
     "output_type": "stream",
     "text": [
      "100%|██████████████████████████████| 200/200 [00:26<00:00,  7.55it/s, loss=1.39]\n",
      "  0%|                                                   | 0/200 [00:00<?, ?it/s]"
     ]
    },
    {
     "name": "stdout",
     "output_type": "stream",
     "text": [
      "Epoch  39/ 50 -- train_loss: 1.104 -- validation_loss: 27.367\n"
     ]
    },
    {
     "name": "stderr",
     "output_type": "stream",
     "text": [
      "100%|██████████████████████████████| 200/200 [00:25<00:00,  7.82it/s, loss=1.34]\n",
      "  0%|                                                   | 0/200 [00:00<?, ?it/s]"
     ]
    },
    {
     "name": "stdout",
     "output_type": "stream",
     "text": [
      "Epoch  40/ 50 -- train_loss: 1.096 -- validation_loss: 27.459\n"
     ]
    },
    {
     "name": "stderr",
     "output_type": "stream",
     "text": [
      "100%|██████████████████████████████| 200/200 [00:25<00:00,  7.82it/s, loss=0.80]\n",
      "  0%|                                                   | 0/200 [00:00<?, ?it/s]"
     ]
    },
    {
     "name": "stdout",
     "output_type": "stream",
     "text": [
      "Epoch  41/ 50 -- train_loss: 1.084 -- validation_loss: 27.532\n"
     ]
    },
    {
     "name": "stderr",
     "output_type": "stream",
     "text": [
      "100%|██████████████████████████████| 200/200 [00:25<00:00,  7.71it/s, loss=1.08]\n",
      "  0%|                                                   | 0/200 [00:00<?, ?it/s]"
     ]
    },
    {
     "name": "stdout",
     "output_type": "stream",
     "text": [
      "Epoch  42/ 50 -- train_loss: 1.038 -- validation_loss: 27.628\n"
     ]
    },
    {
     "name": "stderr",
     "output_type": "stream",
     "text": [
      "100%|██████████████████████████████| 200/200 [00:25<00:00,  7.75it/s, loss=1.02]\n",
      "  0%|                                                   | 0/200 [00:00<?, ?it/s]"
     ]
    },
    {
     "name": "stdout",
     "output_type": "stream",
     "text": [
      "Epoch  43/ 50 -- train_loss: 1.050 -- validation_loss: 27.714\n"
     ]
    },
    {
     "name": "stderr",
     "output_type": "stream",
     "text": [
      "100%|██████████████████████████████| 200/200 [00:25<00:00,  7.81it/s, loss=1.26]\n",
      "  0%|                                                   | 0/200 [00:00<?, ?it/s]"
     ]
    },
    {
     "name": "stdout",
     "output_type": "stream",
     "text": [
      "Epoch  44/ 50 -- train_loss: 1.025 -- validation_loss: 27.781\n"
     ]
    },
    {
     "name": "stderr",
     "output_type": "stream",
     "text": [
      "100%|██████████████████████████████| 200/200 [00:25<00:00,  7.82it/s, loss=1.33]\n",
      "  0%|                                                   | 0/200 [00:00<?, ?it/s]"
     ]
    },
    {
     "name": "stdout",
     "output_type": "stream",
     "text": [
      "Epoch  45/ 50 -- train_loss: 1.014 -- validation_loss: 27.826\n"
     ]
    },
    {
     "name": "stderr",
     "output_type": "stream",
     "text": [
      "100%|██████████████████████████████| 200/200 [00:26<00:00,  7.45it/s, loss=1.46]\n",
      "  0%|                                                   | 0/200 [00:00<?, ?it/s]"
     ]
    },
    {
     "name": "stdout",
     "output_type": "stream",
     "text": [
      "Epoch  46/ 50 -- train_loss: 0.992 -- validation_loss: 27.872\n"
     ]
    },
    {
     "name": "stderr",
     "output_type": "stream",
     "text": [
      "100%|██████████████████████████████| 200/200 [00:25<00:00,  7.78it/s, loss=1.19]\n",
      "  0%|                                                   | 0/200 [00:00<?, ?it/s]"
     ]
    },
    {
     "name": "stdout",
     "output_type": "stream",
     "text": [
      "Epoch  47/ 50 -- train_loss: 1.006 -- validation_loss: 27.923\n"
     ]
    },
    {
     "name": "stderr",
     "output_type": "stream",
     "text": [
      "100%|██████████████████████████████| 200/200 [00:25<00:00,  7.83it/s, loss=1.29]\n",
      "  0%|                                                   | 0/200 [00:00<?, ?it/s]"
     ]
    },
    {
     "name": "stdout",
     "output_type": "stream",
     "text": [
      "Epoch  48/ 50 -- train_loss: 0.998 -- validation_loss: 27.984\n"
     ]
    },
    {
     "name": "stderr",
     "output_type": "stream",
     "text": [
      "100%|██████████████████████████████| 200/200 [00:25<00:00,  7.78it/s, loss=1.58]\n",
      "  0%|                                                   | 0/200 [00:00<?, ?it/s]"
     ]
    },
    {
     "name": "stdout",
     "output_type": "stream",
     "text": [
      "Epoch  49/ 50 -- train_loss: 0.958 -- validation_loss: 28.010\n"
     ]
    },
    {
     "name": "stderr",
     "output_type": "stream",
     "text": [
      "100%|██████████████████████████████| 200/200 [00:25<00:00,  7.80it/s, loss=0.01]\n"
     ]
    },
    {
     "name": "stdout",
     "output_type": "stream",
     "text": [
      "Epoch  50/ 50 -- train_loss: 0.960 -- validation_loss: 28.046\n",
      "###### Stop training after 50 epochs!\n",
      "Validation loss: 28.046\n",
      "Test loss:       28.068\n"
     ]
    },
    {
     "name": "stderr",
     "output_type": "stream",
     "text": [
      " 25%|████████▎                        | 1/4 [00:00<00:00,  7.26it/s, loss=55.56]"
     ]
    },
    {
     "name": "stdout",
     "output_type": "stream",
     "text": [
      "Loading dataset..\n",
      "Creating directory experiment..\n",
      "Creating BNAF model..\n",
      "Creating optimizer..\n",
      "Creating scheduler..\n",
      "Training..\n"
     ]
    },
    {
     "name": "stderr",
     "output_type": "stream",
     "text": [
      "100%|█████████████████████████████████| 4/4 [00:00<00:00,  7.56it/s, loss=43.64]\n",
      "  0%|                                                     | 0/4 [00:00<?, ?it/s]"
     ]
    },
    {
     "name": "stdout",
     "output_type": "stream",
     "text": [
      "Epoch   1/ 50 -- train_loss: 50.101 -- validation_loss: 337.403\n",
      "Saving model..\n"
     ]
    },
    {
     "name": "stderr",
     "output_type": "stream",
     "text": [
      "100%|█████████████████████████████████| 4/4 [00:00<00:00,  8.08it/s, loss=34.50]\n",
      " 25%|████████▎                        | 1/4 [00:00<00:00,  8.50it/s, loss=30.88]"
     ]
    },
    {
     "name": "stdout",
     "output_type": "stream",
     "text": [
      "Epoch   2/ 50 -- train_loss: 38.397 -- validation_loss: 332.643\n",
      "Saving model..\n"
     ]
    },
    {
     "name": "stderr",
     "output_type": "stream",
     "text": [
      "100%|█████████████████████████████████| 4/4 [00:00<00:00,  8.37it/s, loss=23.60]\n",
      " 25%|████████▎                        | 1/4 [00:00<00:00,  8.12it/s, loss=20.70]"
     ]
    },
    {
     "name": "stdout",
     "output_type": "stream",
     "text": [
      "Epoch   3/ 50 -- train_loss: 27.481 -- validation_loss: 327.695\n",
      "Saving model..\n"
     ]
    },
    {
     "name": "stderr",
     "output_type": "stream",
     "text": [
      "100%|█████████████████████████████████| 4/4 [00:00<00:00,  7.92it/s, loss=13.70]\n",
      " 25%|████████▎                        | 1/4 [00:00<00:00,  8.22it/s, loss=12.52]"
     ]
    },
    {
     "name": "stdout",
     "output_type": "stream",
     "text": [
      "Epoch   4/ 50 -- train_loss: 17.423 -- validation_loss: 322.542\n",
      "Saving model..\n"
     ]
    },
    {
     "name": "stderr",
     "output_type": "stream",
     "text": [
      "100%|██████████████████████████████████| 4/4 [00:00<00:00,  8.35it/s, loss=7.76]\n",
      " 25%|████████▌                         | 1/4 [00:00<00:00,  8.32it/s, loss=7.01]"
     ]
    },
    {
     "name": "stdout",
     "output_type": "stream",
     "text": [
      "Epoch   5/ 50 -- train_loss: 10.281 -- validation_loss: 317.227\n",
      "Saving model..\n"
     ]
    },
    {
     "name": "stderr",
     "output_type": "stream",
     "text": [
      "100%|██████████████████████████████████| 4/4 [00:00<00:00,  8.31it/s, loss=6.46]\n",
      " 25%|████████▌                         | 1/4 [00:00<00:00,  8.58it/s, loss=6.49]"
     ]
    },
    {
     "name": "stdout",
     "output_type": "stream",
     "text": [
      "Epoch   6/ 50 -- train_loss: 6.669 -- validation_loss: 311.891\n",
      "Saving model..\n"
     ]
    },
    {
     "name": "stderr",
     "output_type": "stream",
     "text": [
      "100%|██████████████████████████████████| 4/4 [00:00<00:00,  8.32it/s, loss=5.53]\n",
      " 25%|████████▌                         | 1/4 [00:00<00:00,  7.66it/s, loss=5.74]"
     ]
    },
    {
     "name": "stdout",
     "output_type": "stream",
     "text": [
      "Epoch   7/ 50 -- train_loss: 5.903 -- validation_loss: 306.500\n",
      "Saving model..\n"
     ]
    },
    {
     "name": "stderr",
     "output_type": "stream",
     "text": [
      "100%|██████████████████████████████████| 4/4 [00:00<00:00,  8.11it/s, loss=5.68]\n",
      " 25%|████████▌                         | 1/4 [00:00<00:00,  8.50it/s, loss=5.27]"
     ]
    },
    {
     "name": "stdout",
     "output_type": "stream",
     "text": [
      "Epoch   8/ 50 -- train_loss: 5.678 -- validation_loss: 301.117\n",
      "Saving model..\n"
     ]
    },
    {
     "name": "stderr",
     "output_type": "stream",
     "text": [
      "100%|██████████████████████████████████| 4/4 [00:00<00:00,  8.41it/s, loss=5.53]\n",
      " 25%|████████▌                         | 1/4 [00:00<00:00,  8.50it/s, loss=4.75]"
     ]
    },
    {
     "name": "stdout",
     "output_type": "stream",
     "text": [
      "Epoch   9/ 50 -- train_loss: 5.277 -- validation_loss: 295.783\n",
      "Saving model..\n"
     ]
    },
    {
     "name": "stderr",
     "output_type": "stream",
     "text": [
      "100%|██████████████████████████████████| 4/4 [00:00<00:00,  8.41it/s, loss=4.69]\n",
      " 25%|████████▌                         | 1/4 [00:00<00:00,  8.36it/s, loss=3.97]"
     ]
    },
    {
     "name": "stdout",
     "output_type": "stream",
     "text": [
      "Epoch  10/ 50 -- train_loss: 4.671 -- validation_loss: 290.683\n",
      "Saving model..\n"
     ]
    },
    {
     "name": "stderr",
     "output_type": "stream",
     "text": [
      "100%|██████████████████████████████████| 4/4 [00:00<00:00,  8.16it/s, loss=3.56]\n",
      " 25%|████████▌                         | 1/4 [00:00<00:00,  7.62it/s, loss=3.69]"
     ]
    },
    {
     "name": "stdout",
     "output_type": "stream",
     "text": [
      "Epoch  11/ 50 -- train_loss: 4.141 -- validation_loss: 285.725\n",
      "Saving model..\n"
     ]
    },
    {
     "name": "stderr",
     "output_type": "stream",
     "text": [
      "100%|██████████████████████████████████| 4/4 [00:00<00:00,  7.99it/s, loss=3.48]\n",
      " 25%|████████▌                         | 1/4 [00:00<00:00,  8.29it/s, loss=3.76]"
     ]
    },
    {
     "name": "stdout",
     "output_type": "stream",
     "text": [
      "Epoch  12/ 50 -- train_loss: 4.038 -- validation_loss: 280.882\n",
      "Saving model..\n"
     ]
    },
    {
     "name": "stderr",
     "output_type": "stream",
     "text": [
      "100%|██████████████████████████████████| 4/4 [00:00<00:00,  7.72it/s, loss=3.49]\n",
      " 25%|████████▌                         | 1/4 [00:00<00:00,  8.50it/s, loss=3.75]"
     ]
    },
    {
     "name": "stdout",
     "output_type": "stream",
     "text": [
      "Epoch  13/ 50 -- train_loss: 3.797 -- validation_loss: 276.163\n",
      "Saving model..\n"
     ]
    },
    {
     "name": "stderr",
     "output_type": "stream",
     "text": [
      "100%|██████████████████████████████████| 4/4 [00:00<00:00,  8.29it/s, loss=4.03]\n",
      " 25%|████████▌                         | 1/4 [00:00<00:00,  7.66it/s, loss=3.83]"
     ]
    },
    {
     "name": "stdout",
     "output_type": "stream",
     "text": [
      "Epoch  14/ 50 -- train_loss: 3.719 -- validation_loss: 271.556\n",
      "Saving model..\n"
     ]
    },
    {
     "name": "stderr",
     "output_type": "stream",
     "text": [
      "100%|██████████████████████████████████| 4/4 [00:00<00:00,  8.11it/s, loss=3.51]\n",
      " 25%|████████▌                         | 1/4 [00:00<00:00,  8.69it/s, loss=3.85]"
     ]
    },
    {
     "name": "stdout",
     "output_type": "stream",
     "text": [
      "Epoch  15/ 50 -- train_loss: 3.632 -- validation_loss: 267.074\n",
      "Saving model..\n"
     ]
    },
    {
     "name": "stderr",
     "output_type": "stream",
     "text": [
      "100%|██████████████████████████████████| 4/4 [00:00<00:00,  8.53it/s, loss=3.07]\n",
      " 25%|████████▌                         | 1/4 [00:00<00:00,  8.43it/s, loss=3.00]"
     ]
    },
    {
     "name": "stdout",
     "output_type": "stream",
     "text": [
      "Epoch  16/ 50 -- train_loss: 3.423 -- validation_loss: 262.763\n",
      "Saving model..\n"
     ]
    },
    {
     "name": "stderr",
     "output_type": "stream",
     "text": [
      "100%|██████████████████████████████████| 4/4 [00:00<00:00,  8.45it/s, loss=2.80]\n",
      " 25%|████████▌                         | 1/4 [00:00<00:00,  8.42it/s, loss=2.49]"
     ]
    },
    {
     "name": "stdout",
     "output_type": "stream",
     "text": [
      "Epoch  17/ 50 -- train_loss: 3.264 -- validation_loss: 258.659\n",
      "Saving model..\n"
     ]
    },
    {
     "name": "stderr",
     "output_type": "stream",
     "text": [
      "100%|██████████████████████████████████| 4/4 [00:00<00:00,  8.01it/s, loss=3.00]\n",
      " 25%|████████▌                         | 1/4 [00:00<00:00,  8.09it/s, loss=3.19]"
     ]
    },
    {
     "name": "stdout",
     "output_type": "stream",
     "text": [
      "Epoch  18/ 50 -- train_loss: 3.120 -- validation_loss: 254.641\n",
      "Saving model..\n"
     ]
    },
    {
     "name": "stderr",
     "output_type": "stream",
     "text": [
      "100%|██████████████████████████████████| 4/4 [00:00<00:00,  8.24it/s, loss=3.00]\n",
      " 25%|████████▌                         | 1/4 [00:00<00:00,  8.36it/s, loss=2.54]"
     ]
    },
    {
     "name": "stdout",
     "output_type": "stream",
     "text": [
      "Epoch  19/ 50 -- train_loss: 3.041 -- validation_loss: 250.771\n",
      "Saving model..\n"
     ]
    },
    {
     "name": "stderr",
     "output_type": "stream",
     "text": [
      "100%|██████████████████████████████████| 4/4 [00:00<00:00,  8.19it/s, loss=3.42]\n",
      " 25%|████████▌                         | 1/4 [00:00<00:00,  8.73it/s, loss=3.14]"
     ]
    },
    {
     "name": "stdout",
     "output_type": "stream",
     "text": [
      "Epoch  20/ 50 -- train_loss: 3.006 -- validation_loss: 247.019\n",
      "Saving model..\n"
     ]
    },
    {
     "name": "stderr",
     "output_type": "stream",
     "text": [
      "100%|██████████████████████████████████| 4/4 [00:00<00:00,  8.58it/s, loss=2.84]\n",
      " 25%|████████▌                         | 1/4 [00:00<00:00,  7.56it/s, loss=3.22]"
     ]
    },
    {
     "name": "stdout",
     "output_type": "stream",
     "text": [
      "Epoch  21/ 50 -- train_loss: 2.970 -- validation_loss: 243.372\n",
      "Saving model..\n"
     ]
    },
    {
     "name": "stderr",
     "output_type": "stream",
     "text": [
      "100%|██████████████████████████████████| 4/4 [00:00<00:00,  7.61it/s, loss=3.37]\n",
      " 25%|████████▌                         | 1/4 [00:00<00:00,  8.43it/s, loss=2.45]"
     ]
    },
    {
     "name": "stdout",
     "output_type": "stream",
     "text": [
      "Epoch  22/ 50 -- train_loss: 3.047 -- validation_loss: 239.818\n",
      "Saving model..\n"
     ]
    },
    {
     "name": "stderr",
     "output_type": "stream",
     "text": [
      "100%|██████████████████████████████████| 4/4 [00:00<00:00,  8.13it/s, loss=2.60]\n",
      " 25%|████████▌                         | 1/4 [00:00<00:00,  8.36it/s, loss=2.22]"
     ]
    },
    {
     "name": "stdout",
     "output_type": "stream",
     "text": [
      "Epoch  23/ 50 -- train_loss: 2.914 -- validation_loss: 236.357\n",
      "Saving model..\n"
     ]
    },
    {
     "name": "stderr",
     "output_type": "stream",
     "text": [
      "100%|██████████████████████████████████| 4/4 [00:00<00:00,  8.39it/s, loss=2.64]\n",
      " 25%|████████▌                         | 1/4 [00:00<00:00,  8.36it/s, loss=2.73]"
     ]
    },
    {
     "name": "stdout",
     "output_type": "stream",
     "text": [
      "Epoch  24/ 50 -- train_loss: 2.899 -- validation_loss: 233.038\n",
      "Saving model..\n"
     ]
    },
    {
     "name": "stderr",
     "output_type": "stream",
     "text": [
      "100%|██████████████████████████████████| 4/4 [00:00<00:00,  7.85it/s, loss=2.96]\n",
      " 25%|████████▌                         | 1/4 [00:00<00:00,  8.43it/s, loss=3.43]"
     ]
    },
    {
     "name": "stdout",
     "output_type": "stream",
     "text": [
      "Epoch  25/ 50 -- train_loss: 2.720 -- validation_loss: 229.890\n",
      "Saving model..\n"
     ]
    },
    {
     "name": "stderr",
     "output_type": "stream",
     "text": [
      "100%|██████████████████████████████████| 4/4 [00:00<00:00,  8.34it/s, loss=1.67]\n",
      " 25%|████████▌                         | 1/4 [00:00<00:00,  8.58it/s, loss=2.83]"
     ]
    },
    {
     "name": "stdout",
     "output_type": "stream",
     "text": [
      "Epoch  26/ 50 -- train_loss: 2.656 -- validation_loss: 226.801\n",
      "Saving model..\n"
     ]
    },
    {
     "name": "stderr",
     "output_type": "stream",
     "text": [
      "100%|██████████████████████████████████| 4/4 [00:00<00:00,  8.40it/s, loss=2.71]\n",
      " 25%|████████▌                         | 1/4 [00:00<00:00,  8.22it/s, loss=2.48]"
     ]
    },
    {
     "name": "stdout",
     "output_type": "stream",
     "text": [
      "Epoch  27/ 50 -- train_loss: 2.634 -- validation_loss: 223.842\n",
      "Saving model..\n"
     ]
    },
    {
     "name": "stderr",
     "output_type": "stream",
     "text": [
      "100%|██████████████████████████████████| 4/4 [00:00<00:00,  8.15it/s, loss=2.74]\n",
      "  0%|                                                     | 0/4 [00:00<?, ?it/s]"
     ]
    },
    {
     "name": "stdout",
     "output_type": "stream",
     "text": [
      "Epoch  28/ 50 -- train_loss: 2.548 -- validation_loss: 220.950\n",
      "Saving model..\n"
     ]
    },
    {
     "name": "stderr",
     "output_type": "stream",
     "text": [
      "100%|██████████████████████████████████| 4/4 [00:00<00:00,  7.80it/s, loss=2.58]\n",
      " 25%|████████▌                         | 1/4 [00:00<00:00,  8.06it/s, loss=2.80]"
     ]
    },
    {
     "name": "stdout",
     "output_type": "stream",
     "text": [
      "Epoch  29/ 50 -- train_loss: 2.601 -- validation_loss: 218.135\n",
      "Saving model..\n"
     ]
    },
    {
     "name": "stderr",
     "output_type": "stream",
     "text": [
      "100%|██████████████████████████████████| 4/4 [00:00<00:00,  8.11it/s, loss=2.32]\n",
      " 25%|████████▌                         | 1/4 [00:00<00:00,  8.36it/s, loss=2.04]"
     ]
    },
    {
     "name": "stdout",
     "output_type": "stream",
     "text": [
      "Epoch  30/ 50 -- train_loss: 2.530 -- validation_loss: 215.474\n",
      "Saving model..\n"
     ]
    },
    {
     "name": "stderr",
     "output_type": "stream",
     "text": [
      "100%|██████████████████████████████████| 4/4 [00:00<00:00,  8.12it/s, loss=2.88]\n",
      " 25%|████████▌                         | 1/4 [00:00<00:00,  8.22it/s, loss=1.87]"
     ]
    },
    {
     "name": "stdout",
     "output_type": "stream",
     "text": [
      "Epoch  31/ 50 -- train_loss: 2.519 -- validation_loss: 212.923\n",
      "Saving model..\n"
     ]
    },
    {
     "name": "stderr",
     "output_type": "stream",
     "text": [
      "100%|██████████████████████████████████| 4/4 [00:00<00:00,  7.98it/s, loss=3.65]\n",
      " 25%|████████▌                         | 1/4 [00:00<00:00,  8.22it/s, loss=2.61]"
     ]
    },
    {
     "name": "stdout",
     "output_type": "stream",
     "text": [
      "Epoch  32/ 50 -- train_loss: 2.508 -- validation_loss: 210.433\n",
      "Saving model..\n"
     ]
    },
    {
     "name": "stderr",
     "output_type": "stream",
     "text": [
      "100%|██████████████████████████████████| 4/4 [00:00<00:00,  8.21it/s, loss=2.70]\n",
      " 25%|████████▌                         | 1/4 [00:00<00:00,  8.36it/s, loss=2.02]"
     ]
    },
    {
     "name": "stdout",
     "output_type": "stream",
     "text": [
      "Epoch  33/ 50 -- train_loss: 2.492 -- validation_loss: 208.012\n",
      "Saving model..\n"
     ]
    },
    {
     "name": "stderr",
     "output_type": "stream",
     "text": [
      "100%|██████████████████████████████████| 4/4 [00:00<00:00,  8.24it/s, loss=2.78]\n",
      " 25%|████████▌                         | 1/4 [00:00<00:00,  8.47it/s, loss=2.67]"
     ]
    },
    {
     "name": "stdout",
     "output_type": "stream",
     "text": [
      "Epoch  34/ 50 -- train_loss: 2.375 -- validation_loss: 205.639\n",
      "Saving model..\n"
     ]
    },
    {
     "name": "stderr",
     "output_type": "stream",
     "text": [
      "100%|██████████████████████████████████| 4/4 [00:00<00:00,  8.21it/s, loss=1.64]\n",
      "  0%|                                                     | 0/4 [00:00<?, ?it/s]"
     ]
    },
    {
     "name": "stdout",
     "output_type": "stream",
     "text": [
      "Epoch  35/ 50 -- train_loss: 2.339 -- validation_loss: 203.307\n",
      "Saving model..\n"
     ]
    },
    {
     "name": "stderr",
     "output_type": "stream",
     "text": [
      "100%|██████████████████████████████████| 4/4 [00:00<00:00,  7.92it/s, loss=2.22]\n",
      " 25%|████████▌                         | 1/4 [00:00<00:00,  8.38it/s, loss=2.45]"
     ]
    },
    {
     "name": "stdout",
     "output_type": "stream",
     "text": [
      "Epoch  36/ 50 -- train_loss: 2.344 -- validation_loss: 201.108\n",
      "Saving model..\n"
     ]
    },
    {
     "name": "stderr",
     "output_type": "stream",
     "text": [
      "100%|██████████████████████████████████| 4/4 [00:00<00:00,  8.23it/s, loss=2.32]\n",
      " 25%|████████▌                         | 1/4 [00:00<00:00,  8.22it/s, loss=2.02]"
     ]
    },
    {
     "name": "stdout",
     "output_type": "stream",
     "text": [
      "Epoch  37/ 50 -- train_loss: 2.336 -- validation_loss: 198.969\n",
      "Saving model..\n"
     ]
    },
    {
     "name": "stderr",
     "output_type": "stream",
     "text": [
      "100%|██████████████████████████████████| 4/4 [00:00<00:00,  8.23it/s, loss=2.29]\n",
      " 25%|████████▌                         | 1/4 [00:00<00:00,  8.32it/s, loss=2.72]"
     ]
    },
    {
     "name": "stdout",
     "output_type": "stream",
     "text": [
      "Epoch  38/ 50 -- train_loss: 2.283 -- validation_loss: 196.864\n",
      "Saving model..\n"
     ]
    },
    {
     "name": "stderr",
     "output_type": "stream",
     "text": [
      "100%|██████████████████████████████████| 4/4 [00:00<00:00,  7.92it/s, loss=1.95]\n",
      " 25%|████████▌                         | 1/4 [00:00<00:00,  8.16it/s, loss=2.05]"
     ]
    },
    {
     "name": "stdout",
     "output_type": "stream",
     "text": [
      "Epoch  39/ 50 -- train_loss: 2.391 -- validation_loss: 194.791\n",
      "Saving model..\n"
     ]
    },
    {
     "name": "stderr",
     "output_type": "stream",
     "text": [
      "100%|██████████████████████████████████| 4/4 [00:00<00:00,  8.28it/s, loss=2.75]\n",
      " 25%|████████▌                         | 1/4 [00:00<00:00,  8.19it/s, loss=1.95]"
     ]
    },
    {
     "name": "stdout",
     "output_type": "stream",
     "text": [
      "Epoch  40/ 50 -- train_loss: 2.334 -- validation_loss: 192.750\n",
      "Saving model..\n"
     ]
    },
    {
     "name": "stderr",
     "output_type": "stream",
     "text": [
      "100%|██████████████████████████████████| 4/4 [00:00<00:00,  8.05it/s, loss=2.94]\n",
      " 25%|████████▌                         | 1/4 [00:00<00:00,  8.29it/s, loss=2.35]"
     ]
    },
    {
     "name": "stdout",
     "output_type": "stream",
     "text": [
      "Epoch  41/ 50 -- train_loss: 2.315 -- validation_loss: 190.743\n",
      "Saving model..\n"
     ]
    },
    {
     "name": "stderr",
     "output_type": "stream",
     "text": [
      "100%|██████████████████████████████████| 4/4 [00:00<00:00,  8.18it/s, loss=2.34]\n",
      " 25%|████████▌                         | 1/4 [00:00<00:00,  7.29it/s, loss=1.82]"
     ]
    },
    {
     "name": "stdout",
     "output_type": "stream",
     "text": [
      "Epoch  42/ 50 -- train_loss: 2.338 -- validation_loss: 188.780\n",
      "Saving model..\n"
     ]
    },
    {
     "name": "stderr",
     "output_type": "stream",
     "text": [
      "100%|██████████████████████████████████| 4/4 [00:00<00:00,  7.69it/s, loss=2.46]\n",
      " 25%|████████▌                         | 1/4 [00:00<00:00,  8.22it/s, loss=2.19]"
     ]
    },
    {
     "name": "stdout",
     "output_type": "stream",
     "text": [
      "Epoch  43/ 50 -- train_loss: 2.370 -- validation_loss: 186.907\n",
      "Saving model..\n"
     ]
    },
    {
     "name": "stderr",
     "output_type": "stream",
     "text": [
      "100%|██████████████████████████████████| 4/4 [00:00<00:00,  8.14it/s, loss=2.20]\n",
      " 25%|████████▌                         | 1/4 [00:00<00:00,  7.99it/s, loss=2.06]"
     ]
    },
    {
     "name": "stdout",
     "output_type": "stream",
     "text": [
      "Epoch  44/ 50 -- train_loss: 2.236 -- validation_loss: 185.027\n",
      "Saving model..\n"
     ]
    },
    {
     "name": "stderr",
     "output_type": "stream",
     "text": [
      "100%|██████████████████████████████████| 4/4 [00:00<00:00,  8.30it/s, loss=2.01]\n",
      " 25%|████████▌                         | 1/4 [00:00<00:00,  8.36it/s, loss=2.03]"
     ]
    },
    {
     "name": "stdout",
     "output_type": "stream",
     "text": [
      "Epoch  45/ 50 -- train_loss: 2.223 -- validation_loss: 183.159\n",
      "Saving model..\n"
     ]
    },
    {
     "name": "stderr",
     "output_type": "stream",
     "text": [
      "100%|██████████████████████████████████| 4/4 [00:00<00:00,  8.03it/s, loss=2.15]\n",
      "  0%|                                                     | 0/4 [00:00<?, ?it/s]"
     ]
    },
    {
     "name": "stdout",
     "output_type": "stream",
     "text": [
      "Epoch  46/ 50 -- train_loss: 2.155 -- validation_loss: 181.456\n",
      "Saving model..\n"
     ]
    },
    {
     "name": "stderr",
     "output_type": "stream",
     "text": [
      "100%|██████████████████████████████████| 4/4 [00:00<00:00,  8.15it/s, loss=2.96]\n",
      " 25%|████████▌                         | 1/4 [00:00<00:00,  8.09it/s, loss=1.69]"
     ]
    },
    {
     "name": "stdout",
     "output_type": "stream",
     "text": [
      "Epoch  47/ 50 -- train_loss: 2.110 -- validation_loss: 179.868\n",
      "Saving model..\n"
     ]
    },
    {
     "name": "stderr",
     "output_type": "stream",
     "text": [
      "100%|██████████████████████████████████| 4/4 [00:00<00:00,  8.22it/s, loss=2.22]\n",
      " 25%|████████▌                         | 1/4 [00:00<00:00,  8.43it/s, loss=2.16]"
     ]
    },
    {
     "name": "stdout",
     "output_type": "stream",
     "text": [
      "Epoch  48/ 50 -- train_loss: 2.079 -- validation_loss: 178.166\n",
      "Saving model..\n"
     ]
    },
    {
     "name": "stderr",
     "output_type": "stream",
     "text": [
      "100%|██████████████████████████████████| 4/4 [00:00<00:00,  8.33it/s, loss=2.21]\n",
      " 25%|████████▌                         | 1/4 [00:00<00:00,  7.45it/s, loss=1.96]"
     ]
    },
    {
     "name": "stdout",
     "output_type": "stream",
     "text": [
      "Epoch  49/ 50 -- train_loss: 2.027 -- validation_loss: 176.607\n",
      "Saving model..\n"
     ]
    },
    {
     "name": "stderr",
     "output_type": "stream",
     "text": [
      "100%|██████████████████████████████████| 4/4 [00:00<00:00,  7.82it/s, loss=2.18]\n"
     ]
    },
    {
     "name": "stdout",
     "output_type": "stream",
     "text": [
      "Epoch  50/ 50 -- train_loss: 2.147 -- validation_loss: 175.114\n",
      "Saving model..\n"
     ]
    },
    {
     "name": "stderr",
     "output_type": "stream",
     "text": [
      "  0%|▏                              | 1/200 [00:00<00:26,  7.63it/s, loss=63.30]"
     ]
    },
    {
     "name": "stdout",
     "output_type": "stream",
     "text": [
      "###### Stop training after 50 epochs!\n",
      "Validation loss: 175.114\n",
      "Test loss:       173.659\n",
      "Loading dataset..\n",
      "No validation set passed\n",
      "No test set passed\n",
      "Creating directory experiment..\n",
      "Creating BNAF model..\n",
      "Creating optimizer..\n",
      "Creating scheduler..\n",
      "Training..\n"
     ]
    },
    {
     "name": "stderr",
     "output_type": "stream",
     "text": [
      "100%|██████████████████████████████| 200/200 [00:24<00:00,  8.09it/s, loss=4.52]\n",
      "  0%|                                                   | 0/200 [00:00<?, ?it/s]"
     ]
    },
    {
     "name": "stdout",
     "output_type": "stream",
     "text": [
      "Epoch   1/ 50 -- train_loss: 8.946 -- validation_loss: 178.964\n",
      "Saving model..\n"
     ]
    },
    {
     "name": "stderr",
     "output_type": "stream",
     "text": [
      "100%|██████████████████████████████| 200/200 [00:25<00:00,  7.93it/s, loss=2.62]\n",
      "  0%|                                                   | 0/200 [00:00<?, ?it/s]"
     ]
    },
    {
     "name": "stdout",
     "output_type": "stream",
     "text": [
      "Epoch   2/ 50 -- train_loss: 3.300 -- validation_loss: 126.231\n",
      "Saving model..\n"
     ]
    },
    {
     "name": "stderr",
     "output_type": "stream",
     "text": [
      "100%|██████████████████████████████| 200/200 [00:25<00:00,  7.90it/s, loss=2.92]\n",
      "  0%|                                                   | 0/200 [00:00<?, ?it/s]"
     ]
    },
    {
     "name": "stdout",
     "output_type": "stream",
     "text": [
      "Epoch   3/ 50 -- train_loss: 2.815 -- validation_loss: 90.973\n",
      "Saving model..\n"
     ]
    },
    {
     "name": "stderr",
     "output_type": "stream",
     "text": [
      "100%|██████████████████████████████| 200/200 [00:25<00:00,  7.98it/s, loss=3.18]\n",
      "  0%|                                                   | 0/200 [00:00<?, ?it/s]"
     ]
    },
    {
     "name": "stdout",
     "output_type": "stream",
     "text": [
      "Epoch   4/ 50 -- train_loss: 2.528 -- validation_loss: 65.889\n",
      "Saving model..\n"
     ]
    },
    {
     "name": "stderr",
     "output_type": "stream",
     "text": [
      "100%|██████████████████████████████| 200/200 [00:25<00:00,  7.92it/s, loss=2.53]\n",
      "  0%|                                                   | 0/200 [00:00<?, ?it/s]"
     ]
    },
    {
     "name": "stdout",
     "output_type": "stream",
     "text": [
      "Epoch   5/ 50 -- train_loss: 2.359 -- validation_loss: 49.296\n",
      "Saving model..\n"
     ]
    },
    {
     "name": "stderr",
     "output_type": "stream",
     "text": [
      "100%|██████████████████████████████| 200/200 [00:25<00:00,  7.79it/s, loss=1.82]\n",
      "  0%|                                                   | 0/200 [00:00<?, ?it/s]"
     ]
    },
    {
     "name": "stdout",
     "output_type": "stream",
     "text": [
      "Epoch   6/ 50 -- train_loss: 2.262 -- validation_loss: 39.989\n",
      "Saving model..\n"
     ]
    },
    {
     "name": "stderr",
     "output_type": "stream",
     "text": [
      "100%|██████████████████████████████| 200/200 [00:25<00:00,  7.91it/s, loss=2.68]\n",
      "  0%|                                                   | 0/200 [00:00<?, ?it/s]"
     ]
    },
    {
     "name": "stdout",
     "output_type": "stream",
     "text": [
      "Epoch   7/ 50 -- train_loss: 2.184 -- validation_loss: 34.475\n",
      "Saving model..\n"
     ]
    },
    {
     "name": "stderr",
     "output_type": "stream",
     "text": [
      "100%|██████████████████████████████| 200/200 [00:25<00:00,  7.94it/s, loss=3.39]\n",
      "  0%|                                                   | 0/200 [00:00<?, ?it/s]"
     ]
    },
    {
     "name": "stdout",
     "output_type": "stream",
     "text": [
      "Epoch   8/ 50 -- train_loss: 2.044 -- validation_loss: 31.463\n",
      "Saving model..\n"
     ]
    },
    {
     "name": "stderr",
     "output_type": "stream",
     "text": [
      "100%|██████████████████████████████| 200/200 [00:25<00:00,  7.90it/s, loss=2.14]\n",
      "  0%|                                                   | 0/200 [00:00<?, ?it/s]"
     ]
    },
    {
     "name": "stdout",
     "output_type": "stream",
     "text": [
      "Epoch   9/ 50 -- train_loss: 2.021 -- validation_loss: 29.607\n",
      "Saving model..\n"
     ]
    },
    {
     "name": "stderr",
     "output_type": "stream",
     "text": [
      "100%|██████████████████████████████| 200/200 [00:24<00:00,  8.06it/s, loss=1.31]\n",
      "  0%|                                                   | 0/200 [00:00<?, ?it/s]"
     ]
    },
    {
     "name": "stdout",
     "output_type": "stream",
     "text": [
      "Epoch  10/ 50 -- train_loss: 1.948 -- validation_loss: 28.617\n",
      "Saving model..\n"
     ]
    },
    {
     "name": "stderr",
     "output_type": "stream",
     "text": [
      "100%|██████████████████████████████| 200/200 [00:25<00:00,  7.84it/s, loss=1.77]\n",
      "  0%|                                                   | 0/200 [00:00<?, ?it/s]"
     ]
    },
    {
     "name": "stdout",
     "output_type": "stream",
     "text": [
      "Epoch  11/ 50 -- train_loss: 1.889 -- validation_loss: 27.916\n",
      "Saving model..\n"
     ]
    },
    {
     "name": "stderr",
     "output_type": "stream",
     "text": [
      "100%|██████████████████████████████| 200/200 [00:25<00:00,  7.87it/s, loss=2.20]\n",
      "  0%|                                                   | 0/200 [00:00<?, ?it/s]"
     ]
    },
    {
     "name": "stdout",
     "output_type": "stream",
     "text": [
      "Epoch  12/ 50 -- train_loss: 1.853 -- validation_loss: 27.516\n",
      "Saving model..\n"
     ]
    },
    {
     "name": "stderr",
     "output_type": "stream",
     "text": [
      "100%|██████████████████████████████| 200/200 [00:25<00:00,  7.87it/s, loss=1.65]\n",
      "  0%|                                                   | 0/200 [00:00<?, ?it/s]"
     ]
    },
    {
     "name": "stdout",
     "output_type": "stream",
     "text": [
      "Epoch  13/ 50 -- train_loss: 1.771 -- validation_loss: 27.345\n",
      "Saving model..\n"
     ]
    },
    {
     "name": "stderr",
     "output_type": "stream",
     "text": [
      "100%|██████████████████████████████| 200/200 [00:25<00:00,  7.97it/s, loss=0.81]\n",
      "  0%|                                                   | 0/200 [00:00<?, ?it/s]"
     ]
    },
    {
     "name": "stdout",
     "output_type": "stream",
     "text": [
      "Epoch  14/ 50 -- train_loss: 1.769 -- validation_loss: 27.298\n",
      "Saving model..\n"
     ]
    },
    {
     "name": "stderr",
     "output_type": "stream",
     "text": [
      "100%|██████████████████████████████| 200/200 [00:25<00:00,  7.90it/s, loss=1.23]\n",
      "  0%|                                                   | 0/200 [00:00<?, ?it/s]"
     ]
    },
    {
     "name": "stdout",
     "output_type": "stream",
     "text": [
      "Epoch  15/ 50 -- train_loss: 1.730 -- validation_loss: 27.303\n"
     ]
    },
    {
     "name": "stderr",
     "output_type": "stream",
     "text": [
      "100%|██████████████████████████████| 200/200 [00:25<00:00,  7.89it/s, loss=1.43]\n",
      "  0%|                                                   | 0/200 [00:00<?, ?it/s]"
     ]
    },
    {
     "name": "stdout",
     "output_type": "stream",
     "text": [
      "Epoch  16/ 50 -- train_loss: 1.696 -- validation_loss: 27.291\n",
      "Saving model..\n"
     ]
    },
    {
     "name": "stderr",
     "output_type": "stream",
     "text": [
      "100%|██████████████████████████████| 200/200 [00:25<00:00,  7.96it/s, loss=1.35]\n",
      "  0%|                                                   | 0/200 [00:00<?, ?it/s]"
     ]
    },
    {
     "name": "stdout",
     "output_type": "stream",
     "text": [
      "Epoch  17/ 50 -- train_loss: 1.670 -- validation_loss: 27.367\n"
     ]
    },
    {
     "name": "stderr",
     "output_type": "stream",
     "text": [
      "100%|██████████████████████████████| 200/200 [00:25<00:00,  7.88it/s, loss=2.12]\n",
      "  0%|                                                   | 0/200 [00:00<?, ?it/s]"
     ]
    },
    {
     "name": "stdout",
     "output_type": "stream",
     "text": [
      "Epoch  18/ 50 -- train_loss: 1.623 -- validation_loss: 27.452\n"
     ]
    },
    {
     "name": "stderr",
     "output_type": "stream",
     "text": [
      "100%|██████████████████████████████| 200/200 [00:24<00:00,  8.16it/s, loss=0.89]\n",
      "  0%|                                                   | 0/200 [00:00<?, ?it/s]"
     ]
    },
    {
     "name": "stdout",
     "output_type": "stream",
     "text": [
      "Epoch  19/ 50 -- train_loss: 1.576 -- validation_loss: 27.641\n"
     ]
    },
    {
     "name": "stderr",
     "output_type": "stream",
     "text": [
      "100%|██████████████████████████████| 200/200 [00:25<00:00,  7.89it/s, loss=1.51]\n",
      "  0%|                                                   | 0/200 [00:00<?, ?it/s]"
     ]
    },
    {
     "name": "stdout",
     "output_type": "stream",
     "text": [
      "Epoch  20/ 50 -- train_loss: 1.597 -- validation_loss: 27.863\n"
     ]
    },
    {
     "name": "stderr",
     "output_type": "stream",
     "text": [
      "100%|██████████████████████████████| 200/200 [00:25<00:00,  7.92it/s, loss=1.28]\n",
      "  0%|                                                   | 0/200 [00:00<?, ?it/s]"
     ]
    },
    {
     "name": "stdout",
     "output_type": "stream",
     "text": [
      "Epoch  21/ 50 -- train_loss: 1.547 -- validation_loss: 27.929\n"
     ]
    },
    {
     "name": "stderr",
     "output_type": "stream",
     "text": [
      "100%|██████████████████████████████| 200/200 [00:25<00:00,  7.92it/s, loss=0.77]\n",
      "  0%|                                                   | 0/200 [00:00<?, ?it/s]"
     ]
    },
    {
     "name": "stdout",
     "output_type": "stream",
     "text": [
      "Epoch  22/ 50 -- train_loss: 1.582 -- validation_loss: 28.067\n"
     ]
    },
    {
     "name": "stderr",
     "output_type": "stream",
     "text": [
      "100%|██████████████████████████████| 200/200 [00:25<00:00,  7.88it/s, loss=1.21]\n",
      "  0%|                                                   | 0/200 [00:00<?, ?it/s]"
     ]
    },
    {
     "name": "stdout",
     "output_type": "stream",
     "text": [
      "Epoch  23/ 50 -- train_loss: 1.621 -- validation_loss: 28.075\n"
     ]
    },
    {
     "name": "stderr",
     "output_type": "stream",
     "text": [
      "100%|██████████████████████████████| 200/200 [00:25<00:00,  7.90it/s, loss=2.46]\n",
      "  0%|                                                   | 0/200 [00:00<?, ?it/s]"
     ]
    },
    {
     "name": "stdout",
     "output_type": "stream",
     "text": [
      "Epoch  24/ 50 -- train_loss: 1.445 -- validation_loss: 28.180\n"
     ]
    },
    {
     "name": "stderr",
     "output_type": "stream",
     "text": [
      "100%|██████████████████████████████| 200/200 [00:25<00:00,  7.86it/s, loss=1.16]\n",
      "  0%|                                                   | 0/200 [00:00<?, ?it/s]"
     ]
    },
    {
     "name": "stdout",
     "output_type": "stream",
     "text": [
      "Epoch  25/ 50 -- train_loss: 1.470 -- validation_loss: 28.350\n"
     ]
    },
    {
     "name": "stderr",
     "output_type": "stream",
     "text": [
      "100%|██████████████████████████████| 200/200 [00:25<00:00,  7.85it/s, loss=1.08]\n",
      "  0%|                                                   | 0/200 [00:00<?, ?it/s]"
     ]
    },
    {
     "name": "stdout",
     "output_type": "stream",
     "text": [
      "Epoch  26/ 50 -- train_loss: 1.427 -- validation_loss: 28.479\n"
     ]
    },
    {
     "name": "stderr",
     "output_type": "stream",
     "text": [
      "100%|██████████████████████████████| 200/200 [00:25<00:00,  7.91it/s, loss=1.74]\n",
      "  0%|                                                   | 0/200 [00:00<?, ?it/s]"
     ]
    },
    {
     "name": "stdout",
     "output_type": "stream",
     "text": [
      "Epoch  27/ 50 -- train_loss: 1.359 -- validation_loss: 28.622\n"
     ]
    },
    {
     "name": "stderr",
     "output_type": "stream",
     "text": [
      "100%|██████████████████████████████| 200/200 [00:25<00:00,  7.88it/s, loss=1.59]\n",
      "  0%|                                                   | 0/200 [00:00<?, ?it/s]"
     ]
    },
    {
     "name": "stdout",
     "output_type": "stream",
     "text": [
      "Epoch  28/ 50 -- train_loss: 1.361 -- validation_loss: 28.742\n"
     ]
    },
    {
     "name": "stderr",
     "output_type": "stream",
     "text": [
      "100%|██████████████████████████████| 200/200 [00:25<00:00,  7.86it/s, loss=1.11]\n",
      "  0%|                                                   | 0/200 [00:00<?, ?it/s]"
     ]
    },
    {
     "name": "stdout",
     "output_type": "stream",
     "text": [
      "Epoch  29/ 50 -- train_loss: 1.464 -- validation_loss: 28.745\n"
     ]
    },
    {
     "name": "stderr",
     "output_type": "stream",
     "text": [
      "100%|██████████████████████████████| 200/200 [00:25<00:00,  7.87it/s, loss=2.90]\n",
      "  0%|                                                   | 0/200 [00:00<?, ?it/s]"
     ]
    },
    {
     "name": "stdout",
     "output_type": "stream",
     "text": [
      "Epoch  30/ 50 -- train_loss: 1.308 -- validation_loss: 28.865\n"
     ]
    },
    {
     "name": "stderr",
     "output_type": "stream",
     "text": [
      "100%|██████████████████████████████| 200/200 [00:27<00:00,  7.24it/s, loss=1.23]\n",
      "  0%|                                                   | 0/200 [00:00<?, ?it/s]"
     ]
    },
    {
     "name": "stdout",
     "output_type": "stream",
     "text": [
      "Epoch  31/ 50 -- train_loss: 1.289 -- validation_loss: 29.157\n"
     ]
    },
    {
     "name": "stderr",
     "output_type": "stream",
     "text": [
      "100%|██████████████████████████████| 200/200 [00:28<00:00,  7.14it/s, loss=0.91]\n",
      "  0%|                                                   | 0/200 [00:00<?, ?it/s]"
     ]
    },
    {
     "name": "stdout",
     "output_type": "stream",
     "text": [
      "Epoch  32/ 50 -- train_loss: 1.390 -- validation_loss: 29.207\n"
     ]
    },
    {
     "name": "stderr",
     "output_type": "stream",
     "text": [
      "100%|██████████████████████████████| 200/200 [00:26<00:00,  7.65it/s, loss=2.01]\n",
      "  0%|                                                   | 0/200 [00:00<?, ?it/s]"
     ]
    },
    {
     "name": "stdout",
     "output_type": "stream",
     "text": [
      "Epoch  33/ 50 -- train_loss: 1.359 -- validation_loss: 29.316\n"
     ]
    },
    {
     "name": "stderr",
     "output_type": "stream",
     "text": [
      "100%|██████████████████████████████| 200/200 [00:25<00:00,  7.88it/s, loss=2.00]\n",
      "  0%|                                                   | 0/200 [00:00<?, ?it/s]"
     ]
    },
    {
     "name": "stdout",
     "output_type": "stream",
     "text": [
      "Epoch  34/ 50 -- train_loss: 1.224 -- validation_loss: 29.469\n"
     ]
    },
    {
     "name": "stderr",
     "output_type": "stream",
     "text": [
      "100%|██████████████████████████████| 200/200 [00:25<00:00,  7.88it/s, loss=1.29]\n",
      "  0%|                                                   | 0/200 [00:00<?, ?it/s]"
     ]
    },
    {
     "name": "stdout",
     "output_type": "stream",
     "text": [
      "Epoch  35/ 50 -- train_loss: 1.345 -- validation_loss: 29.477\n"
     ]
    },
    {
     "name": "stderr",
     "output_type": "stream",
     "text": [
      "100%|██████████████████████████████| 200/200 [00:26<00:00,  7.52it/s, loss=0.75]\n",
      "  0%|                                                   | 0/200 [00:00<?, ?it/s]"
     ]
    },
    {
     "name": "stdout",
     "output_type": "stream",
     "text": [
      "Epoch  36/ 50 -- train_loss: 1.179 -- validation_loss: 29.596\n"
     ]
    },
    {
     "name": "stderr",
     "output_type": "stream",
     "text": [
      "100%|██████████████████████████████| 200/200 [00:25<00:00,  7.85it/s, loss=2.11]\n",
      "  0%|                                                   | 0/200 [00:00<?, ?it/s]"
     ]
    },
    {
     "name": "stdout",
     "output_type": "stream",
     "text": [
      "Epoch  37/ 50 -- train_loss: 1.190 -- validation_loss: 29.810\n",
      "Epoch 00037: reducing learning rate of group 0 to 5.0000e-03.\n"
     ]
    },
    {
     "name": "stderr",
     "output_type": "stream",
     "text": [
      "100%|██████████████████████████████| 200/200 [00:25<00:00,  7.86it/s, loss=0.13]\n",
      "  0%|                                                   | 0/200 [00:00<?, ?it/s]"
     ]
    },
    {
     "name": "stdout",
     "output_type": "stream",
     "text": [
      "Epoch  38/ 50 -- train_loss: 0.968 -- validation_loss: 30.121\n"
     ]
    },
    {
     "name": "stderr",
     "output_type": "stream",
     "text": [
      "100%|██████████████████████████████| 200/200 [00:25<00:00,  7.86it/s, loss=1.84]\n",
      "  0%|                                                   | 0/200 [00:00<?, ?it/s]"
     ]
    },
    {
     "name": "stdout",
     "output_type": "stream",
     "text": [
      "Epoch  39/ 50 -- train_loss: 0.893 -- validation_loss: 30.445\n"
     ]
    },
    {
     "name": "stderr",
     "output_type": "stream",
     "text": [
      "100%|██████████████████████████████| 200/200 [00:25<00:00,  7.89it/s, loss=1.93]\n",
      "  0%|                                                   | 0/200 [00:00<?, ?it/s]"
     ]
    },
    {
     "name": "stdout",
     "output_type": "stream",
     "text": [
      "Epoch  40/ 50 -- train_loss: 0.883 -- validation_loss: 30.776\n"
     ]
    },
    {
     "name": "stderr",
     "output_type": "stream",
     "text": [
      "100%|██████████████████████████████| 200/200 [00:25<00:00,  7.90it/s, loss=1.22]\n",
      "  0%|                                                   | 0/200 [00:00<?, ?it/s]"
     ]
    },
    {
     "name": "stdout",
     "output_type": "stream",
     "text": [
      "Epoch  41/ 50 -- train_loss: 0.879 -- validation_loss: 30.981\n"
     ]
    },
    {
     "name": "stderr",
     "output_type": "stream",
     "text": [
      "100%|██████████████████████████████| 200/200 [00:25<00:00,  7.89it/s, loss=0.88]\n",
      "  0%|                                                   | 0/200 [00:00<?, ?it/s]"
     ]
    },
    {
     "name": "stdout",
     "output_type": "stream",
     "text": [
      "Epoch  42/ 50 -- train_loss: 0.825 -- validation_loss: 31.212\n"
     ]
    },
    {
     "name": "stderr",
     "output_type": "stream",
     "text": [
      "100%|██████████████████████████████| 200/200 [00:25<00:00,  7.87it/s, loss=0.82]\n",
      "  0%|                                                   | 0/200 [00:00<?, ?it/s]"
     ]
    },
    {
     "name": "stdout",
     "output_type": "stream",
     "text": [
      "Epoch  43/ 50 -- train_loss: 0.845 -- validation_loss: 31.408\n"
     ]
    },
    {
     "name": "stderr",
     "output_type": "stream",
     "text": [
      "100%|██████████████████████████████| 200/200 [00:24<00:00,  8.04it/s, loss=1.34]\n",
      "  0%|                                                   | 0/200 [00:00<?, ?it/s]"
     ]
    },
    {
     "name": "stdout",
     "output_type": "stream",
     "text": [
      "Epoch  44/ 50 -- train_loss: 0.812 -- validation_loss: 31.501\n"
     ]
    },
    {
     "name": "stderr",
     "output_type": "stream",
     "text": [
      "100%|██████████████████████████████| 200/200 [00:24<00:00,  8.12it/s, loss=0.65]\n",
      "  0%|                                                   | 0/200 [00:00<?, ?it/s]"
     ]
    },
    {
     "name": "stdout",
     "output_type": "stream",
     "text": [
      "Epoch  45/ 50 -- train_loss: 0.884 -- validation_loss: 31.643\n"
     ]
    },
    {
     "name": "stderr",
     "output_type": "stream",
     "text": [
      "100%|██████████████████████████████| 200/200 [00:25<00:00,  7.86it/s, loss=0.40]\n",
      "  0%|                                                   | 0/200 [00:00<?, ?it/s]"
     ]
    },
    {
     "name": "stdout",
     "output_type": "stream",
     "text": [
      "Epoch  46/ 50 -- train_loss: 0.796 -- validation_loss: 31.738\n"
     ]
    },
    {
     "name": "stderr",
     "output_type": "stream",
     "text": [
      "100%|██████████████████████████████| 200/200 [00:25<00:00,  7.90it/s, loss=1.42]\n",
      "  0%|                                                   | 0/200 [00:00<?, ?it/s]"
     ]
    },
    {
     "name": "stdout",
     "output_type": "stream",
     "text": [
      "Epoch  47/ 50 -- train_loss: 0.827 -- validation_loss: 31.877\n"
     ]
    },
    {
     "name": "stderr",
     "output_type": "stream",
     "text": [
      "100%|██████████████████████████████| 200/200 [00:25<00:00,  7.95it/s, loss=0.23]\n",
      "  0%|                                                   | 0/200 [00:00<?, ?it/s]"
     ]
    },
    {
     "name": "stdout",
     "output_type": "stream",
     "text": [
      "Epoch  48/ 50 -- train_loss: 0.807 -- validation_loss: 31.886\n"
     ]
    },
    {
     "name": "stderr",
     "output_type": "stream",
     "text": [
      "100%|██████████████████████████████| 200/200 [00:25<00:00,  7.85it/s, loss=1.17]\n",
      "  0%|                                                   | 0/200 [00:00<?, ?it/s]"
     ]
    },
    {
     "name": "stdout",
     "output_type": "stream",
     "text": [
      "Epoch  49/ 50 -- train_loss: 0.791 -- validation_loss: 31.936\n"
     ]
    },
    {
     "name": "stderr",
     "output_type": "stream",
     "text": [
      "100%|██████████████████████████████| 200/200 [00:25<00:00,  7.91it/s, loss=1.57]\n"
     ]
    },
    {
     "name": "stdout",
     "output_type": "stream",
     "text": [
      "Epoch  50/ 50 -- train_loss: 0.791 -- validation_loss: 32.006\n",
      "###### Stop training after 50 epochs!\n",
      "Validation loss: 32.006\n",
      "Test loss:       32.104\n",
      "Training Size 100:\n",
      "Training Epoch 2000: MIA Performance = {'ablated_eq1': {'accuracy': 0.6, 'aucroc': 0.6441000000000001}, 'ablated_eq2': {'accuracy': 0.6, 'aucroc': 0.6553000000000001}, 'LOGAN_D1': {'accuracy': 0.44, 'aucroc': 0.43200000000000005}, 'MC': {'accuracy': 0.57, 'aucroc': 0.5658}, 'gan_leaks': {'accuracy': 0.57, 'aucroc': 0.5791000000000001}, 'gan_leaks_cal': {'accuracy': 0.56, 'aucroc': 0.5911}, 'LOGAN_0': {'accuracy': 0.49, 'aucroc': 0.5009}, 'eq1': {'accuracy': 0.5, 'aucroc': 0.5}, 'domias': {'accuracy': 0.5, 'aucroc': 0.5}}\n",
      "\n",
      "Training Size 500:\n",
      "Training Epoch 2000: MIA Performance = {'ablated_eq1': {'accuracy': 0.522, 'aucroc': 0.529604}, 'ablated_eq2': {'accuracy': 0.528, 'aucroc': 0.5511999999999999}, 'LOGAN_D1': {'accuracy': 0.482, 'aucroc': 0.4833}, 'MC': {'accuracy': 0.536, 'aucroc': 0.5419560000000001}, 'gan_leaks': {'accuracy': 0.536, 'aucroc': 0.54052}, 'gan_leaks_cal': {'accuracy': 0.54, 'aucroc': 0.5455720000000001}, 'LOGAN_0': {'accuracy': 0.492, 'aucroc': 0.4892}, 'eq1': {'accuracy': 0.5, 'aucroc': 0.5}, 'domias': {'accuracy': 0.5, 'aucroc': 0.5}}\n",
      "\n",
      "Training Size 1000:\n",
      "Training Epoch 2000: MIA Performance = {'ablated_eq1': {'accuracy': 0.52, 'aucroc': 0.5277419999999999}, 'ablated_eq2': {'accuracy': 0.52, 'aucroc': 0.521779}, 'LOGAN_D1': {'accuracy': 0.482, 'aucroc': 0.4898695}, 'MC': {'accuracy': 0.523, 'aucroc': 0.5233725}, 'gan_leaks': {'accuracy': 0.523, 'aucroc': 0.5221929999999999}, 'gan_leaks_cal': {'accuracy': 0.516, 'aucroc': 0.520195}, 'LOGAN_0': {'accuracy': 0.507, 'aucroc': 0.5061505000000001}, 'eq1': {'accuracy': 0.5, 'aucroc': 0.5}, 'domias': {'accuracy': 0.5, 'aucroc': 0.5}}\n",
      "\n"
     ]
    }
   ],
   "source": [
    "def get_generator(\n",
    "    gan_method: str = \"CTGAN\",\n",
    "    epochs: int = 1000,\n",
    "    seed: int = 0,\n",
    ") -> GeneratorInterface:\n",
    "    class LocalGenerator(GeneratorInterface):\n",
    "        def __init__(self) -> None:\n",
    "            if gan_method == \"TVAE\":\n",
    "                syn_model = TVAESynthesizer(metadata, epochs=epochs)\n",
    "            elif gan_method == \"CTGAN\":\n",
    "                syn_model = CTGAN(epochs=epochs)\n",
    "            elif gan_method == \"KDE\":\n",
    "                syn_model = None\n",
    "            else:\n",
    "                raise RuntimeError()\n",
    "            self.method = gan_method\n",
    "            self.model = syn_model\n",
    "                \n",
    "\n",
    "        def fit(self, data: pd.DataFrame) -> \"LocalGenerator\":\n",
    "            if self.method == \"KDE\":\n",
    "                self.model = stats.gaussian_kde(np.transpose(data))\n",
    "            else:\n",
    "                self.model.fit(data)\n",
    "            return self\n",
    "\n",
    "        def generate(self, count: int) -> pd.DataFrame:\n",
    "            \n",
    "            if gan_method == \"KDE\":\n",
    "                samples = pd.DataFrame(self.model.resample(count).transpose(1, 0))\n",
    "            elif gan_method == \"TVAE\":\n",
    "                samples = self.model.sample(count)\n",
    "            elif gan_method == \"CTGAN\":\n",
    "                samples = self.model.generate(count)\n",
    "            else:\n",
    "                raise RuntimeError()\n",
    "\n",
    "            return samples\n",
    "            \n",
    "            #return self.model.sample(count)\n",
    "\n",
    "    return LocalGenerator()\n",
    "\n",
    "\n",
    "#Loading metadata from dataset for use in TVAESynthesizer\n",
    "dataset = get_dataset()\n",
    "df_dataset = pd.DataFrame(dataset)\n",
    "for i, col in enumerate(df_dataset.columns):\n",
    "    df_dataset.rename(columns={col: f'{i}'}, inplace=True)\n",
    "df_dataset\n",
    "    \n",
    "\n",
    "    \n",
    "    \n",
    "from sdv.metadata import SingleTableMetadata\n",
    "\n",
    "metadata = SingleTableMetadata()\n",
    "metadata.detect_from_dataframe(data=df_dataset)\n",
    "\n",
    "\n",
    "\n",
    "\n",
    "\n",
    "\n",
    "\"\"\"\n",
    "Args:\n",
    "    generator: GeneratorInterface\n",
    "        Generator with the `fit` and `generate` methods. The generator MUST not be fitted.\n",
    "    dataset: int\n",
    "        The evaluation dataset, used to derive the training and test datasets.\n",
    "    training_size: int\n",
    "        The split for the training (member) dataset out of `dataset`\n",
    "    reference_size: int\n",
    "        The split for the reference dataset out of `dataset`.\n",
    "    training_epochs: int\n",
    "        Training epochs\n",
    "    synthetic_sizes: List[int]\n",
    "        For how many synthetic samples to test the attacks.\n",
    "\n",
    "\"\"\"\n",
    "\n",
    "\"\"\"\n",
    "CTGAN Args:\n",
    "\n",
    "embedding_dim: int = 128,\n",
    "generator_dim: Tuple = (256, 256),\n",
    "discriminator_dim: Tuple = (256, 256),\n",
    "generator_lr: float = 2e-4,\n",
    "generator_decay: float = 1e-6,\n",
    "discriminator_lr: float = 2e-4,\n",
    "discriminator_decay: float = 1e-6,\n",
    "batch_size: int = 500,\n",
    "discriminator_steps: int = 1,\n",
    "log_frequency: bool = True,\n",
    "verbose: bool = False,\n",
    "epochs: int = 300,\n",
    "pac: int = 1,\n",
    "cuda: bool = True,\n",
    "\n",
    "\n",
    "\n",
    "\"\"\"\n",
    "\n",
    "\n",
    "# mem_set_size = 1000 -> originally what training size was\n",
    "reference_set_size = 10000 #held out set\n",
    "training_epochs = [2000]\n",
    "training_sizes = [100, 500, 1000]\n",
    "#synthetic_sizes = [200]\n",
    "density_estimator = \"bnaf\"  # prior, kde, bnaf\n",
    "gen_size = 200 #same as synthetic_sizes\n",
    "\n",
    "method = \"TVAE\"\n",
    "\n",
    "results={}\n",
    "    \n",
    "for training_size in training_sizes:\n",
    "    # Initialize the result dictionary for the current training size\n",
    "    size_results = {}\n",
    "\n",
    "    for training_epoch in training_epochs:\n",
    "        generator = get_generator(\n",
    "            gan_method=method,\n",
    "            epochs=training_epoch,\n",
    "        )\n",
    "\n",
    "        perf = evaluate_performance(\n",
    "            generator,\n",
    "            dataset,\n",
    "            training_size,\n",
    "            reference_set_size,\n",
    "            training_epochs=training_epoch,\n",
    "            synthetic_sizes=[gen_size],\n",
    "            density_estimator=density_estimator,\n",
    "        )\n",
    "\n",
    "        # Store the MIA performance for the current training size and epoch\n",
    "        size_results[training_epoch] = perf[gen_size][\"MIA_performance\"]\n",
    "\n",
    "    # Store the results for the current training size\n",
    "    results[training_size] = size_results\n",
    "\n",
    "\n",
    "# Print the results\n",
    "for training_size, size_results in results.items():\n",
    "    print(f\"Training Size {training_size}:\")\n",
    "    for training_epoch, mia_performance in size_results.items():\n",
    "        print(f\"Training Epoch {training_epoch}: MIA Performance = {mia_performance}\")\n",
    "    print()\n"
   ]
  },
  {
   "cell_type": "code",
   "execution_count": null,
   "metadata": {},
   "outputs": [],
   "source": []
  }
 ],
 "metadata": {
  "kernelspec": {
   "display_name": "Python 3",
   "language": "python",
   "name": "python3"
  },
  "language_info": {
   "codemirror_mode": {
    "name": "ipython",
    "version": 3
   },
   "file_extension": ".py",
   "mimetype": "text/x-python",
   "name": "python",
   "nbconvert_exporter": "python",
   "pygments_lexer": "ipython3",
   "version": "3.7.6"
  }
 },
 "nbformat": 4,
 "nbformat_minor": 4
}
